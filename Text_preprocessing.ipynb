{
  "cells": [
    {
      "cell_type": "code",
      "execution_count": null,
      "metadata": {
        "colab": {
          "base_uri": "https://localhost:8080/"
        },
        "id": "RgTiqKcWP128",
        "outputId": "1646a8d2-9feb-4cb3-b13c-348b3f53360f"
      },
      "outputs": [
        {
          "output_type": "stream",
          "name": "stdout",
          "text": [
            "Mounted at /content/drive\n"
          ]
        }
      ],
      "source": [
        "from google.colab import drive\n",
        "\n",
        "drive.mount('/content/drive')\n"
      ]
    },
    {
      "cell_type": "code",
      "execution_count": null,
      "metadata": {
        "id": "9Q6Fy3jjGfWY"
      },
      "outputs": [],
      "source": [
        "import string\n",
        "import numpy as np\n",
        "import pandas as pd\n",
        "from numpy import array\n",
        "from pickle import load\n",
        "\n",
        "from PIL import Image\n",
        "import pickle\n",
        "from collections import Counter\n",
        "import matplotlib.pyplot as plt\n",
        "\n",
        "import sys, time, os, warnings\n",
        "warnings.filterwarnings(\"ignore\")\n",
        "import re\n",
        "\n",
        "import keras\n",
        "import tensorflow as tf\n",
        "from tqdm import tqdm\n",
        "from nltk.translate.bleu_score import sentence_bleu\n",
        "\n",
        "import os\n",
        "import pickle\n",
        "import numpy as np  \n",
        "import pandas as pd  \n",
        "\n",
        "from tensorflow.keras.applications.vgg16 import VGG16, preprocess_input\n",
        "from tensorflow.keras.preprocessing.image import load_img, img_to_array\n",
        "from tensorflow.keras.preprocessing.text import Tokenizer\n",
        "from tensorflow.keras.preprocessing.sequence import pad_sequences\n",
        "from tensorflow.keras.models import Model\n",
        "from tensorflow.keras.utils import to_categorical, plot_model\n",
        "from tensorflow.keras.layers import Input, Dense, LSTM, Dropout, Embedding, add\n",
        "\n",
        "from sklearn.utils import shuffle\n",
        "from sklearn.model_selection import train_test_split\n",
        "from sklearn.utils import shuffle\n",
        "\n",
        "import tensorflow as tf\n",
        "\n",
        "# You'll generate plots of attention in order to see which parts of an image\n",
        "# our model focuses on during captioning\n",
        "import matplotlib.pyplot as plte\n",
        "\n",
        "import tensorflow as tf\n",
        "\n",
        "# You'll generate plots of attention in order to see which parts of an image\n",
        "# our model focuses on during captioning\n",
        "import matplotlib.pyplot as plt\n",
        "\n",
        "# Scikit-learn includes many helpful utilities\n",
        "from sklearn.model_selection import train_test_split\n",
        "from sklearn.utils import shuffle\n",
        "# n-gram individual BLEU\n",
        "from nltk.translate.bleu_score import sentence_bleu\n",
        "import re\n",
        "import numpy as np\n",
        "import os\n",
        "import time\n",
        "import json\n",
        "from glob import glob\n",
        "from PIL import Image\n",
        "import pickle"
      ]
    },
    {
      "cell_type": "code",
      "source": [
        "image_path = \"/content/drive/MyDrive/Bangla Image Caption.zip (Unzipped Files)/fm dataset/IMAGE/\"\n",
        "captions_dir = \"/content/drive/MyDrive/Bangla Image Caption.zip (Unzipped Files)/fm dataset/\"\n",
        "feature_dir = '/content/drive/MyDrive/Bangla Image Caption.zip (Unzipped Files)/fm dataset'\n",
        "pngs = os.listdir(image_path)\n",
        "\n",
        "print(\"Total Images in Dataset = {}\".format(len(pngs)))"
      ],
      "metadata": {
        "colab": {
          "base_uri": "https://localhost:8080/"
        },
        "id": "DJCGCW7Vfmbe",
        "outputId": "e35e1223-fc64-4dad-d90c-c60f4b011a20"
      },
      "execution_count": null,
      "outputs": [
        {
          "output_type": "stream",
          "name": "stdout",
          "text": [
            "Total Images in Dataset = 6814\n"
          ]
        }
      ]
    },
    {
      "cell_type": "code",
      "execution_count": null,
      "metadata": {
        "colab": {
          "base_uri": "https://localhost:8080/"
        },
        "id": "j3sXiXfeEohw",
        "outputId": "2ac6985f-33db-47b6-8d64-5bcf72ac4c97"
      },
      "outputs": [
        {
          "output_type": "stream",
          "name": "stdout",
          "text": [
            "/content/drive/MyDrive/Bangla Image Caption.zip (Unzipped Files)/Bangla Image Caption/Images/1501001.jpg\n",
            "/content/drive/MyDrive/Bangla Image Caption.zip (Unzipped Files)/Bangla Image Caption/Images/1501002.jpg\n",
            "/content/drive/MyDrive/Bangla Image Caption.zip (Unzipped Files)/Bangla Image Caption/Images/1501003.jpg\n",
            "/content/drive/MyDrive/Bangla Image Caption.zip (Unzipped Files)/Bangla Image Caption/Images/1501004.jpg\n",
            "/content/drive/MyDrive/Bangla Image Caption.zip (Unzipped Files)/Bangla Image Caption/Images/1501005.jpg\n",
            "/content/drive/MyDrive/Bangla Image Caption.zip (Unzipped Files)/Bangla Image Caption/Images/1502001.jpg\n",
            "/content/drive/MyDrive/Bangla Image Caption.zip (Unzipped Files)/Bangla Image Caption/Images/1502002.jpg\n",
            "/content/drive/MyDrive/Bangla Image Caption.zip (Unzipped Files)/Bangla Image Caption/Images/1502003.jpg\n",
            "/content/drive/MyDrive/Bangla Image Caption.zip (Unzipped Files)/Bangla Image Caption/Images/1502004.jpg\n",
            "/content/drive/MyDrive/Bangla Image Caption.zip (Unzipped Files)/Bangla Image Caption/Images/1502005.jpg\n",
            "/content/drive/MyDrive/Bangla Image Caption.zip (Unzipped Files)/Bangla Image Caption/Images/1502006.jpg\n",
            "/content/drive/MyDrive/Bangla Image Caption.zip (Unzipped Files)/Bangla Image Caption/Images/1502007.jpg\n",
            "/content/drive/MyDrive/Bangla Image Caption.zip (Unzipped Files)/Bangla Image Caption/Images/1502008.jpg\n",
            "/content/drive/MyDrive/Bangla Image Caption.zip (Unzipped Files)/Bangla Image Caption/Images/1503001.jpg\n",
            "/content/drive/MyDrive/Bangla Image Caption.zip (Unzipped Files)/Bangla Image Caption/Images/1503002.jpg\n",
            "/content/drive/MyDrive/Bangla Image Caption.zip (Unzipped Files)/Bangla Image Caption/Images/1503003.jpg\n",
            "/content/drive/MyDrive/Bangla Image Caption.zip (Unzipped Files)/Bangla Image Caption/Images/1503005.jpg\n",
            "/content/drive/MyDrive/Bangla Image Caption.zip (Unzipped Files)/Bangla Image Caption/Images/1503006.jpg\n",
            "/content/drive/MyDrive/Bangla Image Caption.zip (Unzipped Files)/Bangla Image Caption/Images/1503007.jpg\n",
            "/content/drive/MyDrive/Bangla Image Caption.zip (Unzipped Files)/Bangla Image Caption/Images/1503008.jpg\n",
            "/content/drive/MyDrive/Bangla Image Caption.zip (Unzipped Files)/Bangla Image Caption/Images/1503009.jpg\n",
            "/content/drive/MyDrive/Bangla Image Caption.zip (Unzipped Files)/Bangla Image Caption/Images/1504001.jpg\n",
            "/content/drive/MyDrive/Bangla Image Caption.zip (Unzipped Files)/Bangla Image Caption/Images/1504002.jpg\n",
            "/content/drive/MyDrive/Bangla Image Caption.zip (Unzipped Files)/Bangla Image Caption/Images/1504004.jpg\n",
            "/content/drive/MyDrive/Bangla Image Caption.zip (Unzipped Files)/Bangla Image Caption/Images/1504005.jpg\n",
            "/content/drive/MyDrive/Bangla Image Caption.zip (Unzipped Files)/Bangla Image Caption/Images/1504007.jpg\n",
            "/content/drive/MyDrive/Bangla Image Caption.zip (Unzipped Files)/Bangla Image Caption/Images/1505001.jpg\n",
            "/content/drive/MyDrive/Bangla Image Caption.zip (Unzipped Files)/Bangla Image Caption/Images/1504008.jpg\n",
            "/content/drive/MyDrive/Bangla Image Caption.zip (Unzipped Files)/Bangla Image Caption/Images/1505002.jpg\n",
            "/content/drive/MyDrive/Bangla Image Caption.zip (Unzipped Files)/Bangla Image Caption/Images/1505003.jpg\n",
            "/content/drive/MyDrive/Bangla Image Caption.zip (Unzipped Files)/Bangla Image Caption/Images/1506002.jpg\n",
            "/content/drive/MyDrive/Bangla Image Caption.zip (Unzipped Files)/Bangla Image Caption/Images/1505004.jpg\n",
            "/content/drive/MyDrive/Bangla Image Caption.zip (Unzipped Files)/Bangla Image Caption/Images/1506001.jpg\n",
            "/content/drive/MyDrive/Bangla Image Caption.zip (Unzipped Files)/Bangla Image Caption/Images/1505005.jpg\n",
            "/content/drive/MyDrive/Bangla Image Caption.zip (Unzipped Files)/Bangla Image Caption/Images/1506003.jpg\n",
            "/content/drive/MyDrive/Bangla Image Caption.zip (Unzipped Files)/Bangla Image Caption/Images/1507001.jpg\n",
            "/content/drive/MyDrive/Bangla Image Caption.zip (Unzipped Files)/Bangla Image Caption/Images/1506004.jpg\n",
            "/content/drive/MyDrive/Bangla Image Caption.zip (Unzipped Files)/Bangla Image Caption/Images/1506005.jpg\n",
            "/content/drive/MyDrive/Bangla Image Caption.zip (Unzipped Files)/Bangla Image Caption/Images/1507002.jpg\n",
            "/content/drive/MyDrive/Bangla Image Caption.zip (Unzipped Files)/Bangla Image Caption/Images/1507003.jpg\n",
            "/content/drive/MyDrive/Bangla Image Caption.zip (Unzipped Files)/Bangla Image Caption/Images/1507006.jpg\n",
            "/content/drive/MyDrive/Bangla Image Caption.zip (Unzipped Files)/Bangla Image Caption/Images/1507005.jpg\n",
            "/content/drive/MyDrive/Bangla Image Caption.zip (Unzipped Files)/Bangla Image Caption/Images/1507004.jpg\n",
            "/content/drive/MyDrive/Bangla Image Caption.zip (Unzipped Files)/Bangla Image Caption/Images/1507007.jpg\n",
            "/content/drive/MyDrive/Bangla Image Caption.zip (Unzipped Files)/Bangla Image Caption/Images/1507008.jpg\n",
            "/content/drive/MyDrive/Bangla Image Caption.zip (Unzipped Files)/Bangla Image Caption/Images/1508001.jpg\n",
            "/content/drive/MyDrive/Bangla Image Caption.zip (Unzipped Files)/Bangla Image Caption/Images/1508002.jpg\n",
            "/content/drive/MyDrive/Bangla Image Caption.zip (Unzipped Files)/Bangla Image Caption/Images/1508003.jpg\n",
            "/content/drive/MyDrive/Bangla Image Caption.zip (Unzipped Files)/Bangla Image Caption/Images/1508004.jpg\n",
            "/content/drive/MyDrive/Bangla Image Caption.zip (Unzipped Files)/Bangla Image Caption/Images/1508005.jpg\n",
            "/content/drive/MyDrive/Bangla Image Caption.zip (Unzipped Files)/Bangla Image Caption/Images/1508006.jpg\n",
            "/content/drive/MyDrive/Bangla Image Caption.zip (Unzipped Files)/Bangla Image Caption/Images/1509001.jpg\n",
            "/content/drive/MyDrive/Bangla Image Caption.zip (Unzipped Files)/Bangla Image Caption/Images/1509002.jpg\n",
            "/content/drive/MyDrive/Bangla Image Caption.zip (Unzipped Files)/Bangla Image Caption/Images/1509003.jpg\n",
            "/content/drive/MyDrive/Bangla Image Caption.zip (Unzipped Files)/Bangla Image Caption/Images/1509004.jpg\n",
            "/content/drive/MyDrive/Bangla Image Caption.zip (Unzipped Files)/Bangla Image Caption/Images/1509005.jpg\n",
            "/content/drive/MyDrive/Bangla Image Caption.zip (Unzipped Files)/Bangla Image Caption/Images/1509006.jpg\n",
            "/content/drive/MyDrive/Bangla Image Caption.zip (Unzipped Files)/Bangla Image Caption/Images/1509007.jpg\n",
            "/content/drive/MyDrive/Bangla Image Caption.zip (Unzipped Files)/Bangla Image Caption/Images/1509008.jpg\n",
            "/content/drive/MyDrive/Bangla Image Caption.zip (Unzipped Files)/Bangla Image Caption/Images/1510004.jpg\n",
            "/content/drive/MyDrive/Bangla Image Caption.zip (Unzipped Files)/Bangla Image Caption/Images/1510005.jpg\n",
            "/content/drive/MyDrive/Bangla Image Caption.zip (Unzipped Files)/Bangla Image Caption/Images/1510006.jpg\n",
            "/content/drive/MyDrive/Bangla Image Caption.zip (Unzipped Files)/Bangla Image Caption/Images/1510007.jpg\n",
            "/content/drive/MyDrive/Bangla Image Caption.zip (Unzipped Files)/Bangla Image Caption/Images/1510008.jpg\n",
            "/content/drive/MyDrive/Bangla Image Caption.zip (Unzipped Files)/Bangla Image Caption/Images/1510009.jpg\n",
            "/content/drive/MyDrive/Bangla Image Caption.zip (Unzipped Files)/Bangla Image Caption/Images/1510010.jpg\n",
            "/content/drive/MyDrive/Bangla Image Caption.zip (Unzipped Files)/Bangla Image Caption/Images/1511001.jpg\n",
            "/content/drive/MyDrive/Bangla Image Caption.zip (Unzipped Files)/Bangla Image Caption/Images/1511002.jpg\n",
            "/content/drive/MyDrive/Bangla Image Caption.zip (Unzipped Files)/Bangla Image Caption/Images/1511003.jpg\n",
            "/content/drive/MyDrive/Bangla Image Caption.zip (Unzipped Files)/Bangla Image Caption/Images/1511004.jpg\n",
            "/content/drive/MyDrive/Bangla Image Caption.zip (Unzipped Files)/Bangla Image Caption/Images/1511005.jpg\n",
            "/content/drive/MyDrive/Bangla Image Caption.zip (Unzipped Files)/Bangla Image Caption/Images/1511006.jpg\n",
            "/content/drive/MyDrive/Bangla Image Caption.zip (Unzipped Files)/Bangla Image Caption/Images/1511007.jpg\n",
            "/content/drive/MyDrive/Bangla Image Caption.zip (Unzipped Files)/Bangla Image Caption/Images/1512001.jpg\n",
            "/content/drive/MyDrive/Bangla Image Caption.zip (Unzipped Files)/Bangla Image Caption/Images/1512002.jpg\n",
            "/content/drive/MyDrive/Bangla Image Caption.zip (Unzipped Files)/Bangla Image Caption/Images/1512005.jpg\n",
            "/content/drive/MyDrive/Bangla Image Caption.zip (Unzipped Files)/Bangla Image Caption/Images/1512004.jpg\n",
            "/content/drive/MyDrive/Bangla Image Caption.zip (Unzipped Files)/Bangla Image Caption/Images/1512003.jpg\n",
            "/content/drive/MyDrive/Bangla Image Caption.zip (Unzipped Files)/Bangla Image Caption/Images/1512006.jpg\n",
            "/content/drive/MyDrive/Bangla Image Caption.zip (Unzipped Files)/Bangla Image Caption/Images/1513001.jpg\n",
            "/content/drive/MyDrive/Bangla Image Caption.zip (Unzipped Files)/Bangla Image Caption/Images/1512007.jpg\n",
            "/content/drive/MyDrive/Bangla Image Caption.zip (Unzipped Files)/Bangla Image Caption/Images/1513002.jpg\n",
            "/content/drive/MyDrive/Bangla Image Caption.zip (Unzipped Files)/Bangla Image Caption/Images/1513004.jpg\n",
            "/content/drive/MyDrive/Bangla Image Caption.zip (Unzipped Files)/Bangla Image Caption/Images/1513005.jpg\n",
            "/content/drive/MyDrive/Bangla Image Caption.zip (Unzipped Files)/Bangla Image Caption/Images/1513007.jpg\n",
            "/content/drive/MyDrive/Bangla Image Caption.zip (Unzipped Files)/Bangla Image Caption/Images/1513006.jpg\n",
            "/content/drive/MyDrive/Bangla Image Caption.zip (Unzipped Files)/Bangla Image Caption/Images/1513008.jpg\n",
            "/content/drive/MyDrive/Bangla Image Caption.zip (Unzipped Files)/Bangla Image Caption/Images/1514001.jpg\n",
            "/content/drive/MyDrive/Bangla Image Caption.zip (Unzipped Files)/Bangla Image Caption/Images/1514002.jpg\n",
            "/content/drive/MyDrive/Bangla Image Caption.zip (Unzipped Files)/Bangla Image Caption/Images/1514003.jpg\n",
            "/content/drive/MyDrive/Bangla Image Caption.zip (Unzipped Files)/Bangla Image Caption/Images/1514004.jpg\n",
            "/content/drive/MyDrive/Bangla Image Caption.zip (Unzipped Files)/Bangla Image Caption/Images/1515001.jpg\n",
            "/content/drive/MyDrive/Bangla Image Caption.zip (Unzipped Files)/Bangla Image Caption/Images/1514005.jpg\n",
            "/content/drive/MyDrive/Bangla Image Caption.zip (Unzipped Files)/Bangla Image Caption/Images/1515002.jpg\n",
            "/content/drive/MyDrive/Bangla Image Caption.zip (Unzipped Files)/Bangla Image Caption/Images/1515003.jpg\n",
            "/content/drive/MyDrive/Bangla Image Caption.zip (Unzipped Files)/Bangla Image Caption/Images/1515004.jpg\n",
            "/content/drive/MyDrive/Bangla Image Caption.zip (Unzipped Files)/Bangla Image Caption/Images/1515005.jpg\n",
            "/content/drive/MyDrive/Bangla Image Caption.zip (Unzipped Files)/Bangla Image Caption/Images/1516001.jpg\n",
            "/content/drive/MyDrive/Bangla Image Caption.zip (Unzipped Files)/Bangla Image Caption/Images/1516003.jpg\n",
            "/content/drive/MyDrive/Bangla Image Caption.zip (Unzipped Files)/Bangla Image Caption/Images/1516002.jpg\n",
            "/content/drive/MyDrive/Bangla Image Caption.zip (Unzipped Files)/Bangla Image Caption/Images/1516004.jpg\n",
            "/content/drive/MyDrive/Bangla Image Caption.zip (Unzipped Files)/Bangla Image Caption/Images/1516005.jpg\n",
            "/content/drive/MyDrive/Bangla Image Caption.zip (Unzipped Files)/Bangla Image Caption/Images/1516007.jpg\n",
            "/content/drive/MyDrive/Bangla Image Caption.zip (Unzipped Files)/Bangla Image Caption/Images/1516006.jpg\n",
            "/content/drive/MyDrive/Bangla Image Caption.zip (Unzipped Files)/Bangla Image Caption/Images/1516008.jpg\n",
            "/content/drive/MyDrive/Bangla Image Caption.zip (Unzipped Files)/Bangla Image Caption/Images/1517001.jpg\n",
            "/content/drive/MyDrive/Bangla Image Caption.zip (Unzipped Files)/Bangla Image Caption/Images/1517002.jpg\n",
            "/content/drive/MyDrive/Bangla Image Caption.zip (Unzipped Files)/Bangla Image Caption/Images/1517003.jpg\n",
            "/content/drive/MyDrive/Bangla Image Caption.zip (Unzipped Files)/Bangla Image Caption/Images/1517005.jpg\n",
            "/content/drive/MyDrive/Bangla Image Caption.zip (Unzipped Files)/Bangla Image Caption/Images/1518001.jpg\n",
            "/content/drive/MyDrive/Bangla Image Caption.zip (Unzipped Files)/Bangla Image Caption/Images/1518002.jpg\n",
            "/content/drive/MyDrive/Bangla Image Caption.zip (Unzipped Files)/Bangla Image Caption/Images/1518004.jpg\n",
            "/content/drive/MyDrive/Bangla Image Caption.zip (Unzipped Files)/Bangla Image Caption/Images/1518003.jpg\n",
            "/content/drive/MyDrive/Bangla Image Caption.zip (Unzipped Files)/Bangla Image Caption/Images/1518006.jpg\n",
            "/content/drive/MyDrive/Bangla Image Caption.zip (Unzipped Files)/Bangla Image Caption/Images/1519001.jpg\n",
            "/content/drive/MyDrive/Bangla Image Caption.zip (Unzipped Files)/Bangla Image Caption/Images/1519002.jpg\n",
            "/content/drive/MyDrive/Bangla Image Caption.zip (Unzipped Files)/Bangla Image Caption/Images/1519003.jpg\n",
            "/content/drive/MyDrive/Bangla Image Caption.zip (Unzipped Files)/Bangla Image Caption/Images/1519004.jpg\n",
            "/content/drive/MyDrive/Bangla Image Caption.zip (Unzipped Files)/Bangla Image Caption/Images/1519005.jpg\n",
            "/content/drive/MyDrive/Bangla Image Caption.zip (Unzipped Files)/Bangla Image Caption/Images/1519006.jpg\n",
            "/content/drive/MyDrive/Bangla Image Caption.zip (Unzipped Files)/Bangla Image Caption/Images/1519007.jpg\n",
            "/content/drive/MyDrive/Bangla Image Caption.zip (Unzipped Files)/Bangla Image Caption/Images/1519008.jpg\n",
            "/content/drive/MyDrive/Bangla Image Caption.zip (Unzipped Files)/Bangla Image Caption/Images/1519009.jpg\n",
            "/content/drive/MyDrive/Bangla Image Caption.zip (Unzipped Files)/Bangla Image Caption/Images/1520001.jpg\n",
            "/content/drive/MyDrive/Bangla Image Caption.zip (Unzipped Files)/Bangla Image Caption/Images/1520002.jpg\n",
            "/content/drive/MyDrive/Bangla Image Caption.zip (Unzipped Files)/Bangla Image Caption/Images/1520003.jpg\n",
            "/content/drive/MyDrive/Bangla Image Caption.zip (Unzipped Files)/Bangla Image Caption/Images/1520005.jpg\n",
            "/content/drive/MyDrive/Bangla Image Caption.zip (Unzipped Files)/Bangla Image Caption/Images/1520006.jpg\n",
            "/content/drive/MyDrive/Bangla Image Caption.zip (Unzipped Files)/Bangla Image Caption/Images/1520004.jpg\n",
            "/content/drive/MyDrive/Bangla Image Caption.zip (Unzipped Files)/Bangla Image Caption/Images/1520007.jpg\n",
            "/content/drive/MyDrive/Bangla Image Caption.zip (Unzipped Files)/Bangla Image Caption/Images/1521001.jpg\n",
            "/content/drive/MyDrive/Bangla Image Caption.zip (Unzipped Files)/Bangla Image Caption/Images/1521002.jpg\n",
            "/content/drive/MyDrive/Bangla Image Caption.zip (Unzipped Files)/Bangla Image Caption/Images/1521003.jpg\n",
            "/content/drive/MyDrive/Bangla Image Caption.zip (Unzipped Files)/Bangla Image Caption/Images/1521005.jpg\n",
            "/content/drive/MyDrive/Bangla Image Caption.zip (Unzipped Files)/Bangla Image Caption/Images/1521006.jpg\n",
            "/content/drive/MyDrive/Bangla Image Caption.zip (Unzipped Files)/Bangla Image Caption/Images/1521004.jpg\n",
            "/content/drive/MyDrive/Bangla Image Caption.zip (Unzipped Files)/Bangla Image Caption/Images/1522003.jpg\n",
            "/content/drive/MyDrive/Bangla Image Caption.zip (Unzipped Files)/Bangla Image Caption/Images/1522004.jpg\n",
            "/content/drive/MyDrive/Bangla Image Caption.zip (Unzipped Files)/Bangla Image Caption/Images/1522002.jpg\n",
            "/content/drive/MyDrive/Bangla Image Caption.zip (Unzipped Files)/Bangla Image Caption/Images/1522001.jpg\n",
            "/content/drive/MyDrive/Bangla Image Caption.zip (Unzipped Files)/Bangla Image Caption/Images/1522005.jpg\n",
            "/content/drive/MyDrive/Bangla Image Caption.zip (Unzipped Files)/Bangla Image Caption/Images/1522006.jpg\n",
            "/content/drive/MyDrive/Bangla Image Caption.zip (Unzipped Files)/Bangla Image Caption/Images/1522007.jpg\n",
            "/content/drive/MyDrive/Bangla Image Caption.zip (Unzipped Files)/Bangla Image Caption/Images/1522008.jpg\n",
            "/content/drive/MyDrive/Bangla Image Caption.zip (Unzipped Files)/Bangla Image Caption/Images/1522010.jpg\n",
            "/content/drive/MyDrive/Bangla Image Caption.zip (Unzipped Files)/Bangla Image Caption/Images/1522011.jpg\n",
            "/content/drive/MyDrive/Bangla Image Caption.zip (Unzipped Files)/Bangla Image Caption/Images/1522012.jpg\n",
            "/content/drive/MyDrive/Bangla Image Caption.zip (Unzipped Files)/Bangla Image Caption/Images/1522013.jpg\n",
            "/content/drive/MyDrive/Bangla Image Caption.zip (Unzipped Files)/Bangla Image Caption/Images/1522014.jpg\n",
            "/content/drive/MyDrive/Bangla Image Caption.zip (Unzipped Files)/Bangla Image Caption/Images/1522015.jpg\n",
            "/content/drive/MyDrive/Bangla Image Caption.zip (Unzipped Files)/Bangla Image Caption/Images/1522017.jpg\n",
            "/content/drive/MyDrive/Bangla Image Caption.zip (Unzipped Files)/Bangla Image Caption/Images/1522016.jpg\n",
            "/content/drive/MyDrive/Bangla Image Caption.zip (Unzipped Files)/Bangla Image Caption/Images/1523001.jpg\n",
            "/content/drive/MyDrive/Bangla Image Caption.zip (Unzipped Files)/Bangla Image Caption/Images/1522018.jpg\n",
            "/content/drive/MyDrive/Bangla Image Caption.zip (Unzipped Files)/Bangla Image Caption/Images/1523004.jpg\n",
            "/content/drive/MyDrive/Bangla Image Caption.zip (Unzipped Files)/Bangla Image Caption/Images/1523002.jpg\n",
            "/content/drive/MyDrive/Bangla Image Caption.zip (Unzipped Files)/Bangla Image Caption/Images/1524005.jpg\n",
            "/content/drive/MyDrive/Bangla Image Caption.zip (Unzipped Files)/Bangla Image Caption/Images/1524006.jpg\n",
            "/content/drive/MyDrive/Bangla Image Caption.zip (Unzipped Files)/Bangla Image Caption/Images/1525001.jpg\n",
            "/content/drive/MyDrive/Bangla Image Caption.zip (Unzipped Files)/Bangla Image Caption/Images/1525002.jpg\n",
            "/content/drive/MyDrive/Bangla Image Caption.zip (Unzipped Files)/Bangla Image Caption/Images/1525003.jpg\n",
            "/content/drive/MyDrive/Bangla Image Caption.zip (Unzipped Files)/Bangla Image Caption/Images/1525004.jpg\n",
            "/content/drive/MyDrive/Bangla Image Caption.zip (Unzipped Files)/Bangla Image Caption/Images/1525005.jpg\n",
            "/content/drive/MyDrive/Bangla Image Caption.zip (Unzipped Files)/Bangla Image Caption/Images/1525006.jpg\n",
            "/content/drive/MyDrive/Bangla Image Caption.zip (Unzipped Files)/Bangla Image Caption/Images/1525007.jpg\n",
            "/content/drive/MyDrive/Bangla Image Caption.zip (Unzipped Files)/Bangla Image Caption/Images/1526001.jpg\n",
            "/content/drive/MyDrive/Bangla Image Caption.zip (Unzipped Files)/Bangla Image Caption/Images/1526003.jpg\n",
            "/content/drive/MyDrive/Bangla Image Caption.zip (Unzipped Files)/Bangla Image Caption/Images/1526005.jpg\n",
            "/content/drive/MyDrive/Bangla Image Caption.zip (Unzipped Files)/Bangla Image Caption/Images/1526006.jpg\n",
            "/content/drive/MyDrive/Bangla Image Caption.zip (Unzipped Files)/Bangla Image Caption/Images/1527001.jpg\n",
            "/content/drive/MyDrive/Bangla Image Caption.zip (Unzipped Files)/Bangla Image Caption/Images/1527003.jpg\n",
            "/content/drive/MyDrive/Bangla Image Caption.zip (Unzipped Files)/Bangla Image Caption/Images/1527002.jpg\n",
            "/content/drive/MyDrive/Bangla Image Caption.zip (Unzipped Files)/Bangla Image Caption/Images/1527005.jpg\n",
            "/content/drive/MyDrive/Bangla Image Caption.zip (Unzipped Files)/Bangla Image Caption/Images/1527004.jpg\n",
            "/content/drive/MyDrive/Bangla Image Caption.zip (Unzipped Files)/Bangla Image Caption/Images/1527006.jpg\n",
            "/content/drive/MyDrive/Bangla Image Caption.zip (Unzipped Files)/Bangla Image Caption/Images/1528002.jpg\n",
            "/content/drive/MyDrive/Bangla Image Caption.zip (Unzipped Files)/Bangla Image Caption/Images/1528003.jpg\n",
            "/content/drive/MyDrive/Bangla Image Caption.zip (Unzipped Files)/Bangla Image Caption/Images/1529001.jpg\n",
            "/content/drive/MyDrive/Bangla Image Caption.zip (Unzipped Files)/Bangla Image Caption/Images/1529002.jpg\n",
            "/content/drive/MyDrive/Bangla Image Caption.zip (Unzipped Files)/Bangla Image Caption/Images/1529003.jpg\n",
            "/content/drive/MyDrive/Bangla Image Caption.zip (Unzipped Files)/Bangla Image Caption/Images/1529005.jpg\n",
            "/content/drive/MyDrive/Bangla Image Caption.zip (Unzipped Files)/Bangla Image Caption/Images/1529004.jpg\n",
            "/content/drive/MyDrive/Bangla Image Caption.zip (Unzipped Files)/Bangla Image Caption/Images/1529006.jpg\n",
            "/content/drive/MyDrive/Bangla Image Caption.zip (Unzipped Files)/Bangla Image Caption/Images/1530001.jpg\n",
            "/content/drive/MyDrive/Bangla Image Caption.zip (Unzipped Files)/Bangla Image Caption/Images/1530002.jpg\n",
            "/content/drive/MyDrive/Bangla Image Caption.zip (Unzipped Files)/Bangla Image Caption/Images/1530003.jpg\n",
            "/content/drive/MyDrive/Bangla Image Caption.zip (Unzipped Files)/Bangla Image Caption/Images/1530004.jpg\n",
            "/content/drive/MyDrive/Bangla Image Caption.zip (Unzipped Files)/Bangla Image Caption/Images/1530005.jpg\n",
            "/content/drive/MyDrive/Bangla Image Caption.zip (Unzipped Files)/Bangla Image Caption/Images/1530006.jpg\n",
            "/content/drive/MyDrive/Bangla Image Caption.zip (Unzipped Files)/Bangla Image Caption/Images/1530007.jpg\n",
            "/content/drive/MyDrive/Bangla Image Caption.zip (Unzipped Files)/Bangla Image Caption/Images/1531002.jpg\n",
            "/content/drive/MyDrive/Bangla Image Caption.zip (Unzipped Files)/Bangla Image Caption/Images/1531003.jpg\n",
            "/content/drive/MyDrive/Bangla Image Caption.zip (Unzipped Files)/Bangla Image Caption/Images/1531001.jpg\n",
            "/content/drive/MyDrive/Bangla Image Caption.zip (Unzipped Files)/Bangla Image Caption/Images/1531004.jpg\n",
            "/content/drive/MyDrive/Bangla Image Caption.zip (Unzipped Files)/Bangla Image Caption/Images/1531005.jpg\n",
            "/content/drive/MyDrive/Bangla Image Caption.zip (Unzipped Files)/Bangla Image Caption/Images/1532001.jpg\n",
            "/content/drive/MyDrive/Bangla Image Caption.zip (Unzipped Files)/Bangla Image Caption/Images/1531007.jpg\n",
            "/content/drive/MyDrive/Bangla Image Caption.zip (Unzipped Files)/Bangla Image Caption/Images/1531006.jpg\n",
            "/content/drive/MyDrive/Bangla Image Caption.zip (Unzipped Files)/Bangla Image Caption/Images/1533001.jpg\n",
            "/content/drive/MyDrive/Bangla Image Caption.zip (Unzipped Files)/Bangla Image Caption/Images/1533002.jpg\n",
            "/content/drive/MyDrive/Bangla Image Caption.zip (Unzipped Files)/Bangla Image Caption/Images/1533004.jpg\n",
            "/content/drive/MyDrive/Bangla Image Caption.zip (Unzipped Files)/Bangla Image Caption/Images/1533003.jpg\n",
            "/content/drive/MyDrive/Bangla Image Caption.zip (Unzipped Files)/Bangla Image Caption/Images/1533006.jpg\n",
            "/content/drive/MyDrive/Bangla Image Caption.zip (Unzipped Files)/Bangla Image Caption/Images/1533005.jpg\n",
            "/content/drive/MyDrive/Bangla Image Caption.zip (Unzipped Files)/Bangla Image Caption/Images/1534001.jpg\n",
            "/content/drive/MyDrive/Bangla Image Caption.zip (Unzipped Files)/Bangla Image Caption/Images/1534002.jpg\n",
            "/content/drive/MyDrive/Bangla Image Caption.zip (Unzipped Files)/Bangla Image Caption/Images/1535001.jpg\n",
            "/content/drive/MyDrive/Bangla Image Caption.zip (Unzipped Files)/Bangla Image Caption/Images/1535002.jpg\n",
            "/content/drive/MyDrive/Bangla Image Caption.zip (Unzipped Files)/Bangla Image Caption/Images/1535003.jpg\n",
            "/content/drive/MyDrive/Bangla Image Caption.zip (Unzipped Files)/Bangla Image Caption/Images/1535004.jpg\n",
            "/content/drive/MyDrive/Bangla Image Caption.zip (Unzipped Files)/Bangla Image Caption/Images/1535005.jpg\n",
            "/content/drive/MyDrive/Bangla Image Caption.zip (Unzipped Files)/Bangla Image Caption/Images/1536001.jpg\n",
            "/content/drive/MyDrive/Bangla Image Caption.zip (Unzipped Files)/Bangla Image Caption/Images/1536002.jpg\n",
            "/content/drive/MyDrive/Bangla Image Caption.zip (Unzipped Files)/Bangla Image Caption/Images/1536003.jpg\n",
            "/content/drive/MyDrive/Bangla Image Caption.zip (Unzipped Files)/Bangla Image Caption/Images/1536004.jpg\n",
            "/content/drive/MyDrive/Bangla Image Caption.zip (Unzipped Files)/Bangla Image Caption/Images/1537001.jpg\n",
            "/content/drive/MyDrive/Bangla Image Caption.zip (Unzipped Files)/Bangla Image Caption/Images/1537002.jpg\n",
            "/content/drive/MyDrive/Bangla Image Caption.zip (Unzipped Files)/Bangla Image Caption/Images/1537004.jpg\n",
            "/content/drive/MyDrive/Bangla Image Caption.zip (Unzipped Files)/Bangla Image Caption/Images/1537005.jpg\n",
            "/content/drive/MyDrive/Bangla Image Caption.zip (Unzipped Files)/Bangla Image Caption/Images/1537006.jpg\n",
            "/content/drive/MyDrive/Bangla Image Caption.zip (Unzipped Files)/Bangla Image Caption/Images/1538001.jpg\n",
            "/content/drive/MyDrive/Bangla Image Caption.zip (Unzipped Files)/Bangla Image Caption/Images/1538002.jpg\n",
            "/content/drive/MyDrive/Bangla Image Caption.zip (Unzipped Files)/Bangla Image Caption/Images/1538004.jpg\n",
            "/content/drive/MyDrive/Bangla Image Caption.zip (Unzipped Files)/Bangla Image Caption/Images/1538003.jpg\n",
            "/content/drive/MyDrive/Bangla Image Caption.zip (Unzipped Files)/Bangla Image Caption/Images/1538005.jpg\n",
            "/content/drive/MyDrive/Bangla Image Caption.zip (Unzipped Files)/Bangla Image Caption/Images/1539001.jpg\n",
            "/content/drive/MyDrive/Bangla Image Caption.zip (Unzipped Files)/Bangla Image Caption/Images/1539002.jpg\n",
            "/content/drive/MyDrive/Bangla Image Caption.zip (Unzipped Files)/Bangla Image Caption/Images/1539003.jpg\n",
            "/content/drive/MyDrive/Bangla Image Caption.zip (Unzipped Files)/Bangla Image Caption/Images/1539004.jpg\n",
            "/content/drive/MyDrive/Bangla Image Caption.zip (Unzipped Files)/Bangla Image Caption/Images/1539005.jpg\n",
            "/content/drive/MyDrive/Bangla Image Caption.zip (Unzipped Files)/Bangla Image Caption/Images/1539007.jpg\n",
            "/content/drive/MyDrive/Bangla Image Caption.zip (Unzipped Files)/Bangla Image Caption/Images/1539006.jpg\n",
            "/content/drive/MyDrive/Bangla Image Caption.zip (Unzipped Files)/Bangla Image Caption/Images/1540001.jpg\n",
            "/content/drive/MyDrive/Bangla Image Caption.zip (Unzipped Files)/Bangla Image Caption/Images/1540002.jpg\n",
            "/content/drive/MyDrive/Bangla Image Caption.zip (Unzipped Files)/Bangla Image Caption/Images/1540003.jpg\n",
            "/content/drive/MyDrive/Bangla Image Caption.zip (Unzipped Files)/Bangla Image Caption/Images/1540004.jpg\n",
            "/content/drive/MyDrive/Bangla Image Caption.zip (Unzipped Files)/Bangla Image Caption/Images/1541001.jpg\n",
            "/content/drive/MyDrive/Bangla Image Caption.zip (Unzipped Files)/Bangla Image Caption/Images/1541002.jpg\n",
            "/content/drive/MyDrive/Bangla Image Caption.zip (Unzipped Files)/Bangla Image Caption/Images/1541003.jpg\n",
            "/content/drive/MyDrive/Bangla Image Caption.zip (Unzipped Files)/Bangla Image Caption/Images/1541004.jpg\n",
            "/content/drive/MyDrive/Bangla Image Caption.zip (Unzipped Files)/Bangla Image Caption/Images/1541005.jpg\n",
            "/content/drive/MyDrive/Bangla Image Caption.zip (Unzipped Files)/Bangla Image Caption/Images/1541006.jpg\n",
            "/content/drive/MyDrive/Bangla Image Caption.zip (Unzipped Files)/Bangla Image Caption/Images/1541007.jpg\n",
            "/content/drive/MyDrive/Bangla Image Caption.zip (Unzipped Files)/Bangla Image Caption/Images/1541008.jpg\n",
            "/content/drive/MyDrive/Bangla Image Caption.zip (Unzipped Files)/Bangla Image Caption/Images/1542001.jpg\n",
            "/content/drive/MyDrive/Bangla Image Caption.zip (Unzipped Files)/Bangla Image Caption/Images/1542002.jpg\n",
            "/content/drive/MyDrive/Bangla Image Caption.zip (Unzipped Files)/Bangla Image Caption/Images/1542005.jpg\n",
            "/content/drive/MyDrive/Bangla Image Caption.zip (Unzipped Files)/Bangla Image Caption/Images/1542006.jpg\n",
            "/content/drive/MyDrive/Bangla Image Caption.zip (Unzipped Files)/Bangla Image Caption/Images/1544001.jpg\n",
            "/content/drive/MyDrive/Bangla Image Caption.zip (Unzipped Files)/Bangla Image Caption/Images/1543002.jpg\n",
            "/content/drive/MyDrive/Bangla Image Caption.zip (Unzipped Files)/Bangla Image Caption/Images/1543001.jpg\n",
            "/content/drive/MyDrive/Bangla Image Caption.zip (Unzipped Files)/Bangla Image Caption/Images/1544002.jpg\n",
            "/content/drive/MyDrive/Bangla Image Caption.zip (Unzipped Files)/Bangla Image Caption/Images/1544003.jpg\n",
            "/content/drive/MyDrive/Bangla Image Caption.zip (Unzipped Files)/Bangla Image Caption/Images/1545001.jpg\n",
            "/content/drive/MyDrive/Bangla Image Caption.zip (Unzipped Files)/Bangla Image Caption/Images/1545002.jpg\n",
            "/content/drive/MyDrive/Bangla Image Caption.zip (Unzipped Files)/Bangla Image Caption/Images/1545003.jpg\n",
            "/content/drive/MyDrive/Bangla Image Caption.zip (Unzipped Files)/Bangla Image Caption/Images/1545005.jpg\n",
            "/content/drive/MyDrive/Bangla Image Caption.zip (Unzipped Files)/Bangla Image Caption/Images/1545006.jpg\n",
            "/content/drive/MyDrive/Bangla Image Caption.zip (Unzipped Files)/Bangla Image Caption/Images/1545004.jpg\n",
            "/content/drive/MyDrive/Bangla Image Caption.zip (Unzipped Files)/Bangla Image Caption/Images/1546001.jpg\n",
            "/content/drive/MyDrive/Bangla Image Caption.zip (Unzipped Files)/Bangla Image Caption/Images/1546002.jpg\n",
            "/content/drive/MyDrive/Bangla Image Caption.zip (Unzipped Files)/Bangla Image Caption/Images/1546003.jpg\n",
            "/content/drive/MyDrive/Bangla Image Caption.zip (Unzipped Files)/Bangla Image Caption/Images/1547001.jpg\n",
            "/content/drive/MyDrive/Bangla Image Caption.zip (Unzipped Files)/Bangla Image Caption/Images/1546004.jpg\n",
            "/content/drive/MyDrive/Bangla Image Caption.zip (Unzipped Files)/Bangla Image Caption/Images/1547002.jpg\n",
            "/content/drive/MyDrive/Bangla Image Caption.zip (Unzipped Files)/Bangla Image Caption/Images/1547003.jpg\n",
            "/content/drive/MyDrive/Bangla Image Caption.zip (Unzipped Files)/Bangla Image Caption/Images/1547005.jpg\n",
            "/content/drive/MyDrive/Bangla Image Caption.zip (Unzipped Files)/Bangla Image Caption/Images/1547006.jpg\n",
            "/content/drive/MyDrive/Bangla Image Caption.zip (Unzipped Files)/Bangla Image Caption/Images/1547007.jpg\n",
            "/content/drive/MyDrive/Bangla Image Caption.zip (Unzipped Files)/Bangla Image Caption/Images/1547008.jpg\n",
            "/content/drive/MyDrive/Bangla Image Caption.zip (Unzipped Files)/Bangla Image Caption/Images/1548002.jpg\n",
            "/content/drive/MyDrive/Bangla Image Caption.zip (Unzipped Files)/Bangla Image Caption/Images/1550001.jpg\n",
            "/content/drive/MyDrive/Bangla Image Caption.zip (Unzipped Files)/Bangla Image Caption/Images/1550002.jpg\n",
            "/content/drive/MyDrive/Bangla Image Caption.zip (Unzipped Files)/Bangla Image Caption/Images/1550004.jpg\n",
            "/content/drive/MyDrive/Bangla Image Caption.zip (Unzipped Files)/Bangla Image Caption/Images/1550006.jpg\n",
            "/content/drive/MyDrive/Bangla Image Caption.zip (Unzipped Files)/Bangla Image Caption/Images/1550007.jpg\n",
            "/content/drive/MyDrive/Bangla Image Caption.zip (Unzipped Files)/Bangla Image Caption/Images/1550009.jpg\n",
            "/content/drive/MyDrive/Bangla Image Caption.zip (Unzipped Files)/Bangla Image Caption/Images/1550008.jpg\n",
            "/content/drive/MyDrive/Bangla Image Caption.zip (Unzipped Files)/Bangla Image Caption/Images/1550011.jpg\n",
            "/content/drive/MyDrive/Bangla Image Caption.zip (Unzipped Files)/Bangla Image Caption/Images/1550010.jpg\n",
            "/content/drive/MyDrive/Bangla Image Caption.zip (Unzipped Files)/Bangla Image Caption/Images/1550012.jpg\n",
            "/content/drive/MyDrive/Bangla Image Caption.zip (Unzipped Files)/Bangla Image Caption/Images/1550003.jpg\n",
            "/content/drive/MyDrive/Bangla Image Caption.zip (Unzipped Files)/Bangla Image Caption/Images/1551001.jpg\n",
            "/content/drive/MyDrive/Bangla Image Caption.zip (Unzipped Files)/Bangla Image Caption/Images/1552001.jpg\n",
            "/content/drive/MyDrive/Bangla Image Caption.zip (Unzipped Files)/Bangla Image Caption/Images/1552002.jpg\n",
            "/content/drive/MyDrive/Bangla Image Caption.zip (Unzipped Files)/Bangla Image Caption/Images/1552004.jpg\n",
            "/content/drive/MyDrive/Bangla Image Caption.zip (Unzipped Files)/Bangla Image Caption/Images/1552003.jpg\n",
            "/content/drive/MyDrive/Bangla Image Caption.zip (Unzipped Files)/Bangla Image Caption/Images/1552006.jpg\n",
            "/content/drive/MyDrive/Bangla Image Caption.zip (Unzipped Files)/Bangla Image Caption/Images/1553001.jpg\n",
            "/content/drive/MyDrive/Bangla Image Caption.zip (Unzipped Files)/Bangla Image Caption/Images/1552005.jpg\n",
            "/content/drive/MyDrive/Bangla Image Caption.zip (Unzipped Files)/Bangla Image Caption/Images/1553002.jpg\n",
            "/content/drive/MyDrive/Bangla Image Caption.zip (Unzipped Files)/Bangla Image Caption/Images/1553004.jpg\n",
            "/content/drive/MyDrive/Bangla Image Caption.zip (Unzipped Files)/Bangla Image Caption/Images/1553005.jpg\n",
            "/content/drive/MyDrive/Bangla Image Caption.zip (Unzipped Files)/Bangla Image Caption/Images/1553003.jpg\n",
            "/content/drive/MyDrive/Bangla Image Caption.zip (Unzipped Files)/Bangla Image Caption/Images/1553006.jpg\n",
            "/content/drive/MyDrive/Bangla Image Caption.zip (Unzipped Files)/Bangla Image Caption/Images/1553007.jpg\n",
            "/content/drive/MyDrive/Bangla Image Caption.zip (Unzipped Files)/Bangla Image Caption/Images/1554001.jpg\n",
            "/content/drive/MyDrive/Bangla Image Caption.zip (Unzipped Files)/Bangla Image Caption/Images/1554002.jpg\n",
            "/content/drive/MyDrive/Bangla Image Caption.zip (Unzipped Files)/Bangla Image Caption/Images/1554003.jpg\n",
            "/content/drive/MyDrive/Bangla Image Caption.zip (Unzipped Files)/Bangla Image Caption/Images/1554004.jpg\n",
            "/content/drive/MyDrive/Bangla Image Caption.zip (Unzipped Files)/Bangla Image Caption/Images/1554005.jpg\n",
            "/content/drive/MyDrive/Bangla Image Caption.zip (Unzipped Files)/Bangla Image Caption/Images/1554006.jpg\n",
            "/content/drive/MyDrive/Bangla Image Caption.zip (Unzipped Files)/Bangla Image Caption/Images/1554007.jpg\n",
            "/content/drive/MyDrive/Bangla Image Caption.zip (Unzipped Files)/Bangla Image Caption/Images/1554008.jpg\n",
            "/content/drive/MyDrive/Bangla Image Caption.zip (Unzipped Files)/Bangla Image Caption/Images/1555001.jpg\n",
            "/content/drive/MyDrive/Bangla Image Caption.zip (Unzipped Files)/Bangla Image Caption/Images/1555002.jpg\n",
            "/content/drive/MyDrive/Bangla Image Caption.zip (Unzipped Files)/Bangla Image Caption/Images/1555003.jpg\n",
            "/content/drive/MyDrive/Bangla Image Caption.zip (Unzipped Files)/Bangla Image Caption/Images/1555004.jpg\n",
            "/content/drive/MyDrive/Bangla Image Caption.zip (Unzipped Files)/Bangla Image Caption/Images/1555005.jpg\n",
            "/content/drive/MyDrive/Bangla Image Caption.zip (Unzipped Files)/Bangla Image Caption/Images/1556001.jpg\n",
            "/content/drive/MyDrive/Bangla Image Caption.zip (Unzipped Files)/Bangla Image Caption/Images/1556002.jpg\n",
            "/content/drive/MyDrive/Bangla Image Caption.zip (Unzipped Files)/Bangla Image Caption/Images/1556003.jpg\n",
            "/content/drive/MyDrive/Bangla Image Caption.zip (Unzipped Files)/Bangla Image Caption/Images/1556005.jpg\n",
            "/content/drive/MyDrive/Bangla Image Caption.zip (Unzipped Files)/Bangla Image Caption/Images/1556004.jpg\n",
            "/content/drive/MyDrive/Bangla Image Caption.zip (Unzipped Files)/Bangla Image Caption/Images/1557001.jpg\n",
            "/content/drive/MyDrive/Bangla Image Caption.zip (Unzipped Files)/Bangla Image Caption/Images/1557002.jpg\n",
            "/content/drive/MyDrive/Bangla Image Caption.zip (Unzipped Files)/Bangla Image Caption/Images/1557003.jpg\n",
            "/content/drive/MyDrive/Bangla Image Caption.zip (Unzipped Files)/Bangla Image Caption/Images/1557004.jpg\n",
            "/content/drive/MyDrive/Bangla Image Caption.zip (Unzipped Files)/Bangla Image Caption/Images/1557005.jpg\n",
            "/content/drive/MyDrive/Bangla Image Caption.zip (Unzipped Files)/Bangla Image Caption/Images/1557006.jpg\n",
            "/content/drive/MyDrive/Bangla Image Caption.zip (Unzipped Files)/Bangla Image Caption/Images/1558001.jpg\n",
            "/content/drive/MyDrive/Bangla Image Caption.zip (Unzipped Files)/Bangla Image Caption/Images/1558003.jpg\n",
            "/content/drive/MyDrive/Bangla Image Caption.zip (Unzipped Files)/Bangla Image Caption/Images/1558004.jpg\n",
            "/content/drive/MyDrive/Bangla Image Caption.zip (Unzipped Files)/Bangla Image Caption/Images/1558005.jpg\n",
            "/content/drive/MyDrive/Bangla Image Caption.zip (Unzipped Files)/Bangla Image Caption/Images/1558002.jpg\n",
            "/content/drive/MyDrive/Bangla Image Caption.zip (Unzipped Files)/Bangla Image Caption/Images/1559001.jpg\n",
            "/content/drive/MyDrive/Bangla Image Caption.zip (Unzipped Files)/Bangla Image Caption/Images/1559003.jpg\n",
            "/content/drive/MyDrive/Bangla Image Caption.zip (Unzipped Files)/Bangla Image Caption/Images/1559002.jpg\n",
            "/content/drive/MyDrive/Bangla Image Caption.zip (Unzipped Files)/Bangla Image Caption/Images/1559004.jpg\n",
            "/content/drive/MyDrive/Bangla Image Caption.zip (Unzipped Files)/Bangla Image Caption/Images/1560001.jpg\n",
            "/content/drive/MyDrive/Bangla Image Caption.zip (Unzipped Files)/Bangla Image Caption/Images/1560002.jpg\n",
            "/content/drive/MyDrive/Bangla Image Caption.zip (Unzipped Files)/Bangla Image Caption/Images/1560003.jpg\n",
            "/content/drive/MyDrive/Bangla Image Caption.zip (Unzipped Files)/Bangla Image Caption/Images/1561001.jpg\n",
            "/content/drive/MyDrive/Bangla Image Caption.zip (Unzipped Files)/Bangla Image Caption/Images/1561002.jpg\n",
            "/content/drive/MyDrive/Bangla Image Caption.zip (Unzipped Files)/Bangla Image Caption/Images/1561003.jpg\n",
            "/content/drive/MyDrive/Bangla Image Caption.zip (Unzipped Files)/Bangla Image Caption/Images/1562001.jpg\n",
            "/content/drive/MyDrive/Bangla Image Caption.zip (Unzipped Files)/Bangla Image Caption/Images/1561004.jpg\n",
            "/content/drive/MyDrive/Bangla Image Caption.zip (Unzipped Files)/Bangla Image Caption/Images/1562002.jpg\n",
            "/content/drive/MyDrive/Bangla Image Caption.zip (Unzipped Files)/Bangla Image Caption/Images/1563001.jpg\n",
            "/content/drive/MyDrive/Bangla Image Caption.zip (Unzipped Files)/Bangla Image Caption/Images/1563002.jpg\n",
            "/content/drive/MyDrive/Bangla Image Caption.zip (Unzipped Files)/Bangla Image Caption/Images/1563004.jpg\n",
            "/content/drive/MyDrive/Bangla Image Caption.zip (Unzipped Files)/Bangla Image Caption/Images/1563005.jpg\n",
            "/content/drive/MyDrive/Bangla Image Caption.zip (Unzipped Files)/Bangla Image Caption/Images/1563006.jpg\n",
            "/content/drive/MyDrive/Bangla Image Caption.zip (Unzipped Files)/Bangla Image Caption/Images/1563007.jpg\n",
            "/content/drive/MyDrive/Bangla Image Caption.zip (Unzipped Files)/Bangla Image Caption/Images/1564001.jpg\n",
            "/content/drive/MyDrive/Bangla Image Caption.zip (Unzipped Files)/Bangla Image Caption/Images/1564002.jpg\n",
            "/content/drive/MyDrive/Bangla Image Caption.zip (Unzipped Files)/Bangla Image Caption/Images/1564003.jpg\n",
            "/content/drive/MyDrive/Bangla Image Caption.zip (Unzipped Files)/Bangla Image Caption/Images/1564004.jpg\n",
            "/content/drive/MyDrive/Bangla Image Caption.zip (Unzipped Files)/Bangla Image Caption/Images/1564005.jpg\n",
            "/content/drive/MyDrive/Bangla Image Caption.zip (Unzipped Files)/Bangla Image Caption/Images/1564006.jpg\n",
            "/content/drive/MyDrive/Bangla Image Caption.zip (Unzipped Files)/Bangla Image Caption/Images/1564007.jpg\n",
            "/content/drive/MyDrive/Bangla Image Caption.zip (Unzipped Files)/Bangla Image Caption/Images/1565001.jpg\n",
            "/content/drive/MyDrive/Bangla Image Caption.zip (Unzipped Files)/Bangla Image Caption/Images/1565002.jpg\n",
            "/content/drive/MyDrive/Bangla Image Caption.zip (Unzipped Files)/Bangla Image Caption/Images/1565003.jpg\n",
            "/content/drive/MyDrive/Bangla Image Caption.zip (Unzipped Files)/Bangla Image Caption/Images/1565004.jpg\n",
            "/content/drive/MyDrive/Bangla Image Caption.zip (Unzipped Files)/Bangla Image Caption/Images/1565005.jpg\n",
            "/content/drive/MyDrive/Bangla Image Caption.zip (Unzipped Files)/Bangla Image Caption/Images/1565006.jpg\n",
            "/content/drive/MyDrive/Bangla Image Caption.zip (Unzipped Files)/Bangla Image Caption/Images/1566001.jpg\n",
            "/content/drive/MyDrive/Bangla Image Caption.zip (Unzipped Files)/Bangla Image Caption/Images/1566002.jpg\n",
            "/content/drive/MyDrive/Bangla Image Caption.zip (Unzipped Files)/Bangla Image Caption/Images/1566003.jpg\n",
            "/content/drive/MyDrive/Bangla Image Caption.zip (Unzipped Files)/Bangla Image Caption/Images/1567001.jpg\n",
            "/content/drive/MyDrive/Bangla Image Caption.zip (Unzipped Files)/Bangla Image Caption/Images/1567002.jpg\n",
            "/content/drive/MyDrive/Bangla Image Caption.zip (Unzipped Files)/Bangla Image Caption/Images/1567003.jpg\n",
            "/content/drive/MyDrive/Bangla Image Caption.zip (Unzipped Files)/Bangla Image Caption/Images/1567004.jpg\n",
            "/content/drive/MyDrive/Bangla Image Caption.zip (Unzipped Files)/Bangla Image Caption/Images/1567005.jpg\n",
            "/content/drive/MyDrive/Bangla Image Caption.zip (Unzipped Files)/Bangla Image Caption/Images/1568001.jpg\n",
            "/content/drive/MyDrive/Bangla Image Caption.zip (Unzipped Files)/Bangla Image Caption/Images/1568003.jpg\n",
            "/content/drive/MyDrive/Bangla Image Caption.zip (Unzipped Files)/Bangla Image Caption/Images/1568005.jpg\n",
            "/content/drive/MyDrive/Bangla Image Caption.zip (Unzipped Files)/Bangla Image Caption/Images/1568004.jpg\n",
            "/content/drive/MyDrive/Bangla Image Caption.zip (Unzipped Files)/Bangla Image Caption/Images/1568007.jpg\n",
            "/content/drive/MyDrive/Bangla Image Caption.zip (Unzipped Files)/Bangla Image Caption/Images/1568008.jpg\n",
            "/content/drive/MyDrive/Bangla Image Caption.zip (Unzipped Files)/Bangla Image Caption/Images/1569002.jpg\n",
            "/content/drive/MyDrive/Bangla Image Caption.zip (Unzipped Files)/Bangla Image Caption/Images/1569003.jpg\n",
            "/content/drive/MyDrive/Bangla Image Caption.zip (Unzipped Files)/Bangla Image Caption/Images/1569005.jpg\n",
            "/content/drive/MyDrive/Bangla Image Caption.zip (Unzipped Files)/Bangla Image Caption/Images/1569006.jpg\n",
            "/content/drive/MyDrive/Bangla Image Caption.zip (Unzipped Files)/Bangla Image Caption/Images/1570001.jpg\n",
            "/content/drive/MyDrive/Bangla Image Caption.zip (Unzipped Files)/Bangla Image Caption/Images/1570002.jpg\n",
            "/content/drive/MyDrive/Bangla Image Caption.zip (Unzipped Files)/Bangla Image Caption/Images/1570003.jpg\n",
            "/content/drive/MyDrive/Bangla Image Caption.zip (Unzipped Files)/Bangla Image Caption/Images/1570004.jpg\n",
            "/content/drive/MyDrive/Bangla Image Caption.zip (Unzipped Files)/Bangla Image Caption/Images/1570005.jpg\n",
            "/content/drive/MyDrive/Bangla Image Caption.zip (Unzipped Files)/Bangla Image Caption/Images/1570006.jpg\n",
            "/content/drive/MyDrive/Bangla Image Caption.zip (Unzipped Files)/Bangla Image Caption/Images/1570007.jpg\n",
            "/content/drive/MyDrive/Bangla Image Caption.zip (Unzipped Files)/Bangla Image Caption/Images/1570008.jpg\n",
            "/content/drive/MyDrive/Bangla Image Caption.zip (Unzipped Files)/Bangla Image Caption/Images/1570009.jpg\n",
            "/content/drive/MyDrive/Bangla Image Caption.zip (Unzipped Files)/Bangla Image Caption/Images/1570010.jpg\n",
            "/content/drive/MyDrive/Bangla Image Caption.zip (Unzipped Files)/Bangla Image Caption/Images/1570011.jpg\n",
            "/content/drive/MyDrive/Bangla Image Caption.zip (Unzipped Files)/Bangla Image Caption/Images/1570012.jpg\n",
            "/content/drive/MyDrive/Bangla Image Caption.zip (Unzipped Files)/Bangla Image Caption/Images/1570013.jpg\n",
            "/content/drive/MyDrive/Bangla Image Caption.zip (Unzipped Files)/Bangla Image Caption/Images/1570015.jpg\n",
            "/content/drive/MyDrive/Bangla Image Caption.zip (Unzipped Files)/Bangla Image Caption/Images/1570014.jpg\n",
            "/content/drive/MyDrive/Bangla Image Caption.zip (Unzipped Files)/Bangla Image Caption/Images/1571001.jpg\n",
            "/content/drive/MyDrive/Bangla Image Caption.zip (Unzipped Files)/Bangla Image Caption/Images/1571002.jpg\n",
            "/content/drive/MyDrive/Bangla Image Caption.zip (Unzipped Files)/Bangla Image Caption/Images/1571003.jpg\n",
            "/content/drive/MyDrive/Bangla Image Caption.zip (Unzipped Files)/Bangla Image Caption/Images/1571004.jpg\n",
            "/content/drive/MyDrive/Bangla Image Caption.zip (Unzipped Files)/Bangla Image Caption/Images/1571005.jpg\n",
            "/content/drive/MyDrive/Bangla Image Caption.zip (Unzipped Files)/Bangla Image Caption/Images/1571006.jpg\n",
            "/content/drive/MyDrive/Bangla Image Caption.zip (Unzipped Files)/Bangla Image Caption/Images/1571007.jpg\n",
            "/content/drive/MyDrive/Bangla Image Caption.zip (Unzipped Files)/Bangla Image Caption/Images/1571008.jpg\n",
            "/content/drive/MyDrive/Bangla Image Caption.zip (Unzipped Files)/Bangla Image Caption/Images/1571009.jpg\n",
            "/content/drive/MyDrive/Bangla Image Caption.zip (Unzipped Files)/Bangla Image Caption/Images/1571010.jpg\n",
            "/content/drive/MyDrive/Bangla Image Caption.zip (Unzipped Files)/Bangla Image Caption/Images/1572001.jpg\n",
            "/content/drive/MyDrive/Bangla Image Caption.zip (Unzipped Files)/Bangla Image Caption/Images/1572002.jpg\n",
            "/content/drive/MyDrive/Bangla Image Caption.zip (Unzipped Files)/Bangla Image Caption/Images/1572003.jpg\n",
            "/content/drive/MyDrive/Bangla Image Caption.zip (Unzipped Files)/Bangla Image Caption/Images/1572005.jpg\n",
            "/content/drive/MyDrive/Bangla Image Caption.zip (Unzipped Files)/Bangla Image Caption/Images/1573002.jpg\n",
            "/content/drive/MyDrive/Bangla Image Caption.zip (Unzipped Files)/Bangla Image Caption/Images/1573005.jpg\n",
            "/content/drive/MyDrive/Bangla Image Caption.zip (Unzipped Files)/Bangla Image Caption/Images/1573006.jpg\n",
            "/content/drive/MyDrive/Bangla Image Caption.zip (Unzipped Files)/Bangla Image Caption/Images/1573004.jpg\n",
            "/content/drive/MyDrive/Bangla Image Caption.zip (Unzipped Files)/Bangla Image Caption/Images/1574001.jpg\n",
            "/content/drive/MyDrive/Bangla Image Caption.zip (Unzipped Files)/Bangla Image Caption/Images/1574002.jpg\n",
            "/content/drive/MyDrive/Bangla Image Caption.zip (Unzipped Files)/Bangla Image Caption/Images/1574003.jpg\n",
            "/content/drive/MyDrive/Bangla Image Caption.zip (Unzipped Files)/Bangla Image Caption/Images/1574006.jpg\n",
            "/content/drive/MyDrive/Bangla Image Caption.zip (Unzipped Files)/Bangla Image Caption/Images/1574005.jpg\n",
            "/content/drive/MyDrive/Bangla Image Caption.zip (Unzipped Files)/Bangla Image Caption/Images/1574004.jpg\n",
            "/content/drive/MyDrive/Bangla Image Caption.zip (Unzipped Files)/Bangla Image Caption/Images/1574007.jpg\n",
            "/content/drive/MyDrive/Bangla Image Caption.zip (Unzipped Files)/Bangla Image Caption/Images/1574010.jpg\n",
            "/content/drive/MyDrive/Bangla Image Caption.zip (Unzipped Files)/Bangla Image Caption/Images/1574008.jpg\n",
            "/content/drive/MyDrive/Bangla Image Caption.zip (Unzipped Files)/Bangla Image Caption/Images/1574009.jpg\n",
            "/content/drive/MyDrive/Bangla Image Caption.zip (Unzipped Files)/Bangla Image Caption/Images/1575001.jpg\n",
            "/content/drive/MyDrive/Bangla Image Caption.zip (Unzipped Files)/Bangla Image Caption/Images/1575004.jpg\n",
            "/content/drive/MyDrive/Bangla Image Caption.zip (Unzipped Files)/Bangla Image Caption/Images/1575003.jpg\n",
            "/content/drive/MyDrive/Bangla Image Caption.zip (Unzipped Files)/Bangla Image Caption/Images/1575002.jpg\n",
            "/content/drive/MyDrive/Bangla Image Caption.zip (Unzipped Files)/Bangla Image Caption/Images/1575005.jpg\n",
            "/content/drive/MyDrive/Bangla Image Caption.zip (Unzipped Files)/Bangla Image Caption/Images/1575006.jpg\n",
            "/content/drive/MyDrive/Bangla Image Caption.zip (Unzipped Files)/Bangla Image Caption/Images/1575007.jpg\n",
            "/content/drive/MyDrive/Bangla Image Caption.zip (Unzipped Files)/Bangla Image Caption/Images/1576001.jpg\n",
            "/content/drive/MyDrive/Bangla Image Caption.zip (Unzipped Files)/Bangla Image Caption/Images/1576002.jpg\n",
            "/content/drive/MyDrive/Bangla Image Caption.zip (Unzipped Files)/Bangla Image Caption/Images/1576003.jpg\n",
            "/content/drive/MyDrive/Bangla Image Caption.zip (Unzipped Files)/Bangla Image Caption/Images/1576004.jpg\n",
            "/content/drive/MyDrive/Bangla Image Caption.zip (Unzipped Files)/Bangla Image Caption/Images/1576006.jpg\n",
            "/content/drive/MyDrive/Bangla Image Caption.zip (Unzipped Files)/Bangla Image Caption/Images/1576005.jpg\n",
            "/content/drive/MyDrive/Bangla Image Caption.zip (Unzipped Files)/Bangla Image Caption/Images/1577002.jpg\n",
            "/content/drive/MyDrive/Bangla Image Caption.zip (Unzipped Files)/Bangla Image Caption/Images/1577001.jpg\n",
            "/content/drive/MyDrive/Bangla Image Caption.zip (Unzipped Files)/Bangla Image Caption/Images/1577003.jpg\n",
            "/content/drive/MyDrive/Bangla Image Caption.zip (Unzipped Files)/Bangla Image Caption/Images/1577004.jpg\n",
            "/content/drive/MyDrive/Bangla Image Caption.zip (Unzipped Files)/Bangla Image Caption/Images/1577005.jpg\n",
            "/content/drive/MyDrive/Bangla Image Caption.zip (Unzipped Files)/Bangla Image Caption/Images/1577006.jpg\n",
            "/content/drive/MyDrive/Bangla Image Caption.zip (Unzipped Files)/Bangla Image Caption/Images/1577007.jpg\n",
            "/content/drive/MyDrive/Bangla Image Caption.zip (Unzipped Files)/Bangla Image Caption/Images/1577008.jpg\n",
            "/content/drive/MyDrive/Bangla Image Caption.zip (Unzipped Files)/Bangla Image Caption/Images/1578001.jpg\n",
            "/content/drive/MyDrive/Bangla Image Caption.zip (Unzipped Files)/Bangla Image Caption/Images/1578003.jpg\n",
            "/content/drive/MyDrive/Bangla Image Caption.zip (Unzipped Files)/Bangla Image Caption/Images/1578002.jpg\n",
            "/content/drive/MyDrive/Bangla Image Caption.zip (Unzipped Files)/Bangla Image Caption/Images/1578004.jpg\n",
            "/content/drive/MyDrive/Bangla Image Caption.zip (Unzipped Files)/Bangla Image Caption/Images/1578005.jpg\n",
            "/content/drive/MyDrive/Bangla Image Caption.zip (Unzipped Files)/Bangla Image Caption/Images/1578006.jpg\n",
            "/content/drive/MyDrive/Bangla Image Caption.zip (Unzipped Files)/Bangla Image Caption/Images/1578007.jpg\n",
            "/content/drive/MyDrive/Bangla Image Caption.zip (Unzipped Files)/Bangla Image Caption/Images/1578008.jpg\n",
            "/content/drive/MyDrive/Bangla Image Caption.zip (Unzipped Files)/Bangla Image Caption/Images/1578009.jpg\n",
            "/content/drive/MyDrive/Bangla Image Caption.zip (Unzipped Files)/Bangla Image Caption/Images/1578010.jpg\n",
            "/content/drive/MyDrive/Bangla Image Caption.zip (Unzipped Files)/Bangla Image Caption/Images/1598001.jpg\n",
            "/content/drive/MyDrive/Bangla Image Caption.zip (Unzipped Files)/Bangla Image Caption/Images/1598002.jpg\n",
            "/content/drive/MyDrive/Bangla Image Caption.zip (Unzipped Files)/Bangla Image Caption/Images/1598003.jpg\n",
            "/content/drive/MyDrive/Bangla Image Caption.zip (Unzipped Files)/Bangla Image Caption/Images/1598004.jpg\n",
            "/content/drive/MyDrive/Bangla Image Caption.zip (Unzipped Files)/Bangla Image Caption/Images/1598005.jpg\n",
            "/content/drive/MyDrive/Bangla Image Caption.zip (Unzipped Files)/Bangla Image Caption/Images/1598006.jpg\n",
            "/content/drive/MyDrive/Bangla Image Caption.zip (Unzipped Files)/Bangla Image Caption/Images/1598007.jpg\n",
            "/content/drive/MyDrive/Bangla Image Caption.zip (Unzipped Files)/Bangla Image Caption/Images/1599001.jpg\n",
            "/content/drive/MyDrive/Bangla Image Caption.zip (Unzipped Files)/Bangla Image Caption/Images/1599002.jpg\n",
            "/content/drive/MyDrive/Bangla Image Caption.zip (Unzipped Files)/Bangla Image Caption/Images/1599003.jpg\n",
            "/content/drive/MyDrive/Bangla Image Caption.zip (Unzipped Files)/Bangla Image Caption/Images/1599004.jpg\n",
            "/content/drive/MyDrive/Bangla Image Caption.zip (Unzipped Files)/Bangla Image Caption/Images/1599005.jpg\n",
            "/content/drive/MyDrive/Bangla Image Caption.zip (Unzipped Files)/Bangla Image Caption/Images/1599006.jpg\n",
            "/content/drive/MyDrive/Bangla Image Caption.zip (Unzipped Files)/Bangla Image Caption/Images/1599007.jpg\n",
            "/content/drive/MyDrive/Bangla Image Caption.zip (Unzipped Files)/Bangla Image Caption/Images/1599008.jpg\n",
            "/content/drive/MyDrive/Bangla Image Caption.zip (Unzipped Files)/Bangla Image Caption/Images/1599009.jpg\n",
            "/content/drive/MyDrive/Bangla Image Caption.zip (Unzipped Files)/Bangla Image Caption/Images/1599010.jpg\n",
            "/content/drive/MyDrive/Bangla Image Caption.zip (Unzipped Files)/Bangla Image Caption/Images/1599011.jpg\n",
            "/content/drive/MyDrive/Bangla Image Caption.zip (Unzipped Files)/Bangla Image Caption/Images/1599012.jpg\n",
            "/content/drive/MyDrive/Bangla Image Caption.zip (Unzipped Files)/Bangla Image Caption/Images/1599013.jpg\n",
            "/content/drive/MyDrive/Bangla Image Caption.zip (Unzipped Files)/Bangla Image Caption/Images/1599014.jpg\n",
            "/content/drive/MyDrive/Bangla Image Caption.zip (Unzipped Files)/Bangla Image Caption/Images/1599015.jpg\n",
            "/content/drive/MyDrive/Bangla Image Caption.zip (Unzipped Files)/Bangla Image Caption/Images/1599016.jpg\n",
            "/content/drive/MyDrive/Bangla Image Caption.zip (Unzipped Files)/Bangla Image Caption/Images/1599017.jpg\n",
            "/content/drive/MyDrive/Bangla Image Caption.zip (Unzipped Files)/Bangla Image Caption/Images/1599098.jpg\n",
            "/content/drive/MyDrive/Bangla Image Caption.zip (Unzipped Files)/Bangla Image Caption/Images/1599099.jpg\n",
            "/content/drive/MyDrive/Bangla Image Caption.zip (Unzipped Files)/Bangla Image Caption/Images/1599100.jpg\n",
            "The total images present in the dataset: 476\n"
          ]
        }
      ],
      "source": [
        "images_path = '/content/drive/MyDrive/Bangla Image Caption.zip (Unzipped Files)/Bangla Image Caption/Images/'\n",
        "from glob import glob\n",
        "images = glob(images_path+'*.jpg')\n",
        "len(images)\n",
        "for i in images:\n",
        " print(i)\n",
        "print(\"The total images present in the dataset: {}\".format(len(images)))"
      ]
    },
    {
      "cell_type": "code",
      "execution_count": null,
      "metadata": {
        "colab": {
          "base_uri": "https://localhost:8080/"
        },
        "id": "fpImWY06q-X5",
        "outputId": "6ed76203-93e6-47a4-b5f6-0ab766eda858"
      },
      "outputs": [
        {
          "output_type": "execute_result",
          "data": {
            "text/plain": [
              "['/content/drive/MyDrive/Bangla Image Caption.zip (Unzipped Files)/Bangla Image Caption/Images/1501001.jpg',\n",
              " '/content/drive/MyDrive/Bangla Image Caption.zip (Unzipped Files)/Bangla Image Caption/Images/1501002.jpg',\n",
              " '/content/drive/MyDrive/Bangla Image Caption.zip (Unzipped Files)/Bangla Image Caption/Images/1501003.jpg',\n",
              " '/content/drive/MyDrive/Bangla Image Caption.zip (Unzipped Files)/Bangla Image Caption/Images/1501004.jpg',\n",
              " '/content/drive/MyDrive/Bangla Image Caption.zip (Unzipped Files)/Bangla Image Caption/Images/1501005.jpg']"
            ]
          },
          "metadata": {},
          "execution_count": 64
        }
      ],
      "source": [
        "images[:5]"
      ]
    },
    {
      "cell_type": "code",
      "execution_count": null,
      "metadata": {
        "colab": {
          "base_uri": "https://localhost:8080/"
        },
        "id": "Doz61PK25yt7",
        "outputId": "e6616199-4e43-4bf3-d36d-d3c0b91d3c9a"
      },
      "outputs": [
        {
          "output_type": "stream",
          "name": "stdout",
          "text": [
            "Looking in indexes: https://pypi.org/simple, https://us-python.pkg.dev/colab-wheels/public/simple/\n",
            "Requirement already satisfied: tensorflow in /usr/local/lib/python3.7/dist-packages (2.8.2+zzzcolab20220527125636)\n",
            "Requirement already satisfied: keras in /usr/local/lib/python3.7/dist-packages (2.8.0)\n",
            "Requirement already satisfied: pillow in /usr/local/lib/python3.7/dist-packages (7.1.2)\n",
            "Requirement already satisfied: numpy in /usr/local/lib/python3.7/dist-packages (1.21.6)\n",
            "Requirement already satisfied: tqdm in /usr/local/lib/python3.7/dist-packages (4.64.0)\n",
            "Requirement already satisfied: protobuf<3.20,>=3.9.2 in /usr/local/lib/python3.7/dist-packages (from tensorflow) (3.17.3)\n",
            "Requirement already satisfied: grpcio<2.0,>=1.24.3 in /usr/local/lib/python3.7/dist-packages (from tensorflow) (1.46.3)\n",
            "Requirement already satisfied: keras-preprocessing>=1.1.1 in /usr/local/lib/python3.7/dist-packages (from tensorflow) (1.1.2)\n",
            "Requirement already satisfied: h5py>=2.9.0 in /usr/local/lib/python3.7/dist-packages (from tensorflow) (3.1.0)\n",
            "Requirement already satisfied: flatbuffers>=1.12 in /usr/local/lib/python3.7/dist-packages (from tensorflow) (2.0)\n",
            "Requirement already satisfied: tensorboard<2.9,>=2.8 in /usr/local/lib/python3.7/dist-packages (from tensorflow) (2.8.0)\n",
            "Requirement already satisfied: tensorflow-estimator<2.9,>=2.8 in /usr/local/lib/python3.7/dist-packages (from tensorflow) (2.8.0)\n",
            "Requirement already satisfied: wrapt>=1.11.0 in /usr/local/lib/python3.7/dist-packages (from tensorflow) (1.14.1)\n",
            "Requirement already satisfied: typing-extensions>=3.6.6 in /usr/local/lib/python3.7/dist-packages (from tensorflow) (4.1.1)\n",
            "Requirement already satisfied: gast>=0.2.1 in /usr/local/lib/python3.7/dist-packages (from tensorflow) (0.5.3)\n",
            "Requirement already satisfied: opt-einsum>=2.3.2 in /usr/local/lib/python3.7/dist-packages (from tensorflow) (3.3.0)\n",
            "Requirement already satisfied: setuptools in /usr/local/lib/python3.7/dist-packages (from tensorflow) (57.4.0)\n",
            "Requirement already satisfied: tensorflow-io-gcs-filesystem>=0.23.1 in /usr/local/lib/python3.7/dist-packages (from tensorflow) (0.26.0)\n",
            "Requirement already satisfied: six>=1.12.0 in /usr/local/lib/python3.7/dist-packages (from tensorflow) (1.15.0)\n",
            "Requirement already satisfied: termcolor>=1.1.0 in /usr/local/lib/python3.7/dist-packages (from tensorflow) (1.1.0)\n",
            "Requirement already satisfied: google-pasta>=0.1.1 in /usr/local/lib/python3.7/dist-packages (from tensorflow) (0.2.0)\n",
            "Requirement already satisfied: astunparse>=1.6.0 in /usr/local/lib/python3.7/dist-packages (from tensorflow) (1.6.3)\n",
            "Requirement already satisfied: absl-py>=0.4.0 in /usr/local/lib/python3.7/dist-packages (from tensorflow) (1.1.0)\n",
            "Requirement already satisfied: libclang>=9.0.1 in /usr/local/lib/python3.7/dist-packages (from tensorflow) (14.0.1)\n",
            "Requirement already satisfied: wheel<1.0,>=0.23.0 in /usr/local/lib/python3.7/dist-packages (from astunparse>=1.6.0->tensorflow) (0.37.1)\n",
            "Requirement already satisfied: cached-property in /usr/local/lib/python3.7/dist-packages (from h5py>=2.9.0->tensorflow) (1.5.2)\n",
            "Requirement already satisfied: markdown>=2.6.8 in /usr/local/lib/python3.7/dist-packages (from tensorboard<2.9,>=2.8->tensorflow) (3.3.7)\n",
            "Requirement already satisfied: google-auth<3,>=1.6.3 in /usr/local/lib/python3.7/dist-packages (from tensorboard<2.9,>=2.8->tensorflow) (1.35.0)\n",
            "Requirement already satisfied: google-auth-oauthlib<0.5,>=0.4.1 in /usr/local/lib/python3.7/dist-packages (from tensorboard<2.9,>=2.8->tensorflow) (0.4.6)\n",
            "Requirement already satisfied: requests<3,>=2.21.0 in /usr/local/lib/python3.7/dist-packages (from tensorboard<2.9,>=2.8->tensorflow) (2.23.0)\n",
            "Requirement already satisfied: tensorboard-data-server<0.7.0,>=0.6.0 in /usr/local/lib/python3.7/dist-packages (from tensorboard<2.9,>=2.8->tensorflow) (0.6.1)\n",
            "Requirement already satisfied: werkzeug>=0.11.15 in /usr/local/lib/python3.7/dist-packages (from tensorboard<2.9,>=2.8->tensorflow) (1.0.1)\n",
            "Requirement already satisfied: tensorboard-plugin-wit>=1.6.0 in /usr/local/lib/python3.7/dist-packages (from tensorboard<2.9,>=2.8->tensorflow) (1.8.1)\n",
            "Requirement already satisfied: rsa<5,>=3.1.4 in /usr/local/lib/python3.7/dist-packages (from google-auth<3,>=1.6.3->tensorboard<2.9,>=2.8->tensorflow) (4.8)\n",
            "Requirement already satisfied: cachetools<5.0,>=2.0.0 in /usr/local/lib/python3.7/dist-packages (from google-auth<3,>=1.6.3->tensorboard<2.9,>=2.8->tensorflow) (4.2.4)\n",
            "Requirement already satisfied: pyasn1-modules>=0.2.1 in /usr/local/lib/python3.7/dist-packages (from google-auth<3,>=1.6.3->tensorboard<2.9,>=2.8->tensorflow) (0.2.8)\n",
            "Requirement already satisfied: requests-oauthlib>=0.7.0 in /usr/local/lib/python3.7/dist-packages (from google-auth-oauthlib<0.5,>=0.4.1->tensorboard<2.9,>=2.8->tensorflow) (1.3.1)\n",
            "Requirement already satisfied: importlib-metadata>=4.4 in /usr/local/lib/python3.7/dist-packages (from markdown>=2.6.8->tensorboard<2.9,>=2.8->tensorflow) (4.11.4)\n",
            "Requirement already satisfied: zipp>=0.5 in /usr/local/lib/python3.7/dist-packages (from importlib-metadata>=4.4->markdown>=2.6.8->tensorboard<2.9,>=2.8->tensorflow) (3.8.0)\n",
            "Requirement already satisfied: pyasn1<0.5.0,>=0.4.6 in /usr/local/lib/python3.7/dist-packages (from pyasn1-modules>=0.2.1->google-auth<3,>=1.6.3->tensorboard<2.9,>=2.8->tensorflow) (0.4.8)\n",
            "Requirement already satisfied: urllib3!=1.25.0,!=1.25.1,<1.26,>=1.21.1 in /usr/local/lib/python3.7/dist-packages (from requests<3,>=2.21.0->tensorboard<2.9,>=2.8->tensorflow) (1.24.3)\n",
            "Requirement already satisfied: idna<3,>=2.5 in /usr/local/lib/python3.7/dist-packages (from requests<3,>=2.21.0->tensorboard<2.9,>=2.8->tensorflow) (2.10)\n",
            "Requirement already satisfied: certifi>=2017.4.17 in /usr/local/lib/python3.7/dist-packages (from requests<3,>=2.21.0->tensorboard<2.9,>=2.8->tensorflow) (2022.6.15)\n",
            "Requirement already satisfied: chardet<4,>=3.0.2 in /usr/local/lib/python3.7/dist-packages (from requests<3,>=2.21.0->tensorboard<2.9,>=2.8->tensorflow) (3.0.4)\n",
            "Requirement already satisfied: oauthlib>=3.0.0 in /usr/local/lib/python3.7/dist-packages (from requests-oauthlib>=0.7.0->google-auth-oauthlib<0.5,>=0.4.1->tensorboard<2.9,>=2.8->tensorflow) (3.2.0)\n"
          ]
        }
      ],
      "source": [
        "!pip install tensorflow keras pillow numpy tqdm"
      ]
    },
    {
      "cell_type": "code",
      "source": [
        "BASE_DIR = '/content/drive/MyDrive/Bangla Image Caption.zip (Unzipped Files)/fm dataset'\n",
        "WORKING_DIR = '/content/drive/MyDrive/Bangla Image Caption.zip (Unzipped Files)/fm dataset/'"
      ],
      "metadata": {
        "id": "3RX0ZhGe4sxp"
      },
      "execution_count": null,
      "outputs": []
    },
    {
      "cell_type": "code",
      "source": [
        "#LOAD FEATURES\n",
        "with open(os.path.join(WORKING_DIR, '152features.npy'),'rb') as f:\n",
        "  features = pickle.load(f)"
      ],
      "metadata": {
        "id": "-MApHTzlgTx0"
      },
      "execution_count": null,
      "outputs": []
    },
    {
      "cell_type": "code",
      "source": [
        "len(features)"
      ],
      "metadata": {
        "colab": {
          "base_uri": "https://localhost:8080/"
        },
        "id": "tTJiNtCjgdxQ",
        "outputId": "610c698d-e03c-4d2e-edb1-dc459542d7eb"
      },
      "execution_count": null,
      "outputs": [
        {
          "output_type": "execute_result",
          "data": {
            "text/plain": [
              "6814"
            ]
          },
          "metadata": {},
          "execution_count": 54
        }
      ]
    },
    {
      "cell_type": "code",
      "source": [
        "with open(os.path.join(captions_dir, 'Copy of Caption.txt'),'r') as f:\n",
        "  next(f)\n",
        "  captions_doc = f.read()\n",
        "\n",
        "#CHECK\n",
        "captions_doc"
      ],
      "metadata": {
        "colab": {
          "base_uri": "https://localhost:8080/",
          "height": 123
        },
        "id": "pK6mAhsagmCB",
        "outputId": "3a9e012f-e7c4-402d-fd4d-9133ac30612c"
      },
      "execution_count": null,
      "outputs": [
        {
          "output_type": "execute_result",
          "data": {
            "text/plain": [
              "'\\n\\n1510002  মধুর ক্যান্টিনের বারান্দায় কয়েকজন ছাত্র বসে গল্প করছে।\\n\\n\\n1510003 মধুর ক্যান্টিনের সামনে ছাত্ররা জড়ো হয়েছে।\\n\\n\\n1510004 অপরাজেয় বাংলার পাদদেশে অনেক মানুষ বসে আছে।\\n\\n\\n1510005 ঢাকা বিশ্ববিদ্যালয় লাইব্রেরি থেকে একজন হুডি পড়া ছেলে বের হচ্ছে আর একজন নেভি ব্লু রঙের হুডি পড়া ছাত্র ভিতরে ঢুকছে।\\n\\n\\n1520001 একটি মেয়ে হলুদ রঙের একটা মুখোশ নকশা করছে।\\n\\n\\n1520002 দুইজন মেয়ে শাড়ি আর মাথায় ফুলের মুকুট পড়েছে।\\n1520003  সবাই লাল সাদা জামা পড়ে হাতে ফেস্টুন নিয়ে সামনে যাচ্ছে।\\n\\n\\n1520004  একটা মেয়ে লাল শাড়ি আর মাথায় ফুল পড়েছে এবং তার গালে শুভ নববর্ষ লেখা।\\n\\n\\n1520005 কয়েকটা মেয়ে মাথায় ফুলের মুকুট আর লাল শাড়ি পড়ে হাটছে।\\n\\n\\n1502006 দুইজন মহিলা হলুদ ফুলের তিতলি আর মালা পড়ে ছবি গাঁদা ফুল দেখছে।\\n\\n\\n1502007 মাথায় ফুলের মুকুট পড়া একজন মেয়ে দুইটা মেয়ের ছবি তুলে দিচ্ছে।\\n\\n\\n1520008 তিনজন মেয়ে শাড়ি আর ফুলের গয়না পড়ে নৃত্য পরিবেশনা করছে।\\n\\n\\n15030001 চারটা বাচ্চা গল্পের বই দেখছে।\\n\\n\\n1503002 একটা বই এর স্টলের সামনে অনেক মানুষ বই দেখছে।\\n\\n\\n1503003 সাদা জামা পড়া একটি মেয়ে বই এর স্টলে একটা বই দেখছে।\\n\\n\\n1503005 মাথায় ফুলের মুকুট পড়া একটা বাচ্চা মেয়ে বই এর স্টলের সামনে একটা গল্পের বই পড়ছে।\\n\\n\\n153006 বাংলা একাডেমির স্টলের সামনে একজন লোক দাঁড়িয়ে আছে সামনে দিয়ে দুইজন মহিলা হেঁটে যাচ্ছেন।\\n\\n\\n1503002 মেরুন হুডি পড়া একটা ছেলে বই এর স্টল থেকে বই দেখছে।\\n\\n\\n1503008 অন্যপ্রকাশ স্টলের সামনে অনেক মানুষ বই দেখছে।\\n\\n\\n1503009 একজন বই এর দোকানদার বই সোজা করে রাখছে।\\n\\n\\n1504001 স্কুলের বাচ্চারা খাতায় লিখছে দুইজন শিক্ষিকা তাদের পর্যবেক্ষন করছেন।\\n\\n\\n1504002 প্রাথমিক স্কুলের বাচ্চারা বই হাতে নিয়ে দাঁড়িয়ে আছে।\\n\\n\\n1504003 মেয়েরা মাধ্যমিক পরিক্ষা দিচ্ছে।\\n\\n\\n1504004  বেনী করা তিনজন স্কুলের ছাত্রী হাত ধরে দাঁড়িয়ে আছে।\\n\\n\\n1504005 শ্রেনীকক্ষে বাচ্চারা হাত তুলে বসে আছে।\\n\\n\\n1504006 ক্লাসে বাচ্চারা দাঁড়িয়ে হাসিমুখে হাত তালি দিচ্ছে।\\n\\n\\n1504007 ছাত্ররা দাঁড়িয়ে শিক্ষক কে সম্মান করছে।\\n\\n\\n1504008 ছাত্ররা পরীক্ষা দিচ্ছে একজন শিক্ষিকা তাদের পাহাড়া দিচ্ছে।\\n\\n\\n1505001 শহিদ  মিনারের সামনে একটি পতাকা রাখা।\\n\\n\\n1505002 শহিদ  মিনারের পুষ্পার্ঘ্য দেওয়া হয়েছে।\\n\\n\\n1505003 একটা মেয়ে ফুলের তোড়া দিয়ে শহিদ  মিনারের সামনে দাঁড়িয়ে আছে  পিছনে কয়েকটা ছেলে শ্রদ্ধাঞ্জলি দিচ্ছে।\\n\\n\\n1505004 সাদা শাড়ি পড়া একটা মেয়ে শহিদ মিনারের বেদি গাঁদা ফুল দিয়ে সাজাচ্ছে।\\n\\n\\n1505005 শহিদ মিনারের বেদীতে গাঁদা ফুল দিয়ে ঢাকা বিশ্ববিদ্যালয় লিখা।\\n\\n\\n1506001 কয়েক জন জাতীয় স্মৃতিসৌধ ঘুরে দেখছে।\\n\\n\\n1506002 জাতীয় স্মৃতিসৌধে পুষ্পার্ঘ্য দেওয়া হয়েছে।\\n\\n\\n1506003 জাতীয় স্মৃতিসৌধের সামনে একটি বিশাল পতাকার চারপাশে সবাই দাঁড়িয়ে আছে।\\n\\n\\n1506004 জাতীয় স্মৃতিসৌধের সামনে মানুষের বিশাল ঢল, ্তার মধ্যে একজন পতাকা বিক্রেতা পতাকা উড়াচ্ছেন।\\n\\n\\n\\n\\n1599099 পাকিস্তানি বাহিনীর প্রধান বাংলাদেশের বিজয় সনদে সাইন করার জন্য দাঁড়িয়ে আছে।\\n\\n\\n1599100 পাকিস্তানি বাহিনী বাংলাদেশের কাছে আত্মসমর্পণ করে সাইন করছে।'"
            ],
            "application/vnd.google.colaboratory.intrinsic+json": {
              "type": "string"
            }
          },
          "metadata": {},
          "execution_count": 55
        }
      ]
    },
    {
      "cell_type": "code",
      "source": [
        "mapping = {}\n",
        "# PROCESS LINE\n",
        "for line in tqdm(captions_doc.split('\\n')):\n",
        "  #SPLIT THE LINE BY COMMA\n",
        "  tokens = line.split(',')\n",
        "  if len(line) <12:\n",
        "    continue\n",
        "  image_id, caption = tokens[0], tokens[1:]\n",
        "  #REMOVE EXTENSION FROM IMAGE ID\n",
        "  image_id = image_id.split('.')[0]\n",
        "  #CONVERT CAPTION LIST TO STRING\n",
        "  caption = \" \".join(caption)\n",
        "  #CREATE LIST IF NEED\n",
        "  if image_id not in mapping:\n",
        "    mapping[image_id] = []\n",
        "  mapping[image_id].append(caption)"
      ],
      "metadata": {
        "colab": {
          "base_uri": "https://localhost:8080/"
        },
        "id": "MWBMWAfNgycX",
        "outputId": "0cbb2c62-f261-4cdd-ffcc-6f0ffada8e1c"
      },
      "execution_count": null,
      "outputs": [
        {
          "output_type": "stream",
          "name": "stderr",
          "text": [
            "100%|██████████| 117/117 [00:00<00:00, 110178.17it/s]\n"
          ]
        }
      ]
    },
    {
      "cell_type": "code",
      "source": [
        "def clean(mapping):\n",
        "  for key, captions in mapping.items():\n",
        "    for i in range(len(captions)):\n",
        "      caption = captions[i] #TAKE ONE CAPTION AT A TIME\n",
        "      #PREPROCESSING STEPS\n",
        "      caption = caption.replace('\\s+',' ') #DELETE ADDITIONAL SPACES\n",
        "      #ADD START AND TAGS TO THE CAPTIONS\n",
        "      #caption = '<start> ' + caption + ' <end>' #HELP'S TO START AND STOP PREDICITON, END TAG HELPS TO STOP\n",
        "      caption = '<start> ' + \" \".join(word for word in caption.split() if len(word)) + ' <end>' #remove small first word such as 'a'\n",
        "      captions[i] = caption"
      ],
      "metadata": {
        "id": "m6h9Wqbeg4OS"
      },
      "execution_count": null,
      "outputs": []
    },
    {
      "cell_type": "code",
      "source": [
        "clean(mapping)"
      ],
      "metadata": {
        "id": "8BpCEJzMg8cB"
      },
      "execution_count": null,
      "outputs": []
    },
    {
      "cell_type": "code",
      "source": [
        "all_captions = []\n",
        "for key in mapping:\n",
        "  for caption in mapping[key]:\n",
        "    all_captions.append(caption)\n",
        "\n",
        "#check\n",
        "print(len(features))\n",
        "print(len(all_captions))\n",
        "all_captions[:10]"
      ],
      "metadata": {
        "colab": {
          "base_uri": "https://localhost:8080/"
        },
        "id": "FrBLc7sHhjNf",
        "outputId": "6772f8ac-d3b9-4287-a559-b6c80362e86f"
      },
      "execution_count": null,
      "outputs": [
        {
          "output_type": "stream",
          "name": "stdout",
          "text": [
            "6814\n",
            "39\n"
          ]
        },
        {
          "output_type": "execute_result",
          "data": {
            "text/plain": [
              "['<start>  <end>',\n",
              " '<start>  <end>',\n",
              " '<start>  <end>',\n",
              " '<start>  <end>',\n",
              " '<start>  <end>',\n",
              " '<start>  <end>',\n",
              " '<start>  <end>',\n",
              " '<start>  <end>',\n",
              " '<start>  <end>',\n",
              " '<start>  <end>']"
            ]
          },
          "metadata": {},
          "execution_count": 59
        }
      ]
    },
    {
      "cell_type": "code",
      "execution_count": null,
      "metadata": {
        "id": "QqCwXAu9AQnI",
        "colab": {
          "base_uri": "https://localhost:8080/"
        },
        "outputId": "6f7584b7-42c4-4de9-fd8c-97db8eaab2a0"
      },
      "outputs": [
        {
          "output_type": "execute_result",
          "data": {
            "text/plain": [
              "['/content/drive/MyDrive/Bangla Image Caption.zip (Unzipped Files)/Bangla Image Caption/Images/1510002  মধুর ক্যান্টিনের বারান্দায় কয়েকজন ছাত্র বসে গল্প করছে।.png',\n",
              " '/content/drive/MyDrive/Bangla Image Caption.zip (Unzipped Files)/Bangla Image Caption/Images/1510003 মধুর ক্যান্টিনের সামনে ছাত্ররা জড়ো হয়েছে।.png',\n",
              " '/content/drive/MyDrive/Bangla Image Caption.zip (Unzipped Files)/Bangla Image Caption/Images/1510004 অপরাজেয় বাংলার পাদদেশে অনেক মানুষ বসে আছে।.png',\n",
              " '/content/drive/MyDrive/Bangla Image Caption.zip (Unzipped Files)/Bangla Image Caption/Images/1510005 ঢাকা বিশ্ববিদ্যালয় লাইব্রেরি থেকে একজন হুডি পড়া ছেলে বের হচ্ছে আর একজন নেভি ব্লু রঙের হুডি পড়া ছাত্র ভিতরে ঢুকছে।.png',\n",
              " '/content/drive/MyDrive/Bangla Image Caption.zip (Unzipped Files)/Bangla Image Caption/Images/1520001 একটি মেয়ে হলুদ রঙের একটা মুখোশ নকশা করছে।.png',\n",
              " '/content/drive/MyDrive/Bangla Image Caption.zip (Unzipped Files)/Bangla Image Caption/Images/1520002 দুইজন মেয়ে শাড়ি আর মাথায় ফুলের মুকুট পড়েছে।.png',\n",
              " '/content/drive/MyDrive/Bangla Image Caption.zip (Unzipped Files)/Bangla Image Caption/Images/1520003  সবাই লাল সাদা জামা পড়ে হাতে ফেস্টুন নিয়ে সামনে যাচ্ছে।.png',\n",
              " '/content/drive/MyDrive/Bangla Image Caption.zip (Unzipped Files)/Bangla Image Caption/Images/1520004  একটা মেয়ে লাল শাড়ি আর মাথায় ফুল পড়েছে এবং তার গালে শুভ নববর্ষ লেখা।.png',\n",
              " '/content/drive/MyDrive/Bangla Image Caption.zip (Unzipped Files)/Bangla Image Caption/Images/1520005 কয়েকটা মেয়ে মাথায় ফুলের মুকুট আর লাল শাড়ি পড়ে হাটছে।.png',\n",
              " '/content/drive/MyDrive/Bangla Image Caption.zip (Unzipped Files)/Bangla Image Caption/Images/1502006 দুইজন মহিলা হলুদ ফুলের তিতলি আর মালা পড়ে ছবি গাঁদা ফুল দেখছে।.png']"
            ]
          },
          "metadata": {},
          "execution_count": 60
        }
      ],
      "source": [
        "all_img_name_vector = []\n",
        "\n",
        "for image_id in mapping:\n",
        "  for key in mapping[image_id]:\n",
        "    image = image_path + image_id + '.png'\n",
        "    all_img_name_vector.append(image)\n",
        "\n",
        "all_img_name_vector[:10]"
      ]
    },
    {
      "cell_type": "code",
      "source": [
        "print(f\"len(all_img_name_vector) : {len(all_img_name_vector)}\")\n",
        "print(f\"len(all_captions) : {len(all_captions)}\")"
      ],
      "metadata": {
        "colab": {
          "base_uri": "https://localhost:8080/"
        },
        "id": "rBHHUrH9ip24",
        "outputId": "e02401e8-3fb5-4c56-c860-0d4ae0e32745"
      },
      "execution_count": null,
      "outputs": [
        {
          "output_type": "stream",
          "name": "stdout",
          "text": [
            "len(all_img_name_vector) : 39\n",
            "len(all_captions) : 39\n"
          ]
        }
      ]
    },
    {
      "cell_type": "code",
      "source": [
        "# Shuffle captions and image_names together\n",
        "# Set a random state\n",
        "train_captions, img_name_vector = shuffle(all_captions,\n",
        "                                          all_img_name_vector,\n",
        "                                          random_state=1)\n",
        "\n",
        "# Select the first 16000 captions from the shuffled set\n",
        "num_examples = 18000\n",
        "train_captions = train_captions[:num_examples]\n",
        "img_name_vector = img_name_vector[:num_examples]"
      ],
      "metadata": {
        "id": "Umj_74XWip4F"
      },
      "execution_count": null,
      "outputs": []
    },
    {
      "cell_type": "code",
      "source": [
        "tokenizer = Tokenizer()\n",
        "tokenizer.fit_on_texts(all_captions)\n",
        "vocab_size = len(tokenizer.word_index)+1\n",
        "\n",
        "vocab_size #CHECK"
      ],
      "metadata": {
        "colab": {
          "base_uri": "https://localhost:8080/"
        },
        "id": "Vvcpl0QMiyzR",
        "outputId": "4dcfa716-6061-4d55-ef11-9beef10a3e61"
      },
      "execution_count": null,
      "outputs": [
        {
          "output_type": "execute_result",
          "data": {
            "text/plain": [
              "9"
            ]
          },
          "metadata": {},
          "execution_count": 45
        }
      ]
    },
    {
      "cell_type": "code",
      "source": [
        "len(train_captions), len(all_captions)"
      ],
      "metadata": {
        "colab": {
          "base_uri": "https://localhost:8080/"
        },
        "id": "RsNV6xUaiy3l",
        "outputId": "7fb2e15f-1daf-4c60-b646-43b2d1d8cb4d"
      },
      "execution_count": null,
      "outputs": [
        {
          "output_type": "execute_result",
          "data": {
            "text/plain": [
              "(39, 39)"
            ]
          },
          "metadata": {},
          "execution_count": 46
        }
      ]
    },
    {
      "cell_type": "code",
      "source": [
        "def load_image(image_path):\n",
        "   img = tf.io.read_file(image_path)\n",
        "   img = tf.image.decode_jpeg(img, channels=3)\n",
        "   img = tf.image.resize(img, (224, 224))\n",
        "   img = preprocess_input(img)\n",
        "   return img, image_path\n",
        "\n",
        "image_model = tf.keras.applications.VGG16(include_top=False, weights='imagenet')\n",
        "new_input = image_model.input\n",
        "hidden_layer = image_model.layers[-1].output\n",
        "image_features_extract_model = tf.keras.Model(new_input, hidden_layer)\n",
        "\n",
        "image_features_extract_model.summary()"
      ],
      "metadata": {
        "colab": {
          "base_uri": "https://localhost:8080/"
        },
        "id": "3B_2vy82iy5I",
        "outputId": "f3ddaf6e-9dc8-4c58-d201-1478a54285a1"
      },
      "execution_count": null,
      "outputs": [
        {
          "output_type": "stream",
          "name": "stdout",
          "text": [
            "Downloading data from https://storage.googleapis.com/tensorflow/keras-applications/vgg16/vgg16_weights_tf_dim_ordering_tf_kernels_notop.h5\n",
            "58892288/58889256 [==============================] - 1s 0us/step\n",
            "58900480/58889256 [==============================] - 1s 0us/step\n",
            "Model: \"model\"\n",
            "_________________________________________________________________\n",
            " Layer (type)                Output Shape              Param #   \n",
            "=================================================================\n",
            " input_1 (InputLayer)        [(None, None, None, 3)]   0         \n",
            "                                                                 \n",
            " block1_conv1 (Conv2D)       (None, None, None, 64)    1792      \n",
            "                                                                 \n",
            " block1_conv2 (Conv2D)       (None, None, None, 64)    36928     \n",
            "                                                                 \n",
            " block1_pool (MaxPooling2D)  (None, None, None, 64)    0         \n",
            "                                                                 \n",
            " block2_conv1 (Conv2D)       (None, None, None, 128)   73856     \n",
            "                                                                 \n",
            " block2_conv2 (Conv2D)       (None, None, None, 128)   147584    \n",
            "                                                                 \n",
            " block2_pool (MaxPooling2D)  (None, None, None, 128)   0         \n",
            "                                                                 \n",
            " block3_conv1 (Conv2D)       (None, None, None, 256)   295168    \n",
            "                                                                 \n",
            " block3_conv2 (Conv2D)       (None, None, None, 256)   590080    \n",
            "                                                                 \n",
            " block3_conv3 (Conv2D)       (None, None, None, 256)   590080    \n",
            "                                                                 \n",
            " block3_pool (MaxPooling2D)  (None, None, None, 256)   0         \n",
            "                                                                 \n",
            " block4_conv1 (Conv2D)       (None, None, None, 512)   1180160   \n",
            "                                                                 \n",
            " block4_conv2 (Conv2D)       (None, None, None, 512)   2359808   \n",
            "                                                                 \n",
            " block4_conv3 (Conv2D)       (None, None, None, 512)   2359808   \n",
            "                                                                 \n",
            " block4_pool (MaxPooling2D)  (None, None, None, 512)   0         \n",
            "                                                                 \n",
            " block5_conv1 (Conv2D)       (None, None, None, 512)   2359808   \n",
            "                                                                 \n",
            " block5_conv2 (Conv2D)       (None, None, None, 512)   2359808   \n",
            "                                                                 \n",
            " block5_conv3 (Conv2D)       (None, None, None, 512)   2359808   \n",
            "                                                                 \n",
            " block5_pool (MaxPooling2D)  (None, None, None, 512)   0         \n",
            "                                                                 \n",
            "=================================================================\n",
            "Total params: 14,714,688\n",
            "Trainable params: 14,714,688\n",
            "Non-trainable params: 0\n",
            "_________________________________________________________________\n"
          ]
        }
      ]
    },
    {
      "cell_type": "code",
      "source": [
        "# Get unique images\n",
        "encode_train = sorted(set(img_name_vector))\n",
        "\n",
        "# Feel free to change batch_size according to your system configuration\n",
        "image_dataset = tf.data.Dataset.from_tensor_slices(encode_train)\n",
        "image_dataset = image_dataset.map(load_image, num_parallel_calls=tf.data.experimental.AUTOTUNE).batch(16)"
      ],
      "metadata": {
        "id": "rx_OrF1Miy7M"
      },
      "execution_count": null,
      "outputs": []
    },
    {
      "cell_type": "code",
      "source": [
        "for img, path in tqdm(image_dataset):\n",
        "  batch_features = image_features_extract_model(img)\n",
        "  batch_features = tf.reshape(batch_features, (batch_features.shape[0], -1, batch_features.shape[3]))\n",
        "\n",
        "  for bf, p in zip(batch_features, path):\n",
        "    path_of_feature = p.numpy().decode(\"utf-8\")\n",
        "    np.save(path_of_feature, bf.numpy())"
      ],
      "metadata": {
        "id": "8JwvFsMkiy9l"
      },
      "execution_count": null,
      "outputs": []
    },
    {
      "cell_type": "code",
      "source": [
        ""
      ],
      "metadata": {
        "id": "Ol9Rz-ifizAx"
      },
      "execution_count": null,
      "outputs": []
    },
    {
      "cell_type": "code",
      "source": [
        "image_path_to_caption = '/content/drive/MyDrive/Bangla Image Caption.zip (Unzipped Files)/Bangla Image Caption/Copy of Caption.txt/'\n",
        "with open(os.path.join(BASE_DIR, 'Copy of Caption.txt'),'r') as f:\n",
        "  next(f)\n",
        "  captions_doc = f.read()"
      ],
      "metadata": {
        "id": "w_yTNVWV4NNz"
      },
      "execution_count": null,
      "outputs": []
    },
    {
      "cell_type": "code",
      "source": [
        "captions_doc"
      ],
      "metadata": {
        "colab": {
          "base_uri": "https://localhost:8080/",
          "height": 123
        },
        "id": "1VwAbhHe5I_c",
        "outputId": "baa94cf6-d9f3-4214-b839-7e39370af4c1"
      },
      "execution_count": null,
      "outputs": [
        {
          "output_type": "execute_result",
          "data": {
            "text/plain": [
              "'\\n\\n1510002  মধুর ক্যান্টিনের বারান্দায় কয়েকজন ছাত্র বসে গল্প করছে।\\n\\n\\n1510003 মধুর ক্যান্টিনের সামনে ছাত্ররা জড়ো হয়েছে।\\n\\n\\n1510004 অপরাজেয় বাংলার পাদদেশে অনেক মানুষ বসে আছে।\\n\\n\\n1510005 ঢাকা বিশ্ববিদ্যালয় লাইব্রেরি থেকে একজন হুডি পড়া ছেলে বের হচ্ছে আর একজন নেভি ব্লু রঙের হুডি পড়া ছাত্র ভিতরে ঢুকছে।\\n\\n\\n1520001 একটি মেয়ে হলুদ রঙের একটা মুখোশ নকশা করছে।\\n\\n\\n1520002 দুইজন মেয়ে শাড়ি আর মাথায় ফুলের মুকুট পড়েছে।\\n1520003  সবাই লাল সাদা জামা পড়ে হাতে ফেস্টুন নিয়ে সামনে যাচ্ছে।\\n\\n\\n1520004  একটা মেয়ে লাল শাড়ি আর মাথায় ফুল পড়েছে এবং তার গালে শুভ নববর্ষ লেখা।\\n\\n\\n1520005 কয়েকটা মেয়ে মাথায় ফুলের মুকুট আর লাল শাড়ি পড়ে হাটছে।\\n\\n\\n1502006 দুইজন মহিলা হলুদ ফুলের তিতলি আর মালা পড়ে ছবি গাঁদা ফুল দেখছে।\\n\\n\\n1502007 মাথায় ফুলের মুকুট পড়া একজন মেয়ে দুইটা মেয়ের ছবি তুলে দিচ্ছে।\\n\\n\\n1520008 তিনজন মেয়ে শাড়ি আর ফুলের গয়না পড়ে নৃত্য পরিবেশনা করছে।\\n\\n\\n15030001 চারটা বাচ্চা গল্পের বই দেখছে।\\n\\n\\n1503002 একটা বই এর স্টলের সামনে অনেক মানুষ বই দেখছে।\\n\\n\\n1503003 সাদা জামা পড়া একটি মেয়ে বই এর স্টলে একটা বই দেখছে।\\n\\n\\n1503005 মাথায় ফুলের মুকুট পড়া একটা বাচ্চা মেয়ে বই এর স্টলের সামনে একটা গল্পের বই পড়ছে।\\n\\n\\n153006 বাংলা একাডেমির স্টলের সামনে একজন লোক দাঁড়িয়ে আছে সামনে দিয়ে দুইজন মহিলা হেঁটে যাচ্ছেন।\\n\\n\\n1503002 মেরুন হুডি পড়া একটা ছেলে বই এর স্টল থেকে বই দেখছে।\\n\\n\\n1503008 অন্যপ্রকাশ স্টলের সামনে অনেক মানুষ বই দেখছে।\\n\\n\\n1503009 একজন বই এর দোকানদার বই সোজা করে রাখছে।\\n\\n\\n1504001 স্কুলের বাচ্চারা খাতায় লিখছে দুইজন শিক্ষিকা তাদের পর্যবেক্ষন করছেন।\\n\\n\\n1504002 প্রাথমিক স্কুলের বাচ্চারা বই হাতে নিয়ে দাঁড়িয়ে আছে।\\n\\n\\n1504003 মেয়েরা মাধ্যমিক পরিক্ষা দিচ্ছে।\\n\\n\\n1504004  বেনী করা তিনজন স্কুলের ছাত্রী হাত ধরে দাঁড়িয়ে আছে।\\n\\n\\n1504005 শ্রেনীকক্ষে বাচ্চারা হাত তুলে বসে আছে।\\n\\n\\n1504006 ক্লাসে বাচ্চারা দাঁড়িয়ে হাসিমুখে হাত তালি দিচ্ছে।\\n\\n\\n1504007 ছাত্ররা দাঁড়িয়ে শিক্ষক কে সম্মান করছে।\\n\\n\\n1504008 ছাত্ররা পরীক্ষা দিচ্ছে একজন শিক্ষিকা তাদের পাহাড়া দিচ্ছে।\\n\\n\\n1505001 শহিদ  মিনারের সামনে একটি পতাকা রাখা।\\n\\n\\n1505002 শহিদ  মিনারের পুষ্পার্ঘ্য দেওয়া হয়েছে।\\n\\n\\n1505003 একটা মেয়ে ফুলের তোড়া দিয়ে শহিদ  মিনারের সামনে দাঁড়িয়ে আছে  পিছনে কয়েকটা ছেলে শ্রদ্ধাঞ্জলি দিচ্ছে।\\n\\n\\n1505004 সাদা শাড়ি পড়া একটা মেয়ে শহিদ মিনারের বেদি গাঁদা ফুল দিয়ে সাজাচ্ছে।\\n\\n\\n1505005 শহিদ মিনারের বেদীতে গাঁদা ফুল দিয়ে ঢাকা বিশ্ববিদ্যালয় লিখা।\\n\\n\\n1506001 কয়েক জন জাতীয় স্মৃতিসৌধ ঘুরে দেখছে।\\n\\n\\n1506002 জাতীয় স্মৃতিসৌধে পুষ্পার্ঘ্য দেওয়া হয়েছে।\\n\\n\\n1506003 জাতীয় স্মৃতিসৌধের সামনে একটি বিশাল পতাকার চারপাশে সবাই দাঁড়িয়ে আছে।\\n\\n\\n1506004 জাতীয় স্মৃতিসৌধের সামনে মানুষের বিশাল ঢল, ্তার মধ্যে একজন পতাকা বিক্রেতা পতাকা উড়াচ্ছেন।\\n\\n\\n\\n\\n1599099 পাকিস্তানি বাহিনীর প্রধান বাংলাদেশের বিজয় সনদে সাইন করার জন্য দাঁড়িয়ে আছে।\\n\\n\\n1599100 পাকিস্তানি বাহিনী বাংলাদেশের কাছে আত্মসমর্পণ করে সাইন করছে।'"
            ],
            "application/vnd.google.colaboratory.intrinsic+json": {
              "type": "string"
            }
          },
          "metadata": {},
          "execution_count": 93
        }
      ]
    },
    {
      "cell_type": "code",
      "execution_count": null,
      "metadata": {
        "colab": {
          "base_uri": "https://localhost:8080/"
        },
        "id": "mSR0p1e0AeMa",
        "outputId": "452ca055-ff2e-4538-f34d-51e3d4739409"
      },
      "outputs": [
        {
          "output_type": "stream",
          "name": "stdout",
          "text": [
            "Model: \"resnet50\"\n",
            "__________________________________________________________________________________________________\n",
            " Layer (type)                   Output Shape         Param #     Connected to                     \n",
            "==================================================================================================\n",
            " input_5 (InputLayer)           [(None, None, None,  0           []                               \n",
            "                                 3)]                                                              \n",
            "                                                                                                  \n",
            " conv1_pad (ZeroPadding2D)      (None, None, None,   0           ['input_5[0][0]']                \n",
            "                                3)                                                                \n",
            "                                                                                                  \n",
            " conv1_conv (Conv2D)            (None, None, None,   9472        ['conv1_pad[0][0]']              \n",
            "                                64)                                                               \n",
            "                                                                                                  \n",
            " conv1_bn (BatchNormalization)  (None, None, None,   256         ['conv1_conv[0][0]']             \n",
            "                                64)                                                               \n",
            "                                                                                                  \n",
            " conv1_relu (Activation)        (None, None, None,   0           ['conv1_bn[0][0]']               \n",
            "                                64)                                                               \n",
            "                                                                                                  \n",
            " pool1_pad (ZeroPadding2D)      (None, None, None,   0           ['conv1_relu[0][0]']             \n",
            "                                64)                                                               \n",
            "                                                                                                  \n",
            " pool1_pool (MaxPooling2D)      (None, None, None,   0           ['pool1_pad[0][0]']              \n",
            "                                64)                                                               \n",
            "                                                                                                  \n",
            " conv2_block1_1_conv (Conv2D)   (None, None, None,   4160        ['pool1_pool[0][0]']             \n",
            "                                64)                                                               \n",
            "                                                                                                  \n",
            " conv2_block1_1_bn (BatchNormal  (None, None, None,   256        ['conv2_block1_1_conv[0][0]']    \n",
            " ization)                       64)                                                               \n",
            "                                                                                                  \n",
            " conv2_block1_1_relu (Activatio  (None, None, None,   0          ['conv2_block1_1_bn[0][0]']      \n",
            " n)                             64)                                                               \n",
            "                                                                                                  \n",
            " conv2_block1_2_conv (Conv2D)   (None, None, None,   36928       ['conv2_block1_1_relu[0][0]']    \n",
            "                                64)                                                               \n",
            "                                                                                                  \n",
            " conv2_block1_2_bn (BatchNormal  (None, None, None,   256        ['conv2_block1_2_conv[0][0]']    \n",
            " ization)                       64)                                                               \n",
            "                                                                                                  \n",
            " conv2_block1_2_relu (Activatio  (None, None, None,   0          ['conv2_block1_2_bn[0][0]']      \n",
            " n)                             64)                                                               \n",
            "                                                                                                  \n",
            " conv2_block1_0_conv (Conv2D)   (None, None, None,   16640       ['pool1_pool[0][0]']             \n",
            "                                256)                                                              \n",
            "                                                                                                  \n",
            " conv2_block1_3_conv (Conv2D)   (None, None, None,   16640       ['conv2_block1_2_relu[0][0]']    \n",
            "                                256)                                                              \n",
            "                                                                                                  \n",
            " conv2_block1_0_bn (BatchNormal  (None, None, None,   1024       ['conv2_block1_0_conv[0][0]']    \n",
            " ization)                       256)                                                              \n",
            "                                                                                                  \n",
            " conv2_block1_3_bn (BatchNormal  (None, None, None,   1024       ['conv2_block1_3_conv[0][0]']    \n",
            " ization)                       256)                                                              \n",
            "                                                                                                  \n",
            " conv2_block1_add (Add)         (None, None, None,   0           ['conv2_block1_0_bn[0][0]',      \n",
            "                                256)                              'conv2_block1_3_bn[0][0]']      \n",
            "                                                                                                  \n",
            " conv2_block1_out (Activation)  (None, None, None,   0           ['conv2_block1_add[0][0]']       \n",
            "                                256)                                                              \n",
            "                                                                                                  \n",
            " conv2_block2_1_conv (Conv2D)   (None, None, None,   16448       ['conv2_block1_out[0][0]']       \n",
            "                                64)                                                               \n",
            "                                                                                                  \n",
            " conv2_block2_1_bn (BatchNormal  (None, None, None,   256        ['conv2_block2_1_conv[0][0]']    \n",
            " ization)                       64)                                                               \n",
            "                                                                                                  \n",
            " conv2_block2_1_relu (Activatio  (None, None, None,   0          ['conv2_block2_1_bn[0][0]']      \n",
            " n)                             64)                                                               \n",
            "                                                                                                  \n",
            " conv2_block2_2_conv (Conv2D)   (None, None, None,   36928       ['conv2_block2_1_relu[0][0]']    \n",
            "                                64)                                                               \n",
            "                                                                                                  \n",
            " conv2_block2_2_bn (BatchNormal  (None, None, None,   256        ['conv2_block2_2_conv[0][0]']    \n",
            " ization)                       64)                                                               \n",
            "                                                                                                  \n",
            " conv2_block2_2_relu (Activatio  (None, None, None,   0          ['conv2_block2_2_bn[0][0]']      \n",
            " n)                             64)                                                               \n",
            "                                                                                                  \n",
            " conv2_block2_3_conv (Conv2D)   (None, None, None,   16640       ['conv2_block2_2_relu[0][0]']    \n",
            "                                256)                                                              \n",
            "                                                                                                  \n",
            " conv2_block2_3_bn (BatchNormal  (None, None, None,   1024       ['conv2_block2_3_conv[0][0]']    \n",
            " ization)                       256)                                                              \n",
            "                                                                                                  \n",
            " conv2_block2_add (Add)         (None, None, None,   0           ['conv2_block1_out[0][0]',       \n",
            "                                256)                              'conv2_block2_3_bn[0][0]']      \n",
            "                                                                                                  \n",
            " conv2_block2_out (Activation)  (None, None, None,   0           ['conv2_block2_add[0][0]']       \n",
            "                                256)                                                              \n",
            "                                                                                                  \n",
            " conv2_block3_1_conv (Conv2D)   (None, None, None,   16448       ['conv2_block2_out[0][0]']       \n",
            "                                64)                                                               \n",
            "                                                                                                  \n",
            " conv2_block3_1_bn (BatchNormal  (None, None, None,   256        ['conv2_block3_1_conv[0][0]']    \n",
            " ization)                       64)                                                               \n",
            "                                                                                                  \n",
            " conv2_block3_1_relu (Activatio  (None, None, None,   0          ['conv2_block3_1_bn[0][0]']      \n",
            " n)                             64)                                                               \n",
            "                                                                                                  \n",
            " conv2_block3_2_conv (Conv2D)   (None, None, None,   36928       ['conv2_block3_1_relu[0][0]']    \n",
            "                                64)                                                               \n",
            "                                                                                                  \n",
            " conv2_block3_2_bn (BatchNormal  (None, None, None,   256        ['conv2_block3_2_conv[0][0]']    \n",
            " ization)                       64)                                                               \n",
            "                                                                                                  \n",
            " conv2_block3_2_relu (Activatio  (None, None, None,   0          ['conv2_block3_2_bn[0][0]']      \n",
            " n)                             64)                                                               \n",
            "                                                                                                  \n",
            " conv2_block3_3_conv (Conv2D)   (None, None, None,   16640       ['conv2_block3_2_relu[0][0]']    \n",
            "                                256)                                                              \n",
            "                                                                                                  \n",
            " conv2_block3_3_bn (BatchNormal  (None, None, None,   1024       ['conv2_block3_3_conv[0][0]']    \n",
            " ization)                       256)                                                              \n",
            "                                                                                                  \n",
            " conv2_block3_add (Add)         (None, None, None,   0           ['conv2_block2_out[0][0]',       \n",
            "                                256)                              'conv2_block3_3_bn[0][0]']      \n",
            "                                                                                                  \n",
            " conv2_block3_out (Activation)  (None, None, None,   0           ['conv2_block3_add[0][0]']       \n",
            "                                256)                                                              \n",
            "                                                                                                  \n",
            " conv3_block1_1_conv (Conv2D)   (None, None, None,   32896       ['conv2_block3_out[0][0]']       \n",
            "                                128)                                                              \n",
            "                                                                                                  \n",
            " conv3_block1_1_bn (BatchNormal  (None, None, None,   512        ['conv3_block1_1_conv[0][0]']    \n",
            " ization)                       128)                                                              \n",
            "                                                                                                  \n",
            " conv3_block1_1_relu (Activatio  (None, None, None,   0          ['conv3_block1_1_bn[0][0]']      \n",
            " n)                             128)                                                              \n",
            "                                                                                                  \n",
            " conv3_block1_2_conv (Conv2D)   (None, None, None,   147584      ['conv3_block1_1_relu[0][0]']    \n",
            "                                128)                                                              \n",
            "                                                                                                  \n",
            " conv3_block1_2_bn (BatchNormal  (None, None, None,   512        ['conv3_block1_2_conv[0][0]']    \n",
            " ization)                       128)                                                              \n",
            "                                                                                                  \n",
            " conv3_block1_2_relu (Activatio  (None, None, None,   0          ['conv3_block1_2_bn[0][0]']      \n",
            " n)                             128)                                                              \n",
            "                                                                                                  \n",
            " conv3_block1_0_conv (Conv2D)   (None, None, None,   131584      ['conv2_block3_out[0][0]']       \n",
            "                                512)                                                              \n",
            "                                                                                                  \n",
            " conv3_block1_3_conv (Conv2D)   (None, None, None,   66048       ['conv3_block1_2_relu[0][0]']    \n",
            "                                512)                                                              \n",
            "                                                                                                  \n",
            " conv3_block1_0_bn (BatchNormal  (None, None, None,   2048       ['conv3_block1_0_conv[0][0]']    \n",
            " ization)                       512)                                                              \n",
            "                                                                                                  \n",
            " conv3_block1_3_bn (BatchNormal  (None, None, None,   2048       ['conv3_block1_3_conv[0][0]']    \n",
            " ization)                       512)                                                              \n",
            "                                                                                                  \n",
            " conv3_block1_add (Add)         (None, None, None,   0           ['conv3_block1_0_bn[0][0]',      \n",
            "                                512)                              'conv3_block1_3_bn[0][0]']      \n",
            "                                                                                                  \n",
            " conv3_block1_out (Activation)  (None, None, None,   0           ['conv3_block1_add[0][0]']       \n",
            "                                512)                                                              \n",
            "                                                                                                  \n",
            " conv3_block2_1_conv (Conv2D)   (None, None, None,   65664       ['conv3_block1_out[0][0]']       \n",
            "                                128)                                                              \n",
            "                                                                                                  \n",
            " conv3_block2_1_bn (BatchNormal  (None, None, None,   512        ['conv3_block2_1_conv[0][0]']    \n",
            " ization)                       128)                                                              \n",
            "                                                                                                  \n",
            " conv3_block2_1_relu (Activatio  (None, None, None,   0          ['conv3_block2_1_bn[0][0]']      \n",
            " n)                             128)                                                              \n",
            "                                                                                                  \n",
            " conv3_block2_2_conv (Conv2D)   (None, None, None,   147584      ['conv3_block2_1_relu[0][0]']    \n",
            "                                128)                                                              \n",
            "                                                                                                  \n",
            " conv3_block2_2_bn (BatchNormal  (None, None, None,   512        ['conv3_block2_2_conv[0][0]']    \n",
            " ization)                       128)                                                              \n",
            "                                                                                                  \n",
            " conv3_block2_2_relu (Activatio  (None, None, None,   0          ['conv3_block2_2_bn[0][0]']      \n",
            " n)                             128)                                                              \n",
            "                                                                                                  \n",
            " conv3_block2_3_conv (Conv2D)   (None, None, None,   66048       ['conv3_block2_2_relu[0][0]']    \n",
            "                                512)                                                              \n",
            "                                                                                                  \n",
            " conv3_block2_3_bn (BatchNormal  (None, None, None,   2048       ['conv3_block2_3_conv[0][0]']    \n",
            " ization)                       512)                                                              \n",
            "                                                                                                  \n",
            " conv3_block2_add (Add)         (None, None, None,   0           ['conv3_block1_out[0][0]',       \n",
            "                                512)                              'conv3_block2_3_bn[0][0]']      \n",
            "                                                                                                  \n",
            " conv3_block2_out (Activation)  (None, None, None,   0           ['conv3_block2_add[0][0]']       \n",
            "                                512)                                                              \n",
            "                                                                                                  \n",
            " conv3_block3_1_conv (Conv2D)   (None, None, None,   65664       ['conv3_block2_out[0][0]']       \n",
            "                                128)                                                              \n",
            "                                                                                                  \n",
            " conv3_block3_1_bn (BatchNormal  (None, None, None,   512        ['conv3_block3_1_conv[0][0]']    \n",
            " ization)                       128)                                                              \n",
            "                                                                                                  \n",
            " conv3_block3_1_relu (Activatio  (None, None, None,   0          ['conv3_block3_1_bn[0][0]']      \n",
            " n)                             128)                                                              \n",
            "                                                                                                  \n",
            " conv3_block3_2_conv (Conv2D)   (None, None, None,   147584      ['conv3_block3_1_relu[0][0]']    \n",
            "                                128)                                                              \n",
            "                                                                                                  \n",
            " conv3_block3_2_bn (BatchNormal  (None, None, None,   512        ['conv3_block3_2_conv[0][0]']    \n",
            " ization)                       128)                                                              \n",
            "                                                                                                  \n",
            " conv3_block3_2_relu (Activatio  (None, None, None,   0          ['conv3_block3_2_bn[0][0]']      \n",
            " n)                             128)                                                              \n",
            "                                                                                                  \n",
            " conv3_block3_3_conv (Conv2D)   (None, None, None,   66048       ['conv3_block3_2_relu[0][0]']    \n",
            "                                512)                                                              \n",
            "                                                                                                  \n",
            " conv3_block3_3_bn (BatchNormal  (None, None, None,   2048       ['conv3_block3_3_conv[0][0]']    \n",
            " ization)                       512)                                                              \n",
            "                                                                                                  \n",
            " conv3_block3_add (Add)         (None, None, None,   0           ['conv3_block2_out[0][0]',       \n",
            "                                512)                              'conv3_block3_3_bn[0][0]']      \n",
            "                                                                                                  \n",
            " conv3_block3_out (Activation)  (None, None, None,   0           ['conv3_block3_add[0][0]']       \n",
            "                                512)                                                              \n",
            "                                                                                                  \n",
            " conv3_block4_1_conv (Conv2D)   (None, None, None,   65664       ['conv3_block3_out[0][0]']       \n",
            "                                128)                                                              \n",
            "                                                                                                  \n",
            " conv3_block4_1_bn (BatchNormal  (None, None, None,   512        ['conv3_block4_1_conv[0][0]']    \n",
            " ization)                       128)                                                              \n",
            "                                                                                                  \n",
            " conv3_block4_1_relu (Activatio  (None, None, None,   0          ['conv3_block4_1_bn[0][0]']      \n",
            " n)                             128)                                                              \n",
            "                                                                                                  \n",
            " conv3_block4_2_conv (Conv2D)   (None, None, None,   147584      ['conv3_block4_1_relu[0][0]']    \n",
            "                                128)                                                              \n",
            "                                                                                                  \n",
            " conv3_block4_2_bn (BatchNormal  (None, None, None,   512        ['conv3_block4_2_conv[0][0]']    \n",
            " ization)                       128)                                                              \n",
            "                                                                                                  \n",
            " conv3_block4_2_relu (Activatio  (None, None, None,   0          ['conv3_block4_2_bn[0][0]']      \n",
            " n)                             128)                                                              \n",
            "                                                                                                  \n",
            " conv3_block4_3_conv (Conv2D)   (None, None, None,   66048       ['conv3_block4_2_relu[0][0]']    \n",
            "                                512)                                                              \n",
            "                                                                                                  \n",
            " conv3_block4_3_bn (BatchNormal  (None, None, None,   2048       ['conv3_block4_3_conv[0][0]']    \n",
            " ization)                       512)                                                              \n",
            "                                                                                                  \n",
            " conv3_block4_add (Add)         (None, None, None,   0           ['conv3_block3_out[0][0]',       \n",
            "                                512)                              'conv3_block4_3_bn[0][0]']      \n",
            "                                                                                                  \n",
            " conv3_block4_out (Activation)  (None, None, None,   0           ['conv3_block4_add[0][0]']       \n",
            "                                512)                                                              \n",
            "                                                                                                  \n",
            " conv4_block1_1_conv (Conv2D)   (None, None, None,   131328      ['conv3_block4_out[0][0]']       \n",
            "                                256)                                                              \n",
            "                                                                                                  \n",
            " conv4_block1_1_bn (BatchNormal  (None, None, None,   1024       ['conv4_block1_1_conv[0][0]']    \n",
            " ization)                       256)                                                              \n",
            "                                                                                                  \n",
            " conv4_block1_1_relu (Activatio  (None, None, None,   0          ['conv4_block1_1_bn[0][0]']      \n",
            " n)                             256)                                                              \n",
            "                                                                                                  \n",
            " conv4_block1_2_conv (Conv2D)   (None, None, None,   590080      ['conv4_block1_1_relu[0][0]']    \n",
            "                                256)                                                              \n",
            "                                                                                                  \n",
            " conv4_block1_2_bn (BatchNormal  (None, None, None,   1024       ['conv4_block1_2_conv[0][0]']    \n",
            " ization)                       256)                                                              \n",
            "                                                                                                  \n",
            " conv4_block1_2_relu (Activatio  (None, None, None,   0          ['conv4_block1_2_bn[0][0]']      \n",
            " n)                             256)                                                              \n",
            "                                                                                                  \n",
            " conv4_block1_0_conv (Conv2D)   (None, None, None,   525312      ['conv3_block4_out[0][0]']       \n",
            "                                1024)                                                             \n",
            "                                                                                                  \n",
            " conv4_block1_3_conv (Conv2D)   (None, None, None,   263168      ['conv4_block1_2_relu[0][0]']    \n",
            "                                1024)                                                             \n",
            "                                                                                                  \n",
            " conv4_block1_0_bn (BatchNormal  (None, None, None,   4096       ['conv4_block1_0_conv[0][0]']    \n",
            " ization)                       1024)                                                             \n",
            "                                                                                                  \n",
            " conv4_block1_3_bn (BatchNormal  (None, None, None,   4096       ['conv4_block1_3_conv[0][0]']    \n",
            " ization)                       1024)                                                             \n",
            "                                                                                                  \n",
            " conv4_block1_add (Add)         (None, None, None,   0           ['conv4_block1_0_bn[0][0]',      \n",
            "                                1024)                             'conv4_block1_3_bn[0][0]']      \n",
            "                                                                                                  \n",
            " conv4_block1_out (Activation)  (None, None, None,   0           ['conv4_block1_add[0][0]']       \n",
            "                                1024)                                                             \n",
            "                                                                                                  \n",
            " conv4_block2_1_conv (Conv2D)   (None, None, None,   262400      ['conv4_block1_out[0][0]']       \n",
            "                                256)                                                              \n",
            "                                                                                                  \n",
            " conv4_block2_1_bn (BatchNormal  (None, None, None,   1024       ['conv4_block2_1_conv[0][0]']    \n",
            " ization)                       256)                                                              \n",
            "                                                                                                  \n",
            " conv4_block2_1_relu (Activatio  (None, None, None,   0          ['conv4_block2_1_bn[0][0]']      \n",
            " n)                             256)                                                              \n",
            "                                                                                                  \n",
            " conv4_block2_2_conv (Conv2D)   (None, None, None,   590080      ['conv4_block2_1_relu[0][0]']    \n",
            "                                256)                                                              \n",
            "                                                                                                  \n",
            " conv4_block2_2_bn (BatchNormal  (None, None, None,   1024       ['conv4_block2_2_conv[0][0]']    \n",
            " ization)                       256)                                                              \n",
            "                                                                                                  \n",
            " conv4_block2_2_relu (Activatio  (None, None, None,   0          ['conv4_block2_2_bn[0][0]']      \n",
            " n)                             256)                                                              \n",
            "                                                                                                  \n",
            " conv4_block2_3_conv (Conv2D)   (None, None, None,   263168      ['conv4_block2_2_relu[0][0]']    \n",
            "                                1024)                                                             \n",
            "                                                                                                  \n",
            " conv4_block2_3_bn (BatchNormal  (None, None, None,   4096       ['conv4_block2_3_conv[0][0]']    \n",
            " ization)                       1024)                                                             \n",
            "                                                                                                  \n",
            " conv4_block2_add (Add)         (None, None, None,   0           ['conv4_block1_out[0][0]',       \n",
            "                                1024)                             'conv4_block2_3_bn[0][0]']      \n",
            "                                                                                                  \n",
            " conv4_block2_out (Activation)  (None, None, None,   0           ['conv4_block2_add[0][0]']       \n",
            "                                1024)                                                             \n",
            "                                                                                                  \n",
            " conv4_block3_1_conv (Conv2D)   (None, None, None,   262400      ['conv4_block2_out[0][0]']       \n",
            "                                256)                                                              \n",
            "                                                                                                  \n",
            " conv4_block3_1_bn (BatchNormal  (None, None, None,   1024       ['conv4_block3_1_conv[0][0]']    \n",
            " ization)                       256)                                                              \n",
            "                                                                                                  \n",
            " conv4_block3_1_relu (Activatio  (None, None, None,   0          ['conv4_block3_1_bn[0][0]']      \n",
            " n)                             256)                                                              \n",
            "                                                                                                  \n",
            " conv4_block3_2_conv (Conv2D)   (None, None, None,   590080      ['conv4_block3_1_relu[0][0]']    \n",
            "                                256)                                                              \n",
            "                                                                                                  \n",
            " conv4_block3_2_bn (BatchNormal  (None, None, None,   1024       ['conv4_block3_2_conv[0][0]']    \n",
            " ization)                       256)                                                              \n",
            "                                                                                                  \n",
            " conv4_block3_2_relu (Activatio  (None, None, None,   0          ['conv4_block3_2_bn[0][0]']      \n",
            " n)                             256)                                                              \n",
            "                                                                                                  \n",
            " conv4_block3_3_conv (Conv2D)   (None, None, None,   263168      ['conv4_block3_2_relu[0][0]']    \n",
            "                                1024)                                                             \n",
            "                                                                                                  \n",
            " conv4_block3_3_bn (BatchNormal  (None, None, None,   4096       ['conv4_block3_3_conv[0][0]']    \n",
            " ization)                       1024)                                                             \n",
            "                                                                                                  \n",
            " conv4_block3_add (Add)         (None, None, None,   0           ['conv4_block2_out[0][0]',       \n",
            "                                1024)                             'conv4_block3_3_bn[0][0]']      \n",
            "                                                                                                  \n",
            " conv4_block3_out (Activation)  (None, None, None,   0           ['conv4_block3_add[0][0]']       \n",
            "                                1024)                                                             \n",
            "                                                                                                  \n",
            " conv4_block4_1_conv (Conv2D)   (None, None, None,   262400      ['conv4_block3_out[0][0]']       \n",
            "                                256)                                                              \n",
            "                                                                                                  \n",
            " conv4_block4_1_bn (BatchNormal  (None, None, None,   1024       ['conv4_block4_1_conv[0][0]']    \n",
            " ization)                       256)                                                              \n",
            "                                                                                                  \n",
            " conv4_block4_1_relu (Activatio  (None, None, None,   0          ['conv4_block4_1_bn[0][0]']      \n",
            " n)                             256)                                                              \n",
            "                                                                                                  \n",
            " conv4_block4_2_conv (Conv2D)   (None, None, None,   590080      ['conv4_block4_1_relu[0][0]']    \n",
            "                                256)                                                              \n",
            "                                                                                                  \n",
            " conv4_block4_2_bn (BatchNormal  (None, None, None,   1024       ['conv4_block4_2_conv[0][0]']    \n",
            " ization)                       256)                                                              \n",
            "                                                                                                  \n",
            " conv4_block4_2_relu (Activatio  (None, None, None,   0          ['conv4_block4_2_bn[0][0]']      \n",
            " n)                             256)                                                              \n",
            "                                                                                                  \n",
            " conv4_block4_3_conv (Conv2D)   (None, None, None,   263168      ['conv4_block4_2_relu[0][0]']    \n",
            "                                1024)                                                             \n",
            "                                                                                                  \n",
            " conv4_block4_3_bn (BatchNormal  (None, None, None,   4096       ['conv4_block4_3_conv[0][0]']    \n",
            " ization)                       1024)                                                             \n",
            "                                                                                                  \n",
            " conv4_block4_add (Add)         (None, None, None,   0           ['conv4_block3_out[0][0]',       \n",
            "                                1024)                             'conv4_block4_3_bn[0][0]']      \n",
            "                                                                                                  \n",
            " conv4_block4_out (Activation)  (None, None, None,   0           ['conv4_block4_add[0][0]']       \n",
            "                                1024)                                                             \n",
            "                                                                                                  \n",
            " conv4_block5_1_conv (Conv2D)   (None, None, None,   262400      ['conv4_block4_out[0][0]']       \n",
            "                                256)                                                              \n",
            "                                                                                                  \n",
            " conv4_block5_1_bn (BatchNormal  (None, None, None,   1024       ['conv4_block5_1_conv[0][0]']    \n",
            " ization)                       256)                                                              \n",
            "                                                                                                  \n",
            " conv4_block5_1_relu (Activatio  (None, None, None,   0          ['conv4_block5_1_bn[0][0]']      \n",
            " n)                             256)                                                              \n",
            "                                                                                                  \n",
            " conv4_block5_2_conv (Conv2D)   (None, None, None,   590080      ['conv4_block5_1_relu[0][0]']    \n",
            "                                256)                                                              \n",
            "                                                                                                  \n",
            " conv4_block5_2_bn (BatchNormal  (None, None, None,   1024       ['conv4_block5_2_conv[0][0]']    \n",
            " ization)                       256)                                                              \n",
            "                                                                                                  \n",
            " conv4_block5_2_relu (Activatio  (None, None, None,   0          ['conv4_block5_2_bn[0][0]']      \n",
            " n)                             256)                                                              \n",
            "                                                                                                  \n",
            " conv4_block5_3_conv (Conv2D)   (None, None, None,   263168      ['conv4_block5_2_relu[0][0]']    \n",
            "                                1024)                                                             \n",
            "                                                                                                  \n",
            " conv4_block5_3_bn (BatchNormal  (None, None, None,   4096       ['conv4_block5_3_conv[0][0]']    \n",
            " ization)                       1024)                                                             \n",
            "                                                                                                  \n",
            " conv4_block5_add (Add)         (None, None, None,   0           ['conv4_block4_out[0][0]',       \n",
            "                                1024)                             'conv4_block5_3_bn[0][0]']      \n",
            "                                                                                                  \n",
            " conv4_block5_out (Activation)  (None, None, None,   0           ['conv4_block5_add[0][0]']       \n",
            "                                1024)                                                             \n",
            "                                                                                                  \n",
            " conv4_block6_1_conv (Conv2D)   (None, None, None,   262400      ['conv4_block5_out[0][0]']       \n",
            "                                256)                                                              \n",
            "                                                                                                  \n",
            " conv4_block6_1_bn (BatchNormal  (None, None, None,   1024       ['conv4_block6_1_conv[0][0]']    \n",
            " ization)                       256)                                                              \n",
            "                                                                                                  \n",
            " conv4_block6_1_relu (Activatio  (None, None, None,   0          ['conv4_block6_1_bn[0][0]']      \n",
            " n)                             256)                                                              \n",
            "                                                                                                  \n",
            " conv4_block6_2_conv (Conv2D)   (None, None, None,   590080      ['conv4_block6_1_relu[0][0]']    \n",
            "                                256)                                                              \n",
            "                                                                                                  \n",
            " conv4_block6_2_bn (BatchNormal  (None, None, None,   1024       ['conv4_block6_2_conv[0][0]']    \n",
            " ization)                       256)                                                              \n",
            "                                                                                                  \n",
            " conv4_block6_2_relu (Activatio  (None, None, None,   0          ['conv4_block6_2_bn[0][0]']      \n",
            " n)                             256)                                                              \n",
            "                                                                                                  \n",
            " conv4_block6_3_conv (Conv2D)   (None, None, None,   263168      ['conv4_block6_2_relu[0][0]']    \n",
            "                                1024)                                                             \n",
            "                                                                                                  \n",
            " conv4_block6_3_bn (BatchNormal  (None, None, None,   4096       ['conv4_block6_3_conv[0][0]']    \n",
            " ization)                       1024)                                                             \n",
            "                                                                                                  \n",
            " conv4_block6_add (Add)         (None, None, None,   0           ['conv4_block5_out[0][0]',       \n",
            "                                1024)                             'conv4_block6_3_bn[0][0]']      \n",
            "                                                                                                  \n",
            " conv4_block6_out (Activation)  (None, None, None,   0           ['conv4_block6_add[0][0]']       \n",
            "                                1024)                                                             \n",
            "                                                                                                  \n",
            " conv5_block1_1_conv (Conv2D)   (None, None, None,   524800      ['conv4_block6_out[0][0]']       \n",
            "                                512)                                                              \n",
            "                                                                                                  \n",
            " conv5_block1_1_bn (BatchNormal  (None, None, None,   2048       ['conv5_block1_1_conv[0][0]']    \n",
            " ization)                       512)                                                              \n",
            "                                                                                                  \n",
            " conv5_block1_1_relu (Activatio  (None, None, None,   0          ['conv5_block1_1_bn[0][0]']      \n",
            " n)                             512)                                                              \n",
            "                                                                                                  \n",
            " conv5_block1_2_conv (Conv2D)   (None, None, None,   2359808     ['conv5_block1_1_relu[0][0]']    \n",
            "                                512)                                                              \n",
            "                                                                                                  \n",
            " conv5_block1_2_bn (BatchNormal  (None, None, None,   2048       ['conv5_block1_2_conv[0][0]']    \n",
            " ization)                       512)                                                              \n",
            "                                                                                                  \n",
            " conv5_block1_2_relu (Activatio  (None, None, None,   0          ['conv5_block1_2_bn[0][0]']      \n",
            " n)                             512)                                                              \n",
            "                                                                                                  \n",
            " conv5_block1_0_conv (Conv2D)   (None, None, None,   2099200     ['conv4_block6_out[0][0]']       \n",
            "                                2048)                                                             \n",
            "                                                                                                  \n",
            " conv5_block1_3_conv (Conv2D)   (None, None, None,   1050624     ['conv5_block1_2_relu[0][0]']    \n",
            "                                2048)                                                             \n",
            "                                                                                                  \n",
            " conv5_block1_0_bn (BatchNormal  (None, None, None,   8192       ['conv5_block1_0_conv[0][0]']    \n",
            " ization)                       2048)                                                             \n",
            "                                                                                                  \n",
            " conv5_block1_3_bn (BatchNormal  (None, None, None,   8192       ['conv5_block1_3_conv[0][0]']    \n",
            " ization)                       2048)                                                             \n",
            "                                                                                                  \n",
            " conv5_block1_add (Add)         (None, None, None,   0           ['conv5_block1_0_bn[0][0]',      \n",
            "                                2048)                             'conv5_block1_3_bn[0][0]']      \n",
            "                                                                                                  \n",
            " conv5_block1_out (Activation)  (None, None, None,   0           ['conv5_block1_add[0][0]']       \n",
            "                                2048)                                                             \n",
            "                                                                                                  \n",
            " conv5_block2_1_conv (Conv2D)   (None, None, None,   1049088     ['conv5_block1_out[0][0]']       \n",
            "                                512)                                                              \n",
            "                                                                                                  \n",
            " conv5_block2_1_bn (BatchNormal  (None, None, None,   2048       ['conv5_block2_1_conv[0][0]']    \n",
            " ization)                       512)                                                              \n",
            "                                                                                                  \n",
            " conv5_block2_1_relu (Activatio  (None, None, None,   0          ['conv5_block2_1_bn[0][0]']      \n",
            " n)                             512)                                                              \n",
            "                                                                                                  \n",
            " conv5_block2_2_conv (Conv2D)   (None, None, None,   2359808     ['conv5_block2_1_relu[0][0]']    \n",
            "                                512)                                                              \n",
            "                                                                                                  \n",
            " conv5_block2_2_bn (BatchNormal  (None, None, None,   2048       ['conv5_block2_2_conv[0][0]']    \n",
            " ization)                       512)                                                              \n",
            "                                                                                                  \n",
            " conv5_block2_2_relu (Activatio  (None, None, None,   0          ['conv5_block2_2_bn[0][0]']      \n",
            " n)                             512)                                                              \n",
            "                                                                                                  \n",
            " conv5_block2_3_conv (Conv2D)   (None, None, None,   1050624     ['conv5_block2_2_relu[0][0]']    \n",
            "                                2048)                                                             \n",
            "                                                                                                  \n",
            " conv5_block2_3_bn (BatchNormal  (None, None, None,   8192       ['conv5_block2_3_conv[0][0]']    \n",
            " ization)                       2048)                                                             \n",
            "                                                                                                  \n",
            " conv5_block2_add (Add)         (None, None, None,   0           ['conv5_block1_out[0][0]',       \n",
            "                                2048)                             'conv5_block2_3_bn[0][0]']      \n",
            "                                                                                                  \n",
            " conv5_block2_out (Activation)  (None, None, None,   0           ['conv5_block2_add[0][0]']       \n",
            "                                2048)                                                             \n",
            "                                                                                                  \n",
            " conv5_block3_1_conv (Conv2D)   (None, None, None,   1049088     ['conv5_block2_out[0][0]']       \n",
            "                                512)                                                              \n",
            "                                                                                                  \n",
            " conv5_block3_1_bn (BatchNormal  (None, None, None,   2048       ['conv5_block3_1_conv[0][0]']    \n",
            " ization)                       512)                                                              \n",
            "                                                                                                  \n",
            " conv5_block3_1_relu (Activatio  (None, None, None,   0          ['conv5_block3_1_bn[0][0]']      \n",
            " n)                             512)                                                              \n",
            "                                                                                                  \n",
            " conv5_block3_2_conv (Conv2D)   (None, None, None,   2359808     ['conv5_block3_1_relu[0][0]']    \n",
            "                                512)                                                              \n",
            "                                                                                                  \n",
            " conv5_block3_2_bn (BatchNormal  (None, None, None,   2048       ['conv5_block3_2_conv[0][0]']    \n",
            " ization)                       512)                                                              \n",
            "                                                                                                  \n",
            " conv5_block3_2_relu (Activatio  (None, None, None,   0          ['conv5_block3_2_bn[0][0]']      \n",
            " n)                             512)                                                              \n",
            "                                                                                                  \n",
            " conv5_block3_3_conv (Conv2D)   (None, None, None,   1050624     ['conv5_block3_2_relu[0][0]']    \n",
            "                                2048)                                                             \n",
            "                                                                                                  \n",
            " conv5_block3_3_bn (BatchNormal  (None, None, None,   8192       ['conv5_block3_3_conv[0][0]']    \n",
            " ization)                       2048)                                                             \n",
            "                                                                                                  \n",
            " conv5_block3_add (Add)         (None, None, None,   0           ['conv5_block2_out[0][0]',       \n",
            "                                2048)                             'conv5_block3_3_bn[0][0]']      \n",
            "                                                                                                  \n",
            " conv5_block3_out (Activation)  (None, None, None,   0           ['conv5_block3_add[0][0]']       \n",
            "                                2048)                                                             \n",
            "                                                                                                  \n",
            "==================================================================================================\n",
            "Total params: 23,587,712\n",
            "Trainable params: 23,534,592\n",
            "Non-trainable params: 53,120\n",
            "__________________________________________________________________________________________________\n"
          ]
        }
      ],
      "source": [
        "image_model = tf.keras.applications.ResNet50(include_top=False,\n",
        "                                                weights='imagenet')\n",
        "new_input = image_model.input\n",
        "hidden_layer = image_model.layers[-5].output\n",
        "\n",
        "image_features_extract_model = tf.keras.Model(new_input, hidden_layer)\n",
        " \n",
        "image_model.summary()"
      ]
    },
    {
      "cell_type": "markdown",
      "source": [
        "Feature Extract from Resnet 50"
      ],
      "metadata": {
        "id": "ZWKdXBY6BY04"
      }
    },
    {
      "cell_type": "code",
      "source": [
        "# extract features from image\n",
        "features = {}\n",
        "directory = os.path.join(BASE_DIR, 'IMAGE')\n",
        "\n",
        "for img_name in tqdm(os.listdir(directory)):\n",
        "    # load the image from file\n",
        "    img_path = directory + '/' + img_name\n",
        "    image = load_img(img_path, target_size=(224, 224))\n",
        "    # convert image pixels to numpy array\n",
        "    image = img_to_array(image)\n",
        "    # reshape data for model\n",
        "    image = image.reshape((1, image.shape[0], image.shape[1], image.shape[2]))\n",
        "    # preprocess image for vgg\n",
        "    image = preprocess_input(image)\n",
        "    # extract features\n",
        "    feature = image_model.predict(image, verbose=0)\n",
        "    # get image ID\n",
        "    image_id = img_name.split('.')[0]\n",
        "    # store feature\n",
        "    features[image_id] = feature"
      ],
      "metadata": {
        "colab": {
          "base_uri": "https://localhost:8080/",
          "height": 49,
          "referenced_widgets": [
            "7113f86e05ee48f98e339d671bd6eb69",
            "3fcc3ccaa0834d788ba2ec963259a289",
            "3f83cb4088d548b6b0429175c5cb60e6",
            "86083269860e4954a68fe66376cbebec",
            "1a6b928141bb401681f8ef326879b8a1",
            "bea3bcfe04b44d5292ebf375d7a623c4",
            "5f4e7e8768624e1da51e41cd02f84d97",
            "1db605fbc303412c8f731ff358aeb247",
            "841ec6c54c5e40fc8e85e8f959e415f3",
            "0cd7b29f32e54f23863d3ae579e4fbb8",
            "78798982b6d94c55a02adf44ec11923f"
          ]
        },
        "id": "NWSkcdFRBXwY",
        "outputId": "7a313442-b989-4a2c-fc22-730fd9adf7ad"
      },
      "execution_count": null,
      "outputs": [
        {
          "output_type": "display_data",
          "data": {
            "text/plain": [
              "  0%|          | 0/6814 [00:00<?, ?it/s]"
            ],
            "application/vnd.jupyter.widget-view+json": {
              "version_major": 2,
              "version_minor": 0,
              "model_id": "7113f86e05ee48f98e339d671bd6eb69"
            }
          },
          "metadata": {}
        }
      ]
    },
    {
      "cell_type": "code",
      "source": [
        "#STORE FEATURES IN PICKLE\n",
        "pickle.dump(features, open(os.path.join(WORKING_DIR, '50features.npy'),'wb'))"
      ],
      "metadata": {
        "id": "hDY9q4gqBXzw"
      },
      "execution_count": null,
      "outputs": []
    },
    {
      "cell_type": "code",
      "source": [
        "len(features) "
      ],
      "metadata": {
        "colab": {
          "base_uri": "https://localhost:8080/"
        },
        "id": "ONwHoG26LC6a",
        "outputId": "3822ebb1-7602-4eb5-b482-298fcae5dfd8"
      },
      "execution_count": null,
      "outputs": [
        {
          "output_type": "execute_result",
          "data": {
            "text/plain": [
              "6814"
            ]
          },
          "metadata": {},
          "execution_count": 64
        }
      ]
    },
    {
      "cell_type": "code",
      "execution_count": null,
      "metadata": {
        "id": "F8KwnuVz8N1k"
      },
      "outputs": [],
      "source": [
        "\n",
        "image_path_to_caption = '//content/drive/MyDrive/Bangla Image Caption.zip (Unzipped Files)/fm dataset/1-10000.txt/'"
      ]
    },
    {
      "cell_type": "code",
      "execution_count": null,
      "metadata": {
        "id": "C8DjpBWESfAJ"
      },
      "outputs": [],
      "source": [
        "with open(os.path.join(BASE_DIR, 'BI Captions.txt'),'r') as f:\n",
        "  next(f)\n",
        "  captions_doc = f.read()"
      ]
    },
    {
      "cell_type": "code",
      "execution_count": null,
      "metadata": {
        "colab": {
          "base_uri": "https://localhost:8080/",
          "height": 140
        },
        "id": "kUy06FjdVikG",
        "outputId": "683cfd62-8fe2-4365-a21d-6f12a1c3a0d0"
      },
      "outputs": [
        {
          "output_type": "execute_result",
          "data": {
            "text/plain": [
              "\"2.jpg সমুদ্রে একটি সাদা জাহাজ চলছে\\n3.jpg সুউচ্চ সবুজ পাহাড় আর মেঘলা আকাশ \\n4.jpg আকাশে সাদা পাখি উড়ছে   \\n5.jpg সারি সারি কাঠের বাক্স\\n6.jpg জানালার গ্লাসে বৈদ্যুতিক খাম্বার প্রতিফলন দেখা যাচ্ছে \\n7.jpg দুই কাঁধে রঙিন বেতের ঝুড়ি নিয়ে যাচ্ছে একজন লোক\\n8.jpg সাদাকালো অনেকগুলো কুকুর একসারিতে বসে আছে\\n9.jpg কমলা, টিয়া রংয়ের সারি সারি জুতা সাজানো\\n10.jpg সমুদ্রের পাড়ে পরে আছে মরচে ধরা শিকল\\n11.jpg অনেকগুলো স্ক্রু জড়ে করা\\n12.jpg অটো রিকশা নিয়ে দাঁড়িয়ে আছে রিকশাচালকটি\\n13.jpg অনেকগুলো তোয়ালে ভাজ করে স্তুপ করে রাখা আছে\\n14.jpg ধুসর দোকানগুলোর মাঝে লাল রংয়ের একটি টেলিফোন বুথ\\n15.jpg পিচঢালা রাস্তার উপর পরে আছে শুকনো পাতা\\n16.jpg লেকের মাঝে নৌকায় ছোট মেয়েটি একা বসে আছে\\n17.jpg ছোট টিলার পাশে রঙিন কাঠের কিছু ঘর\\n18.jpg দিগন্ত বিস্তৃত  সবুজ মাঠ ছুয়ে গেছে নীল আকাশকে\\n19.jpg শান্ত সমুদ্র ও রৌদ্রজ্জল নীল আকাশ \\n20.jpg একটি খোলা বই ও পেন্সিল \\n21.jpg টেবিলের উপর রাখা অগোছালো বইয়ের স্তুপ\\n22.jpg পিচঢালা রাস্তার পাশে সবুজ মাঠ\\n23.jpg দুই প্রতিযোগির মধ্যে চলছে কার রেসিং \\n100.jpg রেস্টুরেন্টে বসে আছে দুটি মেয়ে \\n101.jpg সবুজ ঘাসের উপর দুটি হাঁসের বাচ্চা \\n102.jpg ফুটবল খেলায় ব্যস্ত দুটি শিশু \\n103.jpg পিরামিড ও উট \\n104.jpg মুরগী বিক্রেতা মাথায় ঝুড়িতে করে মুরগী বিক্রি করছে \\n105.jpg সমুদ্রের পাশে ছিমছাম ছোট্ট শহর \\n106.jpg ঝুড়িতে রাখা মুরগীর ডিম \\n107.jpg গাছে ঝুলছে কাঁচা আম \\n108.jpg লালবাগ কেল্লার একাংশ \\n109.jpg রঙিন মার্বেলের সমারোহ \\n110.jpg নদীর পাড়ে গাছের কাছে চারটি নৌকা একত্র করা \\n111.jpg কলার কাঁদি ঝুলছে গাছে \\n112.jpg রাস্তার ধারে পাইপের সারি \\n113.jpg ঘাসের গায়ে একফোঁটা জলকণা \\n114.jpg বাচ্চাটি রং দিয়ে আঁকাআকি করছে \\n115.jpg মাঝনদীতে কয়েকটি গাছ দাড়িয়ে আছে \\n116.jpg পাখি উড়ে চলেছে দূর সীমানায় \\n117.jpg খালি দোলনাটি ঝুলছে \\n118.jpg পুরানো মাটির কলসি বেঁধে রাখা হয়েছে \\n119.jpg পাহাড়ের উপর ঘরবাড়ী \\n120.jpg ড্রাগন ফল গাছে ঝুলছে \\n121.jpg বাচ্চাররা লুকোচুরি খেলছে \\n122.jpg বাবা তার মেয়েকে জামা দেখাচ্ছে \\n123.jpg মেয়েটি চিৎকার করে কাঁদছে \\n124.jpg বাবা মেয়েকে বই পড়ে শুনাচ্ছে \\n125.jpg লোকটি মেয়েটার চুল বেঁধে দিচ্ছে \\n126.jpg মৌয়াল মৌচাক থেকে মধু সংগ্রহ করছে \\n127.jpg পাখিটি মাটিতে খাবার খুঁজছে \\n128.jpg ডিম ফুটে সদ্য জন্ম নেয়া পাখি \\n129.jpg ক্ষেতের মধ্য দিয়ে বাচ্চারা জাল নিয়ে যাচ্ছে \\n130.jpg ভাসমান পেয়ারার বাজার \\n131.jpg হরিণ গুলো দৌড়াচ্ছে \\n132.jpg বাঘটি পানিতে আধডোবা হয়ে আছে\\n133.jpg লোকটি শাপলা তুলছে \\n134.jpg লাল ছাতা মাথায় বাচ্চাটি নৌকায় বসে আছে \\n135.jpg কুমড়ো ক্ষেতে মহিলাটি কুমড়ো ধরে বসে আছে \\n136.jpg গোলাপ ফুল হাতে মহিলাটি হাসছে \\n137.jpg জলহস্তী দুটি ঘাস খাচ্ছে \\n138.jpg বাচ্চা গুলো সরিষা ফুল দিয়ে খেলছে \\n139.jpg গাছের ডালে বানর তার বাচ্চা নিয়ে বসে আছে \\n140.jpg হরিণটি উঁচু হয়ে গাছের পাতা খাচ্ছে \\n141.jpg বড় বানরটি ছোট বানরের উকুন এনে দিচ্ছে \\n142.jpg বানরটি রুটি মুখে বসে আছে \\n143.jpg বানরটি মহিলার পাশে বসে আছে \\n144.jpg মেয়েটি সাইকেল চালাচ্ছে \\n145.jpg ট্রেতে বিভিন্ন রঙের কলা রাখা \\n146.jpg বানর দুটি কলা খাচ্ছে \\n147.jpg বিড়ালটা কলা নিয়ে শুয়ে আছে \\n148.jpgবিড়ালটি কলা খাচ্ছে \\n149.jpg বিড়ালগুলো তরমুজের খোসা মাথায় দিয়ে আছে \\n150.jpg বিড়ালটা তরমুজ খাচ্ছে \\n151.jpg কুকুরটাকে কলা খাওয়ানো হচ্ছে \\n152.jpg কলাবাগানের কলা গুলাকে দেখছে লোকটি \\n153.jpg কলার কাঁদি কাঁধে নিয়ে যাচ্ছে লোকটি \\n154.jpg মহিষের উপর বসে আছে বাচ্চা গুলো \\n155.jpg টেবিলের উপর নানা প্রকার শাক সবজি \\n156.jpg হাতি ও হাতির বাচ্চা ঘাস খাচ্ছে \\n157.jpg গুরু গুলো মাঠে ঘাস খাচ্ছে \\n158.jpg ফার্মের গরুগুলো ঘাস খাচ্ছে \\n159.jpg ছাগলগুলো ঘাস খাচ্ছে \\n160.jpg লোকটি গরুর দুধ দোহন করছে \\n161.jpg জিরাফটি ঘাস খাচ্ছে \\n162.jpg বৃদ্ধ লোকটা বাশের ঘরে বসে আছে \\n163.jpg রাস্তার ধারে গাড়িগুলো পার্ক করে রাখা \\n164.jpg মরুভূমিতে উটটি হাটছে \\n165.jpg মহিলাটি পানি ভরছে \\n166.jpg মহিলারা পানির কূপ থেকে পানি তুলছে \\n167.jpg উটগুলো পানি খাচ্ছে \\n168.jpg পানির অভাবে মাটি ফেটে চৌচির \\n169.jpg মুরগীটি কুকুরের উপর দাড়িয়ে আছে \\n170.jpg বাচ্চাটি ফুল গাছে পানি দিচ্ছে \\n171.jpg মেয়েটি পানির উপরে একটি গাছের ডালে বসে আছে \\n172.jpg বাচ্চারা গাছের ডাল ধরে পানিতে গোসল করছে\\n173.jpg ছেলেটি মাছ ধরছে \\n174.jpg পাখি দুটি ক্যামেরাটি দেখছে \\n175.jpg মহিলাটি মাছসহ জাল ধরে হাসছে \\n176.jpg অনেকগুলো নীল ঝিনুক \\n177.jpg শাক হাতে মেয়েটা হাসছে \\n178.jpg লাউ কাঁধে লোকটা হাসছে \\n179.jpg একজন বৃদ্ধ ও বাচ্চা ইট ভাঙছে \\n180.jpg রামদা কাঁধে বাচ্চাটি ময়লার স্তুপে দাড়িয়ে \\n181.jpg গার্মেন্টসে মেয়েটা কাজ করছে \\n182.jpg ফুল বিক্রির জন্য বাচ্চাটা গাড়ির জানালার কাছে দাঁড়িয়ে \\n183.jpg পানির মধ্য দিয়েই লোকটা হাঁটছে \\n184.jpg বাটি ভর্তি ভাজা চিংড়ি \\n185.jpg নদীর তীরে ডিঙি নৌকা \\n186.jpg বাচ্চা ছেলেটা বাদাম বিক্রি করছে \\n187.jpg ছেলেমেয়ে দুটি ডাস্টবিনে কিছু খুঁজছে \\n188.jpg বৃদ্ধ মহিলাটি ভিক্ষা করছে \\n189.jpg বাদাম ও দাঁড়িপাল্লা \\n190.jpg মহিলাটি পানিপুরি খাচ্ছে \\n191.jpg লোকটি মাছ কাটছে \\n192.jpg তরুণ, তরুণীরা গান গাচ্ছে আর আড্ডা দিচ্ছে \\n193.jpg টঙের দোকানে লোকগুলো বসে আছে \\n194.jpg ট্রে ভর্তি পুরান ঢাকার বাখরখানি \\n196.jpg হরেক রকম মাছ নিয়ে বসে আছে বিক্রেতারা \\n197.jpg রঙিন চুড়ির মেলা \\n198.jpg মুরগী হাতে দাঁড়িয়ে আছে লোকটি \\n199.jpg সবজি কিনছে লোকটা \\n200.jpg কসাই মাংস কাটছে\\n200.jpg কসাই দোকানে বসে মাংস কাটছে \\n200.jpg গাছের গুড়ির উপর মাংস রেখে লোকটি মাংস কাটছে \\n200.jpg একটি লোক বসে মাংস কাটছে এবং তার সামনে অনেক অনেক গুলো মাংসের টুকরো ঝুলানো আছে \\n200.jpg লোকটার পাশে ওজন মাপার মেশিনের উপর একটি গামলা রাখা\\n201.jpg অডিটোরিয়াম ভর্তি মানুষ বসে আছে \\n201.jpg ছোট টেবিলের উপর একটি ল্যাপটপ ও তার পাশে একটি টিস্যুর বাক্স রাখা\\n201.jpg অনেক বড় একটি রুমের ভিতরে অনেক মানুষ বসে আছে\\n202.jpg দুটি মেয়ে অনেকগুলো ফুল হাতে নিয়ে দাঁড়িয়ে আছে \\n202.jpg দুটি মেয়ে অনেকগুলো ফুল হাতে নিয়ে অন্য দিকে তাকিয়ে আছে\\n202.jpg দুটি মেয়ে অনেকগুলো ফুল হাতে নিয়ে আছে  এবং তাদের পিছনে দুটি ছেলে দাঁড়িয়ে আছে\\n203.jpg বহুতল একটি বিল্ডিংকে বেলুন দিয়ে সাজানো হয়েছে \\n203.jpg  বহুতল একটি বিল্ডিংকে বেলুন দিয়ে সাজানো হয়েছে এবং ব্যানার লাগানো হয়েছে \\n203.jpg  বহুতল একটি বিল্ডিংকে বেলুন দিয়ে সাজানো হয়েছে এবং নিচে কিছু ঘরের মতো বানানো হয়েছে \\n205.jpg দেয়ালে হেলান দিয়ে একজন মেয়ে দাঁড়িয়ে আছে \\n205.jpg ওড়না দিয়ে মাথা ঢেকে মেয়েটি দেয়ালে হেলান দিয়ে দাঁড়িয়ে আছে \\n205.jpg দেয়ালে হেলান দিয়ে দাঁড়িয়ে থাকা মেয়েটির পেছনে সবুজ গাছ ও দালান \\n205.jpg গেইটের সামনে একটি মেয়ে দেয়ালে হেলান দিয়ে দাঁড়িয়ে আছে\\n209.jpg লোহার পাইপের উপর অনেকগুলো বানর জড়সড় হয়ে বসে আছে \\n209.jpg লোহার পাইপের উপর পাঁচটি বানর জড়সড় হয়ে বসে আছে \\n209.jpg লোহার পাইপের উপর অনেকগুলো বানর জড়াজড়ি করে বসে ঘুমাচ্ছে\\n210.jpg দুটি কুমির মুখ হা করে রেখেছে \\n210.jpg দুটি কুমির মুখ হা করে রেখেছে এবং আরেকটি কুমিরের লেজ দেখা যাচ্ছে \\n210.jpg মাটি আর পাথরের উপর দুটি কুমির মুখ হা করে রেখেছে\\n211.jpg দেয়াল দিয়ে আবদ্ধ একটি জায়গায় দুটি ঘোরা রাখা \\n211.jpg দুটি ঘোড়া মাটিতে খাবার খুঁজছে\\n212.jpg বাঘের কাঁধের উপর একটি বানরের বাচ্চা বসে আছে \\n212.jpg বাঘের কাঁধের উপর একটি বানরের বাচ্চা বসে আছে এবং পাশেই দুটি বাঘ আছে \\n212.jpg ঘাসের উপর বাঘের কাঁধের উপর একটি বানরের বাচ্চা বসে আছে\\n214.jpg গাছের ডালে ছাগল দাড়িয়ে আছে \\n214.jpg সাদা কালো ছাগলগুলো গাছের একেকটা ডালে দাড়িয়ে আছে \\n215.jpg ময়ুর পেখম মেলে দাড়িয়ে আছে \\n215.jpg নীল রঙের ময়ুর পেখম মেলে দাড়িয়ে আছে\\n216.jpg বাচ্চা মেয়েটি একটি ছাগল ধরে বসে আছে \\n216.jpg ঘাসের উপর বাচ্চা মেয়েটি ছাগল কোলে নিয়ে বসে আছে \\n217.jpg ট্রাক থেকে গরু নামছে\\n217.jpg লোকটি ট্রাক থেকে বাঁধা গরুগুলোকে নামাচ্ছে\\n217.jpg মাটির উপর বিছানো খড়ের উপর গরুগুলো ট্রাক থেকে নামছে\\n218.jpg গরুগুলো পানিতে নেমেছে \\n218.jpg একটি ছেলে গরুগুলোকে পানিতে গোসল করাচ্ছে \\n218.jpg পানিতে কয়েকটি গরু এবং তিনটি ছেলে নেমেছে\\n222.jpg বিস্তৃত সবুজ ধানক্ষেত \\n222.jpg বিস্তৃত সবুজ ধানক্ষেতের পর গাছপালা\\n222.jpg ধানগাছের চারা রোপণ করা হয়েছে\\n223.jpg ছোট ছেলেটি কাঁধের উপর ছাগলের বাচ্চা তুলে রেখেছে \\n223.jpg ছাগলের চারটি পা দুই হাতে ধরে কাঁধের উপর তুলে রেখেছে ছেলেটা \\n224.jpg একটি লোক অনেক বড় একটি জিলাপি হাতে ধরে আছে \\n224.jpg একটি লোক অনেক বড় একটি জিলাপি হাতে ধরে আছে এবং পাশের লোকটি তাকিয়ে দেখছে \\n224.jpg দোকানে ট্রে এর উপর অনেক জিলাপি রাখা\\n225.jpg একটি লোক একটি কচ্ছপ ধরে দেখছে\\n225.jpg তিনটি কচ্ছপ এক জায়গায় রাখা\\n226.jpg বাচ্চা ছেলেটা দাঁত বের করে হাসছে \\n226.jpg বাচ্চাটির গায়ে পানি পরছে\\n226.jpg বাচ্চাটি চোখ বন্ধ করে হাসছে\\n227.jpg চারটি বাচ্চা মার্বেল খেলছে\\n227.jpg দুটি ছেলে বসে আছে এবং দুটি ছেলে গাছে হেলান দিয়ে আছে \\n227.jpg মাটিতে চারটি ছেলে মার্বেল খেলছে\\n228.jpg দুটি কামরাঙা গাছের ডালে ঝুলছে \\n228.jpg সবুজ দুটি কামরাঙা গাছের ডালে ঝুলছে\\n229.jpg ছোট বাচ্চা মেয়েটি চোখ বন্ধ করে আছে \\n229.jpg বাচ্চা মেয়েটি চোখ বন্ধ করে সূর্যের দিকে তাকিয়ে আছে \\n229.jpg গাছ পালার মাঝে বাচ্চা মেয়েটি চোখ বন্ধ করে সূর্যের দিকে তাকিয়ে আছে\\n230.jpg লোকটা একটি অজগর সাপের মাথা ধরে আছে \\n230.jpg অজগর সাপটি লোকটিকে পেচিয়ে ধরে রেখেছে \\n230.jpg জঙ্গলের ভিতর ক্যাপ পড়ে লোকটি অজগর সাপটিকে ধরে রেখেছে\\n231.jpg শুকনো পাতার উপর হলুদ কালো ডোরাকাটা সাপটি পেচিয়ে আছে \\n231.jpg পাতার পাতার উপর হলুদ কালো ডোরাকাটা সাপটি পেচিয়ে মাথা একটু উঁচু করে আছে\\n232.jpg গাছে মৌমাছি মৌচাক তৈরী করেছে \\n232.jpg জঙ্গলের ভিতর একটি গাছে মৌমাছি মৌচাক তৈরী করেছে\\n233.jpg একটি লোক ক্যামেরা দিয়ে ছবি তুলছে \\n233.jpg চোখের সামনে ক্যামেরা রেখে লোকটি ছবি তুলছে\\n234.jpg খেজুর গাছে রস পরার জন্য একটি মাটির কলসি বাধা\\n234.jpg খেজুর গাছে বাঁধা মাটির কলসির দিকে কাঠবিড়ালিটি তাকিয়ে আছে\\n235.jpg মাটির কলসির উপর দুটি শালিক পাখি বসে আছে \\n235.jpg খেজুর গাছে বাধা মাটির কলসির উপর দুটি শালিক পাখি বসে আছে\\n236.jpg পানির উপর একটি মসজিদ \\n236.jpg মসজিদের ভিতরের সবুজ আলো পানির উপর পরেছে\\n236.jpg আকাশ সাদা মেঘে ঢাকা\\n237.jpg লোকটা ছাগলের জন্য ঘাস কাটছে \\n237.jpg পাতিলে রাখা কাটা ঘাস খাচ্ছে দুটি ছাগল \\n237.jpg মাটির ঘরের বারান্দায় বসে লোকটি ঘাস কাটছে এবং তার সামনে একটি বাছুর ও দুটি ছাগল ঘাস খাচ্ছে \\n237.jpg মাটির ঘরের বারান্দায় বসে লোকটি ঘাস কাটছে এবং তার পিছনে  পাতিল, কাগজ ও পাতা আছে\\n238.jpg মহিলাটি গরুকে খাওয়াচ্ছে \\n238.jpg গামলার মধ্যে খাবার নিয়ে মহিলাটি গরুকে খাওয়াচ্ছে \\n238.jpg শাড়ি পরা মহিলাটি গামলার মধ্যে খাবার নিয়ে মহিলাটি গরুকে খাওয়াচ্ছে\\n239.jpg ট্রেন চলছে এঁকেবেঁকে\\n240.jpg পাশাপাশি দুটি ট্রেন দাঁড়িয়ে আছে\\n\\n\\n\\n\\n301.jpg সকালবেলায় নদীর পাড়ে অনেকগুলো লোক অর্ধনগ্ন হয়ে গোসল করছে\\n302.jpg পান্জাবী, পায়জামা পরা একজন ছেলে শাড়ি পরা একটি মেয়েকে নিয়ে নৌকার পাটাতনের উপর বসে দুজন দুজনার দিকে তাকিয়ে আছে \\n303.jpg তিনজন মহিলা ও একজন পুরুষ  পূজার সামগ্রী নিয়ে পানিতে অর্ধনিমজ্জিত অবস্থায় দাঁড়িয়ে আছে\\n304.jpg বিশাল সেতু আর নদীর পাড়ে একটি সাদা বেলুনকে শুন্যে উড়িয়ে ছোট বাচ্চাটি খেলছে\\n305.jpg হিন্দু ধর্মালম্বীদের দেবী দূর্গাকে পানিতে বিসর্জন দিচ্ছে কয়েকজন লোক\\n306.jpg বাউল রঙিন কাপড় পরে চোখ বন্ধ করে দোতরা হাতে নিয়ে গান গাচ্ছে\\n307.jpg গাঁদা ফুলের পাইকারি বাজারে ফুল কেনাবেচা চলছে\\n308.jpg লোকটি দুই কাঁধে গাঁদা ফুলের মালা নিয়ে রাস্তায় হাটছে \\n309.jpg একটি লোক রঙিন অনেকগুলো ফুল মাথায় নিয়ে তাকিয়ে হাসছে\\n310.jpg বৃদ্ধ মানুষটি নদীর পাড়ের ময়লা সরাচ্ছে \\n311.jpg ঝুড়িতে লাল গোলাপ নিয়ে বৃদ্ধ লোকটি বসে ধুমপান করছে  \\n312.jpg বৃদ্ধ লোক দুইটি জুতা খুলে ঝুড়ির উপর বসে বিশ্রাম নিচ্ছে \\n313.jpg একজন লোক অন্য লোকের কাছে গাঁদা ফুলের মালা গুলো দিচ্ছে \\n314.jpg গাঁদা ফুলের মালাগুলোর পাশে লোকটি কাঠের টুলের উপর বসে আছে\\n315.jpg সাদা শাড়ি পরা বৃদ্ধাটি স্তুপ করা গাঁদা ফুলের মালার পাশে দাঁড়িয়ে আছে\\n316.jpg বড় উনুনের বড় কড়াইতে লোকটি রান্না করছে\\n317.jpg গাড়িতে হেলান দিয়ে দাঁড়িয়ে মহিলাটি সিগারেট খাচ্ছে আর ধোঁয়া উড়াচ্ছে\\n318.jpg লোকটি মাথায় অনেকগুলো সূর্যমূখী ফুল নিয়ে হেঁটে যাচ্ছে \\n319.jpg দোকানে একটি লোক এবং মহিলা বসে আছে আর অন্য একজন লোক জগ থেকে গ্লাসে পানি ঢালছে\\n320.jpg বেতের দাড়িপাল্লা ফুল মাপছে লোকটি\\n321.jpg গাঁদা ফুলের উপর চড়ুই পাখিটি বসে আছে\\n322.jpg পিচ্চি দুইটা মেয়ে নদীর পাড়ে কাপড়ে পানি নিয়ে খেলছে\\n323.jpg নদীর পাড়ে বৃদ্ধা মহিলাটি পাতিল ধরছে \\n324.jpg লুঙ্গি, গেঞ্জি পড়ে লোকটি ফুলের মালা তৈরী করছে\\n325.jpg বৃদ্ধা মহিলাটি সিগারেট খাচ্ছে \\n326.jpg মাথায় বস্তা নিয়ে লোকগুলো সিড়ি দিয়ে নামছে\\n327.jpg বৃদ্ধ লোকগুলো সকালে খোলা মাঠে ব্যায়াম করছে \\n328.jpg সকালের ঘন কুয়াশায় একটি মোটরবাইকের উপর একটি লোক বসে আছে আর পাশে আরেকজন দাঁড়িয়ে আছে\\n329.jpg বৃষ্টির মধ্যে ছাতা মাথায় এক দম্পতি হাটছে \\n330.jpg সকালের মিষ্টি রোদে তিনজন শাড়ি পরা মহিলা হাটছে \\n331.jpg চিড়িয়াখানার জিরাফ গুলোকে দর্শনার্থীরা দেখছে \\n332.jpg শীতের সকালে অনেকগুলো লোক আগুন পোহাচ্ছে \\n333.jpg শিল্পী ছবি আঁকছে\\n334.jpg অনেক রকমের সিগারেটের ফিল্টার যেগুলোতে লিপস্টিক এর রঙ লেগে আছে\\n335.jpg বাসভর্তি মানুষের মাঝে বড় একটি হাতি\\n336.jpg ট্রাফিক পুলিশরা গাড়ি থামিয়ে জিজ্ঞাসাবাদ করছে\\n337.jpg ঘোড়দৌড় প্রতিযোগিতা  চলছে\\n338.jpg সকালের মিষ্টি রোদে  পেপারওয়ালা সাইকেলে করে পেপার নিয়ে যাচ্ছে \\n339.jpg কিশোররা মাঠে ক্রিকেট খেলছে\\n340.jpg ভোরে কুয়াশায় ছেলেরা ফুটবল খেলছে \\n341.jpg শীতের সকালে মাঠে একটি জীর্ণ শীর্ণ সাদা ঘোড়া দাঁড়িয়ে আছে\\n342.jpg নদীতে একটি ছোট ছেলে পানির খুব সুন্দর একটি জলছাঁট তৈরী করেছে এবং বাচ্চা মেয়েটা তা দেখছে\\n343.jpg বারান্দায় রাখা একটি টবে লাগানো একটি চারা গাছ \\n344.jpg খালি বাসে হেল্পার সিটে বসে আছে \\n345.jpg দোকানদার দোকানে বসে চাশের কেটলী থেকে কাপে চা ঢালছে\\n346.jpg লুঙ্গি পরা বৃদ্ধ লোকটি রিকশায় বসেই ঘুমিয়ে গেছে\\n347.jpg বয়স্ক শাড়ি পরা মহিলাটি সবুজ ছাতা মাথায় কোমরে হাত দিয়ে দাড়িয়ে আছে\\n348.jpg দুইটি ট্রেনের মাঝে দাড়িয়ে লোকটি পাইপের পানি দিয়ে গোসল করছে\\n349.jpg আকাশের দিকে তাকিয়ে লোকটি বোতল হতে পানি খাচ্ছে \\n350.jpg শ্রমিকেরা রাস্তায় পিচঢালাই করছে\\n351.jpg হতদরিদ্র কিছু মানুষ ছড়িয়ে ছিটিয়ে রাস্তার একপাশে শুয়ে, বসে আছে\\n352.jpg দুটি কিশোর রাস্তা কাটছে\\n353.jpg লোকটি রেললাইনের পাশে পাইপ দিয়ে বাচ্চাটিকে গোসল করাচ্ছে \\n354.jpg পাগড়ি পরে দুইজন লোক বীন বাজিয়ে সাপের খেলা দেখাচ্ছে \\n355.jpg বৃদ্ধ লোকটি কাধে সেলাই মেশিন নিয়ে গলা পর্যন্ত পানিতে হেঁটে চলছে\\n356.jpg ছোট মেয়েটি সেলাই মেশিনে কাপড় সেলাই করছে\\n357.jpg তিনজন মহিলা রঙ খেলছে \\n358.jpg রেলস্টেশনে শুয়ে আছে কিছু মানুষ \\n359.jpg অনেকজন পুরুষ একসাথে  বসে ইফতার করছে \\n360.jpg মহিলাটি গাছ থেকে কাঁঠাল কাটছে \\n361.jpg বৃদ্ধ মহিলাটি তাওয়ায় রুটি ভাজছে\\n362.jpg লোকগুলো মসজিদে বসে কুরআন তেলওয়াত করছে\\n363.jpg মেয়েটি তার বন্ধুদের সাথে গল্প করছে আর হাসছে \\n364.jpg ছাত্রীটি ফাঁকা ক্লাস রুমে বেঞ্চে  একা বসে আছে\\n365.jpg চৌচির মাঠে বাচ্চারা হাটছে\\n366.jpg লোকটি হাতিকে গোসল করাচ্ছে \\n367.jpg ছোট মেয়েটি হাতির গায়ে কাদা লাগিয়ে দিচ্ছে \\n368.jpg নাপিত লোকটির গোঁফ কাটছে \\n369.jpg মেয়েটি দোকানে মালা দেখছে\\n370.jpg ছেলেটা রিকশার চাকার উপর শুয়ে ঘুমিয়ে গেছে\\n371.jpg লোকটি বৈদ্যুতিক তার মেরামত করছে\\n372.jpg ছেলেটি গ্লাস থেকে স্ট্র দিয়ে জুস পান করছে\\n373.jpg মেয়েটা ডিপ টিউবওয়েল থেকে পানি পান করছে\\n374.jpg দুটি বানরের বাচ্চা পানি খাচ্ছে আরেকটি বাচ্চা পানিতে ডুবে আছে\\n375.jpg ঝিলের পাড়ে একটি লোক ও মহিলা দাঁড়িয়ে আছে\\n376.jpg মেয়েটা ঘোড়াটাকে নিয়ে আগুনের পাশে দাড়িয়ে আছে\\n377.jpg বাচ্চাগুলো চৌবাচ্চার পানিতে মাছ দেখছে\\n378.jpg কুয়াশায় ঘেরা সকালবেলায়  লোকটি নদীর পাড়ে গাছের নিচে দাঁড়িয়ে বড়শী দিয়ে মাছ ধরছে\\n379.jpg বিশাল সমুদ্রে লোকটি নৌকা চালাচ্ছে \\n380.jpg কুকুর দুইটি সবুজ ঘাসের উপর খেলা করছে\\n381.jpg একটি পুরুষ ও মহিলা রাস্তার পাশের দোকান থেকে খাবার কিনছে\\n382.jpg বাচ্চাটি সমুদ্রের তীরে হাত পা ছড়িয়ে শুয়ে আছে\\n383.jpg সবুজ গাছগুলোর মাঝে লোকটি বেঞ্চে বসে স্যুপ রান্না করছে\\n384.jpg পাহাড়ের মাঝে জীপ আটকে পড়েছে \\n385.jpg অনেকগুলো কুকুর একসাথে গোসল করছে\\n386.jpg বিকেলের অল্প আলোয় দুজন মানুষ নদীর পাড়ে বসে আছে \\n387.jpg পার্কের বেঞ্চে দুজন বসে আছে আর কিছু মানুষ হাটছে \\n388.jpg বিকেলের অল্প আলোয় দুজন মানুষ নদীর পাড়ে বেঞ্চে  বসে আছে\\n389.jpg পাইপের পানি দিয়ে কুকুরটা ভিজছে\\n390.jpg মাথায় হেলমেট পরে ছেলেটি স্কেটিং করছে\\n391.jpg দুটি মেয়ে ফুটবল খেলতে গিয়ে পড়ে যাচ্ছে \\n392.jpg পিচ্চি ছেলেটা বৈঠা দিয়ে নৌকা চালাচ্ছে \\n393.jpg মাটিতে অনেকগুলো বিড়াল শুয়ে,বসে আছে\\n394.jpg পানিতে শুয়ে থাকা একটি হাতির উপর লোকটা দাঁড়িয়ে আছে \\n395.jpg পাহাড়েরর উপর দাঁড়িয়ে লোকটা পেছনের বরফে ঘেরা পাহাড় দেখাচ্ছে \\n396.jpg বরফে ঘেরা পাহাড়ে কয়েকজন মানুষ উঠছে\\n397.jpg পেছনের বরফে ঘেরা পাহাড়ের উপর লোকটা গ্লাস হাতে বসে আছে\\n398.jpg পাহাড়ী রাস্তায় গাধার উপর মালামাল নিচ্ছে লোকটি \\n399.jpg বরফে ঘেরা পাহাড়ের উপর বসে আছে কিছু মানুষ \\n400.jpg পাহাড়ের উপর তাবুর ভিতরে মেয়েটি বসে আছে\\n401.jpg একটি বড় গাছ তার সামনের রাস্তায় একটি লোক ঘোড়ার গাড়িতে পাট এবং দুটো বাচ্চা কে নিয়ে যাচ্ছে \\n 402.jpg সমুদ্রে তিনটা বাচ্চা সামনের জন মাছ হাতে এবং পিছনে দুজন আরও মাছ ধরছে\\n403.jpg  ময়ূর পেখম মেলেছে \\n404.jpg একটি গন্ডার তার সামনে একটি ভেড়া \\n405.jpg স্কুলে প্রধান শিক্ষক কে সকল শিক্ষক শিক্ষকাদের সাথে ছাত্রছাত্রীরা মিলে ফুলের শুভেচ্ছা জানাচ্ছে \\n406.jpg একটি সাংস্কৃতিক অনুষ্ঠানে একজন তবলা আরেকজন হারমোনিয়াম বাজাচ্ছেন \\n407.jpg ঝর্ণার সামনে দাড়িয়ে একটি ছেলে থামবস আপ দেখাচ্ছে \\n 408.jpg মাদ্রাসার জানালা দিয়ে অনেক গুলো বাচ্চা বিজয়ের চিহ্ন দেখাচ্ছে \\n409.jpg বিয়ের দিন কনেকে বিদায় দিতে যেয়ে অশ্রুসিক্ত হয়ে পরেন বাবা\\n410.jpg বিভিন্ন শ্রেণির কাঁধের ব্যাচ একসাথে সাজানো\\n411.jpg স্কুল গেট দিয়ে বৃষ্টিতে ভিজে ভিতরে ঢুকছে \\n412.jpg এজন মহিলা শুভেচ্ছা বিনিময়ের সময় অস্রুসিক্ত হয়ে পরেন\\n413.jpg একটি অনুষ্ঠানে একজন মহিলা তার মোবাইল ফোন দিয়ে ছবি তুলছেন \\n414.jpg সংসদ ভবনে মেঘের ঘনঘটা \\n415.jpg একটি স্কুল তার সামনে অনেক গুলো গাছ আর রাস্তায় আলপোনা আকা \\n416.jpg ছোট মেয়েটি রাস্তায় বসে পানি ভরা বয়ামে হাত ঢুকাচ্ছে\\n417.jpg একটি মেয়ে ঘাসের উপর শুয়ে আছে মুখ ঢেকে তার চুলের উপর কিছু লাল ফুল ছিটানো\\n418.jpg রঙের দোকানে বস্তায় রাখা আছে রঙ\\n419.jpg তুলি ও রঙ দিয়ে মুখে আলপনা আঁকছেন\\n420.jpg ১৪২৪ বর্ষবরণের উৎসব চলছে\\n421.jpg একটি মেয়ে ককশিট কাটছে \\n422.jpg বৈশাখী উদযাপনের প্রস্তুতি চলছে\\n423.jpg ছেলেটি মুখে কলম নিয়ে কিবোর্ড বাজাচ্ছে \\n424.jpg বর্ষবরণ ১৪২২ উদযাপনের প্রস্তুতি চলছে\\n425.jpg ছেলেটি পানির বতোল থেকে পানি নিয়ে মুখ ধুচ্ছে\\n426.jpg হকির গোলরক্ষক বল ধরতে গিয়ে পরে গেছে\\n427.jpg হকি খেলা হচ্ছে ছেলেটি হকি স্টিক দিয়ে বল ছুরে মারছে\\n428.jpg একটি ছেলে বিজয়ী ট্রফি হাতে এবং মুখে মেডেল ধরে আছে\\n429.jpg একজন লোক সাক্ষাতকার দিচ্ছেন এবং মিডিয়ার লোক তা ভিডিও করছে\\n430.jpg একজন খেলোয়াড় আহত হয়েছে দুজন তাকে ধরে নিয়ে যাচ্ছে \\n431.jpg একটি স্কুল পড়ুয়া মেয়ে রং তুলি দিয়ে ছবি আঁকছে\\n432.jpg ল্যাবের প্রজেক্টরে কাজ দেখাচ্ছেন ছেলেটি\\n433.jpg একটি স্কুলের গার্লস গাইড এর সদস্যরা আবর্জনা পরিষ্কার করছে \\n434.jpg  মেয়েটি পরীক্ষা দিচ্ছে\\n435.jpg  একটি নৌকা তাতে একজন লোক বসে তরকারি কাটছে\\n436.jpg একজন লোক কামরাঙ্গা ধরে আছে \\n437.jpg ডাক্তার রোগীর প্রেসার মাপছেন \\n438.jpg হসপিটালে ডাক্তার একজন লোকের প্রেসার মাপছেন\\n439.jpg দুটো বাচ্চা মেয়ে সরবত পান করছে\\n440.jpg  অনেকগুলো খাবারের প্যাকেট\\n441.jpg ছেলেটি ফ্লোরে বসে বড় পাতিল থেকে খাবার বারছে\\n442.jpg খড়কুটোর উপর একটি চড়ুই  পাখি বসে আছে\\n443.jpg ফড়িং সরিষা ফুলের মধু আহরণ করছে\\n444.jpg  একজন মহিলা ছারানো ধান একত্র করছে\\n445.jpg তিনটি বাচ্চা ছেলে কাঁদায় মাখামাখি করছে\\n446.jpg পিছনে বড় পাহাড় বড় নদী তাতে পাঁচটি নৌকা।  মানুষ নৌকা চালাচ্ছে \\n447.jpg দুজন মিলে খেড় দিয়ে রশি বানাচ্ছে\\n448.jpg নিবার্চনের সভা চলছে\\n449.jpg পুরস্কার বিতরণী উপলক্ষে টেবিলে ফুল সাজানো হয়েছে এবং একজন আরেকজনকে পুরস্কার তুলে দিচ্ছে আর বাকিরা হাত তালি দিচ্ছে\\n450.jpg একজন কৃষক তার গাছের পরিচর্যা  করছে\\n451.jpg একটি অটোরিকশা স্ট্যান্ড এবং দুটো লোক বাংলাদেশের পতাকা বিক্রি করার জন্য ঘুরছেন \\n452.jpg হিরোআলমের সাথে অনেক গুলো লোক ছবি তুলছে \\n453.jpg স্কুলের বাচ্চারা আন্দোলন করছে \\n454.jpg ক্ষেতের মধ্যে বোল নিয়ে ধান তুলচ্ছে ছেলেটি \\n455.jpg নদী কুয়াশাছন্ন আকাশ একটি নৌকা তাতে পাঁচ ছয়জন  মানুষ \\n456.jpg তিনটা বাচ্চা  শীতের কাপড় টুপি পরে ভ্যানের উপর বসে আছে\\n457.jpg একটি গাড়ি তার সামনে একজন লোক অনেক গুলো আলো জ্বালা বেলুন এবং অন্যপাশে অনেক গুলো গাছ আলো দিয়ে সাজানো\\n458.jpg পার্কে একটি ভাস্কর্যের পাশে বড় একটি বেলুনের ভিতর আলো জ্বলছে\\n 459.jpg একজন শিল্পকর্মী ভাস্কর্য বানাচ্ছেন\\n460.jpg একজন মানুষ হাটছে এবং পাশে দেয়ালে রঙিন চিত্র অংকন করা\\n461.jpg অনেক গুলো মানুষ টুপি পড়ে রাস্তায় একটি বাসার সামনে দাড়িয়ে আছে \\n462.jpg ভিকারুননিসা নূন স্কুলের সামনে ছাত্রীদের অভিভাবক অপেক্ষা করছে\\n463.jpg অনেক গুলো দিনমজুর লোক নৌকা থেকে মাথায় ঝাকড়াতে মাল বহন করছে\\n464.jpg পানিতে কুমিরের মুখ আর পিঠের কিছু অংশ দেখা যাচ্ছে \\n465.jpg ফুল গাছের উপর প্রজাপ্রতি উরে বেরাচ্ছে \\n466.jpg গাছের ডালে ফিঙে পাখি তার পিছে পুকুর \\n467.jpg পাকা ধান খেত তার মাঝ দিয়ে তিনটি মেয়ে স্কুল যাচ্ছে এবং পিছে দুইটি লোক কাক করছে\\n468.jpg একটি বাচ্চা ছেলে গাছ থেকে পাতা ছিরছে\\n469.jpg একটি বাচ্চা ছেলে ফুটপাত দিয়ে হাটছে আর দেয়ালে রংতুলিতে আঁকা মুক্তি যুদ্ধো চিত্র দেখছে\\n470.jpg পিছে একটি আগুন নিভানোর গাড়ি তার সামনে অনেক মানুষ এবং তাদের সামনে আগুন জ্বলছে \\n471.jpg সমুদ্রে জাহাজ চলছে আর আকাশে উর জাহাজ \\n472.jpg ট্রাক্টর দিয়ে ভাঙ্গা সিমেন্টের চাকতিগুলোকে তুলা হচ্ছে\\n473.jpg একজন বৃদ্ধ লোক  ধান খেতে ধান গুলো কে কাটছে\\n474.jpg দেয়ালে ছবি আঁকা তার সামনে একটি মহিলা হেলমেট পরে ছবি উঠছেন \\n475.jpg অনেক গুলো মানুষ স্যান্টা ক্লোজ সেজে মোটসাইকেলে ঘুরছে \\n476.jpg একজন স্কুল ছাত্রী প্লাকার্ড এ নিয়ে দাড়িয়ে আন্দোলন করছে\\n477.jpg কয়েকজন মহিলা তাদের সামনে কয়েকজন পুলিশ\\n478.jpg তিনজন পুলিশ একজন কে ধরে নিয়ে যাচ্ছে \\n479.jpg তিনজন মহিলা এক জনের হাতে বাঁশ \\n480.jpg পানিতে সাদা বক দাড়িয়ে।  পানিতে তার প্রতিবিম্ব দেখা যাচ্ছে \\n481.jpg রক্তিম সূর্য একটি ধানের শীষ \\n482.jpg অনেক গুলো বস্তার স্তুপের উপর একজন লোক শুয়ে আছেন\\n483.jpg পিছনে চার জন পুলিশ সামনে একজন মহিলা রোহিঙ্গা সম্প্রদায়ের জন্য প্লাকার্ড ধরে আছেন\\n484.jpg একটা কালো হাঁস তা নিজের লেজ কামাড়াচ্ছে\\n485.jpg অনেক গুলো বাচ্চা স্যান্টা ক্লোজ এর জামা পরা তাদের মধ্যে চার মুখুশ পরে আছে\\n486.jpg সুসজ্জিত অনেক গুলো হাতি এবং তাদের পিঠে অনেক মানুষ \\n487.jpg মেঘাছন্ন আকাশ একটি সেতুর ছাউনি  তার উপর অনেক পাখি\\n488.jpg পিছনে একটি সুন্দর চিত্র তার দুজন মানুষ নৃত্য করছে\\n489.jpg পুলিশ বাহিনীর সামনে সাধারন জনতার ভিড়\\n490.jpg দুজন আদিবাসী সংস্কৃতির জামা পরে ছাতা মাথায়  দাড়িয়ে আছে এবং নিচে আরও দুটি ছাতা আছে\\n491.jpg লোকটি নদী জাল ফেলাচ্ছে\\n492.jpg লোকটি কয়েকটা রঙের কুমড়োবড়ি বিক্রি করছেন\\n493.jpg দুজন লোক মাথায় গামছা বেঁধেছে সাথে আছে  লতাপাতা এবং একজনের হাতে মোবাইল আরেকজন ঘাত ঘড়ি পরে রাইফেল হাতে নিয়েছে \\n494.jpg একজন পা হীন লোক ইন্জিন চালিত রিকশা চালাচ্ছে পিছনে একজন লোক বসে আছেন\\n495.jpg হিরো আলম এর সঙ্গে ছবি তুলছেন\\n496.jpg সড়ক দুর্ঘটনা ঘটেছে\\n497.jpg লোকটি নারকেল গাছের পাতা দিয়ে বিভিন্ন কারুকাজ করছে \\n498.jpg রাস্তায় মিছিল চলছে এবং পেছনে আছে পুলিশ \\n499.jpg আসামি পরিবহন যান দেখে মহিলাটি কান্না করছেন তার আপজনকে দেখে\\n500.jpg বেলুন দিয়ে উদ্ভোদন করা হয়েছে আকাশে উড়িয়ে\\n501.jpg বাংলাদেশের শিক্ষা মন্ত্রী একজন লোক কে আলিঙ্গন করছেন \\n502.jpg কিছু মানুষ ট্রেন লাইনে দাড়িয়ে আছেন পাশে কয়েকজন লোক কাট কাটছেন\\n503.jpg একটি পাতাবিহীন গাছ একটি বাস আর একজন মানুষ দাড়িয়ে \\n504.jpg লোকটি কাঁধে ধান নিয়ে যাচ্ছে \\n505.jpg গাচে একটা ফুল ফুটেছে \\n506.jpg ধান গাছের উপর প্রজাপ্রতি বসে আছে \\n507.jpg খালে অনেক গুলো নৌকা আর একটি মেয়ে দাড়িয়ে আছে\\n508.jpg একটি ফানুস উড়ছে আরেকটি উড়ানো হচ্ছে \\n509.jpg প্রতিবন্ধি দিবসের সমাবেশ \\n510.jpg লোকটি ভ্যান থেকে কাগজের গাট্টি মাথায় নিয়ে দোকেনের দিকে যাচ্ছেন\\n511.jpg কাঁচা সবজি বাজার \\n512.jpg আসামি পরিবহন যান। বাহিরে তাদের আত্মীয় স্বজন \\n513.jpg অনেক গুলো মাটির পাত্র\\n514.jpg সি এন জি টি একি পাইপের  নিচ দিয়ে যাচ্ছে\\n515.jpg পাখিটা ফুল থেকে মধু খাচ্ছে \\n516.jpg সংবাদ সম্মেলন হচ্ছে\\n517.jpg ছেলেটি মাথা নিচু করে আছে\\n518.jpg স্কুল ভ্যানে বাচ্চারা স্কুল যায়\\n519.jpg দুজন মানুষের স্মরনে মোমবাতি জ্বালিছে একটি বাচ্চা তা দেখছে\\n520.jpg ফুটে উঠেছে কমলা হলুদ রঙের ফুল\\n521.jpg অনেক গুলো পাখি আকাশে উরছে\\n522.jpg টমেটো খেত থেকে টমেটো তুলছে আর ছেলেটা টমেটো খাচ্ছে \\n523.jpg লাল সবুজ রঙের টোমেটো\\n524.jpg ছেলেটা টমেটো গুলো ছরিয়ে ছিটেয়ে দিচ্ছে \\n525.jpg বৃদ্ধ লোকটি টমেটো বাক্সে তুলছে\\n526.jpg লোকটি বিবর্ধক কাচ দিয়ে গাছ গুলো পর্যবেক্ষণ করছেন\\n527.jpg ডিজিটাল যন্ত্র দিয়ে চারা গাছটির মাটি পরীক্ষা করা হচ্ছে\\n528.jpg অণুবীক্ষণ যন্ত্রের সাহায্য গাছ মাটি পর্যবেক্ষণ করছেন\\n529.jpg একজন রিকশা চালক পতাকা বিক্রেতার হতে পতাকা কিনে রিকশায় লাগাচ্ছেন \\n530.jpg গাছি খেজুরের গাছ থেকে রস পারছে\\n531.jpg ফুটপাতে বাচ্চােদর শীতের কাপড় বিক্রি করছে লোকজন কিনছে\\n532.jpg একজন বিয়ের বর বউ এর ছবি তুলছে মোবাইল ফোনে আর আরেকজন তার ফোন সহ ছবি তুলছে \\n533.jpg দুজন মধ্য বয়সী মহিলা মাথায় ফুল দিয়ে ছবি তুলছেন \\n534.jpg বাচ্চা মেয়েটি কে তার বাবা ফুলের সাথে ছবি তুলে দিচ্ছে \\n535.jpg রজনীগন্ধা ফুল কিছু কলি আর কিছু ফুটেছে \\n536.jpg হলুদ কমলা মেশানো ঝুড়ি ভরা গাঁদা ফুল আর নানা রঙের চুড়ি পরা একজনের হাত\\n537.jpg তিনটি মেয়ে ফুল সজ্জিত রিকশার সাথে দাড়িয়ে মাথায় ফুল দিয়ে ছবি তুলছে\\n538.jpg দেবী দূর্গার বিসর্জন এর পূর্ব মুহূর্তে \\n539.jpg মাথায় করে কলসি ও ফুলের মালা নিয়েছে\\n540.jpg দেবী দূর্গার বিসর্জন জন্য মানুষ নৌকায় ঢাক ঢোল বাজাচ্ছে\\n541.jpg দেবী দূর্গাকে বিসর্জন দিচ্ছে অপর পাশে নৌকা থেকে মানুষ ছবি তুলছে\\n542.jpg বোমা হামলার পরের চিত্র \\n543.jpg আহত মন্ত্রী কে মোটরসাইকেলে করে হাসপাতালে নিচ্ছে\\n544.jpg গ্রেনেড সুরক্ষিত স্থানে রাখা\\n545.jpg দৌড় প্রতিযোগিতায় অংশগ্রহণ কৃত মানুষ \\n546.jpg তিনজন সাইকেল চালোনো প্রতিযোগী\\n547.jpg একজন মেয়ে প্রতিযোগী পানি পান করছে\\n548.jpg দৌড় শেষ স্থানে পৌঁছাতে পেরেছেন\\n549.jpg নৃত্য শিখানোর স্কুলে নৃত্য শিখছে বাচ্চারা\\n550.jpg লোকটি গোসল করছে \\n551.jpg ইট পোড়ানোর কাল ভারটেড় সামনে দিয়ে নৌকায় করে জাল ফেলে মাছ ধরছেরেন জেলেরা\\n552.jpg একটি অজগর সাপ মাথা বের করে আছে লোকটি তার ছবি তুলছে\\n553.jpg অনেক ধোয়া একটি লোক এক হাতে নাক ধরে আছেন অন্য হাতে ব্যাগ তার পাশে আরেকজন টুপি পরে হাটছেন \\n554.jpg স্কুল পড়ুয়া বাচ্চারা পানি পার হচ্ছে ভেলায় করে\\n555.jpg রাস্তার মাঝের বেরিগেইট এর ফাঁক দিয়ে এক লোক অই পারে যাওয়ার চেষ্টা করছে\\n556.jpg অনেক গুলো মেয়ে নাচছে \\n557.jpg মেয়েটি কে অন্য আরেকজন সাজিয়ে দিচ্ছে \\n558.jpg একটি বাচ্চা বাচ্চা আরেকটি বাচ্চাকে পিঠের উপর আটকে রেখেছে\\n559.jpg বাচ্চা টি তার বাবা মায়ের কাঁধে হাত দিয়ে দাড়িয়ে আছে \\n560.jpg ছেলেটি ছবি তুলছে\\n561.jpg সঙ্গীত পরিবেশন করছে ছেলেটি হাওর মো বাজাচ্ছে মেয়ে গুলো গান গাচ্ছে\\n562.jpg বাচ্চা মেয়ে গুলো নাচ প্রদর্শন করছে\\n563.jpg দুটো মেয়ে ভাস্কর্য দেখছে\\n564.jpg মহিলাটি পেপার দিয়ে কিছু বানাচ্ছেন \\n565.jpg তিনটি দেশের  প্রেসিডেন্টদের ভাস্কর্য \\n566.jpg একটি সাদা রিকশা তাতে পাখা লাগানো\\n567.jpg চিত্র প্রদর্শনি তে ছেলেটি চিত্র দেখছে\\n568.jpg হারমোনিয়াম এর ভাস্কর্য \\n569.jpg চিত্র প্রদর্শনি তে মেয়েটি ছবি দেখছে\\n570.jpg আর্টিফিশিয়াল মানুষের হাত, দাত, হাড়ের মই\\n571.jpg অন্ধকারে লাইট বক্সের সামনে দাঁড়িয়ে আছে একটি মেয়ে\\n572.jpg দুটো ছেলে আর একটি মেয়ে নৃত্য দেখাচ্ছে \\n573.jpg অনেক গুলো মেয়ে নৃত্য দেখাচ্ছে \\n574.jpg নীল আকাশ সবুজ গাছ আর একটি বাড়ি দরজা\\n575.jpg খেলার স্টেডিয়াম \\n576.jpg তামার স্ট্যান্ডের মধ্যে একটি ঘণ্টা ঝুলানো\\n577.jpg খাবারের দোকান \\n578.jpg হালিমের দোকান অনেক গুলো হাড়ি\\n579.jpg কিমা পরাটা বিক্রি করছে\\n580.jpg রমজান মাসে ইফতার কেনাবেচা চলছে\\n581.jpg জিলাপি বানানো  হচ্ছে \\n582.jpg লোকটি ড্রোন নিয়ে কথা বলছেন\\n583.jpg ভোমর ফুলের মধু খাচ্ছে \\n584.jpg সবুজ পাতার উপর গোবরে পোকা\\n585.jpg প্রজাপ্রতি গাছের উপর\\n586.jpg গোলাপি ফুল \\n587.jpg হলুদ সূর্য মুখী ফুলের উপর নীল পাখা যুক্ত ভোমরা\\n588.jpg সাদা সূর্যমুখী\\n589.jpg লঞ্চ চলছে তার প্রতিছবি আরেক লঞ্চের জানলায়\\n590.jpg আগুন শিখা\\n591.jpg বৌদ্ধ ধর্মের বাচ্চা তাদের সংস্কৃতির জামা পরে বিজয় চিহ্ন দেখাচ্ছে \\n592.jpg অনেক গুলো সিমেন্টের প্যাকেট এবং একটি বড় শিং সহ গরু\\n593.jpg লোকটা বাচ্চা কে আকাশের দিকে ছুরে দিয়েছে \\n594.jpg সবুজ গাছের উপর দুটো হলুদ পাখি\\n595.jpg একটি গেট দুটো জানালা। একজন লোক বেঞ্চের উপর বসে আছে\\n596.jpeg পাহাড় আর আকাশের গা ঘেসে সূর্য \\n597.jpg নৌকায় খরের তৈরি ডলফিন মাছের সামনে দাঁড়িয়ে আছে কয়েকজন\\n598.jpg বাচ্চারা পুতুল খেলা দেখছো\\n599.jpg নদী থেকে ডুব দিয়ে বের হচ্ছে এক জলজ প্রাণী\\n600.jpg মেয়ে আর্মি স্যালুট জানাচ্ছে\\n601.jpg পাথরের উপর একজন মানুষ বসে আছে \\n601.jpg সুউচ্চ পাহাড়ের উপর একজন মানুষ বসে আছে \\n601.jpg পাথরের উপর একজন মানুষ বসে আছে এবং তার পিছনে অনেক বড় একটি পাহাড় দেখা যাচ্ছে \\n601.jpg মাথায় টুপি পরে, কাঁধে ব্যাগ নিয়ে পাথরের উপর একজন মানুষ বসে আছে\\n602.jpg গাছগাছালিতে ভরা একটি জায়গা \\n602.jpg জঙ্গলের মাঝে একটি গাছে সাদা রংয়ের ফুল ফুটেছে\\n602.jpg জঙ্গলের মাঝে একজন মানুষ সাইকেল নিয়ে লাফ দিচ্ছে \\n602.jpg জঙ্গলের মাঝে একজন মানুষ দুই হাত উঁচু করে সাইকেল নিয়ে লাফ দিচ্ছে\\n603.jpg দুই পা ছড়িয়ে একটি ঘোড়া লাফ দিচ্ছে \\n603.jpg সবুজ মাঠে পিছনের দুই পা ছড়িয়ে একটি ঘোড়া লাফ দিচ্ছে \\n603.jpg সবুজ মাঠে পিছনের দুই পা ছড়িয়ে একটি ঘোড়া লাফ দিচ্ছে এবং মাঠের সামনেই ঘন গাছপালা\\n604.jpg বাচ্চা ছেলেটি পানিতে লাফ দিচ্ছে \\n604.jpg বাচ্চা ছেলেটি দুই হাত পাশাপাশি রেখে পানিতে লাফ দিচ্ছে \\n604.jpg বাচ্চা ছেলেটা হাফ প্যান্ট পরে পানিতে লাফ দিচ্ছে\\n605.jpg ছেলেটা সাইকেল নিয়ে কসরত দেখাচ্ছে \\n605.jpg সিড়ির উপর ছেলেটা সাইকেল নিয়ে কসরত দেখাচ্ছে  605.jpg ছেলেটা সাইকেল নিয়ে কসরত দেখাতে গিয়ে মুখভঙ্গি বদলে ফেলেছে\\n606.jpg ওয়াকারে বসে বাচ্চাটি হাসছে\\n606.jpg ওয়াকারে বসে বাচ্চাটি হাসছে আর হাত নাড়াচ্ছে\\n607.jpg দুটি মেয়ে পাশাপাশি বসে আছে \\n607.jpg প্যান্ট টপস বাদামী চুলের পরা দুটি মেয়ে পাশাপাশি বসে আছে \\n607.jpg দুটি মেয়ে পাশাপাশি বসে আছে এবং তাদের পিছনে একটি ভাস্কর্য\\n608.jpg এরোপ্লেন থেকে ধোঁয়া বের হচ্ছে \\n608.jpg এরোপ্লেনটিতে আগুন ধরায় ধোঁয়া বের হচ্ছে \\n608.jpg আকাশে উড্ডীয়মান এরোপ্লেন থেকে ধোঁয়া বের হচ্ছে\\n609.jpg বিশাল দালানের সামনের বড় বড় সিঁড়ি\\n609.jpg সিঁড়ির উপর স্কেটিং বোর্ড নিয়ে একটি ছেলে খেলছে\\n609.jpg সিঁড়ি পাশে কিছু মানুষ বসে আছে \\n610.jpg ছোট ছেলেটা আঙুল দিয়ে কিছু দেখাচ্ছে\\n611.jpg ছোট্ট বাচ্চা মেয়েটি মহিলার মাথায় রঙিন কাগজের টুকরো ছড়িয়ে ছিটিয়ে দিচ্ছে \\n611.jpg ছোট্ট বাচ্চা মেয়েটি মহিলার মাথায় রঙিন কাগজের টুকরো ছড়িয়ে ছিটিয়ে দিচ্ছে এবং মহিলাটি হাসছে\\n611.jpg সবুজ মাঠে ছোট্ট বাচ্চা মেয়েটি মহিলার মাথায় রঙিন কাগজের টুকরো ছড়িয়ে ছিটিয়ে দিচ্ছে\\n612.jpg বাচ্চা ছেলেটি লোহার পাইপ ধরে ঝুলছে \\n612.jpg বাদামী চুলের বাচ্চা ছেলেটি লোহার পাইপ ধরে ঝুলছে \\n612.jpg বাচ্চা ছেলেটা খেলছে\\n613.jpg একটি মেয়ে আলমারিতে হেলান দিয়ে দাঁড়িয়ে আছে এবং তার সামনেই আরেকটি মেয়ে মোড়ায় বসে আছে \\n613.jpg একটি মেয়ে আলমারিতে হেলান দিয়ে দাঁড়িয়ে বই পড়ছে\\n614.jpg বড় টুপি পরে দুটি লোক হেঁটে যাচ্ছে \\n614.jpg কোট,টাই ও বড় টুপি পরে দুটি লোক হেঁটে যাচ্ছে\\n615.jpg একটি ছেলে রোদচশমা পরে হাসছে এবং তার পাশের দুজন মানুষ অদ্ভুত মুখভঙ্গি করে রেখেছে\\n616.jpg পাইপের উপর দিয়ে কুকুরটা  লাফ দিচ্ছে \\n616.jpg সবুজ মাঠে পাইপের উপর দিয়ে কুকুরটা  লাফ দিচ্ছে\\n617.jpg সাইকেল নিয়ে ছেলেটি কসরত দেখাচ্ছে \\n617.jpg সাইকেল নিয়ে ছেলেটি অনেক উপরে উঠেছে\\n618.jpg রঙিন আলোয় ঘেরা ঘরে অনেক মানুষ বসে আছে\\n618.jpg রঙিন আলোয় ঘেরা ঘরে অনেক মানুষ বসে আছে এবং তাদের পিছনে বড় একটি জানালা\\n619.jpg নীল আকাশের নিচে ছেলেটি স্কেটিং করছে \\n619.jpg এক হাত উঁচু করে ছেলেটা স্কেটিং করছে\\n620.jpg কয়েকটি ছোট মেয়ে একটি খেলনায় বসে আছে \\n621.jpg লোকটি একটি লাঠির ভর করে অন্য একটি লাঠির উপর দিয়ে লাফ দিচ্ছে\\n622.jpg লোকটি সাইকেল নিয়ে অনেক উপরে উঠে গেছে \\n622.jpg মাটির উঁচু নিচু রাস্তায় একটি লোক হেলমেট পরে সাইকেল নিয়ে উপরে লাফ দিয়েছে\\n623.jpg দুটি মেয়ে হাসছে\\n623.jpg একটি মেয়ে আরেকটি মেয়েকে জড়িয়ে ধরে আছে \\n623.jpg বাদামী রংয়ের খোলা চুলের মেয়েটি হেলমেট পরা মেয়েটিকে জড়িয়ে ধরে আছে\\n624.jpg দুটি কুকুর ঝগড়া করছে \\n624.jpg সবুজ মাঠে দুটি কুকুর ঝগড়া করছে\\n625.jpg খেলোয়াড়টি একটি টেনিস বল ছুড়ে মারছে\\n625.jpg খেলার মাঠে এক হাতে গ্লাভস পরে অন্য হাত দিয়ে খেলোয়াড়টি বল ছুড়ে মারছে\\n626.jpg বালির উপর কুকুরটা দৌড়াচ্ছে \\n626.jpg গলায় বেল্ট বাঁধা কুকুরটা দৌড়াচ্ছে \\n626.jpg ভেড়া দুটির পিছনে কুকুরটা দৌড়াচ্ছে\\n627.jpg রঙিন পোশাক পরা ছোট মেয়েটি সবুজ ঘাসের উপর হাটছে \\n627.jpg বাদামী চুলের ছোট মেয়েটি দুই হাতে বেলুন নিয়ে হাটছে\\n628.jpg চারজন মানুষ পাশাপাশি হাটছে\\n628.jpg রাতের বেলায় চারজন মানুষ পাশাপাশি হাটছে\\n629.jpg অল্প পানির উপর বাচ্চাটিকে বসানো হয়েছে \\n629.jpg নীল রঙের টুপি পরে বাচ্চাটি পানিতে বসা\\n629.jpg নীল রঙের টুপি পরে বাচ্চাটি পানিতে বসা এবং পিছনে একজনের হাত দেখা যাচ্ছে \\n629.jpg নীল রঙের টুপি পরে বাচ্চাটি পানিতে বসা এবং তার পাশেই একটি সবুজ বালতি রাখা\\n630.jpg ছোট ছেলেটি খেলনা গাড়ির উপর বসে আছে\\n631.jpg দুটি মেয়ে দোলনায় দোল খাচ্ছে \\n631.jpg প্যান্ট টপস পরে ছোট বড় দুটি মেয়ে পাশাপাশি দোলনায় বসে দোল খাচ্ছে\\n632.jpg সমুদ্রের পানিতে ছেলেটা লাফ দিচ্ছে \\n632.jpg হাফ প্যান্ট পরা ছোট ছেলেটি পানিতে লাফিয়ে পরছে আর হাসছে\\n632.jpg সমুদ্রের পানিতে ছেলেটা লাফ দিচ্ছে এবং পিছনে কিছু মানুষ আছে \\n632.jpg সাদা মেঘে ঢাকা নীল আকাশের নিচে হাফ প্যান্ট পরা ছোট ছেলেটি পানিতে লাফিয়ে পরছে আর হাসছে\\n633.jpg সবুজ মাঠে ছেলেটা বল নিয়ে পরে গেছে \\n633.jpg সবুজ মাঠে খেলোয়াড়টি বল নিয়ে পরে গেছে এবং তাকে ধরার জন্য দুজন খেলোয়াড় পিছন থেকে দৌড়ে আসছে\\n634.jpg মেয়েটি দুই হাত উঁচু করে আঙুল দেখাচ্ছে এবং হাসছে\\n634.jpg বাদামী রংয়ের ছোট চুলের মেয়েটি গলায় দুটি মেডেল পরে দুই হাত উঁচু করে আঙুল দেখাচ্ছে এবং হাসছে\\n635.jpg ছোট মেয়েটি দোলনায় বসে আছে \\n635.jpg পার্কের দোলনায় ছোট্ট মেয়েটি বসে আছে \\n635.jpg সবুজ ঘাসে ঢাকা মাঠের পার্কের দোলনায় ছোট্ট মেয়েটি বসে আছে\\n636.jpg লোকটা মোটরসাইকেল চালাচ্ছে \\n636.jpg মাটির এবড়োখেবড়ো রাস্তায় লোকটা মোটরসাইকেল চালাচ্ছে \\n636.jpg হেলমেট পরে মাটির এবড়োখেবড়ো রাস্তায় লোকটা মোটরসাইকেল চালাচ্ছে\\n637.jpg উল্টো হয়ে ছেলেটা পানিতে লাফিয়ে পরছে \\n637.jpg ছেলেটা হাফ প্যান্ট পরে উল্টো হয়ে পানিতে লাফিয়ে পরছে \\n637.jpg নীল পানিতে ছেলেটা উল্টো হয়ে পানিতে লাফিয়ে পরছে\\n638.jpg একজন খেলোয়াড় হাত দিয়ে আরেকজন খেলোয়াড়ের গলা আটকে ধরে আছে \\n638.jpg খেলার মাঠে একজন খেলোয়াড় হাত দিয়ে আরেকজন খেলোয়াড়ের গলা আটকে ধরে আছে এবং সে বলটিকে ধরে রেখেছে \\n638.jpg খেলার মাঠে একজন খেলোয়াড় হাত দিয়ে আরেকজন খেলোয়াড়ের গলা আটকে ধরে আছে এবং অন্যরা তাদের ছাড়ানোর চেষ্টা করছে \\n639.jpg মেয়েটি নাচের ভঙ্গিতে আছে \\n639.jpg ছোট পোশাক পরে মেয়েটি নাচ পরিবেশন করছে\\n640.jpg ছেলেটি স্কেটিং করছে \\n640.jpg স্কেটিং করার জন্য ছেলেটা লাফ দিয়েছে\\n641.jpg সমুদ্রে কয়েকটি স্পিডবোট নিয়ে মানুষ যাচ্ছে \\n641.jpg সমুদ্রে কয়েকটি স্পিডবোট নিয়ে মানুষ যাচ্ছে এবং তাদের অনেক সামনে একটি বড় ট্রলার দেখা যাচ্ছে\\n642.jpg সমুদ্রের পানিতে ছেলেটা সার্ফিং করছে\\n643.jpg সুইমিংপুলের সামনে দুজন বয়স্ক পুরুষ ও মহিলা বসে আছে \\n643.jpg সুইমিংপুলের সামনে দুজন বয়স্ক পুরুষ ও মহিলা বসে আছে এবং তাদের সামনে একটি মেয়ে এপ্রন পরে দাঁড়িয়ে আছে \\n643.jpg সুইমিংপুলের সামনে দুজন বয়স্ক পুরুষ ও মহিলা বেঞ্চে বসে আছে এবং তাদের পিছনে বড় বড় গাছপালা\\n644.jpg জঙ্গলের সামনে একটি বেঞ্চে তিনজন মানুষ বসে আছে \\n644.jpg বয়স্ক তিনজন মানুষ বেঞ্চে বসে আছে\\n645.jpg দুটি পিচ্চি মেয়ে বড় বড় চোখ করে হাসছে \\n645.jpg দুটি পিচ্চি মেয়ে বড় বড় চোখ করে হাসছে এবং চামচ দিয়ে খাচ্ছে\\n646.jpg ছোট মেয়েটি পানির গামলার উপর বসে আছে\\n647.jpg লোকটা মোটরসাইকেল চালাচ্ছে \\n647.jpg হেলমেট পরে একজন লোক মোটরসাইকেল নিয়ে মাটি থেকে উপরে লাফ দিয়েছে \\n647.jpg মাটির এবড়োখেবড়ো রাস্তায় একজন লোক মোটরসাইকেল নিয়ে লাফ দিচ্ছে\\n648.jpg লোহার শিকলের তৈরি দোলনায় দোল খাচ্ছে ছোট মেয়েটি \\n648.jpg বাদামী চুলের ছোট মেয়েটি দোলনায় বসে দোল খাচ্ছে\\n649.jpg লোকটা স্কেটিং করছে\\n650.jpg সমুদ্রের একটু উপরে রশির সাহায্যে ছেলেটা ভাসছে\\n651.jpg মহিলাটি একটি কুকুরের বাচ্চা কোলে নিয়ে আছে \\n651.jpg সবুজ মাঠে দাঁড়িয়ে মহিলাটি একটি কুকুরের বাচ্চা কোলে নিয়ে আছে আরেকটা কুকুর দেখাচ্ছে\\n652.jpg ছেলেটা সাইকেল চালাচ্ছে আর পানি পান করছে\\n652.jpg হেলমেট পরে একটি ছেলে সাইকেল প্রতিযোগিতায় অংশগ্রহণ করেছে এবং পানি পান করছে\\n653.jpg অনেক মানুষের পাশে বসে একটি মহিলা সাবানের বুদবুদ তৈরি করছে \\n653.jpg অনেক মানুষের মাঝে একটি মহিলা সাবানের বুদবুদ তৈরি করছে এবং তার সামনে ছোট্ট মেয়েটা ওগুলো ধরার চেষ্টা করছে \\n653.jpg সবুজ ঘাসে ঢাকা মাঠে অনেক মানুষের মাঝে একটি মহিলা সাবানের বুদবুদ তৈরি করছে আর একটি বাচ্চা মেয়ে ওগুলো ধরার চেষ্টা করছে\\n654.jpg হেলমেট পরে লোকটি মোটরসাইকেল চালাচ্ছে \\n654.jpg হেলমেট পরে লোকটি মোটরসাইকেল চালাচ্ছে আর ধোঁয়া ছড়াচ্ছে\\n654.jpg হেলমেট পরে লোকটি মোটরসাইকেল নিয়ে কসরত করছে আর পিছনে অনেক মানুষ দাঁড়িয়ে দেখছে এবং ছবি তুলছে\\n655.jpg ময়লার বাক্স থেকে কিছুটা দূরে মেয়েটা দাঁড়িয়ে আছে \\n655.jpg মেয়েটা দেয়ালে হেলান দিয়ে দাঁড়িয়ে আছে\\n655.jpg গেঞ্জি আর হাফ প্যান্ট পরা মেয়েটি দেয়ালে হেলান দিয়ে দাঁড়িয়ে আছে\\n656.jpg লোমশ দুটি কুকুর একসাথে খেলছে\\n656.jpg কুকুরের বাচ্চা দুটি একটা আরেকটার সাথে মাথা দিয়ে গুতাগুতি করছে\\n657.jpg ঘাসের উপর শুয়ে লোকটা বই পড়ছে\\n657.jpg ব্যাগের উপর মাথা রেখে ঘাসের উপর শুয়ে লোকটা বই পড়ছে\\n657.jpg জঙ্গলের পাশের মাঠে ঘাসের উপর শুয়ে লোকটা বই পড়ছে\\n658.jpg কয়েকটি মেয়ে নাচ পরিবেশন করছে \\n658.jpg স্টেজে কয়েকটি মেয়ে নাচ পরিবেশন করছে\\n659.jpg সবুজ ঘাসে ঢাকা মাঠে একটি মেয়ে বল খেলছে\\n659.jpg ছোট্ট বাচ্চা মেয়েটি বলটিকে লাথ দিচ্ছে\\n660.jpg দুজন মানুষ অনেকগুলো কালো রঙের ফোলানো বেলুন দিয়ে মুখ ঢেকে রেখেছে \\n660.jpg মাটির উঁচু ঢিবির উপর দুজন মানুষ বেলুন নিয়ে দাঁড়িয়ে আছে\\n660.jpg নীল আকাশের নিচে মাটির উঁচু ঢিবির উপর দুজন মানুষ বেলুন নিয়ে হেটে যাচ্ছে\\n661.jpg দুটি মেয়ে পাঞ্জা লড়ছে\\n661.jpg টেবিলের উপর হাত রেখে দুটি মেয়ে পাঞ্জা লড়ছে\\n661.jpg দুটি মেয়ে পাঞ্জা লড়ছে এবং আরেকটি মেয়ে পাশে বসে তা দেখছে\\n662.jpg একটি মেয়ে শূন্যে ভাসছে\\n662.jpg একটি মেয়ে বিছানার উপর লাফিয়ে পরছে\\n663.jpg বালির উপর একটি কুকুর দাড়িয়ে আছে \\n663.jpg সমুদ্রের তীরে বালির উপর একটি কুকুর দাড়িয়ে আছে\\n664.jpg দুটি বাচ্চা হাঁটছে\\n664.jpg অনেকগুলো মানুষের সামনে দিয়ে দুটি ছোট বড় ছেলে হাঁটছে\\n665.jpg খালি ঘরের ভিতর তিনটি বাচ্চা খেলছে\\n665.jpg ঘরের মেঝেতে একটি মেয়ে বসে আছে এবং তার সামনে দুটি মেয়ে খেলছে\\n665.jpg ঘরের ভিতর তিনটি মেয়ে খেলছে এবং ঘরের কোনায় একটি টুল রাখা\\n666.jpg সবুজ ঘাসের উপর সারি সারি বাতি রাখা হয়েছে \\n666.jpg একটি মেয়ে বসে আছে এবং তার আশেপাশে অনেক মানুষ\\n667.jpg দুটি মেয়ে কারাতে খেলছে \\n667.jpg স্টেজে দুটি মেয়ে কারাতে খেলছে এবং নিচে সবাই তা দেখছে\\n668.jpg অনেকগুলো ছেলে সাইকেল চালাচ্ছে \\n668.jpg মাটির উঁচু নিচু রাস্তায় অনেকগুলো ছেলে সাইকেল চালাচ্ছে \\n668.jpg বিকেল বেলায় নদীর পাড়ে মাটির উঁচু নিচু রাস্তায় অনেকগুলো ছেলে সাইকেল চালাচ্ছে\\n669.jpg দুটি মেয়ে রোদচশমা পরে দাঁড়িয়ে আছে \\n669.jpg একটি মেয়ে হাতে গ্লাস নিয়ে হাসছে\\n669.jpg দুটি মেয়ে রোদচশমা পরে দাঁড়িয়ে আছে এবং তাদের পিছনে বড় একটি গাছ\\n670.jpg রং দিয়ে বাচ্চাটি কিছু বানাচ্ছে\\n671.jpg বাদামী চুলের ছোট মেয়েটি ফুলের বাগানে দাঁড়িয়ে আছে \\n671.jpg সাদা ফুলে ভরে গেছে\\n672.jpg লোকটি স্কেটিং করছে \\n673.jpg একটি ছেলে ও মেয়ে চুমু খাচ্ছে \\n673.jpg একটি ছেলে ও মেয়ে দুজনের ঠোঁট ছুঁয়ে আছে\\n674.jpg মেঠোপথে একটি মেয়ে সাইকেল চালাচ্ছে \\n674.jpg নীল আকাশের নিচে সবুজ মাঠে একটি মেয়ে সাইকেল চালাচ্ছে\\n675.jpg সবুজ ঘাসের উপর একটি কুকুর উল্টো হয়ে শুয়ে আছে \\n676.jpg লোকটি ঘরের দেয়ালে হেলান দিয়ে দাঁড়িয়ে আছে \\n676.jpg টুপি পরা লোকটি পকেটে হাত ঢুকিয়ে উঁকি দিচ্ছে\\n677.jpg কপাল কুঁচকে মেয়েটি অন্য দিকে তাকিয়ে আছে \\n677.jpg কপাল কুঁচকে মেয়েটি অন্য দিকে তাকিয়ে আছে এবং তার পিছনে সবুজ মাঠে অনেক মানুষ দাঁড়িয়ে এবং\\n678.jpg সবুজ ঘাসে ঢাকা মাঠে একটি লোক কসরত দেখাচ্ছে \\n678.jpg সবুজ ঘাসে ঢাকা মাঠে একটি লোক কসরত দেখাচ্ছে এবং তার পাশে অনেক মানুষ দাঁড়িয়ে এবং বসে তাকে দেখছে\\n678.jpg মাথায় হেলমেট পরে সবুজ ঘাসে ঢাকা মাঠে একটি লোক কসরত দেখাচ্ছে\\n679.jpg সবুজ ঘাসে ঢাকা মাঠে কয়েকটি গাছ এবং দূরে একটি বাড়ি আছে\\n679.jpg সবুজ ঘাসে ঢাকা মাঠে একটি বাচ্চা ছেলে বল দিয়ে খেলছে \\n679.jpg সবুজ ঘাসে ঢাকা মাঠে একটি বাচ্চা ছেলে উপরের দিকে বল ছুড়ে মারছে\\n680.jpg দুটি বাচ্চা মেয়ে একটা কুকুরকে গোসল করাচ্ছে\\n680.jpg গাড়ির পাশে দাড়িয়ে দুটি বাচ্চা মেয়ে একটা কুকুরকে গোসল করাচ্ছে\\n681.jpg দুজন লোক কারাতে খেলছে \\n681.jpg দুজন লোক কারাতে খেলছে এবং পিছনে একজন লোক দাঁড়িয়ে আছে\\n682.jpg মেয়েটির হাতে একজন মানুষের ছবি \\n683.jpg ছেলেটা দোলনা থেকে লাফ দিচ্ছে \\n683.jpg হাফ প্যান্ট ও গেঞ্জি পরে ছেলেটা দোলনা থেকে লাফ দিচ্ছে\\n684.jpg রাস্তা দিয়ে একজন ও মহিলা পাশাপাশি হেঁটে যাচ্ছে \\n684.jpg সারি সারি গাছের মাঝ দিয়ে রাস্তায় একজন মহিলা ও লোক হেঁটে যাচ্ছে\\n685.jpg সুইমিংপুলের পানিতে একটি মেয়ে লাফিয়ে পরছে \\n685.jpg সুইমিংপুলের পাশে একটি ছেলে দাঁড়িয়ে আছে\\n689.jpg সবুজ মাঠে তিনটি কুকুর দৌড়াচ্ছে \\n689.jpg সবুজ ঘাসে ঢাকা মাঠের একপাশে গাছপালার সারি\\n690.jpg ফুটপাতের ওপর ছেলেটা স্কেটিং 691.jpg দুজন বৃদ্ধ মহিলা ও একটি ছোট বাচ্চা আইসক্রিম খাচ্ছে\\n691.jpg কাঠের ব্রিজের উপর দাড়িয়ে দুজন বৃদ্ধ মহিলা ও একটি ছোট বাচ্চা আইসক্রিম খাচ্ছে \\n691.jpg ফুলে ফুলে সাজানো কাঠের ব্রিজের উপর দাড়িয়ে দুজন বৃদ্ধ মহিলা ও একটি ছোট বাচ্চা আইসক্রিম খাচ্ছে\\n692.jpg ক্যাপ পরা লোকটি হাসছে\\n693.jpg মাথার উপর রোদচশমা রেখে মহিলাটি হাসছে\\n693.jpg মহিলাটি হাসছে এবং তার পিছনে কিছু মানুষ দাঁড়িয়ে আছে\\n694.jpg দুজন মানুষ কুস্তি লড়ছে\\n695.jpg গলায় অনেকগুলো পুতির মালা ও হাতে ফুলের মালা পরে আছে লোকটি\\n695.jpg লোকটি গলায় অনেকগুলো পুতির ও হাতে ফুলের মালা পরে লোহার পাইপ ধরে আছে\\n695.jpg গলায় অনেকগুলো পুতির ও হাতে ফুলের মালা পরে লোহার পাইপ ধরে লোকটি হাসছে\\n696.jpg ছেঁড়া গেঞ্জি পরে একটি ছেলে দাঁড়িয়ে আছে\\n697.jpg দুজন লোক দাঁড়িয়ে আছে\\n698.jpg কুকুরটি পানিতে সাঁতার কাটছে \\n698.jpg বাদামী রংয়ের কুকুরটি সমুদ্রের পানিতে সাঁতার কাটছে\\n699.jpg লোকটি ব্যাট উঁচু করে দাঁড়িয়ে আছে\\n700.jpg খালি গায়ে রোদচশমা পরে লোকটি নাচছে\\n701.jpg ঘৌড়দৌড়  প্রতিযোগিতা চলছে \\n701.jpg ঘোড়ার উপর কিছু মানুষ বসে প্রতিযোগিতা করছে\\n701.jpg বালির রাস্তায় ঘৌড়দৌড় প্রতিযোগিতা চলছে এবং পিছনে গাছপালা ও পাহাড় দেখা যাচ্ছে \\n701.jpg লোকগুলো ঘোড়ার উপর বসে ঘোড়া চালাচ্ছে\\n702.jpg ক্যাপ পরা মেয়েটি অন্য দিকে তাকিয়ে হাসছে\\n703.jpg মাঠের মধ্যে দুজন লোক লড়াই করছে \\n704.jpg একটি বাচ্চা ছেলে হাত উঁচু করে কিছু দেখাচ্ছে এবং তার পাশে বাচ্চা একটা মেয়ে তা দেখে হাসছে\\n704.jpg ফুটপাতের ওপর দুটি বাচ্চা দাঁড়িয়ে আছে \\n705.jpg একজন লোক অদ্ভুত সাজে সেজেছে \\n705.jpg লোকটা মাথায় ফুল দিয়ে সাজানো টুপি পরেছে\\n705.jpg লোকটার পিছনে একটি মেয়ে দাঁড়িয়ে আছে\\n706.jpg ছোট মেয়েটি গাছের পিছন থেকে উঁকি দিচ্ছে \\n706.jpg জঙ্গলের মধ্যে একটি ছোট মেয়ে গাছের পিছন থেকে উঁকি দিচ্ছে \\n706.jpg ছোট মেয়েটি গাছের পিছন থেকে উঁকি দিচ্ছে আর হাসছে\\n707.jpg অল্প পানিতে কুকুরটি হাঁটছে \\n707.jpg গলাবন্ধ বাধা সাদা কুকুরটা পানিতে হাটছে\\n708.jpg\\n709.jpg কুকুরটা গাছে উঠার চেষ্টা করছে \\n709.jpg দুটি ছোট বাচ্চা একটি গাছের পাশে দাড়িয়ে আছে \\n709.jpg ছোট ছেলেটি কুকুরের গলার রশি ধরে দাঁড়িয়ে আছে\\n710.jpg একটি বড় হাস তার বাচ্চাদের নিয়ে পাথরের উপর দাড়িয়ে আছে \\n710.jpg একটি হাস দাঁড়িয়ে আছে এবং ওটার পাশে ওর বাচ্চারা বসে আছে \\n710.jpg একটি হাস দাঁড়িয়ে আছে এবং ওটার পাশে ওর বাচ্চারা বসে আছে এবং ওদের পিছনে অনেক বড় বড় ঘাস\\n711.jpg সুইমিংপুলের নীল পানিতে একজন মানুষ সাঁতার কাটছে \\n711.jpg সুইমিংপুলের পানিতে রোদের আলো পরেছে\\n712.jpg একটি লোক গলায় মালা পরে নাচছে\\n713.jpg বাসের ভিতরের মানুষ গুলো হাত নাড়ছে\\n713.jpg রঙিন কাপড় দিয়ে বাস সাজানো হয়েছে \\n714.jpg বৃষ্টির মধ্যে ছোট ছেলেটি রাস্তায় হাটছে \\n714.jpg বৃষ্টির মধ্যে ছোট ছেলেটি গেঞ্জির মধ্যে কিছু নিয়ে রাস্তায় হাটছে \\n714.jpg বৃষ্টির মধ্যে ছেলেটি রাস্তায় হাটছে এবং তার পাশে খাম্বার সাথে একটি চিঠির বাক্স আটকানো\\n714.jpg বৃষ্টির মধ্যে ছোট ছেলেটি রাস্তায় হাটছে এবং তার পাশে একটি বড় গেইট \\n715.jpg লোকটি অদ্ভুত সাজে সেজেছে \\n716.jpg ছেলেটা গলায় ফুলের মালা পরেছে\\n716.jpg খালি গায়ে ছেলেটা গলায় ফুলের মালা পরে পতাকা হাতে ধরে আছে \\n716.jpg ছেলেটা গলায় ফুলের মালা পরে পতাকা হাতে রাস্তায় হাটছে এবং তার পিছনে অনেক মানুষও হাটছে\\n717.jpg লোকটি খালি গায়ে দাঁড়িয়ে আছে \\n718.jpg মানুষটির পিঠে এবং কোমরে ট্যাটু আঁকা\\n719.jpg পানির পাইপ দিয়ে কুকুরটির মুখে পানি দেয়া হচ্ছে \\n719.jpg পানির স্রোতে কুকুটি ছিটকে পরছে\\n719.jpg দেয়ালের পাশে পানির পাইপ দিয়ে কুকুরটির মুখে পানি দেয়া হচ্ছে \\n720.jpg টেবিলের দুই প্রান্তে দুটি চেয়ারে দুজন মানুষ বসে আছে \\n720.jpg টেবিলের উপর দুটি মগ ও একটি পিরিচ রাখা \\n720.jpg টেবিলের দুই প্রান্তে দুটি চেয়ারে দুজন বৃদ্ধ মানুষ বসে আছে\\n720.jpg  বৃদ্ধা মহিলার পায়ের কাছে একটা ব্যাগ রাখা\\n721.jpg বাচ্চা ছেলেটা লাফ দিচ্ছে \\n721.jpg স্লিপার থেকে লাফ দিয়ে বাচ্চা ছেলেটা মাটিতে নামছে\\n722.jpg মেয়েটি নাচছে\\n722.jpg মেয়েটি চোখে রোদচশমা পরে দাঁত বের করে হাসছে \\n722.jpg মেয়েটি চোখে রোদচশমা পরে দাঁত বের করে হাসছে এবং হা উঁচু করে নাচছে\\n723.jpg লোকটি পুলিশের পোশাক পরে হাসছে \\n723.jpg টুপি পরা লোকটি হাত উঁচু করে রেখেছে \\n723.jpg  টুপি পরা লোকটি এক হাত উঁচু করে রেখেছে এবং তার অন্য হাত দিয়ে ব্যানার ধরে আছে\\n724.jpg রাস্তায় কিছু মানুষ সঙ সেজে হাঁটছে \\n724.jpg বিল্ডিংয়ের পাশের রাস্তায় কিছু মানুষ সঙ সেজে হাঁটছে এবং তাদের পাশে জড়ো হওয়া মানুষ গুলো দাড়িয়ে তাদের ছবি তুলছে \\n724.jpg রঙিন আলখাল্লা পরে কিছু মানুষ রাস্তায় হাটছে\\n725.jpg মহিলাটি পানির নিচে ডুব দিয়ে আছে \\n725.jpg ছোট চুলের মহিলাটি পানির মধ্যে মাথা ডুবিয়ে রেখেছে \\n725.jpg ছোট চুলের মহিলাটি পানির মধ্যে মাথা ডুবিয়ে রেখেছে এবং তার মুখ থেকে বুদবুদ তৈরি হচ্ছে\\n726.jpg দুজন লোক হাসছে\\n727.jpg একজন লোক দুই আঙুল উঁচু করে সাফল্যের প্রতিক দেখাচ্ছে \\n727.jpg মাথায় কাপড় পেচিয়ে,চোখে রোদচশমা পরে লোকটি হাত উঁচু করে রেখেছে \\n727.jpg মাথায় কাপড় পেচিয়ে,চোখে রোদচশমা পরে লোকটি হাত উঁচু করে রেখেছে এবং তার পিছনে মানুষ ব্যানার,ফেস্টুন নিয়ে যাচ্ছে\\n728.jpg অনেক লম্বা একটি মেয়ে দাঁড়িয়ে আছে এবং তার পাশে দুজন মানুষ চেয়ারে বসে আছে \\n729.jpg পানির ফোয়ারা থেকে পানি উঠছে\\n729.jpg পানির ফোয়ারা থেকে পানি উঠছে এবং একটি লোক লাফ দিচ্ছে \\n730.jpg সুইমিংপুলের পানিতে একজন লোক লাফ দিচ্ছে \\n730.jpg বিল্ডিংয়ের সামনে বানানো সুইমিংপুলের নীল পানিতে একজন লোক লাফ দিচ্ছে \\n731.jpg একটি মেয়ে দৌড়াচ্ছে \\n731.jpg বড় ঘাসের মাঝে বালির উপর দিয়ে একটি মেয়ে দৌড়াচ্ছে \\n731.jpg বালির উপর মেয়েটির ছায়া পরেছে\\n732.jpg নীল আকাশ সাদা মেঘে ঢেকে গেছে \\n732.jpg পাহাড়ের উপর একটি মেয়ে দাঁড়িয়ে আছে \\n732.jpg ছোট গেঞ্জি ও হাফ প্যান্ট পরে মেয়েটি পাথুরে পাহাড়ের উপর দাড়িয়ে আছে\\n733.jpg লোকটি বসে আছে \\n734.jpg পানির বোতল হাতে নিয়ে মেয়েটি দৌড়াচ্ছে \\n735.jpg ছেলেটা সাইকেল নিয়ে মাটি থেকে অনেক উপরে উঠে গেছে \\n735.jpg ছেলেটি জঙ্গলের পাশে সাইকেল নিয়ে মাটির ঢিবি থেকে অনেক উপরে উঠে গেছে \\n735.jpg হেলমেট পরা ছেলেটা সাইকেল নিয়ে মাটি থেকে অনেক উপরে উঠে গেছে\\n736.jpg একজন মানুষ পানিতে লাফ দিচ্ছে \\n736.jpg সাদা মেঘে ঢাকা আকাশের নিচে একজন মানুষ পানিতে লাফ দিচ্ছে \\n736.jpg কাঠের ব্রিজের উপর থেকে একজন মানুষ পানিতে লাফ দিচ্ছে\\n737.jpg দুজন মহিলা পাশাপাশি দাড়িয়ে আছে \\n738.jpg দুজন মানুষ পাহাড়ে উঠছে\\n739.jpg\\n740.jpg বাচ্চারা ডিগবাজি দিচ্ছে \\n740.jpg একটি ঘরের ভিতরে কয়েকটি বাচ্চা খেলছে\\n740.jpg ঘরের একপাশে চেয়ার স্তুপ করে রাখা আছে\\n741.jpg ছেলেটা ব্রিজের উপর স্কেটিং করছে \\n741.jpg ছেলেটা ব্রিজের উপর স্কেটিং করছে এবং তার পিছনে কিছু মানুষ হেঁটে যাচ্ছে \\n741.jpg রেলিং ঘেরা ব্রিজের উপর ছেলেটা স্কেটিং করছে\\n742.jpg সাইকেল প্রতিযোগিতায় দুজন প্রতিযোগী সাইকেল চালাচ্ছে \\n742.jpg হেলমেট পরে উঁচু নিচু রাস্তায় সাইকেল চালাচ্ছে দুজন লোক\\n743.jpg সবুজ ঘাসে ঢাকা মাঠে ক্রিকেট খেলা চলছে \\n743.jpg একজন লোক ব্যাটিং করছে এবং অন্য জন বলটা ক্যাচ ধরছে\\n744.jpg পাহাড়ের উপর লাল ধোঁয়া \\n745.jpg\\n746.jpg\\n747.jpg খালি গায়ে একজন লোক কসরত দেখাচ্ছে \\n747.jpg খালি গায়ে একজন লোক কসরত দেখাচ্ছে এবং অন্যরা তাকে দেখছে \\n747.jpg স্কেটিং বোর্ড নিয়ে লোকটি খেলা দেখাচ্ছে\\n748.jpg অনেকগুলো মানুষ দাঁড়িয়ে এবং বসে আছে \\n749.jpg সবুজ ঘাসে ঢাকা মাঠে কুকুরটা দৌড়াচ্ছে \\n749.jpg কাটাতারের বেড়ার পাশে কুকুরটা দৌড়াচ্ছে\\n750.jpg একজন লোক ও একটি ছোট ছেলে কথা বলছে \\n750.jpg টেবিলের উপর বসে একজন লোক ও একটি ছোট ছেলে কথা বলছে\\n751.jpg লোকটি সাইকেল চালাচ্ছে \\n751.jpg হেলমেট পরে লোকটি সাইকেল চালাচ্ছে\\n752.jpg সমুদ্রের তীরে কিছু মানুষ হাটছে \\n752.jpg ছোট বাচ্চাটিকে গাড়িতে বসিয়ে লোকটি সেটা ঠেলে নিয়ে যাচ্ছে \\n752.jpg ছোট বাচ্চাটিকে গাড়িতে বসিয়ে লোকটি সেটা ঠেলে নিয়ে যাচ্ছে এবং তাদের সামনে একটি মেয়ে হেঁটে যাচ্ছে\\n753.jpg স্কেটিং বোর্ড নিয়ে লোকটি অনেক উপরে উঠে গেছে\\n753.jpg হেলমেট পরা লোকটি স্কেটিং করছে \\n754.jpg গাড়ির ভিতর থেকে ধোঁয়া বের হচ্ছে \\n754.jpg গাড়িটা অনেক দ্রুত চলছিলো\\n755.jpg সুইমিংপুলের নীল পানিতে একজন লোক সাঁতার কাটছে \\n755.jpg চোখে চশমা ও মাথায় কাপড় পেচিয়ে সুইমিংপুলের নীল পানিতে একজন লোক সাঁতার কাটছে \\n755.jpg সুইমিংপুলের নীল পানিতে একজন লোক খালি গায়ে সাঁতার কাটছে\\n756.jpg সবুজ ঘাসে ঢাকা মাঠে তিনটি কুকুর দৌড়াচ্ছে \\n756.jpg সবুজ ঘাসে ঢাকা মাঠে মুখে ঠুলি বাঁধা তিনটি কুকুর দৌড়াচ্ছে \\n756.jpg সবুজ ঘাসে ঢাকা মাঠে তিনটি কালো কুকুর পাশাপাশি দৌড়াচ্ছে\\n757.jpg লোকটা সাইকেল চালাচ্ছে \\n757.jpg হেলমেট পরে লোকটি সাইকেল চালাচ্ছে \\n757.jpg উঁচু নিচু রাস্তায় একটি লোক  সাইকেল চালাচ্ছে\\n758.jpg ছেলেটা স্কেটিং করছে \\n759.jpg সবুজ ঘাসে ঢাকা মাঠে একটি লোক ও একটি কুকুর দাড়িয়ে আছে \\n759.jpg সবুজ ঘাসে ঢাকা মাঠে একটি লোক ও একটি কুকুর দাড়িয়ে আছে এবং তাদের পিছনে একটি বাড়ি ও কিছু গাছ\\n759.jpg সবুজ ঘাসে ঢাকা মাঠে একটি লোক একটি কুকুরকে কিছু শেখাচ্ছে\\n760.jpg দুটি মেয়ে বেঞ্চে বসে আছে \\n760.jpg সবুজ ঘাসে ঢাকা মাঠের উপর একটি বেঞ্চে দুটি মেয়ে বসে আছে\\n760.jpg দুটি মেয়ে বেঞ্চে বসে আছে এবং তাদের পিছনে বড় বড় ঘাস\\n761.jpg পাথরের পাহাড় বেয়ে লোকটি উপরে উঠছে \\n761.jpg পাহাড়ের নিচে পানি \\n761.jpg খালি গায়ে লোকটি কোনো রশি ছাড়াই পাথরের পাহাড়ে উঠছে\\n762.jpg দুটি কুকুর পানির উপর দাঁড়িয়ে একে অন্যের দিকে তাকিয়ে আছে \\n762.jpg নীল আকাশে সাদা মেঘ ও দূরে ঘন গাছপালা\\n762.jpg পানি ছিটকে কুকুরটি সামনে এগিয়ে যাচ্ছে\\n763.jpg সবুজ মাঠে তিনটি বাচ্চা বল খেলছে\\n763.jpg মাঠে বাচ্চারা বল খেলছে এবং তাদের পাশের রাস্তায় দুটি গাড়ি রাখা \\n763.jpg মাঠে বাচ্চারা বল খেলছে এবং ওখানে একটি পতাকা উড়ছে\\n764.jpg একজন লোক দুটি কুকুরছানা হাতের উপর ধরে রেখেছে\\n765.jpg একটি মহিলা ও একটি ছোট ছেলে নাচছে\\n765.jpg একটি মহিলা ও একটি ছোট ছেলে নাচছে এবং অন্যরা তা দেখছে\\n765.jpg ঘরের ভিতরে একটি মহিলা ও একটি ছোট ছেলে নাচছে\\n766.jpg পাথরের উপর দিয়ে একটি ছেলে সাইকেল চালাচ্ছে \\n766.jpg হেলমেট পরে লোকটি পাথরের উপর দিয়ে সাইকেল চালাচ্ছে \\n766.jpg পাথরের উপর দিয়ে একটি ছেলে সাইকেল চালাচ্ছে এবং তার একটু দূরে পিছনে বসে আরেকটি ছেলে ক্যামেরা হাতে নিয়ে বসে আছে \\n766.jpg পাথরের পাহাড়ের  উপর দিয়ে একটি ছেলে সাইকেল চালাচ্ছে\\n767.jpg সিড়িতে পাঁচজন মানুষ বসে আছে \\n767.jpg ছোট গাছপালার মাঝ দিয়ে তৈরি সিড়িতে কয়েকজন মানুষ একসাথে বসে আছে\\n768.jpg ছোট বাচ্চাটি বল হাতে দাড়িয়ে আছে \\n768.jpg রেলিঙের কিছুটা দূরে একটি বাচ্চা ছেলে বল হাতে নিয়ে দাঁড়িয়ে আছে\\n769.jpg সবুজ ঘাসে ঢাকা মাঠে একটি ছেলে ব্যাট দিয়ে বল মারছে\\n769.jpg সবুজ ঘাসে ঢাকা মাঠে একটি ছেলে ব্যাট দিয়ে বল মারছে এবং দূরে কিছু মানুষ হাঁটছে\\n770.jpg রাস্তায় একটি বড় কুকুর বসে আছে এবং তার পাশে একটি ছোট কুকুর দাঁড়িয়ে আছে \\n770.jpg রাস্তায় ছোট কুকুরটি কিছু কামড়াচ্ছে \\n770.jpg গলায় বেল্ট বাধা বড় কুকুরটি রাস্তায় বসে আছে\\n771.jpg সমুদ্রের তীরে পানির উপর কুকুরটি হাঁটছে \\n771.jpg পানির উপর সূর্যের আলো পড়ে চিকচিক করছে\\n771.jpg কুকুরটি হাঁটু পানিতে নেমে গেছে\\n772.jpg বাতির নিচে ছেলেটা হাত,পা দুপাশে ছড়িয়ে দিয়ে লাফ দিয়েছে\\n773.jpg পাথরের উপর একটি লোক উল্টো ঘুরে বসে আছে \\n773.jpg ঝর্ণার সামনে একটি লোক বসে আছে \\n773.jpg ঝর্ণা থেকে পানি পরছে\\n774.jpg ব্যাগ কাঁধে নিয়ে একটি মেয়ে দাঁড়িয়ে আছে \\n774.jpg খাবারের পাশে দুজন মানুষ দাঁড়িয়ে আছে\\n775.jpg বালির উপর একটি ছেলে লাফ দিয়েছে \\n775.jpg হাফ প্যান্ট পরা একটি ছেলে বালির উপর বল নিয়ে লাফ দিচ্ছে\\n776.jpg বাচ্চা ছেলেটা হাতে কিছু নিয়ে হাঁটছে\\n777.jpg একটি লোক আরেকটি লোকের পিঠের উপর উঠে গিয়েছে \\n777.jpg টুপি,গেঞ্জি,প্যান্ট পরা একটি ছেলে আরেকটি ছেলের পিঠে উঠেছে\\n778.jpg সবুজ ঘাসের উপর একটি ছেলে আরেকটি ছেলের পিঠের উপর উঠে গিয়েছে \\n778.jpg বাড়ির সামনে ঘাসের উপর একটি ছেলে আরেকটি ছেলের পিঠের উপর উঠে গিয়েছে\\n779.jpg দুটি ছেলে খেলছে\\n779.jpg ঘাসের উপর দুটি লোক লাফ দিচ্ছে\\n780.jpg ছোট ছেলেটির গায়ের উপর বালি উঠে এসেছে \\n780.jpg ছোট বাচ্চা ছেলেটি চোখ বন্ধ করে মুখ হা করে রেখেছে\\n781.jpg রেলিঙের উপর একটি লোক স্কেটিং করছে \\n781.jpg একজন লোক স্কেটিং করছে এবং অন্যরা তা দেখছে\\n782.jpg কুস্তি খেলা হচ্ছে দুজন মানুষের মধ্যে \\n782.jpg একজন লোক আরেকজন লোকের উপর লাফ দিচ্ছে\\n783.jpg খেলোয়াড়েরা মাঠে খেলছে \\n783.jpg হকিস্টিক হাতে একজন খেলোয়াড়কে অন্য আরেকজন খেলোয়াড় ধাক্কা দিচ্ছে \\n783.jpg মাঠে তিনজন খেলোয়াড়কে দেখা যাচ্ছে\\n784.jpg বাচ্চাটি হাসছে\\n784.jpg বাচ্চাটি গোসল করছে \\n784.jpg বাচ্চাটি পানি ধরতে চাচ্ছে\\n785.jpg রাস্তা দিয়ে কিছু মানুষ হাঁটছে\\n785.jpg একটি ছেলে লাফ দিচ্ছে\\n786.jpg কুকুরটি পানিতে সাঁতার কাটছে \\n786.jpg কুকুরটি পানিতে লাফ দিচ্ছে \\n787.jpg পাহাড়ের উপর একটি কুকুর দাঁড়িয়ে আছে \\n787.jpg পাহাড়ের উপর সাদা কুকুরটি হাঁটছে \\n787.jpg পাহাড়ের উপর একটি কুকুর দাঁড়িয়ে আছে এবং দূরে নীল আকাশে  সাদা মেঘ দেখা যাচ্ছে\\n788.jpg বাচ্চা ছেলেটা স্কেটিং করছে \\n788.jpg মাথায় হেলমেট পরে বাচ্চা ছেলেটা স্কেটিং করছে\\n788.jpg পিচঢালা রাস্তায় বাচ্চা ছেলেটা স্কেটিং করছে\\n789.jpg একজন মানুষ মোটরসাইকেল চালাচ্ছে \\n789.jpg একজন মানুষ মোটরসাইকেল প্রতিযোগিতায় অংশগ্রহন করেছে\\n789.jpg পিচঢালা রাস্তায় হেলমেট পরে একজন লোক মোটরসাইকেল চালাচ্ছে\\n790.jpg সাইকেল নিয়ে একটি ছেলে সিঁড়িতে বসে আছে \\n790.jpg ভাঙা জিনিসপত্রের পাশে সিঁড়িতে একটি ছেলে বসে আছে\\n791.jpg মাথায় কাপড় পেচিয়ে কয়েকজন মহিলা বসে আছে \\n791.jpg বস্তা হাতে নিয়ে কয়েকজন মহিলা বসে আছে\\n792.jpg সমুদ্রের তীরে কুকুরটি দৌড়াচ্ছে \\n792.jpg কালো কুকুরটি পানিতে দৌড়াচ্ছে\\n793.jpg ছেলেটা স্কেটিং করছে \\n793.jpg সিড়ির উপর ছেলেটা স্কেটিং করছে\\n794.jpg সবুজ ঘাসের উপর কুকুটা হাঁটছে \\n794.jpg সাদা কুকুরটা জিহবা বের করে হাঁটছে\\n794.jpg সবুজ ঘাসে ছোট হলুদ ফুল ফুটেছে\\n795.jpg খেলোয়াড়েরা একসাথে মাঠে দাঁড়িয়ে আছে \\n795.jpg সবুজ মাঠে খেলোয়াড়েরা দাঁড়িয়ে আছে এবং তাদের পিছনে অনেক দর্শক\\n796.jpg কয়েকটি মহিলা ফুটপাতে দাঁড়িয়ে আছে \\n796.jpg একটি মেয়ে বিয়ের পোশাক পরে দাঁড়িয়ে আছে \\n796.jpg একটি মেয়ে বাচ্চা কোলে নিয়ে দাঁড়িয়ে আছে \\n796.jpg একটি মেয়েকে তার পাশের মহিলা আঙুল তাক করে কিছু দেখাচ্ছে \\n797.jpg টুপি পরা মহিলাটি বাচ্চা কোলে নিয়ে দাঁড়িয়ে আছে \\n797.jpg বাচ্চাটির মাথায় একটি ফুলের মালা রাখা হয়েছে \\n797.jpg টুপি পরা মহিলাটি বাচ্চা কোলে নিয়ে দাঁড়িয়ে আছে এবং তাদের পিছনে গাছের সবুজ পাতা দেখা যাচ্ছে\\n798.jpg অনেকগুলো বাচ্চা ছেলে মেয়ে একজায়গায় জড়ো হয়ে আছে\\n798.jpg কয়েকটি বাচ্চা গাছে উঠেছে এবং বাকিরা নিচে দাঁড়িয়ে আছে \\n798.jpg বাঁশের বেড়ার সামনে একটি গাছে কিছু বাচ্চা উঠেছে\\n799.jpg বরফে ঢাকা একটি ভাঙা বিল্ডিংয়ের উপর একটি লোক দাঁড়িয়ে আছে \\n799.jpg ভাঙা বিল্ডিংটির পিছনে গাছ দেখা যাচ্ছে \\n799.jpg তুষারপাতে ঢাকা একটি ভাঙা বাড়ি\\n800.jpg টুপি পরে একটি ছেলে বসে আছে \\n800.jpg টুপি পরে একটি ছেলে বসে আছে এবং তার পিছনে সাদা মেঘ\\n801.jpg সাইকেল নিয়ে ছেলেটি পরে যাচ্ছে \\n801.jpg কাদা মাটিতে ছেলেটা সাইকেল চালাচ্ছে\\n802.jpg ঘোড়দৌড় প্রতিযোগিতা চলছে \\n802.jpg সবুজ মাঠে কয়েকজন মানুষ ঘোড়া চালাচ্ছে\\n803.jpg দুটি মেয়ে দাঁড়িয়ে আছে \\n803.jpg একটি মেয়ে আরেকটি মেয়ের কাঁধে হাত দিয়ে দাড়িয়ে আছে \\n803.jpg একটি মেয়ে দেয়ালে হাত দিয়ে দাড়িয়ে আছে\\n804.jpg দুজনের মধ্যে ঘোড়দৌড় প্রতিযোগিতা চলছে \\n804.jpg দুজন লোক ঘোড়ার পিঠে উঠে ঘোড়া চালাচ্ছে\\n805.jpg ছেলেটা সাইকেল চালাচ্ছে \\n805.jpg পাহাড়ি রাস্তায় ছেলেটা সাইকেল চালাচ্ছে \\n805.jpg হেলমেট পরে একটি ছেলে সাইকেল চালাচ্ছে\\n806.jpg লাঠি নিয়ে তিনজন মানুষ দাঁড়িয়ে আছে \\n806.jpg দুটি মহিলা ও একটি লোক দাঁড়িয়ে হাসছে\\n806.jpg বিছানো খড়ের উপর দাঁড়িয়ে আছে তিনজন মানুষ\\n807.jpg একটি ছেলে ও মেয়ে একে অপরকে জড়িয়ে ধরে আছে \\n807.jpg রঙিন চুলের মেয়েটি হাসছে\\n808.jpg সবুজ মাঠে তাবু টানানো হয়েছে \\n808.jpg কুকুরটি লোকটির পায়ের উপর উঠে যাচ্ছে \\n808.jpg মাঠে অনেক মানুষ তাদের কুকুর নিয়ে জড়ো হয়েছে\\n809.jpg সারি সারি টেবিলে মানুষ বসে আছে \\n809.jpg একটি মেয়ে কুকুর নিয়ে একটি টেবিলে বসে আছে \\n809.jpg ফুটপাতে দুজন মানুষ হাঁটছে\\n810.jpg ছোট ছেলেটি স্কেটিং করছে \\n810.jpg নীল আকাশে সাদা মেঘ\\n811.jpg কুকুরটি লাফ দিচ্ছে \\n811.jpg একজন মানুষের পাশে কুকুরটি লাফ দিচ্ছে\\n811.jpg সবুজ মাঠে কুকুরটি লাফ দিচ্ছে\\n812.jpg তিনজন মানুষ হাসছে\\n812.jpg বাদ্যযন্ত্র হাতে ধরে আছে লোকগুলো\\n812.jpg গান গাওয়ার প্রস্তুতি নিচ্ছে মানুষগুলো\\n813.jpg\\n814.jpg কুকুরটি বলটিকে কামড়ে ধরে আছে \\n814.jpg পানির উপর কুকুরটি বলটিকে কামড়ে ধরে আছে \\n814.jpg পানির উপর কুকুরটি বলটিকে কামড়ে ধরে লাফ দিচ্ছে\\n815.jpg কুকুরটা লাফ দিয়ে মাটি থেকে অনেক উপরে উঠে গেছে \\n815.jpg পাইপের উপর দিয়ে কুকুরটা লাফ দেয়ার চেষ্টা করছে\\n816.jpg একটি ছেলে স্কেটিং করছে \\n816.jpg একটি ছেলে স্কেটিং করছে এবং তার পিছনে আরেকটা ছেলে ক্যামেরা দিয়ে তার ছবি তুলছে \\n816.jpg খালি গায়ে শুধু প্যান্ট পরা একটি ছেলে স্কেটিং করছে\\n817.jpg দুটি বাচ্চা একে অপরকে জড়িয়ে ধরে আছে \\n817.jpg সাঁতারের পোশাক পরে দুটি বাচ্চা একে অপরকে জড়িয়ে ধরে আছে\\n818.jpg একজন লোক মোটরসাইকেল চালাচ্ছে এবং পিছনে অনেক মাটি উঠছে \\n818.jpg মাটির রাস্তায় একজন লোক মোটরসাইকেল চালাচ্ছে \\n818.jpg হেলমেট পরে একজন লোক মোটরসাইকেল চালাচ্ছে\\n819.jpg একজন লোক স্কেটিং করছে এবং অন্যরা তা দেখছে\\n819.jpg রাতের বেলায় একজন লোক স্কেটিং করছে\\n820.jpg উঁচু নিচু মাটির রাস্তায় একজন লোক সাইকেল চালাচ্ছে \\n820.jpg সাইকেল নিয়ে ছেলেটি উপরে লাফ দিয়েছে\\n821.jpg একজন মানুষ ঘোড়ার উপর উঠে বসে আছে \\n821.jpg বাঁশের উপর দিয়ে ঘোড়াটি লাফ দিচ্ছে\\n822.jpg বরফের উপর লোকটা দাঁড়িয়ে আছে \\n822.jpg বড় পাহাড়ের উপর বরফ পরেছে\\n822.jpg বরফের উপর গাছ জন্মেছে\\n823.jpg সূর্য অস্ত যাচ্ছে এবং চারপাশের আকাশটা তাই লাল রঙ ধারণ করেছে\\n823.jpg পানির উপর পালতোলা ছোট একটি নৌকা চলছে \\n823.jpg একজন মানুষ পিছন ঘুরে দাঁড়িয়ে সূর্যাস্ত দেখছে\\n824.jpg বাচ্চাটি পানি দিয়ে খেলছে \\n824.jpg বলের পানিতে একটি বাচ্চা বসে আছে \\n824.jpg বাচ্চাটি পানি ছিটাচ্ছে এবং হাসছে\\n825.jpg সুইমিংপুলের পানিতে নেট লাগিয়ে দুজন মানুষ বল নিয়ে খেলছে\\n826.jpg বেঞ্চে বসে মেয়েটি আইসক্রিম খাচ্ছে \\n826.jpg সাইকেল পাশে রেখে টুপি পরে মেয়েটি আইসক্রিম খাচ্ছে\\n827.jpg ছেলেটা স্কেটিং করছে \\n827.jpg ছেলেটা স্কেটিং বোর্ডটাকে হাতে ধরেছে\\n828.jpg কুকুরটি টেনিস বলটাকে মুখের ভিতরে ঢুকিয়ে রেখেছে \\n828.jpg কুকুরটা চোখ বন্ধ করে বলটাকে কামড়ে ধরে আছে\\n829.jpg সবুজ ঘাসে ঢাকা মাঠে একটি কুকুর দৌড়াচ্ছে \\n829.jpg সাদা কুকুরটার গলায় বেল্ট বাঁধা\\n830.jpg বাচ্চাটি সমুদ্রের তীরে বালির উপর হাটছে\\n831.jpg কুকুরটি খুব উদগ্রীব হয়ে কি যেন দেখছে\\n832.jpg পানিতে সাতার কেটে কুকুরটি মুখে গাছের ছোট ডাল নিয়ে  আসছে\\n833.jpg উত্তাল সমুদ্রের বিশাল বিশাল ঢেউয়ের সাথে ভেসে বেড়াচ্ছে লোকটি\\n834.jpg অনেকগুলো মেয়ে একই পোশাক পরে একই রকম সেজে নাচ পরিবেশন করছে এবং তাদের মাঝে একটি লোক দাড়িয়ে আছে যার ছবি তুলে দিচ্ছে অন্য আরেকটি লোক\\n835.jpg ছেলেটি স্কেটিং করছে\\n836.jpg লোকটি  পানির অনেকটা উপর রশির সাহায্যে উঠে আছে\\n837.jpg কুকুর দুটি সবুজ ঘাসের উপর এক সাথে খেলছে\\n838.jpg কুকুরটি একটি রঙিন বাঁশের উপর দিয়ে লাফিয়ে যাচ্ছে \\n839.jpg কুকুরগুলো পানিতে ভিজছে\\n840.jpg বাস্কেটবল হাতে নিয়ে কোর্টের সামনেই  দাঁড়িয়ে আছে এক যুবক\\n841.jpg মাঠে ক্রিকেট খেলা হচ্ছে\\n842.jpg একটি কুকুর মুখে জিনিস কামড়ে ধরেছে আর অন্য একটি কুকুর পিছু নিয়েছে \\n843.jpg ছোট একটা বাচ্চা মেয়ে হাসছে\\n844.jpg মেয়ে দুটি এক সাথে বসে  সবুজ বোতল থেকে পানীয় পান করছে\\n845.jpg একটি কুকুর আরেকটি কুকুরের উপর লাফিয়ে পরছে \\n846.jpg তিনজন মহিলা ও একজন পুরুষ মিলে মাইকের সামনে গিটার বাজিয়ে গান গাইছে\\n847.jpg রাস্তায়  ব্যস্ত কিছু মানুষ হাটছে\\n848.jpg মহিলাটি সমুদ্রে সার্ফিং করছে\\n849.jpg বাচ্চাটি খেলনা ধরে দাড়িয়ে আছে\\n850.jpg দুইজন পুলিশ মিলে একজনকে তাড়া করছে\\n851.jpg মহিলাটি মাইকের সামনে দাড়িয়ে অন্য দিকে তাকিয়ে হাসছে\\n852.jpg কয়েকজন মানুষ একসাথে গান গাইছে\\n853.jpg কুকুরটি ঘাসের উপর লাফ দিচ্ছে\\n854.jpg প্রতিযোগি লোকটি একটি মূর্তি ধরে আছে\\n855.jpg পড়ন্ত বিকেলে ছেলেটি স্কেট বোর্ড নিয়ে লাফ দিচ্ছে \\n856.jpg কুকুরটি দড়ি কামড়ে ধরে টানছে\\n857.jpg টুপি ও হ্যাট পরা অনেকগুলো মানুষ\\n858.jpg লোকটি গান গাচ্ছেন \\n859.jpg কুকুরগুলো দৌড়ে সমুদের পানিতে নামছে\\n860.jpg সূযাস্তের সময় সমুদ্রের পাড়ে মহিলাটি ব্যায়াম করছে\\n861.jpg তিনটি বাচ্চা দোলনায় দোল খাচ্ছে এবং পিছনে একটি বাচ্চা ঘাসের উপর বসে আছে\\n862.jpg ঘাসের মধ্যে দুটি কুকুর মুখে একএি কাঠ কামড়ে দাড়িয়ে আছে\\n863.jpg দুটি খেলোয়াড় খেলছে এবং পিছনে রেফারি আছে\\n864.jpg কিছু মানুষ লোহার চিকন স্কেল নিয়ে একসাথে কাজ করছে\\n865.jpg ছোট মেয়েটি স্ট্যান্ডের উপর রাখা একটি গলফ বলকে মারার জন্য ব্যাট হাতে ধরে আছে\\n866.jpg দুজন মানুষ বাসে বসে আছে\\n867.jpg সমুদ্রের বুকে সার্ফিং করছে এক তরুণ \\n868.jpg মহিলাগুলো মেঝেতে বসে আছে\\n869.jpg উঁচু নিচু রাস্তার উপর বাইক চালাচ্ছে দুজন \\n870.jpg রশির সাহায্যে বিল্ডিংয়ের উপর থেকে লাফ দিচ্ছে একটি লোক\\n871.jpg লম্বা হাতলের বেলচা দিয়ে লোকগুলো লবণ জড়ো করছে\\n872.jpg দুটি দলে বিভক্ত হয়ে খেলোয়াড় গুলো খেলা শুরুর জন্য অপেক্ষা করছে\\n873.jpg কুকুরটি গেন্জি পরে ঘুমাচ্ছে\\n874.jpg বৃদ্ধ লোকটি  বসে আছে\\n875.jpg ব্যস্ত শহরে দুইটি মেয়ে হাটছে\\n876.jpg পাহাড়ী রাস্তায় সাইকেল চালিয়ে যাচ্ছে এক যুবক\\n877.jpg সাইকেল নিয়ে পরে যাচ্ছে একটি লোক\\n878.jpg ঘাসের উপর একটি কুকুর বসে আছে\\n879.jpg রাস্তায় ব্যাগ কাধে নিশে দাড়িয়ে ডিএসএলআর ক্যামেরা দিয়ে  একটি মেয়ে ছবি তুলছে\\n880.jpg তিনটি বাচ্চা মুখে আলপনা একে দাড়িয়ে আছে\\n881.jpg ছোট বাচ্চাটি রঙ করছে\\n882.jpg সাইকেল উপরে তুলে ছেলেটা খেলা দেখাচ্ছে \\n883.jpg তিনজন মহিলা মিলে এক সাথে নাচছে\\n884.jpg চারটি ছোট ছেলে হাটু গেড়ে বসে আছে এবং একটি ছেলে ফুটবল ধরে আছে\\n885.jpg তিনজন ছেলে হকি খেলছে\\n886.jpg স্কেট জাম্প দিচ্ছে ছেলেটি\\n887.jpg ছেলেটি ফুটবল খেলছে\\n888.jpg মেয়েটি হাত পা ছুড়ে লাফ দিচ্ছে \\n889.jpg মহিলাটি সাতার কাটছে\\n890.jpg দুটি ছেলে ভিন্ন ভঙ্গিমায়\\n891.jpg রাস্তায় একটি লোকের পিছনে দুটি বাচ্চা হেটে যাচ্ছে\\n892.jpg খেলোয়াড় দুজন মাঠে দৌড়াচ্ছে \\n893.jpg বাচ্চাগুলা এক সাথে মাঠে খেলছে\\n894.jpg মেয়েটি ঘোড়া দুটির দিকে তাকিয়ে আছে \\n895.jpg ছেলেটি স্কেট বোর্ড নিয়ে খেলছে\\n896.jpg কয়েকজন মিলে রাস্তায় সবাইকে খাবার বিতরণ করছে\\n897.jpg ছেলেটি দড়ির উপর দিয়ে লাফ দিচ্ছে\\n898.jpg বিশাল সাগরে একটি মেয়ে পানির ঢেউয়ে ডুবে যাচ্ছে \\n899.jpg পানির মধ্য দিয়ে কুকুরটি হেটে আসছে এবং আরেকটি কুকুর তা দেখছে\\n900.jpg পাহাড়ের উপরে লোকটি বড় তাঁবুটিকে হাত দিয়ে উঠিয়েছে\\n1000.jpg লক্ষ জয়ের আনন্দে ভ্রমনকারী\\n999.jpg শিশুর আনন্দ তার খেলাধুলায়। \\n989.jpg প্রাণীর ভালোবাসা\\n988.jpg মেয়রটি দুল খাচ্ছে\\n987.jpg পানির মধ্যেই প্রানের আলোরণ\\n986.jpg সৈকতে হাসিখুশি শিশু\\n985.jpg পাড়ের পাখির জীবিকা পানিকেন্দ্রিক\\n984.jpg সুন্দর কুকুরছানাদের পরিচ্ছন্নতা চলছে\\n983.jpg ফুটপাথে মানুষ হাটছে\\n982.jpg সুইমিংপুলে ঝাপ দিচ্ছে কুকুরটি\\n981.jpg কুকুরকে ট্রেনিং দিচ্ছে মহিলাটি\\n980.jpg সমুদ্রের পানিতে খেলছে কুকুর দুটি\\n979.jpg সংস্কৃতির চলধারায় সাইকেল চালাচ্ছে মেয়েটি\\n978.jpg সৈকতের বালুতে ভলিবল খেলা\\n977.jpg ফুলের অবণ্যে দৌড় দিচ্ছে কুকুরটি\\n976.jpg সৈকতের বিশালতায় দৌড় প্রতিযোগিতায় মত্য কুকুর দুটি\\n975.jpg লাফ দিচ্ছে ঘোড়া, পিঠে তার মুনিব\\n974.jpg ফুটওভার দিয়ে হেটে যাচ্ছে কিছু মানুষ\\n973.jpg বালিকাটির জন্মদিন পালন করছে দুটি মেয়ে ও তার মা\\n972.jpg স্কেডিং করছে ছেলেটি তা দেখে অবাক দর্শক\\n971.jpg সামনের ছেলেটি জুস হাতে আর পেছনের জন কৌতুহলি তাকিয়ে\\n970.jpg অগ্নিকান্ড নিবারনে ফায়ার সার্ভিসের গাড়ী\\n969.jpg নদীতে ঝাপ দিচ্ছে ছেলেটি\\n968.jpg হাততালি দিচ্ছে বাচ্চাটি\\n967.jpg নিজেকে প্রস্তুত করতে চলছে মেকআপ, সাহায্য করছে শিশুটি\\n966.jpg কুকুরের দুষ্টামি\\n965.jpg প্রাকৃতিক সৌন্দর্য উপোভোগ করছে একজন নারী ও একজন পুরুষ\\n964.jpg পা ছরিয়ে বসে আছে মেয়েটি পায়ে বুট। \\n963.jpg সৈকতে দৌড়াচ্ছে কুকুর, পিছনে ক্যামেরা হাতে লোকটি\\n962.jpg পুরুষ ও মহিলা ক্রপস দাড়িয়ে\\n961.jpg বালিতে লাফাচ্ছে দিচ্ছে কুকুরটি\\n960.jpg সাইকেল চালাচ্ছে লেকটি\\n959.jpg দেয়ালের ওপারে দেখার চেষ্টায় কুকুরটি\\n958.jpg সৈকতে হেঁটে যাচ্ছে কুকুরটি\\n957.jpg রাজকীয় সৈনিক\\n956.jpg বর টুপি পরে মেয়েটি মাথায় হাত দিয়ে বসে আছে\\n955.jpg হকি খেলছে দুইজন\\n954.jpg সৈকতে ফুটবল খেলছে দুজন বালক\\n953.jpg বাচ্চাটি ক্যামেরায় ছবি তুলছে\\n952.jpg পানিতে খেলেধূলা করছে কুকুরটি\\n950.jpg ছেলেটা স্কেটিং করছে \\n951.jpg দেয়ালের পাশের সিঁড়িতে ছেলেটা স্কেটিং করছে এবং অন্যরা তা দেখছে\\n946.jpg খেলতে গিয়ে একটি মেয়ে পড়ে যাচ্ছে আরেকজন বল ধরছে\\n945.jpg পাকার কোণা ঘেঁষে ছেলেটি স্কেট বোর্ড চালাচ্ছে\\n949.jpg মা তার বাচ্চাদের বিনোদনের জন্য পার্কে খেলাধূলা করাচ্ছে\\n948.jpg সবুজ ঘাসে কুকুরের খেলাধূলা\\n947.jpg অরণ্যে ঝড়াপাতা দিয়ে খেলছে বালকটি\\n946.jpg খেলতে গিয়ে একটি মেয়ে পড়ে যাচ্ছে আরেকজন বল ধরছে\\n945.jpg পাকার কোণা ঘেঁষে ছেলেটি স্কেট বোর্ড চালাচ্ছে\\n944.jpg আইসক্রিম খাচ্ছে বাচ্চারা সাথে মহিলা\\n943.jpg গ্রপ ছবি তুলছে কিছু নারী-পুরুষ\\n942.jpg অনেকগুল হুন্ডার উপর দিয়ে হুন্ডা নিয়ে লাফ দিচ্ছে ছেলেটি \\n941.jpg একতি কুকুর মাথা উঁচু করে দেখছে\\n940.jpg সাইকেলের রেসে লোকটি\\n939.jpg ছেলেটি উচুতে লাফ দিয়েছে স্কেট বোর্ড নিয়ে\\n938.jpg মেয়েটি লাফ দিয়েছে\\n937.jpg ছেলেমেয়ে খেলাধূলা করছে\\n936.jpg দর্শকরা বসে বসে কথা শুনছে\\n935.jpg মেয়েটি মাইকে কথা বলছে এবং ছেলেটি লিখছে\\n934.jpg টেবিলে একেকজন একেক কাজ করছে\\n933.jpg ঘাসের মধ্যে কুকুরটি তার বাচ্চার সাথে খেলছে\\n932.jpg ঝুল খাচ্ছে বাচ্চাটি\\n931.jpg সৈকত কুকুটি হেঁটে বেড়াচ্ছে\\n930.jpg একটি ক্রিকেট ম্যাচ\\n929.jpg রাস্তায় বসে আছে দুজন মহিলা\\n928.jpg পানিতে সার্ফিং\\n927.jpg অল্প পানিতে দৌড়াচ্ছে কুকুরটি\\n926.jpg লোকটি তার কুকুরদের নিয়ে রাস্তায় হাঁটছে\\n925.jpg ভিডিও গেমস্ খেলছে বালিকাটি\\n924.jpg লোকটির পাশে পোজ দিয়ে দাঁড়িয়ে চারজন মহিলা\\n923.jpg মাটির রাস্তায় সাইকেলিং\\n922.jpg মেয়েটি দোলনায় চরে হাত পা গুঁটিয়ে বালুর দিকে তাকিয়ে আছে \\n921.jpg একটি ছেলে স্কেট বোর্ড নিয়ে দাঁড়িয়ে আছে আরেকজন খেলছে\\n920.jpg ছেলেটি উঁচু জায়গা থেকে স্কেট বোর্ড দিয়ে নামছে\\n919.jpg পনিতে সার্ফিং করছে দুজন লোক\\n918.jpg ভিডিও ক্যামেরা হাতে মেয়েটি\\n917.jpg সাংস্কৃতিক শোভাযাত্রা\\n916.jpg যিশুর আরাধনা করার জন্য অনেক মানুষ জর হয়েছে\\n915.jpg সৈকতের পানিতে কুকুরটি\\n914.jpg আইসক্রিম খাচ্ছে দুটি বালক\\n913.jpg জলাশয়ের ধারে গীটার বাজাচ্ছে লোকটি\\n912.jpg দম্পতী সমুদ্রদর্শন করছে\\n911.jpg সুখী দম্পতী\\n910.jpg নবদম্পতীর সাথে কিছু মানুষ ছবি তুলছে\\n909.jpg শিশুটি খেলা করছে\\n908.jpg দুজন লোক ছবি তুলছে\\n907.jpg বলটিতে প্রতিবিম্ব দেখা যাচ্ছে, যা দেখতে মানুষের ভীড়\\n906.jpg ঝড়নার সামনে ছবি তুলছে মহিলা ও তার বাচ্চা\\n905.jpg কুকুরটি রিং এর মধ্য দিয়ে লাফ দিচ্ছে\\n904.jpg মেয়েটি স্কেট বোর্ড দিয়ে খেলছে\\n903.jpg সেজেগুজে, লাল জামা পড়ে হাসছে দুইজন মানুষ\\n902.jpg গলফ খেলার মাঠে একজন গলফ খেলছে আরেকজন হাত উঁচু করে দাঁড়িয়ে আছে\\n901.jpg সবুজে ঘেরা মাঠের মধ্যে দোলনায় ঝুলছে একজন ছোট ছেলে\\n\\n\\n1001.jpg দোকানের সামনে অনেক ভীড় \\n1001.jpg দোকানের সামনে মানুষ লাইন করে দাড়িয়ে আছে \\n1002.jpg ট্রেনের বগির আসনগুলোতে মানুষ বসে আছে \\n1002.jpg দুজন বয়স্ক পুরুষ ও মহিলা একটি ছোট ছেলেকে নিয়ে সেলফি তুলছে\\n1002.jpg ট্রেনের আসনে একজন লোকের কোলে আরেক জন বৃদ্ধ শুয়ে আছে\\n1003.jpg পানির ফিল্টারের উপর মোটরসাইকেলের একটি হেলমেট রাখা \\n1003.jpg পানির ফিল্টারের দুটি কলের নিচে দুটি মগ রাখা \\n1003.jpg ভ্যানের পাশে একটি পানির ফিল্টার রাখা \\n1003.jpg ভ্যানের সাথে একটি গামছা ঝুলছে\\n1004.jpg দোকানের হ্যাঙ্গারে অনেক কাপড় ঝুলানো আছে \\n1004.jpg দোকানের সামনে একজন বৃদ্ধ লোক দাঁড়িয়ে আছে \\n1004.jpg দোকানের সামনে একজন বৃদ্ধ লোক টুপি পরে দাঁড়িয়ে আছে যার দাড়ি পেকে সব সাদা হয়ে গেছে \\n1004.jpg দোকানের ভিতরে সাদা আলো জ্বলছে\\n1005.jpg ফুটপাতে মেয়েরা অনেক বড় একটি লাইন করে দাঁড়িয়ে আছে \\n1005.jpg সিড়ির একপাশে একটি মহিলা বসে আছে এবং অন্য পাশে আরেকটা মহিলা দাঁড়িয়ে আছে \\n1005.jpg ফুটপাতে মেয়েদের অনেক বড় একটি লাইন এবং তাদের পশের রাস্তায় বাস চলছে\\n1006.jpg চতুর্দিকের রাস্তা বন্ধ করে কিছু মানুষ রাস্তার মাঝে বসে আছে \\n1006.jpg কিছু মানুষ রাস্তার মাঝে বসে আছে এবং তাদের পিছনে একটি রিকশা রাখা যেটায় মাইক লাগানো আছে \\n1006.jpg রাস্তার একপাশে কিছু গাছ আছে\\n1007.jpg পিচঢালা রাস্তায় কিছু গাড়ি ও মোটরসাইকেল চালাচ্ছে মানুষ \\n1007.jpg শাড়ি পরে একটি মেয়ে স্কুটি চালাচ্ছে \\n1007.jpg শাড়ি পরে একটি মেয়ে স্কুটি চালাচ্ছে এবং তার পাশেই একজন লোক মোটরসাইকেল চালাচ্ছে \\n1007.jpg পিচঢালা রাস্তায় শাড়ি পরে একটি মেয়ে স্কুটি চালাচ্ছে এবং অপর প্রান্তের রাস্তায় থাকা একটি লোক তাকিয়ে দেখছে\\n1008.jpg গরুর হাটবাজার \\n1008.jpg গরুর হাটে গরু গুলোকে বেঁধে রাখা হয়েছে \\n1008.jpg গরুর হাটে গরু গুলোকে বেঁধে রাখা হয়েছে এবং ওগুলোর পাশে মানুষ হেঁটে যাচ্ছে \\n1008.jpg গরুর হাটে গরু গুলোকে বেঁধে রাখা হয়েছে এবং ওগুলোর কিছুটা দূরে মানুষ শুয়ে ঘুমাচ্ছে\\n1009.jpg ফাঁকা রাস্তায় যাত্রী নিয়ে একজন রিকশাচালক রিকশা নিয়ে যাচ্ছে এবং তাদের পাশে পাশে দুটি ছেলে দৌড়ে যাচ্ছে \\n1009.jpg রিকশায় মহিলাটি কোলে একটি বাচ্চা নিয়ে বসে আছে\\n1010.jpg শ্রেনীকক্ষে তিনটি বাচ্চা ছেলে কান ধরে বেঞ্চের উপর দাঁড়িয়ে আছে \\n1010.jpg শ্রেনীকক্ষে তিনটি বাচ্চা ছেলে কান ধরে বেঞ্চের উপর দাঁড়িয়ে আছে এবং অন্যরা বসে আছে \\n1010.jpg শ্রেণীকক্ষে একটি বাচ্চা ছেলে তার পাশের ছেলের খাতায় কিছু দেখছে\\n1010.jpg শ্রেণীকক্ষের সিলিং এ একটি ফ্যান চলছে এবং লাইট জ্বলছে\\n1011.jpg রাস্তায় পিচঢালায়ের কাজ চলছে \\n1011.jpg দুজন লোক একটা গাড়ি টানছে\\n1011.jpg তিনজন মানুষ রাস্তায় পিচ ছড়িয়ে দিচ্ছে \\n1011.jpg রাস্তার পাশে গাছপালা ও ঘরবাড়ি \\n1011.jpg রাস্তার পাশে দাঁড়িয়ে মানুষ পুচ ঢালায়ের কাজ দেখছে\\n1012.jpg বিকেলের নীল আকাশে সাদা মেঘ ও সূর্যের হলুদ আলোরশ্মি\\n1012.jpg পাতাশূণ্য গাছের ডালের ফাঁকে নীল আকাশ দেখা যাচ্ছে \\n1012.jpg মাথায় ঝুড়ি নিয়ে মানুষ গুলো হেঁটে যাচ্ছে\\n1013.jpg ডিঙি নৌকার উপর একজন লোক ও মহিলা বসে আছে \\n1013.jpg নদীতে ডিঙি নৌকার উপর একজন লোক বসে নৌকা চালাচ্ছে এবং তার সামনে একজন বৃদ্ধ মহিলা বসে আছে \\n1013.jpg ডিঙি নৌকার উপর একজন লোক ও মহিলা বসে আছে এবং নদীর অপর প্রান্তে অনেক গাছপালা রয়েছে \\n1013.jpg নদীতে ডিঙি নৌকার উপর একজন লোক বসে নৌকা চালাচ্ছে এবং তার সামনে একজন বৃদ্ধ মহিলা ব্যাগ নিয়ে বসে আছে\\n1014.jpg ছোট বাচ্চাটি মাটির একটা ঢাকনা নিয়ে বসে আছে \\n1014.jpg সারি সারি মাটির ঢাকনার পাশে ছোট বাচ্চাটি মাটির একটা ঢাকনা নিয়ে বসে আছে \\n1015.jpg নদীতে বড় বড় ট্রলার ও ডিঙি নৌকা চলছে \\n1015.jpg সূর্যাস্তের সময় নদীতে বড় বড় ট্রলার ও ডিঙি নৌকা চলছে\\n1016.jpg একটি ছেলে তার পিছনে আরেকটি ছোট ছেলেকে নিয়ে সাইকেল চালাচ্ছে \\n1016.jpg সূর্যাস্তের সময় যখন আকাশ এক প্রান্ত হলুদ আলোতে ভরে গেছে তখন একটি ছেলে তার পিছনে আরেকটি ছোট ছেলেকে নিয়ে সাইকেল চালাচ্ছে \\n1016.jpg একটি গাছের পাশ দিয়ে একটি ছেলে তার পিছনে আরেকটি ছোট ছেলেকে নিয়ে সাইকেল চালাচ্ছে \\n1017.jpg একটি লোক চাদর গায়ে দিয়ে হেঁটে যাচ্ছে \\n1017.jpg একটি লোক চাদর গায়ে দিয়ে হাতে ঝুড়ি ও কোদাল নিয়ে হেঁটে যাচ্ছে \\n1017.jpg শীতের সকালে একটি লোক চাদর গায়ে দিয়ে হাতে ঝুড়ি ও কোদাল নিয়ে হেঁটে যাচ্ছে\\n1018.jpg অনেকগুলো বাচ্চা সারি বেঁধে দাঁড়িয়ে হাসছে\\n1018.jpg অনেকগুলো বাচ্চা ছেলে সারি বেঁধে গাড়ির চাকা নিয়ে দাঁড়িয়ে আছে \\n1018.jpg ইটভাটার সামনে অনেকগুলো বাচ্চা ছেলে সারি বেঁধে গাড়ির চাকা নিয়ে দাঁড়িয়ে হাসছে\\n1019.jpg বাসের আসনে মানুষ বসে আছে \\n1020.jpg একটি লোক ঠেলা গাড়ি ভর্তি করে ইট নিয়ে যাচ্ছে \\n1020.jpg একটি লোক ঠেলা গাড়ি ভর্তি করে ইট নিয়ে গাড়িটিকে টানছে এবং পিছন থেকে আরেকজন ঠেলা দিচ্ছে \\n1020.jpg ধুলা ভরা জায়গায় একটি লোক ঠেলা গাড়ি ভর্তি করে ইট নিয়ে গাড়িটিকে টানছে এবং পিছন থেকে আরেকজন ঠেলা দিচ্ছে \\n1020.jpg গায়ে রঙ,ময়লা মাখানো মাথায় গামছা পেঁচানো একটি লোক ঠেলা গাড়ি ভর্তি করে ইট নিয়ে গাড়িটিকে টানছে এবং পিছন থেকে আরেকজন ঠেলা দিচ্ছে\\n1021.jpg রেললাইন দিয়ে রেলগাড়ী চলছে \\n1021.jpg জঙ্গলের মাঝে রেললাইন দিয়ে রেলগাড়ী চলছে\\n1022.jpg একজন বৃদ্ধ লোক মেশিনের ভিতর আখ ঢোকাচ্ছে \\n1022.jpg কলাগাছের নিচে বসে একজন বৃদ্ধ লোক মেশিনের ভিতর আখ ঢোকাচ্ছে\\n1023.jpg গাছের পাশে মোটরসাইকেলে করে দুজন লোক যাচ্ছে \\n1023.jpg সূর্যাস্তের পর গাছের পাশে মোটরসাইকেলে করে দুজন লোক যাচ্ছে \\n1023.jpg নীল আকাশের নিচে গাছের পাশে মোটরসাইকেলে করে দুজন লোক যাচ্ছে\\n1024.jpg সবুজ ধানক্ষেতের মাঝে বৃদ্ধ লোকটি বসে আছে \\n1024.jpg মাথায় গামছা বেঁধে সবুজ ধানক্ষেতের মাঝে বৃদ্ধ লোকটি বসে আছে\\n1025.jpg বৃদ্ধ লোক মাথায় কাঠের টুকরো নিয়ে হেঁটে যাচ্ছে \\n1025.jpg বৃদ্ধ লোক মাথায় কাঠের টুকরো নিয়ে হেঁটে যাচ্ছে এবং তার পিছনে বড় গাছ\\n1026.jpg কয়েকজন লোক ঘরের ভিতর কাজ করছে \\n1026.jpg কয়েকজন লোক ঘরের ভিতর ঝালাইয়ের কাজ করছে\\n1027.jpg লোকটা গরুর দড়ি নিয়ে হাঁটছে\\n1027.jpg জমির পাশ দিয়ে লোকটা গরুর দড়ি নিয়ে হাঁটছে\\n1028.jpg ঘরের ভিতরে ছেলেটি হাঁটু ভাজ করে বসে আছে \\n1028.jpg ঘরের ভিতরে ছেলেটি হাঁটু ভাজ করে বসে আছে এবং তার সামনে একটি মেয়ে কাপড় দিয়ে মুখের একপাশ ঢেকে রেখেছে \\n1028.jpg একটি মেয়ে এক হাতে  কাপড় দিয়ে মুখের একপাশ ঢেকে রেখেছে এবং তার অন্য হাতে ব্যাগ ও টিফিন বক্স ধরে আছে \\n1028.jpg ঘরের ভিতরে একটি ছোট ছেলে বসে আছে এবং একটি মেয়ে দাঁড়িয়ে আছে\\n1029.jpg উঁচু পাহাড়ের উপর ছোট ছোট ঘর\\n1029.jpg নীল আকাশের নিচে সবুজ পাহাড়\\n1030.jpg সবুজ ধানক্ষেতের মাঝে একটি লোক কাজ করছে\\n1030.jpg সবুজ ধানক্ষেতের মাঝে একটি লোক কীটনাশক দিচ্ছে \\n1030.jpg সবুজ ধানক্ষেতের মাঝে একটি লোক মুখে, মাথায় কাপড় বেঁধে কীটনাশক দিচ্ছে\\n1031.jpg গায়ে ময়লা মাখা পিচ্চি ছেলেটি হাসছে\\n1031.jpg গায়ে ময়লা মাখা পিচ্চি ছেলেটি হাতে একটি লোহার তার নিয়ে হাসছে \\n1031.jpg টিনের ঘরের পাশে গায়ে ময়লা মাখা পিচ্চি ছেলেটি দাঁড়িয়ে হাসছে\\n1031.jpg গায়ে ময়লা মাখা পিচ্চি ছেলেটির পেছনে একটি ঝুড়ি\\n1032.jpg স্ট্যান্ডের উপর ছবি রেখে ছেলেটা ছবি তুলছে \\n1032.jpg ব্যাগ কাঁধে নিয়ে ছেলেটি ছবি তুলছে \\n1032.jpg পাহাড়ের উপর দাঁড়িয়ে ছেলেটা ছবি তুলছে\\n1033.jpg বিল্ডিংয়ের দেয়ালের সাথে রশিতে বাঁধা বাঁশের উপর বসে দুটি লোক কাজ করছে \\n1033.jpg বিল্ডিংয়ের অনেক গুলো জানালার পাশে শীতাতপ নিয়ন্ত্রিত যন্ত্র লাগানো\\n1034.jpg একজন বৃদ্ধ লোক মাথায় হাত দিয়ে বসে আছে \\n1034.jpg রাস্তার ধারে একটি বস্তা পাশে নিয়ে একজন বৃদ্ধ লোক মাথায় হাত দিয়ে বসে আছে\\n1035.jpg কয়েকটি ছেলে ক্রিকেট খেলছে\\n1035.jpg নদীর পাড়ে কয়েকটি ছেলে ক্রিকেট খেলছে\\n1035.jpg একটি ছেলে ব্যাট দিয়ে ক্রিকেট বলটিকে আঘাত করেছে\\n1035.jpg নদীর পাড়ে কয়েকটি ছেলে ক্রিকেট খেলছে এবং তাদের অনেকটা পিছনে একটি বড় ব্রিজ \\n1036.jpg লোকটি জুতা সেলাই করছে\\n1036.jpg টাক মাথার লোকটি জুতা সেলাই করছে\\n1036.jpg মেঝের উপর ছালার বস্তা বিছিয়ে ওটার উপর বসে লোকটি জুতা সেলাই করছে\\n1036.jpg একজন লোক জুতা সেলাই করছে এবং তার পাশে তিনটি বাক্স যেগুলোতে সুতা সেলাইয়ের এবং পালিশ করার সরঞ্জাম আছে\\n1037.jpg মানুষ নৌকা দিয়ে নদী পারাপার হচ্ছে \\n1037.jpg নদীর পাড়ে বাঁশের সাথে নৌকা বাঁধা\\n1037.jpg মোটরসাইকেল, সাইকেল নিয়ে মানুষ নৌকায় উঠেছে \\n1037.jpg নৌকায় দুজন মানুষ বসে আছে বাকি সবাই দাঁড়িয়ে আছে\\n1038.jpg গ্রামের মাটির রাস্তায় একটি ছোট ছেলে সাইকেল চালাচ্ছে এবং তাকে আরেকটি ছেলে সাহায্য করছে \\n1038.jpg গ্রামের মাটির রাস্তায় একটি ছোট ছেলে আরেকটি ছেলেকে সাইকেল চালাতে সাহায্য করছে এবং ওদের সামনে আরেকটি ছোট ছেলে মাথায় হাত দিয়ে দাঁড়িয়ে আছে \\n1038.jpg একটি ছোট ছেলে আরেকটি ছেলেকে সাইকেল চালাতে সাহায্য করছে ও আরেকটি ছোট ছেলে মাথায় হাত দিয়ে দাঁড়িয়ে আছে এবং তাদের সামনে অনেক গাছপালা ও একটি ছোট ঘর\\n1039.jpg রেলস্টেশনে একটি লোল শুয়ে আছে \\n1039.jpg রেলগাড়ীর দরজার সামনে কয়েকজন দাঁড়িয়ে আছে \\n1039.jpg রেলগাড়ীর দরজার সামনে কয়েকজন মানুষ ব্যাগ হাতে দাঁড়িয়ে আছে\\n1040.jpg বড় বড় গাছের মাঝে পিচঢালা দীর্ঘ রাস্তা চলে গেছে\\n1040.jpg পিচঢালা রাস্তার দুপাশে পতাকা লাগানো \\n1040.jpg বড় গাছের মাঝ দিয়ে চলে যাওয়া পিচঢালা রাস্তায় মানুষ ও যানবাহন চলাচল করছে\\n1041.jpg লেকের পাড়ে দুটা নৌকা ও কিছু জিনিস রাখা \\n1041.jpg লেকের এক পাশে ঘন জঙ্গল\\n1041.jpg লেকের দুই পাশে গাছপালা\\n1041.jpg লেকের পানি সবুজ\\n1042.jpg একজন লোক একটি বাচ্চা কোলে নিয়ে দাঁড়িয়ে আছে \\n1042.jpg ঘরের দরজার সামনে একটি লোক ছোট একটি মেয়েকে কোলে নিয়ে দাঁড়িয়ে আছে \\n1042.jpg লুঙ্গি পরে গামছা গলায় দিয়ে লোকটি ছোট একটি মেয়েকে কোলে নিয়ে দাঁড়িয়ে আছে\\n1043.jpg কৃষক জমিতে কাজ করছে \\n1043.jpg লোকটা মাথায় গামছা বেঁধে জমিতে কাজ করছে\\n1044.jpg বয়স্ক লোকটি ডিঙি নৌকা চালাচ্ছে \\n1044.jpg লোকটা ডিঙি নৌকায় বসে একহাতে বৈঠা আরেক হাতে রশি ধরে আছে \\n1044.jpg আকাশ মেঘে ঢেকে গেছে \\n1044.jpg পানিতে ভর্তি ধানক্ষেতে লোকটি ডিঙি নৌকা চালাচ্ছে \\n1044.jpg ধানক্ষেতের অপর প্রান্তে গাছপালা\\n1045.jpg ছোট ছোট গাছে পাহাড় ঢেকে গেছে \\n1045.jpg ঝর্ণা বেয়ে পানি পরছে\\n1045.jpg পাহাড়ের পাদদেশে ঝর্ণার পানি জমে আছে\\n1046.jpg মাঠের উপর কিশোরী মেয়েটি হাঁটু গেড়ে বসে আছে\\n1046.jpg রঙের বালতিতে কিছু গোলাপ ফুল রেখে মেয়েটি পাশে বসে আছে \\n1046.jpg শুকনো ঘাসের উপর ফুলের বালতিতে ফুল নিয়ে মেয়েটি বসে আছে\\n1047.jpg টেবিলের পাশে একটি বই রাখা \\n1047.jpg বইয়ের পাশে একটি চশমা ও কিছু ট্যাবলেট রাখা \\n1047.jpg টেবিলের উপর বইয়ের পাশে একটি চশমা ও কিছু ওষুধ রাখা\\n1048.jpg ধানক্ষেতের পাশে আলের উপর তিনটি বাচ্চা ছেলে দাঁড়িয়ে আছে \\n1048.jpg একটি ছোট ছেলে কিছু ধানগাছ কাটছে এবং তার পাশে দুটি ছেলে দাঁড়িয়ে আছে \\n1048.jpg সবুজ ধানক্ষেতের পাশে তিনটি বাচ্চা ছেলে দাঁড়িয়ে আছে\\n1049.jpg কাঁদার মধ্যে পাঁচজন মানুষ কাজ করছে \\n1049.jpg জমির কাঁদার মধ্যে কয়েকটি ছেলে মাছ ধরছে\\n1050.jpg সূর্যের কমলা আলোকরশ্মি চারিদিকে ছড়িয়ে পড়েছে \\n1050.jpg সূর্যাস্তের সময় সূর্য কমলা রঙ ছড়াচ্ছে \\n1050.jpg একটি টাওয়ার ও বিল্ডিংয়ের মাঝে সূর্য ডোবার দৃশ্য দেখা যাচ্ছে\\n1051.jpg দুটি লোক মাথার উপর ঝুড়িতে করে মাটি নিয়ে যাচ্ছে \\n1051.jpg দুটি বয়স্ক লোক মাথার উপর ঝুড়িতে করে মাটি নিয়ে যাচ্ছে \\n1051.jpg অনেক মাটি একজায়গায় জমা করা আছে\\n1052.jpg দুটি ছেলে ব্যাগ কাঁধে নিয়ে দাঁড়িয়ে আছে \\n1052.jpg দুটি ছেলে ব্যাগ কাঁধে নিয়ে দাঁড়িয়ে আছে এবং তাদের পাশে একটি মূর্তি দেখা যাচ্ছে \\n1052.jpg একটি ছেলে হাতে কাগজ নিয়ে পড়ছে\\n1053.jpg টিনের চালার উপর একটি কবুতর\\n1053.jpg টিনের চালার উপর একটি কবুতর ডানা ঝাপটাচ্ছে\\n1054.jpg বড় বড় গাছের নিচ দিয়ে ছেলেটা হাঁটছে\\n1054.jpg গাছের পাতার ফাঁক দিয়ে সূর্যের আলো আসছে\\n1055.jpg ফুল দিয়ে সাজানো আলপনার চারপাশে শিক্ষার্থীরা বসে আছে \\n1055.jpg শহীদ মিনারের সামনে ফুল দিয়ে সাজানো আলপনার চারপাশে শিক্ষার্থীরা বসে আছে \\n1055.jpg শহীদ মিনারে অনেক মানুষের সমাগম\\n1055.jpg শহীদ মিনারে কিছু মানুষ দাঁড়িয়ে এবং কিছু বসে আছি\\n1056.jpg সূর্য অস্ত যাচ্ছে \\n1056.jpg কমলা রঙ ধারণ করে সূর্য অস্ত যাচ্ছে \\n1056.jpg সূর্যের সামনে একটি চাকা\\n1057.jpg জমিয়ে রাখা পানি থেকে মানুষ বসে ওযু করছে\\n1057.jpg জমিয়ে রাখা পানি থেকে মানুষ বসে ওযু করছে এবং তাদের পিছনে আরো মানুষ ওযু করার জন্য দাঁড়িয়ে আছে\\n1058.jpg দুটি ভ্যান পাশাপাশি যাচ্ছে \\n1058.jpg মাটির রাস্তায় গাছপালার মাঝে দুটি ভ্যান পাশাপাশি যাচ্ছে\\n1058.jpg একজন লোক একটি ভ্যান  চালাচ্ছে এবং তার পাশে আরেকটি ভ্যানে দুজন লোক বসে আছে\\n1059.jpg টিনের ঘরের পাশে একটি ছেলে দাঁড়িয়ে আছে \\n1059.jpg টিনের ঘরের পাশে একটি ছেলে দাঁড়িয়ে আছে এবং তার সামনে সূর্য অস্ত যাচ্ছে \\n1059.jpg টিনের ঘরের পাশে একটি ছেলে ব্যাগ কাঁধে নিয়ে দাঁড়িয়ে আছে\\n1060.jpg শহীদ মিনারের সামনে ফুল দিয়ে আলপনা সাজানো \\n1060.jpg শহীদ মিনারের আশেপাশে কৃষ্ণচূড়া গাছ \\n1060.jpg ফুল দিয়ে শহীদ মিনারের চারপাশ সাজানো হয়েছে\\n1061.jpg ফুলের পাপড়ির উপর ছোট করে শহীদ মিনার বানানো হয়েছে \\n1061.jpg ছোট শহীদ মিনারের সামনে বসে একটি ছোট মেয়ে ফুল দিচ্ছে \\n1061.jpg শাড়ি পরা ছোট মেয়েটি শহীদ মিনারের সামনে ফুল নিয়ে বসে আছে\\n1062.jpg রেললাইনের পাশে একটি লোক এক পা উঁচু করে দাঁড়িয়ে আছে \\n1062.jpg কমলা রঙের লুঙ্গি, জামা,জুতা পরে,মাথায় ও গলায় গামছা বেঁধে,চোখে কালো চশমা পরে লোকটি এক পা উঁচু করে দাঁড়িয়ে আছে \\n1062.jpg বয়স্ক লোকটি দুই হাতে দুটি জিনিস নিয়ে এক পা উঁচু করে দাঁড়িয়ে আছে\\n1063.jpg গোলাপ ফুলের পাপড়ির সামনে একটি দুই টাকার নোট\\n1063.jpg এক জায়গায় অনেক গুলো ফুলের তোরণ জমা করা আছে\\n1064.jpg দুজন মানুষ ছাতা মাথায় দিয়ে হাটছে \\n1064.jpg দুটি বিল্ডিংয়ের মাঝের রাস্তা দিয়ে দু'জন মানুষ বৃষ্টির মধ্যে ছাতা মাথায় দিয়ে হাটছে\\n1065.jpg রেললাইনের উপর দিয়ে একটি লোক হাঁটছে \\n1065.jpg লুঙ্গি পরে রেললাইনের উপর দিয়ে একটি লোক হাঁটছে \\n1065.jpg লুঙ্গি পরে ব্যাগ হাতে নিয়ে রেললাইনের উপর দিয়ে একটি লোক হাঁটছে\\n1066.jpg দুটি লোক সাইকেল ভর্তি করে আনারস নিয়ে যাচ্ছে \\n1066.jpg পিচঢালা রাস্তায় দুটি লোক সাইকেল ভর্তি করে আনারস নিয়ে যাচ্ছে\\n1066.jpg সবুজ ঘন গাছপালার মাঝ দিয়ে দুটি লোক সাইকেল ভর্তি করে আনারস নিয়ে যাচ্ছে\\n1067.jpg রেললাইনের উপর দিয়ে একটি রেলগাড়ী চলছে \\n1067.jpg পানির উপর বানানো রেললাইনের উপর দিয়ে একটি রেলগাড়ী চলছে\\n1068.jpg রাস্তায় একটি সাইকেল দাঁড় করানো \\n1068.jpg রাস্তায় একটি সাইকেল দাঁড় করানো এবং ওটার একটু সামনে মোটরসাইকেলের উপর একজন লোক বসে আছে\\n1069.jpg একটি মেয়ে বাংলাদেশের পতাকা ধরে আছে \\n1069.jpg সূর্যাস্তের সময় একটি ছোট মেয়ে হাতে বাংলাদেশের পতাকা ধরে দাড়িয়ে আছে\\n1070.jpg নদীর বুকে দুটি নৌকা চলছে \\n1070.jpg সবুজ পানির উপর দুটি লোক দুটো নৌকা চালাচ্ছে\\n1071.jpg ছোট্ট বাচ্চাটি জানালার কাছে দাঁড়িয়ে আছে \\n1071.jpg গ্রিলে হাত দিয়ে ছোট বাচ্চাটি দাঁড়িয়ে আছে \\n1071.jpg দেয়ালে অনেক রঙিন হাতের ছাপ\\n1072.jpg বালির উপর সাম্পান রেখে দেয়া হয়েছে \\n1072.jpg সাম্পান নৌকার উপরে বাংলাদেশের পতাকা লাগানো \\n1072.jpg সাম্পান নৌকার কিছুটা পিছনে বড় পাহাড়\\n1073.jpg একটি লোক মোটরসাইকেল চালাচ্ছে \\n1073.jpg একটি লোক হেলমেট পরে  মোটরসাইকেল চালাচ্ছে\\n1073.jpg ব্রিজের উপর একটি লোক মোটরসাইকেল চালাচ্ছে\\n1074.jpg নদীর পাড়ে কিছু ডিঙি নৌকা বেঁধে রাখা হয়েছে \\n1074.jpg নদীতে একজন জাল ছড়িয়ে মাছ ধরছে \\n1074.jpg নদীর জায়গায় জায়গায় চর জেগে উঠেছে যেখানে সবুজ ঘাস উঠেছে\\n1075.jpg দুটি বলদ দিয়ে লোকটি হাল চাষ করছে\\n1075.jpg কাদা মাটিতে লোকটি বলদ দিয়ে হাল চাষ করছে\\n1076.jpg মেঘের আড়ালে সূর্য ঢাকা পরেছে\\n1076.jpg ব্রিজের পাশে নদীতে ডিঙি নৌকা চলছে \\n1077.jpg কুয়াশায় ঢাকা সকাল\\n1077.jpg কুয়াশার জন্য লোকটিকে ভালো করে দেখা যাচ্ছে না\\n1077.jpg কুয়াশার মধ্যে একটি লোক মাথায় ঝুড়ি নিয়ে পিচঢালা রাস্তায় হাঁটছে\\n1078.jpg অনেকগুলো লোক একসারিতে বসে জাল বুনছে \\n1078.jpg ব্রিজের উপর অনেকগুলো লোক একসারিতে বসে জাল বুনছে \\n1078.jpg অনেকগুলো লোক একসারিতে বসে জালে রশি বাঁধছে\\n1079.jpg গাছের কান্ডে একটি মই দাঁড় করানো আছে \\n1079.jpg কুয়াশায় ঢেকে গেছে মাঠের গাছগুলো\\n1079.jpg কুয়াশায় ঢাকা মাঠে কয়েকজন মানুষ একসাথে দাঁড়িয়ে আছে \\n1079.jpg গাছের পিছনে একটি পাখি উড়ছে\\n1080.jpg চাবি সহ একটি তালা ঝুলছে \\n1080.jpg গেটে চাবিসহ একটি তালা ঝুলছে\\n1081.jpg টেবিলের উপর কয়েকটি জ্বলন্ত মোমবাতি রাখা\\n1081.jpg টেবিলের উপর আগরবাতি, জ্বলন্ত মোমবাতি ও ফুলের পাপড়ি রাখা\\n1082.jpg জানালার শীকের ফাঁকে ফাঁকে মোমবাতি জ্বলছে \\n1082.jpg জ্বলন্ত মোমবাতি থেকে ধোঁয়া বের হচ্ছে\\n1083.jpg কুয়াশায় ঢাকা একটি সকালে লোকটি পিচঢালা রাস্তায় ভ্যান চালাচ্ছে \\n1083.jpg রাস্তার দুপাশে গাছপালা\\n1084.jpg বড় শিকলের উপর ছেলেটা বসে আছে \\n1084.jpg জাহাজ থেকে বের হওয়া শিকলের উপর ছেলেটা বসে আছে\\n1085.jpg পানিতে একটি বাল্ব ভাসছে\\n1086.jpg কুয়াশায় ঢাকা সকালে লোকটি পিচঢালা রাস্তায় হাঁটছে\\n1086.jpg কুয়াশায় ঢাকা সকালে লোকটি পিচঢালা রাস্তায় কাঁধের উপর রসের কলসি নিয়ে হাঁটছে\\n1086.jpg লাঠির দু'প্রান্তে রসের কলসি বেঁধে লোকটি কুয়াশার মধ্যে দিয়ে হাঁটছে\\n1087.jpg টবের উপর একটি চশমা রাখা \\n1087.jpg চশমার গ্লাসে পানি জমেছে\\n1088.jpg লোকটি বেলুন ধরে আছে \\n1088.jpg অনেক রকম খেলনা লাঠিতে বাঁধা \\n1088.jpg রাস্তায় লোকটি বাচ্চাদের খেলনা বিক্রির জন্য দাঁড়িয়ে আছে \\n1088.jpg রাস্তায় লোকটি বাচ্চাদের খেলনা বিক্রির জন্য দাঁড়িয়ে আছে এবং তার পিছনে একটি রিকশা আসছে\\n1089.jpg মরুভূমিতে বালির উপর তিনটি উট চলছে\\n1089.jpg একটি লোক উটের উপর বসে আছে এবং আরেকটি লোক উটটিকে টেনে নিয়ে যাচ্ছে \\n1089.jpg আকাশ মেঘে ঢেকে গেছে\\n1090.jpg অনেকগুলো ছেলে পানিতে নেমেছে \\n1090.jpg নদীর দূর সীমানায় অনেক গুলো ট্রলার দেখা যাচ্ছে \\n1090.jpg রঙিন আকাশে মেঘ\\n1091.jpg লোকটি কানে মোবাইল ধরে কথা বলছে \\n1091.jpg রিকশাওয়ালা রিকশায় বসে মোবাইল কানে ধরে কথা বলছে\\n1092.jpg বড় পাহাড়ের পিছনে চাঁদ দেখা যাচ্ছে\\n1093.jpg দুজন লোক মাথায় বেতের ঝুড়ি নিয়ে যাচ্ছে\\n1093.jpg গাড় নীল আকাশে সাদা মেঘ\\n1093.jpg রাস্তার মাটি তুলে ফেলা হয়েছে \\n1093.jpg রাস্তার পাশে অনেকগুলো কলাগাছ\\n1094.jpg বাচ্চা ছেলেটা কোদাল টেনে নিয়ে যাচ্ছে \\n1094.jpg ইট ভাটায় মানুষ কাজ করছে\\n1095.jpg একটি ছেলে ও মেয়ে মাটি দিয়ে ইট তৈরি করছে\\n1095.jpg সারি সারি ইট সাজানো আছে\\n1096.jpg একজন লোক তার মাথার ঝুড়ি অন্য জনের মাথায় দিচ্ছে \\n1096.jpg কাঠের পাটাতনের উপর দাঁড়িয়ে একজন লোক তার মাথার ঝুড়ি অন্য জনের মাথায় দিচ্ছে\\n1097.jpg মাছ ধরার সরঞ্জাম নিয়ে একদল লোক হেঁটে যাচ্ছে \\n1097.jpg সবুজ ঘাসের উপর দিয়ে মাছ ধরার সরঞ্জাম নিয়ে একদল লোক হেঁটে যাচ্ছে\\n1098.jpg গরুগুলো পানিতে ডুব দিয়ে আছে \\n1098.jpg গরু তিনটি পানি থেকে মাথা বের করে আছে\\n1099.jpg শেওলায় ভরা পানিতে অনেকগুলো বাঁশ বেঁধে রাখা আছে \\n1099.jpg বাঁশের উপর একটি লোক দাঁড়ানো\\n1100.jpg সূর্যাস্তের সময় অনেকগুলো ছোট ছেলে সাইকেলের চাকা উপরে ছুড়ে দিয়েছে \\n1101.jpg গাছের পাতার ডালে পাখিটি উল্টো হয়ে ঝুলে আছে \\n1101.jpg গাছের পাতার ডালে পাখিটি ঝুলে আছে\\n1102.jpg অনেকগুলো কাঠের টুকরো মাথায় নিয়ে মহিলাটি হাটছে\\n1102.jpg একটি মহিলা রাস্তা দিয়ে হাঁটছে এবং তার সামনে কয়েকটি গরুও হাঁটছে\\n1102.jpg সবুজ গাছপালা, ঘাসের মাঝ দিয়ে চলে যাওয়া পিচঢালা রাস্তায় মহিলাটি মাথায় কাঠের টুকরো নিয়ে হাঁটছে\\n1103.jpg বাচ্চা মেয়ে দুটি প্রবালের বসে আছে \\n1103.jpg অনেকগুলো মালা,বালতি,কাপড় নিয়ে বাচ্চা মেয়ে দুটি প্রবালের উপর বসে আছে \\n1103.jpg বাচ্চা মেয়ে দুটি প্রবালের উপর বসে হাসছে\\n1104.jpg দুটি মেয়ে নাচ পরিবেশন করছে \\n1104.jpg মাথায় বোতলের উপর মোমবাতি নিয়ে মেয়েটি বসে নাচছে\\n1104.jpg সামনে দুটি কলসি নিয়ে মেয়েটি বসে নাচছে\\n1105.jpg অনেক গুলো জেলে একসাথে মাছ ধরছে \\n1105.jpg লোকগুলো চাঁই দিয়ে নদীতে মাছ ধরছে \\n1105.jpg মাছ ধরার প্রতিযোগিতা চলছে\\n1106.jpg বয়স্ক লোকটি মাথায় পাকা কলা নিয়ে দাঁড়িয়ে আছে \\n1106.jpg মাথায় গামছা বেঁধে বয়স্ক লোকটি মাথার উপর কলা নিয়ে যাচ্ছে\\n1107.jpg চাঁইয়ের ভিতর দুটি মাছ আটকে আছে\\n1108.jpg ডিঙি নৌকায় দুজন লোক বালি নিয়ে যাচ্ছে \\n1108.jpg নদীর পিছনে বড় বড় পাহাড় \\n1108.jpg পাহাড়ের উপর সাদা মেঘে আকাশ ভরে গেছে \\n1108.jpg ডিঙি নৌকার উপর লোকটি বৈঠা কাঁধে নিয়ে দাঁড়িয়ে আছে\\n1109.jpg রাতের শহর\\n1109.jpg ভ্যানের সামনে লোকটা দাঁড়িয়ে আছে \\n1109.jpg রাস্তার পাশে একটি সিএনজি দাঁড় করানো \\n1109.jpg রাস্তার ওপাশে কয়েকটি বিল্ডিং\\n1110.jpg হকাররা জুতা বিক্রির জন্য জুতা সাজিয়ে বসে আছে \\n1110.jpg রাস্তায় অনেক মানুষ দাঁড়িয়ে এবং বসে আছে \\n1110.jpg রাস্তার ল্যাম্পপোস্ট থেকে আলো ছড়াচ্ছে\\n1111.jpg অনেক গুলো জুতা সাজিয়ে রাখা হয়েছে \\n1111.jpg রাস্তায় অনেক মানুষ দাঁড়িয়ে আছে \\n1111.jpg রাস্তায় গাড়ি চলছে \\n1111.jpg সারি সারি সাজানো জুতার সামনে একটি লোক দাঁড়িয়ে আছে\\n1112.jpg বাসের দরজার সামনে অনেক মানুষ জড়ো হয়ে আছে \\n1112.jpg দোতলা একটি বাস রাস্তায় যাত্রী উঠানামার জন্য দাঁড়িয়ে আছে \\n1112.jpg দোতলা বাসটিতে উঠার জন্য মানুষ বাসের দরজার সামনে একত্রিত হয়েছে\\n1113.jpg রাস্তার পাশে খাবারের দোকান \\n1113.jpg দোকানের সামনে একটি লোক হেঁটে যাচ্ছে \\n1113.jpg দোকানের সামনে বাংলাদেশের পতাকা লাগানো\\n1114.jpg মুরগির দোকানের একাংশ দেখা যাচ্ছে \\n1114.jpg মুরগীর দোকানের মুরগী রাখার ঝুড়ি দেখা যাচ্ছে \\n1114.jpg রাস্তার দুপাশে সারি সারি দোকান\\n1115.jpg দোকানদার দোকানে অনেক রকমের সবজি নিয়ে বসে আছে \\n1115.jpg দোকানের সামনে অনেকগুলো বাতি জ্বলছে \\n1115.jpg হরেকরকম সবজির মাঝে লোকটি বসে আছে \\n1115.jpg দেয়ালে ব্যাগের ভেতর কিছু সবজি ঝুলানো আছে \\n1115.jpg দেয়ালে কাঁচকলার কাঁদি ঝুলানো \\n1116.jpg অনেক গুলো মাছ এক জায়গায় জড়ো করে রাখা \\n1116.jpg মাছগুলোর উপরে বাতি জ্বালানো আছে\\n1116.jpg মাছ গুলোর সামনে একটি বালতি ও একটি মানুষের দুটি পা দেখা যাচ্ছে\\n1117.jpg অনেক গুলো মাছ এক জায়গায় জড়ো করে রাখা \\n1117.jpg মাছগুলোর উপরে বাতি জ্বালানো আছে\\n1117.jpg মাছ গুলোর সামনে একটি বালতি ও একটি মানুষের দুটি পা দেখা যাচ্ছে\\n1118.jpg বিল্ডিংয়ের কাজ চলছে\\n1118.jpg রাস্তার পাশে ছোট্ট টং দোকানে পলিথিনের ভিতর খাবার ঝুলানো আছে \\n1118.jpg রাস্তার পাশে লোহার দোকানে বাতি জ্বালিয়ে কাজ করছে\\n1118.jpg রাস্তার পাশে বসে একটি লোক কাজ করছে এবং আরেকজন পাশে দাঁড়িয়ে আছে\\n1119.jpg লোকটি দোকানের ভিতরে লোহা ঝালাইয়ের কাজ করছে \\n1119.jpg দোকানের ভিতরে ছাদের উপর থেকে একটি বাতি জ্বলছে \\n1119.jpg দোকানের ভিতরে লোহার অনেক জিনিস রাখা \\n1119.jpg একটি লোক লোহা ঝালাই করছে আর সেখান থেকে আগুনের ফুলকি বের হচ্ছে \\n1119.jpg দেয়ালে একটি দিনপঞ্জিকা ঝুলছে \\n1120.jpg খাবারের দোকানের ভিতরে মানুষ চেয়ার টেবিলে বসে খাচ্ছে \\n1120.jpg দোকানের ভিতরে সিলিং এর থেকে ফ্যান চলছে ও বাতি জ্বলছে \\n1120.jpg দোকানে কাঁচের বাক্সে খাবার রাখা হয়েছে \\n1120.jpg দোকানে কাঁচের বাক্সে বাতি জ্বালিয়ে খাবার গরম রাখা হয়েছে \\n1120.jpg দোকানদার খাবারের বাক্সের সামনে দাঁড়িয়ে আছে\\n1121.jpg রাস্তার পাশে টং দোকানে খাবার বিক্রি করছে \\n1121.jpg রাস্তার পাশে টং দোকানে খাবার বিক্রি করছে এবং দোকানের সামনে চেয়ার ও বেঞ্চ পাতা আছে বসার জন্য \\n1121.jpg রাস্তার পাশে টং দোকানে খাবার বিক্রি করছে এবং দোকানের সামনে রাখা চেয়ারে দুজন মানুষ বসে আছে \\n1121.jpg রাস্তার পাশে টং দোকানের খাবার গুলো কাঁচ ও নেট দিয়ে ঢেকে বিক্রি করা হচ্ছে \\n1121.jpg দোকানের সামনে একটি বড় পাতিল কাপড় দিয়ে ঢাকা এবং ওটার উপর একটি থালার উপর মসলার কৌটা রাখা \\n1122.jpg ফলের দোকানে থরে থরে ফল সাজানো আছে \\n1122.jpg ফলের দোকানে নেটের ভিতরে ফল ভরে সিলিংয়ের সাথে ঝুলিয়ে রাখা আছে \\n1122.jpg ফলের দোকানের সামনে ও পাশে কয়েকজন মানুষ দাঁড়িয়ে আছে \\n1123.jpg জায়গা না পেয়ে ট্রেনের মাথায় ও উপরে অনেক মানুষ বসে আছে \\n1123.jpg রেললাইনের উপর দিয়ে মানুষ পার হচ্ছে\\n1124.jpg একজন মানুষের দুটি পা দেখা যাচ্ছে \\n1124.jpg একজন মানুষের দুটি পা দেখা যাচ্ছে এবং মেঝের পানিতে তার শরীরের প্রতিচ্ছবিও দেখা যাচ্ছে \\n1124.jpg মেঝের পানিতে কয়েকটি পাতা সহ একটি ছোট ডাল পরে আছে \\n1124.jpg স্যান্ডেল পরা একটি ছেলের দুটি পা দেখা যাচ্ছে\\n1125.jpg মেঝের উপর একটি চায়ের মগ রাখা \\n1125.jpg মেঝের উপর একটি চায়ের মগের ছায়া পরেছে \\n1125.jpg মেঝেতে রাখা চায়ের মগের উপর সূর্যের আলো পড়েছে\\n1126.jpg বয়স্ক লোকটি বাসের জানালা দিয়ে বাইরের দিকে তাকিয়ে আছে \\n1126.jpg বয়স্ক লোকটি বাসের জানালা দিয়ে বাইরের দিকে তাকিয়ে পাশের গাড়িটি দেখছে\\n1127.jpg বিক্রির জন্য চুড়ির ডালায় চুড়ি সাজিয়ে রাখা হয়েছে \\n1127.jpg চুড়ির ডালার উপর একটি মেয়ের  চুড়ি পরা হাত দেখা যাচ্ছে \\n1127.jpg চুড়ির ডালার উপর দুটি মেয়ের হাত দেখা যাচ্ছে\\n1128.jpg ফাঁকা রাস্তায় একটি লোক হাঁটছে \\n1128.jpg দুপাশের গাছপালার মাঝ দিয়ে চলে যাওয়া পিচঢালা রাস্তায় একটি ছেলে হেঁটে যাচ্ছে \\n1128.jpg ইটের মেঝের উপর একটি কুকুর শুয়ে ঘুমাচ্ছে\\n1129.jpg অনেকগুলো মাটির কলসি এক জায়গায় জড়ো করে রাখা আছে \\n1129.jpg একটি মাটির কলসির ভিতর থেকে দুটি বিড়ালের বাচ্চা মাথা বের করে উঁকি দিচ্ছে\\n1130.jpg শীতের কুয়াশায় ঢাকা সকালে গ্রামের একটি বাড়ি\\n1130.jpg শীতের কুয়াশা এবং ঠান্ডার কারণে গরুটির গায়ে ছালা পরিয়ে রাখা হয়েছে \\n1130.jpg ছোট্ট কুঁড়ে ঘরের সামনে একপাশে গরু ও গরুর খাবার এবং অন্যপাশে খড়ের গাদা রাখা হয়েছে \\n1130.jpg গ্রামের একটি ঘরের সামনে মাচায় শাক দেখা যাচ্ছে\\n1131.jpg বিল্ডিংয়ের কাজ চলছে \\n1131.jpg বাঁশের সিড়ি দিয়ে মানুষ উঠানামা করছে\\n1131.jpg বিল্ডিংয়ের ছাদে দুজন লোক ঝুড়ি মাথায় নিয়ে হাঁটছে\\n1132.jpg মেয়েরা সারি বেঁধে রাস্তায় হাঁটছে\\n1132.jpg বন্দুক কাঁধে নিয়ে মেয়েরা রাস্তায় মিছিল করছে\\n1132.jpg সাদা পোশাকে বন্দুক কাঁধে নিয়ে মেয়েরা রাস্তায় মিছিল করছে\\n1133.jpg রাস্তায় মানুষ ভর্তি একটি জীপ গাড়ি চলছে \\n1133.jpg জীপ গাড়ির ভিতরে দাঁড়ানো মানুষ গুলোর হাতে বন্দুক \\n1133.jpg রাস্তায় জীপ গাড়ি চলছে এবং তার পাশে অনেক মানুষ\\n1134.jpg একজন মানুষ কলম দিয়ে কাগজে কিছু লিখছে\\n1134.jpg দুজন মানুষ বসে আছে এবং তাদের পিছনে অনেক মানুষ দাঁড়িয়ে আছে\\n1135.jpg ঘরের বারান্দার সিঁড়িতে একটি ছেলে বসে আছে \\n1135.jpg টিনের ঘরের সামনের সিঁড়িতে একটি ছেলে অন্যদিকে তাকিয়ে বসে আছে\\n1136.jpg অর্ধনগ্ন লোকটি মাটিতে বসে কাজ করছে \\n1136.jpg লুঙ্গি পরে লোকটি মাটিতে বসে কাজ করছে\\n1137.jpg রাস্তায় ঘোড়ার গাড়ি, সাইকেল,রিকশায় মানুষ যাতায়াত করছে\\n1137.jpg দুটি ছেলে ঘোড়ার গাড়ির উপর বসে গাড়ি চালাচ্ছে \\n1137.jpg পুরাতন বিল্ডিংয়ের পাশ দিয়ে ঘোড়ার গাড়ি চলছে\\n1138.jpg একটি ছেলে বাঁশের সাঁকোর উপর দিয়ে হেঁটে যাচ্ছে \\n1138.jpg বাঁশের সাঁকোর পাশেই একটি ব্রিজ যেটায় মানুষ হাঁটছে\\n1138.jpg দুই হাত উঁচু করে মুখে একটি সিগারেট নিয়ে ছেলেটি বাঁশের সাঁকোর উপর দিয়ে হেঁটে যাচ্ছে\\n1139.jpg লোকটা বসে মাটির খেলনায় রং করছে \\n1139.jpg সিকায় মাটির পাতিল ঝুলছে \\n1139.jpg বেতের চাটায়ের উপর বসে মাটির খেলনায় রং করছে লোকটা\\n1140.jpg বয়স্ক লোকটি বসে কাজ করছে \\n1140.jpg রঙিন কাপড়ে ঢাকা একটি জায়গায় কাগজের কাটুনের সামনে বসে লোকটি কাঠের কাজ করছে \\n1140.jpg একটা লোক সাদা কাপড় পরে কাজ করছে এবং তার সামনে অনেকগুলো খেলনা ঘোড়া রাখা\\n1141.jpg শাড়ি পরে বসে মহিলাটি নকশীকাঁথা সেলাই করছে\\n1141.jpg নকশীকাঁথা দিয়ে ঢাকা একটি জায়গায় বসে মহিলাটি সেলাই করছে\\n1142.jpg লোকটা সুতা দিয়ে কাপড় তৈরি করছে \\n1142.jpg কাঠের যন্ত্রে লোকটা কাপড় তৈরি করছে\\n1143.jpg বাংলাদেশের ক্রিকেটার তামিম ইকবাল ব্যাট হাতে বসে আছে \\n1143.jpg একটি লোক দুহাতে ব্যাট ধরে বসে আছে \\n1143.jpg একটি লোক বড় একটা বাড়ির সামনে বসে দুহাতে ব্যাট ধরে আছে\\n1144.jpg গাড়ির ভিতরে বসে মেয়েটি কাঁদছে \\n1144.jpg বউটি বিদায় বেলায় কাঁদছে\\n1144.jpg ফুলের মালা গলায় দেয়া গহনা পরা মেয়েটি গাড়িতে বসে কাঁদছে\\n1144.jpg গাড়ির ভিতরে বসে মেয়েটি কাঁদছে এবং জানালার গ্লাসে দুজন মানুষের প্রতিচ্ছবি দেখা যাচ্ছে \\n1145.jpg বন্যার পানিতে ডুবে যাওয়া রাস্তায় অনেক গুলো ছেলে দাঁড়িয়ে আছে \\n1145.jpg বন্যার পানিতে ডুবে যাওয়া রাস্তায় একটি ছেলে সাইকেল উঁচু করে রেখেছে এবং অন্যরা তাকে সাহায্য করছে\\n1146.jpg একটি লোক মুখোশ পড়ে দুহাত তুলে দাঁড়িয়ে আছে \\n1146.jpg বোরখা,নেকাব পড়ে মহিলাটি সামনের দিকে তাকিয়ে আছে \\n1146.jpg একটি লোক মুখোশ পড়ে দুহাত তুলে দাঁড়িয়ে আছে এবং তার সামনের টুপি পরা লোকটি তাকে দেখছে\\n1147.jpg সমুদ্রের মাঝে ছোট একটি নৌকা \\n1147.jpg সমুদ্রের নীল সবুজাভ পানিতে ছোট একটি নৌকা\\n1148.jpg মাটির রাস্তায় একটি সাইকেল রাখা \\n1148.jpg সাইকেলের পিছনেের সিটে একটি বালিশ ও কাপড় পেঁচিয়ে রাখা \\n1148.jpg নদীর পাড়ে কয়েকটি বাচ্চা দাঁড়িয়ে আছে \\n1148.jpg নদীর পাড়ে কিছুটা দূরে একটি সাইকেল রাখা\\n1149.jpg বন্যার পানিতে ডুবে যাওয়া রাস্তায় সিএনজি চলছে \\n1149.jpg বন্যার পানিতে ডুবে যাওয়া রাস্তায় সিএনজিটিকে টেনে নেয়া হচ্ছে\\n1150.jpg নীল আকাশের নিচে খোলা মাঠের একপাশে গাছপালা\\n1150.jpg গাছের পাশে হিন্দুদের একটি মূর্তি রাখা\\n1151.jpg বিয়ে বাড়িতে সবকিছু সাজিয়ে রাখা হয়েছে \\n1151.jpg বিয়ে বাড়িতে একটি লোক চেয়ার সাজাচ্ছে \\n1151.jpg ফুল ও রঙিন কাপড় দিয়ে স্টেজ সাজানো হয়েছে \\n1151.jpg চেয়ারের পাশে একটি ময়লা বালতি রাখা\\n1152.jpg ছোট একটি আয়নায় মেয়েটির মুখ দেখা যাচ্ছে \\n1152.jpg আয়না মুখের সামনে ধরে মেয়েটি বসে আছে এবং তার সামনে একটি টেবিলে অনেক কিছু রাখা\\n1153.jpg বৃদ্ধ লোকটির সামনে মহিলা মাথা নুয়ে পড়েছে \\n1153.jpg ঘরের বারান্দায় একজন বৃদ্ধ বসে একটি বাচ্চার সাথে কথা বলছে \\n1153.jpg বৃদ্ধ লোকটির পাশে একটি ছেলে দাঁড়িয়ে আছে\\n1154.jpg দুটি বাচ্চা বল নিয়ে খেলছে\\n1155.jpg একটি লোক কয়েকটি ছোট  মাছ ধরে আছে \\n1155.jpg মাথায় গামছা পেঁচানো লোকটি কয়েকটি মাছ দেখাচ্ছে\\n1156.jpg বানরটি ছোট ছেলেটির হাত থেকে চিপসের প্যাকেট নিচ্ছে \\n1156.jpg দরজায় ঝুলে বানরটি হাত বাড়িয়ে চিপসের প্যাকেট নিচ্ছে\\n1157.jpg একটি সাদা বিড়াল মোড়ার উপর বসে আছে \\n1157.jpg একটি সাদা বিড়াল মোড়ার উপর বসে আছে এবং ওটার পাশেই আরেকটা বিড়াল\\n1157.jpg রান্নাঘরে দুটি বিড়াল ঘুরছে\\n1158.jpg ছোট মেয়েটির কপালে একজন টিপ পরিয়ে দিচ্ছে\\n1159.jpg রাস্তায় ভ্যানের উপর কিছু পুতুল রাখা \\n1159.jpg রাস্তা দিয়ে একটি মেয়ে হেঁটে চলছে \\n1159.jpg দোকানের সামনে দিয়ে একটি মেয়ে হেঁটে যাচ্ছে\\n1160.jpg গাড়ির উপর অনেক স্লোগান লিখা কাগজ আটকানো আছে \\n1160.jpg গাড়ির দুপাশে অনেক মানুষ  দাঁড়িয়ে আছে\\n\\n1161.jpg একটি ছেলে সমুদ্রের নীল পানিতে ওয়েক বোর্ডিং খেলছে\\n1162.jpg একটি যুবক ছেলে সমুদ্রের নীল পানিতে ওয়েক বোর্ডিং খেলছে\\n1163.jpg একটি বাচ্চা মেয়ে খোলা চুলে দৌড়াচ্ছে\\n1164.jpg একটি বাচ্চা ছেলে পার্কের ঘোড়ায় বসে আছে\\n1165.jpg একটু বাচ্চা মেয়ে সবুজ বনের মাঝে সাইকেল চালাচ্ছে\\n1166.jpg একটি কুকুর বৃষ্টির মাঝে আশ্রয় পাওয়ার আশায় হাঁটছে\\n1167.jpg একটি সাদা হেলিকাপ্টার আকাশে ওড়ার জন্য প্রস্তুত হচ্ছে\\n1168.jpg ছেলেটি কুকুরের গলার রশি ধরে আছে এবং বাচ্চা মেয়েটি দারিয়ে থেকে সেটা দেখছে\\n1169.jpg সবুজ ঘাসের পাশে অনেকগুলো হাঁসের বাচ্চা এবং হাঁস দারিয়ে আছে \\n1170.jpg একটি মেয়ে সুইমিংপুলের পানিতে সাঁতার কাটছে\\n1171.jpg অনেকগুলো ছেলেমেয়ে রাস্তায় মিছিল করছে \\n1172.jpg অনেকগুলো লোকজন খোলা বাসের উপর দারিয়ে সমাবেশ করছে \\n1173.jpg মেয়েটি বৃষ্টির মাঝে ভিজে ভিজে ফল কুরাচ্ছে \\n1174.jpg ছেলেটি সাদা রঙের মুখোশ পরে দাড়িয়ে আছে \\n1175.jpg ফুলের মালা গলায় দিয়ে ছেলেটি পতাকা হাতে আনন্দ মিছিল করসে\\n1176.jpg খেলার মাঠে অনেক লোকজন খেলে দেখছে এবং একটি ছেলে নিজের পছন্দের দলকে সমর্থন করছে \\n1177.jpg চুলে বেগুনি রঙ করা একটি ছেলে অনেকের মাঝে দাঁড়িয়ে আছে \\n1178.jpg একটি লোক কুকুরটিকে পানিতে ভিজিয়ে  দিচ্ছে\\n1179.jpg বয়স্ক দম্পতি ক্যাফেতে বসে কফি পান করছে \\n1180.jpg লাল রঙের গেঞ্জি পরা একটি ছেলে পাকে খেলছে \\n1181.jpg রোদ চসমা পরা একটি মেয়ে হাট নারিয়ে আনন্দ করছে \\n1182.jpg একজন পুলিশ রাস্তায় তার দায়িত্ব পালন করছেন \\n1183.jpg রংবেরঙের জামা পরে অনেক লোক রাস্তায় হেটে যাচ্ছে \\n1184.jpg পানির মধ্যে একটি ছেলে মুখ ডুবিয়ে আছে \\n1185.jpg একটি উৎসবে ছেলেগুলো নানান সাজে সেজেছে \\n1186.jpg লাল গেঞ্জি পরে অনেকে র\\u200d্যালিতে হাঁটছে  \\n1187.jpg সবুজ জামা পরিধান করা মেয়েটিকে বিচারকরা নম্বর দিচ্ছে \\n1188.jpg পানির ফুয়ারায় একটি ছেলে খেলা করছে \\n1189.jpg একটি ছেলে সুইমিংপুলের পানিতে লাফ দিচ্ছে \\n1190.jpg একটি মেয়ে পাহাড়ি জংগলের রাস্তা দিয়ে দৌড়াচ্ছে \\n1191.jpg নীল আকাশে সাদা মেঘ গুলো উড়ছে \\n1192.jpg সবুজ চশমা পরা ছেলেটি লাফ দিতে গিয়ে পরে যাচ্ছে \\n1193.jpg ম্যরাথন দৌড়ে একটি মেয়ে অংশগ্রহণ করছে \\n1194.jpg সাইকেল হাতে একটি ছেলে গাছের উপর দাঁড়িয়ে উপরে উথার চেষ্টা করছে \\n1195.jpg একটি ছেলে উঁচু স্থান থেকে লাফ দিচ্ছে \\n1196.jpg পুলিশ একটি উৎসবে তার দায়িত্ব পালন করছে \\n1197.jpg পাহাড় পানি এবং বরফে ঘেরা সুন্দর জায়গায় দুটি মেয়ে হেটে যাচ্ছে \\n1198.jpg সমুদ্রের পাশে একটি মেয়ে দেয়াল বেয়ে উপরে উঠার চেষ্টা করছে \\n1199.jpg একটি নাচের স্কুলে শিক্ষার্থীরা নানান রকম ভাবে নাচছে \\n1200.jpg একটি ছেলে তার স্কুটি দিয়ে খেলছে\\n1201.jpg কয়েকটি ছেলে মোটর সাইকেল প্রতিযোগিতায় অংশগ্রহন করেছে \\n1202.jpg খেলোয়াড় ব্যাট দিয়ে বলটি মারার চেষ্টা করছে \\n1203.jpg দাবানলের আগুন নেভানো হচ্ছে \\n1204.jpg পানির মধ্যে প্লাস্টিকের ভ্যালার পাশে হাঁটছে \\n1205.jpg অনেকগুলো ছেলে কাঠের চাকাটি আটকানোর চেষ্টা করছে \\n1206.jpg অনেক গুলো ছেলের মাঝে একটি ছেলে খেলছে \\n1207.jpg অনেক গুলো মেয়ে আলোর মাঝে এলোমেলো ভাবে বসে এবং দাঁড়িয়ে আছে \\n1208.jpg কালো রঙের কুকুরটি সারি সারি গাছের  পাশ দিয়ে দৌড়াচ্ছে\\n1209.jpg বাচ্চা ছেলেটি লোকটির কাছে গল্প শুনছে \\n1210.jpg লাল হেলমেট পরা লোকটি সাইকেল চালাচ্ছে \\n1211.jpg অনেকগুলো লোক দাঁড়িয়ে আলোচনা করছে \\n1212.jpg শিশুরা আকাশী রঙের বড় কাপড় দিয়ে খেলছে\\t\\n1213.jpg একটি মেয়ে এবং একটি ছেলে ছোট পুলের ভেতর কাঁদা মাখা মাখি করছে \\n1214.jpg বড় চুলের লোকটি আইসক্রিম হাতে চুল দোলাচ্ছে \\n1215.jpg কুকুরটি তার মালিকের সাথে প্রতিযোগিতায় অংশগ্রহন করেছে \\n1216.jpg ফুটবল খেলোয়াড় মাথা দিয়ে বল মারছে অন্য খেলোয়াড় তাকে বাঁধা দিচ্ছে \\n1217.jpg কুকুর দুইটি পানির মধ্যে সাদা রঙের লাঠি নিয়ে তীরে আসছে \\n1218.jpg কুকুরটি লাফিয়ে বলটি ধরার চেষ্টা করছে  \\n1219.jpg ছেলেটি হেলমেট পরে সাইকেল নিয়ে লাফাচ্ছে \\n1220.jpg ছেলেটি স্কেটিং করে দেয়াল বেয়ে নামছে \\n1221.jpg বাচ্চা ছেলেটি গাছের নিচে দাঁড়িয়ে আছে \\n1222.jpg গাড়িতে বসা ছেলেটি কিছু দেখে অবাক দৃষ্টিতে তাকিয়ে আছে \\n1223.jpg মেয়েগুলো সুন্দরী প্রতিযোগিতায় অংশগ্রহন করেছে \\n1224.jpg রক গিটার হাতে মেয়েটি উচ্চস্বরে গান গাইছে \\n1225.jpg মেয়ে দুইটি জুডো খেলছে\\n1226.jpg একটি ছেলে উঁচু নিচু মাটির উপর মোটর সাইকেল প্রতিযোগিতায় অংশগ্রহন করেছে \\n1227.jpg পাহার ঘেরা বরফের উপর অনেকগুলো লোক স্কেট করছে\\n1228.jpg একটি বাচ্চা ছেলে লুকিয়ে লুকিয়ে কাঠের ফাঁক দিয়ে অন্য পাশ দেখার চেষ্টা করছে\\n1229.jpg একটি ছেলে দাঁড়িয়ে সামনের দিকে ইশারা করছে এবং অন্যজন বসে কাজ করছে \\n1230.jpg লোকটি ওয়াটার ড্রাইভ করার সময় দক্ষতার সাথে লাফ দিচ্ছে \\n1231.jpg পাহারে ঘেরা সমুদ্রের মাঝে সবুজ অরণ্যে জন বসতি \\n1232.jpg বাচ্চা ছেলেটি লোকটির সাহায্যে পানিতে সাঁতার কাঁটা শিখছে \\n1233.jpg দক্ষতার সাথে সাইকেল নিয়ে একজন লাফ দিচ্ছে অন্যজন দাঁড়িয়ে ছবি তুলছে \\n1234.jpg পাখিটি খাবার খোঁজার জন্য পাহারে ঘেরা বনে উড়ে বেরাচ্ছে \\n1235.jpg বকটি গলা লম্বা করে পানির ভেতর থেকে মাছ খুজছে \\n1236.jpg ছেলেটি অনেক গুলো পোস্টারের সামনে বড় চামচ হাতে নিয়ে খেলছে \\n1237.jpg ঘাসের রাস্তায় বাচ্চা মেয়েটি ফুল হাতে হাঁটছে\\n1238.jpg নদীর তীরে ঘাসের উপর মেয়েটি একটি ছেলের সাথে কিছু খুজছে \\n1239.jpg লাল সাদা পাল তোলা নৌকাটি পাহারে ঘেরা নদীর পাশ দিয়ে যাচ্ছে \\n1240.jpg লাঠির সাথে লাগানো রশিটি অনেক গুলো মেয়ে টানছে \\n1241.jpg রাস্তার পাশে মাটিতে হেলমেট পরা একটি বাচ্চা সাইকেল চালাচ্ছে \\n1242.jpg মেয়েটি বলটিতে লাথি দিচ্ছে আশেপাশের সবাই তাকে উৎসাহ দিচ্ছে \\n1243.jpg ছেলেটি সিঁড়ির পাশের র\\u200d্যলিং এর উপর দিয়ে নামছে \\n1244.jpg নদীর পাশে ঘাসের উপর বেঞ্চে দুটি মহিলা হাস্যজ্জল মুখে বসে আছে \\n1245.jpg বাচ্চা মেয়েটি কাঁধের উপর বসে সামনের দিকে তাকিয়ে আছে \\n1246.jpg সাদা গেঞ্জি পরা ছেলেটি সাইকেল নিয়ে দেয়ালের উপর দিয়ে পার হচ্ছে \\n1247.jpg গাড়ির ভেতরে থাকা খেলনা হাতে ছেলেটি বাইরে তাকিয়ে আছে \\n1248.jpg একটি বাড়ির রংবেরং এর কারুকাজ করা একটি দরজা \\n1249.jpg সমুদ্রের স্রোতের পাশে কুকুরটি অনেক দ্রুত লাফিয়ে যাচ্ছে \\n1250.jpg অনেকগুলো ছেলে সাইকেল প্রতিযোগিতায় অংশগ্রহন করেছে\\n1251.jpg বরফের উপর ছেলে আইস ড্রাইভ রেস  করছে \\n1252.jpg শার্ট পরা লোকটি অনেক দ্রুত হেঁটে যাচ্ছে \\n1253.jpg খালি গায়ের ছেলেটি সমুদ্রের পাশে দাঁড়িয়ে সমুদ্রের পানিতে ঢিল ছুঁড়ছে \\n1254.jpg কুকুরটি মেয়েটিকে ধরার জন্য বাগানে দৌড়াচ্ছে\\n1255.jpg বাচ্চাগুলো পার্কের উঁচু রাইডে উঠেছে \\n1256.jpg সমুদ্রের পাশে পাথরের উপর একটি ছেলে এক চাকা উঁচু করে সাইকেল চালাচ্ছে \\n1257.jpg ছেলেটি উঁচু নিচু জায়গায় স্কেট করছে \\n1258.jpg বড় বড় দালান কোঠার পাশে বাগানের পাশ ধিয়ে দুটি লোক হেঁটে যাচ্ছে \\n1259.jpg গোলাপি রঙের জ্যাকেট পরা মেয়েটি স্নেঞ্চুরি পাতা দিয়ে খেলছে \\n1260.jpg সমুদ্রের নীল পানিতে একটি মেয়ে সার্ফিং করছে \\n1261.jpg বাগানের ভেতরে একটি পানির ফুয়ারায়পানি পরছে \\n1262.jpg কালো রঙের গেঞ্জি পরা ছেলেটি স্কেট করছে \\n1263.jpg কুকুরটি উঁচু পাইপের উপর দিয়ে লাফ দিচ্ছে  \\n1264.jpg পাহারে ঘেরা বরফের উপর একজন স্কেট করছে \\n1265.jpg বয়স্ক লোকটি রাস্তার পাশে  দাঁড়িয়ে বাঁশি বাজাচ্ছে \\n1266.jpg জঙ্গলের পাশে পানির মধ্যে একটি কুকুর লাফাচ্ছে \\n1267.jpg পার্কের মাঠে ছেলেটি দৌড়াচ্ছে\\n1268.jpg বাচ্চাটি ঘাসের উপর পরে গিয়ে কান্না করছে \\n1269.jpg অনেক উঁচু জায়গায় সাইকেল নিয়ে উল্টো হয়ে লাফ দিচ্ছে \\n1270.jpg বাচ্চা ছেলেটি পানির উপর স্লিপ খাচ্ছে \\n1271.jpg মেয়েটি আকাশ পানে লাফ দিচ্ছে \\n1272.jpg বনের পাশে বরফের উপর একজন খেলছে \\n1273.jpg পানির উপর কালো কুকুরটি লাফাচ্ছে \\n1274.jpg বাচ্চা ছেলেটি সবুজ আপেল খাচ্ছে \\n1275.jpg অনেকগুলো লোক সবুজ মাঠে হকি খেলছে \\n1276.jpg রাস্তায় সমাবেশের  পিছু পিছু একজন হেঁটে যাচ্ছে \\n1277.jpg পানির উপর মেরিনের পাশে একটি কুকুর সাঁতার কাটছে \\n1278.jpg উঁচু পাহারের চুড়ায় একটি পরিবার বসে আছে \\n1279.jpg সবুজ বনে অনেকগুলো গাছ দেখা যাচ্ছে\\n1280.jpg মেয়েটি সুইমংপুলের ঘোলা পানিতে গোসল করছে \\n1281.jpg নব বিবাহিত দম্পতি আলোকসজ্জায় বসে খাবার খাচ্ছে \\n1282.jpg পাহারে ঘেরা নদীতে সাদা কালো রঙের একটি কুকুর ভাসছে \\n1283.jpg সৈনিক দল এক সাথে প্রতিযোগিতামূলক দৌড়াচ্ছে\\n1284.jpg কুকুরটি ঘাসের মাঠে উঁচু জায়গায় লাফাচ্ছে \\n1285.jpg অনেকগুলো চিত্র শিল্পী দেয়ালে চিত্র আঁকছে \\n1286.jpg একজন মুসলিম লোক একটি পার্কে ঘুরছে \\n1287.jpg ছোট চুলের একজন মহিলা রাস্তা দিয়ে যেতে যেতে খাচ্ছে \\n1288.jpg একজন লোক পাহারের খাদে নামছে \\n1289.jpg সবুজ প্যান্ট পরা মেয়েটি কাঠের বেঞ্চের উপর লাফাচ্ছে \\n1290.jpg দুইটি মেয়ে অবাক দৃষ্টিতে হতাস ভাবে সামনের কিছু দেখছে \\n1291.jpg জলপ্রপাতের পাশে একটি মেয়ে দাঁড়িয়ে আছে \\n1292.jpg পাথরের উপর এক দম্পতি হাস্যজ্জল মুখে বসে আছে \\n1293.jpg পানির উপরে সাদা রঙের বকটি মাছ ধরার চেষ্টা করছে \\n1294.jpg ঐতিজ্যবাহী জামা পরে তিনটি মেয়ে দাঁড়িয়ে আছে \\n1295.jpg উঁচু নিচু মাটির উপর অনেকজন মোটর সাইকেল রেসে খেলছে \\n1296.jpg সবুজ বনের মঝে তুপি পরা একটি ছেলে রশি ধরে এগিয়ে যাচ্ছে \\n1297.jpg পার্কের দোলনায় একটি ছেলে দুলছে \\n1298.jpg রাগবি খেলায় খেলোয়াড় বল নিয়ে কাড়াকাড়ি করছে \\n1299.jpg গাছের নিচে অনেক লোকের ভিড়ে চুল প্যাঁচানো একটি মেয়ে দাঁড়িয়ে আছে \\n1300.jpg সবুজ ঘাসের উপর একটি কুকুর মুখে পুতুল নিয়ে দৌড়াচ্ছে\\n1301.jpg খালি গায়ে একটি ছেলে অনেক গুলো সিঁড়ির উপর স্কেট করছে\\n1302.jpg হেলমেট পরা একটি ছেলে রাস্তায় বাচ্চাদের জড়ানো সাইকেল চালাতে যেয়ে পড়ে যাচ্ছে\\n1303.jpg হিজাব পড়া একটি মুসলিম মেয়ে মাথার উপর রোদ চশমা পড়ে দাঁড়িয়ে আছে \\n1304.jpg সাগরের পানির উপর কমলা ঠোঁটের একটি পানকৌড়ি পাখি উড়ে যাচ্ছে \\n1305.jpg লাল কালো ক্যাপ পড়া একটি ছেলে লাল রঙের সাইকেল চালাচ্ছে \\n1306.jpg লাল রঙের একটি ঘরের মদ্ধের একটি কুকুর ধোঁয়া ধরার চেষ্টা করছে \\n1307.jpg সবুজ বনের মধ্যে নীল হেলমেট পড়া একটি ছেলে সাইকেল চালাচ্ছে \\n1308.jpg একটি চশমা পড়া মেয়ের সাথে একটি মেয়ে হাসি মুখের দাঁড়িয়ে আছে \\n1309.jpg একটি মেয়ের সাথে চারটি ছেলে দাঁড়িয়ে আছে \\n1310.jpg একটি বাড়ির বারান্দায় গাছের পাশে নীল রঙের একটি পতাকা ঝুলানো আছে \\n1311.jpg একটি ছেলে হাত ছেড়ে উঁচু জায়গায় সাইকেল নিয়ে লাফাচ্ছে \\n1312.jpg নীল পানিতে লাল রঙের একটি স্পিড বোর্ড দ্রুত যাচ্ছে \\n1313.jpg সাদা প্যান্ট পড়া একটি ছেলে গানের কনসার্টে কমলা রঙের গিটার বাজাচ্ছে \\n1314.jpg খোলা মাঠে অনেক গুলো কুকুর প্রতিযোগিতায় দৌড়াচ্ছে \\n1315.jpg দেয়ালের উপর একটি লোক উল্টো হয়ে সাইকেল চালাচ্ছে \\n1316.jpg সবুজ মাঠে অনেক গুলো ছেলে ফুটবল খেলছে \\n1317.jpg  অনেকগুলো ছেলে খালি গায়ে মাঠে দৌড়াচ্ছে \\n1318.jpg সমুদ্রের নীল পানিতে ঢেউয়ের উপর কালো জার্সি পড়ে একজন ওয়াটার স্কেট করছে \\n1319.jpg সবুজ গাছের পাশে কালো চশমা পড়া একটি মেয়ে দাঁড়িয়ে ভায়লেন বাজাচ্ছে \\n1320.jpg সবুজ ঘাসের মাঠে একটি কুকুর রশি ধরে টানছে \\n1321.jpg সুইমিং পুলের পানিতে তিনজন লাফাচ্ছে \\n1322.jpg একটি বাচ্চা ছেলে পার্কের খেলনা ঘোড়ায় বসে খেলছে \\n1323.jpg বাহারি রঙের গাড়ি গুলো সারিবদ্ধ ভাবে সাজানো আছে \\n1324.jpg অনেক গুলো গাড়ির মাঝে একটি ছেলে একটি মেয়ের হাত ধরে হেটে যাচ্ছে \\n1325.jpg ঘাসের উপর একটি কুকুর পানি নিয়ে খেলছে \\n1326.jpg সাদা কাপড় পড়ে দুইজন জুডো খেলছে \\n1327.jpg বনের পাশে মাঠে একজন মোটর সাইকেলের পিছে বর একটি বেলুন উরাচ্ছে\\n1328.jpg সারিবব্ধ ভাবে রাস্তায় হেলমেট পড়া অনেকজন সাইকেল চালাচ্ছে \\n1329.jpg সিঁড়ির পাশে র\\u200d্যালিং এর উপর একটি ছেলে সাইকেল চালাচ্ছে \\n1330.jpg সবুজ ঘাসের পাশে এক দম্পতি রাস্তায় চেয়ারে বসে আছে \\n1331.jpg একটি খেলার মাঠে অনেকগুলো খেলোয়াড় বেসবল খেলছে \\n1332.jpg সবুজ মাঠে দুইটি কুকুর মারামারি করছে \\n1333.jpg একজন বয়স্ক লোক সবুজ ব্যানারের সামনে দারিয়ে আছে\\n1334.jpg একজন মহিলা জানালার পাশে বারান্দায় বসে বই পড়ছে \\n1335.jpg খোলা সবুজ মাঠে চারটি কুকুর খেলছে\\n1336.jpg একটি ছেলে ছুরি হাতে খেলা দেখাচ্ছে এবং অন্যজন দাঁড়িয়ে দেখছে \\n1337.jpg খোলা আকাশ পানে একজন একটি বাচ্চাকে উঁচু করে আছে \\n1338.jpg দুইটি ছেলে জুডো খেলায় তুমুল ভাবে লড়াই করছে \\n1339.jpg সাদা চুলের একটি মেয়ে রোদ চশমা হাতে হেটে যাচ্ছে \\n1340.jpg খালি গায়ে একটি ছেলে উঁচু জায়গায় লাফালাফি করছে \\n1341.jpg গ্রন্থাগারের সামনে একটি ছেলে এবং একটি ছেলে দাঁড়িয়ে আছে \\n1342.jpg উঁচু জায়গা থেকে একটি ছেলে লাফ দিচ্ছে \\n1343.jpg শিশু কোলে একজন বসে আছে এবং বাচ্চাটি কেক এর উপর জ্বলা মোমবাতি দেখছে \\n1344.jpg শহরের একটি পার্কে গাছের পাশে একটি ছেলে খেলছে \\n1345.jpg একটি বাড়ির বন্ধ দরজার সামনে বসে একজন বই পড়ছে \\n1346.jpg সমুদ্রের পাশে কালো রঙের গেঞ্জি পড়া একটি লোক বাচ্চার সাথে খেলছে \\n1347.jpg সমুদ্রের পাড়ে বালির উপর তাবুর পাশে বসে একটি বাচ্চা মেয়ে খেলছে \\n1348.jpg সবুজ ঘাসের উপর খেলনা গাড়িতে বসে একটি মেয়ে খেলছে \\n1349.jpg লাল টুপি পড়া একটি বাচ্চা ট্রলির ভেতর বসে আছে \\n1350.jpg ঐতিয্যবাহী পোশাক পড়ে অনেক গুলো বাচ্চা সমাবেশ করছে \\n1351.jpg দুইটি ছেলে খাটের উপর বসে খেলতে খেলতে হাসছে \\n1352.jpg পালকের তৈরি পোশাক পড়ে একটি লোক রাস্তায় হাঁটছে \\n1353.jpg পাহাড়ের উপর গাছের পাশে দুইটি বাচ্চা খেলা করছে \\n1354.jpg একটি মেয়ে পানির লেকে ঢিল ছুরছে  \\n1355.jpg নীল গেঞ্জি পড়া একটি ছেলে বসে গাছের পাতা দেখছে\\n1356.jpg রাস্তার পাশে লাল হলুদ রঙের খেলনা গাড়িতে একটি ছেলে খেলছে \\n1357.jpg নীল পানির পাশে সবুজ মাঠে একটি ছেলে বেসবল খেলার ব্যাটে কপাল ঠেকিয়ে দাঁড়িয়ে আছে \\n1358.jpg গোলাপি জামা পড়া একটি মেয়ে রেস্তরাঁয় বসে খাবারের দিয়ে অবাক ভাবে তাকিয়ে আছে \\n1359.jpg সবুজ রঙের গেঞ্জি পড়া একটি ছেলে খেলছে \\n1360.jpg সবুজ রঙের জার্সি পরা একটি ছেলে বেসবলের বল ছুরে মারছে\\n1361.jpg একজন বরফের পাহাড় বেয়ে উপরে উঠছে \\n1362.jpg সমুদ্রের পাশে বালিতে তিনজন ডিকবাজি দিচ্ছে \\n1363.jpg পার্কে একটি বাচ্চা অবাক হয়ে তাকিয়ে আছে \\n1364.jpg একটি বাচ্চা মিষ্টি কুমড়ার মত ব্যানারে মাথা ঢুকিয়ে আছে \\n1365.jpg একটি বাচ্চা চামচ দিয়ে খাওয়ার সময় সামনের দিকে তাকিয়ে আছে \\n1366.jpg সবুজ স্লিপারের সামনে একটি বাচ্চা পানির মাঝে খেলছে \\n1367.jpg পাহারে ঘেরা পানির লেকে একটি মেয়ে নাক বন্ধ করে লাফ দিচ্ছে \\n1368.jpg সবুজ মাঠে একটি ছেলে পাইপের পানি দিয়ে খেলছে \\n1369.jpg দালানের পাশে কালো চশমা পড়া একটি ছেলে পাইপ ধরে ঝুলছে \\n1370.jpg ফুলের বাগানে একটি মেয়ে ফুল হাতে বসে আছে তার পেছনে একটি ছেলে একজনের সাথে দাঁড়িয়ে আছে \\n1371.jpg সবুজ জামা পড়া একটি বাচ্চা মেয়ে পানির ফুয়ারায় ভিজছে \\n1372.jpg সবুজ ঘাসের মাঠে কমলা জামা পরা একটি বাচ্চা মেয়ে পানি দিয়ে খেলছে \\n1373.jpg সমুদ্রের পাশে কাঠের তৈরি সাঁকোর পাশে অনেক গুলো নৌকা দেখা যাচ্ছে \\n1374.jpg তিনটি কুকুর ছানা মাটিতে বসে খাবার খাচ্ছে \\n1375.jpg খেলোয়াড় ধুলা উরিয়ে রাগবি খেলছে\\n1376.jpg অনেকগুলো ছেলে মেয়ে রাস্তা দিয়ে হাদি মুখে হেটে যাচ্ছে \\n1377.jpg খেলার মাঠে ঘোড়া দৌড় প্রতিযোগিতা হচ্ছে \\n1378.jpg একটি ছেলে খালি গায়ে নাচচে \\n1379.jpg হেলমেট পরা একটি লোক বেসবল খেলার ব্যাট হাতে বলে মারার জন্য চেষ্টা করছে \\n1380.jpg সমুদ্রের পানিতে একটি কুকুর ভিজে ভিজে দৌড়াচ্ছে \\n1381.jpg রাস্তার পাশে বড় চুলে একটি লোক হেটে যাচ্ছে অন্যজন তা দাঁড়িয়ে দেখছে\\n1382.jpg অনেক মানুষের ভিড়ে হাতা কাটা গেঞ্জি পড়ে একটি ছেলে দাঁড়িয়ে আছে \\n1383.jpg অনেক মানুষের ভিড়ে সাদা গেঞ্জি পরা লোকটি লাঠি হাতে দাঁড়িয়ে আছে \\n1384.jpg বক্সিং খেলায় মেয়েটি তার প্রতিদ্বন্দ্বী খেলোয়াড়ের মাথায় আঘাত করছে \\n1385.jpg অনেক মানুষের ভিড়ে সবুজ গেঞ্জি পরা একটি মহিলা মাথায় চশমা পড়ে দাঁড়িয়ে আছে \\n1386.jpg মাথায় লাল কালো ক্যাপ পড়ে একটি লোক দাঁড়িয়ে আছে \\n1387.jpg ফুলের বাগানের পাশে বাচ্চা মেয়েটি সাথে দুইজন মহিলা দাঁড়িয়ে আছে \\n1388.jpg মুখে রুমাল বাঁধা একটি ছেলে পানির পাম্পের উপর লাফিয়ে স্কেট করছে\\n1389.jpg সবুজ মাঠে তিনটি কুকুর খেলছে \\n1390.jpg সুইমিং পুলে একটি মেয়ে লাফ দিচ্ছে ছেলেটি দাঁড়িয়ে আছে \\n1391.jpg সবুজ গাছ ঘেরা রাস্তায় এক দম্পতি হাত ধরে হেটে যাচ্ছে\\n1392.jpg নীল গেঞ্জি পরা একটি ছেলে পার্কের দোলনায় খেলছে \\n1393.jpg ডি জে পার্টিতে একজন মেয়ে ডি জে মাইকেল জ্যাকসনের ছবি দেখাচ্ছে \\n1394.jpg জুডো খেলায় এক খেলোয়াড় অন্য খেলোয়াড়ের মাথায় লাঠি মারছে \\n1395.jpg গাড়ির পাশে বড় একটি কুকুরের সাথে দুইটি বাচ্চা মেয়ে খেলছে \\n1396.jpg সবুজ মাঠে একটি ছেলে দুইটি বল দিয়ে খেলছে \\n1397.jpg সবুজ মাঠে অনেকজনের মাঝে একজন নাচছে \\n1398.jpg সবুজ মাঠে অনেকে দাঁড়িয়ে এবং বসে আড্ডা দিচ্ছে \\n1399.jpg হলুদ বাড়ির পাশে একটি দোকানে একজন লোক উকি দিচ্ছে \\n1400.jpg ঘাসের মাঠে একটি বিড়াল গড়াগড়ি দিয়ে খেলছে \\n1401.jpg সবুজ বিস্তর মাঠে একজন একা সাইকেল চালিয়ে যাচ্ছে \\n1402.jpg দুইটি প্রাপ্ত বয়স্ক ছেলে মেয়ে একে অপরের ঠোঁটে চুমু দিচ্ছে\\n1403.jpg একটি ছেলে পানি শুন্য পুলের উপর স্কেট করছে \\n1404.jpg ফুলের বাগানে একটি ফুটফুটে মেয়ে দাঁড়িয়ে আছে \\n1405.jpg একটি বাচ্চা সাদা কাপড়ের উপর রঙ করছে \\n1406.jpg গাছের পাশে কালো চশমা পরা দুইটি মেয়ে পানীয় খাচ্ছে \\n1407.jpg পানির পাশে দুইটি ছেলে সাইকেল চালাচ্ছে একজন লাফ দিচ্ছে \\n1408.jpg জুডো খেলায় একজন খেলোয়াড় অন্যজনকে আঘাত করছে \\n1409.jpg ঘাসের উপর সারি সারি লাইট সাজানো আছে একটি বাচ্চা মেয়ে তা বসে দেখছে \\n1410.jpg একটি ঘরের মধ্যে তিনটি মেয়ে খেলছে \\n1411.jpg ফ্যাশান শো এর র\\u200d্যাম্পে দুইটি বাচ্চা হাঁটছে \\n1412.jpg বিশাল বরফের পাশে একটি বড় কুকুর দাঁড়িয়ে আছে \\n1413.jpg একটি রুমের মধ্যে একটি মেয়ে বিছানার উপর লাফাচ্ছে \\n1414.jpg একটি রুমের মধ্যে দুইটি মেয়ে পাঞ্জা লরছে \\n1415.jpg পাহাড়ি পথে কালো বেলুন হাতে অনেকে হেটে যাচ্ছে \\n1416.jpg সবুজ মাঠে একটি বাচ্চা মেয়ে নীল বলে লাথি মারার চেষ্টা করছে \\n1417.jpg একটি নাচের অনুষ্ঠানে অনেকে বিভিন্ন রঙের জামা পড়ে নাচছে \\n1418.jpg ঘাসের মাঠে শুয়ে একজন বই পড়ছে \\n1419.jpg কাঠের দেয়ালের পাশে দুইটি কুকুর খেলছে \\n1420.jpg বিশাল দেয়ালের পাশে একজন মহিলা দাঁড়িয়ে থেকে বই পড়ছে \\n1421.jpg মাঠে একজন অনেক দ্রুত মোটর সাইকেল চালাচ্ছে দর্শক তা দেখছে \\n1422.jpg পাহাড়ের পাশে সবুজ মাঠে অনেকজন মিলে বন ভোজন করছে \\n1423.jpg একটি ছেলে দ্রুত সাইকেল চালাতে চালাতে পানি খাচ্ছে \\n1424.jpg সবুজ মাঠে একজন মহিলা কুকুর কোলে দাঁড়িয়ে দাঁড়িয়ে নিচে থাকা কুকুরকে দেখছে \\n1425.jpg সমুদ্রের পানির উপরে একজন স্কাই ড্রাইভ করছে \\n1426.jpg কালো গেঞ্জি পরা একজন দেয়ালের উপর স্কেট করছে\\n1427.jpg একটি বাচ্চা মেয়ে খোলা চুলে দোলনায় দুলছে \\n1428.jpg উঁচু নিচু মাঠে লাল জার্সি পরা একজন খেলোয়াড় মোটর সাইকেল চালাচ্ছে \\n1429.jpg গাছে ঘেরা মাঠে দুইটি বাচ্চা পানিতে খেলছে \\n1430.jpg একটি অনুষ্ঠানে দুইটি বাচ্চা মেয়ে খাবার খাচ্ছে \\n1431.jpg একটি বেঞ্চে দুইজন লকের সাথে  একটি মহিলা বসে আছে  \\n1432.jpg অনেক গাছে ঘেরা জায়গায় অনেক গুলো লোক বসে আছে  \\n1433.jpg সমুদ্রের পানিতে একজন লোক ওয়াটার ড্রাইভ করছে \\n1434.jpg সমুদ্রের পানিতে স্পিড বোর্ডে অনেক জন যাচ্ছে \\n1435.jpg সিঁড়ির পাশে একটি ছেলে স্কেট করছে \\n1436.jpg একটি গানের অনুষ্ঠানে সাদা গেঞ্জি পরা একটি মেয়ে নাচছে \\n1437.jpg খেলার মাঠে একজন খেল্যার অন্যজনের সাথে মারামারি করছে \\n1438.jpg খালি গায়ে একটি ছেলে পানিতে লাফ দিচ্ছে \\n1439.jpg পাহাড়ি রাস্তায় একজন লোক মোটর সাইকেল চালাচ্ছে \\n1440.jpg সবুজ মাঠের একটি পার্কে একটি বাচ্চা মেয়ে দোলনায় বসে আছে \\n1441.jpg অলিম্পিক খেলায় এক জন খেলোয়াড় দুইটি সোনার পদক অর্জন করেছে \\n1442.jpg রাগবি খেলায় একজন খেলোয়াড় বল হাতে দৌড়াতে দৌড়াতে পড়ে গিয়েছে \\n1443.jpg সমুদ্রের পানিতে অনেক লোকের সাথে খালি গায়ে একটি বাচ্চা খেলছে \\n1444.jpg খালি জায়গায় একজন মহিলার সাথে একটি বাচ্চা দোনলায় দুলছে \\n1445.jpg একটি বাচ্চা ছেলে মোটর সাইকেল রেস খেলছে \\n1446.jpg ছোট একটি বাচ্চা নীল টুপি পড়ে পানিতে খেলছে \\n1447.jpg চারজন রাস্তায় হেটে যাচ্ছে একজন ফোনে কথা বলছে \\n1448.jpg কালো গোলাপি জামা পরা একটি মেয়ে বেলুন হাতে খেলছে \\n1449.jpg একটি কুকুর ভেড়ার পালের পিছু দৌড়াচ্ছে \\n1450.jpg বেসবল খেলায় একটি ছেলে বল ছুড়ে মারছে \\n1451.jpg গাছের পাশে দুইটি কুকুর মারামারি করছে \\n1452.jpg হেলমেট পরা একটি মেয়েকে সাদা গেঞ্জি পরা একটি মেয়ে জরিয়ে ধরে আছে \\n1453.jpg উঁচু জায়গা থেকে হেলমেট পরা একজন সাইকেল নিয়ে লাফ দিচ্ছে \\n1454.jpg একটি লোক লাঠির সাহায্যে উঁচু জায়গায় লাফ দিচ্ছে \\n1455.jpg একটি পার্কে পাঁচটি বাচ্চা রাইডে খেলছে \\n1456.jpg অনেক উঁচু জায়গা থেকে একজন স্কেট নিয়ে লাফ দিচ্ছে \\n1457.jpg একটি রুমে অনেকে বসে অপেক্ষা করছে \\n1458.jpg ঢালু জায়গা থেকে একজন সাইকেল নিয়ে লাফ দিচ্ছে \\n1459.jpg একটি কালো কুকুর উঁচু লাঠির উপর লাফ দিয়ে পার হচ্ছে \\n1460.jpg তিনজন বসে আছে এর মাঝে দুইজন চশমা পরে তাকিয়ে আছে \\n1461.jpg সাদা কালো স্যুট পড়ে দুইজন দাঁড়িয়ে আছে \\n1462.jpg খালি জায়গায় একজন বসে আছে এবং একটি মেয়ে দাঁড়িয়ে বই পড়ছে \\n1463.jpg পার্কে একটি বাচ্চা কালো গেঞ্জি পড়ে খেলছে\\n1464.jpg পার্কে বসে বাচ্চা মেয়েটি খোলা চুলের মেয়ের মাথায় রঙ্গিন কাগজের টুকরা দিচ্ছে \\n1465.jpg ফুটফুটে বাচ্চা ছেলেটি আঙ্গুল দিয়ে সামনের দিকে ইশারা করছে \\n1466.jpg উঁচু সিঁড়ির পাশে একজন স্কেট করছে অনেকে বসে দেখছে \\n1467.jpg একটি হেলিকপ্টারে আগুন লেগে ধোঁয়া উড়ছে \\n1468.jpg ভাস্কর্যের পাশে বসে দুইটি মেয়ে ছবি তুলছে \\n1469.jpg বাচ্চা ছেলেটি বসে তার খেলনা দিয়ে খেলাছে \\n1470.jpg ছেলেটি সাইকেল দিয়ে লাফিয়ে লাফিয়ে সিড়ি পার করছে  \\n1471.jpg খালি গায়ে ছেলেটি পানিতে লাফ দিচ্ছে \\n1472.jpg সবুজ মাঠে একটি ঘোড়া পাগলের মত লাফাচ্ছে \\n1473.jpg বাগানের পাশে একজন সাইকেল নিয়ে লাফ দিচ্ছে \\n1474.jpg শ্রমিক হেলিপ্যাডের উপর পরিষ্কার করছে \\n1475.jpg টিনের বানানো একটি দোকানে বিভিন্ন ব্যানার ঝুলছে \\n1476.jpg দোকানের সামনের রাস্তার পাশে একটি মালবাহী ট্রাক রাখা আছে \\n1477.jpg একটি বিদ্যালয়ের সামনে একটি রিকশা অপেক্ষা করছে \\n1478.jpg টিনের বানানো একটি দোকান ঘরে প্লাস্টিকের পণ্য সাজানো আছে \\n1479.jpg একটি পার্কে যন্ত্র চালিত অনেক গুলো দোলনা দেখা যাচ্ছে \\n1480.jpg রেললাইনে দুইটি রেলগাড়ি অপেক্ষা করছে \\n1481.jpg হিন্দু ধর্ম অনুসারীদের মাটির তৈরি পূজার মূর্তি \\n1482.jpg একটি কুকুর দৌড়াচ্ছে অনেকে তা দেখছে \\n1483.jpg খেলোয়াড় মাঠে বাস্কেট বল খেলছে \\n1484.jpg সমুদ্রের পাশে একটি লোক পাহাড়ের উপর দাঁড়িয়ে আছে \\n1485.jpg টুপি পরা একটি লোক ক্যামেরা হাতে দাঁড়িয়ে আছে \\n1486.jpg পানির নিচে ডুবুরি কিছু খুজছে \\n1487.jpg খালি গায়ে একটি ছেলে স্কেট করছে \\n1488.jpg উঁচু দেয়ালের উপর একটি মেয়ে একা বসে আছে \\n1489.jpg চারটি বাচ্চা একটি লাঠি ধরে ঘুরে ঘুরে খেলছে \\n1490.jpg একটি কুকুর একটি বল ধরার চেষ্টা করছে \\n1491.jpg যানবাহনে বসে একজন যাত্রী ঘুমাচ্ছে \\n1492.jpg দুইটি কুকুর একে অপরের সাথে মারামারি করছে \\n1493.jpg একটি বাচ্চা পানির উপরে লাফাচ্ছে \\n1494.jpg একটি রাস্তায় গাছের পাশে দিয়ে অনেকে হেটে যাচ্ছে \\n1495.jpg কালো চশমা পরা একটি লোক হাসছে তার চশমায় প্রতিফলন দেখা যাচ্ছে \\n1496.jpg গাছের পাশে লেকে একটি মেয়ে লাফ দিচ্ছে \\n1497.jpg লাল রঙের টেলিফোন বুথের পাশ দিয়ে একটি লোক হাতে পণ্য দিয়ে হেটে যাচ্ছে \\n1498.jpg মাঠে দুইটি ছেলে কিছু নিয়ে হেটে যাচ্ছে \\n1499.jpg একটি ছেলে সাবানের ফেনা দিয়ে খেলছে \\n1500.jpg একটি বাচ্চা সবুজ মাঠে পানি দিয়ে খেলছে\\n1502.jpg ছোট মেয়েটি নীল আকাশের নিচে সবুজ ঘাস আর রঙিন ফুলের মাঝে দৌড়াচ্ছে \\n1503.jpg সারি সারি করে খেলনা ঘোড়া গুলোর একটির উপর বাচ্চাটি বসে আছে\\n1504.jpg জঙ্গলের সামনে পাশে একটি কুকুর নিয়ে লাল সাইকেলের উপর লাল জামা আর কালো ক্যাপ পড়ে মেয়েটি দাড়িয়ে আছে\\n1505.jpg ঘাসযুক্ত সবুজ মাঠে একটি মহিলা ও একটি পুরুষ কুকুর দুটির গলায় বাধা রশি ধরে টেনে নিয়ে যাচ্ছে \\n1506.jpg সাদা মেঘে ঢাকা নীল আকাশের নিচে সমুদ্রের তীরে অনেক মানুষ দাঁড়িয়ে, বসে আছে আর পাশেই একটি বিল্ডিং রয়েছে \\n1507.jpg বরফে ঢাকা পাহাড়ের উপর দুটি লোক হাটুগেড়ে বসে হাত উঁচু করে রেখেছে \\n1508.jpg বড় গাছের সামনে পাহাড়ের পাথরের উপর লোকটি জীপ গাড়ি উঠিয়ে দিচ্ছে \\n1509.jpg মেঠোপথ ধরে সাইকেল প্রতিযোগিতা চলছে \\n1510.jpg উপর থেকে একটি রশি ধরে লোকটি পানির উপর ঝুলছে\\n1511.jpg পাহাড় বেয়ে লোকটি উপরে উঠছে\\n1512.jpg জীপগাড়ির পাশে বৃদ্ধ লোকটি দাঁড়িয়ে আছে\\n1513.jpg রাস্তায় একটি মেয়ের পাশে ছোট্ট বাচ্চাটি দুহাত মেলে দাঁড়িয়ে আছে\\n1514.jpg লোকটি সাইকেলের উপর বসা ছোট মেয়েটিকে ধরে রেখেছে \\n1515.jpg একটি লোক ও একটি ছোট মেয়ে বসে খাচ্ছে \\n1516.jpg লোকটি বাচ্চা মেয়েটাকে খাইয়ে দিচ্ছে \\n1517.jpg বৃদ্ধ লোকটি কাঠের প্লেটে হাত দিয়ে দাড়িয়ে আছে\\n1518.jpg পানির উপর ছোট ছেলেটি হাটছে\\n1519.jpg মহিলাটির পাশে দাঁড়ানো ছোট কুকুরটি বড় কুকুরের দিকে তাকিয়ে আছে\\n1520.jpg বিশাল পাথুরে পাহাড় \\n1521.jpg দুজন মানুষ বাবলস ফোলাচ্ছে\\n1522.jpg সবুজ মাঠের উপর দুটি বাচ্চা ফুটবল খেলছে \\n1523.jpg কাপড়ে ঢাকা একটি জায়গায় লোকটি গোসল করছে\\n1524.jpg পিচ ঢালা রাস্তায় দুজন মানুষ হেলমেট পড়ে সাইকেল চালাচ্ছে \\n1525.jpg তিনজন লোক পানিতে ডুব দিচ্ছে \\n1526.jpg লোকটি রাস্তায় আধশোয়া হয়ে পড়ে আছে\\n1527.jpg সবুজ ঘাসের উপর কুকুরটি হাটছে\\n1529.jpg একটি ছেলে মাটি থেকে উপর উঠে লাফ দিচ্ছে আর সামনের ছেলেটা দেখছে \\n1530.jpg কাদাপানিতে জীপ গাড়িটির অর্ধেক ডুবে গেছে\\n1531.jpg  ছেলেটির গায়ে পানি পড়ছে আর ছেলেটি বিরক্ত হয়ে তার ভাব প্রকাশ করছে\\n1532.jpg মেয়েটি পাহাড়ে উঠছে\\n1533.jpg কাদার মধ্যে দিয়ে জীপগাড়িটি চলছে \\n1534.jpg পানিতে দুটি স্পীডবোট চলছে \\n1535.jpg কাদাপানির মধ্যেই গাড়িটি চলছে \\n1536.jpg সুইমিংপুলের পানিতে ছেলেটা লাফ দিচ্ছে \\n1537.jpg কুকুরটি লাফ দিয়ে মাটি থেকে উপরে উঠে গেছে\\n1538.jpg কুকুরটি বল দিয়ে খেলছে \\n1539.jpg কুয়াশার মধ্যে দুটি লোক নৌকার উপর বসে আছে\\n1540.jpg তীরে রাখা ডিঙি নৌকাটির উপর লোকটি বসে আছে \\n1541.jpg ঝিলের পানিতে লোকটি নৌকা চালাচ্ছে \\n1542.jpg পাহাড়ের মাঝে বয়ে চলা নদীতে মানুষ গুলো দাড়িয়ে আছে\\n1543.jpg ঝর্ণার পানির মধ্যে দিয়ে একটি মেয়ে  হাটছে এবং আরেকটি মেয়ে বসে আছে\\n1544.jpg সবুজ ঘাসের উপর একটি ছোট ছেলে দৌড়াচ্ছে আর পিছনে একটি কুকুর প্লেট মুখে নিয়ে ছেলেটির পিছনে দৌড়াচ্ছে \\n1546.jpg স্তুপ করে রাখা তরমুজের কাছে ছোট মেয়েটি ঝুকে আছে\\n1547.jpg টাক মাথাওয়ালা দুজন মানুষ জন্মদিনের টুপি পড়ে বসে আছে\\n1548.jpg পড়ন্ত বিকেলে সূর্যের আলো নদীর পানিতে পরছে আর নদীতে নৌকায় করে তিনজন মানুষ যাচ্ছে \\n1549.jpg সূর্যের আলো বরফে ঢাকা পাহাড়ের উপর পড়ছে এবং পাহাড়ে একটি লোক দাড়িয়ে আছে\\n1550.jpg পানির ফোয়ারার সামনে একটি ছোট মেয়ে দাড়িয়ে আছে\\n1551.jpg বরফ গলা পানির মধ্যে দিয়ে কুকুরটা হাটছে\\n1552.jpg কুকুরটা ফুটবল দিয়ে খেলছে\\n1553.jpg পাহাড়ি রাস্তায় সারি সারি জীপ গাড়ি দাড় করানো\\n1554.jpg সুইমিংপুলের পানি থেকে  দুটি ডলফিন লাফিয়ে উপরে উঠেছে \\n1555.jpg সমুদ্রের পানিতে একটি কুকুর হাটছে\\n1556.jpg সমুদ্রের ভিতর থেকে সবুজ মাছটি উপরে উঠে গেছে\\n1558.jpg কুকুরটি ঘাসের উপর শুয়ে আছে\\n1559.jpg ছেলেটা সসার খেলছে \\n1560.jpg ছেলেটা একটি কুকুর নিয়ে নদীতে  নৌকা চালাচ্ছে \\n1561.jpg ছেলেটা স্কেটিং করছে\\n1562.jpg সবুজ ঘাসের উপর কুকুরটা দৌড়াচ্ছে \\n1563.jpg লোকটি টেবিল টেনিসের ব্যাট হাতে সমুদ্রের তীরে দাড়িয়ে আছে\\n1564.jpg চেয়ারে বসা মেয়েটির পা ধরে আছে লোকটি \\n1565.jpg রশি বেয়ে ছেলেটা পাহাড়ে উঠছে\\n1566.jpg কালো কুকুরটি তার বাচ্চাগিলো জড়িয়ে ধরে বসে আছে\\n1568.jpg পড়ন্ত বিকেলে লোকটি নদীতে নৌকা চালাচ্ছে \\n1569.jpg জঙ্গলের মধ্যে একটি গাছের গুড়ির উপর মেয়েটা অন্য দিকে তাকিয়ে বসে আছে\\n1570.jpg টিস্যু কাগজ দিয়ে বাচ্চা গুলো সবুজ মাঠে খেলছে \\n1572.jpg পুলিশটি কুকুরটাকে নিয়ে হাটছে\\n1573.jpg জঙ্গলের মাঝে লোকটি হাফ প্যান্ট পরে কাঁধে ব্যাগ নিয়ে দাড়িয়ে আছে\\n1574.jpg তিনটি বাচ্চা ছাতা মাথায় রাস্তায় দাড়িয়ে আছে\\n1575.jpg সবুজ ঘাসের উপর কুকুরের বাচ্চাটি দৌড়াচ্ছে \\n1576.jpg মুখে কাঠের টুকরো নিয়ে কুকুরটি পানিতে দাঁড়িয়ে আছে\\n1578.jpg রেফারি হেডফোন হাতে নিয়ে দাড়িয়ে আছে\\n1580.jpg রেফারি কানে হেডফোন লাগিয়ে খেলা দেখছে\\n1581.jpg খেলোয়াড়রা নিজেদের মধ্যে কথা বলছে আর পিছনে দর্শকরা দাঁড়িয়ে আছে \\n1582.jpg কয়েকজন খেলোয়াড় মিলে একজনকে জাপটে ধরেছে\\n1583.jpg একজন খেলোয়াড় অন্য জনকে ফেলে দিচ্ছে \\n1584.jpg খেলোয়াড় ও রেফারি নিজেদের মধ্যে কথা বলছে\\n1585.jpg একটি লোকের পায়ের উপর একটি মেয়ে বসে আছে\\n1586.jpg অসুস্থ খেলোয়াড়টিকে সুস্থ করার চেষ্টা চলছে\\n1587.jpg এক খেলোয়াড় অন্য জনকে আটকানোর জন্য কোমর ধরে রেখেছে \\t\\n1589.jpg একজন খেলোয়াড় অন্য দুজনের উপর উঠে গেছে \\n1590.jpg বাচ্চা মেয়ে দুটি তাকিয়ে আছে\\n1591.jpg দুই পা ছড়িয়ে খেলোয়াড়রা ব্যায়াম করছে\\n1592.jpg খেলোয়াড়েরা মাঠে বসে আছে\\n1593.jpg ব্যাগ কাধে নিয়ে ছেলেটি হাটছে\\n1594.jpg বরফের উপর কুকুরটা শুয়ে আছে\\n1595.jpg সুইমিংপুলে কয়েকটি কুকুর ও মানুষ ভিজছে\\n1596.jpg একটি কাপড়ের টুকরো নিয়ে দুটি কুকুর টানাটানি করছে\\n1597.jpg মেয়েটি বড়শি দিয়ে ধরা মাছটি দেখাচ্ছে \\n1599.jpg বাচ্চাটি কুকুরটির সাথে খেলছে\\n1600.jpg কাঠের পাটাতনের উপর মেয়েটি কাপড় দিয়ে মুখ ঢেকে শুয়ে আছে\\n1601.jpg বাচ্চা মেয়েটা ঘাসের উপর উপুড় হয়ে শুয়ে আছে\\n1602.jpg সবুজ মাঠে বাচ্চারা ব্যাডমিন্টন খেলছে\\n1603.jpg পাহাড়ের পাথরের উপর একটি লোক বসে আছে এবং পাশেই একটি মহিলা দাড়িয়ে আছে\\n1604.jpg ফুটপাতে বসে বাচ্চা দুটি ভুট্টা খাচ্ছে \\n1605.jpg পানির উপর রাখা গাছের উপর কুকুরটা হাটছে\\n1606.jpg বিশাল বড় শ্যাওলা ধরা পাথরের নিচে লোকটি আধশোয়া হয়ে আছে\\n1607.jpg পানির উপর কালো কুকুরটা দৌড়াচ্ছে \\n1608.jpg পাহাড়ের উপর মেয়েটি পা ঝুলিয়ে বসে আছে\\n1609.jpg সবুজ মাঠে কালো কুকুরটি ফুটবল দিয়ে খেলছে \\n1610.jpg একটি লোক ভুট্টা হাতে ধরে পাশের মেয়েটির দিকে তাকিয়ে আছে এবং তাদের পিছনে অনেক মানুষ দাঁড়িয়ে আছে\\n1611.jpg বালির উপর দাড়ানো সাদা কুকুরটা টেনিস বলটিকে কামড়ে ধরতে চাচ্ছে \\n1612.jpg মাঠে তিনটি ভেড়া ও দূরে একটি কুকুর দাড়িয়ে আছে \\n1613.jpg সমুদ্রের পাড়ে কালো কুকুরটা হাটছে\\n1615.jpg লোকটি অনেকগুলো ভুট্টা ভাজছে বিক্রির উদ্দেশ্যে\\n1616.jpg কালো কুকুরটা একটি বল মুখে কামড়ে ধরে আছে\\n1617.jpg ব্যাগ কাঁধে দুটি ছেলেমেয়ে হাটছে এবং ছেলেটা একটি সাদা কুকুর দড়ির সাহায্যে ধরে আছে \\n1618.jpg দুটি কুকুর জিহবা বের করে দৌড়াচ্ছে \\n1619.jpg হুইলচেয়ারে বসা বৃদ্ধ লোকটিকে একটি বৃদ্ধ মহিলা নিয়ে যাচ্ছে \\n1620.jpg সবুজ ঘাসে ঢাকা মাঠে একটি লোক খালি পায়ে হাফ প্যান্ট ও  জার্সি পরে হাটছে\\n1621.jpg মুখে লাঠির টুকরো নিয়ে কুকুরটি পানিতে দৌড়াচ্ছে এবং ওটার পিছনে আরেকটা কুকুর লাঠি ধরার জন্য দৌড়াচ্ছে \\n1622.jpg স্যুট টাই পরা লোকটি মন খারাপ করে বসে আছে \\n1623.jpg সমুদ্রের পাড়ে বালির উপর একটি মেয়ে হাটছে \\n1624.jpg মেয়েটি গাছের ডালে উল্টো হয়ে ঝুলে আছে \\n1625.jpg বড় বড় ঘাসের মাঝে গাছের এক টুকরো গুড়ির উপর ব্যাগ কাঁধে নিয়ে লোকটি বসে আছে\\n1627.jpg পানির মধ্যে একটি কুকুর দাড়িয়ে আছে\\n1628.jpg গলার মালা হাতে ধরে মেয়েটা অন্য দিকে তাকিয়ে আছে\\n1629.jpg বরফে ঢাকা পাহাড়ের উপর লোকটি দাড়িয়ে আছে\\n1630.jpg পাহাড়ের উপর একটি পাথরের উপর একটি ছেলে ও মেয়ে উল্টো ঘুরে বসে আছে\\n1631.jpg রাতের বেলা মাটি থেকে উপরে বাধা রশির উপর দিয়ে লোকটি হাটছে \\n1632.jpg পড়ন্ত বিকেলে আকাশে প্যারাসুট নিয়ে মানুষটা উড়ছে \\n1635.jpg সমুদ্রের সামনের বরফে ঢাকা পাহাড়ের উপর একটি লোক দাড়িয়ে আছে \\n1636.jpg কমলা রংয়ের ব্যাগ কামড়ে ধরে কালো কুকুরটা দৌড়াচ্ছে \\n1637.jpg খেলোয়াড়েরা মাঠে ফুটবল খেলছে \\n1638.jpg বরফে ঢাকা পাহাড়ের উপর রশি ধরে লোকটি দাড়িয়ে আছে\\n1639.jpg পাহাড়ের পাশে সমতল জায়গায় লোকটি ঘোড়ার উপর বসে আছে \\n1640.jpg জঙ্গলের মধ্যে কাদা ছিটিয়ে গাড়িটি চলছে \\n1644.jpg দুটি ছেলেমেয়ে সবুজ মাঠে ফুটবল খেলছে \\n1645.jpg বড় ঘাসের মাঝে বাচ্চাটি দাঁড়িয়ে আছে\\n1646.jpg সবুজ মাঠে কালো কুকুরটি চুপসে যাওয়া ফুটবলটি কামড়ে ধরে আছে\\n1647.jpg পার্কের বেঞ্চে বসে লোকটি পেপার পড়ছে\\n1649.jpg মেয়েটি চোখ বন্ধ করে ভুট্টা খাচ্ছে \\n1650.jpg বৃদ্ধ মহিলাটি গালে হাত দিয়ে বসে আছে \\n1651.jpg কালো কোট, টুপি পড়ে বৃদ্ধ লোকটি অন্যমনস্ক হয়ে বসে আছে \\n1652.jpg মাটির রাস্তায় লোকটা হাঁটছে আর পাশেই জিনিসপত্রের দোকান \\n1653.jpg ঘাসের উপর দুটি খরগোশ বসে আছে\\n1654.jpg রাস্তার দুপাশে ঘাসের উপর দিয়ে দুটি কালো কুকুর দৌড়াচ্ছে \\n1655.jpg সোফায় দুটি ছেলেমেয়ে  বসে আছে\\n1656.jpg পানিতে একটি হাঁস ও কুকুর সাঁতার কাটছে \\n1657.jpg গাছের ডালে বাচ্চাটি বসে আছে\\n1658.jpg দুটি ছেলেমেয়ে পানি ছিটিয়ে খেলছে \\n1659.jpg পাথরের উপরে তিনটি ছেলে অন্য দিকে তাকিয়ে বসে আছে \\n1661.jpg ছেলেটা গিটার বাজাচ্ছে আর বিড়ালটি তাকিয়ে আছে\\n1663.jpg পাহাড়ের পাদদেশে একটি লোক ঘোড়ায় চড়ে আছে\\n1664.jpg বাক্সতে করে বাচ্চা ছেলেটা চকলেট বিক্রি করছে\\n1665.jpg স্কুলের বাচ্চারা রাস্তায় ঘোরাঘুরি করছে \\n1666.jpg চোখ বন্ধ করে জিহবা বের করে বুড়ো আঙুল দেখিয়ে ছেলেটা ভেংচি কাটছে\\n1667.jpg কুকুরটা এক পায়ের উপর দাড়িয়ে ফুটবল দিয়ে খেলছে \\n1668.jpg দেয়াল  ঘেঁষে ছেলেটা হাটছে \\n1669.jpg রঙিন দেয়ালের সামনে অনেকগুলো কবুতর উড়ছে \\n1670.jpg হলুদ গাড়িটি থেকে ধোঁয়া বের হচ্ছে আর লোকটি গাড়ির জানালা দিয়ে তাকিয়ে তা দেখছে \\n1671.jpg মেয়েটি লাল আপেল মুখে নিয়ে আছে আর হাসছে \\n1672.jpg দোকানের বাইরে টেলিফোন বুথের পাশে মেয়েটি দাড়িয়ে আছে\\n1674.jpg কাঠ কেটে লোকটি মূর্তি তৈরী করছে\\n1675.jpg ট্রাফিক বাতিতে লাল আলো জ্বলছে এবং লোকটি রাস্তা পার হচ্ছে \\n1676.jpg ফুটপাতের বেঞ্চে মাথা কাপড় দিয়ে ঢেকে  বসে আছে\\n1677.jpg বাসের সিটে বসে লোকটি ঘুমাচ্ছে \\n1678.jpg দুই পাহাড়ের মাঝে হেলমেটে লাইট জ্বালিয়ে লোকটি দাড়িয়ে আছে\\n1679.jpg সেলুনের চেয়ারে বসা মানুষটির চুলের পরিচর্যা করছে একজন নাপিত \\n1680.jpg একটি মহিলার কোলে বসে একটি বাচ্চা কাঁদছে \\n1681.jpg সীটে পা তুলে বসে মেয়েটি ঘুমাচ্ছে \\n1682.jpg ঘাসের উপর বসে লোকটি গিটার বাজাচ্ছে \\n1683.jpg সমুদ্রের কাছে একটু উঁচু জায়গায় খালি গায়ে লোকটি বসে আছে \\n1684.jpg মায়ের কোলে বাচ্চাটি হাসছে \\n1685.jpg একটি লোক মইয়ের উপরে উঠে আছে এবং পিচ্চি বাচ্চাটিও উপরে উঠার চেষ্টা করছে\\n1686.jpg লোকটি সাইকেল চালাচ্ছে \\n1687.jpg জমে থাকা অল্প পানিতে মেয়েটি হাটছে\\n1688.jpg কালো টুপি পরা লোকটি বাক্স খুলছে\\n1689.jpg মেয়েটি খালি পায়ে মেঝের উপর রং করছে\\n1690.jpg পাহাড়ের উপরে বরফের মধ্যে আগুন জ্বালিয়ে লোকটি কেটলি ভিতরে কিছু গরম করছে\\n1691.jpg অনেকগুলো কবুতর উড়ছে আর পিছনেই একটি লোক, মহিলা ও বাচ্চা বসে আছে \\n1692.jpg বৃষ্টির দিনে ছাতা মাথায় বাচ্চাটি দাঁত বের করে হাসছে\\n1693.jpg বাচ্চাটি সোফায় ঘুমিয়ে পরেছে\\n1694.jpg লোকটি মুখে সিগারেট নিয়ে চোখ বন্ধ করে দাড়িয়ে আছে\\n1695.jpg অগ্নি নিবারকের কর্মীরা রাস্তার পাশে লাগা আগুন নেভাচ্ছে \\n1696.jpg বাচ্চাটি আইসক্রিম খাচ্ছে \\n1697.jpg কানে ইয়ারফোন গুজে মেয়েটি হাটছে\\n1698.jpg গাছের উপর লোকটি বসে আছে \\n1699.jpg বাচ্চাটি চোখে চশমা পড়ছে \\n1700.jpg বাচ্চা মেয়ে দুটি মাঠে বসে ক্যাপ পরে খাচ্ছে\\n1701.jpg হ্রদের মধ্যে প্রবালের উপর দাঁড়িয়ে মেয়েগুলো তাদের লম্বা চুল পানি দিয়ে ধুচ্ছে\\n1702.jpg নীল আকাশে সাদা মেঘের খেলা মেলা \\n1703.jpg তারের উপর পাখির দল\\n1704.jpg প্রাকৃতিকে কেমেরা বন্দি করা \\n1705.jpg চামচের মাঝে রান্নার মশালার উপাচার \\t\\n1706.jpg মই দিয়ে লোকটি উপরে উঠছে \\n1707.jpg প্রেমিক যুগলের একাকিত্যে কিছু সময়\\n1708.jpg ভালোবাসা , যা সবার জন্যই এক\\n1709.jpg হাজার লোকের ভিড়ে এক অশায় নারী\\n1710.jpg কুড়ে ঘড়ের জানালার ফাঁকে ভাইবোনের উকিঝুঁকি\\n1711.jpg হয়তো সাহায্যের হাত নয়তো বন্ধুত্যের\\n1712.jpg দুটি প্রজাপতির মনমুগ্ধকর জুটি\\n1713.jpg হরিনের উঁচু লাফ\\n1714.jpg লাল জবা,লাল উড়না,লাল টিপ,লাল ঠোট ,এ যেনো শুধু লাল রঙের খেলা\\n1715.jpg বাংলাদেশের পতাকা হাতে বাংলার ছাত্রশক্তি,যা চিরকালি জয়ী দল\\n1716.jpg চোখের মায়া আর বেলোন ফোলানোর দৃশ্যে দারিদ্রতার জানান দেয়া\\n1717.jpg কাঠের টুলের উপর মাথায় ফুল দিয়ে সেজে মেয়েটি বসে আছে \\n1718.jpg কয়েকটি বাচ্চা পানিতে নেমে গোসল করছে এবং পাড়ে দাঁড়িয়ে একটি মেয়ে কাদঁছে\\n1719.jpg বিকেল বেলা পাখিদের নিজ বাসায় ফিরে যাওয়া\\n1720.jpg মটোর গাড়ির শহরে ঘোড়ার গাড়ির গতিময় চলে  যাওয়া\\n1721.jpg সরিসা ফুল থেকে পরাগায়ন করসে প্রজাপতি\\n1722.jpg পানির মধ্যে সজারুর গোসল\\n1723.jpg উতসব মুখর দিনে আতশ-বাজিতে আলোকিত আকাশ\\n1724.jpg বাহারি সাজে নতুন বধু\\n1725.jpg তাজমহলের সামনে মা-ছেলের কর্মব্যস্ততা\\n1726.jpg গ্রামের  মেঠোপথ দিয়ে কর্মব্যস্ত গৃহীনিদের গল্প করতে করতে হেটে যাওয়া\\n1727.jpg সমুদ্র তীরে সূর্যের আবছা আলোয় সাইকেল\\n1728.jpg সমুদ্রের স্রোতে দড়িয়ে তিন বন্ধুর হাত ধরে সমুদ্র স্নান উজ্জাপন\\n1729.jpg তিন বন্ধুর স্কুল থেকে বাড়ি ফেরা\\n1730.jpg চাঁদরের আড়াল থেকে নিষ্পাপ মুখের মায়াবি চাহনি\\n1731.jpg জঙ্গলের গাছের ভিতর দিয়ে সূর্যের আলো মানুষটির গায়ে পরছে\\t\\n1732.jpg মাছ খাওয়ার দৃশ্য\\n1733.jpg  খালি রাস্তায় দুই জন সাইকেল চালক\\n1734.jpg নদীর মাঝে একা একা মাঝির নৌকায় বৈঠা চালনা\\n1736.jpg ঘোড়ার গাড়িতে খড় নিয়ে যাওয়া,ছেলেরা চালাচ্ছে ,বাবা পাশে হেটে যাচ্ছে\\n1737.jpg গাছের কোটরে তিনটি পেঁচার বাচ্চা বসে আছে \\n1738.jpg নীল আকাশের নিচে পাহাড়ের একদম কিনারায় দুটি গাড়ি রাখা\\n1739.jpg নদীর পাড়ে কয়েকটি নৌকা রাখা এবং উপরে একটি ব্রিজ \\n1740.jpg মাঠের মধ্যে একটি পিকআপ ভ্যান রাখা \\n1741.jpg নদীর পাড়ে পাথরের উপর ছেলেটা কুকুরের মাথায় হাত রেখে বসে আছে\\n1742.jpg ঝর্ণার উপর কয়েকটি ছেলে বসে আছে \\n1743.jpg জঙ্গলের মাঝ দিয়ে বয়ে চলা নদীর পাড় দিয়ে মানুষ হাঁটছে\\n1744.jpg বিমানবন্দরে বিমান রাখা \\n1745.jpg ছেলেটা বসে নখ কামড়াচ্ছে\\n1746.jpg বিমানের জানালার পাশে একজন মানুষ হাতের মধ্যে পাসপোর্ট ধরে রেখেছে  \\n1747.jpg গ্রামের মাটির রাস্তায় অনেক দোকান বসেছে\\n1747.jpg দোকানের ভিতরে এবং বাইরে মানুষ \\n1747.jpg দোকানদার বস্তায় ভরে জিনিসপত্র নিয়ে দোকানে বসে আছে\\n1748.jpg হরেক রকমের খেলনা নিয়ে দোকানদার দোকানে বসে আছে \\n1748.jpg দোকানের সামনে কয়েকজন মানুষের পা দেখা যাচ্ছে\\n1749.jpg মেলায় অনেক মানুষ ও দোকান বসেছে \\n1749.jpg তিনটি বাচ্চা হাত ধরে হাঁটছে\\n1749.jpg দোকানের একপাশে গাছপালা আর অন্য পাশে নদী \\n1749.jpg মেলায় অনেক মানুষ ঘোরাঘুরি করছে\\n1750.jpg একটি মহিলা বাচ্চা কোলে নিয়ে হাঁটছে\\n1750.jpg দোকানের সামনে দুটি বাচ্চা মেয়ে দাঁড়িয়ে আছে\\n1750.jpg নদীর পাড়ে মেলা বসেছে\\n1750.jpg বাঁশ এবং কাগজ দিয়ে মেলার দোকান বানানো হয়েছে\\n1751.jpg দেয়ালের উপরে দুজন ছেলে বসে আছে\\n1751.jpg একটি সিলিন্ডারের ভিতর থেকে তিনটি পাইপ বের হয়ে গেছে\\n1751.jpg দেয়ালের একপাশে একটি বাচ্চা দাঁড়িয়ে এবং আরেকটি বাচ্চা বসে আছে\\n1752.jpg স্কুলের সামনে দোকান বসেছে\\n1752.jpg একটি ভাঙা দেয়াল ও রাস্তায় অনেক ইট পরে আছে\\n1752.jpg রাস্তায় মানুষ চলাচল করছে\\n1752.jpg বিল্ডিংয়ের একপাশে বড় বড় গাছ\\n1753.jpg মাটিতে কাগজ বিছিয়ে লোকটি খেলনা বিক্রি করছে\\n1753.jpg একজন লোক বসে আছে এবং তার আশেপাশে অনেক জিনিস\\n1754.jpg দোকানে টেবিলের উপর অনেক জিনিস সাজিয়ে রাখা হয়েছে\\n1754.jpg দোকানে বাঁশের সাথে মালা ঝুলিয়ে রাখা আছে\\n1754.jpg দোকানের ভিতরে দুজন মানুষ আছে\\n1755.jpg নেকাবে মুখ বেঁধে একটি মেয়ে দাঁড়িয়ে আছে\\n1755.jpg মেলার দোকান গুলোতে অনেক মানুষ জিনিস দেখছে\\n1755.jpg দোকানের সামনে বাচ্চারা ভিড় করেছে\\n1756.jpg দোকানের ভিতরে অনেক জিনিসপত্র\\n1756.jpg দোকানের সামনে রশি দিয়ে অনেক গুলো খেলনা ঝুলিয়ে রাখা আছে\\n1756.jpg দোকানের ভিতরে দুজন মানুষ দাঁড়িয়ে আছে\\n1756.jpg দোকানের বাইরে দুজন মানুষ দাঁড়িয়ে আছে\\n1756.jpg দোকানদার দোকানে বসে কাজ করছে\\n1757.jpg নদীর বুকে নৌকা চলছে\\n1757.jpg নৌকায় মানুষ দাঁড়িয়ে আছে\\n1757.jpg নদীর একপাশে ঘন গাছপালা\\n1758.jpg বড় বলের মধ্যে বাতাসা ও মুড়কি রাখা\\n1758.jpg একটি বাঁশের পাশে একটি লোক লুঙ্গি পড়ে দাঁড়িয়ে আছে\\n1759.jpg রঙিন মাটির খেলনা\\n1759.jpg কাগজের উপর মাটির ছোট খেলনা তৈজসপত্র রাখা হয়েছে বিক্রির জন্য\\n1760.jpg অনেকগুলো দোকানদার পাশাপাশি বসে বিক্রি করছে\\n1760.jpg দোকানদাররা মাটির জিনিসপত্র বিক্রি করছে\\n1760.jpg মানুষ দোকান থেকে কেনাকাটা করছে\\n1761.jpg নদীর পাড়ে দুটি নৌকা বেঁধে রাখা হয়েছে\\n1761.jpg নদীর উপর নৌকায় অনেক মানুষ দাঁড়িয়ে আছে\\n1761.jpg নদীর পাড়ে দোকান বসেছে\\n1761.jpg দোকানের ভিতরে দোকানদারেরা বসে আছে\\n1762.jpg নদীর পাড়ে মেলায় বসেছে এবং মেলার দোকানে মুড়িমুড়কি বিক্রি করছে দোকানদারেরা\\n1762.jpg দোকানের ভিতরে দোকানদারেরা বসে আছে এবং বাইরে বাচ্চারা দাঁড়িয়ে আছে\\n1762.jpg একটি ছেলের শার্টের বোতাম খোলা\\n1762.jpg দোকানের সামনে কয়েকটি বাচ্চা দাঁড়িয়ে আছে\\n1763.jpg বলের মধ্যে মিষ্টি জাতীয় খাবার রাখা আছে বিক্রির জন্য\\n1763.jpg ঝুড়িতে ও বলের মধ্যে খাবার রাখা\\n1764.jpg দোকানদার দোকানে বসে আছে\\n1764.jpg দোকানদারের সামনে বলের মধ্যে বাতাসা রাখা\\n1764.jpg দোকানদারের পিছনে অনেক বস্তা রাখা\\n1764.jpg কয়েকটি বস্তা ও বলের মাঝে লোকটি বসে আছে\\n1765.jpg দোকানের সামনে একটি মেয়ে শাড়ি পরে দাঁড়িয়ে আছে\\n1765.jpg দোকানে খেলনা বিক্রি হচ্ছে\\n1766.jpg নৌকার দুই প্রান্তে দুজন মানুষ\\n1766.jpg নৌকার মাঝখানটা মাটির খেলনা দিয়ে ভর্তি\\n1766.jpg নদীতে নৌকার আশেপাশে অনেক কচুরিপানা\\n1767.jpg বড় গাছের নিচে মেলা বসেছে\\n1767.jpg দোকানের পিছনে কয়েকটি বেলুন দেখা যাচ্ছে\\n1767.jpg একটি বাঁশের দুইপাশে দুটি ছেলে দাঁড়িয়ে আছে\\n1768.jpg বাঁশের মধ্যে গেঁথে বাংলাদেশের পতাকা বিক্রি করছে ছেলেটা\\n1768.jpg বাঁশ এবং বড় সামিয়ানা টানিয়ে নদীর পাড়ে দোকান বানানো হয়েছে\\n1769.jpg খেলনা হলুদ বাঘ ধরে আছে একজন\\n1769.jpg সিমেন্টের বস্তা দিয়ে দোকানের দেয়াল বানানো হয়েছে\\n1770.jpg বস্তার ভিতরে এবং বাইরে অনেক জিনিস\\n1770.jpg বস্তায় হেলান দিয়ে একটি বাচ্চা ছেলে বসে আছে\\n1770.jpg দোকানের ভিতরে একটি লোক বসে আছে\\n1771.jpg গাছের নিচে গ্রামের মেলা বসেছে\\n1771.jpg মেলার দোকানগুলোতে বিভিন্ন জিনিস রাখা হয়েছে বিক্রির জন্য\\n1771.jpg লুঙ্গি,গেঞ্জি পরা ছেলেটি মাথায় গামছা বেঁধে দোকানের দিকে তাকিয়ে আছে\\n1771.jpg লুঙ্গি,গেঞ্জি পরা ছেলেটি মাথায় গামছা বেঁধে দোকানের দিকে তাকিয়ে আছে এবং তার পিছনে আরেকটি লোক দোকান থেকে কেনাকাটা করছে\\n1772.jpg দোকানের ভিতরে প্লাস্টিকের খেলনা গাড়ি ঝুলিয়ে রাখা হয়েছে\\n1772.jpg বাঁশের পাশে হরেক রকমের খেলনা সাজানো\\n1773.jpg সারি সারি দোকান ভর্তি বাচ্চাদের খেলনা সাজিয়ে রাখা আছে\\n1773.jpg দোকানের সামনে ছোট বড় মানুষ জিনিস দেখছে\\n1774.jpg একজন লোক কিছু খেলনা,তারকাটা ও একটি বস্তা নিয়ে বসে আছে\\n1774.jpg একজন মানুষের শুধু হাত ও পা দেখা যাচ্ছে\\n1775.jpg মেলায় অনেক মানুষ জড়ো হয়েছে\\n1775.jpg দোকানের সামনে ঝুড়ির উপর অনেক গুলো ভুট্টা রাখা আছে\\n1775.jpg একটি লোক খেলনা হাতে দাঁড়িয়ে আছে\\n1775.jpg সবুজ হাতাকাটা গেঞ্জি পরা ছেলেটি মাথায় গামছা বেঁধে দোকানের দিকে তাকিয়ে আছে\\n1776.jpg খেলনা ভর্তি বস্তায় হেলান দিয়ে বাচ্চাটি বসে আছে\\n1776.jpg দোকানের সামনে দাঁড়িয়ে বাচ্চা ছেলেটি অন্য দিকে তাকিয়ে আছে\\n1776.jpg একটি বাচ্চা ছেলে বসে আছে এবং তার সামনে অনেক খেলনা রাখা\\n1777.jpg মাটির রাস্তার দুপাশ দিয়ে দোকান বসেছে\\n1777.jpg দোকানের বাইরে অনেক জিনিস ঝুলিয়ে রাখা হয়েছে\\n1777.jpg দোকানের সামনে দাঁড়িয়ে বাচ্চারা জিনিস দেখছে\\n1777.jpg শার্টের বোতাম খুলে একটি ছেলে হেঁটে যাচ্ছে\\n1778.jpg অনেক গুলো মানুষ বসে আছে\\n1778.jpg লাল সাদা একটি বেলুন\\n1779.jpg গ্রামে মেলা বসেছে \\n1780.jpg বড় বড় গাছের নিচে মেলা বসেছে এবং সেখানে অনেক মানুষ জড়ো হয়েছে\\n1780.jpg মেলায় চড়কি রাখা হয়েছে\\n1781.jpg দোকানের সামনে অনেক খেলনা ঝোলানো আছে \\n1782.jpg খেলনার দোকানের সামনে বাচ্চারা ভীড় করেছে\\n1782.jpg দোকানের ভিতরে ও বাইরে খেলনা ঝুলানো আছে এবং দোকানদার দোকানের ভিতরে বসে আছে\\n1783.jpg দোকানের সামনে বাঁশের সাথে প্লাস্টিকের খেলনা ঝুলিয়ে রাখা আছে\\n1783.jpg মেলার দোকান গুলোর সামনে ছোট,বড় মানুষ দাঁড়িয়ে আছে\\n1784.jpg একটি লোককে ঘিরে অনেক গুলো বাচ্চা দাঁড়িয়ে আছে\\n1784.jpg ছোট বড় মানুষ দাঁড়িয়ে আছে\\n1785.jpg দোকানের ভিতরে,বাইরে অনেক খেলনা রাখা\\n1785.jpg দোকানের সামনে অনেক বাচ্চারা দাঁড়িয়ে আছে\\n1786.jpg একটি বাচ্চা মাথায় হাত দিয়ে আছে\\n1786.jpg মেলার দোকানগুলোর সামনে অনেক ভীড়\\n1787.jpg ঝুড়িতে ভুট্টা ও কামরাঙা মরিচ রাখা\\n1787.jpg মাটিতে রাখা ঝুড়িতে ভুট্টা ও কামরাঙা মরিচ\\n1788.jpg ভ্যানের উপর কতবেল,কাঁচকলাসহ অনেক কিছু রাখা\\n1788.jpg ভ্যানের আশেপাশে অনেক মানুষ দাঁড়িয়ে আছে\\n1788.jpg দুজন মানুষ দুজনের দিকে তাকিয়ে আছে\\n1789.jpg অনেকগুলো মানুষের পা দেখা যাচ্ছে\\n1789.jpg ঝুড়ির উপরে রাখা গামলায় ফল\\n1790.jpg কচুরিপানা দিয়ে পানির একপাশ ঢেকে গেছে\\n1790.jpg গাছের কান্ড দেখা যাচ্ছে\\n1790.jpg রাস্তার পাশে দোকান ও মানুষ\\n1791.jpg ডোবার পাশের রাস্তায় দোকান বসেছে\\n1791.jpg বিলের পাশের রাস্তায় মেলা বসেছে\\n1791.jpg অনেকগুলো মোড়া একজায়গায় রাখা\\n1791.jpg বাঁশ ও কাপড় দিয়ে বানানো দোকান গুলোর সামনে মানুষ দাঁড়িয়ে আছে\\n1791.jpg বিলের পাশে মাটিতেই দোকান বসেছে\\n1792.jpg একজন লোক ভেলপুরি বানাচ্ছে এবং তার সামনে মানুষ দাঁড়িয়ে আছে\\n1793.jpg একটি ছেলে চোখ বন্ধ করে হাঁটছে\\n1793.jpg দোকানের সামনে অনেক গুলো ছেলে দাঁড়িয়ে আছে\\n1794.jpg রাস্তা দিয়ে একটি লোক হাঁটছে এবং হাসছে\\n1794.jpg মোটরসাইকেলে বসা লোকটি পিছনে ঘুরে তাকিয়ে আছে\\n1794.jpg দুই দালানের মাঝ দিয়ে রিকশা,গাড়ি,মোটরসাইকেল চলছে\\n1795.jpg একটি লোক গাছের কান্ডে হেলান দিয়ে বসে ফল বিক্রি করছে\\n1795.jpg একটি লোক খবরের কাগজের উপর বসে পাশে একজোড়া স্যান্ডেল রেখে গামলার মধ্যে করে গেছো আলু বিক্রি করছে\\n1796.jpg ছোট ছোট বাচ্চারা মেলার দোকান গুলোর আশেপাশে ঘুরছে\\n1796.jpg দেয়ালের উপর অনেকগুলো মোড়া রাখা\\n1797.jpg রাস্তার একপাশে দোকান ও গাছ\\n1798.jpg রাস্তায় অনেক গাড়ি,বাস,রিকশা চলছে\\n1799.jpg একটি লোক পিঠা বানাচ্ছে এবং তার সামনে দাঁড়িয়ে আরেকটা লোক তা খাচ্ছে\\n1799.jpg একটি লোল দোকানে বসে পিঠা বানাচ্ছে এবং তার সামনে অনেক মানুষ দাঁড়িয়ে আছে\\n1800.jpg একজন লোক বসে দুই হাতে আটা তৈরি করছে\\n1800.jpg একজন লোক আটা মাখছে এবং তার সামনে অনেক আটা ও একটি পাতিলে ঘি রাখা\\n1801.jpg একজন লোক দুই হাতে দুই গ্লাস বসে আছে\\n1801.jpg একজন লোক দুই হাতে দুই গ্লাস বসে আছে এবং তার সামনে অনেক মানুষ দাঁড়িয়ে আছে\\n1802.jpg দোকানদার গামলার মধ্যে রাখা মুরগির মাংস দেখাচ্ছে\\n1802.jpg একজন লোকের সামনে বড় বড় পাতিলে খাবার রাখা\\n1805.jpg রাস্তায় মোটরসাইকেল, রিকশা চলছে\\n1805.jpg হেলমেট পরে একজন লোক মোটরসাইকেল চালাচ্ছে\\n1803.jpg একজন লোক পাতিলের ভিতর থেকে খাবার তুলছে\\n1803.jpg লাল রংয়ের কাপড় দিয়ে পাতিল ঢেকে রাখা হয়েছে\\n1803.jpg দোকানের ভিতরে একজন মানুষ দাঁড়িয়ে ও দুজন মানুষ বসে আছে\\n1804.jpg বিক্রির জন্য বাখরখানি সাজিয়ে রাখা হয়েছে\\n1804.jpg ট্রেতে বাখরখানি রেখে পলিথিন দিয়ে ঢেকে রাখা হয়েছে\\n1806.jpg চুলার ভিতরে বাখরখানি ভাজা হচ্ছে\\n1806.jpg একজন লোক বাখরখানি ভাজছে এবং অন্যরা বানাচ্ছে\\n1807.jpg রাস্তা দিয়ে একটি লোক জিনিসপত্র বোঝাই ছোট একটি গাড়ি ঠেলছে\\n1807.jpg রাস্তায় মহিলা,পুরুষ মানুষ হাঁটছে\\n1808.jpg চুলার ভিতরে বাখরখানি ভাজা হচ্ছে\\n1809.jpg দোকানের ভিতরে বাখরখানি বানানো হচ্ছে এবং বিক্রির জন্য সামনে সাজিয়ে রাখা হয়েছে\\n1809.jpg দোকানের ভিতরে একটি ছেলে আরেকটি লোককে বাখরখানি দিচ্ছে\\n1809.jpg দোকানের ভিতরে বসে থাকা সবগুলো লোক দাঁড়ানো মানুষটির দিকে তাকিয়ে আছে\\n1810.jpg একটি ছেলে মুখের সামনে হাত ধরে হাসছে\\n1810.jpg ক্যামেরা কাঁধে একজন লোক দাঁড়িয়ে আছে এবং তার সামনে  অনেক মানুষ\\n1811.jpg কয়েকজন লোক দোকানে বসে কাজ করছে\\n1811.jpg একজন লোক ট্রে থেকে বাখরখানি নিচ্ছে\\n1812.jpg একজন মানুষ চায়ের কাপ ধরে আছে\\n1812.jpg একজন মানুষ চায়ের কাপ ধরে আছে এবং নিচে বাখরখানি দেখা যাচ্ছে\\n1813.jpg একজন দিনমজুর ঠেলাগাড়ির মাল ঠেলছে\\n1813.jpg একজন দিনমজুর ঠেলাগাড়ির মাল ঠেলছে এবং তার পাশে আরেকজন লোক ক্যামেরা কাঁধে নিয়ে হাঁটছে\\n1814.jpg একজন মানুষ চায়ের মধ্যে বাখরখানি ডুবিয়ে রেখেছে\\n1815.jpg একজন লোক এক হাতে চায়ের কাপ নিয়ে অন্য হাতে খাবার খাচ্ছে\\n1815.jpg একজন লোক এক হাতে চায়ের কাপ নিয়ে অন্য হাতে খাবার খাচ্ছে এবং তার পিছনে দোকানের মানুষরা তাকে দেখছে\\n1816.jpg দুটি বাচ্চা ছেলে ট্রে থেকে টেবিলের উপর খাবারের পিরিচ দিচ্ছে\\n1816.jpg একজন লোক টেবিলের খাবারের দিকে তাকিয়ে আছে\\n1817.jpg টেবিলের উপর অনেক গুলো পিরিচে অনেক রকমের খাবার রাখা\\n1817.jpg একজন লোক আরেকজন লোকের সাথে হাত মেলাচ্ছে\\n1817.jpg টেবিলের খাবারের সামনে কয়েকজন মানুষ দাঁড়িয়ে আছে\\n1818.jpg একজন লোক হাত নেড়ে কথা বলছে\\n1818.jpg টেবিলের উপর রাখা খাবার নিয়ে একজন লোক কথা বলছে\\n1819.jpg ছোট ছেলেটি খাবারের থালা নামাচ্ছে\\n1819.jpg দেয়ালের উপর বাক্স রাখা\\n1820.jpg থালার মধ্যে তরকারি রাখা\\n1820.jpg থালার মধ্যে তরকারি ও একটি চামচ রাখা\\n1820.jpg তরকারির উপরে অনেক তেল ভেসে আছে\\n1821.jpg একজন মানুষ দুই হাতে তরকারির একটি পিরিচ ধরে আছে\\n1821.jpg টেবিলের উপর অনেক রকমের তরকারি ও ভাত রাখা আছে\\n1822.jpg লোকটি টেবিলে রাখা খাবারগুলো আঙুল দিয়ে দেখাচ্ছে \\n1823.jpg লোকটি খাবার খাচ্ছে \\n1824.jpg লোকটি কাঁচা মরিচে কামড় দিচ্ছে \\n1825.jpg খাবার টেবিলে বসা লোকটি সামনের লোকটির দিকে তাকিয়ে হাসছে\\n1826.jpg প্লেটে রাখা শসা লেবু কাঁচামরিচ ধরে আছে লোকটি\\n1827.jpg লোকটি এক হাতে পিরিচ ও অন্য হাতে কাঁচা মরিচ ধরে আছে\\n1828.jpg দুজন লোক পাশাপাশি চেয়ারে বসে আছে \\n1829.jpg লোকটি দুই হাতে দুটি গ্লাস ধরে আছে এবং সামনের মানুষ গুলো তাকে দেখছে\\n1830.jpg টেবিলে অনেক গুলো পিরিচে অনেক তরকারি রাখা \\n1831.jpg টেবিলের উপর অনেক খাবারের প্লেট রাখা \\n1832.jpg লোকটি পিরিচের তরকারি ধরে দেখাচ্ছে \\n1833.jpg দুজন লোক\\n1834.jpg পাতিলের ভিতরে মাঠা তৈরি হচ্ছে \\n1835.jpg লোকটি এক গ্লাস হতে আরেক গ্লাসে শরবত ঢালছে\\n1836.jpg পাতিল থেকে বাটিতে খাবার বাড়া হচ্ছে \\n1837.jpg লোকটি এক গ্লাস হতে অন্য গ্লাসে মাঠা ঢালছে\\n1839.jpg বাটিতে ফালুদা ও একটি চামচ রাখা \\n1842.jpg একটি লোক মাঠা তৈরি করছে এবং পাশের লোকটি তাকিয়ে দেখছে\\n1843.jpg পাতিল থেকে গ্লাসে মাঠা ঢালা হচ্ছে \\n1845.jpg লোকটি একটি বোতল হাতে নিয়ে বসে আছে \\n1846.jpg লোকটি বসে বাটি থেকে খাবার খাচ্ছে\\n1848.jpg লোকটি বাটি থেকে খাবার খাচ্ছে \\n1849.jpg একটি লোক আরেকটি লোকের ঘাড়ে হাত দিয়ে আছে \\n1851.jpg লোকটি বড় পাতিল থেকে প্লেটে খাবার তুলছে\\n1852.jpg রাস্তায় মানুষ হাঁটছে\\n1855.jpg বৃদ্ধ লোকটি ভ্যান থেকে ডেকচি নামাচ্ছে \\n1853.jpg দোকানের সামনে রাস্তায় রিকশা মোটরসাইকেল চলছে এবং মানুষও দাঁড়িয়ে আছে \\n1856.jpg রাস্তায় একটি গাড়ি চলছে এবং রাস্তার দুপাশে দোকান\\n1857.jpg রাস্তায় রিকশা চলছে \\n1860.jpg একটি লোক বসে আছে এবং অন্য দুটি লোক দাঁড়িয়ে আছে \\n1861.jpg লোকটি এক হাতে প্লেট ও অন্য হাতে ডেকচি ধরে আছে\\n1862.jpg এক প্লেট তেহারি \\n1863.jpg হোটেলের ভিতরে মানুষ খাবার টেবিলে বসে খাবার খাচ্ছে\\n1864.jpg লোকটি তার সামনে একটি ডেকচি নিয়ে বসে আছে \\n1865.jpg লোকটি একটি বোরহানি ভর্তি বোতল হাতে নিয়ে দেখাচ্ছে\\n1867.jpg লোকটি দুই হাতে খাবারের প্লেটটি ধরে আছে \\n1868 .jpg pg লোকটির হাতে এক পিরিচ কাঁচা মরিচ\\n1869.jpg লোকটি এক হাতে কাঁচা মরিচের পিরিচ ধরে আছে এবং অন্য হাতে খাবার খাচ্ছে \\n1871.jpg লোকটি বোতল থেকে গ্লাসে বোরহানি ঢালছে\\n1875.jpg লোকটি গ্লাসের বোরহানি খাচ্ছে \\n1872.jpg বয়স্ক লোকটি খাবারের প্যাকেটটি আরেকজনকে দিচ্ছে \\n1874.jpg একটি লোক বসে পিঠা বানাচ্ছে এবং আরেকটি লোক সামনে দাঁড়িয়ে দেখছে\\n1873.jpg লোকটির সামনে থালার উপর তিন প্লেট খাবার রাখা\\n1878.jpg লোকটির চিতই পিঠার উপরে ভর্তা দিচ্ছে \\n1880.jpg লোকটি পাতিলের উপর থেকে বাটিটা সরাচ্ছে \\n1881.jpg কড়াইতে চিতই পিঠা বানানো হচ্ছে \\n1883.jpg ক্যামেরা কাঁধে নিয়ে লোকটি হাঁটছে\\n1886.jpg লোকটা ভাপা পিঠা বানাচ্ছে \\n1882.jpg লোকটি আসে পিঠা বানাচ্ছে \\n1891.jpg লোকটি পাতিল থেকে পিরিচ দিয়ে পিঠাটি তুলছে\\n 1887.jpg লোকটা কড়াইতে মগ দিয়ে কিছু ঢালছে\\n  1894.jpg পাতিলে ভাপা পিঠা বানানো হচ্ছে \\n1889.jpg লোকটি দুই হাতে বাটিটি ধরে আছে \\n1888.jpg লোকটা ভাপা পিঠা বানাচ্ছে \\n 1893.jpg পিঠার দোকানের সামনে দাঁড়িয়ে লোকটা পিঠা খাচ্ছে এবং অন্যরা তাকে দেখছে \\n1892.jpg কাগজের উপর চিতই পিঠার উপর ভর্তা\\n 1904.jpg লোকটি রিকশাচালকের সাথে কথা বলছে \\n1900.jpg একটি লোক বসে পিঠা বানাচ্ছে এবং তার সামনে অনেক মানুষ দাঁড়িয়ে আছে \\n1903.jpg লাল কাপড় দিয়ে ডেকচি ঢেকে রাখা হয়েছে \\n 1897.jpg লোকটির দুই হাতে দুই রকমের পিঠা\\n 1902.jpg লোকটি এক গামলা মুরগির মাংস দেখাচ্ছে \\n1905.jpg রাস্তা দিয়ে রিকশা চলছে \\n1899.jpg পাতিল থেকে প্লেট দিয়ে পোলাও তোলা হচ্ছে \\n  1906.jpg ঢেকচির সামনে দুটি দোকানদার ছেলে দাঁড়িয়ে সামনে দাঁড়ানো লোকটার সাথে কথা বলছে \\n 1901.jpg লোকটি বাটি থেকে প্যাকেটের খাবারের উপর তরকারি দিচ্ছে\\n1908.jpg লোকটি রাস্তার দিকে তাকিয়ে আছে \\n1909.jpg প্লেটে খাবার রাখা\\n1910.jpg একটি লোক টেবিলে বসা লোকটাকে খাবার দিচ্ছে \\n1911.jpg পিরিচের উপর মাটির পাত্রে ফিরনি ও চামচ \\n1912.jpg লোকটা রাস্তায় দাঁড়িয়ে কথা বলছে \\n1913.jpg দুপাশের পানির মধ্যে দিয়ে রাস্তা চলে গেছে \\n1914.jpg টিস্যুর উপর দুটি কাবাব রাখা \\n1915.jpg প্লেটে পোলাও মাংস ও পিরিচে তরকারি রাখা \\n1916.jpg লোকটি খাবার খাচ্ছে এবং পিছনে আরেকজন দাঁড়িয়ে আছে \\n 1917.jpg পানির মধ্যে একটি গাছের পাশে একটি নৌকা \\n1918.jpg রাস্তা দিয়ে একটি মোটরসাইকেল চলছে\\n1923.jpg ব্রিজের উপর দিয়ে তিনটি মোটরসাইকেল চলছে \\n1924.jpg ব্রিজের উপর দিয়ে মোটরসাইকেল চলছে\\n1925.jpg মাটির রাস্তায় মোটরসাইকেল চলছে \\n1928.jpg ঝর্ণার পানিতে দুজন লাফ দিচ্ছে \\n1929.jpg খেজুর গাছের পাশ দিয়ে একজন মোটরসাইকেল চালাচ্ছে \\n1930.jpg নৌকায় একজন বসে আছে\\n1931.jpg পানিতে তিনজন লোক লাফ দিচ্ছে \\n1932.jpg রাস্তায় একটি মোটরসাইকেল বাস ও সিএনজি চলছে \\n1933.jpg রাস্তায় একটি মোটরসাইকেল চলছে\\n1934.jpg পিচঢালা রাস্তায় মোটরসাইকেল চলছে \\n1935.jpg পিচঢালা রাস্তায় একটি মোটরসাইকেল চলছে এবং একটিনওভারব্রিজ দেখা যাচ্ছে \\n1936.jpg রাস্তায় একটি মোটরসাইকেল ও বাস চলছে \\n1937.jpg রাস্তায় মোটরসাইকেলের সামনে দিয়ে একটি বাস যাচ্ছে \\n1938.jpg রাস্তায় মোটরসাইকেল চলছে এবং পাশে দুটি ভ্যান রাখা \\n1939.jpg পিচঢালা রাস্তায় মোটরসাইকেল চলছে \\n1940.jpg একটি লাল কালো মোটরসাইকেল \\n1941.jpg দোকানের পাশে মোটরসাইকেল রাখা \\n1942.jpg রাস্তায় কাঁদার মধ্যে একটি মোটরসাইকেল দাঁড়িয়ে আছে \\n1943.jpg রাস্তায় মোটরসাইকেলের পাশে ফুটপাতের উপর একটি মোটরসাইকেল রাখা\\n1944.jpg রাস্তায় একটি মোটরসাইকেলের সামনে আরো দুটি মোটরসাইকেল রাখা  \\n1945.jpg মোটরসাইকেলের সামনে একজন লোক দাঁড়িয়ে আছে \\n1946.jpg পিচঢালা রাস্তায় মোটরসাইকেল রাখা  \\n1948.jpg পিচঢালা রাস্তায় দুটি মোটরসাইকেল পাশাপাশি চলছে\\n1949.jpg পিচঢালা রাস্তায় মোটরসাইকেলের উপর ব্যাগ নিয়ে লোকটি বসে আছে \\n1953.jpg রাস্তার পাশে একটি মোটরসাইকেলের উপর হেলমেট রাখা \\n1954.jpg পানির মধ্যে অনেক গাছ জন্মেছে \\n1955.jpg নদীর পাড়ে রাস্তায় একটি মোটরসাইকেল রাখা এবং নদীতে পাড়ে নৌকা রাখা\\n1956.jpg পিচঢালা রাস্তার দুপাশে মোটরসাইকেল রাখা \\n1957.jpg নদীর পাড়ে রাস্তা \\n1958.jpg পিচঢালা রাস্তায় একটি ছেলে মোটরসাইকেল চালাচ্ছে \\n1959.jpg রাস্তায় রাখা চেয়ারে লোকটি বসে আছে এবং পাশে একটি মোটরসাইকেল রাখা \\n1960.jpg ট্রলারের জানালা দিয়ে দূরের গ্রাম দেখা যাচ্ছে \\n1961.jpg জানালা দিয়ে দূরের মেঘ সমুদ্র ও জাহাজ দেখা যাচ্ছে\\n1962.jpg ট্রলারের জানালা দিয়ে পানি দেখা যাচ্ছে\\n1965.jpg নদীর মধ্যে একটি গাছ \\n1966.jpg নদীর বুকে বড় একটি গাছের অর্ধেক ডুবে আছে \\n1970.jpg নদীর বুকে বড় একটি গাছের পাশে একটি নৌকার ছাদে মানুষ বসে আছে \\n1971.jpg নদীতে নৌকার ছইয়ের উপর মানুষ শুয়ে বসে আছে\\n1972.jpg নদীর বুকে বড় একটি গাছের পাশে একটি নৌকা \\n1977.jpg নৌকার ছইয়ের উপর মানুষ শুয়ে বসে আছে এবং পাশে দুজন মানুষ দাঁড়িয়ে আছে\\n1978.jpg নীল আকাশের নিচে হাওড়ের মাঝে একটি গাছ অর্ধেক ডুবে আছে এবং পাশে একটি নৌকা \\n1981.jpg নীল আকাশের নিচে বিস্তৃত জলরাশি \\n1982.jpg নৌকায় বসে একজন পানিতে হাত দিয়ে আছে \\n1983.jpg রাস্তার পাশে অনেক গাছ লাগানো এবং পাড়ে একটি নৌকা বাঁধা\\n\\n\\n\\n\\n2009.jpg নদীর ঢেউ\\n2014.jpg  নদীর মাঝে  অনেক গুলো বাঁশের  খুঁটি  দেওয়া।\\n2015.jpg বনের  মাঝ দিয়ে বয়ে যাওয়া নদী\\n2017.jpg অনেক গুলো কাশ ফুল\\n2018.jpg  অনেক গুলো কাক ,  পাশ দিয়ে একটি ট্রলার যাচ্ছে। \\n2020.jpg নদী তে লঞ্চ চলছে, পিছে অনেক গুলো স্থির লঞ্চ   আর নৌকা \\n2022.jpg একটা বিলবোর্ডের উপর বানর\\n2024.jpg অনেক গুলো কবুতর আকাশে উড়ে বেরাচ্ছে \\n2025.jpg বাংলাদেশের পতাকা উড়ছে\\n2026.jpg আসমানী রং এর শাড়ী পরে একটি হিন্দু মহিলা লজ্জা পাচ্ছেন\\n2027.jpg একটা বাচ্চা ছেলে হাসছে\\n2028.jpg মা তার বাচ্চা কে কোলে নিয়ে আছেন\\n2029.jpg একটা ছেলের হাস্যউজ্জল  মুখ\\n2030.jpg একটি বুড়ো লোক হাসছেন\\n2031.jpg  একটি বাচ্চা মেয়ে জানালা দিয়ে বাহিরে দেখছে\\n2033.jpg সাগরের ঢেউ ।  সাগের মধ্যে একটি ছোট গাছ \\n2034.jpg বালুর উপর তিনটা লাল কাঁকড়া \\n2036.jpg  একটা মেয়ের সাথে একটা ছোট ছেলে সমুদ্র পারে খেলছে\\n2037.jpg একটা মেয়ে এবং একটা ছোট ছেলের অর্ধেক দেখা যাচ্ছে \\n2038.jpg  সমুদ্রের ঢেউ \\n2039.jpg লাল নেইপলিশ লাগানো একটি পা ছুই ছুই সমুদ্র পানি \\n2040.jpg  একটি লাল উরনা পরা মেয়ে কাশফুলে হাত বুলায় দিচ্ছে\\n2041.jpg দুটো বাচ্চা মেয়ে কাশবনের মধ্যে দৌড়ে যাচ্ছে \\n2045.jpg নদীতে কচুরিপানা দূরে একটি মেয়ে পানিতে দৌড়ে যাচ্ছে \\n2046.jpg দুটো মেয়ে কাশফুল দিয়ে খেলছে \\n2047.jpg দুটো মেয়ে কাশফুল দিয়ে খেলছে\\n2048.jpg সমুদ্রের উপর অনেক গুলো বক উড়ে বেরাচ্ছে \\n2049.jpg সমুদ্রে নৌকা দড়ি ধরে টানছে একটা লোক\\n2050.jpg ঝড়ের মধ্যে সমুদ্রে নৌকা দড়ি ধরে টানছে একটা লোক\\n2051.jpg নদীতে অনেক গুলো ডিঙি নৌকা  আর ডুবন্ত সূর্যের সোনালী আভা নদীর উপর পরছে\\n2052.jpg সূর্য অস্তের সময় বাবা এবং ছেলে মিলে নদীতে মাছ ধরছে\\n2053.jpg  সূর্যের অস্তের সময় কার ছবি\\n2054.jpg আখের ক্ষেতের মধ্যে একটা বাচ্চা ছেলে দৌড়াচ্ছে\\n2055.jpg  ঝর্ণার সামনে একটি মেয়ে বসে আছে \\n2057.jpg সমুদ্রের ধার ঘেষে একটা ছেলে সাইকেল চালায়ে যাচ্ছে \\n2058.jpg নৌকার উপর বসে আছে একটি লোক\\n2059.jpg একটি ফড়িং ফুলের উপর আরেকটি উড়ে বেরাচ্ছে \\n2060.jpg একটি ফড়িং পানির উপর উড়ে বেরাচ্ছে \\n2061.jpg দুটো বাচ্চা ছেলে নৌকার ছাদ থেকে নদীতে লাফ দিচ্ছে \\n2062.jpg একটি ছেলে তে পানিতে ঝাপিয়ে পরেছে আরেকজন লাফ দিচ্ছে \\n2063.jpg পানির নিচে ঘাস  আগাছা\\n2064.jpg বাংলাদেশের পতাকার পিছে বাঘ সাজা একটি মানুষ আর ব্যান্ড পার্টি \\n2066.jpg শাড়ী দোকানদার শাড়ী পরে দেখাচ্ছে \\n2067.jpg একজন মহিলা শপিং করে শপিংমল থেকে বের হচ্ছে\\n2069.jpg খাবার হোটেলে পরটা ভাজতেছে\\n2070.jpg নান রুটি তৈরি করছে\\n2071.jpg জিলাপি তৈরি করছে \\n2072.jpg জিলাপি তৈরি হচ্ছে \\n2072.jpg মসজিদে মুসল্লী রা নামাজ পরছে\\n2075.jpg মন্দিরের ঘন্টা\\n2076.jpg  দূর্গা\\n2077.jpg  দুটো মেয়ে মোমবাতি জ্বালাচ্ছে \\n2078.jpg একজন বৃদ্ধ দাড়ি আলা লোক হাত জোরে স্বাগতম করছে\\n2079.jpg মসজিদে একটি ছেলে ছালাম দিচ্ছে \\n2080.jpg একটি বৌদ্ধ ধর্মের লোক \\n2081.jpg পাহারপুর বৌদ্ধ বিহার\\n2082.jpg সিঁড়ি তে টেরাকোটা করা\\n2083.jpg সুন্দরবনের মাঝে জাহাজ যাচ্ছে \\n2084.jpg জাহাজের বারান্দা দিয়ে মানুষ বন দেখছে\\n2085.jpg গাছ গুলো পানি স্পর্শ করছে\\n2086.jpg একটা বন\\n2087.jpg চারটি হাতির পিঠে চরে চারটি মানুষ পানি পার হচ্ছে \\n2088.jpg একটা নৌকায় বসে ছবি তুলছে\\n2089.jpg নীলাভ সমুদ্র \\n2090.jpg মাঝি নৌকা বাইছে\\n2091.jpg  বিলে শাপলা ফুটেছে \\n2092.jpg বিলে অনেক গুলো শাপলা ফুটেছে \\n2093.jpg শাপলার মাঝ দিয়ে মাঝি নৌকা চালচ্ছে\\n2094.jpg বিলের মধ্যে অনেক শাপলা \\n2095.jpg বিলের মধ্যে অনেক শাপলা \\n2096.jpg শাপলার মাঝ দিয়ে নৌকায় চালিয়ে নিয়ে\\n2096.jpg শাপলার মাঝ দিয়ে নৌকায় চালিয়ে নিয়ে যাচ্ছে \\n2097.jpg দুটো বাচ্চা মেয়ে নৌকায় বসে শাপলা তুলছে\\n2098.jpg বাচ্চা মেয়ে অনেক গুলো শাপলা হাতে\\n2099.jpg পানি তে অনেক গুলো শাপলা\\n2100.jpg ধন ক্ষ্যাতে গরু কে টেনে নিয়ে যাচ্ছে একজন\\n2101.jpg হার্ডিঞ্জ ব্রিজ \\n2102.jpg দেয়ালে আরবি হরফে লেখা\\n2103.jpg মসজিদে নামাজ পরছেন\\n2104.jpg মসজিদে মানুষ নামাজ পরতে যাচ্ছে \\n2106.jpg রাস্তায় মানুষের ভির\\n2107.jpg মসজিদের মিনার\\n2108.jpg মসজিদের মিনারে দাড়িয়ে মোয়াজ্জেম আজান দিচ্ছে \\n2109.jpg ঘোড়ার গাড়ি \\n2112.jpg উপজাতি বাদ্য বাজাচ্ছে \\n2113.jpg উপজাতি কয়েক মহিলা পায়ে গহনা পরে নাচছে\\n2114.jpg উপজাতি কয়েক মহিলা পায়ে গহনা পরে নাচছে\\n2115.jpg উপজাতি কয়েক মহিলা পায়ে গহনা পরে নাচছে\\n2118.jpg তিনটি মেয়ে মাথায় ফুলের গহনা পরে আছে\\n2120.jpg একজন লোক বাদ্য বাজাচ্ছে\\n2121.jpg একটি উপজাতি মহিলা\\n2122.jpg তিনজন মহিলা মাথায় কলসি নিয়ে যাচ্ছে \\n2123.jpg চা বাগান থেকে চা পাতা সংগ্রহ করছে\\n2125.jpg নদীতে জাল দিয়ে মাছ ধরছে\\n2126.jpg গাছের আড়ালে সূর্য \\n2127.jpg চাষি ধান কেটে নিয়ে যাচ্ছে \\n2128.jpg সূর্য অস্ত যাচ্ছে \\n2129.jpg রাস্তা চলন্ত গাড়ির আলো। রিকশার চাকা চলছে\\n2131.jpg আলোকসজ্জা নিচে একজন অনেক গুলো বেলুন হাতে মানুষের ভিরে\\n2133.jpg একটি বাচ্চা ছেলে হাসি মুখে\\n2134.jpg অনেক কাপড়ের মাঝে বারান্দায় দাঁড়িয়ে বাবা ছেলে\\n2135.jpg লাল টিপ লাল লিপস্টিক দিয়ে একটা মেয়ে সেজেগুজে বসে আছে \\n2136.jpg জালানা দিয়ে একটা বাচ্চা ছেলে হাত নারছে\\n2137.jpg কয়েকটা মেয়ে মাথায় বোতল নিয়ে নাচতেছে\\n2139.jpg একটা গেটের উপর বানর বসে আছে \\n2140.jpg টিয়াপাখি ভাগ্য নির্ধারণ চিঠি তুলছে\\n2141.jpg হাত রেখা দেখে ভবিষ্যত গননা করছে\\n2142.jpg হাতে মেহেদী লাগিয়ে নিচ্ছে \\n2143.jpg আকাশে অনেক গুলো কবুতর \\n2144.jpg পানের দোকান \\n2145.jpg শরবতের দোকান \\n2146.jpg ইলিশ মাছ ভাজছে\\n2147.jpg প্যারাসুট নিয়ে পানির উপরে দিয়ে যাচ্ছে \\n2148.jpg প্যারাসুট নিয়ে আকাশে উড়ছে\\n2150.jpg  মোটরসাইকেল চালাচ্ছে \\n2152.jpg মন্দির \\n2153.jpg শঙ্খ বাজাচ্ছেন একজন মহিলা \\n2154.jpg মন্দিরের গায়ে টেরাকোটার কাজ\\n2155.jpg একটা মন্দির \\n2160.jpg ঘাটে অনেক গুলো নৌকা\\n2161.jpg কুয়াশার মধ্যে দিয়ে একটা নৌকা যাচ্ছে \\n2163.jpg ভাস্যমান তরকারি বাজার\\n2165.jpg ভাস্যমান শাক সবজি বাজার\\n2166.jpg একজন ফরেনার ক্যামেরা হাতে আশপাশে অনেক লোক \\n2167.jpg একজন ফরেনার ছবহ তুলছেন\\n2168.jpg একজন পান বিক্রেতা\\n2169.jpg বঙ্গবন্ধু শেখ মুজিবুর রহমান \\n2170.jpg একটি স্তম্ভের উপর একজন একগুচ্ছ গোলাপ ফুল রাখছে\\n2171.jpg বঙ্গবন্ধুর সমাধি\\n2172.jpg বঙ্গবন্ধুর সমাধির কাছের চিত্র \\n2173.jpg বঙ্গবন্ধুর সমাধির কাছের চিত্র \\n2175.jpg চার্চে মোমবাতি জ্বালাচ্ছে\\n2176.jpg ফাদার চার্চের বই পড়ছে\\n2178.jpg মসজিদের উপরে গম্বুজ পরিষ্কার করছে\\n2179.jpg মসজিদের উপরে গম্বুজ পরিষ্কার করছে\\n2182.jpg একজন মুসুল্লি নামাজ পড়ছে\\n2185.jpg কামার মাটির পাত্র বানাচ্ছে \\n2186.jpg ক্যারাম বোর্ডে গুটি ছরানো\\n2187.jpg দুটো বাচ্চা ঘুড়ি উড়িয়ে যাচ্ছে \\n2188.jpg মহিষ কে গোসল করাচ্ছে \\n2190.jpg মহিষ গোসল করছে\\n2191.jpg সমুদ্রের পারে অনেক মানুষ \\n2191.jpg সুইমিং পুল এ গোসল করছে\\n2193.jpg চানাচুরওয়ালা \\n2194.jpg ক্যাম ফায়ার চলছে\\n2195.jpg গুহার ভিতরে ঢুকছে  মশাল জালিয়ে \\n2199.jpg বাউল গান গাচ্ছে একতারা বাজিয়ে \\n2200.jpg বাউলগন ঢোল একতারা বাজিয়ে গান করছে\\n2202.jpg  সমুদ্রের সাঁতরাচ্ছে \\n2204.jpg পাহাড়ের মাঝের নদী দিয়ে নৌকা চালিয়ে যাচ্ছে \\n2205.jpg পাহাড়ের মাঝে নদী \\n2208.jpg পাহাড়ের মাঝে ঝর্ণা \\n2209.jpg  ঝর্ণা \\n2211.jpg হাতি দল পানি পার হচ্ছে \\n2213.jpg হাতি দল পিঠে মানুষ নিয়ে পানি পার হচ্ছে \\n2214.jpg সমুদ্র \\n2215.jpg একটা মেয়ে শাড়ী পরে \\n2223.jpg বিউটিফুল বাংলাদেশ লেখা ব্যানার\\n2233.jpg সমুদ্র অনেক জাহাজ \\n2237.jpg দুজন মানুষ  ব্রিজে দাঁড়িয়ে জাহাজ দেখছে\\n2239.jpg বাইনোকুলার দিয়ে দূরে  দেখার চেষ্টা করছে\\n2241.jpg নদী জাহাজ, নৌকা  \\n2248.jpg বাচ্চা ছেলেপেলে রা পানি তে ঝাপ দিচ্ছে \\n2255.jpg নৌকায় করে ঘুরে বেরাচ্ছে \\n2260.jpg মেয়েটি ছেলেটির দিকে তাকিয়ে আছে \\n2261.jpg একটা মহিলা গোসল করে কলসি তে ভরে নিয়ে যাচ্ছে \\n2264.jpg  নৌকার চালে বসে আছে\\n2288.jpg নৌকার চালে বসে আছে \\n2272.jpg নৌকার চালে বসে প্রকৃতি দেখছে\\n2274.jpg মাঝি নৌকা বাইছে\\n2275.jpg নৌকায় বসে বাইনোকুলার দিয়ে দূরে দেখছে\\n2277.jpg মেয়েটি ম্যাপ দেখছে ছেলেটি বাইনোকুলার দিয়ে দেখছে \\n2278.jpg ছেলেটি মেয়ে টি কে কিছু দেখাচ্ছে \\n2282.jpg  একটি পাল তোলা নৌকা \\n2284.jpg মেয়েটি নৌকার মাথায় শুয়ে আছে \\n2286.jpg মেয়েটি নৌকার মাথায় শুয়ে হাত দুটো ছারিয়ে দিয়েছে \\n2289.jpg  ছেলেটি নৌকায় দাড়িয়ে আছে \\n2291.jpg দুটো হাত\\n2293.jpg  মেয়েটি জেলেদের সাথে জাল বুনছে\\n2295.jpg জেলেরা নদী তে জাল ফেলবে\\n2300.jpg জেলেরা নদী তে জাল টানছে\\n2301.jpg মাছ রান্না করছে\\n2302.jpg মেয়টি চুপচাপ বসে আছে নৌকায়\\n2304.jpg একজন জেলে রান্না মাছের পেলেট আগিয়ে দিচ্ছে মেয়েটির দিকে\\n2309.jpg ছেলটি মেয়েটি মজা করে মাছ খাচ্ছে \\n2311.jpg নদীর উপর ঘর বাড়ি \\n2312.jpg নদীর উপর ঘর বাড়ি আলো জলছে\\n2313.jpg নদীর উপর দুটো ঘর বাড়ি আশ পাশে নৌকা \\n2317.jpg আকাশে চাঁদ মেঘে ঢেকে গেছে \\n2323.jpg  বেদেনী সাপ হাতে \\n2324.jpg বেদেনী সাপের খেলা দেখায়\\n2328.jpg ছেলেটি জালানা দিয়ে বাহিরে দেখছে\\n2329.jpg বেদেনী গলায় সাপ ঝুলিয়ে রেখেছে \\n2332.jpg  ছেলেটি মেয়েটি জালানা দিয়ে বাহিরে দেখছে\\n2335.jpg  ছেলেটি মেয়েটি জালানা দিয়ে বাহিরে দেখছে\\n2336.jpg  মাঝিদের সাথে মিলে ফরেনার গুলো পাল টানছে\\n2337.jpg মাঝিদের সাথে মিলে ফরেনার গুলো পাল টানছে\\n2339.jpg মাঝিদের সাথে মিলে ফরেনার গুলো পাল টানছে\\n2342.jpg দুটো পাল লাগানো নৌকা \\n2350.jpg মেয়েটি ছেলেটির উপর হেলান দিয়ে নৌকার ছাওনির উপর বসে আছে \\n2353.jpg  অনেক গুলো গরু নদীর পারেযাচ্ছে\\n2355.jpg মহিষের পালের পিছে ফরেনার গুলো দৌড়াচ্ছে\\n2357.jpg রাতের বেলা নৌকায় ঘুরে বেরাচ্ছে দুজন\\n2362.jpg মেয়েটা জোনাকি পোকা দেখছে \\n2366.jpg একটি জোনাকি পোকা মেয়েটির মাথার উপর বসেছে\\n2368.jpg ছেলেটা ছবি তুলছে \\n2371.jpg পুকুরে দুটো হাস ভেসে বেরাচ্ছে \\n2372.jpg পুকুরে ডিঙি নৌকা বাধা, বৃষ্টি পরছে\\n2373.jpg ছেলেটা নৌকা চালাচ্ছে মেয়ে টি পানিতে হাত দিয়ে আছে \\n2375.jpg ৪ টা বাচ্চা ভিজে আছে \\n2376.jpg ফরেনারটা কে ধাক্কা দিয়ে পানিতে ফেলে দিচ্ছে বাচ্চা গুলো\\n2377.jpg ফরেনার দুটো উঁচু থেকে কাঁদা মধ্যে স্লাইড করছে\\n2379.jpg কাঁদার মধ্যে গড়িয়ে পরে যাচ্ছে \\n2380.jpg মেয়েটা কাঁদায় গড়িয়ে পরার সময় চিল্লাচ্ছে\\n2382.jpg নদীতে ভিতর ডুব দিচ্ছে \\n2383.jpg নদীতে ডুব দিয়ে উঠলো দুজন\\n2386.jpg নৌকায় উল্টো দিকে বসে আছে ছেলেটা আর মেয়েটা হাত ছারিয়ে বসে আছে \\n2387.jpg দুজন ফরেনার নৌকায় করে ঘুরে বেরাচ্ছে \\n2389.jpg একটা লাল কাপড় জরানো লোক হাত নারছে ফরেনারটা পিছেন ঘুরে দেখছে\\n2390.jpg দুজন বৌদ্ধ ধর্মীগোষ্ঠির লোকে হাত নেরে স্বাগত জানাচ্ছেন ফরেনাররা\\n2391.jpg চারজন বৌদ্ধ ধর্ম গোষ্ঠীর মানুষ \\n2392.jpg পাহাড়ের মাঝে দিয়ে নদী পাশাপাশি দুটো নৌকা পাহাড়ের গা বেয়ে ঝর্ণা ধারা\\n2398.jpg ফরেনার দুজন ঝর্ণা তে ভিজছে\\n2400.jpg একজন বংশীবাদক \\n2402.jpg ফরেনার দুজন হাসছে\\n2405.jpg একটা মেয়ে দূরের দৃশ্য তার ক্যানভাসে আঁকছে\\n2407.jpg ফরেনার ছেলেটা নৌকা সামনে বসে চালাচ্ছে, মেয়ে টা দারিয়ে আছে\\n2409.jpg গাছের নিচ দিয়ে নৌকাটা যাচ্ছে \\n2413.jpg বড় পানসি তে বসে ফরেনার দুজন খাচ্ছে  আর দুজন খাবার পরিবেশন করছে\\n2414.jpg ফরেনার দুজন অন্য দিকে তাকিয়ে কিছু দেখছে \\n2417.jpg রয়েল বেঙ্গল টাইগার \\n2419.jpg ফরেনার দুজন মগ ধরে আছে \\n2423.jpg মেয়েটা  গাছের সঙ্গে টানানো জালের বিছানায় শুয়ে বই পড়ছে  আর ছেলেটা মাথায় একটা ক্যাপ পরে নৌকায় বসে আছে \\n2425.jpg মেয়েটা  গাছের সঙ্গে টানানো জালের বিছানায় শুয়ে বই পড়ছে  আর ছেলেটা মাথায় একটা ক্যাপ পরে নৌকায় বসে আছে \\n2429.jpg বিশাল নদী আকাশ মেঘের আরালে সূর্য \\n2431.jpg ফরেনার দুজন চা খাচ্ছে নৌকার উপরে বসে\\n2433.jpg ফরেনার দুজন সবাইকে বিদায় জানাচ্ছে \\n2437.jpg অনেক গুলো নৌকা গোল হয়ে মাছ ধরছে\\n2448.jpg বিউটিফুল বাংলাদেশ লেখা ব্যানার\\n\\n\\n2471.jpg দুইজন লোক নৌকায় মালামাল সামলাচছে\\n2480.jpg নৌকায় করে দুইজন মালামাল বহন করে নিয়ে যাচ্ছে \\n2483.jpg নদীতে একটি নৌকায় দুই জন লোক বসে আছে\\n2506.jpg নদীতে একটি পাল তোলা নৌকা চলছে\\n2507.jpg নদীতে নৌকাটির উপর মাঝি বৈঠা হাতে দাঁড়িয়ে আছে\\n2512.jpg ডাঙাতে একটি কুমির হাটছে \\n2522.jpg ডাঙাতে একটি কুমির দেখা যাচ্ছে \\n2533.jpg একটি কুমির পানিতে সাঁতার কাটছে\\n2543.jpg পানিতে একটি ডিঙি নৌকা চলছে\\n2546.jpg আকাশে সাদা মেঘ এবং নদীর তীরে সবুজ গাছপালা দেখা যাচ্ছে \\n2550.jpg একটি পর্যটক বিবর এর প্রধান ফটক দেখা যাচ্ছে \\n2553.jpg অনেক সবুজ গাছপালা দেখা যাচ্ছে \\n2554.jpg নদীর পাড়ে  কিছু সবুজ গাছপালা দেখা যাচ্ছে \\n2555.jpg নদীতে দুইটি লঞ্চ চলছে\\n2556.jpg নদীর তীরে একটি লঞ্চ থেমে আছে \\n2567.jpg একটি কচ্ছপ সাঁতার কাটছে \\n2572.jpg পানিতে ঢেউ দেখা যাচ্ছে \\n2589.jpg  দোঁআশ মাটিতে কতগুলো সবুজ গাছ দেখা যাচ্ছে \\n2581.jpg একটি হরিণ ঘাষ খাচ্ছে \\n2588.jpg মাঠে একটি হরিণ দাঁড়িয়ে আছে \\n2594.jpg সূর্যাস্তের সময় সূর্যের লাল আভাতে আকাশ ছেয়ে আছে \\n2602.jpg আকাশে সূর্যের লাল আভা দেখা যাচ্ছে এবং নদীতে পাল তোলা নৌকা চলছে \\n2607.jpg সাগরের পানির উপর দিয়ে অতিথি পাখি উড়ে আসছে \\n2612.jpg আকাশের নিচে একটি বক দাঁড়িয়ে আছে \\n2613.jpg মাঠে একটি বক দাঁড়িয়ে আছে \\n2619.jpg মাঠে একটি বক এর পিছনে সবুজ গাছপালা দেখা যাচ্ছে \\n2623.jpg সবুজ গাছের সামনে একটি বক দাঁড়িয়ে আছে \\n2632.jpg  একটি বক পাখা মেলে দাড়িয়ে আছে \\n2633.jpg  একটি বক ডানা মেলে আছে \\n2635.jpg একটি বক ডানা মেলে উড়ছে \\n2639.jpg একটি বক আকাশে উড়ছে\\n2640.jpg গাছের পাতার উপর একটি পাখি বসে আছে \\n2641.jpg গাছের পাতার উপর একটি পাখি মাথা বাঁকা করে বসে আছে \\n2642.jpg গাছের পাতার উপর একটি পাখি বসে বিশ্রাম নিচ্ছে \\n2644.jpg গাছের উপর পাখি বসে আছে \\n2649.jpg সবুজ পাতার উপরে পাখি বসে আছে \\n2652.jpg  সাদা বক পানিতে দাঁড়িয়ে আছে \\n2655.jpg বক ডানা মেলে উড়ছে \\n2656.jpg বক উড়ে যাচ্ছে\\n2664.jpg সাদা বক পানিতে দাঁড়িয়ে আছে \\n2667.jpg সাদা বক কাদাবালিতে দাঁড়িয়ে আছে \\n2672.jpg সাদা বক পানি পান করছে \\n2676.jpg সূর্য অস্ত্ যাচ্ছে \\n2686.jpg সুন্দর বন এর মানচিত্র তুলে ধরা হয়েছে \\n2690.jpg পানিতে কুমির সাঁতার কাটছে \\n2693.jpg পানিতে কুমির এর মাথা দেখা যাচ্ছে \\n2699.jpg পানির ভিতর দিয়ে কুমির এর চোখ দেখা যাচ্ছে \\n2702.jpg কুমির মুখ হা করে রেখেছে \\n2711.jpg কুমির ডাঙা থেকে পানিতে ঝাপ দিচ্ছে \\n2712.jpg পানিতে ঢেউ সৃষ্টি হয়েছে \\n2718.jpg আকাশে মেঘ এবং নদীর তীরে সবুজ গাছপালা দেখা যাচ্ছে \\n2742.jpg মন্দির এর সামনে গাছপালা দেখা যাচ্ছে \\n2745.jpg দুইজন মেয়ে নাচছে \\n2748.jpg দুইজন অনুষ্ঠানে নাচছে \\n2753.jpg কয়েকজন নাচ প্রদর্শন করছে \\n2756.jpg ছেলে মেয়েরা দলগত নাচ প্রদর্শন করছে \\n2758.jpg দলগত নাচ প্রদর্শন করা হচ্ছে \\n2759.jpg সবাই বৈঠা হাতে নাচ প্রদর্শন করছে \\n2760.jpg একজন মহিলা এবং একটি ছোট ছেলে মঞ নাটক প্রদর্শন করছে \\n2763.jpg মহিলাটি ছোট ছেলেটির দিকে তাকিয়ে আছে \\n2766.jpg ছেলেটি অভিনয় করার সময়ে সংলাপ বলছিল\\n2768.jpg ছেলেটি অভিনয় যাত্রাপালা প্রদর্শন করছে \\n2773.jpg শিক্ষার্থীরা যাত্রা পালা প্রদর্শন করছে \\n2777.jpg খরের ঘরে কতগুলো পুতুল দেখা যাচ্ছে \\n2781.jpg খরের ঘরের চারপাশে সবুজ গাছপালা দেখা যাচ্ছে \\n2782.jpg চরের মাঝে কিছু সবুজ গাছপালা দেখা যাচ্ছে \\n2785.jpg গাছপালার উপরে আকাশে সাদা মেঘ দেখা যাচ্ছে \\n2788.jpg দূরে পাল তোলা নৌকা চলছে\\n2792.jpg গ্রিল বেয়ে পানির ফোটা পরছে \\n2805.jpg দূরে সবুজ গাছপালা দেখা যাচ্ছে \\n2806.jpg  নদীর উপরে আকাশে সাদা মেঘ দেখা যাচ্ছে \\n2818.jpg সবুজ গাছপালা দেখা যাচ্ছে \\n2829.jpg নদীর তীরে সবুজ গাছপালা দেখা যাচ্ছে \\n2832.jpg দুইটি গাছের ডালে দুইটি পাখি বসে আছে \\n2837.jpg গাছের ডালে পাখি বসে আছে \\n2841.jpg পাতাহীন গাছের ডালে পাখি বসে আছে \\n2848.jpg সবুজ গাছে একটি পাখি দেখা যাচ্ছে\\n2851.jpg গাছের ডালে একটি নীল পাখি বসে আছে \\n2864. jpg গাছের ডালে নীল পাখি দেখা যাচ্ছে \\n2868.jpg একটি গাছে কালো রঙের পাখি বসে আছে \\n2874.jpg নদীতে কতগুলো ছোট নৌকা দেখা যাচ্ছে \\n2878.jpg নদীর তীরে দূরের কিছু গাছপালা দেখা যাচ্ছে \\n2883.jpg ঘাটে একটি লঞ্চ থেমে আছে \\n2884.jpg নদীর তীর দিয়ে একটি সরু পথ চলে গেছে \\n2885.jpg নদীর তীরে কতগুলো সবুজ গাছপালা দেখা যাচ্ছে \\n2889.jpg সুন্দর বন এর তথ্য সম্বলিত একটি বিলবোরড দেখা যাচ্ছে\\n2892.jpg একজন লোক সরু পথ দিয়ে হেঁটে যাচ্ছে \\n2894.jpg তারকাটার অপর পাশে একটি নার্সারি দেখা যাচ্ছে \\n2898.jpg বিভিন্ন ধরনের গাছপালার বাহার দেখা যাচ্ছে\\n2903. jpg বাঘ কে নিয়ে একটি বিলবোরড দেখা যাচ্ছে \\n2907.jpg বিলবোরড এর আশেপাশে অনেক সবুজ গাছপালা দেখা যাচ্ছে \\n2912.jpg সরু পথের ধারে সবুজ গাছপালা দেখা যাচ্ছে \\n2916.jpg নীল আকাশের নীচে সবুজ গাছপালা দেখা যাচ্ছে \\n2892.jpg একটি বাঘ দেখা যাচ্ছে \\n2933.jpg একটি বাঘ সিরি দিয়ে হেঁটে যাচ্ছে \\n2935.jpg একটি বাঘ সিরির উপর দাঁড়িয়ে আছে \\n2942.jpg একটি বাঘ ঘাসের মধ্য দিয়ে হেঁটে যাচ্ছে \\n2943.jpg একটি বাঘ ঘাসের মধ্যে দাঁড়িয়ে আছে \\n2946.jpg দূরে একটি বাঘ হেঁটে যাচ্ছে \\n\\n\\n\\n\\n3001.jpg রাস্তায় একটি লোকের এক পা এবং পিছনে কয়েকটি ষাড় দেখা যাচ্ছে \\n3001.jpg কিছু মানুষ দৌড়াচ্ছে আর তাদের পিছনে কয়েকটি ষাড় দৌড়াচ্ছে \\n3001.jpg রাস্তায় কয়েকটি ষাড় দৌড়াচ্ছে আর পাশের দালানের বারান্দা থেকে মানুষ দেখছে\\n3001.jpg দালানের সামনের রাস্তা দিয়ে কয়েকটি ষাড় দৌড়াচ্ছে \\n3001.jpg দালানের সামনের রাস্তা দিয়ে কয়েকটি ষাড় কিছু  মানুষের সামনে দৌড়াচ্ছে\\n3002.jpg একজন লোক মোটরসাইকেল নিয়ে কসরত দেখাচ্ছে \\n3002.jpg একজন লোক মোটরসাইকেল নিয়ে কসরত দেখাচ্ছে এবং পিছনে দুটি লোক দাঁড়িয়ে তা দেখছে \\n3002.jpg একজন লোক হেলমেট পরে মোটরসাইকেল নিয়ে কসরত দেখাচ্ছে\\n3002.jpg একজন লোক হেলমেট পরে পিছনের চাকাকে রাস্তা থেকে খানিকটা উপরে তুলে মোটরসাইকেল নিয়ে রাস্তায় কসরত দেখাচ্ছে \\n3002.jpg একজন লোক হেলমেট পরে পিছনের চাকাকে রাস্তা থেকে খানিকটা উপরে তুলে মোটরসাইকেল নিয়ে রাস্তায় কসরত দেখাচ্ছে এবং পিছনে দুটি লোক দাঁড়িয়ে তা দেখছে\\n3003.jpg একজন লোক হেলমেট পরে মোটরসাইকেলের উপর দাঁড়িয়ে আছে\\n3003.jpg একজন লোক হেলমেট পরে পিচঢালা রাস্তায় মোটরসাইকেলের উপর দাঁড়িয়ে আছে\\n3003.jpg একজন লোক হেলমেট পরে পিচঢালা রাস্তায় মোটরসাইকেলের উপর দাঁড়িয়ে আছে এবং পিছনের মাঠ সবুজ ঘাসে ঢাকা\\n3003.jpg সাদাকালো মোটরসাইকেলের উপর হেলমেট পরে লোকটি কসরত দেখাচ্ছে \\n3003.jpg সাদাকালো মোটরসাইকেলের উপর লাল,নীল হেলমেট এবং সাদাকালো জামা পড়ে লোকটি কসরত দেখাচ্ছে \\n3004.jpg বাদামী রংয়ের কুকুরটির গলায় ফিতা বাঁধা\\n3004.jpg গলায় ফিতা বাঁধা বাদামী রংয়ের কুকুরটি উপহারের সামনে বসে আছে\\n3004.jpg গলায় ফিতা বাঁধা বাদামী রংয়ের কুকুরটি ইটের দেয়ালের সামনে বসে আছে\\n3005.jpg ছোট বাচ্চা মেয়েটি হাসছে\\n3005.jpg সোনালী চুলের ছোট বাচ্চা মেয়েটি দাঁত বের করে হাসছে\\n3005.jpg  সোনালী চুলের ছোট বাচ্চা মেয়েটি দুই ঝুটিকরে দাঁত বের করে হাসছে\\n3005.jpg  সোনালী চুলের ছোট বাচ্চা মেয়েটি দাঁত বের করে হাসছে এবং হাতে একটি ছোট ঢাকনা ধরে আছে\\n3005.jpg সোনালী চুলের ছোট বাচ্চা মেয়েটি দাঁত বের করে হাসছে এবং হাতে একটি ছোট টিয়া রংয়ের  ঢাকনা ধরে আছে\\n3006.jpg মহিলাটি হাতে একটি মগ ধরে আছে\\n3006.jpg  মহিলাটি হাতে একটি মগ ধরে অন্য দিকে অল্প হাসছে \\n3006.jpg ছোট চুলের মহিলাটি চশমাটি মাথায় রেখে হাতে একটি মগ ধরে আছে\\n3006.jpg ছোট চুলের মহিলাটি গেন্জি পরে চশমাটি মাথায় রেখে হাতে একটি মগ ধরে আছে\\n3006.jpg ছোট চুলের মহিলাটি গেন্জি পরে চশমাটি মাথায় রেখে হাতে একটি মগ ধরে অন্য দিকে তাকিয়ে হাসছে\\n3007.jpg একটি ছোট কুকুরের পিছনে  একটি বড় কুকুর দৌড়াচ্ছে \\n3007.jpg সবুজ ঘাসে ঢাকা মাঠে একটি ছোট কুকুরের পিছনে  একটি বড় কুকুর দৌড়াচ্ছে \\n3007.jpg সবুজ ঘাসে ঢাকা মাঠে একটি ছোট কুকুরের পিছনে  একটি বড় কুকুর দৌড়াচ্ছে এবং পিছনে ঘন জঙ্গল\\n3007.jpg জঙ্গলের অনেকটা সামনে সবুজ মাঠে দুটি কুকুর দৌড়াচ্ছে \\n3007.jpg \\n3008.jpg সমুদ্রের তীরে তিনটি মহিলা দাঁড়িয়ে আছে \\n3008.jpg সমুদ্রের তীরে তিনটি মহিলা দাঁড়িয়ে কথা বলছে এবং ছবি তুলছে\\n3008.jpg সমুদ্রের তীরে তিনটি মহিলা দাঁড়িয়ে আছে এবং বালির উপর তাদের ছায়া পরেছে\\n3008.jpg সমুদ্রের তীরে তিনটি মহিলা ক্যামেরা হাতে দাঁড়িয়ে আছে\\n3008.jpg সমুদ্রের তীরে তিনজন মানুষ দাঁড়িয়ে আছে এবং সামনেই সমুদ্রের পানি দেখা যাচ্ছে \\n3009.jpg গেঞ্জি ও প্যান্ট পরা দুটি মেয়ে হাঁটছে \\n3009.jpg সোনালী চুলের গেঞ্জি ও প্যান্ট পরা  দুটি মেয়ে হাঁটছে\\n3010.jpg দুটি বাচ্চা খেলনা গাড়িতে বসে আছে\\n3010.jpg দুটি বাচ্চা ছেলে খেলনা গাড়িতে বসে আছে\\n3010.jpg দুটি বাচ্চা ছেলে খেলনা গাড়িতে বসে আছে এবং একটি ছেলে উপরের দিকে তাকিয়ে আছে\\n3010.jpg দুটি বাচ্চা ছেলে খেলনা গাড়িতে বসে আছে এবং একটি ছেলে উপরের দিকে জিহ্বা বের করে  তাকিয়ে আছে\\n3010.jpg দুটি বাচ্চা ছেলে খেলনা গাড়িতে সামনের আসনটি ধরে বসে আছে এবং একটি ছেলে উপরের দিকে তাকিয়ে আছে\\n3011.jpg অনেকগুলো মহিলা ক্যামেরার দিকে তাকিয়ে আছে\\n3011.jpg কয়েকজন মহিলা ক্যামেরার দিকে তাকিয়ে হাসছে\\n3011.jpg কয়েকজন মহিলা ক্যামেরার দিকে তাকিয়ে দাঁত বের করে হাসছে\\n3011.jpg কয়েকজন মহিলা একে অপরকে ধরে ক্যামেরার দিকে তাকিয়ে হাসছে\\n3011.jpg সাতজন মহিলা ক্যামেরার দিকে তাকিয়ে হাসছে\\n3012.jpg লোহার একটি পাইপে পা দুটি আটকে রেখে ছোট ছেলেটি উল্টো হয়ে ঝুলছে \\n3012.jpg  সবুজ ঘাসে ঢাকা মাঠের উপর লোহার একটি পাইপে পা দুটি আটকে রেখে ছোট ছেলেটি উল্টো হয়ে ঝুলছে \\n3012.jpg সবুজ ঘাসে ঢাকা মাঠের উপর লোহার একটি পাইপে পা দুটি আটকে রেখে ছোট ছেলেটি উল্টো হয়ে ঝুলছে আর পিছনে গাছপালা\\n3013.jpg সমুদ্রের তীরে দুটি ছেলে আর দুটি কুকুর \\n3013.jpg সমুদ্রের তীরে একটি ছেলে দাঁড়িয়ে আছে এবং তার সামনে আরেকটি ছেলে কুকুরগুলোকে ধরার চেষ্টা করছে\\n3013.jpg সমুদ্রের তীরে হাফপ্যান্ট পরা একটি ছেলে দাঁড়িয়ে আছে এবং তার সামনে আরেকটি হাফপ্যান্ট পরা ছেলে কুকুরগুলোকে ধরার চেষ্টা করছে\\n3014.jpg তিনজন মানুষ মুখোমুখি দাঁড়িয়ে আছে \\n3014.jpg একটি মেয়ে আরেকটি ছেলের দিকে তাকিয়ে আছে\\n3014.jpg তিনজন মানুষ মুখোমুখি দাঁড়িয়ে আছে এবু তাদের পিছনে রাস্তায় কিছু মানুষ ও গাড়ি আছে \\n3014.jpg শীতের পোশাক পরে ব্যাগ কাঁধে নিয়ে উল্টো ঘুরে একটি ছেলে দাঁড়িয়ে আছে\\n3015.jpg বাচ্চাটি খেলছে\\n3016.jpg তিনটি বাচ্চা ছেলে সুইমিংপুলের পানিতে লাফ দিচ্ছে \\n3016.jpg  তিনটি বাচ্চা ছেলে হাত ধরে একসাথে সুইমিংপুলের পানিতে লাফ দিচ্ছে \\n3016.jpg  হাফপ্যান্ট পরা তিনটি বাচ্চা ছেলে সুইমিংপুলের নীল পানিতে লাফ দিচ্ছে আর তাদের পিছনে সবুজ মাঠ\\n3016.jpg হাফপ্যান্ট পরা তিনটি বাচ্চা ছেলে সুইমিংপুলের নীল পানিতে লাফ দিচ্ছে আর তাদের পিছনে সবুজ মাঠ,ফুলের একটি গাছ ও একটি কলা গাছ\\n3017.jpg একটি বাচ্চা মেয়ে সাইকেল চালাচ্ছে \\n3017.jpg বেড়া দেয়া দেয়ালের পাশে একটি মেয়ে ফ্রক পরে সাইকেল চালাচ্ছে \\n3017.jpg নীল আকাশের নিচে একটি বাচ্চা মেয়ে সাইকেল চালাচ্ছে\\n3017.jpg নীল আকাশের নিচে পীচঢালা রাস্তায়  একটি বাচ্চা মেয়ে সাইকেল চালাচ্ছে\\n3017.jpg নীল আকাশের নিচে বেড়া দেয়া দেয়ালের পাশে একটি মেয়ে লাল ফ্রক পরে সাইকেল চালিয়ে সামনের দিকে এগিয়ে যাচ্ছে\\n3018.jpg গাছের ডালে একটি ছেলে বসে আছে\\n3018.jpg ছোট গাছ আর ঘাসে ঢাকা সবুজ মাঠে একটি বড় গাছের ডালের উপর একটি ছোট ছেলে বসে আছে\\n3018.jpg হলুদ গেন্জি নীল প্যান্ট আর সাদা জুতা পরা ছোট ছেলেটি গাছের ডালে উল্টো হয়ে বসে আছে \\n3018.jpg সবুজ মাঠের উপর পরে থাকা গাছের উপর  হলুদ গেন্জি নীল প্যান্ট আর সাদা জুতা পরা ছোট ছেলেটি বসে আছে\\n3019.jpg বৃষ্টির মধ্যে পিচঢালা রাস্তায় একটি মহিলা ছোট ছেলেটির হাত ধরে হেটে যাচ্ছে \\n3019.jpg বৃষ্টির মধ্যে পিচঢালা রাস্তায় একটি মহিলা ছোট ছেলেটির হাত ধরে হেটে যাচ্ছে এবং তাদের পিছনে যানবাহন \\n3019.jpg বৃষ্টির মধ্যে পিচঢালা রাস্তায় একটি মহিলা ছাতা মাথায় দেয়া ছোট ছেলেটির হাত ধরে হেটে যাচ্ছে\\n3019.jpg শাড়ি পরা মহিলা বৃষ্টির মধ্যে পিচঢালা রাস্তায় ছোট ছেলেটির হাত ধরে হেটে যাচ্ছে\\n3021.jpg কালো কুকুরটির গলায় সবুজ রংয়ের বেল্ট বাঁধা \\n3021.jpg কালো কুকুরটির মুখে কোন আইসক্রিম \\n3021.jpg আইসক্রিম মুখে নিয়ে কুকুরটি উপরের দিকে তাকিয়ে আছে\\n3021.jpg গলায় সবুজ রংয়ের বেল্ট বাঁধা কালো রঙের কুকুরটি মুখে আইসক্রিম নিয়ে উপরের দিকে তাকিয়ে আছে\\n3021.jpg রাস্তায় দাঁড়িয়ে গলায় সবুজ রংয়ের বেল্ট বাঁধা কালো রঙের কুকুরটি মুখে আইসক্রিম নিয়ে উপরের দিকে তাকিয়ে আছে \\n3022.jpg অনেকগুলো মানুষের পা ও জুতো দেখা যাচ্ছে \\n3022.jpg দুটি ছেলের পাশে বসা অনেকগুলো মানুষের পা ও জুতো দেখা যাচ্ছে \\n3022.jpg ছেলেটি রাগ হয়ে অন্য দিকে তাকিয়ে আছে\\n3023.jpg ছোট ছেলেটার হাতে খেলনা বন্দুক \\n3023.jpg খেলনা বন্দুক দিয়ে ছেলেটা পানি ছিটাচ্ছে\\n3023.jpg ফুলহাতা কালো জামা পরা ছোট ছেলেটি সামনে পানির অসংখ্য ফোঁটা \\n3023.jpg ছোট ছেলেটি মুখ হা করে খেলনা বন্দুক দিয়ে খেলছে\\n3024.jpg মাঠের উপর দুটি কুকুর দৌড়াচ্ছে \\n3024.jpg মাঠের উপর দুটি কুকুর দৌড়াচ্ছে আর পিছনে পিচঢালা রাস্তা সোনালী ও বাদামী রংয়ের দুটি কুকুর মাঠে দৌড়াচ্ছে\\n3025.jpg মাঠে তিনজন খেলোয়াড় \\n3025.jpg মাঠে একজন খেলোয়াড় মাটিতে পরে গেছে একজন তাকে ধরার চেষ্টা করছে এবং আরেকজন দৌড়ে আসছে\\n3025.jpg মাঠে একজন খেলোয়াড় মাটিতে পরে গেছে বলে তাকে অন্যজন  ধরার চেষ্টা করছে ও আরেকজন দৌড়ে আসছে এবং পিছনের গ্যালারিতে দর্শকরা বসে আছে\\n3026.jpg বিদেশি দুটি মেয়ে পাশাপাশি বসে সেলফি তুলছে\\n3026.jpg চোখে কালো চশমা গলায় লম্বা চেইন ও কোলের উপর ব্যাগ রেখে ক্যামেরা দিয়ে একটি মেয়ে পাশের মেয়ের সাথে সেলফি তুলছে\\n3026.jpg বিদেশি দুটি মেয়ে পাশাপাশি বসে সেলফি তুলছে এবং তাদের পিছনে কিছু মানুষ বসে আছে \\n3027.jpg কাঠের পাটাতনের উপর তিনটি বাচ্চা ও একটি যুবক বাস্কেটবল খেলছে\\n3027.jpg একটি মেয়ে বাস্কেটবলটিকে উপরে ছুড়ে দিয়েছে \\n3027.jpg বাচ্চারা বাস্কেটবল খেলছে এবং একটি ছেলে সামনে দাঁড়িয়ে তা দেখছে \\n3027.jpg বাচ্চারা বাস্কেটবল খেলছে এবং একটি ছেলে সামনে দাঁড়িয়ে তা দেখছে এবং তাদের পিছনে ঘাসে ঢাকা সবুজ মাঠ ও একটি টিনের jpg\\n3028.jpg জীপ গাড়ির উপরে একটি মেয়ে বসে আছে\\n3028.jpg  জীপ গাড়ির উপরে একটি মেয়ে বসে আছে এবং ভিতরে একটি ছোট ছেলে গাড়ি চালাচ্ছে ও তার পাশে একটি লোক বসে আছে\\n3028.jpg জঙ্গলের ভিতরের রাস্তায়  জীপ গাড়ির ছাদের উপরে একটি মেয়ে অন্যদিকে তাকিয়ে বসে আছে\\n3029.jpg রাস্তায় দুটি মেয়ে দাঁড়িয়ে আছে\\n3029.jpg রাস্তায় একটি মেয়ে উপরের দিকে মুখ করে দাঁড়িয়ে আছে এবং অন্য একটি মেয়ে ক্যামেরা দিয়ে তার ছবি তুলছে\\n3029.jpg  রাস্তায় দুটি মেয়ে দাঁড়িয়ে আছে এবং তাদের খানিকটা  পিছনে বসার কিছু বেঞ্চ ও গাছ\\n3030.jpg একটি লোক কালো চশমা পরে আছে \\n3030.jpg একটি লোক মাথায় টুপি পরে আছে \\n3030.jpg লোকটি চশমা ও টুপি পরে মুচকি হাসছে\\n3031.jpg দুটি উট দৌড়াচ্ছে \\n3032.jpg একজন লোক মোটরবাইক চালাচ্ছে \\n3032.jpg হেলমেট পরে একজন লোক মোটরবাইক চালাচ্ছে \\n3032.jpg পিচঢালা রাস্তায় হেলমেট পরে একজন লোক মোটরবাইক চালাচ্ছে\\n3033.jpg ছাতা মাথায় দিয়ে মেয়েটি তাকিয়ে আছে \\n3033.jpg সোনালী ছোট চুলের মেয়েটি মুচকি হাসছে\\n3033.jpg সোনালী ছোট চুলের মেয়েটি কালো ছাতা মাথার উপর ধরে মুচকি হাসছে\\n3034.jpg শুকরটি একটি পলিথিনের উপর দাঁড়িয়ে আছে\\n3034.jpg শুকরটি একটি পলিথিনের উপর উল্টো ঘুরে দাঁড়িয়ে আছে\\n3034.jpg সাদাকালো শুকরটি একটি পলিথিনের উপর উল্টো ঘুরে দাঁড়িয়ে আছে\\n3035.jpg অনেকগুলো মানুষ একসাথে দাঁড়িয়ে আছে \\n3035.jpg মাঠে অনেকগুলো ছেলেমেয়ে একসাথে দাঁড়িয়ে আছে \\n3035.jpg মাঠে অনেকগুলো ছেলেমেয়ে একে অপরকে ধরে দাঁড়িয়ে আছে\\n3035.jpg মাঠে অনেকগুলো ছেলেমেয়ে একসাথে দাঁড়িয়ে আছে এবং তাদের মধ্যে একটি ছেলে একটি মেয়েকে কোলে তুলে রেখেছে \\n3035.jpg মাঠে অনেকগুলো ছেলেমেয়ে একসাথে দাঁড়িয়ে আছে এবং তাদের পিছনে ঘরবাড়ি, সবুজ গাছপালা ও সাদা মেঘে ঢাকা আকাশ \\n3036.jpg খালি গায়ে ছোট একটি ছেলে জানালার গ্লাসে হাত দিয়ে দাঁড়িয়ে আছে \\n3036.jpg খালি গায়ে ছোট একটি ছেলে জানালার গ্লাসে হাত দিয়ে দাঁড়িয়ে আছে এবং জানালার অপর প্রান্তে আরেকটা ছোট ছেলে দাঁড়িয়ে আছে \\n3036.jpg খালি গায়ে ছোট একটি ছেলে জানালার গ্লাসে হাত দিয়ে দাঁড়িয়ে আছে এবং জানালার অপর প্রান্তে আরেকটা ছোট ছেলে হাতে পানির পাইপ নিয়ে দাঁড়িয়ে আছে \\n3036.jpg খালি গায়ে ছোট একটি ছেলে জানালার গ্লাসে হাত দিয়ে দাঁড়িয়ে আছে এবং জানালার অপর প্রান্তে আরেকটা ছোট ছেলে পানির পাইপ দিয়ে পানি দিচ্ছে \\n3036.jpg খালি গায়ে ছোট একটি ছেলে জানালার গ্লাসে হাত দিয়ে দাঁড়িয়ে আছে যার মেরুদণ্ডের হাড় গুলো বোঝা যাচ্ছে\\n3037.jpg কয়েকটি উট দৌড়াচ্ছে \\n3038.jpg খালি সোফার কাভারের সাথে একটি লিখাওয়ালা কাগজ আটকানো \\n3038.jpg খালি সোফার পিছনে একটি লোক মাথায় হাত দিয়ে বসে আছে\\n3039.jpg নদীতে ছোট নৌকা ভর্তি অনেক মানুষ \\n3039.jpg নৌকায় মানুষ,মোটরবাইক,সাইকেল ও অনেক কিছু রাখা \\n3039.jpg নদীর পাড়েই সবুজ বড় বড় ঘাস\\n3040.jpg সাইকেলের প্রতিযোগিতা চলছে \\n3040.jpg অনেকগুলো ছেলে সাইকেল প্রতিযোগিতায় অংশ নিয়েছে \\n3040.jpg হেলমেট অনেকগুলো ছেলে সাইকেল চালাচ্ছে\\n3040.jpg পিচঢালা রাস্তায় অনেকগুলো ছেলে সাইকেল প্রতিযোগিতায় অংশগ্রহণ করেছে \\n3040.jpg\\n3041.jpg টেবিলের উপর পাতিল ও কিছু প্লেট রাখা \\n3041.jpg কাঠের টেবিলের উপর পাতিলে ভাত,তরকারি ও খালি প্লেট রাখা \\n3041.jpg টেবিলে তিনটি খালি প্লেট, একটি পাতিলে ভাত, একটিতে তরকারি, অন্য একটি প্লেটে ভাজি ও বাটিতে ডাল রাখা\\n3041.jpg কাঠের টেবিলের উপর পাতিলে ভাত,তরকারি ও খালি প্লেট রাখা ও একটি হাত দেখা যাচ্ছে\\n3042.jpg অনেকগুলো মানুষ মাঠে দাঁড়িয়ে আছে \\n3042.jpg অনেকগুলো মানুষের মাঝে একটি ছোট মেয়ে ছাগল নিয়ে দাঁড়িয়ে আছে\\n3043.jpg শিশুটি ক্রিম দিয়ে নিজেকে মাখিয়ে ফেলেছে\\n3043.jpg নীল চোখের শিশুটি ক্রিম দিয়ে নিজেকে মাখিয়ে ফেলেছে \\n3043.jpg দুহাতে ক্রিম মাখিয়ে বাচ্চাটি নিচের দিকে তাকিয়ে আছে\\n3044.jpg রাস্তায় একটি বাচ্চা বসে আছে এবং আরেকটি দাঁড়িয়ে আছে \\n3044.jpg রাস্তার পানিতে একটি বাচ্চা বসে আছে এবং আরেকটি দাঁড়িয়ে আছে\\n3045.jpg তিনজন লোক সমুদ্রের ধারে বসে আছে এবং তাদের পিছনে সমুদ্রের বড় ঢেউ আছড়ে পড়ছে\\n3046.jpg তিনটি ছেলে সমুদ্রের পাড়ে  বসে আছে \\n3046.jpg তিনটি ছেলে সমুদ্রের পাড়ে  বসে আছে এবং তাদের পিছনে বড় একটি ঢেউ আছড়ে পরছে\\n3046.jpg তিনটি ছেলে সমুদ্রের পাড়ে  বসে আছে এবং তাদের সামনে আরেকটি ছেলে মাথা বের করে পানিতে ডুবে আছে \\n3046.jpg তিনটি ছেলে সমুদ্রের পাড়ে  বসে দেখছে যে তাদের পিছনে বড় একটি ঢেউ আছড়ে পরছে\\n3047.jpg পানির খানিকটা উপরে বাধা দোলনায় মেয়েটি দোল খাচ্ছে \\n3047.jpg গাছের ডাল থেকে  বাধা রশি আর কাঠের টুকরো তে বানানো দোলনায় মেয়েটি দোল খাচ্ছে \\n3047.jpg চারপাশে পানির মধ্যে দুটি মরা গাছ ও একটি গাছের দোলনায় একটি বাচ্চা মেয়ে দোল খাচ্ছে \\n3047.jpg কাঠের তক্তায় বসে একটি ভাঙা ডাল ধরে মেয়েটি দোল খাচ্ছে\\n3048.jpg সুইমিংপুলের পানিতে ছোট মেয়েটি হাঁটছে \\n3048.jpg সুইমিংপুলের পানিতে ছোট মেয়েটি হাঁটছে এবং সামনেই ব্যাগ কাঁধে একটি লোক দাঁড়িয়ে আছে\\n3048.jpg সুইমিংপুলের পানিতে ছোট মেয়েটি হাঁটছে এবং তার সামনে ব্যাগ কাঁধে একটি লোক দাঁড়িয়ে আছে ও পিছনে অনেক গুলো মানুষ ছড়িয়ে ছিটিয়ে আছে \\n3049.jpg ছেলেটা মাটি থেকে উপরে লাফ দিয়েছে \\n3049.jpg টুপি পরা ছেলেটি মাটি থেকে কিছুটা উপরে লাফ দিয়ে দিয়েছে\\n3050.jpg গাড়ির ভিতরে একটি লোক বাচ্চা কোলে নিয়ে আছে \\n3050.jpg গাড়ির ভিতরে লোকটি বাচ্চা কোলে নিয়ে আছে এবং তার মাথায় চুমু দিচ্ছে\\n3051.jpg হাফ প্যান্ট, টি শার্ট পরে একটি লোক হাটছে আর তার ছায়া পরেছে রাস্তায় \\n3051.jpg জেব্রা ক্রসিংয়ের উপর একজন পুলিশ দাঁড়িয়ে আছে \\n3051.jpg জেব্রা ক্রসিংয়ের উপর একজন পুলিশ দাঁড়িয়ে আছে  এবং তার পিছনে একজন সাইকেল চালাচ্ছে \\n3051.jpg রাস্তায় কিছু মানুষ আছে এবং পিছনে অনেক অনেক বড় বড়  দালান \\n3051.jpg হাফ প্যান্ট, গেন্জি পরে একটি লোক হাটছে আর তার ছায়া পরেছে রাস্তায় এবং জেব্রা ক্রসিংয়ের উপর একজন পুলিশ দাঁড়িয়ে আছে  ও তার পিছনে একজন সাইকেল চালাচ্ছে \\n3052.jpg একটি লোক দাঁড়িয়ে আছে \\n3052.jpg একটি লোক দাঁড়িয়ে আছে আর তার সামনের মাঠে সবুজ ঘাস\\n3052.jpg একটি লোক দাঁড়িয়ে আছে আর তার সামনের মাঠে সবুজ ঘাস ও পিছনে দালান \\n3052.jpg টাক মাথার লোকটি কানে ইয়ারফোন গুজে কালো চশমা পরে অন্য দিকে তাকিয়ে আছে\\n3053.jpg সবুজ ঘাসে ঢাকা মাঠে একজন বৃদ্ধ লোক ও একটি কুকুর খেলছে\\n3053.jpg  সবুজ ঘাসে ঢাকা মাঠে একজন বৃদ্ধ লোক ও একটি কুকুর খেলছে এবং তাদের পিছনে গাছ আছে \\n3053.jpg বৃদ্ধ লোকটি লাঠি উঁচু করে রেখেছে এবং কুকুরটি তা ধরার জন্য লাফ দিয়েছে \\n3053.jpg হাফ প্যান্ট,গেন্জি পরে বৃদ্ধ লোকটি একটি গাছের ডাল উঁচুতে ধরে রেখেছে এবং একটি কালো বাদামী রংয়ের কুকুর সেটা ধরার জন্য লাফ দিয়েছে \\n3053.jpg সবুজ মাঠে গাছের সামনে  হাফ প্যান্ট,গেন্জি পরে বৃদ্ধ লোকটি একটি গাছের ডাল উঁচুতে ধরে রেখেছে এবং একটি কালো বাদামী রংয়ের কুকুর সেটা ধরার জন্য লাফ দিয়েছে \\n3054.jpg গাড়ির ভিতরে একটি লোক একটি বাচ্চা কোলে নিয়ে বসে আছে \\n3054.jpg গাড়ির ভিতরে একটি লোক একটি বাচ্চা কোলে নিয়ে বসে আছে এবং তারা দুজনেই নিচের দিকে তাকিয়ে কিছু দেখছে\\n3055.jpg ছোট একটি বাচ্চা মেয়ের হাতে দুটি কাগজের ব্যাগ\\n3055.jpg বাচ্চা মেয়েটা দুটি ব্যাগ হাতে নিয়ে অন্য দিকে তাকিয়ে আছে \\n3055.jpg বাচ্চা মেয়েটি লাল ফ্রক সাদা টুপি ও সাদা জুতা পরে দুটি ব্যাগ ধরে আছে \\n3055.jpg ছোট বাচ্চাটি এক হাতে একটি ব্যাগ কাঁধের উপর ও অপর হাতে আরেকটা ব্যাগ পায়ের কাছে ঝুলিয়ে রেখেছে \\n3055.jpg বাচ্চা মেয়েটি লাল ফ্রক সাদা টুপি ও সাদা জুতা পরে এক হাতে একটি ব্যাগ কাঁধের উপর ও অপর হাতে আরেকটা ব্যাগ পায়ের কাছে ঝুলিয়ে রেখেছে\\n3056.jpg সমুদ্রের পাশে বাধানো রাস্তায় একটি লোক,মহিলা ও বাচ্চা হাটছে\\n3057.jpg দুজন লোক যাত্রী ছাউনির দু'প্রান্তে বসে আছে\\n3058.jpg সমুদ্রের সামনে দুটি চেয়ারে দুজন বৃদ্ধ ও বৃদ্ধা বসে আছে\\n3059.jpg পাহাড়ের উপর চেয়ারে বসে আছে  একজন বৃদ্ধ\\n3060.jpg বরফের পাহাড়ের উপর কিছু নারী ও পুরুষ হাটছে\\n3061.jpg একটি মেয়ে একটি ছেলেকে চুমু খাচ্ছে \\n3061.jpg একটি মেয়ে একটি ছেলেকে জড়িয়ে ধরে চুমু খাচ্ছে \\n3061.jpg একটি মেয়ে একটি চশমা পরা ব্যাগ কাঁধে নেয়া ছেলেকে চুমু খাচ্ছে \\n3061.jpg একটি মেয়ে একটি ছেলেকে চুমু খাচ্ছে এবং তাদের সামনে অনেক মানুষ \\n3062.jpg দুটি মেয়ে রাস্তায় হাটছে\\n3062.jpg দুটি মেয়ে ব্যাগ কাঁধে নিয়ে রাস্তায় হাটছে\\n3062.jpg দুটি মেয়ে ব্যাগ কাঁধে নিয়ে রাস্তায় হাটছে আর তাদের পিছনে অনেক মানুষ\\n3063.jpg কুকুরটি লাফ দিয়ে মাটি থেকে অনেকটা উপরে উঠে গেছে \\n3064.jpg একটি ছেলে গাছের সামনে দাঁড়িয়ে আছে \\n3064.jpg একটি ছেলে গাছের সামনে গ্লাস হাতে দাঁড়িয়ে আছে \\n3064.jpg একটি ছেলে মাঠের পাশে গাছের সামনে গ্লাস হাতে দাঁড়িয়ে আছে \\n3064.jpg একটি ছেলে মাঠের পাশে গাছের সামনে গ্লাস হাতে দাঁড়িয়ে আছে এবং পিছনে মানুষ হাটছে\\n3065.jpg লোকটি পলিথিনে হাত ঢুকিয়ে রেখেছে \\n3065.jpg রাস্তার পাশে বসে লোকটি পলিথিনে হাত ঢুকিয়ে রেখেছে \\n3065.jpg রাস্তার পাশে বসে লোকটি পলিথিনে হাত ঢুকিয়ে অন্য দিকে তাকিয়ে আছে \\n3065.jpg রাস্তার পাশে বসে লোকটি পলিথিনে হাত ঢুকিয়ে অন্য দিকে তাকিয়ে আছে এবং তার পিছনে অনেক মানুষ \\n3065.jpg রাস্তার পাশে বসে লোকটি পলিথিনে হাত ঢুকিয়ে অন্য দিকে তাকিয়ে আছে এবং তার সামনে কিছু জিনিস রাখা \\n3066.jpg বাচ্চাটি গাড়ির স্টিয়ারিং ধরে বসে আছে\\n3066.jpg বাচ্চাটি গাড়ির স্টিয়ারিং ধরে অন্য দিকে তাকিয়ে আছে\\n3067.jpg ছোট মেয়েটি জিহবা বের করে আছে \\n3067.jpg গোলাপি জামা পরা সোনালি চুলের ছোট মেয়েটি জিহবা বের করে আছে \\n3067.jpg  গোলাপি জামা পরা সোনালি চুলের ছোট মেয়েটি জিহবা বের করে আছে এবং তার পিছনে অনেক গাছপালা\\n3068.jpg সাইকেল নিয়ে ছেলেটি অনেক উপরে উঠে গেছে\\n3069.jpg পাহাড়ে একটি ছেলে দাড়িয়ে আছে এবং তার পিছন থেকে একটা মেয়ে ছবি তুলছে \\n3069.jpg পাহাড়ের কিনারায় দুজন মানুষ দাঁড়িয়ে এবং পিছনে গহীন জঙ্গল\\n3070.jpg ছেলেটা চার হাত পা ছড়িয়ে আছে \\n3070.jpg ছেলেটা দুই হাত দুই পা দুই পাশে ছড়িয়ে লাফ দিয়েছে \\n3070.jpg গাছের সামনে ছেলেটা দুই হাত দুই পা দুই পাশে ছড়িয়ে লাফ দিয়েছে\\n3071.jpg ঘাসের উপর বাচ্চা ছেলেটা দৌড়াচ্ছে \\n3071.jpg সোনালী চুলের বাচ্চা ছেলেটা হাসিমুখে দৌড়াচ্ছে \\n3071.jpg সোনালী চুলের বাচ্চা ছেলেটা হাসিমুখে দৌড়াচ্ছে এবং পিছনে অনেক মানুষ আছে\\n3072.jpg একটি বাচ্চার জুতা পরা দুটি পা দেখা যাচ্ছে\\n3073.jpg একটি ছেলে দৌড়াচ্ছে \\n3073.jpg একটি ছেলে হাফ প্যান্ট ও গেন্জি পরে দৌড়াচ্ছে\\n3073.jpg একটি ছেলে ঠোঁটে দাঁত চেপে দৌড়াচ্ছে\\n3073.jpg একটি ছেলে দৌড়াচ্ছে এবং পাশেই কয়েকজন বসে আছে\\n3073.jpg বালির উপর একটি ছেলে দৌড়াচ্ছে \\n3074.jpg মেয়েটি দোলনা থেকে লাফ দিচ্ছে \\n3074.jpg ছোট মেয়েটি দোলনা থেকে লাফ দিচ্ছে \\n3074.jpg মাঠের পাশের দোলনা থেকে ছোট মেয়েটি লাফ দিচ্ছে\\n3075.jpg পাথরের উপর লোকটি দাঁড়িয়ে আছে \\n3075.jpg জ্যাকেট পরা লোকটি পাথরের উপর দাঁড়িয়ে আছে \\n3075.jpg পাথরের উপর লোকটি দাঁড়িয়ে আছে এবং তার পিছনে বিশাল পাহাড় \\n3075.jpg জ্যাকেট,টুপি পরা লোকটি পাথরের উপর দাঁড়িয়ে আছে\\n3075.jpg জ্যাকেট পরা লোকটি পাহাড়ের সামনে পাথরের উপর দাঁড়িয়ে আছে\\n3076.jpg সুইমিংপুলের পানিতে ছোট ছেলেটা গোসল করছে\\n3077.jpg চশমা পরা লোকটি হাটছে \\n3077.jpg চশমা পরা লোকটি হাতের কাঠিতে টুপি নিয়ে হাঁটছে \\n3077.jpg চশমা পরা ব্যাগ কাঁধে নেয়া লোকটি হাতের কাঠিতে টুপি নিয়ে হাঁটছে \\n3077.jpg চশমা পরা লোকটি হাতের কাঠিতে টুপি নিয়ে হাঁটছে যাদুঘরের ভিতরে হাটছে\\n3078.jpg বৃদ্ধ লোকটি বসে আছে \\n3078.jpg দুপাশে ব্যাগ নিয়ে বৃদ্ধটি বসে আছে \\n3078.jpg বৃদ্ধ লোকটি বসে হাত হাত তালি দিচ্ছে \\n3079.jpg কুকুরটি মুখে কিছু একটা নিয়ে দৌড়াচ্ছে \\n3079.jpg গলায় বেল্ট বাঁধা কুকুরটি মুখে কিছু একটা নিয়ে দৌড়াচ্ছে\\n3080.jpg ছোট বাচ্চা মেয়েটি গায়ে তোয়ালে জড়িয়ে আছে\\n3080.jpg সুইমিংপুলের সামনে ছোট মেয়েটি তোয়ালে জড়িয়ে আছে \\n3080.jpg সুইমিংপুলের সামনে ছোট মেয়েটি তোয়ালে জড়িয়ে আছে এবং ওর পিছনে বসার কিছু আসন ও ছাতা রাখা \\n3080.jpg সুইমিংপুলের সামনে ছোট মেয়েটি তোয়ালে জড়িয়ে আছে এবং ওর পিছনে ছড়িয়ে ছিটিয়ে কিছু মানুষ আছে\\n3091.jpg বাচ্চাটি কিছু খাচ্ছে \\n3091.jpg সোনালী চুলের বাচ্চা ছেলেটা কিছু খাচ্ছে \\n3092.jpg ছেলেটা সমুদ্রের পানিতে সার্ফিং করছে \\n3092.jpg কালো পোশাক পরে ছেলেটা সমুদ্রের পানিতে সার্ফিং করছে\\n3093.jpg পানির উপর দাঁড়িয়ে মানুষটি তারাবাতি জ্বালাচ্ছে\\n3095.jpg ছেলেটা সার্ফিং করছে \\n3095.jpg রশি ধরে ছেলেটা সার্ফিং করছে\\n3095.jpg ছেলেটা সার্ফিং করতে গিয়ে উল্টে পরে যাচ্ছে\\n3096.jpg ছোট ছেলেটি দৌড়াচ্ছে \\n3096.jpg হাফ প্যান্ট পরে ছেলেটি দৌড়াচ্ছে \\n3096.jpg পিচঢালা রাস্তায় ছেলেটা দৌড়াচ্ছে \\n3096.jpg পিচঢালা রাস্তায় ছেলেটা দৌড়াচ্ছে এবং পাশে কিছু ঘাস আছে\\n3097.jpg বালির উপর একটি বড় ও একটি ছোট কুকুর \\n3097.jpg বালির উপর বাদামী বড় কুকুরটা ছোট সাদা কুকুরের লেজ কামড়ে ধরেছে\\n3097.jpg বালির উপর গলায় বেল্ট বাঁধা দুটি  কুকুর খেলছে\\n3098.jpg একটি মেয়ে তার বাচ্চাকে পিঠের সাথে বেঁধে হাটছে\\n3098.jpg পাহাড়ের পাশের রাস্তায় একটি মেয়ে তার বাচ্চাকে পিঠের সাথে বেঁধে হাটছে\\n3098.jpg রাস্তায় একটি মেয়ে তার বাচ্চাকে পিঠের সাথে বেঁধে হাটছে এবং রাস্তার পাশে ঘাস ও পাহাড় আছে\\n3099.jpg একটি ছেলে একটি মেয়ের কাঁধে হাত রেখেছে\\n3099.jpg মুখে কালো রঙ মেখে একটি ছেলে একটি মেয়ের কাঁধে হাত রেখেছে\\n3099.jpg একটি ছেলে তার পাশের মেয়েকে জড়িয়ে ধরে আছে\\n3100.jpg কয়েকটি বাচ্চা ছেলে দৌড়াচ্ছে \\n3100.jpg কয়েকটি ছোট ছেলে সিমেন্টের রাস্তায় দৌড়াচ্ছে \\n3100.jpg কয়েকটি ছোট ছেলে সিমেন্টের রাস্তায় দৌড়াচ্ছে এবং তাদের সামনেই একটি বাড়ি\\n3101.jpg  সমুদ্রে  স্পীডবোর্ডের পাশে একটি ছেলে দাঁড়িয়ে আছে \\n3101.jpg সমুদ্রের কিনারায়  স্পীডবোর্ডের পাশে একটি ছেলে দাঁড়িয়ে আছে\\n3101.jpg সমুদ্রের কিনারায় স্পীডবোর্ডের উপর দুহাত রেখে একটি ছেলে দাঁড়িয়ে আছে\\n3101.jpg সমুদ্রে স্পীডবোর্ডের পাশে একটি ছেলে দাঁড়িয়ে আছে এবং তার পিছনে দালানকোঠা ও গাছ দেখা যাচ্ছে\\n3102.jpg বড় দুটি টায়ারের উপর  একটি ছেলে চশমা চোখে দিয়ে বসে আছে \\n3102.jpg বড় দুটি টায়ারের উপর একটি ছেলে বসে আছে \\n3103.jpg সমুদ্রের পানিতে টায়ারের উপর একটি ছেলে শুয়ে আছে \\n3103.jpg চোখে চশমা পরে সমুদ্রের তীরে টায়ারের উপর একটি ছেলে শুয়ে আছে \\n3103.jpg চোখে চশমা পরে সমুদ্রের তীরে টায়ারের উপর একটি ছেলে শুয়ে হাসছে\\n3103.jpg চোখে চশমা পরে সমুদ্রের তীরে টায়ারের উপর একটি ছেলে শুয়ে আছে এবং তার পিছনে বড় ঢেউ দেখা যাচ্ছে\\n3104.jpg সমুদ্রের তীরে অনেকগুলো ছেলে একসাথে বালির উপর থেকে লাফ দিয়ে খানিকটা উপরে উঠেছে \\n3104.jpg সমুদ্রের তীরে অনেকগুলো ছেলে হাত উঁচু করে একসাথে বালির উপর থেকে লাফ দিয়ে খানিকটা উপরে উঠেছে \\n3106.jpg একটি প্লেটের উপর কেক রাখা \\n3106.jpg টেবিলের উপর রাখা একটি প্লেটের উপর কয়েক পিস কেক\\n3106.jpg সাদা গোলাপি রংয়ের কয়েক পিস কেক প্লেটের উপর রাখা\\n3108.jpg মেয়েটি বেলুননের দিকে তাকিয়ে আছে \\n3108.jpg একটি মেয়ে অনেকগুলো রঙিন বেলুন হাতে নিয়ে দাঁড়িয়ে আছে\\n3109.jpg দেয়ালে অনেক গুলো বেলুন লাগানো \\n3109.jpg দেয়ালে পোস্টার ও বেলুন লাগানো \\n3110.jpg টেবিলের উপর কিছু দুটি ইংরেজি অক্ষর রাখা \\n3111.jpg কয়েকটি ছেলে মেয়ে একসাথে বসে কাগজ কাটছে\\n3111.jpg একটি মেয়ে মোবাইলের দিকে তাকিয়ে আছে\\n3111.jpg একটি ছেলে কাঁচি দিয়ে কাগজ কাটছে\\n3111.jpg অনেকগুলো ছেলেমেয়ে গোল হয়ে বসে আছে এবং তাদের মাঝে রঙিন কাগজ রাখা \\n3111.jpg একটি ছেলে একটি মেয়ের দিকে তাকিয়ে হাসছে\\n3112.jpg দুটি ছেলে কার্টুন ধরে দাঁড়িয়ে আছে\\n3113.jpg দুজন ছেলে একসাথে কাজ করছে \\n3113.jpg একটি ছেলে পিলারের পাশে দাঁড়িয়ে কাজ করছে \\n3113.jpg দুজন ছেলে একটি কাঠের উপর কাগজ লাগাচ্ছে \\n3114.jpg দেয়ালে একটি মেয়ে কাগজের ইংরেজি অক্ষর লাগাচ্ছে \\n3115.jpg একজন মানুষ কাগজের উপর স্কচটেপ লাগাচ্ছে \\n3116.jpg কয়েকজন মানুষ চেয়ারে বসে গান পরিবেশনা করছে\\n3116.jpg দুটি ছেলে গিটার বাজাচ্ছে\\n3116.jpg কয়েকজন মানুষ চেয়ারে বসে গান পরিবেশনা করছে এবং তাদের পিছনে একটি পোস্টার লাগানো\\n3117.jpg একটি ছেলে ও একটি মেয়ে দাঁড়িয়ে আছে \\n3117.jpg ছেলেটি তার পাশের মেয়ের হাতে পুরস্কার তুলে দিচ্ছে \\n3117.jpg ছেলেটির পাশে একটি খালি চেয়ার রাখা \\n3117.jpg ছেলেটি তার পাশের মেয়ের হাতে পুরস্কার তুলে দিচ্ছে এবং তাদের পিছনে পোস্টার লাগানো\\n3118.jpg চারটি মেয়ে ও একটি ছেলে সেলফি তুলছে\\n3119.jpg দেয়ালের কাগজের উপর মেয়েটি লিখছে\\n3119.jpg হিজাব পরা মেয়েটি দেয়ালে লিখছে\\n3121.jpg একটি ছেলে দুহাত দিয়ে মোবাইল ধরে আছে \\n3121.jpg ঘড়ি পরা একটি ছেলে তার মুখের সামনে মোবাইল ধরে আছে \\n3121.jpg একটি ছেলে দুহাত দিয়ে মোবাইল ধরে আছে এবং তার পিছনের দেয়ালে কিছু ছবি আঁকা\\n3121.jpg একটি ছেলে দুহাত দিয়ে মোবাইল ধরে আছে এবং তার পিছনে অনেক বড় একটি পোস্টার লাগানো\\n3122.jpg অনেকগুলো মেয়ে একসাথে বসে আছে \\n3122.jpg আটটি মেয়ে একসারিতে টেবিলের উপর পা তুলে বসে আছে \\n3122.jpg আটটি মেয়ে একসারিতে টেবিলের উপর পা তুলে বসে আছে এবং তাদের পিছনের লাল ইটের দেয়ালে কিছু লেখা ও ছবি আঁকা আছে \\n3124.jpg একটি ছেলে একটি মেয়ের ছবি তুলছে\\n3124.jpg একটি ছেলে ক্যামেরা দিয়ে একটি মেয়ের ছবি তুলছে এবং মেয়েটির মাথার উপরের সিলিং এ কিছু রঙিন বেলুন \\n3124.jpg ঘরের ভিতর সাদা রংয়ের পর্দার সামনে একটি ছেলে একটি মেয়ের ছবি তুলছে\\n3125.jpg ঘরের ভিতর বিভিন্ন রঙের অনেক বেলুন রাখা \\n3125.jpg অফিসের ভিতর অনেক বেলুন উড়ছে ও কিছু মানুষ আছে \\n3125.jpg টেবিলের উপর একটি মনিটর রাখা \\n3125.jpg ঘরের সিলিং এ একটি ফ্যানের পাশে একটি সাদা বাতি জ্বলছে \\n3125.jpg বেলুনগুলোর মাঝে দুটি মেয়ে দাঁড়িয়ে আছে \\n3126.jpg মেয়েটির মাথার উপর অনেক বেলুন উড়ছে\\n3126.jpg অনেকগুলো বেলুন হাতে নিয়ে মেয়েটি বসে আছে \\n3126.jpg নীল সাদা জামা পরে গলায় আইডি কার্ড ঝুলিয়ে বেলুন হাতে নিয়ে মেয়েটি বসে আছে \\n3126.jpg একটি মেয়ে বসে আছে এবং তার পিছনে টেবিলের উপর কিছু বোতল রাখা \\n3126.jpg ঘরের ভিতর একটি মেয়ে বসে আছে এবং পিছন থেকে আরেকটি মেয়ে হেঁটে আসছে\\n3127.jpg অনেকগুলো খাতা ও কলম এক জায়গায় রাখা \\n3127.jpg মেঝের উপর অনেকগুলো খাতা ও কলম রাখা এবং একজন মানুষের দুটি পা দেখা যাচ্ছে \\n3127.jpg মেঝের উপর খাতা,কলম,ব্যাগ, মানুষের পা দেখা যাচ্ছে \\n3128.jpg কয়েকটি মেয়ে গোল হয়ে দাঁড়িয়ে হাত তালি দিচ্ছে \\n3128.jpg একটি মেয়ে মাথায় টুপি পরে কেকের দিকে তাকিয়ে হাত তালি দিচ্ছে \\n3128.jpg কেকের উপর মোমবাতি জ্বালিয়ে জন্মদিন পালন করা হচ্ছে \\n3128.jpg টেবিলের উপর রাখা কেকের উপর মোমবাতি জ্বলছে এবং তার চারপাশে  কয়েকজন মানুষ দাঁড়িয়ে হাত তালি দিচ্ছে আর হাসছে \\n3128.jpg কয়েকটি মেয়ে গোল হয়ে দাঁড়িয়ে আছে এবং পিছনে একটি ছেলে হাঁটছে \\n3129.jpg মেঝের উপর একটি মানুষের জুতা পরা দুটি পা দেখা যাচ্ছে\\n3129.jpg মেঝের উপর আলোতে একটি মানুষের জুতা পরা দুটি পা এবং ছায়াতে আরকটি মানুষের একটি পা দেখা যাচ্ছে\\n3130.jpg রেলিঙের উপরদিকটা বেলুন দিয়ে সাজানো \\n3130.jpg রেলিঙের সামনে টেবিল রাখা \\n3130.jpg বেলুন দিয়ে সাজানো রেলিঙের বাইরে দালান দেখা যাচ্ছে \\n3131.jpg মঞ্চের উপর চারটি সোফা রাখা \\n3131.jpg লাল কার্পেটের মঞ্চে চারটি সোফা ও ছোট টি টেবিল রাখা \\n3131.jpg সোফার পিছনে ব্যানার টানানো \\n3131.jpg মঞ্চের পিছনে দালানের জানালা দেখা যাচ্ছে\\n3132.jpg একটি ছেলে ও মেয়ে নাচ পরিবেশন করছে \\n3132.jpg মঞ্চে একটি ছেলে ও মেয়ে নাচছে এবং তাদের পিছনে একটি লোক বসা যার পাশে একটি বাঁশ আছে\\n3132.jpg দুটি মানুষ নাচ পরিবেশন করছে এবং তাদের একটু দূরে একটি মেয়ে পাতিল নিয়ে বসে আছে \\n3132.jpg একটি মেয়ে শাড়ি পরে ফুল দিয়ে সেজে একটি ছেলের সাথে নাচছে\\n3132.jpg একটি মেয়ে শাড়ি পরে ও একটি ছেলে পান্জাবী পরে মাথায় গামছা বেঁধে রাতের বেলা মঞ্চে নাচছে\\n3133.jpg একটি লোক মুখ থেকে আগুন বের করছে \\n3133.jpg মঞ্চে তিনটি ছেলে আগুন দিয়ে খেলা দেখাচ্ছে \\n3133.jpg রাতের বেলা জঙ্গলের ভিতর মঞ্চে তিনটি ছেলে আগুন দিয়ে খেলা দেখাচ্ছে \\n3133.jpg রাতের বেলা জঙ্গলের ভিতর মঞ্চে তিনটি ছেলে আগুন দিয়ে খেলা দেখাচ্ছে এবং তাদের সামনে কয়েকটি ছেলে দাঁড়িয়ে আছে \\n3133.jpg মঞ্চের উপর কিছু সাইন্ড বক্স আছে \\n3134.jpg কয়েকজন মানুষ একসাথে বসে আছে \\n3134.jpg ছয়টি মেয়ে ও একটি ছেলে সবুজ কালো জামা পরে বসে আছে \\n3134.jpg কয়েকজন মানুষ একসাথে বসে আছে এবং একটি মেয়ের সামনে ব্যাগ রাখা \\n3134.jpg কয়েকজন মানুষ একসাথে মঞ্চে বসে আছে নাটক পরিবেশন করছে\\n3136.jpg শামিয়ানার নিচে বড় ডেকচিতে খাবার রান্না করে ঢেকে রাখা হয়েছে \\n3136.jpg ডেকচির রান্না করার খাবারের সামনে অনেক মানুষ জড়ো হয়েছে \\n3138.jpg একটি ছেলে হাতুড়ি দিয়ে বাঁশের উপর পেরেক গাঁথছে \\n3138.jpg সবুজ কালো গেঞ্জি পরা ছেলেটি হাতুড়ি দিয়ে কাজ করছে \\n3138.jpg  একটি ছেলে হাতুড়ি দিয়ে বাঁশের উপর পেরেক গাঁথছে এবং পাশেই একজন মানুষের পা দেখা যাচ্ছে যে কিনা বাঁশের উপর পারা দিয়ে দাঁড়িয়ে আছে \\n3139.jpg একজন লোক মই দিয়ে গাছের উপর উঠেছে \\n3139.jpg দুজন লোক গাছের সাথে মাচা বাঁধছে \\n3139.jpg জঙ্গলের ভিতর তিনজন লোক কাজ করছে\\n3140.jpg জঙ্গলের ভিতর দুটি তাবু টানানো হয়েছে \\n3140.jpg তাঁবুর সামনে দুটি গাছ ও শুকনো পাতা পরে আছে \\n3140.jpg একটি তাঁবুর ভিতর একজন মানুষ ও কয়েকটি ব্যাগ আছে \\n3140.jpg একটি তাঁবুর সামনে একটি ব্যাগ থেকে কিছু বের করছে \\n3142.jpg বাঁশের মাচার উপর একটি মেয়ে দাঁড়িয়ে আছে \\n3142.jpg বাঁশের মাচার নিচে একটি লোকের মাথা ও হাত দেখা যাচ্ছে \\n3142.jpg জঙ্গলের মধ্যে গাছের সাথে বাঁশের মাচা বাঁধা হয়েছে \\n3142.jpg মাচার পাশে বাঁশের মই রাখা\\n3144.jpg বাচ্চা ছেলেটা হকিস্টিক নিয়ে দাঁড়িয়ে আছে \\n3144.jpg বাচ্চা ছেলেটা লাল গেঞ্জি নীল ক্যাপ পরে অন্যদিকে তাকিয়ে আছে \\n3145.jpg বেঞ্চে দুজন মানুষ বসে আছে \\n3145.jpg বেঞ্চে দুজন বসে আছে এবং সামনে কয়েকটি সবুজ গাছ\\n3146.jpg বাচ্চা ছেলেটা হাফ প্যান্ট পরে গোসল করছে\\n3146.jpg মাঠের মধ্যে পাইপের পানি দিয়ে বাচ্চাটি গোসল করছে \\n3146.jpg বাচ্চা ছেলেটা হাফ প্যান্ট পরে দুহাত উপরে তুলে গোসল করছে\\n3147.jpg বালির উপর ছেলেটা লাফ দিচ্ছে \\n3147.jpg সাদা জ্যাকেট রঙিন হাফ প্যান্ট ও কান টুপি পরে ছেলেটা লাফ দিচ্ছে \\n3147.jpg সমুদ্রের তীরে বালির উপর ছেলেটা লাফ দিচ্ছে এবং পিছনে পাহাড় দেখা যাচ্ছে \\n3147.jpg বালির উপর ছেলেটা লাফ দিচ্ছে এবং পিছনে সমুদ্রের তীরে কিছু মানুষ দেখা যাচ্ছে\\n3148.jpg জঙ্গলের ভিতর বড় বড় গাছ\\n3148.jpg জঙ্গলের ভিতর একজন মানুষ সাইকেল চালাচ্ছে \\n3148.jpg জঙ্গলের ভিতরে পাথুরে রাস্তায় একজন মানুষ সাইকেল চালাচ্ছে \\n3149.jpg বালির উপর একটি মহিলা বিকিনি পরে উল্টো ঘুরে দাঁড়িয়ে আছে \\n3149.jpg মহিলাটি কুকুরটির বেল্ট ধরে দাঁড়িয়ে আছে \\n3149.jpg মহিলাটি কুকুরটির বেল্ট ধরে দাঁড়িয়ে আছে এবং পিছনে কিছু মানুষ বালির উপর শুয়ে আছে \\n3149.jpg বালির উপর একটি ঘর এবং তার পিছনে অনেক গাছ ও উপরে নীল আকাশ \\n3149.jpg কুকুরটি বালিতে মুখ দিয়ে রেখেছে\\n3150.jpg লোকটি দাঁড়িয়ে হাসছে\\n3150.jpg দেয়ালের সামনে লোকটা দাঁড়িয়ে আছে \\n3150.jpg একজন বয়স্ক লোক দাঁড়িয়ে আছে এবং তার পিছনের দেয়ালের উপর কিছু চিত্রকর্ম রাখা \\n3152.jpg পার্কের বেঞ্চে দুজন বয়স্ক মানুষ বসে আছে\\n3152.jpg গাছগাছালীতে ছায়া একটি জায়গায় দুজন বয়স্ক মানুষ বসে আছে \\n3152.jpg পার্কের বেঞ্চে একজন বৃদ্ধা প্যান্ট টপস পরে এবং আরেকজন স্কার্ট টপস পরে বসে আছে \\n3153.jpg বাতাসে কিছু মানুষ ভাসছে \\n3154.jpg মেয়েটি সুইমিংপুলের পানিতে লাফ দিচ্ছে \\n3154.jpg সুইমিংপুলের পানিতে একজন ডুব দিয়ে পা উঁচু করে রেখেছে \\n3154.jpg সুইমিংপুলের কিছুটা দূরে একটি পুকুর দেখা যাচ্ছে \\n3154.jpg মেয়েটি সুইমিংপুলের পানিতে লাফ দিচ্ছে এবং তার পিছনে কিছু গাছ আছে\\n3155.jpg একটি ছেলে মাছ ধরার বড়শি নিয়ে দাঁড়িয়ে আছে \\n3155.jpg  একটি ছেলে মাছ ধরার বড়শি হাতে উঁচু করে নিয়ে দাঁড়িয়ে আছে\\n3156.jpg দুজন লোক নৌকা চালাচ্ছে\\n3157.jpg একটি ছেলে বসে আছে \\n3157.jpg রেলিঙে পা দিয়ে ছেলেটা বসে আছে \\n3157.jpg প্যান্ট শার্ট জুতা পরে একটি ছেলে অন্য দিকে তাকিয়ে বসে আছে\\n3158.jpg কুকুরটি লাফ দিচ্ছে \\n3158.jpg মাঠের মধ্যে পাইপের উপর দিয়ে কুকুরটা লাফ দিচ্ছে \\n3159.jpg ছোট ছেলেটি সাইকেলের উপর দাঁড়িয়ে আছে \\n3159.jpg হেলমেট পরে বাচ্চা ছেলেটা পিচঢালা রাস্তায় সাইকেলের উপর দাঁড়িয়ে আছে \\n3159.jpg কালো গেঞ্জি সাদা হাফ প্যান্ট ও নীল জুতা পরে ঘন জঙ্গলের মধ্যে ছেলেটি সাইকেল নিয়ে দাঁড়িয়ে আছে \\n3159.jpg ঘন জঙ্গলের মধ্যে পিচঢালা রাস্তায় একটি ছোট ছেলে সাইকেল নিয়ে দাঁড়িয়ে আছে এবং অপর প্রান্ত থেকে আরেকজন সাইকেল চালিয়ে আসছে\\n3160.jpg দুজন বাচ্চা কারাতে খেলছে \\n3160.jpg সাদা জামা লাল হেলমেট পরে দুজন খেলছে\\n3161.jpg একটি কুকুর দাঁড়িয়ে আছে \\n3161.jpg দরজার পাশে একটি কুকুর দাড়িয়ে আছে \\n3161.jpg মেঝের উপর দাড়ানো একটি কুকুরের মাথা ও দুটি পা দেখা যাচ্ছে\\n3162.jpg নদীতে মানুষ বোঝাই অনেকগুলো নৌকা \\n3162.jpg নদীতে নৌকাবাইচের প্রতিযোগিতা হচ্ছে \\n3162.jpg নদীতে নৌকা চলছে এবং নদীর দুপাশে গাছপালা ও ঘরবাড়ি \\n3162.jpg নৌকাবাইচের সব নৌকা গুলো এক জায়গায় জড়ো হচ্ছে\\n3163.jpg গ্রামের একটি সুন্দর প্রাকৃতিক দৃশ্য \\n3163.jpg কচুরিপানায় ভর্তি খালের অনেকটা অংশ \\n3163.jpg খালের মাঝখানটা বাদে বাকি সবটুকু কচুরিপানায় ভর্তি \\n3163.jpg খালের মাঝখানটা বাদে বাকি সবটুকু কচুরিপানায় ভর্তি এবং খালের চারপাশে ঘন গাছপালা\\n3163.jpg খালের মাঝখানটা বাদে বাকি সবটুকু কচুরিপানায় ভর্তি এবং উপরে নীল আকাশ \\n3164.jpg খালের পানিতে গরু,বাছুর ও একটি ছেলে\\n3164.jpg ছেলেটা গরুগুলোর গলায় বাঁধা রশি ধরে রেখেছে \\n3164.jpg খালের কালো পানিতে দুটি গরু ও দুটি বাছুর এবং খালের পাশে রাস্তা \\n3165.jpg ছাতা মাথায় একজন লোক যাচ্ছে \\n3165.jpg নদীর পাশ দিয়ে ছাতা মাথায় একজন লোক যাচ্ছে \\n3165.jpg গ্রামের সবুজ ঘাসে ঢাকা পথ দিয়ে লোকটি ছাতা মাথায় দিয়ে হাটছে \\n3166.jpg মাছ ধরার জাল পাতা হয়েছে \\n3166.jpg জালের নিচে বাঁশের মাচায় শাকের গাছ  \\n3167.jpg বিক্রির জন্য বাজারে অনেকগুলো লাউ এক জায়গায় জড়ো করে রাখা হয়েছে \\n3167.jpg বিক্রির জন্য বাজারে অনেকগুলো লাউ এক জায়গায় জড়ো করে রাখা হয়েছে এবং আশেপাশে মানুষ দাঁড়িয়ে আছে \\n3168.jpg গ্রামের প্রাকৃতিক দৃশ্য \\n3168.jpg নীল আকাশে সাদা মেঘ ভেসে বেড়াচ্ছে \\n3168.jpg ফুলের বাগান এবং দূরে একটি টিনের ঘর\\n3169.jpg একজন আরেকজনের পা ধরে টানছে\\n3169.jpg অনেকজন মিলে হাডুডু খেলছে\\n3169.jpg হাডুডু খেলা চলছে এবং চারিদিকে মানুষ দাঁড়িয়ে, বসে তা দেখছে \\n3169.jpg মাটিতর মধ্যে হাডুডু খেলা হচ্ছে \\n3170.jpg জমিতে অনেকগুলো মহিষ হাটছে\\n3170.jpg জমিতে অনেকগুলো মহিষ হাটছে ও একজন মানুষ দেখা যাচ্ছে \\n3170.jpg পড়ন্ত বিকেলে পানি ভর্তি জমিতে মহিষগুলো হাটছে\\n3170.jpg পড়ন্ত বিকেলে পানি ভর্তি জমিতে মহিষগুলো হাটছে এবং পাশের জমিতেই ধানের চারা বপন করা হয়েছে \\n3171.jpg জমিতে লালশাক লাগানো \\n3171.jpg জমিতে একটি বাঁশ পোঁতা আছে\\n3171.jpg পানির কচুরিপানার উপর শাক উৎপাদন করা হচ্ছে \\n3172.jpg টিনের দেয়ালে তৈরী ছনের ঘর\\n3172.jpg ছনের ঘরের চালায় সোলার প্যানেল\\n3172.jpg একটি ছনের ঘর এবং মেঘে ঢাকা আকাশ \\n3173.jpg মোটরবাইকের উপর হেলমেট পরে একজন লোক বসে আছে \\n3173.jpg খড়ের পাশে মোটরবাইকের উপর হেলমেট পরে একজন লোক বসে আছে \\n3173.jpg ধানক্ষেতের পাশের রাস্তায় মোটরবাইকের উপর হেলমেট পরে একজন লোক বসে আছে \\n3174.jpg কুঁড়েঘরের পাশে একটি মহিলা দাঁড়ানো \\n3174.jpg শস্যক্ষেতের পাশে একটি ছোট কুঁড়েঘর\\n3174.jpg কুঁড়েঘরের চালার উপর কিছু লতানো গাছ ও কাপড় শুকাতে দেয়া হয়েছে \\n3174.jpg কুঁড়েঘরের সামনে বাঁশের উপর কাপড় শুকানোর জন্য ছড়িয়ে দেয়া হয়েছে \\n3175.jpg কয়েকটি বাচ্চা ছেলে গাছে উঠার চেষ্টা করছে \\n3175.jpg ধানক্ষেতের পাশের গাছের ডালে কয়েকটি বাচ্চা ছেলে উঠেছে \\n3175.jpg গাছের ডালে কয়েকটি বাচ্চা ছেলে উঠেছে \\n3175.jpg গাছের ডালে কয়েকটি বাচ্চা ছেলে উঠেছে এবং পাশেই একটি লোক গরু নিয়ে যাচ্ছে \\n3175.jpg গ্রামের মেঠোপথের পাশের গাছের ডালে কয়েকটি বাচ্চা ছেলে উঠেছে \\n3176.jpg সবুজ পানির পাশে ঘন জঙ্গল\\n3177.jpg তিনটি হাঁস দাঁড়িয়ে আছে\\n3177.jpg বিলের পাশে তিনটি হাঁস দাঁড়িয়ে আছে\\n3178.jpg খেজুর গাছের ডালে বাবুই পাখির বাসা\\n3179.jpg লেকের পাশে একটি লোক হাঁটছে \\n3179.jpg কৃষ্ণচূড়া গাছের নিচে একটি লোক হাঁটছে \\n3179.jpg লেকের পাড়ের দেয়ালের পাইপের উপর গোল বাতি বসানো \\n3180.jpg খড়ের গাদার সামনে তিনটি ছাগল\\n3180.jpg নারিকেল গাছের সাথে রশি বেঁধে কাপড় শুকাতে দেয়া হয়েছে \\n3180.jpg নারিকেল গাছের সামনে কিছু হাঁস একসারিতে দাঁড়িয়ে আছে \\n3180.jpg খড়ের গাদার পিছনে ইটের দেয়াল\\n3181.jpg নদীতে ট্রলার চলছে \\n3181.jpg ট্রলারের উপরে এবং ভিতরে মানুষ \\n3181.jpg ট্রলারের ছাদে দুজন লোক দাঁড়িয়ে আছে \\n3182.jpg  বন্যার পানিতে ডুবে যাওয়া ঘরের চাল দেখা যাচ্ছে \\n3182.jpg পানির ভিতর থেকে কিছু ছোট গাছ জেগে উঠেছে \\n3183.jpg অনেক মানুষ মিলে নদীতে মাছ ধরছে \\n3183.jpg নদী থেকে খানিকটা দূরে অনেক গাছপালা\\n3184.jpg সবুজ শস্য ক্ষেত ও কালো মেঘে ঢাকা আকাশ \\n3184.jpg সবুজ ঘাসে ঢাকা মাঠের উপর দিয়ে রাখাল তিনটি গরু নিয়ে যাচ্ছে \\n3184.jpg পাটক্ষেতের পাশের জমিতে রাখাল তিনটি গরু নিয়ে যাচ্ছে \\n3184.jpg হাতে একটি লাঠি নিয়ে রাখাল গরু নিয়ে যাচ্ছে \\n3185.jpg নদীর পাড়ের ছইওয়ালা একটি নৌকায় কয়েকটি বাচ্চা বসে আছে \\n3185.jpg নদীর কিনারায় দুটি নৌকা বাধা \\n3185.jpg ধানক্ষেতের পিছনে অনেকগুলো টিনের তৈরি বড় ঘরবাড়ি \\n3185.jpg নদীর পাড়ে কয়েকটি মানুষ দাঁড়িয়ে আছে\\n3186.jpg কৃষক জমিতে লাঙ্গল দিচ্ছে\\n3187.jpg গ্রামীণ সবুজ প্রকৃতি \\n3187.jpg ধানক্ষেতের পাশে দুজন লোক হেঁটে যাচ্ছে \\n3187.jpg অনেকগুলো নারিকেল গাছের সামনে ছোট একটি ঘর\\n3188.jpg বিলের পানিতে চরক জাল দিয়ে লোকজন মাছ ধরছে \\n3188.jpg পানির উপর মাছ ধরার জন্য কয়েকটি চরক জাল রাখা \\n3189.jpg লোকটি এক জমি থেকে আরেক জমিতে পানি দিচ্ছে \\n3189.jpg ছোট ডিঙি নৌকা ও একটি বাঁশের সাহায্যে লোকটি পানি দিচ্ছে \\n3190.jpg পানির মধ্যে একটি কুমিরের মাথা দেখা যাচ্ছে \\n3190.jpg পানির ভিতর থেকে কচুরিপানার মধ্যে কুমিরটি তার মাথা বের করে রেখেছে \\n3191.jpg খালের উপর বাঁশের সাঁকো\\n3191.jpg কচুরিপানায় ভর্তি একটি খাল\\n3191.jpg কচুরিপানা ভর্তি খালের পাশে জমি ও গাছপালা\\n3192.jpg গ্রামের মেঠোপথ দিয়ে একটি লোক দু'হাতে জিনিস নিয়ে হেঁটে যাচ্ছে \\n3192.jpg গ্রামের মেঠোপথ দিয়ে একটি লোক দু'হাতে জিনিস নিয়ে হেঁটে যাচ্ছে এবং তার খানিকটা সামনে একটি বড় গাছ\\n3192.jpg গ্রামের মেঠোপথ দিয়ে একটি লোক দু'হাতে জিনিস নিয়ে হেঁটে যাচ্ছে এবং মেঠোপথের একপাশে ধানক্ষেত \\n3192.jpg গ্রামের মেঠোপথ দিয়ে একটি লোক দু'হাতে জিনিস নিয়ে হেঁটে যাচ্ছে এবং মেঠোপথের একপাশে নদী\\n3193.jpg একটি লোক ভ্যান চালাচ্ছে এবং একটি মহিলা ভ্যানের উপর ছাতা মাথায় বসে আছে \\n3193.jpg গ্রামের মাটির রাস্তা দিয়ে একটি ভ্যান চলছে\\n3193.jpg নীল আকাশ সাদা মেঘে ঢাকা \\n3193.jpg রাস্তার দুপাশে সবুজ মাঠ \\n3193.jpg গ্রামের মাটির রাস্তা দিয়ে একটি ভ্যান চলছে এবং একটি মহিলা ভ্যানের উপর ছাতা মাথায় বসে আছে \\n3194.jpg একটি ছেলে ফুল তুলছে \\n3194.jpg একটি ছেলে কচুরিপানার ফুল তুলছে \\n3195.jpg বাঁশের উপর মোটা পাইপ রাখা এবং সেটার উপর দুটি বাচ্চা দাঁড়িয়ে আছে \\n3195.jpg বাঁশঝাড়ের নিচে নদী এবং তাতে বাচ্চারা গোসল করছে \\n3195.jpg একটি বাঁশ ধরে বাচ্চাটি ঝুলছে \\n3196.jpg অনেক বড় একটি মসজিদ \\n3196.jpg মসজিদের সামনে অনেক মানুষ \\n3197.jpg একটি মহিলা হারমোনিয়াম বাজাচ্ছে \\n3197.jpg স্কুলের ছাত্র ছাত্রীরা লাইন ধরে দাঁড়িয়ে আছে \\n3198.jpg একটি বন্ধ গেটের সামনে দুটি সাইকেল রাখা \\n3199.jpg পিচঢালা দীর্ঘ রাস্তা \\n3199.jpg পিচঢালা দীর্ঘ রাস্তার পাশে গরু ঘাস খাচ্ছে \\n3199.jpg রাস্তার দুপাশে গাছপালা\\n3199.jpg পিচঢালা দীর্ঘ রাস্তা এবং একটি মেঘে ঢাকা আকাশ\\n3200.jpg কয়েকটি বাচ্চা নৌকার উপর দাঁড়িয়ে আছে \\n3200.jpg বাচ্চারা নৌকা থেকে নামছে\\n3201.jpg একটি বাচ্চা শাপলা ফুল হাতে নিয়ে দাঁড়িয়ে আছে \\n3201.jpg একটি বাচ্চা ছেলে অনেকগুলো শাপলা ফুল হাতে নিয়ে দাঁড়িয়ে আছে এবং তার পিছনে আরো দুজন দাঁড়িয়ে আছে \\n3201.jpg তিনটি বাচ্চা ছেলে দাঁড়িয়ে হাসছে এবং একজনের হাতে শাপলা ফুল\\n3202.jpg পানির উপর ঘর ও কলার ভেলা ভাসছে এবং ঘরের সামনে একটি বাঁশ \\n3202.jpg ঘরের চালার উপর অনেকগুলো মানুষ বসে আছে\\n3202.jpg বন্যার পানিতে ডুবে যাওয়া ঘরের উপর লতানো গাছ, কাপড়, পাতিল ও কিছু মানুষ বসা\\n3202.jpg একজন বৃদ্ধ মহিলা বন্যার পানিতে ডুবে যাওয়া ঘরের উপর পা ঝুলিয়ে বসে আছে এবং তার পাশে দুটি বাচ্চা বসা\\n3202.jpg বন্যার পানিতে ডুবে যাওয়া ঘরের চালার উপর একজন বৃদ্ধ লোক ও মহিলা এবং কয়েকটি বাচ্চা বসে আছে \\n3203.jpg লাল শুকনা মরিচে বিছানো উঠানের উপর মহিলারা বসে কাজ করছে\\n3203.jpg মহিলারা শুকনা মরিচ বাছাই করে সামনে রাখা বেতের ঝুড়িতে রাখছে\\n3203.jpg একটি মহিলা ছাতা মাথায় দিয়ে মরিচ বাছাই করছে\\n3203.jpg মহিলারা শাড়ি পরে মাথায় ঘোমটা দিয়ে শুকনো মরিচ বাছাই করছে\\n3204.jpg ভ্যান গাড়ি ভর্তি লাউ\\n3204.jpg বাজারে ভ্যান গাড়ি ভর্তি লাউ এবং মানুষ তাকিয়ে আছে লাউয়ের দিকে\\n3206.jpg টিনের দৌচালা ঘর\\n3206.jpg গ্রামের টিনের ঘরের সামনে একটি মহিলা দাড়িঁয়ে আছে \\n3206.jpg টিনের ঘরের সামনে মাটির উঠানে কয়েকটি কাঠ রাখা \\n3206.jpg টিনের ঘরের পাশে ও পিছনে অনেক রকমের বড় বড় গাছ\\n3207.jpg নৌকায় অনেক গুলো বাচ্চা হাতে বই খাতা নিয়ে দাঁড়িয়ে আছে \\n3207.jpg নদীর কিনারায় রাখা নৌকায় অনেক গুলো বাচ্চা হাতে বই খাতা নিয়ে দাঁড়িয়ে আছে \\n3209.jpg মাঠের উপর অনেক গুলো হাঁস হাটছে\\n3209.jpg মাঠের উপর অনেক গুলো হাঁস হাটছে এবং একজন লোক মাথায় কাঠ বোঝাই করে নিয়ে যাচ্ছে \\n3209.jpg মাঠের উপর অনেক গুলো হাঁস হাটছে এবং পিছনে অনেক গুলো খড়ের গাদা\\n3209.jpg মাঠের উপর অনেক গুলো হাঁস হাটছে এবং আকাশ কালো মেঘে ঢেকে গেছে\\n3210.jpg ওজন মাপার মেশিনে একটি বাচ্চার ওজন মাপা হচ্ছে \\n3210.jpg ওজন মাপার মেশিনে একটি বাচ্চার ওজন মাপা হচ্ছে  এবং একজন মহিলা বাচ্চার দিকে তাকিয়ে আছে\\n3210.jpg ওজন মাপার মেশিনে একটি বাচ্চার ওজন মাপা হচ্ছে আর বাচ্চাটি হাসছে \\n3210.jpg ওজন মাপার মেশিনে একটি শিশুর ওজন মাপা হচ্ছে এবং পাশে দুজন মহিলা দাঁড়িয়ে আছে\\n3210.jpg ওজন মাপার মেশিনে একটি শিশুর ওজন মাপা হচ্ছে এবং পাশে দুজন মহিলা ও সামনে দুটি বাচ্চা দাঁড়িয়ে আছে\\n3211.jpg অনেকগুলো লোক একসারিতে বসে খাবার খাচ্ছে \\n3211.jpg মাটিতে বসে টুপি মাথায় দিয়ে লোকগুলো \\n3212.jpg একটি লোক নৌকায় বসে পানি ধরার চেষ্টা করছে \\n3212.jpg বিলের মধ্যে ডুবে যাওয়া ঘরের চালা দেখা যাচ্ছে \\n3213.jpg একটি বিল্ডিংয়ের সামনে একটি গাড়ি রাখা \\n3213.jpg বিল্ডিংয়ের দুটি গেট দেখা যাচ্ছে \\n3214.jpg কাঁচে ঘেরা সুন্দর একটি রুম\\n3214.jpg টেবিলের উপর একটি ল্যাপটপ ফুলসহ ফুলদানি শোপিস ও বাক্স আছে \\n3214.jpg ঘরের মেঝে কাঠের পাটাতনের তৈরি \\n3214.jpg কোণাকৃতি ঘরটায় একটি টেবিল চেয়ার ও কর্নার রাখা আছে \\n3214.jpg ঘরের দেয়ালে এসি লাগানো আছে \\n3215.jpg এগারোটা হাঁস গোল হয়ে দাঁড়িয়ে আছে \\n3215.jpg এগারোটা হাঁস গোল হয়ে দাঁড়িয়ে খাবার খাচ্ছে\\n3215.jpg সাদা কালো হাঁস গুলো খাবার খাচ্ছে \\n3216.jpg অনেকগুলো কিশোর কিশোরী ব্যানার নিয়ে দাঁড়িয়ে আছে  \\n3216.jpg ঘরের ভিতর এবং বাহিরে অনেকগুলো কিশোর কিশোরী ব্যানার নিয়ে দাঁড়িয়ে আছে\\n3217.jpg বাঁশের সাঁকোর উপর দিয়ে বাচ্চারা নদী পার হচ্ছে \\n3217.jpg বাঁশের সাঁকোর নিচে অনেক কচুরিপানা \\n3217.jpg নদীর পাড়ে রাস্তার পাশে অনেক গাছ লাগানো \\n3217.jpg বাঁশের সাঁকোর উপর দিয়ে বাচ্চারা স্কুলের পোশাক পরে নদী পার হচ্ছে\\n3218.jpg বেতের ঝুড়ির ভিতর বাচ্চাটি ঘুমাচ্ছে \\n3218.jpg কান টুপি পরে বেতের ঝুড়ির ভিতর বাচ্চাটি ঘুমাচ্ছে \\n3218.jpg ঠোঁটের উপর আঙ্গুল দিয়ে বেতের ঝুড়ির ভিতর বাচ্চাটি ঘুমাচ্ছে \\n3218.jpg কান টুপি ও চাদরে ঢাকা বাচ্চাটি বেতের ঝুড়ির ভিতর ঘুমাচ্ছে\\n3219.jpg পিলারের উপর থেকে বাচ্চাটি উল্টো হয়ে নদীতে লাফিয়ে পরছে\\n3219.jpg কয়েকটি বাচ্চা পিলারের উপর দাঁড়িয়ে আছে \\n3219.jpg কয়েকটি বাচ্চা পিলার বেয়ে উপরে উঠছে \\n3219.jpg নদীর তীরে ছোট বড় নৌকা আছে\\n3220.jpg অনেকগুলো মেয়ে হাতে ব্যানার ও প্ল্যাকার্ড নিয়ে রাস্তায় আন্দোলন করছে\\n3221.jpg ছোট্ট ছেলেগুলো ফুটবল খেলছে \\n3221.jpg গায়ে কাঁদা মেখে কৃষি জমিতে ছেলেগুলো ফুটবল খেলছে \\n3221.jpg একটি ছেলে ফুটবল নিয়ে দৌড়াচ্ছে এবং বাকি চারজন তাকে ধরার চেষ্টা করছে\\n3222.jpg লোকগুলো ড্রাম থেকে খড়ের উপর কিছু ঢালছে\\n3222.jpg বাঁশ ও টিনের চালার তৈরি ঘরে লোকগুলো ড্রাম থেকে খড়ের উপর কিছু ঢালছে\\n3223.jpg একটি লোক রাস্তায় গেঞ্জি ও হাফ প্যান্ট পরে দাঁড়িয়ে আছে \\n3223.jpg চার্চের সামনে একটি লোক রাস্তায় গেঞ্জি ও হাফ প্যান্ট পরে দাঁড়িয়ে আছে\\n3223.jpg দুটি বিল্ডিংয়ের সামনে একটি লোক রাস্তায় গেঞ্জি ও হাফ প্যান্ট পরে দাঁড়িয়ে আছে\\n3224.jpg ধানের শীষ দেখা যাচ্ছে \\n3224.jpg ধান গাছ ও ধানের শীষ দেখা যাচ্ছে\\n3225.jpg স্কুলের ছেলে মেয়েরা চেয়ারে বসে আছে \\n3225.jpg প্যান্ডেলের নিচে অনেক মানুষ বসে আছে \\n3226.jpg বাঁশের সাঁকো দিয়ে মানুষ নদী পার হচ্ছে নৌকা দিয়ে মানুষ নদী পার হচ্ছে \\n3226.jpg নদীর পাড়ে ঘন গাছপালা\\n3226.jpg কচুরিপানা ও ধানের চারায় নদীর অনেকটাই ঢাকা\\n3228.jpg বাঘটি মুখ হা করে রেখেছে \\n3228.jpg বাঘটি মুখ হা করে জিহ্বা বের করে রেখেছে\\n3228.jpg বাঘটি মুখ হা করে জিহ্বা বের করে রেখেছে এবং দাঁত দেখা যাচ্ছে \\n3229.jpg সূর্যমূখী ফুলের বাগানে দুটি মেয়ে হাত ধরে হাসছে\\n3230.jpg দুজন খেলোয়াড় হাতে হাত মেলাচ্ছে \\n3230.jpg অনেকজন খেলোয়াড় মাঠে দাঁড়িয়ে আছে \\n3231.jpg একটি মেয়ে হাসছে\\n3231.jpg পুঁতির গহনা পরে দাঁত বের করে মেয়েটি হাসছে \\n3232.jpg মহিলাটি মাটির তৈরি জিনিস বানাচ্ছে \\n3232.jpg ঘরের পাশে মাটির পাতিল জমা করে রাখা \\n3232.jpg মাটির বারান্দায় বসে মহিলাটি মাটির তৈরি জিনিস বানাচ্ছে \\n3233.jpg সমুদ্রে ডিঙি নৌকা চলছে \\n3233.jpg সমুদ্রের পানির উপর পাখি উড়ছে\\n3234.jpg একটি মেয়ের দুটি হাত\\n3234.jpg নেইলপালিশ ও আংটি পরা মেয়ের হাত \\n3234.jpg একটি মেয়ের বড় বড় নখে গোলাপি রংয়ের নেইলপালিশ দেয়া\\n3235.jpg পুতুলটাকে একটি হলুদ শাড়ি পরানো হয়েছে \\n3236.jpg দুটি বাচ্চা ছেলে কাশফুল ছিঁড়ছে \\n3236.jpg সবুজ ঘাসে ঢাকা মাঠ সাদা কাশফুলে ভরে গেছে \\n3237.jpg মাঠে তিনজন খেলোয়াড় ও একজন আম্পায়ার দাঁড়ানো \\n3237.jpg একজন খেলোয়াড় আরেকজন খেলোয়াড়কে ধরে কথা বলছে \\n3238.jpg বাংলাদেশের লাল সবুজ জাতীয় পতাকা উড়ছে \\n3238.jpg সংসদ ভবনের সামনে বাংলাদেশের লাল সবুজ জাতীয় পতাকা উড়ছে \\n3239.jpg বাংলাদেশের লাল সবুজ জাতীয় পতাকা উড়ছে \\n3239.jpg বাংলাদেশের লাল সবুজ জাতীয় পতাকা উড়ছে  এবং পিছনে নীল আকাশ \\n3240.jpg সং সেজে একজন লোক দাঁড়িয়ে আছে \\n3241.jpg হ্যাঙ্গারে করে অনেক কাপড় ঝুলানো আছে\\n3241.jpg তাকে কাপড় ভাজ করা\\n3242.jpg বাংলাদেশের লাল সবুজ পতাকা\\n3243.jpg একজন বয়স্ক লোককে একটি ছোট ছেলে গলা জড়িয়ে ধরে রেখেছে \\n3243.jpg একজন লোক ও একটি ছোট ছেলে লাল পান্জাবী পরা\\n3243.jpg একজন বয়স্ক লোককে একটি ছোট ছেলে গলা জড়িয়ে ধরে রেখেছে এবং দুজনেই হাসছে\\n3243.jpg একজন বয়স্ক লোককে একটি ছোট ছেলে গলা জড়িয়ে ধরে রেখেছে এবং তাদের পিছনে হলুদ পর্দা\\n3244.jpg একটি টিয়া পাখি \\n3244.jpg লাল ঠোঁটের একটি সবুজ টিয়া পাখি \\n3245.jpg তিনটি রঙিন ব্যাগ\\n3245.jpg পেঁচার ছবি আঁকা তিন রঙের তিনটি ব্যাগ \\n3245.jpg কালো মেজেন্টা ও নীল রঙের তিনটি ভ্যানিটি ব্যাগ\\n3246.jpg খেলনা গাড়ির প্যাকেট\\n3247.jpg একজন লোক নৌকার উপর ব্যাগ হাতে দাঁড়িয়ে আছে \\n3247.jpg নদীর পাড়ে অনেকগুলো টিনের ঘর\\n3247.jpg একজন লোক নৌকার উপর ব্যাগ হাতে দাঁড়িয়ে আছে এবং আরেকজন লোকের একটি হাত শুধু দেখা যাচ্ছে \\n3248.jpg একটি জমিতে একজন কৃষক এবং অন্য জমিতে পাঁচজন কৃষক কাজ \\n3248.jpg জমিতে কয়েকজন কৃষক ধানের চারা বপন করছে\\n3248.jpg একজন কৃষক কাঠের পাটাতন দিয়ে জমির মাটি সমান করছে\\n3249.jpg একজন লোকের দুই পাশে দুজন লোক রাইফেল হাতে নিয়ে দাঁড়িয়ে আছে \\n3249.jpg একজন লোকের দুই পাশে দুজন লোক রাইফেল হাতে নিয়ে দাঁড়িয়ে আছে এবং তাদের পিছনে একটি গাড়ি আছে \\n3249.jpg তিনজন লোক গাড়ির সামনে দাঁড়িয়ে আছে \\n3250.jpg একজন মহিলা মাথায় পাতিল ও হাতে ব্যাগ নিয়ে হাটছে \\n3250.jpg একজন মহিলা মাথায় পাতিল ও হাতে ব্যাগ নিয়ে হাটছে এবং তার পাশেই কতগুলো বাচ্চা ছেলে দাঁড়িয়ে আছে \\n3250.jpg গোসল করে ভেজা শরীরে  নদীর পাড়ে কয়েকটি ছেলে দাঁড়িয়ে আছে \\n3251.jpg গাড়ির ভিতরে ও বাহিরে অনেক মানুষ দাঁড়িয়ে উল্লাস করছে \\n3251.jpg বিল্ডিংয়ের পাশে রাখা গাড়ির ভিতরে ও বাহিরে অনেক মানুষ দাঁড়িয়ে উল্লাস করছে \\n3251.jpg দুই হাত তুলে মানুষ উল্লাস করছে \\n3252.jpg পিচ ঢালা রাস্তায় মানুষ ভর্তি একটি বাস চলছে \\n3252.jpg বাসের পিছনে মানুষ ঝুলে যাচ্ছে \\n3252.jpg বাসের ছাদে বসে আছে মানুষ \\n3252.jpg পিচ ঢালা রাস্তায় মানুষ ভর্তি একটি বাস চলছে এবং রাস্তার পাশে অনেক গাছ\\n3253.jpg মঞ্চে গান পরিবেশনা করা হচ্ছে \\n3253.jpg বাদ্যযন্ত্র নিয়ে কিছু মানুষ গান পরিবেশন করছে\\n3253.jpg কয়েকজন মানুষ গিটার বাজিয়ে গান গাইছে\\n3253.jpg মঞ্চে গান পরিবেশন করা হচ্ছে এবং মঞ্চের সামনে দুজন লোক যন্ত্রপাতি নিয়ে বসে আছে\\n3254.jpg পরগাছা লাল ইটের দেয়াল বেয়ে উপরে উঠছে \\n3254.jpg লাল ইটের দেয়াল বেয়ে সবুজ লতানো গাছ উপরে উঠছে \\n3255.jpg বৃষ্টির মধ্যে কিছু মানুষ ছাতা মাথায় হেঁটে যাচ্ছে \\n3255.jpg বৃষ্টির মধ্যে বড় গাছের নিচ দিয়ে কিছু মানুষ ছাতা মাথায় হেঁটে যাচ্ছে\\n3256.jpg একজন মানুষ ফুলের একটি ছোট ডাল ধরে আছে\\n3256.jpg একটি মেয়ে গোলাপি রংয়ের ছোট ফুলের ডাল ধরে আছে \\n3256.jpg সবুজ পাতা সহ গোলাপি রংয়ের একটি ছোট ফুলের ডাল ধরে আছে মেয়েটি\\n3257.jpg ঘোড়ার উপর একটি ছেলে বসে আছে \\n3257.jpg সমুদ্রের তীরে ঘোড়ার উপর একটি ছেলে বসে আছে \\n3257.jpg সমুদ্রের তীরে ঘোড়ার উপর একটি ছেলে বসে আছে এবং দূরে অনেক মানুষ দেখা যাচ্ছে \\n3257.jpg সূর্যাস্তের সময় সমুদ্রের তীরে ঘোড়ার উপর একটি ছেলে বসে আছে\\n3258.jpg রেলগাড়ীর ভিতর থেকে জানালা দিয়ে একটি ছোট ছেলে গলা বের করে রাস্তায় দাঁড়ানো ছোট ছেলের কাছ থেকে কিছু নিচ্ছে \\n3258.jpg রেলগাড়ীর পাশে দাঁড়ানো ছোট ছেলেটির এক হাতে একটি বড় বাটিতে কিছু রাখা \\n3258.jpg রেলগাড়ীর জানালার পাশে একটি লোক মাথা বের করে বসে আছে \\n3259.jpg বাঁশের সরু ব্রিজের উপর দিয়ে একটি ছেলে হাটছে \\n3260.jpg একটি লোক চেয়ারে বসে আছে\\n3260.jpg রেলিঙের পাশে একটি লোক চেয়ারে বসে আছে\\n3261.jpg ইটের উপর একটি শামুক \\n3261.jpg শামুকটি খোলস থেকে তার মাথা বের করে রেখেছে \\n3262.jpg রেলস্টেশনের পাশে রেলগাড়ী রাখা \\n3262.jpg রেলস্টেশনে ছড়িয়ে ছিটিয়ে কিছু মানুষ আছে \\n3262.jpg ঝালমুড়িওয়ালা তার মুড়ির বস্তা নিয়ে রেলস্টেশনে দাঁড়িয়ে আছে \\n3263.jpg বাক্সের মধ্যে ছোট একটি পুতুল \\n3263.jpg বাক্সের মধ্যে দুই বেনি করা ছোট একটি মেয়ে পুতুল \\n3264.jpg তাসের দুটি কার্ড রাখা \\n3264.jpg টেবিলের উপর রাখা তাসের দুটি কার্ডের প্রতিফলন পড়েছে  দেয়ালের উপর \\n3264.jpg টেবিলের উপর রাখা তাসের দুটি কার্ডের প্রতিসরণ হয়েছে টেবিলের উপর \\n3265.jpg একটি কুকুর ও ওটার অনেকগুলো বাচ্চা রাস্তায় শুয়ে আছে \\n3265.jpg কুকুরের বাচ্চা গুলো কুকুরের কোল ঘেষে শুয়ে আছে \\n3266.jpg ছয়জন লোক রাস্তায় দাঁড়িয়ে বাদ্যযন্ত্র বাজাচ্ছে \\n3267.jpg পত্রিকা বেচাকেনা চলছে \\n3267.jpg কিছু মানুষ বসে পত্রিকা ভাঁজ করছে এবং তাদের আশেপাশে মানুষ দাঁড়িয়ে আছে \\n3268.jpg ছাদের রেলিঙের উপর একটি ছেলে বসে আছে \\n3268.jpg ছাদের রেলিঙের উপর বসে একটি ছেলে মেঘে ঢাকা আকাশ ও শহর দেখছে\\n3268.jpg শহরের দালানকোঠা ও মসজিদের মিনার আকাশ ছুঁয়েছে\\n3269.jpg তাক ভর্তি কাচের বোতল \\n3269.jpg তাক ভর্তি কাচের মদের বোতল\\n3270.jpg টেবিলের উপর কিছু পয়সা রাখা \\n3270.jpg টেবিলের উপর কিছু পুরাতন পয়সা রাখা \\n3271.jpg পাহাড়ি ঝর্ণা বেয়ে পানি পড়ছে\\n3271.jpg দুই পাহাড়ের মাঝে ঝর্ণা\\n3271.jpg ঝর্ণার পাশে রেলিঙের ধারে একটি লোক দাঁড়িয়ে আছে \\n3271.jpg গাছগাছালিতে ভরা পাহাড় এবং পিছনে মেঘ\\n3272.jpg মরিচবাতিতে সাজানো আলোকরশ্মি \\n3272.jpg অনেকদূর পর্যন্ত মরিচবাতি দিয়ে সাজানো হয়েছে \\n3273.jpg সূদীর্ঘ কাচের স্তম্ভ আকাশ ছুঁয়েছে\\n3273.jpg কাচের স্তম্ভের সামনে পানির লেক এবং পিছনে গাছ \\n3273.jpg নীল আকাশ সাদা মেঘে ঢাকা\\n3274.jpg দেয়ালে লাগানো আছে বিভিন্ন রংয়ের মুখোশ \\n3274.jpg দেয়ালে এগারোটা মুখোশ টানানো \\n3274.jpg দেয়ালো টানানো মুখোশের সামনে একটি রেলিং\\n3275.jpg মাথার উপর ঝুড়িতে কলার কাদি নিয়ে লোকটি সিড়ি বেয়ে উপরে উঠছে \\n3275.jpg নদীর পাড়ে সারি সারি নৌকা রাখা \\n3275.jpg নদীর একপাশে সারি সারি নৌকা রাখা এবং অন্য পাশে বড় বড় দালানকোঠা \\n3275.jpg নদীতে ট্রলার ও ছোট ছোট ডিঙি নৌকা চলছে \\n3275.jpg নদীর পাড়ে সারি সারি নৌকা রাখা এবং মানুষ নৌকা থেকে মালামাল নামাচ্ছে \\n3276.jpg ডিঙি নৌকার উপর দুজন মানুষ দুদিকে শুয়ে ঘুমাচ্ছে \\n3276.jpg নদীর ঘোলা পানিতে কচুরিপানা ছড়িয়ে ছিটিয়ে আছে \\n3276.jpg ঘোলা পানির নদীতে ডিঙি নৌকার উপর দুজন লোক ঘুমাচ্ছে\\n3277.jpg অনেক গুলো চেয়ার সাজানো এবং কিছু চেয়ার ছড়িয়ে ছিটিয়ে আছে \\n3277.jpg মেঝেতে চেয়ার সাজিয়ে রাখা হয়েছে \\n3277.jpg বিল্ডিংয়ে দুটি বড় দেয়ালের মাঝে চেয়ার রাখা\\n3278.jpg খাবারের উপর মৌমাছি বসেছে\\n3278.jpg সাদা রংয়ের বাতাসার উপর মৌমাছি বসেছে \\n3279.jpg জিলাপির উপর মৌমাছি বসেছে \\n3279.jpg অনেকগুলো জিলাপি জড়ো করে রাখা এবং একটির উপর মৌমাছি বসেছে \\n3279.jpg জিলাপির উপর বাদামী রংয়ের একটি মৌমাছি বসেছে\\n3280.jpg রিকশার সিটের উপর শুয়ে লোকটা বেঘোরে ঘুমাচ্ছে \\n3280.jpg রিকশার সিটের উপর শুয়ে লোকটা বেঘোরে ঘুমাচ্ছে এবং তার পাশেই একটি সিএনজি রাখা \\n3280.jpg রাস্তার একপাশে রিকশা ও সিএনজি রাখা এবং অন্য প্রান্তে অনেক গুলো রিকশা চলছে \\n3280.jpg রিকশাচালক লুঙ্গি, গেঞ্জি পরা অবস্থায় রিকশায় সিটের উপর শুয়ে ঘুমাচ্ছে\\n3281.jpg দোকানের ভিতরে বসে লোকটি কাবাব তৈরি করছে \\n3281.jpg দোকানের ভিতরে বসে লোকটি কাবাব তৈরি করছে এবং ভিতরে আরো দুজন মানুষ বসে আছে \\n3281.jpg দোকানের সামনে দুটি বাঁশ দড়ি দিয়ে বাধা \\n3281.jpg দোকানের সামনে একটি বস্তা একটি মোড়া ও কাঠের টেবিলের উপর চুলা রাখা \\n3281.jpg দোকানের সামনে একটি সাদা লাইট জ্বালানো\\n3282.jpg হরেক রংয়ের কাঁচের চুড়ি সাজানো আছে \\n3282.jpg সাদা কাগজে পেঁচানো আছে বিভিন্ন রঙের কাঁচের চুড়ি\\n3283.jpg বাচ্চাটি কাপড়ের তৈরি দোলনায় দোল খাচ্ছে \\n3283.jpg বাচ্চাটি কাপড়ের তৈরি দোলনায় দোল খাচ্ছে  এবং তার সামনেই একজোড়া গোলাপি রংয়ের স্যান্ডেল\\n3283.jpg বাচ্চাটি কাপড়ের তৈরি দোলনায় দোল খাচ্ছে এবং তার সামনে অনেকগুলো কাঠের খাম্বা\\n3283.jpg বাচ্চাটি কাপড়ের তৈরি দোলনায় দোল খাচ্ছে এবং তার পিছনে কাঠের সিড়ি\\n3284.jpg ছোট দোকানের ভিতরে বৃদ্ধ মহিলাটি বসে আছে \\n3284.jpg ছোট দোকানের ভিতরে বৃদ্ধ মহিলাটি শাড়ি পড়ে এক পা ছড়িয়ে বসে আছে\\n3284.jpg ছোট দোকানের ভিতরে বৃদ্ধ মহিলাটি বসে আছে এবং তার পায়ের কাছে একটা বড় বোতল রাখা \\n3284.jpg ছোট দোকানের ভিতরে বৃদ্ধ মহিলাটি বসে আছে এবং তার পিছনে তাকের মধ্যে অনেক জিনিস রাখা \\n3284.jpg ছোট দোকানের ভিতরে বৃদ্ধ মহিলাটি বালিশের উপর এক হাত দিয়ে ভর করে এক পা ছড়িয়ে বসে আছে\\n3285.jpg বৃষ্টির মধ্যে রাস্তায় জমে থাকা পানিতে তিনটি বাচ্চা খেলছে\\n3285.jpg মালগাড়ির পাশে দুটি বাচ্চা দাঁড়িয়ে আছে এবং একটি বাচ্চা বোতলে পানি ভরছে\\n3285.jpg রেলস্টেশনে হলুদ রঙের দুটি মালগাড়ি রাখা\\n3286.jpg পাহাড়ের মাঝে পিচঢালা সরু রাস্তা\\n3286.jpg পাহাড়ের মাঝে পিচঢালা সরু রাস্তায় মানুষ ভর্তি গাড়ি চলছে\\n3286.jpg পাহাড়ের উপরের আকাশ কালো মেঘে ছেয়ে গেছে \\n3286.jpg রাস্তার পাশে কলাগাছ \\n3286.jpg পাহাড়ি রাস্তায় চান্দের গাড়ির ছাদের উপর বসে যাত্রী যাচ্ছে \\n3287.jpg একটি মাকড়সা জাল বুনছে\\n3287.jpg মাকড়সাটি তার পা গুলোকে চার ভাগে ভাগ করে জাল বুনছে\\n3288.jpg রাস্তার উপর একটি শামুক বসে আছে \\n3288.jpg পিচঢালা রাস্তার উপর একটি শামুক খোলস থেকে মাথা বের করে বসে আছে\\n3289.jpg দোকানে ছেলেদের পোশাক পরিয়ে একটি পুতুলকে বসিয়ে রাখা হয়েছে \\n3289.jpg একটি ছেলে পুতুলকে কোর্ট,শার্ট,জুতা ও মুখোশ পরিয়ে দোকানে বসিয়ে রাখা হয়েছে \\n3289.jpg দোকানের বসে থাকা পুতুলটার পিছনে অনেক কাপড় ঝুলিয়ে রাখা আছে\\n3290.jpg টেবিলের উপর কিছু জিনিস সাজিয়ে রাখা হয়েছে \\n3290.jpg টেবিলের উপর ফ্রেমে বাঁধানো ছবি,ক্রেস্ট,সার্টিফিকেট ও ব্যাগ রাখা\\n3291.jpg বৃদ্ধ লোকটি দা দিয়ে বাঁশ কাটছে\\n3291.jpg লুঙ্গি, গেঞ্জি পরে বৃদ্ধ লোকটি বাঁশ কাটছে\\n3291.jpg মাটিতে পিঁড়ির উপর বসে লোকটি কাজ করছে \\n3291.jpg গাছের পাশে বসে বৃদ্ধ লোকটি বাঁশ কাটছে ও তার পাশে আরো বাঁশ রাখা আছে\\n3292.jpg গাছের ডালে দুটি কাক বসে আছে \\n3292.jpg পাতা শূন্য গাছের ডালে দুটি কাক বসে আছে \\n3293.jpg ফুটপাতে তিনটি মহিলা অন্য দিকে তাকিয়ে বসে আছে \\n3293.jpg ফুটপাতে রাখা দুটি ভ্যানের উপরে দুজম মানুষ ঘুমাচ্ছে \\n3293.jpg ফুটপাতে একজন মহিলা সামনে ব্যাগ রেখে, আরেকজন বযাগের ব্যাগের উপর বসে ও আরেকজন পা ছড়িয়ে বসে আছে\\n3294.jpg দোকানের সামনে লোহার একটি ছাতাকে মরিচ বাতি দিয়ে সাজানো হয়েছে \\n3294.jpg বন্ধ দোকানের সামনে একটি মরিচ বাতি দিয়ে ছাতার আকৃতি বানানো হয়েছে\\n3295.jpg ছোট একটা বাচ্চা ফুটপাতে কাগজ বিছিয়ে ওটার উপর বসে লিখছে\\n3295.jpg ছোট একটা বাচ্চা ফুটপাতে কাগজ বিছিয়ে ওটার উপর বসে লিখছে এবং তার সামনে একটি ওজন মাপার মেশিন রাখা \\n3295.jpg বাচ্চাটির আশেপাশে অনেক জিনিস রাখা এবং পিছনে লোহার শিকলের ব্যারিকেড,ফুলের টব,দেয়াল ও তার পিছনে ফুলের গাছ আছে \\n3295.jpg বাচ্চাটি পাশে একটি কৌটা ও সামনে একটি ওজন মাপার মেশিন রেখে বসে বসে লিখছে\\n3296.jpg মাথার পিছনে হাত রেখে চেয়ারে হেলান দিয়ে একজন মানুষ বসে আছে \\n3296.jpg মাথার পিছনে হাত রেখে চেয়ারে হেলান দিয়ে একজন মানুষ বসে আছে এবং তার সামনে একটি ছোট টেবিল রাখা \\n3296.jpg মাথার পিছনে হাত রেখে চেয়ারে হেলান দিয়ে একজন মানুষ বসে আছে এবং তার পিছনে আরেকজন মানুষ দাঁড়িয়ে আছে\\n3297.jpg অনেকগুলো কচি বাঁশ দেখা যাচ্ছে \\n3297.jpg বাঁশ ঝাড়ের পিছনে লেক\\n3297.jpg লেকের একপাশে ঘন জঙ্গল ও আরেকপাশে বাঁশঝাড়\\n3298.jpg বালির উপর একটি কালো পিঁপড়া হাঁটছে\\n3299.jpg পুরাতন একটি বটগাছের শিকড় ঝুলে আছে \\n3299.jpg একটি ছাগল মাথা উঁচু করে বটগাছের পাতা খাওয়ার চেষ্টা করছে \\n3299.jpg বটগাছটা ইট দিয়ে চারপাশ বাধাই করা\\n3300.jpg রেলিঙের উপর একটি সাদা কবুতর বসে আছে\\n3300.jpg রেলিঙের উপর একটি সাদা কবুতর উল্টো দিকে মুখ করে বসে আছে এবং তার সামনে অনেক দালানকোঠা\\n\\n3301.jpg অনেকগুলো কাটা বাঁশ এক জায়গায় জড়ো করে রাখা\\n3302.jpg ম্যাচ বাক্সের ভিতরের অনেকগুলো কাঠির মধ্যে একটি কাঠিতে আগুম জ্বলছে \\n3303.jpg ফাটা কাচের মধ্যে দিয়ে নীল আকাশ এবং রাস্তার বাস দেখা যাচ্ছে \\n3304.jpg ভ্যানচালক ভ্যানের উপর অনেকগুলো বাঁশ বেঁধে নিয়ে যাচ্ছে \\n3305.jpg অনেক গুলো ব্যাঙের ছাতা এক জায়গায় গজে উঠেছে \\n3306.jpg ব্রিজের উপর একটি মহিলা মাথায় করে আখ নিয়ে যাচ্ছে এবং তার পাশে একটি ছোট্ট ছেলে হাটছে\\n3307.jpg মাটির উপর অনেকগুলো লাল পিঁপড়া \\n3308.jpg কাপড়ের উপর একটি মাছি বসে আছে \\n3309.jpg একটি ছোট ছেলে পাতিলের ভিতর মাথা ঢুকিয়ে রেখেছে \\n3310.jpg রাস্তায় কুরবানীর গরুকে তিনটি লোক ধরে রেখেছে \\n3311.jpg খোলা গেটের বাইরে একটি কালো বিড়াল বসে আছে\\n3312.jpg শ্যাওলা পরা ইটের অনেকটা উপরে একজন মানুষ দুধ চায়ের কাপ ধরে রেখেছে \\n3313.jpg দোকানে লোকটি রুটি বানাচ্ছে \\n3314.jpg রাতে মাছের বাজারে অনেকগুলো বাল্ব জ্বলছে এবং মাছ জড়ো করে রাখা আছে\\n3315.jpg মালামাল দিয়ে ভরা একটি ভ্যানের উপরে একটি ছাগল দাড়িয়ে আছে\\n3316.jpg গাছের ডালে দুটি ছেলে ঝুলছে \\n3317.jpg রিকশাওয়ালা রিকশা চালাচ্ছে \\n3318.jpg রাস্তায় দুই সারিতে চলছে অনেকগুলো রিকশা \\n3319.jpg একটি ছেলের হাতে সুতার সাহায্যে বিভিন্ন আকারের রং বেরংয়ের বেলুন বাধা\\n3320.jpg নৌকার উপর দাড়িয়ে লোকটি লাঠি দিয়ে গাছ থেকে পেয়ারা পারছে\\n3321.jpg স্মৃতি স্তম্ভের পিছনে রয়েছে সবুজ বড় গাছ\\n3322.jpg সবুজ কচি পাতার উপর দুটি পোকা \\n3323.jpg বোরখা পড়া কয়েকজন মহিলা এক জায়গায় দাঁড়িয়ে আছে\\n3325.jpg জানালার সানসেটের উপর একটি পেঁচা বসে আছে\\n3326.jpg অনেকগুলো সিগারেটের প্যাকেট\\n3327.jpg সন্ধ্যাবেলায় রাস্তায় ছেলেরা ক্রিকেট খেলছে\\n3328.jpg বৃষ্টির দিনে মাথা ঝুড়ি দিয়ে ঢেকে লোকটি রাস্তা পার হচ্ছে \\n3329.jpg বাক্সের মধ্যে অনেক গুলো চাবি ঝুলানো \\n3330.jpg রেললাইনের পাশে এক দম্পতী ও কয়েকটি বাচ্চা  বস্তা,বাক্স নিয়ে বসে আছে\\n3331.jpg বৃদ্ধ লোকটি পান্জাবী, টুপি ও লুঙ্গি পরে বিলের স্টিমারের উপর নামজের জন্য রুকু দিচ্ছে \\n3332.jpg পড়ন্ত বিকেলে পাহাড়ের উপর একটি মেয়ে ও ছেলে দোলনায় বসে আছে\\t\\n3334.jpg ছোট মেয়েটি রাস্তা থেকে পাথর কুড়িয়ে পলিথিনের ভিতরে ঢুকাচ্ছে\\n3335.jpg একটি খালি ক্লাসরুম যার ব্ল্যাকবোর্ডে চকের লিখা\\n3336.jpg মসজিদের ভিতরে মুসল্লীরা সবাই সেজদা করছে \\n3337.jpg কাঠবিড়ালিটি মাটিতে কিছু খুঁজছে \\n3338.jpg সমতল একটি জায়গার উপর একটি চশমা, পেন্সিল ও মোবাইল রাখা\\n3340.jpg জ্বলন্ত মোমবাতি গুলোর মাঝে আগরবাতি জ্বলছে\\n3341.jpg লেগুনার পিছনে দুজন যাত্রী ঝুলে যাচ্ছে \\n3342.jpg জপগ রাস্তায় দুটি বাস পরপর দাঁড়িয়ে আছে\\n3343.jpg মাথার নিচে গামছা দিয়ে অন্য দিকে তাকিয়ে লোকটি শুয়ে আছে\\n3344.jpg ফুটপাতে রাখা ফোমের উপর ছেলেটা হাত পা ছড়িয়ে ঘুমাচ্ছে \\n3345.jpg লোকগুলো বাঁশ ভর্তি  ঠেলাগাড়িটি টেনে নিয়ে যাচ্ছে \\n3346.jpg একজন মানুষ নাগরদোলাটিকে টেনে নিচে নামাচ্ছে \\n3347.jpg অনেক গুলো লোক গ্রামের মেঠোপথ ধরে ধান ভর্তি ভ্যান গাড়ি টিকে টেনে নিচ্ছে \\n3349.jpg সবুজ ঘাসের উপর বিন্দু বিন্দু পানি জমে আছে\\n3350.jpg মাটির তৈরি পুতুল \\n3351.jpg লোকটি সরিষা ক্ষেতে সার ছিটিয়ে দিচ্ছে এবং পাশে একটি ছোট ছেলে খালি গায়ে ঘুরছে\\n3352.jpg শেষ বিকেলের আলোয় ছেলেগুলো ফুটবল খেলছে \\n3353.jpg লাল শাড়ি পরে চুলে লাল জবা গুজে মেয়েটি প্রদীপ জ্বালাচ্ছে \\n3354.jpg নীল আকাশ আর সাদা মেঘের পাশে লোকটি বাইক নিয়ে দাড়িয়ে আছে\\n3355.jpg ছোট মেয়েটি সরিষা ক্ষেতের মাঝ দিয়ে বাংলাদেশের পতাকা উড়িয়ে দৌড়াচ্ছে \\n3356.jpg বন্যার পানির মধ্যে দিয়েই মানুষ, রিকশা, গাড়ি চলছে \\n3357.jpg শীতের কুয়াশায় ঘেরা সকালে বটগাছের নিচ দিয়ে ছোট ছেলেটা সাইকেল নিয়ে যাচ্ছে \\n3358.jpg শীতের কুয়াশায় ঘেরা সকালে পিচঢালা রাস্তায় একজন লোক ও দুটি কিশোর সাইকেল চালাচ্ছে \\n3359.jpg লোকটি খেজুর গাছ থেকে রস সংগ্রহ করছে \\n3361.jpg ট্রেনের জানালা দিয়ে ভেতরের মানুষদের দেখা যাচ্ছে \\n3362.jpg রাতের বেলা অনেকগুলো লোক একসাথে ফানুশের ভিতরে আগুন জ্বালিয়ে ফানুস উড়ানোর চেষ্টা করছে\\n3363.jpg বাচ্চাগুলো অসহায় দৃষ্টিতে তাকিয়ে আছে\\n3364.jpg একটি লোক অন্য লোককে ট্রেনের ছাদে হাত টেনে উঠাচ্ছে \\n3365.jpg সূর্য ডোবার সময় নীল আকাচেরআকাশের কিছু অংশ সূর্যের আলোয় হালকা লাল রঙ ধারণ করেছে এবং আকাশে চিকন চাঁদ দেখা যাচ্ছে \\n3366.jpg পানির কিনারায় সারি সারি  নতুন নৌকা রাখা এবং তার মাঝেই একটি লোক ছাতা মাথায় দিয়ে দাড়িয়ে আছে\\n3367.jpg কাঠের টেবিলের উপর রাখা মোবাইলটার উপর পানি পড়েছে \\n3368.jpg টিয়া রংয়ের ছোট ঘড়িটা সাময় দেখাচ্ছে \\n3369.jpg বাচ্চা কোলে নিয়ে মহিলাটি হাসছে এবং তার পিছনেও একটি মহিলা, একটি লোক ও দুটি বাচ্চা দাঁড়ানো \\n3370.jpg টিনের চালার উপর থেকে বৃষ্টির পানি পড়ছে\\n3371.jpg বারান্দায় রেলিংয়ের উপর হাত রেখে অন্য হাত দিয়ে কানে মোবাইল ধরে লোকটি কথা বলছে\\n3372.jpg সাদাকালো দাড়িতে একজন বয়স্ক মানুষ অন্যদিকে তাকিয়ে আছে\\n3373.jpg হুডি পরে লোকটি মুচকি হেসে তাকিয়ে আছে \\n3374.jpg সিড়ির উপর একটি ছেলে ও মেয়ে দাড়িয়ে নাচছে ও পিছনে কয়েকটি লোক দাড়িয়ে আছে \\n3375.jpg কাঠের পাটাতনের উপর ছোট ছেলেটি দৌড়াচ্ছে \\n3376.jpg রাতের অন্ধকারে লাইটার থেকে আগুন জ্বলছে \\n3378.jpg পাঁচটি কাক ওয়ালের উপর এক সারিতে বসে আছে \\n3379.jpg ছেলেটা মাথার উপর গামলায় করে কিছু বহন করছে \\n3380.jpg বহুতল ভবনের বারান্দা গুলোয় দড়িতে মেলা কাপড় দেখা যাচ্ছে \\n3381.jpg রাতের আকাশ ভর্তি তারা এবং একটি তাল গাছ \\n3382.jpg এক জায়গায় নীল হলুদ বস্তা ভর্তি মালামাল জড়ো করে রাখা\\n3383.jpg জঙ্গলের মাঝ দিয়ে চলে গেছে রেলপথ \\n3384.jpg কাঠের বেড়ার উপর হেলান দিয়ে আছে একটি ফুল গাছের ডাল এবং ডালে দুটি ফুল ফুটে আছে\\n3385.jpg মহিলাটি  ঝাড়ু দিচ্ছে আর তাতে ধুলো উড়ছে\\n3386.jpg শুকনো ডালের উপর একটি মাছি বসে আছে \\n3387.jpg চুড়ি পরে একটি মেয়ে হাত বাড়িয়ে রেখেছে এবং পিছনেই একটি বড় বটগাছ দেখা যাচ্ছে \\n3389.jpg দুটি সূর্যমুখী ফুলের গাছ \\n3390.jpg বৃষ্টির রাতে একটি গাছের ডাল ঝুলে আছে \\n3391.jpg কলা গাছের পাতা\\n3393.jpg ঘাসের উপর পানির বিন্দু জমে আছে \\n3394.jpg সমুদ্রের তীরে কয়েক জোড়া জুতা রাখা\\n3395.jpg কৃষক জমিতে ধানগাছ রোপণ করছে \\n3396.jpg রঙিন কাচের বাতি ঝুলছে \\n3397.jpg ঘাসের উপর একটি ছেলে বসে গিটার বাজাচ্ছে \\n3400.jpg টেবিলের উপর রাখা বিভিন্ন রকম খাবার রাখা এবং সেখান থেকে সবাই খাবার নিয়ে খাচ্ছে\\n3401.jpg হাফ প্যান্ট পরা লোকটি পানিতে ঝাঁপিয়ে পরছে\\n3402.jpg নারিকেল গাছে অনেকগুলো ডাব ঝুলছে \\n3403.jpg কলাপাতার উপর কয়েক রকমের বড় মাছ রাখা \\n3404.jpg একজন লোক ল্যাপটপ কোলের উপর রেখে বসে আছে আর তার পাশেই তার ছোট ছেলে ও তার স্ত্রী \\n3405.jpg খেলোয়াড়েরা বোলিং করার জন্য বল হাতে দাড়িয়ে আছে\\n3407.jpg ক্ষেতের মাঝ দিয়ে একটি ছোট মেয়ে ফ্রোক পরে হাটছে\\n3409.jpg জেলে জাল সেলাই করছে\\n3410.jpg লোকটি সাবানের বাবলস ফোলাচ্ছে\\n3311.jpg একজন লোক সিলভারের মগ থেকে মাটির পাত্রে চা ঢালছে\\n3412.jpg কাশবনের ভিতরে নীল আকাশের নিচে একটি ছেলে উপরের দিকে ছাতা ছুড়ে দিয়েছে \\n3413.jpg কয়েকজন লোক একই রকম পোশাক পড়ে দাঁড়িয়ে আছে \\n3415.jpg একটি লোক ফুটবল খেলছে এবং তার চারপাশে অনেকগুলো মানুষ তার মাথার উপর কাপড় ধরে রেখেছে \\n3416.jpg বড় চুলের একজন লোক ড্রাম বাজাচ্ছে \\n3417.jpg মাঠে একটি মহিলা ও তার পাশে একটি কুকুর যাচ্ছে এবং তাদের পিছনে কিছু মানুষ \\n3418.jpg ফুটবলার মাথা দিয়ে বলটিকে আঘাত করছে এবং তার পাশেই আরেকজন মুখ বিকৃত করে আছে\\n3419.jpg পানির মধ্যে দুটি কুকুর একটি বোতল কামড়ে ধরে সাঁতার কাটছে \\n3421.jpg মাঠে একটি কুকুর বসে আছে এবং অন্য একটি কুকুর লাফ দিয়ে টেনিস বলটি ধরার চেষ্টা করছে \\n3423.jpg গাছের নিচে দাড়িয়ে ছোট ছেলেটা দড়ির গিট খুলছে\\n3424.jpg স্টেজে অনেকগুলো মেয়ে এক সারিতে দাঁড়িয়ে আছে\\n3425.jpg একজন পপ তারকা গিটার বাজাচ্ছে আর গান গাচ্ছে\\n3427.jpg কাঠের গেট ধরে পিচ্চিটা দাঁড়িয়ে আছে\\n3428.jpg একজন লোক বসে আছে এবং আরেকজন হাত উঁচু করে আছে\\n3429.jpg পাহাড় বেয়ে একটি লোক উপরে উঠছে \\n3431.jpg একজন লোক ও একটি ছোট ছেলে পানির ভিতর থেকে গলা উঁচু করে দাড়িয়ে আছে  \\n3432.jpg পাথরের উপর একটি পাখি উড়ছে\\n3434.jpg সাদা বকটি পানির উপর ঠোঁট দিয়ে আছে\\n3335.jpg গাড়ির ভিতরে একটি ছেলে সিট বেল্ট বেধে বসে আছে\\n3435.jpg দুটি মেয়ে কারাতে খেলছে এবং কাছেই রেফারি দাঁড়িয়ে আছে\\n3436.jpg পাহাড়ের পাশের নদীতে নৌকা পাল তুলে যাচ্ছে \\n3438.jpg দুই হাতে দুটি চামচ ধরে একটি ছেলে দাড়িয়ে আছে\\n3439.jpg সূর্য ডোবার পর দুটি বাচা পুকুর পাড় ঘেঁষে হাটছে\\n3440.jpg মাথায় হেলমেট পরে একটি ছোট বাচ্চা সাইকেল চালাচ্ছে \\n3441.jpg মেঠোপথ ধরে দুটি বাচ্চা ফুল হাতে হাটছে আর হাসছে\\n3442.jpg পাহাড়ের উপর রশি ধরে তিনটি মেয়ে টানছে\\n3443.jpg একটি মেয়ে দৌড়াচ্ছে এবং পাশে ছেলেগুলো দেখছে \\n3445.jpg পার্কের বেঞ্চে দুজন বসে আছে \\n3446.jpg একটি মেয়ের কাধের উপর  আরেকটি মেয়ে ঝুলে আছে\\n3448.jpg বাসের জানালা দিয়ে দুটি ছেলে মাথা বের করে আছে এবং একটি খেলনা সাপ দেখাচ্ছে \\n3449.jpg সাইকেলের রেস চলছে\\n3451.jpg দুদিক ঘুরে দুটি ছেলে মেয়ে বসে আছে\\n3452.jpg সমুদ্রের তীরে কুকুরটি দৌড়াচ্ছে \\n3454.jpg হাফ প্যান্ট পড়া একটি ছেলে ঝিলের পাড়ে দাড়িয়ে কিছু ছুড়ে দিচ্ছে\\n3455.jpg সবুজ ঘাসের উপর পাশাপাশি একজন মানুষ ও কুকুর দৌড়াচ্ছে \\n3457.jpg সমুদ্রের পাড়ে পাথরের উপর একটি ছেলে সাইকেল নিয়ে কসরত করছে\\n3459.jpg সবুজ ঘাস ও রঙিন ফুলের পাশের রাস্তা দিয়ে তিনজন মানুষ হাটছে \\n3460.jpg ছোট মেয়েটা দুহাতে পাতা উড়িয়ে দিচ্ছে \\n3461.jpg সমুদ্রে মেয়েটি সার্ফিং করছে\\n3462.jpg পানির ফোয়ারার সামনে একটি বেঞ্চে দুজন মানুষ বসে আছে\\n3463.jpg একটি ছেলে স্কেটিং করছে\\n3464.jpg লোহার পাইপের উপর দিয়ে কুকুরটা লাফ দিচ্ছে \\n3466.jpg বয়স্ক লোকটি বাদ্যযন্ত্র বাজাচ্ছে \\n3467.jpg পানিতে কুকুরটা লাফ দিয়ে দাড়িয়ে গেছে\\n3468.jpg খোলা মাঠে ছেলেটা দৌড়াচ্ছে \\n3469.jpg ঘাসের উপর বসে ছোট ছেলেটা কাঁদছে \\n3472.jpg সুন্দর রোদেলা দিনে বাচ্চা মেয়েটি লাফ দিচ্ছে \\n3474.jpg কুকুরটি পানিতে ঝাঁপিয়ে পরছে\\n3475.jpg বাচ্চাটি সবুজ আপেলটা মুখে কামড়ে ধরে আছে\\n3476.jpg সবুজ মাঠে লোকগুলো হকিস্টিক দিয়ে হকি খেলছে\\n3477.jpg রাস্তায় একজন মানুষ দুই হাতে পোস্টার নিয়ে দাড়িয়ে আছে এবং তার সামনে মানুষ হাটছে\\n3478.jpg পানির উপর ভেসে থাকা সসারটি ধরার জন্য কুকুরটা লাফ দিচ্ছে \\n3479.jpg নীল আকাশের নিচে পাহাড়ের উপর একটি পরিবার হাসিমুখে বসে আছে\\n3480.jpg জঙ্গলের মধ্যের রাস্তা দিয়ে কুকুরটা হাটছে\\n3481.jpg মেয়েটা পানিতে বসে আছে আর ঢেউ এসে তাকে ধাক্কা দিচ্ছে \\n3483.jpg সাদাকালো কুকুরটি গলা পানিতে ভাসছে \\n3484.jpg একই রকম পোশাক পরে একই সাথে কিছু লোক দৌড়াচ্ছে \\n3485.jpg কুকুরটি লোহার ব্যারিকেডের উপর দিয়ে লাফ দিচ্ছে \\n3486.jpg রাস্তার পাশের দেয়ালে কিছু মানুষ রং করছে আর অন্যরা তা দেখছে\\n3488.jpg মহিলাটি তার হাতের খাবারের দিকে তাকিয়ে আছে\\n3489.jpg একটি লোক সাইকেল চালাচ্ছে \\n3490.jpg লোকটি তার স্কেটিং বোর্ড নিয়ে বরফ থেকে বেঞ্চের উপর উঠে গেছে \\n3491.jpg দুটি মেয়ে পাশাপাশি দাড়িয়ে অন্য দিকে তাকিয়ে আছে\\n3492.jpg ঝর্ণার সামনে মেয়েটি পাথরের উপর বসে আছে\\n3493.jpg বাবা ও মা তাদের বাচ্চাদের কোলে নিয়ে পাথরের উপর বসে আছে \\n3494.jpg সাদা বকটি পানির উপর হাটছে\\n3495.jpg মহিলারা একই রকম পোশাক পরে সাজগোছ করছে\\n3496.jpg মাটির উঁচু নিচু রাস্তায় বাইক রেস চলছে\\n3498.jpg বাচ্চা দুটি দোলনায় দোল খাচ্ছে \\n3499.jpg মাঠের মধ্যে  খেলোয়াড়েরা এক জায়গায় জড়ো হয়ে আছে\\n3500.jpg সরিষাক্ষেতে দুটি মেয়ে শাড়ি পরে দাঁড়িয়ে আছে\\n3501.jpg ঘাসের মাঝে একটি কুকুর খেলা করছে \\n3502.jpg একজন বাদক ঢোল বাজাচছে\\n3503.jpg দুই জন বাচ্চা ছেলে গাছের ডালের উপরে খেলছে\\n3504.jpg মেয়েটি পুকুর পাড়ে দাঁড়িয়ে পানিতে ঢিল ছুরছিল\\n3505.jpg ছেলেটি আনন্দের সাথে স্কেটিং করছিল\\n3506.jpg বাচ্চা ছেলেটি সবুজ ঘাসে উপর বাঁশের উপর বসে খেলা করছে   \\n3507.jpg ছেলেটি দুই হাত দিয়ে হকি স্টিক ধরে সবুজ ঘাসের উপর দাঁড়িয়ে আছে \\n3508.jpg বাচ্চা মেয়েটি চকলেট দুধ এর গ্লাস এর দিকে তাকিয়ে আছে \\n3509.jpg ছেলেটি পা উচু করে লাফ দিচ্ছে\\n3510.jpg উইকেট রক্ষক ছেলেটি খেলার মাঝে এক হাত দিয়ে বল ছুড়ছে\\n3511.jpg লোকটি উঁচু শৃঙগে আরোহণ করছে \\n3512.jpg ছেলেটি সাইকলিং করার সময় পড়ে যাচ্ছে \\n3513.jpg একটি পাখি উড়ে যাচ্ছে \\n3514.jpg হিজাব পরিধান করা মহিলাটি তার রোদচশমা মাথায় উঠিয়ে অন্যদিকে তাকিয়ে আছে \\n3516.jpg ছেলেটি সাইকেল নিয়ে বিভিন্ন কসরত দেখাচ্ছে \\n3517.jpg দুই জন মহিলার একজন আরেকজনকে ধরে দাঁত বের করে হাসছে \\n3518.jpg একটি কুকুর মডেলিং করছে \\n3519.jpg একজন সাইকেল আরোহী জঙ্গলে সাইকেল চালাচ্ছে \\n3520.jpg তিন জন লোক আর এক জন মহিলা একসাথে হাসিমুখে দাঁড়িয়ে আছেন \\n3521.jpg সবুজ ঘাসে বসে একজন মহিলা একটি ছোট মেয়ে কে বই দেখাচ্ছে \\n3522.jpg একটি ছেলে আরেকটি ছেলের সাইকেল নিয়ে করা কসরত দেখছে\\n3523.jpg নদীতে একটি জল ঊরোজাহাজ চলছে \\n3524.jpg পার্কে একটি ছেলে খেলনা ঘোড়ার উপর বসে আছে \\n3525.jpg খেলার মাঠে কয়েক জন ছেলে ফুটবল খেলছে \\n3526.jpg একজন লোক সঙ্গীত অনুষ্ঠানে দাঁড়িয়ে গিটার বাজাচছে \\n3527.jpg কুকুরটি পানি নিয়ে খেলা করছে \\n3528.jpg একটি কুকুর ঘাসের উপর বসে পানি পান করছে \\n3529.jpg দুমবাগুলো দৌড় প্রতিযোগিতায় দৌড়াচছে\\n3530.jpg ছেলে গুলো সাঁতার কেটে আসার পর দৌড়াচছে\\n3531.jpg চশমা পরা অর্ধ টাক ওয়ালা এক লোক দারায় \\nআছে \\n3532.jpg একজন লোক সাগরে স্কুবা ডাইভিং করছে \\n3533.jpg রোদচশমা পরা মেয়েটি বেহালা বাজাচছে \\n3534.jpg সাইকেল আরোহীরা সাইকেল চালানোর প্রতিযোগিতায় সাইকেল চালাচ্ছে \\n3535.jpg মেয়ে গুলো সাঁতার কাটার জন্য লাফ দিচ্ছে \\n3536.jpg তিন জন লোক আর দুই জন মহিলা পার্কিং এলাকায় বসে আছে \\n3537.jpg একটি ছেলে এবং একটি মেয়ে একসাথে হাটছে\\n3538.jpg দুইজন একে অপরের সাথে কারাতে প্রদর্শন করছে \\n3539.jpg একজন লোক মোটর সাইকেল চালাচ্ছে আর আকাশে দুইটি প্যারাশুট উড়ছে\\n3540.jpg লোকটি নির্মাণাধীন এলাকায় সাইকেল চালাচ্ছে \\n3541.jpg ছেলেটি সিরির রেলিং এর উপর দিয়ে সাইকেল চালাচ্ছে \\n3542.jpg একজন লোক এবং একজন মহিলা বসে গল্প করছে \\n3543.jpg একজন খেলোয়াড় স্ট্যাম্প হাতে নিয়ে যাচ্ছে \\n3544.jpg একটা কুকুর আরেকটা কুকুরকে কামড়াচছে\\n3545.jpg একজন মহিলা বসে কাঁদছেন\\n3546.jpg কুকুর গুলো মাঠে খেলা করছে \\n3547.jpg একটি ছেলে ছুরি নিয়ে খেলা দেখাচ্ছে আর একজন তা দেখছে\\n3548.jpg একজন লোক শিশুটিকে দুই হাত দিয়ে ঊচুতে উঠাচছে\\n3549.jpg একটি লোক ও একটি বাচ্চা সমুদ্রের ধারে দাঁড়িয়ে আছে \\n3550.jpg দুই জন কারাতে প্রদর্শন করছে \\n3551.jpg একজন মহিলা রোদচশমা হাতে আএনার সামনে দাঁড়িয়ে আছে \\n3552.jpg ছেলেটি শারীরিক কসরত প্রদর্শন করছে \\n3553.jpg দুই জন গ্রন্থাগার এর সামনে দাঁড়িয়ে আছে \\n3554.jpg লোকটি তার পা এর জুতো পর্যবেক্ষণ করছে \\n3556.jpg লোকটি বাচ্চাটিকে কোলে নিয়ে কেক এর সামনে বসে আছে \\n3557.jpg ছেলেটি সিরির উপর দিয়ে সাইকেল চালাচ্ছে \\n3558.jpg একজন মহিলা দরজার বাইরে বসে বই পড়ছে\\n3559.jpg বাচ্চাটি সমুদ্র তটে সূর্য স্নান করছে \\n3560.jpg বাচ্চাটি সাইকেল চালাচ্ছে \\n30561.jpg বাচ্চাটি ট্রলিতে বসে আছে \\n30562.jpg মেয়েটি কোমরে হাত দিয়ে দাঁড়িয়ে আছে \\n3563.jpg ছেলে দুটি লাফালাফি খেলছে \\n3564.jpg বাচ্চা ছেলেটি হাতল ধরে ঝুলছে\\n\\n\\n\\n4001.jpg একজন লোক রঙিন ছোট অনেক গুলো বেতের ঝুড়ি কাধে করে নিয়ে যাচ্ছে \\n4002.jpg ফ্লাইওভার ব্রিজের উপর ও নিচ দিয়ে যানবাহন চলছে\\n4003.jpg বাংলাদেশের জাতীয় পতাকা হাতে নিয়ে ছোট ছেলেটা গাড়ির উপর বসে আছে\\n4004.jpg শ্রমিকটি শিপের লোহা ঝালাইয়ের কাজ করছে\\n4005.jpg সাদা ফুলের উপর কালো ভ্রমর বসে আছে \\n4006.jpg মরচে ধরা শীপের পাশে রশি ধরে ক্যাপ মাথায় দিয়ে ছেলেটা অন্য দিকে তাকিয়ে আছে\\n4007.jpg নদীর পাড়ে সারি সারি নৌকা, ট্রলার বাধা আছে যাত্রীর অপেক্ষায় \\n4008.jpg নৌকা বোঝাই করে পেয়ারা নিয়ে যাচ্ছে মাঝিরা\\n4009.jpg পাহাড়ী রাস্তায় হেঁটে চলেছে চা শ্রমিকেেরা\\n4010.jpg ইটের লাল দেয়াল বেয়ে উপরে উঠছে পরগাছা \\n4011.jpg রঙিন দেয়ালের সামনে কলাবিক্রেতা কলা সামনে রেখে মাথা নিচু করে বসে আছে\\n4012.jpg ছেলেটি মাটির রাস্তায় বসে মুখে খাবার নিচ্ছে আর পিছনে একটি কুকুর বসে আছে\\n4013.jpg পাগল লোকটি রাস্তার আইল্যান্ডের মাঝে মাথার নিচে পোটলা রেখে ঘুমিয়ে আছে\\n4014.jpg একজন হকার খেলনা বিক্রি করতে বেরিয়েছেন\\n4015.jpg মহিলাটি ইটের খোয়ার ঝুড়ি ছেলেটির মাথায় তুলে দিচ্ছে \\n4016.jpg কয়েকজন লোক ইট ভাঙ্গছে\\n4017.jpg তিনটি নৌকায় তিনজন মাঝি বসে আছে\\n4018.jpg বউ বরের মাথায় পাগড়ি ঠিক করে দিচ্ছে \\n4019.jpg মাছবিক্রেতা মাছগুলো পলিথিন ব্যাগে ভরে দিচ্ছে \\n4020.jpg ছোট ছেলেটি মাথার উপর বালতিতে করে গোলাপ ফুল নিয়ে দাড়িয়ে আছে \\n4021.jpg পার্কে চা বিক্রেতা ফ্লাক্স,চা নিয়ে ঘুরছে আর গাছের পাশে দুটি মেয়ে বসে আছে\\n4022.jpg শিংবিহীন হরিণটি দাড়িয়ে আছে\\n4023.jpg বাজারে মহিলারা বসে মাছ কেটে দিচ্ছে \\n4024.jpg ছোট মেয়েটি ত্রান পেয়ে খুব খুশি \\n4025.jpg রাতের কাঁচাবাজার\\n4026.jpg একজন আরেকজনের হাতে  একটি ফুল দিচ্ছে\\n4027.jpg জানালার ফাঁক দিয়ে বের করা চুড়ি পরা একটি হাত\\n4028.jpg টেবিলের উপর লাল চা ভর্তি  একটি মগ\\n4029.jpg রেল ষ্টেশনে মালামাল বহন করে নিয়ে যাচ্ছে\\n4030.jpg ওয়ালের উপর বিড়ালটা বসে আছে\\n4031.jpg অন্ধকার ঘরে টেবিলের উপর মোমবাতিটি জ্বলছে\\n4032.jpg পুরানো টাকা কেনার জন্য নতুন টাকার বান্ডিল নিয়ে লোকটি বসে আছে আর মুখে হাত দিয়ে ফোনে কথা বলছে\\n4033.jpg বালুর উপর কুকুরটি ওর বাচ্চাদের নিয়ে বসে আছে\\n4034.jpg ছোট্ট ছেলেটি মন খারাপ করে অন্য দিকে তাকিয়ে আছে\\n4035.jpg ছেলেটা রেলিং ধরে দাড়িয়ে আছে\\n4036.jpg অনেক গুলো গোলাপ নিয়ে আছে মেয়েটি \\n4037.jpg পুকুর পাড়ে পানিতে ভর্তি হয়ে আছে নৌকাটি\\n4038.jpg গোলাপ গ্রামে একটি মেয়ে মন খুলে হাসছে\\n4039.jpg গোলাপ বাগানে গোলাপ ফুল মাথায় জমা করে আরো  ফুল তুলছে ছেলেটি \\n4040.jpg লুঙ্গি পড়া লোকটি এক হাতে খাঁচা ভর্তি  কবুতর আর অন্য হাতে পলিথিনের ব্যাগে বিস্কুট নিয়ে যাচ্ছে \\n4041.jpg লোকটি মাথায় গ্লাডিওলাস ফুল বোঝাই করে আছে\\n4042.jpg তিনটি গোলাপ ফুলের তোড়া পানিতে রাখা আছে\\n4043.jpg হিন্দুরা প্রদীপ জ্বালিয়ে পুজা করছে \\n4044.jpg ভাঙা মাটির ঘরে দুটি ছেলে বসে হাসছে\\n4045.jpg বৃদ্ধ লোকটি ইটের চুলায় পেঁয়াজু ভাজছে\\n4046.jpg চায়ের কাপ ও চায়ের কেটলী \\n4047.jpg রাস্তা দিয়ে রিক্সা ও সাইকেল যাচ্ছে\\n4048.jpg সিড়িতে বসে মোবাইল চালাচ্ছে দুটি ছেলে\\n4049.jpg ব্রিজের উপর তিনটি মেয়ে দাড়িয়ে গল্প করছে\\n4050.jpg একজন মহিলা কয়েকটি ছাগল টেনে নিচ্ছে \\n4051.jpg শিশুটি সব খেলনা ফ্লোরে ফেলে খেলছে \\n4052.jpg জিলাপির উপর মৌমাছি বসেছে\\n4053.jpg ট্রেনের উপর একজন বসেছে আরেকজন উঠছে\\n4054.jpg ট্রেনের জানালা দিয়ে একজন লোক ও একটি মেয়ে বাইরে তাকিয়ে আছে\\n4055.jpg একটি জিপ পানিতে পরে গিয়েছে\\n4056.jpg কয়েকটি ছেলে ফুটবল খেলছে\\n4057.jpg ধানক্ষেতের মাঝ দিয়ে লোকটি কাঠের বোঝা নিয়ে যাচ্ছে \\n4058.jpg বাঁশের খুটির উপর একটি লাল ঘর\\n4059.jpg শিক্ষক ছাত্রীকে সার্টিফিকেট দিচ্ছে \\n4060.jpg শিক্ষক প্রাইজ দিচ্ছে ছাত্রীকে\\n4061.jpg নদীর মধ্যে দুইটি শিশু গোসল করছে ও খেলছে\\n4062.jpg রেলিং ধরে ছেলেটা দাড়িয়ে আছে আর ভিতরটা দেখছে \\n4063.jpg কুকুর আর তার বাচ্চাটি ডাকছে \\n4064.jpg ঘাসের উপর ফড়িং টি বসে আছে\\n4065.jpg বারান্দায় অনেকগুলো চেয়ার জমা করা আছে\\n4066.jpg একজন লোক মোবাইল দিয়ে  অন্য দুইজন লোকের ছবি তুলে দিচ্ছে \\n4067.jpg সমুদ্রের পানিতে দুইজন ছোট ছেলেমেয়ে \\n4068.jpg ঘাসপালার মাঝে বেড়ে উঠেছে মাশরুম\\n4069.jpg চা বিক্রেতা চায়ের জিনিসপত্র সামনে রেখে উদ্যানের ঘাসের উপর নামাজ পড়ছে\\n4070.jpg সিড়ির নিছে রাখা আছে তার, কাঠ, ভাঙা বাইক ইত্যাদি \\n4071.jpg গাঁদা ফুলের পাপড়ির মাঝে প্রদীপ রাখা\\n4072.jpg রেলিং এ ঢেলান দিয়ে দাঁড়িয়ে আছে এক লোক\\n4073.jpg গ্রিলে বসে আছে একটি পাখি\\n4074.jpg সারি সারি গাছের মাঝে একটি কুকুর দাড়িয়ে আছে\\n4075.jpg শুকনো পাতা দিয়ে আগুন জ্বালানো হয়েছে\\n4076.jpg বড় নাগরদোলা\\n4077.jpg মুরগী ও তার বাচ্চা \\n4078.jpg পার্কের বেঞ্চে শুয়ে ঘুমাচ্ছে একটি লোক\\n4079.jpg উচু জায়গা থেকে লাফ দিচ্ছে একটি ছেলে\\n4080.jpg আখ থেকে মেশিনের সাহায্যে রস বের করছে \\n4081.jpg কাদা মাঠে ফুটবল খেলছে কয়েকটি ছোট ছেলে \\n4082.jpg একজন লোক ক্যামেরা দিয়ে একটি শাড়ি পড়া মেয়ের ছবি তুলে দিচ্ছে \\n4083.jpg ট্রলার থেকে কাঠের পাটাতনের উপর দিয়ে মাথায় মাটি ভর্তি ঝুড়ি নিয়ে মহিলাটা হাটছে\\n4084.jpg ছোট মেয়েটি বেলুন ফোলাচ্ছে\\n4085.jpg মেয়েটি ফড়িং এর ডানা ধরে রেখেছে \\n4086.jpg রেললাইনের পাশে হেটে হেটে বাদাম বিক্রি করছে \\n4087.jpg মহিলার কোলে শিশু\\n4088.jpg গরু নিয়ে যাচ্ছে ছেলেটি \\n4089.jpg গাছের ডালে একটি পেঁচা বসে আছে\\n4090.jpg ট্রেতে করে মেয়েটি মালা বিক্রি করছে\\n4091.jpg ইটের রাস্তা দিয়ে হেটে যাচ্ছে একটি লোক\\n4092.jpg বদ্ধভূমির উপর দিয়ে ভেজা শরীরে হেঁটে যাচ্ছে  শিশুটি \\n4093.jpg মরা ডালের উপর একটি ফড়িং বসে আছে\\n4094.jpg গাছের ডালে দুটি ছেলে ঝুলছে\\n4095.jpg লোকটি টিনের চালা রং করছে\\n4096.jpg স্কুলের কয়েকটি বাচ্চা জাতীয় পতাকা নিয়ে রাস্তায় দাড়িয়ে আছে\\n4097.jpg স্মৃতিসৌধের একাংশ\\n4098.jpg মরিচ বাটি দিয়ে ঝোপ সাজানো\\n4099.jpg বেঞ্ছে বসা মেয়েটি একটি কার্টুন বেলুন উরাচ্ছে\\n4100.jpg লোকটি নৌকার উপর দাড়িয়ে  পেয়ারা পারছে\\n4101.jpg অন্ধকারচ্ছন্ন একটি ফাঁকা ক্লাসরুম \\n4102.jpg কাঁচের জানালার পাশে বসে একটি ছেলে বই পড়ছে\\n4103.jpg রৌদ্রজ্জল দিনে মেয়েটা নীল  আকাশের দিকে তাকিয়ে পাখি দেখছে\\n4104.jpg লেকের পারে বসে আছে একটি ছেলে ও মেয়ে\\n4105.jpg বাসের সীটে বসে ছোট ছেলেটি বাইরের দিকে তাকিয়ে আছে আর ওর প্রতিবিম্ব জানালার গ্লাসে দেখা যাচ্ছে \\n4106.jpg কাঠের তক্তার উপরে সাজানো ছবির ফ্রেম\\n4107.jpg দুইটি লোক সীটে বসে জানালা দিয়ে বাইরে দেখছে\\n4108.jpg ফ্রেমের ভিতর অনেকগুলো মানুষের মুখ\\n4109.jpg রিকশাচালক রিকশা পাশে রেখে ঘুমাচ্ছে \\n4110.jpg ট্রেনের এক জানালা দিয়ে মুখ বের এক লোক কথা বলছে আর অন্য জানালা দিয়ে আরেকজন ট্রেনের ভিতর প্রবেশ করছে\\n4111.jpg মুখে মুখোশ বেঁধে লোকটি ঝালাইয়ের কাজ করছে\\n4112.jpg চা বাগানের পাশের রাস্তা দিয়ে মহিলা তিনটি হেঁটে যাচ্ছে \\n4113.jpg ঘোড়ার পিঠে বসে আছে ছেলেটা \\n4114.jpg ফাঁকা মাঠে সাইকেল  চালাচ্ছে ছেলেটি \\n4115.jpg ক্লাসরুমে অনেকগুলো মানুষ একসাথে দাড়িয়ে আছে\\n4116.jpg কাঁঠাল ভর্তি গাছের পাশের পুকুরে একটি লোক গোসল করছে এবং অন্যজন পানিতে যাচ্ছে \\n4117.jpg সবুজ ঘাসে ভরা পার্কে ছেলেটি একা ফুটবল খেলছে\\n4118.jpg মোচড়ানো কাগজের ঠোঙ্গা পড়ে আছে\\n4119.jpg রেলিং হেলান দেয়া ছেলেটার চুল ঠিক করে দিচ্ছে মেয়েটি \\n4120.jpg ইউএপির প্লাজায় ছেলেমেয়েদ্র ঘুরা ঘুরি\\n4121.jpg সাপটি আস্ত মাছটিকে গিলে ফেলছে\\n4122.jpg কৃষ্ণচূড়া গাছের নিচে সারি সারি রিকশা রাখা\\n4123.jpg একটি মাচার উপরে একজন মুসলিম নামায আদায় করছে\\n4124.jpg রাস্তার একপাশে হেলমেট সহ বাইক রাখা\\n4125.jpg দোতলা মার্কেট আর মসজিদের মিনার\\n4126.jpg রাতেরবেলা বৃষ্টিতে ছাতা মাথায় একজন গাড়ির পাশে দাড়িয়ে \\n4127.jpg কাগজের তৈরী প্রজাপতি ও তার ছায়া \\n4128.jpg একটি উড়োজাহাজ দুর্ঘটনার কবলে পরে পানিতে পরে গিয়েছে\\n4129.jpg হাতের মুঠোয় কাগজের ঠোঙ্গায় ঝালমুড়ি \\n4130.jpg পানিতে নিমজ্জিত একটি টবের উপর একটি শামুক তার খোলস থেকে বের হয়ে আছে\\n4131.jpg বন্যার পানিতে ডুবে যাওয়া ক্ষেতের পাশে দুটি গরু\\n4132.jpg মেয়েটি পলিথিনে ছোট পাথর ভরছে\\n4133.jpg গনেশের মূর্তি দাঁরা করানো\\n4134.jpg গ্রামের মাটির রাস্তায় একজন লোক হাটছে\\n4135.jpg গ্রামের মাটির রাস্তায় একজন সাইকেল চালাচ্ছে \\n4136.jpg পিচঢালা রাস্তার একপাশ দিয়ে ছাতা মাথায় দিয়ে লোকজন হেঁটে যাচ্ছে \\n4137.jpg অন্ধকারে মানুষ প্রোজেক্টরে খেলা দেখছে\\n4138.jpg বস্তায় রাখা আছে বিভিন্ন রকম মসলা \\n4139.jpg মরা ডালের উপর ছোট কাঠবিড়ালি \\n4140.jpg টলটলে পরিস্কার পানিতে নৌকা চালাচ্ছে একটি মেয়ে\\n4141.jpg পাগড়ি পরা ছেলেটি বাসের একটি সীটে বসার জন্য জায়গা খুজছে \\n4142.jpg সবুজ ঘাসের উপর রাখা একটি গীটার ও সামনে বিশাল পাহাড় \\n4143.jpg মেয়েটি হাতে একটি খেলনা ধরে আছে\\n4144.jpg রেললাইনের পাশের রাস্তার জমে থাকা পানি ছড়িয়ে ছেলেটি খেলছে\\n4145.jpg নদীতে স্টীমার চলছে\\n4146.jpg সমুদ্রের তীরে তিনটি বাচ্চা পানিতে বসে আছে\\n4147.jpg টেবিলের উপর রাখা একটি খোলা চশমা \\n4148.jpg বৈঠা বেয়ে নৌকা চালাচ্ছে বৃদ্ধ লোকটি \\n4149.jpg ছেলেরা ফুটবল খেলছে\\n4150.jpg একজোড়া দম্পতি একজন আরেকজনের দিকে তাকিয়ে আছে\\n4151.jpg ছোট মেয়েটি ছেলেটির চুলে উকুন খুজছে \\n4152.jpg লালশাক আর ধনেপাতা নিয়ে চাদর  গায় দিয়ে বসে আছে বৃদ্ধ লোকটি\\n4153.jpg মাথায় কম্বল আর হাতে পানির বোতল নিয়ে লোকটি দাড়িয়ে আছে\\n4154.jpg ফুটপাতে পলিথিনের উপর খালি গায়ে শুয়ে আছে ছেলেটি \\n4155.jpg ফুটপাতে  গায়ের কাপড়টি দিয়ে মাথা পেচিয়ে শুয়ে আছে ছেলেটি \\n4156.jpg রোদের মধ্যে মাথায় গামছা দিয়ে ঝুড়িতে সবজি নিয়ে ক্রেতার অপেক্ষায় বসে আছে বিক্রেতা \\n4157.jpg পাথরের উপর দাড়িয়ে আছে ছেলেটি\\n4158.jpg রিকশাওয়ালা রিকশার ভিতরে সীটে  ঘুমাচ্ছে\\n4159.jpg লোকটি নদীর একদম কিনারায় বসে আছে\\n4160.jpg বিক্রির জন্য বালতিতে গোলাপ রেখে মেয়েটি প্লেটে ভাত নিয়ে খাচ্ছে \\n4161.jpg ফুটপাতে স্ট্রেচারে ভর দিয়ে দাঁড়িয়ে আছে এক লোক \\n4162.jpg সমুদ্রের দিকে  কাধে দুইটি বালতি নিয়ে এগিয়ে যাচ্ছে একটি লোক \\n4163.jpg রঙিন অনেকগুলো পুতুল \\n4164.jpg মাথায় ব্যান্ডেজ বাধা অসুস্থ বাচ্চা রাস্তায় শুয়ে আছে আর পাশে মা বসে বাতাস করছে\\n4165.jpg গেটের কাছে চেয়ারে বসে দারোয়ান ঘুমাচ্ছে \\n4166.jpg চেনের মধ্যে একটি পাথরের লকেট হাতে করে দেখাচ্ছে \\n4167.jpg বৃদ্ধ লোকটি পাকা ধানগাছ গুলো জড়ো করছে\\n4168.jpg মহিলাটি মাটির চুলায় রাধতে গিয়ে ধোঁয়ায় ঘর ভরিয়ে ফেলছে\\n4169.jpg গ্রামের মাটির ঘরের পাশে মাটির চুলা কড়াই পাতিল \\n4170.jpg দোকানদার কেটলী থেকে ছাকনি দিয়ে ছেঁকে কাপে লাল শা ঢালছে\\n4171.jpg বৃদ্ধটি মাথায় ঝুড়ি নিয়ে হাটছে\\n4172.jpg শেওলা যুক্ত সবুজ পানিতে হলুন কালো ডোরাকাটা সাপটি যাচ্ছে \\n4173.jpg বরফের মধ্যে ইলিশ মাছ সাজিয়ে রাখা হয়েছে \\n4174.jpg ইটের তৈরি বেঞ্চের উপর খোলা চুলে শাড়ি পড়ে মেয়েটি বসে আছে \\n4175.jpg মহিলাটি লুছনি বিক্রির জন্য গাড়ির জানালার পাশে দাড়িয়ে লুছনি দেখাচ্ছে \\n4176.jpg দোকানে সাজানো আছে নানান রকম  চুড়ি \\n4177.jpg বাঁশঝাড়ের মাঝ দিয়ে মাটির রাস্তায় একজন সাইকেল চালিয়ে যাচ্ছে \\n4178.jpg কুয়াশায় ঢাকা শীতের সকালে রাস্তায় পড়ে আছে শুকনো পাতা\\n4179.jpg একটি পরিবার মালপত্র নিয়ে রাস্তা পার হওয়ার জন্য দাড়িয়ে আছে\\n4180.jpg সূর্যের আলোতে পিচ ঢালা রাস্তায় হুইল চেয়ারে বসা এক পঙ্গু\\n4181.jpg রঙ করা দেয়ালে একটি হুন্ডা পার্ক করা\\n4182.jpg পাটির উপর বিছানো সারি সারি বাক্সের একপাশে বৃদ্ধ লোকটি বসে খবরের কাগজ পড়ছে\\n4183.jpg সিমেন্টের রাস্তায় বাটি হাতে নিয়ে বসে আছে এক বৃদ্ধ ফকির\\n4184.jpg বিক্রির জন্য রাখা জলপাই এর আচার \\n4185.jpg সংসদ ভবনের বাইরে সপ্ট লাইট জ্বল জ্বল করছে\\n4186.jpg ছোট ছেলেটা গোসল করছে আর হাসছে \\n4187.jpg জমে থাকা পানির পাশে গাছগুলোর ছবি আঁকছে লোকটি\\n4188.jpg সবজির কাঁচাবাজারে মানুষের ভিড়\\n4189.jpg টমটমে করে মুরগী ভর্তি খাঁচার উপর বসে লোকটি যাচ্ছে \\n4190.jpg রেললাইনের উপর দিয়ে মাথায় কাঁধে সিলভারের ঢাকনা,পাতিলের বস্তা নিয়ে যাচ্ছে বিক্রেতাটি\\n4192.jpg নদীর পাড়ে লাফিয়ে পাখির মতো উড়তে চাচ্ছে মানুষটি\\n4193.jpg হিন্দুদের দেবী মূর্তি গুলো নিয়ে মানুষ ভিড় জমিয়েছে\\n4194.jpg বিয়ের আসরে কাজী বিয়ে পড়ানোর আগে খাতায় সব লিখছে \\n4195.jpg জলন্ত সিগারেট ছাইদানিতে রাখা পাশেই মোচড়ানো খালি কোকাকোলার ক্যান\\n4196.jpg বাজারে সাজিয়ে রাখা হয়েছে অনেক মাছ\\n4197.jpg দোকানে  সাজিয়ে রাখা হয়েছে অনেক ব্যাগ\\n4198.jpg কাঁচাবাজারের মাঝ দিয়ে মুরগী বিক্রেতা হাতে অনেকগুলো মুরগী নিয়ে যাচ্ছে \\n4199.jpg সাজিয়ে রাখা হয়েছে অনেক পুতুল\\n4200.jpg বিল্ডিং এর সামনের রাস্তায় ভ্যানে করে সবজি বিক্রি করছে\\n4201.jpg পানির মধ্যে ছেলেটি ফুটবল খেলছে \\n4202.jpg রূপকথার একটি গল্পের বই ও এক কাপ লাল চা\\n4203.jpg পানিতে ডোবা ঘাসের উপর রাখা একটি চশমা\\n4204.jpg মসজিদে মানুষ নামাজ পড়ছে\\n4205.jpg ঘন কালো মেঘলা আকাশের নিচে ঘোড়ার গাড়িতে কয়েকটি বাচ্চা বসে আছে \\n4206.jpg রাস্তার ধারে মাছ বিক্রেতা মাছ মাছ বিক্রি করছে আর ওাশেই রিকশাওয়ালা তার রিকশা থামিয়ে রেখেছে \\n4207.jpg পাটের দড়ির উপর বসে আছে একটি ফড়িং \\n4208.jpg পড়ন্ত বিকেলে ব্রিজের উপর একটি ট্রাক রাখা আর তার পাশে মানুষ হাটছে\\n4209.jpg সংসদ ভবনের সামনে একটি ছেলে ও মেয়ে ছাতার নীচে বসে আছে\\n4210.jpg খাঁচার ভিতর ইঁদুর ও খাবার\\n4211.jpg এসট্রে ভর্তি সিগারেটের ফিল্টার \\n4212.jpg বাস ভর্তি দাড়ানো মানুষ হ্যান্ডেল ধরে রেখেছে \\n4213.jpg বৃদ্ধ লোকটি খাবারের পোটলার উপর মাথা রেখে ঘুমাচ্ছে \\n4214.jpg রাস্তায় দাড়িয়ে দুটি ছোট ছেলে পেপার দেখছে\\n4215.jpg কলাওয়ালার কাছ থেকে কলা কিনছে একজন লোক\\n4216.jpg ময়লা মাখা গায়ে এক ছোট ছেলে আরেক পিচ্চি ছেলেকে ঝুড়িতে বসিয়ে কান ধরে রেখেছে \\n4217.jpg দোলনায় ঝুলছে শিশুরা\\n4218.jpg তরমুজ, পেঁপে, আপেল, আঙ্গুরে সাজানো রয়েছে দোকান \\n4219.jpg তারের জালিতে বন্দি মুরগী\\n4220.jpg ধানক্ষেতে বসে ছেলেমেয়েরা খেলছ\\n4221.jpg রিকশা ঘাস দিয়ে বোঝাই করে মহিলা পাশে পাশে হেটে চলেছে \\n4222.jpg মাথায় বস্তা ভর্তি ঘাস নিয়ে মহিলাটি পানি থেকে তীরে উঠছে\\n4223.jpg একটি পিচ্চি টিউবওয়েল থেকে পানি তুলছে আর একটি পিচ্চি কলে মুখ লাগিয়ে পানি পান করছে\\n4224.jpg ছোট্ট খেলনা হারিকেন ও বেগুনি রঙের ফুল\\n4225.jpg ট্রেনের ছাদে একটি ছেলেকে টেনে তুলছে অন্য কয়েকটি ছেলে\\n4226.jpg ঘাসের উপর রাখা একটি বই লাল,নীল চুড়ি \\n4227.jpg তালা,চাবি, মেশিন,কিছু যন্ত্রপাতি এবং একজন লোকের দুটি পা\\n4228.jpg লাল সাদা শাড়ি পড়ে ছোট মেয়েটি আইসক্রিম হাতে বিরক্তি নিয়ে তাকিয়ে আছে\\n4229.jpg ছোট একটি পিচ্চি ক্যামেরা দিয়ে এক দম্পতির ছবি তুলে দিচ্ছে \\n4230.jpg লঞ্চের বারান্দায় দাড়িয়ে আছে অনেক মানুষ \\n4231.jpg নীল মেঘলা আকাশের নিচে ব্রিজে হেঁটে যাচ্ছে একজন লোক আর অন্যদিকে একটি ছেলে দাড়িয়ে আছে\\n4232.jpg ব্রিজের উপর দাড়িয়ে স্কুলগামী একটি মেয়ে দূরের কিছু দেখছে \\n4233.jpg পান্জাবী, টুপি পড়ে বিকেল বেলায় দুটি ছোট ছেলে গাছের পাশে সাইকেল নিয়ে দাড়িয়ে আছে\\n4234.jpg ভরবাশের এক পাল্লায় কোদাল ও আরেক পাল্লায় ঝুড়ি নিয়ে বৃষ্টিতে হেঁটে যাচ্ছে লোকটি\\n4235.jpg স্ট্রেচারে ভর দিয়ে পঙ্গু মহিলাটি হাঁটছে\\n4236.jpg ভ্যানের উপর গ্যাসের সিলিন্ডার \\n4237.jpg অর্ধনগ্ন লোকটি রেলস্টেশনে ঘুমিয়ে আছে\\n4238.jpg স্কুলের জামা পড়ে দুটি পিচ্চি রাস্তা দিয়ে হেঁটে যাচ্ছে \\n4239.jpg গ্রিলে আটকানো আছে মানত করা অনেক তালা\\n4240.jpg বৃষ্টির দিনে ছাতা মাথায় দিয়ে একটি ছেলে ও মেয়ে রাস্তায় হাটছে\\n4241.jpg ট্রাক ভর্তি করে মাল নেয়া হচ্ছে \\n4242.jpg মা তার পঙ্গু ছেলেকে হুইল চেয়ারে করে নিয়ে যাচ্ছে \\n4243.jpg মেঘের আড়াল দিয়ে বিকেলের সূর্যের আলো সব জায়গায় ছড়িয়ে পরছে আর ক্ষেতের পাশের পিচঢালা রাস্তায় একটি ছেলে বাইক চালাচ্ছে \\n4244.jpg অনেকগুলো বাস পার্ক করে রাখা\\n4245.jpg পড়ন্ত বিকেলে নদীর উপর নৌকায় একটি লোক শুয়ে আছে\\n4246.jpg বৃষ্টিতে দুটি ছেলে রাস্তায় হাটছে\\n4247.jpg বৃষ্টিতে দুটি মেয়ে ভিজছে\\n4248.jpg খোলা মাঠের বড় একটি গাছের নিচে একটি মেয়ে দাড়িয়ে আছে\\n4249.jpg সাইকেলের উপর একটি ছেলে উল্টো ঘুরে বসে আছে\\n4250.jpg বালির উপর একটি স্যান্ডেল ও একটি পায়ের ছাপ\\n4249.jpg খোলা মাঠের বড় একটি গাছের নিচে একটি মেয়ে দাড়িয়ে আছে\\n4250.jpg সাইকেলের উপর একটি ছেলে উল্টো ঘুরে বসে আছে\\n4251.jpg বালির উপর একটি স্যান্ডেল ও একটি পায়ের ছাপ\\n4252.jpg পিছনে নীল আকাশে সাদা পুঞ্জীভূত মেঘ আর সবুজ গাছের মাঝ দিয়ে ব্রিজে সাইকেল চালাচ্ছে একটি ছেলে\\n4253.jpg কপালে বড় লাল আর গালে বাংলাদেশের পতাকা আঁকিয়ে ছোট্ট মেয়েটা বাবার কাঁধে শুয়ে হাসছে\\n4254.jpg দোকানে হরেক রকম বাতি ঝুলছে\\n4255.jpg মেয়েটি একটি ছেলের কাঁধে হাত রেখে বসে আছে\\n4256.jpg মাথায় গামছা বেধে চোখে চশমা পড়ে বাচ্চাটি বাবার কোলে করে পহেলা বৈশাখের মেলায় যাচ্ছে \\n4257.jpg গরীব মহিলাটি একটি কাপড়ের ব্যাগ পাশে রেখে পানির বোতল হাতে নিয়ে পিলারের কাছে বসে আছে\\n4258.jpg কাঁধের লাঠিতে ব্যাগ ঝুলিয়ে গ্রামের মেঠোপথ ধরে খালি পায়ে বৃদ্ধ লোকটি হাটছে\\n4259.jpg বাঁশঝাড়ের নিচে একটি মহিলা ও লোক বসে আছে\\n4260.jpg ফুটপাতের ওয়ালে হেলান দিয়ে একজন বয়স্ক মহিলা ব্যাগ পাশে রেখে বসে আছে\\n4261.jpg সাইকেলের পিছনে ঘাস বোঝাই করে লোকটি হেটে হেটে চালাচ্ছে আর পিছনে একটি ছোট ছেলে সাইকেল টিকে ঠেলা দিচ্ছে \\n4162.jpg ঢেউ খেলানো চুল খুলে মিষ্টি হেসে মেয়েটি ঘাসের উপর বসে আছে\\n4263.jpg একটি লোক ছোট একটি মেয়ের হাত ধরে রাস্তায় হাটছে\\n4264.jpg টেবিলের উপর রাখা দাবার কোর্ট ও গুটি\\n4265.jpg যানবাহন আর মানুষে গীজগীজ করছে রাস্তা \\n4266.jpg ছোট ছেলেটা পায়ের উপর পা তুলে বসে রাগী মুখ করে আছে আর মেয়েটি গালে হাত দিয়ে হাসছে\\n4267.jpg দুপাশের জঙ্গলের মাঝের রেলপথের উপর একটি মেয়ে বসে আছে\\n4268.jpg ট্রেনের জানালা দিয়ে বাচ্চাটি বাইটের ধানক্ষেতের দিকে তাকিয়ে আছে\\n4269.jpg কুমোর চাকে মাটির কলস বানাচ্ছে কুমার\\n4270.jpg মাটির ব্যাংক হাতে তুলে দেখাচ্ছে ছেলেটা \\n4271.jpg পাকা মটরশুঁটির পাশে কৃষক দাঁড়িয়ে\\n4272.jpg মহিলাটি গলায় সাপ পেঁচিয়ে দাড়িয়ে আছে\\n4273.jpg একটি ছেলের কাঁধে আরেকটি বাচা ঝুলছে\\n4274.jpg পানির ভিতরে সবুজ একটি ব্যাঙ\\n4275.jpg ব্যাগ কাঁধে স্কুলে যাচ্ছে  দুটি মেয়ে\\n4276.jpg বাচ্চা কোলে নিয়ে উপজাতী মহিলাটি হাতে বন্ধ ছাতা ঝুলিয়ে দাড়িয়ে \\n4277.jpg বাজারের সামনে বয়স্ক একটি লোক লম্বা দুইটি লাঠির উপর দাঁড়িয়ে আছে\\n4278.jpg মাটির ঘরের সামনে টায়ার ও একটি লাঠি নিয়ে দাড়িয়ে একটি ছোট ছেলে\\n4279.jpg চাবি ভর্তি ব্যাগ\\n4280.jpg হাসি মুখে লোকটিইট দুটো উপরের লোককে দিচ্ছে \\n4281.jpg ধানক্ষেতের পাশের রাস্তায় বৃদ্ধ লোকটি সাইকেল উল্টো করে ঠিক করছে\\n4282.jpg সামনে ডামই তাকিয়ে আছে আর পেছনেরটির হাত ভাঙা\\n4283.jpg বিশাল বটগাছের সামনে একটি সাইকেলে একটি মেয়ে ও ছেলে একসাথে বসা\\n4284.jpg গলায় বেল্ট বাধা কুকুরটি ঘুমাচ্ছে \\n4285.jpg দুটি মানুষ হাত ধরে আছে\\n4286.jpg বেতের তৈরি খেলনাগুলো একটির উপর আরেকটি রাখা\\n4287.jpg পাথর বোঝাই নৌকায় বসে আছে একটি ছেলে আর একটি লোক দাড়িয়ে নৌকা চালাচ্ছে \\n4288.jpg কালো রঙের একটি ক্যামেরা\\n4289.jpg ধানক্ষেতের মাঝে বৃদ্ধটি বসে আছে আর একটি ছেলে বদনা দিয়ে ড্রামে পানি ভরছে\\n4290.jpg বস্তা বোঝাই ভ্যানটিকে পেছন হতে লোকটি ঠেলা দিচ্ছে \\n4291.jpg চুড়িতে মেয়ের হাত কেটে রক্ত বের হচ্ছে \\n4292.jpg রক্তমাখা ছেঁড়া একটি চিঠি \\n4293.jpg রেললাইনের উপর হাটছে একটি ছোট মেয়ে\\n4294.jpg ব্রিজের উপর থেকে পানিতে লাফ দিচ্ছে বাচ্চারা\\n4295.jpg লোকটি ছাদে কাপড় মেলে দিচ্ছে \\n4296.jpg কয়েকজন মুচি একসাথে বসে আছে ক্রেতার অপেক্ষায় \\n4297.jpg দুটি মেয়ে রাস্তা ঝাড়ু দিচ্ছে আর অন্য একটি মেয়ে বসে আছে\\n4298.jpg শুকনো মাটিতে একটি জেকেত,তিফিন বক্স, একজোড়া জুতা রাখা\\n4299.jpg প্লেটের উপর ধনেপাতা কুচি আর বেগুন কেটে গাছ বানানো হয়ছে\\n4300.jpg বৃদ্ধা মহিলাটি ঝাড়ু দিয়ে পাতা জমাচ্ছেন আর একটি কুকুর পিছনে দাড়িয়ে আছে\\n4301.jpg ছোট্ট রঙিন ফুল কানের উপর গুজে মেয়েটি হাসছে\\n4302.jpg রঙ মাখানো মুখে সানগ্লাস চোখের মেয়েটি হাসছে\\n4303.jpg মহিলাটি ডাস্টবিনে কিছু ফেলছে\\n4304.jpg শোলার তৈরী শহীদ মিনারের সামনে ফুলের পাপড়ি ছড়ানো \\n4305.jpg শহীদ মিনার ও তার আশেপাশের গাছের প্রতিচ্ছবি পড়েছে  কাচের টেবিলে \\n4306.jpg মরিচবাতির আলোয় সাজানো ঘোড়ার গাড়ি \\n4307.jpg রাতের বেলায় চোখে কালো চশমা পড়ে লোকটি লোহা ঝালাইয়ের কাজ করছে\\n4308.jpg গ্রামের মেঠোপথ দিয়ে মহিলাটি বাচ্চা ছেলের হাত ধরে হাটছে\\n4309.jpg কুকুরটা ডাস্টবিনের উপর উঠে যাচ্ছে \\n4310.jpg ফুলের তোড়া হাতে বৃদ্ধ লোকটি হাটছে\\n4311.jpg শাড়ি পড়ে মাথায় ফুলের ব্যান্ড দিয়ে পহেলা ফাল্গুনের সাজে সেজেছে  মেয়েরা\\n4312.jpg হাতে ব্যাগ নিয়ে রেললাইনের উপর দিয়ে হাটছে ছোট ছেলেটি \\n4313.jpg মাঠের মধ্যে একটি মহিলা শুয়ে আছে, দুইজন কথা বলছে, একটি কুকুর তাকিয়ে আছে\\n4314.jpg পাতা ঝরা গাছের নিচে কাটা আছে অনেক গাছ, সেই গাছের উপর বসে আছে লোকটি\\n4315.jpg পাটের বস্তার উপর দাড়িপাল্লা, ডিব্বা, ঝুড়িতে আস্ত হলুদ, বস্তায় হলুদের গুড়ো, অন্য মসলা রাখা \\n4316.jpg বড় গাছের নিচে বসে আছে একটি ছোট ছেলে\\n4317.jpg কাঁধে ব্যাগ নিয়ে স্কুলের পোশাক পড়ে হাটছে ছেলেটি\\n4318.jpg রেললাইনের উপর একটি মেয়ে বাচ্চা কোলে নিয়ে বসে আছে \\n4319.jpg ভাঙা মাটির ঘরে কাঠের জানালা\\n4320.jpg দড়ি দিয়ে টায়ার বেঁধে উপর থেকে ঝুলিয়ে সেটার ভিতর বসে ছেলেটি খেলছে আর হাসছে আর পিছনে আরেকজন তাকে ধাক্কা দিচ্ছে \\n4321.jpg ব্যাগ হাতে নিয়ে লোকটি রাস্তার দিকে তাকিয়ে আছে\\n4322.jpg রাতের বেলা কাঠের পাটাতনের উপর শাড়ি পড়ে চোখ বন্ধ করে শুয়ে আছে মেয়েটি \\n4323.jpg একটি মেয়ের কাজল দেয়া চোখ আর ভ্রু \\n4324.jpg হরেক রঙের সুতার রীল\\n4325.jpg দোকানে সাজানো আছে মাটির তৈরী জিনিসপত্র\\n4326.jpg মাঠে পতাকা হাতে মেয়েটি দাড়িয়ে \\n4327.jpg ভাঙা বাড়ির সামনে ইট ভাঙছে  মহিলা ও পুরুষেরা\\n4328.jpg সেলফি ইস্টিক দিয়ে সেলফি নিচ্ছে দুই ছেলে\\n4329.jpg লোহার তইরু ল্যাম্প পোস্ট এর ভিতর বাল্ব \\n4330.jpg বেলুন বিক্রেতা পায়ের উপর ছোট্ট বাচ্চাকে ঘুম পাড়িয়ে রঙ বেরঙের বেলুন হাতে নিয়ে বসে আছে \\n4331.jpg বিজ্ঞাপনের একটি বড় হার্ড বোর্ড খাম্বায় আটকানো আছে \\n4332.jpg কৃষক হাতেই লাঙল দিয়ে জমি চাষ করছে\\n4333.jpg ছোট ছেলেটি দুই হাতে অনেক গুলো শাপলা ফুল নিয়ে রাস্তায় হাটছে\\n4334.jpg ঘাসের উপর একটি মেয়ের নুপূর পরা পা দেখা যাচ্ছে \\n4335.jpg প্রতিবন্ধী লোকটি দোকানের ভিতরে মালামাল বিক্রির জন্য বসে আছে এবং দোকানের বাইরেই একটি ব্যানার টানানো আছে\\n4336.jpg টবে লাগানো একটি পাথরকুচি গাছ\\n4337.jpg ছোট মেয়েটি সুতা দিয়ে আটকানো দুটি বেলুন ধরে দাড়িয়ে আছে\\n4338.jpg রেললাইনের উপর ছোট ছেলেটি বাটি হাতে হাফ প্যান্ট পড়ে হাটছে\\n4339.jpg উঠানে রাখা ধানগুলো জড়ো করছে লোকটি\\n4340.jpg চন্দ্রিমা উদ্যানে ইটের  তৈরি বসার স্থানে একজন চাদর মুরি দিয়ে ঘুমাচ্ছে আরেকজন ব্যায়াম করছে\\n4341.jpg মাটির কয়েকটি বাটিতে কয়েক রকম ভর্তা ও আরেকটি পাতিলে বিরিয়ানী রাখা যেটার ঢাকনা চুড়ি পড়া হাতের এক মহিলা খুলে দিচ্ছে \\n4342.jpg শালিক পাখিটি মুখে খাবার নিয়ে এসেছে বাচ্চাগুলোর কাছে যারা নারিকেল গাছের কোটরে আছে\\n4343.jpg প্রদীপের আগুনের উপর একজন হাত দিয়েছে \\n4344.jpg নিভে যাওয়া এবং জ্বলন্ত প্রদীপের উপর এক জোড়া হাত\\n4345.jpg তামা ও পিতলের আসবাবপত্র বিছিয়ে বসে আছেন বিক্রেতা\\n4346.jpg খালি রুমে বেঞ্চে বসে দেয়ালে লাগানো টিভি দেখছে ছেলেটি\\n4347.jpg পাঁচটি কুকুর শুয়ে আছে\\n4348.jpg দোকানদার পরোটা ভাজছে, পাশে রাখা আছে তেল, বেলন, টেবিল, রান্না করা ডাল ও দুইজন লোক\\n4349.jpg লোকটি ভার বাঁশে করে মাটি মিয়ে যাচ্ছে\\n4350.jpg টেবিলের উপর ইয়ারফোনের তার ও মোবাইল\\n4351.jpg ডেইরী মিল্ক চকলেটটি পানির বোতলের সাথে ঠেস দিয়ে রাখা\\n4353.jpg পঙ্গু ছেলেটা এক পা আর লাঠিতে ভর দিয়ে মাঠে হাটছে\\n4354.jpg দুজন লোক ও একটি ছেলে অনেকগুলো মোমবাতি জ্বালাচ্ছে \\n4355.jpg বৃদ্ধ মুচি জুতা সেলাই করছে\\n4356.jpg অগোছালো একটি ঘরের মেঝেতে বালিশ, কাপড় পরে আছে\\n4357.jpg সমুদ্র তীরে একটি সাম্পান নৌকা,সাইকেল ও একটি নারিকেল গাছ\\n4358.jpg মহিলাটি মাটি দিয়ে তৈজসপত্র বানাচ্ছে আর পাশে একটি ছেলে ফুটবল দিয়ে খেলছে আর এক পিচ্চি দেখছে\\n4359.jpg প্লেটে ও বাটিতে কিছু কাটা ও আস্ত লেবু রাখা\\n4360.jpg পড়ন্ত বিকেলে পানির ট্যাংকির উপর দুটি কাক বসে আছে\\n4361.jpg বিশাল নদীর উপর দিয়ে বিশাল ব্রিজ\\n4362.jpg পানিতে কাগজের নৌকার উপর একটি পুতুল ভাসছে\\n4363.jpg গরম তেলে মাছ  ভাজা হচ্ছে \\n4364.jpg ষাটগম্বুজ মসজিদের একাংশ \\n4365.jpg ইটভাটায় কাজ করছে দুজন শ্রমিক \\n4366.jpg একটি মহিলা কাঁধে করে অনেকগুলো ফুল নিয়ে যাচ্ছে ক্ষেত থেকে\\n4367.jpg দূর্বা ঘাসে ঢাকা সবুজ মাঠের পাশে গাছপালায় ভরা জঙ্গল \\n4368.jpg কাগজের তৈরি পিন হুইল বাতাসে ঘুরছে\\n4369.jpg পথের মধ্যে বৌদ্ধদের মূর্তি\\n4370.jpg গাছের ডালে বসে আছে কালো রঙের একটি গুইসাপ\\n4371.jpg মেলায় হাওয়াই মিঠাই আর বেলুন বিক্রির জন্য একটি ছেলে দাড়িয়ে আছে\\n4372.jpg একটি ছেলে মাথায় কলসি ও হাতে বালতি নিয়ে উল্টো ঘুরে দাড়িয়ে আছে\\n4373.jpg বেলুন ফুটানোর জন্য দড়িতে বেধে সাজানো হয়েছে\\n4374.jpg ফুলের বাজারে ফুল বেচাকেনা চলছে \\n4375.jpg মসজিদের সামনে একটি পিচ্চি ছেলে বাংলাদেশের পতাকা ধরে দাড়িয়ে আছে\\n4376.jpg জানালা দিয়ে আগত সূর্যের আলোতে মেয়েগুলো লিখছে\\n4377.jpg পাড়ে স্পিড বোট শিকল দিয়ে বাঁধা ও পাশের দুইটি বোট পলিথিন দিয়ে ঢাকা\\n4378.jpg শুকনো পাতার উপর একটি মার্বেল\\n4379.jpg একটি ছেলে সাইকেলের পিছনে একটি মেয়েকে নিয়ে যাচ্ছে অপরদিকে একজোড়া দম্পতি হেঁটে আসছে\\n4380.jpg দুপাশের ধানক্ষেতের মাঝে একটি রেলপথ \\n4381.jpg রিকশাচালক রিকশায় দুজন যাত্রী নিয়ে যাচ্ছে \\n4382.jpg সবুজ ঘাসের উপর একটি বাইক রাখা আর পাশে একটি ছোট ছেলে দাড়ানো\\n4383.jpg পানির মধ্যে একটি ডালের উপর একটি কচ্ছপ বসা\\n4384.jpg শিশির জমা ঘাসের উপর সাদা শিউলি ফুল রাখা\\n4385.jpg বালুর উপর মিষ্টিকুমড়োর গাছ ও মিষ্টিকুমড়ো\\n4386.jpg হাইকোর্টের সামনে ফুলের বাগান\\n4387.jpg বিড়ালটি ক্যামেরা ধরে আছে\\n4388.jpg বিভিন্ন রকম খেলনা নিয়ে দোকানদার বসে আছে\\n4389.jpg রাজু ভাস্কর্যের সামনে একুশের পোস্টার\\n4390.jpg মাকড়সা জাল তৈরী করছে\\n4391.jpg নারিকেলের পাতায় বাবুই পাখি বাসা তৈরি করেছে \\n4392.jpg বাচ্চাটি কমলা ছিলছে আর হাসছে\\n4393.jpg মেলায় পুজোর জিনিস কিনছেন এক মহিলা\\n4394.jpg তিনটি ছেলে কাদা থেকে কিছু তুলছে\\n4395.jpg ছোট মেয়ে তিনটি স্কুলের পোশাক পরে ব্যাগ নিয়ে একজন অন্যজনকে ডাকছে\\n4396.jpg কৃষক মাঠে কাজ করছে\\n4397.jpg চেয়ারে বসে লোকটি সিগারেটের ধোঁয়া উড়াচ্ছে\\n4398.jpg শেখ মুজিবর রহমান ভাষণ দিচ্ছেন এমন একটি মূর্তি \\n4399.jpg শাড়ি পড়ে খোলা চুলে মেয়েটা মাঠে দৌড়াচ্ছে \\n4400.jpg ট্রেনের সীটগুলোয় মানুষেরা ঘুমাচ্ছে\\n4401.jpg বিলের পানির কাছে মহিলাটি বৃদ্ধকে গোসল করিয়ে দিচ্ছে \\n4402.jpg আম পাতার ডালে টিয়া পাখিটি বসে আছে \\n4403.jpg শেওলাযুক্ত পানির মধ্য থেকে কুমিরটি মাথা বের করে আছে\\n4404.jpg এবড়োথেবড়ো সবুজ মাঠে ছেলেগুলো ফুটবল খেলছে\\n4405.jpg শীতের রাতে ছেলেরা আগুন পোহাচ্ছে \\n4406.jpg কাঠের তক্তার উপর দিয়ে দুজন শ্রমিক হেঁটে যাচ্ছে \\n4407.jpg খাঁচার ভিতর নকল দুটি পাখি\\n4408.jpg লোকটি ময়লার গাড়ি থেকে ময়লার স্তুপে ময়লা ফেলছে\\n4409.jpg হলুদ ফুলের উপর প্রজাপতিটি ডানা মেলে বসে আছে\\n4410.jpg সমুদ্রের ঢেউ মহিলার গায়ে আছড়ে পরছে আর সে হাসছে \\n4411.jpg বৃদ্ধা মহিলাটি কুলোতে করে ধান ঝাড়ছে\\n4412.jpg দুটি বিল্ডিংয়ের মাঝে  সরু খালি রাস্তা \\n4413.jpg মাটির তৈরী প্রদীপ গুলো রোদে শুকানো হচ্ছে \\n4414.jpg শহীদ মিনারের সামনে ছোট মেয়েটা বালতিতে অনেকগুলো গোলাপ ফুল নিয়ে দাড়িয়ে আছে\\n4415.jpg গির্জার বাইরে আপনজনের কবরে ফুল দিচ্ছে মেয়েটি\\n4416.jpg ছোট ছেলেটি ডাস্টবিনে ময়লা ফেলছে\\n4417.jpg লোকটি ক্ষেত থেকে পাতাসহ ফুল কেটে এক হাতে ফুল ও অন্য হাতে কাস্তে নিয়ে দাড়িয়ে আছে\\n4418.jpg নদীতে নৌকাবাইচ প্রতিযোগিতা চলছে\\n4419.jpg কুমোর চাক দিয়ে তৈরি হচ্ছে মাটির প্রদীপ\\n4420.jpg লাল দেয়ালে হেলান দিয়ে গরীব মহিলাটি ব্যাগ,কাপড় নিয়ে বসে আছে \\n4421.jpg রাস্তার উপর কাপড় বিছিয়ে দুজন মহিলা ধান শুকোচ্ছে \\n4422.jpg ছনপাতার দেয়ালের ঘর বানানো হচ্ছে \\n4423.jpg জলপ্রপাত থেকে পানি পরছে\\n4424.jpg মাটির উপর খরগোশটি বসে আছে \\n4425.jpg কাধে ব্যাগ হাতে ক্যামেরা নিয়ে লোকটি শস্য ক্ষেতের ছবি তুলছে\\n4426.jpg নদীতে স্পিডবোটে করে লোকগুলো যাচ্ছে \\n4427.jpg বৃদ্ধ কৃষক জমিতে চারা রোপণ করছে\\n4428.jpg পাহাড়ের একটি অংশ কেটে ফেলা হয়েছে \\n4429.jpg মেঘের আড়াল হতে সূর্যের আলো সমুদ্র ও স্থলে পরছে\\n4430.jpg শিল্পী মূর্তির ঠোঁট আকঁছে\\n4431.jpg লোকটি জোড়া ইলিশগুলো হাতে ধরে তাকিয়ে আছে\\n4432.jpg লেজার লাইট দিয়ে তৈরি শহিদ মিনার\\n4433.jpg ছোট ছেলেটি খেলনা ঘোড়ার পিঠের রড ধরে বসে আছে\\n4434.jpg সিমেন্টের পাইপের ভিতরে দারোয়ান বসে আছে\\n4435.jpg রেলগাড়ির পাশে দাড়িয়ে লোকটি পেপার পড়ছে\\n4436.jpg ছেলেটি কাঁধে বস্তা নিয়ে পাহাড়ি রাস্তায় উঠছে\\n4437.jpg রশিতে ঝুলে ছেলে দুটি বিল্ডিংয়ের রঙ করছে\\n4438.jpg দুজন লোক বসে বসে মাছ ধরার জাল তৈরি করছে \\n4439.jpg বৃদ্ধ লোকটি পুকুর ঘাটে বসে কাপড় ধুচ্ছে \\n4440.jpg বৃদ্ধ লোকটি চশমা,টুপি পরে হাদীসের বই পড়ছে\\n4441.jpg ব্যাঙগুলো পানিতে সাঁতার কাটছে\\n4442.jpg বস্তা ভর্তি মুড়ির পাশে ছোট মেয়েটি লালা গামলা হাতে দাড়িয়ে \\n4443.jpg মাছের বাজারে দোকানদার হরেক রকম মাছ নিয়ে বসেছে \\n4444.jpg হেলমেট পরা একটি ছেলে রেসিং বাইক\\n4445.jpg মাথাল মাথায় দিয়ে কৃষকেরা ধান কাটছে\\n4446.jpg সূর্য ডোবার সময় আকাশটা লাল হয়ে গেছে\\n4447.jpg স্মুদ্রের পাড়ে বিকাল বেলার আভা\\n4448.jpg. রাতের নীল আকাশ \\n4449.jpg রঙ্গিন আকাশের নীচে বিশাল জলরাশি\\n4450.jpg বিকেলের আলোয় একটি মানুষের দুটি হাত উঁচু করা\\n4451.jpg শুকনো হলুদ পাতা পরে আছে\\n4452.jpg যানবাহন বহুল নগরী\\n4453.jpg সমুদ্রে সূর্যাস্ত\\n4454.jpg ঔষধের খালি বোতলে একটি ঘাসের চিকন ডাল\\n4455.jpg নদীতে একজন লোক ডিঙি নৌকা চালাচ্ছে \\n4456.jpg সবুজ ঘাস থেকে অনেক দূরে বালুর উপর কয়েকটা নৌকা রাখা\\n4457.jpg নীল আকাশ, সাদা মেঘ আর সমুদ্রের ঢেউ \\n4458.jpg তাঁতী কাপড় বুনছে\\n4459.jpg মহিলারা ক্ষেতে ধানের চারা বপন করছে\\n4460.jpg বাংলাদেশের ক্রিকেটারেরা একসারিতে দাড়িয়ে আছে\\n4461.jpg কাদাপানিতে বাচ্চারা গোল হয়ে খেলছে \\n4462.jpg সূর্যাস্তের সময় কাঁটাযুক্ত ফুল \\n4463.jpg নদীতে জেলেরা জাল ফেলছে মাঋ ধরার জন্য \\n4464.jpg ঘাসবনের পাশে নৌকা ভিরিয়ে ঠেলা জাল বানাচ্ছে জেলেরা\\n4465.jpg একজন লোক বস্তা ধরে দাড়িয়ে আছে এবং আরেকজন লাঠি ধরে আছে\\n4466.jpg উপজাতী মেয়েটি বাচ্চাকে নিজের পিঠের সাথে বেধে নিয়েছে\\n4467.jpg মাটির পাতিল গুলো রোদে শুকানো হচ্ছে \\n4468.jpg দুজন নাপিত পাশাপাশি বসে দুজন বৃদ্ধ লোকের গোঁফ কাটছে \\n4469.jpg বৃদ্ধ লোকটি বাছুরটিকে কোলে নিয়েছে\\n4470.jpg লোকটি মাথায় পানির বোতলের কেস নিয়ে দাড়িয়ে হাসছে\\n4471.jpg মুচি রাস্তার পাশে বসে জুতো সেলাই করছে\\n4472.jpg সরিষা ক্ষেতে বাচ্চারা ঘুড়ি উড়াচ্ছে\\n4473.jpg গ্রামের রাস্তার পাশে বাঁশে পাট শুকানো হচ্ছে \\n4474.jpg বানরটি দুই হাতে খাবার ধরে আছে\\n4475.jpg লাল চুল দাড়ির বৃদ্ধ লোকটি কাঁধের উপর কাঁচকলা নিয়ে আছে\\n4476.jpg বাঁশের মাচা থেকে বাচ্চাটি পানিতে লাফ দিচ্ছে \\n4477.jpg নৌকায় জিবনযাপন করে এমন একজন নারী বসে আছেন \\n4478.jpg দুটি ছেলে কলা পাতা মাথা দিয়ে বৃষ্টির পানি থেকে নিজেদের রক্ষা করছে\\n4479.jpg মেয়েটা বৈঠা দিয়ে নৌকা চালাচ্ছে \\n4480.jpg সিগারেটের উপর একটি লাল,সাদা ফড়িং বসে আছে\\n4481.jpg বস্তার আড়ালে একটি বিড়ালের বাচ্চা বসে আছে \\n4482.jpg জালে আটকা পরেছে একটি মাছ\\n4483.jpg খাবারের জন্য সাজিয়ে রাখা হয়েছে টেবিল, চেয়ার,চামচ,গ্লাস\\n4484.jpg দুপাশের দোকানের মাঝ দিয়ে গ্রামের কাঁচা রাস্তা \\n4485.jpg জলন্ত ফানুসটি নারিকেল গাছের পাতায় আটকে পরেছে\\n4486.jpg মাছ ধরাার জাল বানাচ্ছে দুজন জেলে\\n4487.jpg চিত্রশিল্পী সামনের মানুষের স্কেচ একে দিচ্ছে \\n4488.jpg পানিতে চলছে লঞ্চ ও নৌকা\\n4489.jpg দেয়ালে হস্ত শিল্প\\n4490.jpg সূর্যমূখীর বাগান \\n4492.jpg ঘন কালো মেঘে ছেয়ে আছে আকাশ আর খালের পানিতে বাচ্চারা গোসল করছে\\n4493.jpg গাদা ফুলের বাগান থেকে ঝুড়িতে ফুল তুলছে মহিলাটি\\n4494.jpg একই বয়সী একই রকম পোশাক পরে মাদ্রাসার কিছু ছাত্র কবর জিয়ারত করছে \\n4495.jpg পবিত্র আশুরার দিনে হাসান ও হুসেনকে স্মরণ করে একজন ধারালো অস্ত্র দিয়ে নিজেকে আঘাত করছে\\n4496.jpg ছোট ছেলেটা মোনাজাত ধরেছে\\n4497.jpg ট্রলার থেকে কাঠের পাটাতনের উপর দিয়ে নামছে একটি ছেলে \\n4498.jpg ট্রলারের দুই পাশে মানুষ ও মাঝে গরু নিয়ে নদী পার হচ্ছে \\n4499.jpg লোকটি নৌকার তারকাটা লাগাচ্ছে \\n4500.jpg বেড়ার ফাঁক দিয়ে মেয়েটা মুখ বের করে হাসছে\\n4501.jpg নদীর পাড়ে সবুজ ঘাসের মাঝ দিয়ে লোকটি কাঁধে বোঝা নিয়ে যাচ্ছে \\n4502.jpg সরিষা ক্ষেতের মাঝে কয়েকটি বাচ্চা বাংলাদেশের পতাকা হাতে ধরে হাসছে\\n4503.jpg শাড়ি পড়ে ফুলের গয়না দিয়ে সেজে মেয়েগুলো নাচছে\\n4504.jpg উপজাতি নারীটি কাঁধে কাঠের বোঝা নিয়ে হেঁটে যাচ্ছে \\n4505.jpg প্লেটের উপর পাটিসাপটা এবং নকশীপিঠা রাখা\\n4506.jpg ইটের লাল মসজিদ থেকে বের হচ্ছে মুসুল্লিরা\\n4507.jpg লালবাগ কেল্লার একটি দালান ও সামনের ফোয়ারা\\n4508.jpg চা বাগানের মাঝে দাড়িয়ে আছে একজন নারী শ্রমিক\\n4509.jpg পূজোর থালা থেকে ফুল, পাতা নিচ্ছে হিন্দু মহিলারা\\n4510.jpg সোনালী রঙের বৌদ্ধ মন্দিরের পেছনে সাদা মেঘের মেলা\\n4511.jpg জাতীয় মসজিদ বায়তুল মোকাররম \\n4512.jpg মাটির ঘরের পাশে গাছের সাথে বাধা একটি গরু\\n4513.jpg মাটির শোপিস সাজাচ্ছেন একজন লোক \\n4514.jpg দুইজন কুস্তিগির কুস্তি লড়ছে \\n4515.jpg রিকশার চালকের আসনে দুটি ছেলে বসে হাসছে\\n4516.jpg সিঁদুর আর লাল টিপ পড়া হিন্দু মহিলারা দাড়িয়ে আছে\\n4517.jpg সেনাবাহিনীরা গাড়িগুলোকে দাড় করিয়ে জিজ্ঞাসাবাদ করছে\\n4518.jpg যানজটে রাস্তায় আটকে আছে গাড়িগুলো\\n4519.jpg উচু নিচু দালানকোঠায় পূর্ণ এই শহর\\n4520.jpg ফুলে ফুলে ঘেরা শহীদ মিনার\\n4521.jpg মাছের বাজারে মাছ কিনছে ক্রেতারা\\n4522.jpg ময়লায় ভরা  খাল আর ভাঙ্গা ব্রিজ \\n4523.jpg দুটি লোক রাস্তায় হাটছে যার পাশেই পুরনো দালান \\n4524.jpg সবুজ গাছপালায় ঘেরা শহর\\n4525.jpg পানির মধ্যে দুইটি ঘরিয়াল ঝগরা করছে\\n4526.jpg শীতের কুয়াশাময় সকালে রাস্তায় হাটছে কিছু মানুষ \\n4527.jpg পাহাড় কেটে কেটে মহাস্থানগড়ের উৎপত্তি \\n4528.jpg ভেঙ্গে যাওয়া বিল্ডিং থেকে উদ্ধার করা হচ্ছে মানুষদের\\n4529.jpg একটি মেয়ে ভ্যানগাড়ি চালাচ্ছে আর কিছু বাচ্চা ওটায় বসে আছে বাকীরা গাড়িটি ঠেলা দিচ্ছে \\n4530.jpg অসংখ্য ছোট বড় নৌকা আর লঞ্চে  ভরে আছে নদীটি\\n4531.jpg সূর্যাস্তের সময় একটি লোক ধানক্ষেতের পাশ দিয়ে হেঁটে যাচ্ছে \\n4532.jpg নদীর পাড়ে একসারিতে অনেকগুলো নৌকা বাধা আছে\\n4533.jpg ব্রিজের পাশে টিনের তৈরি বিল্ডিং এর সাথে দেয়াল ঘড়ি লাগানো\\n4534.jpg বাংলাদেশের জাতীয় যাদুঘরের বিল্ডিং \\n4535.jpg বন্যার পানিতে ডুবে যাওয়া খড়ের ঘরবাড়ি কাছে কলসি কোলে নিয়ে যাচ্ছে এক মেয়ে\\n4536.jpg বয়স্ক মহিলা দোকানদারটি চায়ের কাপ এগিয়ে দিচ্ছে \\n4537.jpg ফার্মের ভিতরে মুরগীর ডিম দেখাচ্ছে মহিলাটি\\n4538.jpg বৃষ্টির বিকেলে রাস্তায় ছাতা মাথায় হাটছে একজন লোক \\n4539.jpg মেঘলা আকাশ আর লেকের পাড়ে এক পাশে শহর\\n4540.jpg পানির মধ্যে দিয়ে  লাশ নিয়ে যাচ্ছে লোকগুলো \\n4541.jpg মেঘের আড়াল থেকে সূর্যের আলো ছড়িয়ে পড়ছে বিল্ডিং গুলোর উপর\\n4542.jpg সুন্দরবনের ভিতরে হরিণগুলো লাফিয়ে যাচ্ছে \\n4543.jpg পানির মধ্য দিয়ে বাঘটি লাফিয়ে যাচ্ছে \\n4544.jpg জঙ্গলের ভিতরে কাঠের ব্রিজ \\n4545.jpg সুন্দরবনের নদীর পাশে শ্বাসমূল দেখা যাচ্ছে \\n4546.jpg সুন্দরবনের ভিতরে নদী\\n4547.jpg সুন্দরবনের ভিতরে নদীর উপর দিয়ে যাচ্ছে একটি ট্রলার \\n4548.jpg মৌয়ালরা মৌচাক থেকে মধু সংগ্রহ করছে\\n4549.jpg সুন্দরবনের শ্বাসমূল ও গাছপালার ভিতরে একজন লোক পাতিল হাতে হেটে যাচ্ছে \\n4550.jpg নদী ও জঙ্গল \\n4551.jpg মাটিতে বাঘের পায়ের ছাপ\\n4552.jpg পাহাড়ের কোল ঘেষে ছনের ঘর\\n4553.jpg সুন্দরবনের ভিতরে পানিতে লোকটি হাটছে \\n4554.jpg সুন্দরবনের ভিতরে নদীতে  লোকটি নৌকা ধরে আছে\\n4555.jpg ভ্যানের উপর একজন বৃদ্ধা মহিলা ও একটি ছোট মেয়ে বসে আছে\\n4556.jpg বিশাল নদীর লম্বা ব্রিজ \\n4557.jpg নদীর কিনারে  অনেক নৌকা ভিড়ানো\\n4558.jpg বালুর চরের উপর বাচ্চারা খেলছে \\n4559.jpg নদীর মাঝে এক টুকরো  সবুজ \\n4560.jpg সূর্যাস্ত দেখছে ছেলেটা \\n4561.jpg নদী থেকে বালি তোলা হচ্ছে \\n4562.jpg মহিলাটি নদীর কিনারায় কলস নিয়ে দাড়িয়ে আছে \\n4563.jpg ব্রিজের নীচে বালুর মাঠ\\n4564.jpg বিলের উপর ধানক্ষেত আর একটি মহিলা নৌকা চালাচ্ছে \\n4565.jpg নীল আকাশের নীচে সবুজ ধান ক্ষেতের পাশ দিয়ে নৌকায় চড়ে শিশুরা যাচ্ছে\\n4566.jpg বিলের পানিতে হাস সাঁতার কাটছে \\n4567.jpg ট্রলারটি পানিতে ডুবে যাচ্ছে \\n4568.jpg ঝুড়িতে ছোট মাছ\\n4569.jpg ছেলেটা কালিমাখা দেয়ালে চক দিয়ে মাছ আঁকছে\\n4570.jpg মেঘলা বিকেলে ছাতা মাথায় দিয়ে বৃদ্ধ লোকটি এক নৌকা থেকে আরেক নৌকায় যাচ্ছে \\n4571.jpg উল্টো করে রাখা ভ্যানগুলোর একটি ভ্যানকে টেনে নিচ্ছে ছেলেটা \\n4572.jpg পিচঢালা রাস্তায় জায়নামাজ বিছিয়ে নামাজ পড়ছে মানুষগুলো আর তাদের পিছন দিয়েই একজন হেঁটে যাচ্ছে \\n4573.jpg পড়ন্ত বিকেলে বাচ্চাগুলো বালির ঢিবির উপর হাটছে\\n4574.jpg দড়িতে দেয়া কাপড়গুলোকে ধরছে মেয়েটা \\n4575.jpg ধুলোর ভিতরে এক ঝাক রাজহাঁসকে তাড়া দিচ্ছে একজন মহিলা \\n4576.jpg সমুদ্র থেকে জাল দিয়ে মাছ ওঠাচ্ছে দুইজন জেলে\\n4577.jpg দুটি রেললাইনের মাঝে দাড়িয়ে একটি ছোট মেয়ে তার চেয়েও ছোট একটি মেয়েকে কোলে নিয়ে খাওয়াচ্ছে \\n4578.jpg লোকটি ঠেলা জাল দিয়ে মাছ ধরছে পুকুরে \\n4579.jpg মাছ ধরার জন্য জাল দিয়ে জায়গা আটকানো হয়েছে\\n4580.jpg নদীতে মাছ ধরার জন্য একপাশে জাল দিয়ে আটকানো এবং তার ভিতরে নৌকা নিয়ে মাছ ধরছে \\n4581.jpg দেয়ালে ঠেস দিয়ে একজন মুচি বাক্সের উপর বসে ঘুমাচ্ছে আরেকজন পেপার পড়ছে\\n4582.jpg বয়স্ক মহিলাটি টিউবওয়েল থেকে পানি তুলছে কলসিতে আর পাশেই একজন লোক গামছা কাঁধে রেখে লুঙ্গি পড়ে হাতের চায়ের কেটলী নিয়ে বসে আছে\\n4583.jpg শাপলার বিলে লোকটি শাপলা তুলছে\\n4584.jpg বিলে একটি ছোট বাচ্চা ছেলে নৌকা চালাচ্ছে আর ছোট মেয়েটি বসে আছে\\n4585.jpg দুটি বাচ্চা ছেলে পানির উপর এক গাছের ডালে বসে আছে।একজন মাছ ধরছে বড়শী দিয়ে আরকজন কলা পাতা মাথার উপর ধরে আছে\\n4586.jpg দুপাশের ঘন গাছপালার মাঝ দিয়ে পিচঢালা রাস্তায় রিকশার উপর সূর্যের আলো  পড়ছে\\n4587.jpg বড় ঘাসের মাঝে পুরনো পরিত্যাক্ত গাড়ি, বাস, ট্রাক রাখা\\n4588.jpg কাঁচা বাজারে ছোট ছেলেটা লাঠির সাথে রশি বাঁধছে \\n4589.jpg লোকটা গরুটাকে টানছে\\n4590.jpg পুরান ঢাকার রাস্তায় মানুষের  পায়চারী\\n4591.jpg বালির রাস্তায় নতুন পুরানো ইট রাখা\\n4592.jpg বুড়িগঙ্গার কালো পানির উপর নৌকা বাঁধা \\n4593.jpg মহিলাটি মাথায় ইট জড়ো করছে\\n4594.jpg বিলের কচুরিপানার মাঝে সারি সারি নৌকা দিয়ে হাটার রাস্তা বানানো হয়েছে \\n4595.jpg সমুদ্র থেকে নৌকাটিকে চাকার সাহায্যে তীরে টেনে তোলা হচ্ছে \\n4596.jpg নদীতে অনেক ডিঙি নৌকা ভাসছে\\n4597.jpg বিলের মাঝের রাস্তা দিয়ে দুটি ছাগলের পিছনে ছোট ছেলেটা হেটে চলছে \\n4598.jpg বিলের মাঝের ছোট রাস্তায় হেঁটে যাচ্ছে মানুষ \\n4599.jpg ঝিনুক পাড়িয়ে সমুদ্রে মাছ ধরতে যাচ্ছে একজন জেলে \\n4600.jpg শীতের কুয়াশায় ঘেরা সকালে গ্রামের মেঠোপথে তিনটি লোক হাটছে\\n4601.jpg কৃষকেরা জমি থেকে ধান কাটছে\\n4602.jpg কিছু কৃষক ধান কাটছে আর বাকীরা কাঁধে করে নিয়ে যাচ্ছে \\n4603.jpg বিকেলে নৌকায় মাঝি নৌকা চালাচ্ছে আর একটি মহিলা বসে আছে\\n4604.jpg বড় সবুজ ঘাসের পাশ দিয়ে বিলের পানিতে ছেলেটি নৌকা বোঝাই মাল নিয়ে যাচ্ছে \\n4605.jpg দুপাশের ধানক্ষেতের মাঝ দিয়ে মাটির রাস্তায় মহিষের গাড়িতে ধান বোঝাই করে কৃষকেরা যাচ্ছে \\n4606.jpg লোকটি ধান বোঝাই মহিষের গাড়িটি চালাচ্ছে \\n4607.jpg ধানক্ষেতের পাশ দিয়ে সাইকেল চালিয়ে ছেলেরা যাচ্ছে \\n4608.jpg বিকেল বেলা কয়েকজন সমুদ্রে নেমেছে এবং নৌকায় চড়েছে \\n4609.jpg সূর্যাস্তের সময় কয়েকটি ছেলে ফুটবল খেলছে\\n4610.jpg চা বাগানে শ্রমিকেরা কাজ করছে\\n4611.jpg নীল আকাশের নিচে নদীতে পাল তুলে নৌকা যাচ্ছে \\n4612.jpg লোকটি জাল নিয়ে সমুদ্রে মাছ ধরতে যাচ্ছে \\n4613.jpg ছেলেটি লাঠির দুই মাথা বস্তা ঝুলিয়ে জমির আল দিয়ে হেটে যাচ্ছে \\n4614.jpg বৃদ্ধ লোকটি নৌকা চালাচ্ছে \\n4615.jpg জঙ্গলের ভিতরে নদীতে লোকগুলো নৌকা নিয়ে যাচ্ছে\\n4616.jpg বাঁশের সাঁকোর উপর বৃদ্ধ বসে আছে আর পিচ্চি দাড়িয়ে \\n4617.jpg নদীর উপর  ঝুলন্ত ব্রিজের মধ্যে দিয়ে মানুষ হাটছে \\n4618.jpg কুয়াশায় ঘেরা শীতের সকালে মহিষের গাড়ি বোঝাই করে ধানগাছ নেয়া হচ্ছে \\n4619.jpg কুয়াশায় ঘেরা শীতের সকালে ধানক্ষেতের আলের উপর দিয়ে লোকটি সাইকেল চালাচ্ছে \\n4620.jpg মাছ ধরার জন্য লোকটি পুকুরে জাল ফেলছে\\n4621.jpg বিকেলবেলা সমুদ্রের তীরে অনেকগুলো লোক একসাথে রশি টেনে কোনো কিছুকে ডাঙায় তুলছে\\n4622.jpg নীল আকাশ নীল সমুদ্র আর তীরে কিছু সাম্পান নৌকা ও মানুষ \\n4623.jpg গ্রামের মেঠোপথ দিয়ে অনেকগুলো গরুর গাড়ি চলছে \\n4624.jpg বাড়ির উঠানে মা  শিশুকে কোলে নিয়ে দাঁড়িয়ে আছে  আবার একদিকে গরুকে গোসল করানো হচ্ছে অন্যদিকে গোবর শুকাতে দেওয়া হয়েছে\\n4625.jpg মাথাল পড়ে কৃষকেরা জমিতে কাজ করছে\\n4626.jpg কচুরিপানার ভর্তি পানিতে ডিঙি নৌকা নিয়ে দুটি বাচ্চা বসে আছে\\n4627.jpg জমির মাঝ দিয়ে তৈরি করা উঁচু রাস্তা দিয়ে একজন \\n4628.jpg পাহাড়ের উপর বানানো হয়েছে ঘরবাড়ি\\n4629.jpg দুজন ছেলে উপরে উঠে টিনের চালা লাগাচ্ছে আর বাকীরা নিচে কাজ করছে\\n4630.jpg মাছ ধরার জন্য নদীতে জাল ফেলছে জেলেরা\\n4631.jpg দুজন মহিলা ধান শুকাতে ব্যাস্ত\\n4632.jpg শীতের সকালে গ্রামের মহিলারা একজায়গায় বসে রান্না করছে ও আগুন পোহাচ্ছে \\n4633.jpg টিনের ঘরের সামনে উঠানে বসে বাচ্চারা দুই ভাগ হয়ে ফুলটোক্কা খেলছে\\n4634.jpg জমিতে ছোট ছেলেরা ফুটবল খেলছে \\n4635.jpg মহিলাটি গ্রামের রাস্তায় মাথায় পাতিল ও কোমরে কলসি নিয়ে হাটছে\\n4636.jpg রেললাইনের উপর দিয়ে তিনজন বোরখা মেয়ে হাটছে\\n4637.jpg জঙ্গলের মাঝ দিয়ে বয়ে যাওয়া নদীতে নৌকায় বসে গাছের ডাল ধরে রেখেছেন এক লোক\\n4638.jpg  ট্রাক্টর দিয়ে ধান ক্ষেতে পাকা ধান মাড়াই করছে \\n4639.jpg মাথার উপর ঘাস বোঝাই করে একটি লোক ও তার পিছনে একটি ছোট ছেলে গ্রামের রাস্তায় হাটছে আর রাস্তার পাশেই আছে সৌরবিদ্যুতের প্যানেল\\n4640.jpg চাটাই, বাঁশের রাস্তার উপর দিয়ে রিকশা ও বাচ্চারা যাচ্ছে \\n4641.jpg বাঁশের সাঁকোর উপর দিয়ে হোন্ডা নিয়ে যাচ্ছে\\n4642.jpg একজন লোক একপাল গরু নিয়ে যাচ্ছে ও আরেকজন লোক ধানগাছ নিচ্ছে \\n4643.jpg ধানক্ষেতে মহিলারা পাকা ধানের আটি বাধছে আর অন্য একজন জগ থেকে পানি খাচ্ছে \\n4644.jpg ধানক্ষেতের পাশ দিয়ে মাথার উপর পাকা ধান বোঝাই করে নিয়ে যাচ্ছে লোকগুলো \\n4645.jpg পানিতে অর্ধ নিমজ্জিত হয়ে একটি ছোট ছেলে গামলার মধ্যে রাখা গলদা চিংড়িগুলো দেখাচ্ছে আর পিছনে কিছু লোক জাল উচু করে দাড়িয়ে আছে\\n4646.jpg গ্রামের একটি গাছের উপর কয়েকটি ছেলে উঠেছে আর বাকীরা উঠার চেষ্টা করছে\\n4647.jpg কাশবনের পাশে নদীর কিনার বেয়ে লোক দুটি নৌকা চালাচ্ছে \\n4648.jpg নৌকা বোঝাই পেয়ারা নিয়ে যাচ্ছে লোকগুলো\\n4649.jpg তিনটি ছেলেমেয়ে ধানক্ষেতের ভিতর দিয়ে মাছ ধরার জাল ও পাতিল নিয়ে হাটছে\\n4650.jpg সরিষাক্ষেতে বাচ্চারা ঘুড়ি উড়াচ্ছে\\n4651.jpg ছেলেটি মাছ ধরার জন্য নদীতে  জাল ফেলছে \\n4652.jpg কলসি কোমরে নিয়ে দুটি মহিলা রাস্তায় হাটছে\\n4653.jpg মাটির ঢিবির উপর দাড়িয়ে মহিলাটি নদীর দিকে তাকিয়ে আছে\\n4654.jpg সাগরের পানিতে টুপি পড়ে জাল থেকে মাছ বের করছেন\\n4655.jpg সবুজ ধানক্ষেতের মাঝে বসে বৃদ্ধ লোকটি হাসছে\\n4656.jpg লোকটি ক্ষেত থেকে ঘোড়ার গাড়িতে করে ধানগাছ নিয়ে যাচ্ছে \\n4657.jpg কৃষকেরা ধানের চারা বপন করছে\\n4658.jpg সরিষাক্ষেতের পাশ দিয়ে মেয়েটি কয়েকটা ছাগল নিয়ে যাচ্ছে \\n4659.jpg একটি লোক চা বাগানের পাশের রাস্তা দিয়ে ট্রলি নিয়ে যাচ্ছে \\n4660.jpg বাঁশের উপর দাঁড়িয়ে একটি ছেলে পিঠে বেতের ঝুড়ি নিয়ে বড়শি দিয়ে মাছ ধরছে\\n4661.jpg বৃদ্ধ লোকটি নৌকা চালাচ্ছে \\n4662.jpg বাগানের ভিতর দিয়ে কলসি কাখে শাড়ি পরে হেঁটে যাচ্ছে রমণী\\n4663.jpg নার্সারিতে কয়েকজন কথা বলছেন \\n4664.jpg মহিলাটি ছাগল গুলোকে খাওয়াচ্ছে \\n4665.jpg লোকটি ক্ষেত থেকে মূলা শাক তুলে মহিলাকে দিচ্ছে \\n4666.jpg কৃষক ক্ষেতে গরু দিয়ে লাঙল দিচ্ছে \\n4667.jpg উপজাতিরা পানি দিয়ে খেলছে\\n4668.jpg নৌকায় কিছু মানুষ বসে আছে\\n4669.jpg নদীতে ছইওয়ালা নৌকা যাচ্ছে \\n4670.jpg সমুদ্রে দুটি ট্রলার পাশাপাশি রাখা\\n4671.jpg নদীতে এক সারিতে ছইওয়ালা নৌকা রাখা আছে\\n4672.jpg রাতে রাস্তার পাশে কুপি জ্বালিয়ে নানারকম ভাজাপোড়া নাস্তা বিক্রি করছে লোকটি\\n4673.jpg সমুদ্র তীরে মহিলাটি হাতে একটি বাঁশ নিয়ে বসে আছে\\n4674.jpg লঞ্চ ঘাটে একটি লঞ্চ রাখা\\n4675.jpg তিনটি ছেলে দাড়িয়ে সমুদ্রের তীরের নৌকাটিকে দেখছে \\n4676.jpg কিছু যাত্রী নিয়ে মাঝি নৌকা চালাচ্ছে \\n4677.jpg এক নৌকার মাঝি অন্য নৌকার মাঝির দিকে আঙুল তুলে দেখাচ্ছে \\n4678.jpg বাচ্চাগুলো ভাঙা নৌকার পাশ থেকে কাঠ নিচ্ছে \\n4679.jpg ভাঙা নৌকার পাশে বাচ্চা গুলো দাড়িয়ে আছে\\n4680.jpg টিউবওয়েলের পাশে পিচ্চি ছেলেটি বসে আছে\\n4681.jpg লোকটি বাঁশ দিয়ে নৌকা ধাক্কা দিচ্ছে এবং পাড়ে দাঁড়িয়ে শিশুরা তা দেখছে \\n4682.jpg গাছের উপর বসে লোকটি হাসছে\\n4683.jpg অনেকগুলো ছেলেমেয়ে বই খাতা নিয়ে নৌকায় দাড়িয়ে আছে\\n4684.jpg মেয়েটি একটি বাচ্চাকে কোলে নিয়ে হাটছে\\n4685.jpg পানি ভর্তি বোতল, জগ, কলস নিয়ে বাচ্চা মেয়ে দুটি হাটছে\\n4686.jpg নিজের বাসার সামনে পরিবার নিয়ে বসে আছে \\n4687.jpg পাইপের ভিতর ছোট বাচ্চা নিয়ে মহিলাটি মানবেতর জীবনযাপন করছে\\n4688.jpg ছাতা মাথায় নিয়ে মহিলাটি নৌকায় উঠছে\\n4689.jpg নদীর কালো দূষিত পানিতে দুজন যাত্রী নিয়ে মাঝি নৌকা চালাচ্ছে \\n4690.jpg বাচ্চা গুলো বৈঠা দিয়ে নৌকা চালাচ্ছে \\n4691.jpg বন্যার পানিতে একটি লোক নৌকা ও বাচ্চা গুলো ভেলা চালাচ্ছে \\n4692.jpg মাঠে বাচ্চাগুলো হাতে হাত ধরে দৌড়ে সামনের দিকে এগিয়ে আসছে\\n4693.jpg নদীতে অনেকগুলো ডিঙি নৌকা \\n4694.jpg গাছের গুড়ি বোঝাই একটি ট্রলারের উপর শ্রমিকেরা দাড়িয়ে রশি টানছে\\n4695.jpg নদীতে গরু বোঝাই একটি ট্রলার চলছে\\n4696.jpg বাচ্চারা কাঠের তক্তার উপর দিয়ে নৌকায় উঠছে\\n4697.jpg ধানক্ষেতের পাশ দিয়ে গরুর গাড়ি যাচ্ছে \\n4698.jpg ছোট গাছগুলোর উপর মহিলাটি কাপড় শুকাতে দিচ্ছে \\n4699.jpg বাচ্চা গুলো হাত ধরে রাস্তা দিয়ে হাটছে\\n4700.jpg বাজারে দাড়িয়ে ছোট ছেলেটা লোহার দন্ডের সাথে রশি বাঁধছে\\n4701.jpg নীল আকাশের নীচে চরকিতে চড়েছে সবাই\\n4702.jpg পাঞ্জাবি, টুপি পরা তিনজন ছেলে একে অপরের কাধে হাত রেখে রাস্তায় দাড়িয়ে আছে\\n4703.jpg সমুদ্রের তীরে সূর্যাস্তের সময় অনেক মানুষ ভিড় জমিয়েছে\\n4704.jpg নদীতে দুটি নৌকা মুখোমুখি থেমে আছে\\n4705.jpg পাখিটি খাবারের পাত্রে মুখ দিয়ে আছে\\n4706.jpg বিদ্যুতের তারের উপর পাখিটি বসে আছে\\n4707.jpg গাছের ডালে দোয়েল বসেছে\\n4708.jpg নদীর উপর রেললাইন \\n4709.jpg গাছের ডালে ফড়িং বসেছে\\n4710.jpg গাছের ডালে শালিক পাখি বসেছে\\n4711.jpg পানি দিয়ে বাচ্চারা খেলছে\\n4712.jpg বাচ্চা ছেলে দুটি নদী থেকে মগে পানি নিয়ে একজন আরেকজনের দিকে ছুড়ে দিচ্ছে \\n4713.jpg অনেকগুলো তরমুজ ভর্তি নৌকা নদীর ঘাটে এসে থেমেছে এবং ওগুলো নামানো হচ্ছে \\n4714.jpg সবুজের মাঝে গোলাপি রঙের আহসান মঞ্জিল\\n4715.jpg মসজিদের সামনে ইটের রাস্তায় শুকনো পাতা পরে আছে, ফুল গজিয়েছে \\n4716.jpg গাছের ডালে পাখি বসেছে\\n4717.jpg ফুলের উপর পোকা বসেছে\\n4718.jpg দুই পাহাড়ের মাঝে নদী আর উপর ব্রিজ \\n4719.jpg মহিলাটি বাচ্চাকে কোলে নিয়ে খাওয়াচ্ছে \\n4720.jpg রেললাইনের পাশে বড় একটি গাছ\\n4721.jpg রেললাইনের পাশে বড় একটি গাছ\\n5722.jpg খালের পাশে রাখা পাটের ছবি তুলছে এক লোক\\n4723.jpg ইটের উপর একটি চড়ুই পাখি বসে আছে\\n4724.jpg রাতের হাতিরঝিল ও দূরের বিল্ডিং \\n4725.jpg পানির উপর বক উড়ছে\\n4726.jpg অল্প পানিতে বক হাটছে\\n4727.jpg অল্প পানিতে রাখা নৌকায় মাছ ধরার জাল\\n4728.jpg ঢাকা বিশ্ববিদ্যালয়ের কার্জন হলের একটি বিল্ডিংয়ের একপাশের দেয়াল,দরজা,জানালা\\n4729.jpg গ্রামের মেঠোপথ ও ছনের ঘর\\n4730.jpg সাইকেলের চাকা ও একটি মানুষের পা\\n4731.jpg রাতের নীল আকাশ ও পিচঢালা পথ\\n4732.jpg মেঘলা আকাশ ও নদীতে নৌকা চলছে \\n4733.jpg গাছের গায়ে টিকটিকি \\n4734.jpg গাছের ডালে ছোট গুইসাপ\\n4735.jpg পাতার উপর প্রজাপতি \\n4736.jpg নদীর উপর রেলগাড়ির জন্য লোহার ব্রিজ \\n4737.jpg গাছের পাতার ফাঁক দিয়ে সূর্যের আলো দেখা যাচ্ছে \\n4738.jpg জমিদার বাড়ির বাইরের দিক\\n4739.jpg নদীর তীরে দলবেঁধে মহিষ চরছে\\n4740.jpg জঙ্গলের মাঝে হরিণ \\n4741.jpg পড়ন্ত বিকেলে সবুজ ধানক্ষেত \\n4742.jpg জঙ্গলের মাঝে রেলপথের উপর পাগল লোকটি শুয়ে আছে \\n4743.jpg দুধ চায়ের একটি কাপ ও নিচের রাস্তায়  ভ্যানে দুজন মানুষ \\n4744.jpg একটি গাছ ও দুপুরের গনগনে সূর্য \\n4745.jpg রেলগাড়ির পথ ও পাথর \\n4746.jpg কাগজের তৈরী বাতি\\n4747.jpg জঙ্গলের মাঝে সরু নদী \\n4748.jpg উঠানের ঝরা পাতার মধ্যে দোয়েল পাখিটি দাড়িয়েছে\\n4749.jpg গাছের ডালে পাখিটি বসে আছে\\n4750.jpg ছনের ঘরের পাশে ছেলেটি বস্তা কাঁধে নিয়ে দাড়িয়ে আছে\\n4751.jpg ছাদে কাঠবিড়ালিটি ঘুরছে\\n4752.jpg সবুজ ধানক্ষেতের পাশে একটি কুড়েঘর\\n4753.jpg উপজাতী ছোট মেয়েটি দুই কানে ফুল গুজে আরেকটি মেয়েকে ধরে আছে\\n4754.jpg খেজুরের রস নামানোর জন্য মাটির কলসি, দড়ি ও কাস্তে নিয়ে লোকটি হাটছে\\n4755.jpg রাতের শহীদ মিনার\\n4756.jpg ছন্নছাড়া মেঘে ঢাকা আকাশ ও টাওয়ার \\n4757.jpg সমুদ্রে ট্রলারে অনেকগুলো লোক ও পাড়ে বড় বড় পাহাড় \\n4758.jpg তিনটি হাঁস দাড়িয়ে আছে\\n4759.jpg ধানক্ষেতের মাঝ দিয়ে একটি পিচ্চি ছেলে হাটছে\\n4760.jpg বড় দুইটি গাছের মাঝে বিশাল আকারের গেইট\\n4761.jpg ছোট একটি সাইকেল নিয়ে ছেলেটি হাটছে\\n4762.jpg দুটি পেচানো বিদ্যুতের তারের উপর ফিঙ্গে পাখিটি বসে আছে\\n4763.jpg সবুজ মাঠ ও লম্বা  গাছ\\n4764.jpg পিচঢালা রাস্তার দুইপাশে গাছপালা ও রাস্তায় সূর্যের আলো এসে পড়েছে \\n4765.jpg ফ্লাইওভার দিয়ে যানবাহন চলাচল করছে\\n4766.jpg গ্রামের মহিলাটি কোমরে কলসি নিয়ে ঘরের দিকে যাচ্ছে \\n4767.jpg পাথরের উপর একটি শামুক \\n4768.jpg নদীর তীরে তিনটি নৌকা বাধা \\n4769.jpg নদীতে দুটি ছেলে জাল দিয়ে মাছ ধরছে\\n4770.jpg নৌকার উপর একটি ছোট মেয়ে বসে আছে আর পানিতে মেঘের প্রতিফলন দেখা যাচ্ছে \\n4771.jpg শুকনো নদীর তীরে একটি তাল গাছ\\n4772.jpg ধানক্ষেতের পাশেই  মাটির দেয়ালের ছনের চালার ঘর,পুকুর ও গাছপালা\\n4773.jpg সূর্য ডোবার সময় নদীতে নৌকার উপর তিনজন মানুষ \\n4774.jpg নদীর পাড়ে চারটি নৌকা বাধা ও দূরে টিনের তৈরি বড় ঘরবাড়ি \\n4775.jpg পুকুরের পাশে বড় বড় গাছ\\n4776.jpg ধানক্ষেতের উপর সূর্যের আলো পড়েছে \\n4777.jpg গাছের ডালে পাখিটি বসে আছে\\n4778.jpg উঠানে ধান শুকানো হচ্ছে তার পাশে দুটি লোক কাঁধে ড্রাম নিয়ে যাচ্ছে \\n4779.jpg রাতের হাতিরঝিল \\n4780.jpg নদীতে একটি নৌকা ও দূরে পাহাড় \\n4781.jpg জমির আইল ঘেঁষে বেতের বাড়ি \\n4782.jpg মেঘে ঢাকা আকাশ আর শহরের দালানকোঠা\\n4783.jpg সংসদ ভবনের সামনে  বাংলাদেশের পতাকা  উড়ছে ও সামনে সবুজ ঘাস\\n4784.jpg সোহরাওয়ারদি উদ্যানে ইটের রাস্তার উপর বাংলাদেশের লাল সবুজ পতাকা\\n4785.jpg লালবাগ কেল্লার একটি দালান\\n4786.jpg ঘোলাটে পানি ও গাছপালা \\n4787.jpg ছোট পাহাড়ের উপর নারিকেল কলা গাছ প ঘরবাড়ি \\n4788.jpg গাছের সাথে একটি ঘোড়া বাধা ও ভেলায় চড়ে আছে একটি মহিলা ও ছোট ছেলে\\n4789.jpg বিলের পানিতে কচুরিপানা জড়ো করা আছে এক জায়গায় আর দুটি নৌকা চলছে\\n4790.jpg পাহাড় কেটে ঘরবাড়ি তৈরী করছে\\n4791.jpg লোকটি ছাতা মাথায় দিয়ে দুটি মহিষ নিয়ে যাচ্ছে আর পেছনে কলা গাছের ভেলায় তিনটি বাচ্চা \\n4792.jpg ঘরের চালায় দুটি কবুতর\\n4793.jpg নীল আকাশ ও নদীতে পাল তুলে নৌকা যাচ্ছে \\n4794.jpg লোকটি ভ্যান চালাচ্ছে \\n4795.jpg ব্রিজের উপর কয়েকটি মানুষ হাটছে\\n4796.jpg পানগাছের বাগান\\n4797.jpg কাশফুল ও আকাশে সাদা মেঘ\\n4798.jpg কুয়াশায় ঢাকা সবুজের পাহাড়\\n4799.jpg গ্রামের মাটির ঘর\\n4800.jpg পাকা ধানে ভরে গেছে জমি\\n4801.jpg দুপাশের বড় বড় গাছে ঢাকা পিচ ঢালা রাস্তায় গাড়ি চলছে \\n4802.jpg একজন লোক গাঁদা ফুলের টাকা গুনছে আরেকজন পিরিতে বসে কাজ করছে এবং প্রিন্ট্রের পলিথিনে মুরানো গাড়ির টায়ার এর পাশে একজন বৃদ্ধ লোক বসে আছে\\n4803.jpg পার্কের বেঞ্চে গাছের নিচে বয়স্ক লোকটি শুয়ে আছে \\n4804.jpg বাচ্চা গুলো বিস্কিট কামড়ে দাড়িয়ে আছে\\n4805.jpg ছেলেটা টিস্যু দিয়ে ঠোঁট ঢেকে রেখেছে \\n4806.jpg কাঠের তৈরি খেলনা ঢেঁকির নিচে চাল\\n4807.jpg গাছপালার মাঝে একটি হাতি\\n4808.jpg অনেক গুলো রঙিন সুতোর তৈরি পাখির মাঝে বেতের ঝুড়িতে তিনটি পাখি\\n4809.jpg দারোয়ানটি মুখে হাত দিয়ে বসে আছে আর অন্য একটি লোক মাথায় পাতিল নিয়ে হাটছে\\n4810.jpg টেবিলের উপর লেবু, কাঁচা পাকা মরিচ, পেঁয়াজ ও দুটি বাটিতে ফুচকা, চটপটি লেবু মরিচ দিয়ে সাজিয়ে রাখা\\n4811.jpg রঙিন ছাতা মাথায় লোকটি সামনের গাছগুলোর দিকে তাকিয়ে আছে\\n4812.jpg ছেলেটি সাইকেলের পিছনে ঘাস নিয়ে চালাচ্ছে আর পিছনে তাকিয়ে আছে\\n4813.jpg হাফ প্যান্ট পরা ছেলেটি বিল্ডিং এর ছাদের রেলিং এর উপর দাঁড়িয়ে নীচের দিকে দেখছে এবং আরেকজন কোমরে হাত দিয়ে তা দেখছে\\n4814.jpg সার্কাসে কসরত দেখাচ্ছে দুটি মেয়ে\\n4815.jpg বেগুনী ফুল ফুটে আছে গাছে\\n4816.jpg মেয়েটি হাত দিয়ে কানের দুল ধরে অন্য দিকে তাকিয়ে আছে\\n4817.jpg ট্রেনের জানালা দিয়ে বাচ্চাকে নিচের মানুষের কাছে দিচ্ছে \\n4818.jpg লোকটি ঝুড়ি থেকে আলু ঢেলে একজায়গায় জমা করছে\\n4819.jpg ট্রেতে একটি প্লেটে সস দেয়া পাস্তা এবং আলাদা দুটি বাটিতে দুই রকমের সস আছে\\n4820.jpg বাচ্চা চারটি ছেলে মুখ ভেঙ্গাচ্ছে আর হাসছে\\n4821.jpg সমুদ্র তীরে রাখা শিকলের উপর উঠছে একটি ছেলে\\n4822.jpg ছাগলটি বেঁধে রাখা কাঁঠাল গাছের পাতা খাচ্ছে \\n4823.jpg পুকুরের পাশে ভ্যানের উপর একটি কুকুর ঘুমিয়ে আছে\\n4824.jpg লোক দুইটি পানির উপর বাঁশ গুলোকে সাজাচ্ছে \\n4825.jpg বৃদ্ধ লোকটি নদীর পাড়ে দাড়িয়ে কাপড় দিয়ে শরীর মুছছে \\n4826.jpg পানবিক্রতারা পান নিয়ে বসে আছে\\n4827.jpg প্লাস্টিকের খালি বোতলের মাঝে ছোট ছেলেটি বসে হাসছে\\n4828.jpg একটি মেয়ে ক্যামেরা দিয়ে ছবি তুলছে \\n4829.jpg রাস্তা ঝাড়ু দেয়ার মহিলারা ঝাড়ু পিছনে রেখে বিশ্রাম নিচ্ছে \\n4830.jpg ব্রিজের উপর বিড়ালটা হাটছে\\n4831.jpg ঘাসের উপর মহিলাটি কাপড় শুকাতে দিচ্ছে \\n4832.jpg রিকশাচালক রিকশায় বসে সীটে বসা বাচ্চাগুলোর সাথে সেলফি তুলছে\\n4833.jpg শিকলে বাঁধা বানরটি ঘুমিয়ে আছে\\n4834.jpg মাটির মধ্যে লোহার খেলনা ঘোড়াটি পরে আছে\\n4835.jpg কাঠের টেবিলের উপর রাখা পুতুলের পাশে একটি প্রদীপ চলছে\\n4836.jpg প্লাস্টিকের সাদা কাপে লেবু দেয়া লাল চা\\n4837.jpg লোকটি গনগনে চুলার ভিতরে লাঠি ঢুকিয়ে রেখেছে\\n4838.jpg লোকটি উপরে ট্রেনের এক বগি থেকে অন্য বগিতে যাচ্ছে \\n4839.jpg ছেলেটি ডিএসএলআর ক্যামেরা দিয়ে ছবি তুলছে\\n4840.jpg নানা রকম রঙের ফুল গাছ\\n4841.jpg একটি ছোট মেয়ে ব্রিজে ঢেলান দিয়ে দাঁড়িয়ে আছে\\n4842.jpg মেয়েটি ক্যামেরা দিয়ে ছবি তুলছে\\n4843.jpg রাস্তায় ট্রাফিক লাইটে পথচারী পারাপারের জন্য  সংকেত দেখানো হয়েছে \\n4844.jpg ট্রেনের সামনেও অনেক মানুষ উঠেছে\\n4845.jpg ঠেলাগাড়িতে শ্রমিকেরা মালামাল উঠিয়েছে\\n4846.jpg পুতুল নাচ দেখানো হচ্ছে \\n4847.jpg লোকটি মূ্র্তি তৈরী করছে\\n4848.jpg তারের জালির পেছনে আটকে আছে দুইটি কুকুর ছানা \\n4849.jpg উপজাতী অনেকগুলো মেয়ে একই পোশাক পরে নাচছে\\n4850.jpg গাছ ভর্তি কাঁঠা\\n4851.jpg বাইক রেসিং এ একটি ছেলে বাইকের উপর আরেকটি ছেলে পরে যাচ্ছে \\n4852.jpg পলিথিন দিয়ে গাছের সবজিকে ঢেকে রাখা হয়েছে\\n4853.jpg গোলাপ ফুলের উপর একটি প্রজাপতি বসে আছে আর গুইসাপটি তা দেখছে \\n4854.jpg রেললাইনের পাশে মহিলাটি বৃষ্টির হাত থেকে বাঁচতে লুঙ্গি দিয়ে নিজেকে ঢাকছে \\n4855.jpg শাড়ি পরা গাছে হেলান দিয়ে দাড়িয়ে আছে \\n4856.jpg গরীব বৃদ্ধাটি ব্রিজের উপর লাঠি ভর দিয়ে হাঁটছে \\n4857.jpg সাদাকালো ডোরাকাটা জেব্রাটি মাঠে দাড়িয়ে আছে \\n4858.jpg একটি লোক তার পায়ের কাছে কাসার মূর্তিটি রেখে কাজ করছে \\n4859.jpg নীল পলিথিনের উপর মাটির তৈরি ব্যাংক, টব, পুতুল ও একটি লোকের দুটি পা দেখা যাচ্ছে \\n4860.jpg একটি লোক ফোন দিয়ে আরেক লোকের ছবি তুলে দিচ্ছে \\n4861.jpg টুপি মাথায় ছোট ছেলেটি মুখে আঙুল দিয়ে রেখেছে \\n4852.jpg গাছের কোটর থেকে পেঁচাটি মুখ বের করে তাকিয়ে আছে \\n4863.jpg দুই কাঁধের ঝুড়িতে কাটা কাঠ নিয়ে কর্দমাক্ত মাঠে লোকটি হাটছে \\n4864.jpg মাথায় গামছা দিয়ে দাড়িওয়ালা লোকটি ফোকলা দাঁতে হাসছে \\n4865.jpg গুনার তার দিয়ে গাছের সাথে ঝুলানো আছে একটি ভাঙা মাটির পাত্র \\n4866.jpg ঘরের ভিতর জানালার গ্রিল ধরে মেয়েটি তাকিয়ে আছে \\n4867.jpg মহিলাটি শুকনো বাদাম ঝুড়িতে তুলছে \\n4868.jpg কসাই চাপাতি দিয়ে মাংস কাটছে \\n4869.jpg পিছনে আগুন জ্বলছে আর লোকটি বাঁশের আগায় বালতি বেধে দৌড় দিচ্ছে \\n4870.jpg বৃদ্ধ লোক ও একটি মহিলা ব্যাগ, পানির বোতল ও কিছু জুতা নিয়ে বসে আছে\\n4871.jpg বাঘটি বুক পানিতে হাটছে\\n4872.jpg একটি মহিলা ও পুরুষ ঘাস কাটছে\\n4873.jpg ডালের উপর বসে পাখিটি ঠোঁটের মধ্যে একটি ছোট মাছ ধরে আছে\\n4874.jpg বৃষ্টির দিনে ছাতা মাথায় মেয়েটি দাড়িয়ে আছে\\n4875.jpg জ্বালানির জন্য মহিলাটি লাঠিতে গোবর গাথছে\\n4876.jpg নদীর পাড়ে ছোট ছেলেটি বসে আছে আর পাশেই একটি ট্রলার\\n4877.jpg ভ্যানের উপর ঝুড়ি ভর্তি প্লাস্টিকের ফুল\\n4878.jpg রাস্তায়  অনেক মানুষের মাঝে ধুতি ও লাল ফতুয়া পরা একটি লোক হাতে ছোট ঝুড়ি নিয়ে হাটছে\\n4879.jpg অনেকগুলো ইটের মাঝে একটি ট্রাক\\n4880.jpg স্তুপ করা মাটির পাতিলের সামনে খালি গায়ে মাথায় কাপড় পেঁচানো বৃদ্ধ লোকটি হাসছে\\n4881.jpgএকটি ফুলের উপর দুটি প্রজাপতি \\n4882.jpg একটি রাবার বল বাটির পানির ভিতর থেকে বের হয়ে গেছে\\n4883.jpg লোকটি পাটগাছ ধরে আছে\\n4884.jpg বৃদ্ধ লোকটি পাকা রাস্তায় একা হাটছে\\n4885.jpg বালির উপর একটি মেয়ের পা আর জুতা দেখা যাচ্ছে \\n4886.jpg মুচি জুতা রঙ করছে\\n4887.jpg ক্ষেতের পাশ দিয়ে লোকটি সাইকেল চালিয়ে যাচ্ছে \\n4888.jpg রাস্তা দিয়ে লোকটি ছাতা মাথায় এক পাল গরু নিয়ে যাচ্ছে \\n4889.jpg কুমোর মাটির জগ বানাচ্ছে \\n4890.jpg মেয়েটি আলতা, চুড়ি পরে কানের পাশে ফুল গুঁজে দিচ্ছে \\n4891.jpg বয়স্ক মহিলাটি রাস্তার পাতা ঝাড়ু দিচ্ছে \\n4892.jpg নৌকায় বসে লোকটি গামলায় রাখা ছোট মাছ দেখাচ্ছে \\n4893.jpg লোকগুলো বাঁশের কঞ্চি কাটছে\\n4894.jpg ফলবিক্রেতা দোকানে ফল সাজিয়ে বসে আছে\\n4895.jpg মহিলা ও ছোট ছেলেটি সিঁড়ি দিয়ে উপরে উঠছে\\n4896.jpg শাড়ি ও মাথায় ফুল পরে মেয়েটি কোমরে হাত দিয়ে দাড়িয়ে আছে\\n4897.jpg হিন্দু মহিলাটি দেবতাকে পূজো দিচ্ছে \\n4898.jpg কুয়াশায় ঢেকে গেছে পেছনটা আর সামনে রাস্তার একপাশে ছোট একটু তাঁবু\\n4899.jpg ফ্লাইওভারের উপর দিয়ে গাড়ি চলছে\\n4900.jpg কাটা নারিকেল গাছের  উপর তিনটি ছোট বাচ্চা বসে আছে আর গরু পিছনে ঘাস খাচ্ছে\\n4901.jpg মাথাল পরে ধানক্ষেতের মাঝে কৃষক কাজ করছে\\n4902.jpg সেন্টমার্টিনের প্রবাল দ্বীপের পাথরের উপর নীল শাড়ি পরে মেয়েটি বসে আছে\\n4903.jpg বাচ্চা ছেলে তিনটি কদম ফুল হাতে নিয়ে বসে আছে\\n4904.jpg বড় পাতিলে মহিলাটি ধান সিদ্ধ করছে\\n4905.jpg প্লাস্টিকের চেয়ারে মেয়েটি বসে আছে \\n4906.jpg এবড়োথেবড়ো একটি হলুদ রঙের দেয়ালের উপর সিলভার কালারের পাইপ ও একটি জানালার অংশ \\n4907.jpg রেললাইনের উপর একটি খাঁচার ভিতরে কয়েকটি কবুতর \\n4908.jpg হলুদ রঙের ছাতা ও স্যান্ডেল পরে বৃষ্টির মধ্যে লোকটি লুঙ্গি উঁচু করে হাটছে \\n4909.jpg দুটি নৌকায় দুটি লোক পাটিতে বাঁশের উপর শুয়ে আছে\\n4910.jpg লোহার গেট খুলে টুপি পরা ছোট ছেলেটি উঁকি দিচ্ছে \\n4911.jpg কাদা মাটিতে মানুষের পায়ের ছাপ\\n4912.jpg ভ্যান ভর্তি ঘাস লতাপাতা নিয়ে লোকটি ভ্যানটি টেনে নিয়ে যাচ্ছে \\n4913.jpg শাড়ি পরা মহিলাটি মাথায় লাকরি নিয়ে যাচ্ছে \\n4914.jpg লোক দুটি মাথার উপর ঝুড়িতে করে তরমুজ নিয়ে যাচ্ছে \\n4915.jpg আহসান মন্জিলের সামনে বাংলাদেশের জাতীয় পতাকা উড়ছে আর দালানের সিড়ি দিয়ে মানুষ উপরে উঠছে\\n4916.jpg নদীর ঘোলা জলে নৌকার উপর দুটি বাইকের উপর মানুষ বসে আছে এবং আরো কিছু লোক নৌকায় দাড়িয়ে আছে\\n4917.jpg সূর্যাস্তের সময় লোকটি গাছের নিচে দাড়িয়ে মোনাজাত করছে\\n4918.jpg টেবিলের উপর ভাঁজ করা কাগজের উপর মুখ খোলা একটি কলম রাখা\\n4919.jpg নৌকার পাশে দাড়িয়ে বুড়া লোকটি মোটা রশি ধরে আছে\\n4920.jpg রঙের কৌটায় লাগানো ফুলের গাছে ফুল ফুটে আছে\\n4921.jpg নীল আকাশের নিচে বালির ঢিবির পাশে ছেলেটি সাইকেল চালাচ্ছে \\n4922.jpg রাতের অন্ধকারে মরিচ বাতিতে সাজানো বাড়িটি জ্বলজ্বল করছে \\n4923.jpg রাতের অন্ধকারে মরিচ বাতিতে সাজানো বিয়ে বাড়ির গেট\\n4924.jpg রাস্তার পাশে বসে লোকটি ছবি আঁকছে\\n4925.jpg মুখে মুখোশ ও হাতে প্ল্যাকার্ড নিয়ে আন্দোলনের একটি ছাত্র \\n4926.jpg প্লেটের উপর কয়েকটি পাউরুটি ও পাশে একটি বাটি রাখা এবং দূরে দেখা যাচ্ছে  সবুজ পাহাড় ও সাদা মেঘ\\n4927.jpg চিনামাটির টেবিলের উপর পিরিচের উপর একটি চামচ ও কাপে কফি রাখা, পাশেই আছে চিনি ও পিরিচে রাখা টিস্যু \\n4928.jpg ছেলেটি দাঁত বের করে হাসি মুখে হাতের ঝুড়িতে রাখা কচুর ডগা দেখাচ্ছে \\n4929.jpg চৌবাচ্চার পানিতে শাপলা ফুল ও এর পাতা ভাসছে\\n4930.jpg দোকানের ভিতরে বসে আছে তিনটি লোক বসে আছে এবং তাদের সামনে অনেকগুলো ইয়ারফোনের তার ঝুলছে\\n4931.jpg দোকানদার কেটলি থেকে গ্লাসে শরবত ঢালছে\\n4932.jpg কাঠের উপর কয়েকটি নীল কাঁচের চুড়ি রড়ছে\\n4933.jpg মিষ্টির দোকানদাররা বড় গামলায় মিষ্টি সাজিয়ে বসে আছে\\n4934.jpg একজন ছেলে সাইকেলে ব্রেক দিয়ে দাঁড়িয়ে আছে এবং সবার সাথে হাসা হাসি করছে\\n4935.jpg চারজন যুবক সাদা রঙ মেখে রাজু ভাস্কর্যের মত দাঁড়িয়ে আছে\\n4936.jpg বালির উপর দিয়ে দুটি ভ্যান বোঝাই মালামাল লোকগুলো টেনে নিয়ে যাচ্ছে \\n4937.jpg গাছের উপর হাড়গিলা পাখিটি দাড়িয়ে আছে\\n4938.jpg তারের উপর চড়ুই পাখিটি বসে আছে\\n4939.jpg নীল আকাশের নিচে পিচ্চি ছেলে দুটি টায়ার দিয়ে খেলছে\\n4940.jpg মহিলাটি মাটিতে বসে কুলাতে চাল বাজছে আর পাশে ছোট ছেলেটি তাকে ধরে বসে আছে\\n4941.jpg খোলা জায়গায় নাপিতটি একটি লোকের চুল কেটে দিচ্ছে \\n4942.jpg বৃদ্ধ লোকটি ফুটপাতে বসে পেপার পড়ছে\\n4943.jpg পান্জাবী  টুপি পড়ে কাঁধে ব্যাগ নিয়ে ছেলেটি নৌকার উপর থেকে বিলের শাপলা ফুল ছিঁড়ছে \\n4944.jpg উঠানে সারি সারি করা জমানো ধানের পাশ দিয়ে একটি লোক কালো রঙের ছাতা মাথায় দিয়ে হাটছে\\n4945.jpg খাবাএর ক্যাফে তে কয়েকজন বসে আছে এবং একটি ট্রলি রাখা আছে\\n4946.jpg ঘাসের উপর দুটি ছেলে পাশে সাইকেল রেখে বসে আছে\\n4947.jpg  মাল বোঝাই ট্রলারটি নদীতে চলছে\\n4948.jpg রাস্তায় একটি বাসের সামনে দিয়ে লোকটি ঘোড়াটিকে ধরে নিয়ে যাচ্ছে \\n4950.jpg উপজাতী মহিলাটি ব্যাগ কাঁধে নিয়ে মন খারাপ করে দাড়িয়ে আছে\\n4951.jpg বালির উপর পাইপের উপর দিয়ে দুটি ছেলে হাটছে\\n4952.jpg গেটের উপর চারটি মুখোশ ঝুলছে\\n4953.jpg একটি লোক মেশিনে হাওয়াই মিঠাই বানাচ্ছে \\n4954.jpg গ্রামের মেঠো পথ ধরে ছেলেটি সাইকেল চালাচ্ছে \\n4955.jpg টেবিলে সাজানো প্রতিটি প্লেটে একটি করে আপেল ও কাটা চামচ রাখা\\n4956.jpg বৃদ্ধা মহিলাটি মাটির তৈরি প্লেট গুলোকে রোদে শুকোচ্ছে \\n4957.jpg মাটির জিনিসে কুমার আলপনা আঁকছেন\\n4958.jpg দুপাশের ঘন গাছপালার মাঝে পিচঢালা রাস্তায় ছেলেমেয়ে দুটি হাত ধরে হাটছে \\n4959.jpg বৃদ্ধা মহিলাটি মাটির ঘরের বারান্দায় পা ছড়িয়ে বসে আছে\\n4960.jpg কামারের তৈরি লোহার জিনিস বিক্রি করতে বসেছেন এক বিক্রেতা\\n4961.jpg মহিলাটি তাঁতে কাপড় বুনছে\\n4962.jpg একটি হিজাবি মেয়ে পার্কে একা একা বসে আছে\\n4963.jpg দোকানদার ভ্যানে পিয়াজু,বেগুনী সাজিয়ে রেখে গরম তেলে আরো ভাজছে\\n4964.jpg বইয়ের তাকের পাশে মেয়েটি দাড়িয়ে বই পড়ছে\\n4965.jpg বিশাল গাছের নিচে বাধানো বসার জায়গায় কিছু মানুষ বসে আছে\\n4966.jpg কুমার মাটির জিনিস বানাচ্ছে\\n4967.jpg নীল আকাশের নিচে সমুদ্রে একটি ট্রলার চলছে যা প্রায় ডুবে যাচ্ছে \\n4968.jpg লাইব্রেরির তাকে এবং মেঝেতে রাখা আছে অনেক বই\\n4969.jpg মুখে রঙ মাখা মেয়েটি রঙমাখা হাত দেখাচ্ছে \\n4970.jpg বিলের কচুরিপানা ঘেরা পানিতে ছেলেটি নেমে সেই পানি দিয়ে মুখ ধুচ্ছে \\n4971.jpg কচুরিপানার পুকুরে মহিষটি অর্ধেক ডুবে আছে\\n4972.jpg ট্রে এর উপর বিভিন্ন বাটিতে বিভিন্ন রকম পান মসলা রাখা\\n4973.jpg পুকুরঘাটে কিছু মানুষ গোসল আর কিছু মানুষ বসে,দাড়িয়ে আছে\\n4974.jpg বাসের ভিতর বৃদ্ধ বাউলটি একতারা বাজাচ্ছে \\n4975.jpg টিনের চালের উপর কবুতরগুলো ডানা ঝাপ্টাচ্ছে\\n4976.jpg ছেলেটি মাটির তৈরি শোপিচ গুলো দেখছে\\n4977.jpg ছবি একে সাজিয়ে রেখেছেন শিল্পীরা\\n4978.jpg বৃদ্ধ লোকটি ভূট্টার খোসা ছাড়াচ্ছে\\n4979.jpg একটি মানুষ বুকের উপর বালতি নিয়ে পানিতে উল্টো হয়ে ডুবে আছে\\n4980.jpg মেয়েটি কাপড়ে ঝুলে কসরত দেখাচ্ছে\\n4981.jpg  কয়েকজন মানুষ একসাথে জড় হয়ে ট্রাকে করে যাত্রা করছে \\n4982.jpg কলা বিক্রেতা ঝুড়িতে করে কলা নিয়ে বসে আছেন এবং  মাথায় ফুল পরা মেয়েটি তার কাছ থেকে কলা কিনতে এসেছেন।\\n4983.jpg কাঠের চামচে হরেক রকমের মসলা সাজানো \\n4984.jpg একটি ট্রে তে সস ও মেয়নিজ দিয়ে মাজাদার পাস্তা পরিবেশন করা হয়েছে\\n4985.jpg টেবিলের উপরে ট্রে তে দুইটি মগ রাখা আছে এবং চেয়ারে বসে একজন মেয়ে মোবাইল দেখছে  আর আরেকজন পেন্সিল নিয়ে গালে হাত দিয়ে সেই মোবাইলের দিকে তাকিয়ে আছে\\n4986.jpg সিমেন্টের ল্যাম্প পোস্টের ভিতরে একটি মূর্তি\\n4987.jpg নদীর তীরে কাটা গাছের  উপর একটি ক্যাপ রাখা\\n4988.jpg আনারসের বাজারে গাড়ি এবং মানুষের ভিড়\\n4989.jpg ঘড়ির দোকানে নানান ডিজাইনের ঘড়ি এবং সানগ্লাস  রাখা আছে\\n4990.jpg সিমেন্টের বাড়ির উঠানে লতা পাতার গা ঘেঁষে দাঁড়িয়ে আছে একটি মই \\n4991.jpg পুলিশের  জামা পড়ে রাইফেল তাক করে আছে একজন পুলিশ\\n4992.jpg ট্রাক্টর দিয়ে জমি চাষ করা হচ্ছে\\n4993.jpg বাসের মধ্যে একেক ভঙ্গিতে বসে আছে যাত্রীরা\\n4994.jpg কেটে ফেলা গাছের উপর দিয়ে একটি শিশু শাপলা হাতে নিয়ে লাফিয়ে লাফিয়ে যাচ্ছে \\n4995.jpg দুইজন কামার ছাপরা ঘরে কয়লা পুড়াচ্ছে\\n4996.jpg জমিতে ছেলেটি কাদা পানি দিয়ে খেলছে\\n 4997.jpg সেলুনে নাপিত চুল কাটছে \\n4998.jpg সমুদ্রের পাড়ে একটি শামুকের খোলস পরে আছে\\n4999.jpg সবুজের মাঝে মাটির দেয়ালের ছনের চালার ঘর এবং তার পাশে একটা দোলনা\\n5000.jpg লোকটি ঘরের জালার  রডের ফাঁক দিয়ে হাত বের করে সালাম দিচ্ছে\\n\\n5001.jpg ঘরের পিছনের দাওয়ায় বসে মেয়েটি পড়াশুনা করছে\\n5002.jpg রাতের আধারে ঝোপের আড়াল থেকে একটি বালিকা উকি দিচ্ছে\\n5003.jpg নির্দিষ্ট সময়ে যাত্রা শুরু করা ট্রেনটি ধরার জন্য মহিলাটি ছুটে যাচ্ছে \\n5004.jpg রেলস্টেশন থেকে যে যার নির্দিষ্ট গন্তব্যে যাচ্ছে \\n5005.jpg পার্কে শিশুরা খেলাধুলা করছে  \\n5006.jpg বৃদ্ধ লোকটি হাতে একটি বোতল নিয়ে হেটে যাছে \\n5007.jpg পুরানো দিনের ঈদে ভিরময় ট্রেন যাত্রা \\n5008.jpg ট্রেনের উপরে বসা কতিপয় যাত্রিবৃন্দ \\n5009.jpg শীতকালে কূয়াশার মধ্যে ট্রেন যাত্রা \\n5010.jpg ট্রেনের ভিতর জায়গা না পেয়ে কতিপয় জীবন বিপন্ন করে কিছু মানুষের যাত্রা   \\n5011.jpg সাধারণ মানুষ ও ছোট ব্যাবসাহীদের ট্রেনের ছাদে যাত্রা \\n5012.jpg গ্রামের ছেলেমেয়েদের স্কুল যাত্রা\\n5013.jpg শীতকালের কূয়াশা ঘেরা সকালবেলা \\n5014.jpg শীতের কুয়াশা ঘেরা সকালে বেলা দুইজন লোক গ্রামের পথ দিয়ে হেটে যাচ্ছে \\n5015.jpg মধ্য রাতে গাছের নিচে একটি ছেলে একাকি বসে আছে   \\n5016.jpg চড়ের মধ্যে একদল ছেলে কাঁদা মাটি দিয়ে খেলছে \\n5017.jpg শীতের কূশায় ঘেরা স্মৃতিসৌধ \\n5018.jpg কূয়াশায় ঘেরা সকালে রাস্তায় একটি কুকুর দাড়িয়ে আছে  \\n5019.jpg চাষের জমি নস্ট করে ঘৃহ নির্মাণ \\n5020.jpg চড় অঞ্চলে একটি লোক নৌকা বাইছে  \\n5021.jpg একটি ছেলে ঘোড়ায় চড়ছে  \\n5022.jpg নদীতে মাঝিরা নৌকা বাইছে  \\n5023.jpg ঝোলা কাধে করে একটি লোক হেটে যাচ্ছে  \\n5024.jpg সরিষা ক্ষেতে ঢুকে পরা একটি ছাগলকে ছেলেটা বের করটে চেস্টা করছে  \\n5025.jpg জীর্ণ বৃদ্ধ লোকটি অপলোক দৃস্টিতে তাকিয়ে আছে  \\n5026.jpg ছোট্ট একটি বালক ঘোড়া নিয়ে দারিয়ে আছে \\n5027.jpg একজন মহিলা জায়নামাযে বসে দোয়া করছেন  \\n5028.jpg বালকটি দুহাত ভর্তি ফুল নিয়ে দারিয়ে আছে \\n5029.jpg মাদ্রাসায় পরুয়া একটি ছাত্র কুরআন শরীফ হাতে দাঁড়িয়ে আছে\\n5030.jpg একদল লোক প্রদীপ জ্বালিয়ে বসে আছে \\n5031.jpg সমুদ্র পাড়ে দৌড়ে যাওয়া একটি ঘোড়ার পদ চিহ্ন  \\n5032.jpg মাঝ সমুদ্রে উড়ে বেরানো এক ঝাঁক পাখি\\n5033.jpg একটি কুকুর মাঝ রাস্তায় একাকি বসে আছে \\n5034.jpg একটি বাছুরের মাথার উপর একটি পাখি বসে আছে \\n5035.jpg জামাতে একটি লোক একটি বালকের সাথে ছবি তুলছে \\n5036.jpg সাদা কালো পাথরের মাঝে একটি রঙ্গিন পাথর \\n5037.jpg বালকটি ঘোড়া নিয়ে যাচ্ছে  \\n5038.jpg রঙধনুময় সমুদ্রসৈকত  \\n5039.jpg একজন বয়েস্ক মহিলা জায়নামাজে বসে পবিত্র কুরআন শরীফ পাঠ করছেন\\n5040.jpg বাচ্চা মেয়েটি একটি গাঁদা ফুল হাতে নিয়ে দাড়িয়ে আছে  \\n5041.jpg ছেলেটি রঙ নিয়ে হলি খেলছে  \\n5042.jpg আধুনিক বসত বাড়ি \\n5043.jpg লাইব্রেরী যেখানে বই থাকে \\n5044.jpg পাহাড়ের মাঝখান দিয়ে সুরু রাস্তা   \\n5045.jpg রেল্লাইনের মাঝখান দিয়া লোকজন হেঁটে যাচ্ছে \\n5046.jpg মনোমুগ্ধকর পাহাড়ি নদীর দৃশ্য \\n5047.jpg মনোমুগ্ধকর পাহাড়ি নদীর দৃশ্য\\n5048.jpg পড়ন্ত বেলায় সমুদ্র সৈকত \\n5049.jpg কুড়ে ঘরে একঝলক আলোতে ছোট্ট ছেলেটির অপলক মিস্টি হাঁসি \\n5050.jpg বেলুন নিয়ে খেলায় মগ্ন একটি বালক \\n5051.jpg মিঠে আলোতে রাস্তায় দুইবালকের প্রতিচ্ছবি \\n5052.jpg সমুদ্রপারে সূর্যাস্ত দৃষ্টিয়মানরত একজন লোক  \\n5053.jpg সমদ্রুপারে সূর্যাস্ত দেখছেন বাবা ও শিশু  \\n5054.jpg রাতের অন্ধকারে নদীর পাড়ে নৌকা বাধা \\n5055.jpg রাতের আধারে আকাশ ভরা তারা \\n5056.jpg সমুদ্ররের পারে মানুষের ঢল \\n5057.jpg ব্যাট করছেন সাকিব আল হাসান \\n5058.jpg বোলিং করছেন মুস্তাফিজুর রহিম \\n5059.jpg উল্লাসে বাংলাদেশ ক্রিকেট টিম  \\n5060.jpg আনন্দে মাতছে বাংলাদেশ ক্রিকেট টিম   \\n5061.jpg আউট করলেন মুস্তাফিজুর রহিম\\n5062.jpg ভ্যানে করে মালামাল পরিবহন \\n5063.jpg পুরাতন একটি ইটের ইমারত \\n5064.jpg একটি পুরাতন যুদ্ধের ছবি \\n5065.jpg একটি বৃদ্ধাকে উদ্ধার করে নিয়ে যাচ্ছে \\n5066.jpg আগের দিনের মালামাল পরিবহন \\n5067.jpg টলারে করে মালামাল পরিবহন \\n5068.jpg ছেলেটি সমুদ্রপাড়ে সাইকেল চালাচ্ছে \\n5069.jpg দ্বিপের মধ্যে নৌকা চলন \\n5070.jpg রাতের ব্যস্ততম শহর \\n5071.jpg গ্রামীন মাঠে গরু চড়ানোর দৃশ্য \\n5072.jpg ব্রিজের উপর দাঁড়িয়ে একটি ছেলে \\n5073.jpg নদীর পাড়ে বসে থাকা দুই দম্পতী \\n5074.jpg সাদে বসে থাকে দুই বালক \\n5075.jpg পুরাতন ইটের ইমারত বসে আছে একজন লোক \\n5076.jpg গ্রামের রাস্তা দিয়ে হেঁটে যাচ্ছে ছোট্ট বালিকা \\n5077.jpg ঘাসের মধ্যে রাজহাঁসের ঝাঁক \\n5078.jpg সবুজে ঘেরা মাঠ দিয়ে হেটে যাচ্ছে একটি ছেলে \\n5079.jpg ফেরিওলা ফেরি নিয়ে যাছে \\n5080.jpg গ্রামের দুটি ছোট্ট বালক নৌকা চালাচ্ছে  \\n5081.jpg বৃদ্ধলোকটি মাঠে গরু চড়াচ্ছে  \\n5082.jpg লোকটি সমুদ্রে মাছ ধরছে \\n5083.jpg গ্রামীণ মাঠের সবুজ ঘাসে ছোট্ট মেয়েটি ঘুরে বেড়াচ্ছে \\n5084.jpg বন্ধু নিয়ে নৌকা ভ্রমণ \\n5085.jpg লোকটি ঘাস কেটে নিয়ে যাচ্ছে \\n5086.jpg নৌকা ভিড়ানো \\n5087.jpg নদীর পাড়ে ছোট্ট বাচ্চারা খেলা করছে \\n5088.jpg ময়লা-আবর্জনায় নস্ট হচ্ছে নদী \\n5089.jpg বৃদ্ধ মাঠে গরু চড়াচ্ছে \\n5090.jpg গোদানে শ্রমিকরা কাজ করছেন \\n5091.jpg লোকটি মোটরসাইকেল নিয়ে দাঁড়িয়ে আছে \\n5092.jpg গ্রামীন ধান খ্যাঁতের দৃশ্য  \\n5093.jpg চরের মাঝে নেটওয়ার্ক টাওয়ার \\n5094.jpg বৃষ্টিতে ছাতা মাথায় লোকটি হেঁটে যাচ্ছে \\n5095.jpg ব্রিজে দাঁড়িয়ে মেঘলাময় আকাশ উপভোগ করছে  \\n5096.jpg \\n5097.jpg \\n5098.jpg \\n5099.jpg \\n5100.jpg \\n5101.jpg একাকি জীবন \\n5102.jpg স্নানরত কয়েকজন কিশোর\\n5103.jpg জীবনের গোলপোস্ট  \\n5104.jpg পথ দেব পাড়ি তোমার\\n5105.jpg ক্ষুধার রাজ্যে পৃথিবী যখন গদ্যময়\\n5106.jpg ভাতৃত্বের ভালবাসা\\n5107.jpg মানুষটি খাবার কিনে বাড়ি ফিরছেন \\n5108.jpg তোমাদের এ শহরে আমার অধিকার কতটুকু?\\n5109.jpg একজন মুসলিম নারী\\n5110.jpg পবিত্র কোরআন পড়ছেন ভাইটি\\n5111.jpg জীবনের পথে ছুটেচলা ক্লান্ত মানুষগুলো\\n5112.jpg নারীশক্তি\\n5113.jpg কর্মজীবী গ্রাম্য নারী\\n5114.jpg কে জানে, হয়ত এটাই তার অন্তিম যাত্রার প্রস্তুতি\\n5115.jpg দূরন্ত শৈশব\\n5116.jpg একজন কাপড় বিক্রেতা\\n5117.jpg কাজ শেষে বাড়ি ফিরছেন  \\n5118.jpg দৈনিক খবরের কাগজ পড়ছেন\\n5119.jpg একটি ফুটবল খেলার মাঠ \\n5120.jpg একজন রেলযাত্রী\\n5121.jpg জীবীকার তাগিদে ছুটে চলা \\n5122.jpg রিক্সার গ্যারেজ\\n5123.jpg একজন কিশোর\\n5124.jpg ছেলেটি পানি বিক্রি করছে\\n5125.jpg শ্রমজীবী মানুষ  \\n5126.jpg দূরন্ত কৈশোর\\n5127.jpg বেলাশেষে ক্লান্ত মানুষ\\n5128.jpg ঘুমন্ত বালক\\n5129.jpg কিশোর শ্রমিক \\n5130.jpg নামাজ রত মহিলা\\n5131.jpg সন্ধ্যার আকাশে নীড়ে ফেরা পাখিরা\\n5132.jpg ঘরে ফেরা\\n5133.jpg সমুদ্রের তীরে একটি ঘোড়া \\n5134.jpg নৌকায় মালামাল পরিবহনে ক্লান্ত মানুষ\\n5135.jpg দোলনায় কিশোর\\n5136.jpg দোলনায় কিশোর\\n5137.jpg  দিনগুলো মোর সোনার খাঁচায় রইল না \\n5138.jpg প্রিয়জনকে বই উপহার দিন\\n5139.jpg একটি মালবাহী ট্রাক\\n5140.jpg বন্ধুত্বের ভালবাসা \\n5141.jpg কর্মব্যস্ত মানুষ\\n5142.jpg বন্ধু, কেমন আছিস তুই?\\n5143.jpg শৈশবের বন্ধুত্ব \\n5144.jpg পরন্ত বিকেলের মাঠ\\n5145.jpg ছেলেটি বস্তা মাথায় চলেছে\\n5146.jpg একজন বৃদ্ধ তসবি জপছেন\\n5147.jpg গণপরিবহনে মানুষের ছুটে চলা \\n5148.jpg নদীর তীর হতে কলসিতে পানি নিয়ে যাচ্ছে মেয়েটি\\n5149.jpg নদীর তীরে বাঁধা নৌকা \\n5150.jpg সমুদ্রতীরে ঘোড়ায় ছুটে চলা\\n5151.jpg শখের ফটোগ্রাফি\\n5152.jpg গ্রামের রাস্তায় একজন মহিলা চলছেন\\n5153.jpg একজন ফটোগ্রাফার \\n5154.jpg একজন ফটোগ্রাফার\\n5155.jpg শখের ফটোগ্রাফি\\n5156.jpg শখের ফটোগ্রাফি\\n5157.jpg ক্যামেরাহাতে মানুষটির পেছনে কয়েকজন উৎসুক কিশোর কিশোরী \\n5158.jpg শখের ফটোগ্রাফি\\n5159.jpg শখের ফটোগ্রাফি\\n5160.jpg একটি শীতের সকাল \\n5161.jpg রাখাল বালক\\n5162.jpg শখের ফটোগ্রাফি\\n5163.jpg নৌকা ভ্রমণ\\n5164.jpg ক্লান্ত ফটোগ্রাফার \\n5165.jpg নদীতীরে চা পান \\n5166.jpg বিবাহ উৎসব\\n5167.jpg একটি বাচ্চা মেয়ে বেলুন বিক্রি করছে\\n5168.jpg বৃষ্টি থেকে বাঁচার চেষ্টা\\n5169.jpg পানিতে ঝাঁপিয়ে পড়ল ছেলেটি \\n5170.jpg হাড়িপাতিল বিক্রেতা\\n5171.jpg দুইটি শিশু\\n5172.jpg নদীতীরে বাঁধা নৌকা\\n5173.jpg  নদীই যাদের জীবন-জীবীকা \\n5174.jpg দুইটি সাদা বক\\n5175.jpg আমি মুক্ত, আমি স্বাধীন\\n5176.jpg বিদায় উৎসব\\n5177.jpg হলি উৎসবে রঙ খেলা\\n5178.jpg  লক্ষ তারার আকাশের নিচে আমার এ ছোট্ট কুটির\\n5179.jpg একজোড়া ছোট্ট পাখি\\n5180.jpg সোডিয়াম আলোয় আপন গন্তব্যের উদ্দেশ্যে\\n5181.jpg গাড়ির কাঁচে শহরের প্রতিচ্ছবি\\n5182.jpg একটি ছোট্ট ছেলের হাসিমাখা মুখ\\n5183.jpg একজন কিশোর, মাথায় বেতের ঝুড়ি\\n5184.jpg একটি ছেলে দাঁড়িয়ে আছে\\n5185.jpg একজন গায়ক গান গাচ্ছেন\\n5186.jpg একজন গায়ক গান গাচ্ছেন\\n5187.jpg একজন ড্রাম বাদক ড্রাম বাজাচ্ছেন\\n5188.jpg মিউজিসিয়ান  মিউজিক করছেন\\n5189.jpg একটি উৎসব মুখর রাত\\n5190.jpg একজন ড্রাম বাদক ড্রাম বাজাচ্ছেন\\n5191.jpg একজন গায়ক গান গাচ্ছেন\\n5192.jpg দুইবন্ধু গল্প করতে করতে হেটে যাচ্ছে\\n5193.jpg আপন চোখে দেখো পৃথিবী\\n5194.jpg তারা তিন বান্ধবী \\n5195.jpg একটি ছেলে জীপের ওপর বসে আছে\\n5196.jpg কুকুর যখন আতঙ্কের বিষয় হয়ে দাঁড়ায়\\n5197.jpg বন্ধুদের সাথে পাহাড়ে ভ্রমণ\\n5198.jpg গ্রামীণ কর্মজীবী নারী\\n5199.jpg কয়েকজন ছেলে ক্লান্ত হয়ে ঘুমুচ্ছে\\n5200.jpg কৃষক যান্ত্রিক উপায়ে ফসল তুলছে\\n5201.jpg পাখিরা যায়  নীরে \\n5202.jpg সাংস্কৃতিক সন্ধ্যা\\n5203.jpg জন্মদিনের অনুষ্ঠান\\n5204.jpg নৌকা ও নদী\\n5205.jpg নদীর দৃশ্য উপভোগ\\n5206.jpg  নদীর পাড়ে চিত্রগ্রহন\\n5207.jpg  প্রাকৃতিক দৃশ্য উপভোগ\\n5208.jpg  প্রকৃতি ও চিত্রগ্রহন\\n5209.jpg \\n5210.jpg \\n5211.jpg সন্ধ্যাকালীন প্রকৃতি \\n5212.jpg উত্তাল সমুদ্র  \\n5213.jpg একাকীত্ব আমি\\n5214.jpg  মায়াবী কুকুর \\n5215.jpg সমুদ্রের দৃশ ধারণ\\n5216.jpg  \\n5217.jpg উচ্ছ্বাসিত তরুন \\n5218.jpg \\n5219.jpg \\n5220.jpg \\n5221.jpg মঞ্চ নাটকের এক অংশ \\n5222.jpg \\n5223.jpg \\n5224.jpg বিভিন্ন ধরনের খাবার\\n5225.jpg দুধ পানরত কুকুর ছানা\\n5226.jpg বিভিন্ন সময়ের মুদ্রা\\n5227.jpg \\n5228.jpg ফানুশ উড়ানো\\n5229.jpg \\n5230.jpg \\n5231.jpg \\n5232.jpg \\n5233.jpg \\n5234.jpg \\n5235.jpg নীল চোখের কুকুর ছানা \\n5236.jpg ঝর্ণা বিলাস\\n5237.jpg  চকলেট ও প্রসাধনী \\n5238.jpg কফি ও বন্ধুত্ব \\n5239.jpg \\n5240.jpg \\n5241.jpg \\n5242.jpg \\n5243.jpg \\n5244.jpg \\n5245.jpg \\n5246.jpg \\n5247.jpg \\n5248.jpg \\n5249.jpg \\n5250.jpg \\n5251.jpg ঘুড়ি উড়ানোর পূর্ব প্রস্তুতি \\n5252.jpg চৈত্র সংক্রান্তির ঘুড়ি খেলা\\n5253.jpg  \\n5254.jpg \\n5255.jpg \\n5256.jpg \\n5257.jpg \\n5258.jpg \\n\\n5259.jpg বর্ণিল সাজে সজ্জিত শহর\\n5260.jpg  \\n5261.jpg \\n5262.jpg \\n5263.jpg \\n5264.jpg \\n5265.jpg \\n5266.jpg বৃক্ষ ও মানব \\n5267.jpg \\n5268.jpg \\n5269.jpg চিত্রগ্রহনে ব্যস্ত তরুণ \\n5270.jpg \\n5271.jpg \\n5272.jpg নদীতে শাপলা \\n5273.jpg \\n5274.jpg \\n5275.jpg \\n5276.jpg শাপলার সম্রাজ্জ \\n5277.jpg \\n5278.jpg আলো ও আধার\\n5279.jpg  \\n5280.jpg গোলাপের তোড়া\\n5281.jpg \\n5282.jpg \\n5283.jpg \\n5284.jpg \\n5285.jpg ধুলাময় শহর\\n5286.jpg  \\n5287.jpg \\n5288.jpg মৌমাছির মধু সংগ্রহ\\n5289.jpg \\n5290.jpg গাড়ি পরিস্কারত ব্যাক্তি\\n5291.jpg \\n5292.jpg \\n5293.jpg \\n5294.jpg বিদায়বেলার রঙ খেলা\\n5295.jpg  \\n5296.jpg \\n5297.jpg \\n5298.jpg \\n5299.jpg \\n5300.jpg নির্জন পুকুর পাড়ে মেয়েটি একা একা বসে আছে\\n5301.jpg একটি  প্রাচীন  দালান। \\n5302.jpg এখানে বিয়ের সাজে সাজা একটি মেয়ের হাত দেখা যাচ্ছে\\n5303.jpg বিয়ের সাজে সাজা একটি মেয়ে হাত দিয়ে একটি বাক্স ধরে আছে\\n5304.jpg এখানে বিয়ের সাজে সাজা একটি ছেলে এবং একটি মেয়ে একে অপরের হাত ধরে আছে\\n5305.jpg নবদম্পতির সাথে পরিবারের সবাই একসাথে ছবি তুলছে\\n5306.jpg এখানে একজন মানুষকে ছবি তুলতে দেখা যাচ্ছে\\n5307.jpg একটি বাচ্চা মেয়ে ঘাসের মধ্যে মন খারাপ করে গালে হাত দিয়ে শুয়ে আছে\\n5308.jpg লম্বা ঘাসের মধ্যে দাঁড়িয়ে বাচ্চা মেয়েটি একা হাসছে\\n5309.jpg একটি গাছের পাতার উপরে বিভিন্ন রঙের আলো ফেলা হয়েছে\\n5310.jpg কুয়াশাচ্ছন্ন মহাসড়কে কিছু গাড়ি চলতে দেখা যাচ্ছে\\n5311.jpg জানালায় রাখা একটি পুতুলের উপর রোদ পড়ছে\\n5312.jpg এখানে একটি মোবাইল ফোনের সাথে একটা ছোট পুতুল দেখা যাচ্ছে\\n5313.jpg মোবাইল ফোনসহ ছোট পুতুলটিকে বিছানার উপরে রাখা হয়েছে\\n5314.jpg বিভিন্ন ধরনের আলোয় সাজানো রাস্তায় একটি বাচ্চা ছেলে তার বাবার হাত ধরে হাটছে\\n5315.jpg আকাশে উড়তে থাকা একটি ঘুড়ির পাশে কৌতুহলী একটি পাখিকে দেখা যাচ্ছে।\\n5316.jpg কাশবনে ফুল ফুটেছে\\n5317.jpg একটি মরা গাছের মাথায় ফড়িং বসে আছে\\n5318.jpg ঘাসফুল থেকে প্রজাপতি মধু সংগ্রহ করছে\\n5319.jpg একটি লোক হাতে একটি লাঠি নিয়ে হেটে যাচ্ছে\\n5320.jpg বড় একটি ছাতার নিচে বানানো দোকানে দোকানদার বসে আছে\\n5321.jpg ইটের দেয়ালের মাঝে তিনজন মানুষ এবং আশেপাশে কিছু ধোয়া দেখা যাচ্ছে\\n5322.jpg ছোট ইটের দেয়ালের উপর একজন মানুষ ঘুমাচ্ছে\\n5323.jpg দূরে দাঁড়িয়ে থাকা কিছু গাড়ির পাশে দুইজন মানুষ দেখা যাচ্ছে\\n5324.jpg নদীর পাশে ফুটে থাকা একগুচ্ছ কাশফুল\\n5325.jpg একটি কাশফুল এবং পিছনে নীল আকাশ দেখা যাচ্ছে\\n5326.jpg ব্রিজের উপর থেকে কিছু ছেলে নদীতে লাফ দিচ্ছে\\n5327.jpg সবাই ব্রিজ থেকে লাফিয়ে পানিতে পড়ার পর শেষ ছেলেটা লাফ দেওয়ার জন্য প্রস্তুত\\n5328.jpg একটা ছেলে একটু দূরে বসে বাকি ছেলেদের পানিতে লাফ দেওয়া দেখছে\\n5329.jpg বাজারে বিক্রির জন্য এক থোকা আঙুর রাখা হয়েছে\\n5330.jpg কিছু ইলেকট্রিক মিটার এবং সার্কিট দেখা যাচ্ছে।\\n5331.jpg একটি গাড়ির ভাঙা কাচের মধ্যে দিয়ে বাইরের রাস্তা দেখানো হয়েছে\\n5332.jpg বৃষ্টিতে ভিজে আছে উঠান আর সব আসবাবপত্র\\n5333.jpg কালো মেঘের মাঝখানে চাঁদকে দেখা যাচ্ছে \\n5334.jpg নদীর পাড়ে দাঁড়িয়ে থাকা একটি মেয়ের চুড়ি পড়া হাত দেখা যাচ্ছে\\n5335.jpg গাছে কিছু ফল দেখা যাচ্ছে\\n5336.jpg স্মৃতি ভাস্কর্যের নিচে দুইটি ছেলেকে বৃষ্টিতে ভিজতে দেখা যাচ্ছে\\n5337.jpg একটি ব্যস্ত রাস্তায় গাড়ি চলছে\\n5338.jpg নদীর মাঝখানে একটি ছোট নৌকা দেখা যাচ্ছে\\n5339.jpg ব্যস্ততম একটি রাস্তায় অনেক মানুষ আর রিক্সা-গাড়ির ভিড় দেখা যাচ্ছে\\n5340.jpg ব্যস্ত রাস্তায় শত শত মানুষ\\n5341.jpg স্মৃতিসৌধের সামনে একটি মেয়ে দাঁড়িয়ে আছে\\n5342.jpg ছবিতে একজন মানুষের হাতে ধরে রাখা একটি ছোট গাছ দেখা যাচ্ছে এবং পিছনে আরো দুইজন মানুষ দেখা যাচ্ছে \\n5343.jpg একটি বক্সে খাবার রাখা আছে\\n5344.jpg একটি ছাতা রাখা আছে এবং নিচে পানিতে ছাতার ছায়া দেখা যাচ্ছে\\n5345.jpg সিড়িতে একটি কুকুর শুয়ে ঘুমাচ্ছে \\n5346.jpg দূর আকাশে সূর্য অস্ত যাচ্ছে\\n5347.jpg পুকুরে নামার সিড়ি দেখা যাচ্ছে \\n5348.jpg উপর থেকে এক এক করে পানির ফোটা পড়তে দেখা যাচ্ছে \\n5349.jpg একটি খালি ক্লাসরুম\\n5350.jpg রাস্তায় ছাতা মাথায় দাড়িয়ে থাকা একজন ট্রাফিক পুলিশকে দেখা যাচ্ছে\\n5351.jpg বাসের জানালা থেকে একটি গাড়ি দেখা যাচ্ছে \\n5352.jpg একজন লোক মাঠে ঘাস কাটছে\\n5353.jpg তিনটি ছেলে মেলা থেকে খেলনা বাশি কিনেছে\\n5354.jpg একজন লোক মঞ্চে দাঁড়িয়ে বক্তৃতা দিচ্ছেন\\n5355.jpg একটি বাচ্চা মেয়ে দরজার বাইরে দাঁড়িয়ে আছে \\n5356.jpg একটি উচু দালানের পিছনে সূর্য দেখা যাচ্ছে\\t\\n5358.jpg কাটাতারের বেড়ার পাশে কিছু বিমান দেখা যাচ্ছে\\n5359.jpg লম্বা বাশের উপরে একটি মাইক লাগানো আছে\\n5360.jpg চিকন পাতার উপরে একটি মথ বসে আছে \\n5361.jpg ছাদে কিছু মানুষ দাড়িয়ে আছে \\n5362.jpg সবুজ পাতার উপরে একটি প্রজাপতি বসে আছে\\n5363.jpg লঞ্চের বারান্দায় একটি লোক দাঁড়িয়ে আছে\\n5364.jpg চিকন পাতার উপর পানির ফোটা জমে আছে\\n5365.jpg স্মৃতি ভাস্কর্যের পাশে কিছু মানুষ বসে আছে \\n5366.jpg একটি উচু নির্মানাধীন দালানের ছাদে দুইজন মানুষ দাঁড়িয়ে আছে\\n5367.jpg দূরের রাস্তায় দুটি ট্রাক যাচ্ছে\\n5368.jpg দুটি রঙীন পাতা দেখা যাচ্ছে \\n5369.jpg নদীতে একটি ইঞ্জিনের নৌকা চলছে \\n5370.jpg নৌকায় বসে থাকা একটি মেয়ের হাতে একটি ফুলের পাপড়ি দেখা যাচ্ছে\\n5371.jpg একজন লোকের কাছে দুটি মেয়ে হাত দেখাতে এসেছে \\n5372.jpg ভাস্কর্যের সামনে অনেক মানুষ আর কিছু বেলুন দেখা যাচ্ছে\\n5373.jpg দূরের দিগন্তে সূর্য উঠছে\\n5374.jpg ইটের দেয়ালে একটা মানুষ ঘুমিয়ে আছে \\n5375.jpg টেবিলের উপর একটি চশমা রাখা আছে\\n5376.jpg মাটিতে অসংখ্য ফুল আর পাতা পরে আছে \\n5377.jpg একটি লোহার ঢাকনার পাশে একটি গাছ দেখা যাচ্ছে \\n5378.jpg একটি বন্ধ গেট দেখা যাচ্ছে\\n5379.jpg একটি কুকুর তার মালিককে চিনে নিচ্ছে\\n5380.jpg একটি উচু দালান নির্মাণ করা হচ্ছে\\n5381.jpg মাটিতে দুটি পিপড়া দেখা যাচ্ছে\\n5382.jpg গোধূলী আলোয় কিছু মানুষ ব্রিজে দাড়িয়ে আছে\\n5383.jpg দুইজন মানুষ সিড়ি দিয়ে ব্রিজে উঠছে\\n5384.jpg আগুনের সামনে একজন মানুষের পা দেখা যাচ্ছে\\n5385.jpg রাতের অন্ধকারে রাস্তায় একজন মানুষ দাঁড়িয়ে আছে\\n5386.jpg পানিতে দূরের ব্রিজটির ছায়া দেখা যাচ্ছে\\n5387.jpg পাতার উপর বৃষ্টি পড়ছে\\n5388.jpg প্লেটে রাখা একটি আইসক্রিম\\n5389.jpg গাছের চারাগুলোকে বাচানোর জন্য উপরে জাল দেওয়া হয়েছে\\n5390.jpg মাটিতে একটি ছড়ানো সবুজ পাতা দেখা যাচ্ছে\\n5391.jpg একজন মানুষ লোহার জালের বেড়া ধরে দাঁড়িয়ে আছে\\n5392.jpg বাসের মধ্যে কিছু যাত্রী\\n5393.jpg খালি স্টেশানে একটি ট্রেন দেখা যাচ্ছে\\n5394.jpg লেকের উপর গাছে ফুল ফুটে আছে \\n5395.jpg কচুপাতার উপরে বিন্দু বিন্দু পানি জমে আছে\\n5396.jpg খেলার মাঠের পাশে একটি কুকুর শুয়ে বিশ্রাম নিচ্ছে\\n5397.jpg টেবিলের উপরে চা আর বিস্কুট রাখা আছে\\n5398.jpg খালি রাস্তা দিয়ে দুইজন মানুষ হেটে যাচ্ছে\\n5399.jpg পার্কে দুইজন মানুষকে বসে থাকতে দেখা যাচ্ছে\\n5400.jpg দোলনায় একটি বাচ্চা মেয়ে দুলছে\\n5401.jpg ড্যাফোডিল ইউনিভার্সিটির কয়েকটি বাস দেখা যাচ্ছে\\n5402.jpg টায়ারের কেন্দ্রে কিছু সুন্দর ফুল\\t\\n5404.jpg ঝুলন্ত তিনটি ফুলের টব দেখা যাচ্ছে\\n5405.jpg পার্কের পাশে কিছু সুন্দর ফুলের গাছ\\n5406.jpg কিছু ফুলের পাশে একটি ফুলদানি পড়ে আছে\\n5407.jpg পানিতে কয়েকটি মাছ ভেসে আছে\\n5408.jpg টায়ারের কেন্দ্রে টবে সাজানো কিছু ফুল গাছ\\n5409.jpg ঝুলন্ত টায়ারের কেন্দ্রে সাজানো কিছু ফুল গাছ\\n5410.jpg শিশু ফেরিওয়ালা দাড়িয়ে আছে\\n5411.jpg একজন লোক বাবল ফুলাচ্ছে\\n5412.jpg একজন বি এস সি কমপিউটার ইঞ্জিনিয়ার রাস্তায় মধু বিক্রি করছে\\n5413.jpg একজন লোক বিষণ্ণ হয়ে বসে আছে\\n5414.jpg একটি ব্যাঙ আবর্জনার মধ্যে বসে আছে \\n5415.jpg ব্রীজের উপর একটি ছেলে দাঁড়িয়ে আছে\\n5416.jpg একটি মেয়ে বাসার দরজার সামনে বসে আছে\\n5417.jpg নদীর পারে একটি বাড়ির ধ্বংসাবশেষ দেখা যাচ্ছে\\n5418.jpg ফাকা রাস্তার উপর একটা হাতঘড়ি পড়ে আছে\\n5419.jpg কিছু উপহার একটি শার্ট সানগ্লাস রুমাল ও কিছু বই\\t\\n5421.jpg একটি পিঁপড়া দেখা যাচ্ছে \\n5422.jpg একটা প্রজাপতি পাতার উপর বসে আছে\\t\\n5424.jpg গাছের শুকনা ডালে দুটি মাছি বসে আছে\\n5425.jpg ঝরে পড়া শুকনা পাতার উপর একটি পোকা দেখা যাচ্ছে\\n5426.jpg পানিতে দুটি হাঁস দেখা যাচ্ছে\\t\\n5428.jpg নদীর উপর ব্রীজ দেখা যাচ্ছে\\n5429.jpg ব্যাস্ত একটি রাস্তায় মানুষ ও রিক্সা ভ্যান চলাচল করছে\\n5430.jpg পুকুরের পাড়ে একজন লোক বসে আছে\\n5431.jpg রেষ্ট্রুরেন্টে একজন লোক বসে আছে\\n5433.jpg পান্তা ইলিশের প্লেটে শুভ নববর্ষ লেখা\\n5434.jpg বাংলাদেশের পতাকা হাতে কিছু লোকের আনন্দ মিছিল\\n5435.jpg বাংলাদেশের পতাকা হাতে হাস্যজ্জ্বল এক শিশু\\n5436.jpg কোকাকোলার কয়েকটি খালি কাঁচের বোতল\\n5437.jpg ফাকা রাস্তায় ঝড়ে পড়া শুকনা পাতা\\n5438.jpg একটি ছেলে দূরবীন দিয়ে উপর দিকে দেখছে\\n5439.jpg রাস্তায় দাঁড়িয়ে একটি ছেলে দূরবীন দিয়ে দেখছে\\n5440.jpg একটি তাবুতে কয়েকজন স্কাউট সদস্য ও দুই শিশু দেখা যাচ্ছে \\n5441.jpg কয়েকটি তাবু দেখা যাচ্ছে\\t\\n5443.jpg তাবুর সামনে একজন স্কাউট সদস্য দাঁড়িয়ে আছে\\t\\n5445.jpg দলগত ভাবে কিছু স্কাউট সদস্য কাজ করছে\\t\\n5452.jpg কিছু ব্যাগ দেখা যাচ্ছে\\n5453.jpg বাস ভর্তি যাত্রী দেখা যাচ্ছে\\t\\n5458.jpg ট্রেনের জানালা দিয়ে মাথা বের করে একজন লোক ছবি তুলছে\\t\\n5461.jpg বাগানে ফুল হাতে একজন লোক দাঁড়িয়ে আছে\\n5462.jpg গোলাপ ফুলের বাগানে একজন লোক বসে আছে\\n5463.jpg একজন লোক দোলনায় দোল খাচ্ছে\\n5464.jpg একজন লোক ঘোরার পিঠে বসে আছে\\t\\n5466.jpg পাতা ঝড়ে যাওয়া একটি গাছ\\t\\n5472.jpg ট্রেনের ছাদে সামনে দুটি ছেলে দেখা যাচ্ছে \\n5473.jpg একজন লোক কাঁধে কলা নিয়ে যাচ্ছে\\n5475.jpg তীরে অনেকগুলো নৌকা বাঁধা আছে \\t\\n5477.jpg দুইজন মহিলা কলসী হাতে পানি আনতে নদীতে আসছে ও কিছু মহিলা পানি নিয়ে যাচ্ছে\\n5479.jpg একজন লোক গরু নিয়ে যাচ্ছে \\n5480.jpg স্পীডবোর্ডে কয়েকজন লোক যাচ্ছে\\t\\n5486.jpg সূর্যোদয়\\n5487.jpg ছেলেরা মাঠে ফুটবল খেলছে\\n5488.jpg একটি দাবার বোর্ড\\n5489.jpg একটি কবুতর বসে আছে\\n5490.jpg একজন জেলে তার মাছ ধরার জাল ঠিক করছে\\t\\n5492.jpg খাঁচায় দুটি পাখি বসে আছে \\n5493.jpg একটি প্রতিবন্ধী পথশিশু রেললাইনে বসে আছে \\n5495.jpg দুইজন লোক নৌকায় পেয়ারা নিয়ে যাচ্ছে\\n5496.jpg একজন লোক নৌকায় পেয়ারা নিয়ে যাচ্ছে\\t\\n5500.jpg নৌকায় বসে একজন বৃদ্ধ ধূমপান করছে\\n\\n\\n5669.jpg রাস্তায় হেলমেট রেখে ছেলেটা পূজা করছে\\n5670.jpg পিচ্চি মেয়েটা শাড়ি,চুড়ি পরে শোকেসের উপর উঠে বসে আছে \\n5671.jpg একটি হারিকেন ঝুলছে এবং পিছনে লেকের মধ্যে বোটে করে মানুষ ঘুরছে\\n5672.jpg সরষে ক্ষেতের মাঝে দাঁড়িয়ে ছোট মেয়েটি হাসছে\\n5673.jpg মাটিতে রাখা ব্যাটমিন্টনেট উপরে একটি কক\\n5674.jpg অনেকগুলো ছেলেমেয়ে একসাথে বসে আছে\\n5675.jpg দাঁড়িয়ে থাকা মেয়ে গুলো বসে থাকা মানুষদের ফুল দিচ্ছে\\n5676.jpg মেয়েটি আরেকটা মেয়ের হাতে মেহেদী দিয়ে দিচ্ছে\\n5677.jpg কার্পেটের উপর বসে ছেলেটি ছবি আঁকছে\\n5678.jpg ছেলে গুলো নদীতে গোসল করছে\\n5679.jpg একটি ঠেলাগাড়ি\\n5680.jpg দোকানের সামনে ছোট ছেলেটা দাঁড়িয়ে আছে\\n5681.jpg ছেলেটা ফুটপাতের দোকানের কাপড় দেখছে\\n5682.jpg কচুপাতার পানির উপর একটি ব্যাঙ বসে আছে\\n5683.jpg প্লাস্টিকের ফুল বোঝাই একটি রিকশা\\n5684.jpg গাঁদা ফুলের উপর মৌমাছি বসেছে\\n5685.jpg পোড়া মুরগী চারপাশে গোল হয়ে ছেলেগুলো মাটিতে বসে আছে\\n5686.jpg একজন মানুষ জোড়াকলা ধরে আছে\\n5687.jpg অনেক রকমের প্লাস্টিকের বাক্স\\n5688.jpg একটি আলপনা\\n5689.jpg ছোট বাচ্চাটি হাসছে\\n5690.jpg বটগাছের নিচে একটি ছেলে বিক্রির জন্য খেলনা নিয়ে বসে আছে\\n5691.jpg গ্রামের রাস্তা দিয়ে লোকটি সাইকেল নিয়ে হাঁটছে\\n5692.jpg শাপলা ফোঁটা পুকুর পারে মেয়ে দুটি বসে আছে\\n5693.jpg সূর্যের আলো পরে ছেলে মেয়ে দুটিকে ঘোলা দেখাচ্ছে\\n5694.jpg গালে হাত দিয়ে ছেলেটা বসে আছে\\n5695.jpg আয়নায় দুটি মানুষকে দেখা যাচ্ছে\\n5696.jpg রাস্তায় অনেক গুলো মানুষের পা ও একটি কুকুর দেখা যাচ্ছে\\n5697.jpg দোতলা বাসের ভিতরে ও বাইরে অনেক মানুষ\\n5698.jpg জামাই বউ সাজানো ছোট দুটি পুতুল সাজানো ডালার মধ্যে\\n5699.jpg গাড়ির ভিতর একটি মেয়ে বসে আছে\\n5700.jpg স্টেডিয়ামের একটি চেয়ারে একটি লোক বসে আছে\\n5701.jpg শেওলা পরা ইটের উপর গাছ জন্মেছে\\n5702.jpg একটু শুকনো পাতার ডাল\\n5703.jpg বালির উপর একটি মেয়ে হাঁটছে\\n5704.jpg তোয়ালে গায়ে পেঁচানো একটি বাচ্চা মেয়ে সাবানের বুদবুদ তৈরি করছে\\n5705.jpg চানাচুরওয়ালার সরঞ্জাম \\n5706.jpg রেলিঙের উপর কয়েকটি কাক বসে আছে\\n5707.jpg ট্রাকের পিছনে পোস্টার লাগানো\\n5708.jpg বিছানার উপর দুটি মোরগ মুরগী বসে আছে\\n5709.jpg ছেলেটি বাচ্চা মেয়েটিকে কোলে নিয়ে একটি রাম দা হাতে নিয়ে এবং সামনে আরো কিছু দা,বটি নিয়ে বসে আছে \\n5710.jpg জন্মদিনের আয়োজন করা হয়েছে\\n5711.jpg একটা কুকুর ও বিড়াল দাঁড়িয়ে আছে\\n5712.jpg সুইমিংপুলে বাচ্চাটি বাবার কোলে বসে আছে\\n5713.jpg একটি বক দাঁড়িয়ে আছে\\n5714.jpg বড় মেয়েটি চোখ বন্ধ করে ছোট বাচ্চাগুলোর সাথে কানামাছি খেলছে\\n5715.jpg কৃষক ট্রাক্টর দিয়ে জমি চাষ করছে\\n5716.jpg মুখের সামনে মুখোশ নিয়ে মেয়েটি দাঁড়িয়ে আছে\\n5717.jpg শাপলা ফোটা বিলে ডিঙি নৌকার উপর একটি ছেলে ও মেয়ে বসে আছে\\n5718.jpg শাপলা ফোটা বিলে ডিঙি নৌকার উপর বসে মেয়েটি আলতা রাঙা পা ঝুলিয়ে রেখেছে\\n5719.jpg খালের পাশ দিয়ে উপজাতি মহিলাটি কাঁধে বেতের ঝুড়ি নিয়ে হাঁটছে\\n5720.jpg অনেক শুটকি নিয়ে লোকটি বিক্রির জন্য বসে আছে\\n5721.jpg একটি লোক দোকানে বসে আছে\\n5722.jpg নদীর পাড়ে একটি লোক চাদর গায়ে দিয়ে বসে আছে\\n5723.jpg নদীতে বাঁশ বেঁধে ভাসিয়ে দেয়া হয়েছে\\n5724.jpg পেয়ারার উপর মাথা রেখে ছেলেটি নৌকায় শুয়ে আছে\\n5725.jpg একজন মহিলা পাটায় মেহেদী বাটছে\\n5726.jpg একটি বড় ও দুটি ছোট মেয়েকে মাঝে রেখে অন্য মেয়েগুলো চারিদিকে গোল হয়ে বসে আছে\\n5727.jpg মেঝেতে বসে তিনটি মেয়ে কাগজ কাটছে\\n5728.jpg দেয়ালের সামনে দুজন লোক পূজোর জিনিসপত্র নিয়ে বসে আছে\\n5729.jpg পূজোর জিনিসপত্র\\n5730.jpg মহিলারা গাছের সামনে মোমবাতি জ্বালিয়ে ও সিঁদুর রেখে পূজো দিচ্ছে\\n5731.jpg ঘাসের উপর ছোট বাচ্চার একজোড়া জুতো\\n5732.jpg ছেলেটা তার মাকে সালাম করছে\\n5733.jpg ছেলেটা তার বাবাকে সালাম করছে\\n5735.jpg বাবা মা দুজন মিলে ছেলের পাগড়ি ঠিক করে দিচ্ছে\\n5736.jpg ডালার ভেতরে ফুল ও টাকা রাখা\\n5737.jpg মাথায় হাত দিয়ে চোখ বন্ধ করে ছেলেটা বসে আছে\\n5738.jpg কয়েকটি ছেলে একসাথে খাবার টেবিলে বসে খাবার খাচ্ছে\\n5739.jpg বিয়ের কনের পাশে দুটি ছেলে দাঁড়িয়ে আছে\\n5740.jpg রঙিন দেয়ালের সামনে একটি ছেলে ও মেয়ে দাঁড়িয়ে আছে\\n5741.jpg আয়নায় দুজন মানুষকে দেখা যাচ্ছে\\n5742.jpg রাস্তার পাশে একটি লাল রংয়ের টিনের চালার ঘর\\n5743.jpg বালির উপর একজন স্যান্ডেল খুলে দাঁড়িয়ে আছে\\n5744.jpg টাইলসের উপর বসে ছেলে মেয়ে গুলো ছবি আঁকছে\\n\\n\\n\\n6001.jpg অন্ধকার রাতে আগুন জ্বলছে তিনটা তাঁবুর পাঁশে\\n6002.jpg পানির তীরে বালির উপর মানুষজন এসে আনন্দ করছে,সময় কাটাচ্ছে\\n6003.jpg পানির তীরে ময়লা-আবর্জনা ঘীরে রয়েছে নৌকা,কিছু মানুষজন পানির মধ্যে আনন্দ করছে\\n6004.jpg এক পাঁশে মরা গাছ পালা অপরদিকে পাহাড় কেটে রাস্তার মাঝে দিয়ে চলে গেছে সরু রাস্তা\\n6005.jpg পিছনে জঙ্গল থেকে বেরিয়ে এসে নদীর তীরে পানি পান করছে কিছু হরিণ\\n6006.jpg কারিগর দ্বারা তৈরি কিছু মাটির জিনিস\\n6007.jpg মাটির তৈরি কিছু বাটি রাখা উঠানে\\n6008.jpg রাস্তার ওপারে বাড়ি-ঘর আর জঙ্গল আর এপাশে রাস্তার ধাঁরে রাখা তিনটি মোটর সাইকেল\\n6009.jpg আশেপাশে জঙ্গল আর পানির মাঝে এক বিশাল গাছ\\n6010.jpg গাছের চুড়ায় কিছু বক জাতীয় পাখি\\n6011.jpg পানির মধ্যে দিয়ে বেঁয়ে উঠেছে ঘন গাছপালা\\n6012.jpg দুইপাশে ঘন জঙ্গল আর মাঝে পানির মধ্যে দিয়ে চলে যাচ্ছে নৌকা-ভর্তি মানুষ\\n6013.jpg পানির উপর রয়েছে দুটো নৌকা এবং দূরে দেখা যাচ্ছে পাহাড়-পর্বত\\n6014.jpg দূরে গ্রাম-জঙ্গল,নদীর উপর দিয়ে চলছে নৌকা এবং উড়ে যাচ্ছে একটি পাখি\\n6015.jpg সমুদ্রের দৃষ্টি পানে চেয়ে আছে কাধে ব্যাগ নিয়ে একটি মেয়ে\\n6016.jpg কোলের উপর ব্যাগ রেখে হাতে কাগজের এক মুঠো বাদাম\\n6017.jpg রাস্তার পাঁশে এক লোকের কাছে বাদাম বিক্রি করছে বাদামওয়ালা\\n6018.jpg খোলামেলা জাগায় রয়েছে কিছু বসার চেয়ার,আশেপাঁশে রয়েছে গাছপালা\\n6019.jpg ফুল ফুঁটা কচুরিপানার উপর ঝুঁকে রয়েছে একটি গাছ\\n6020.jpg পাকা ঘর বাড়ির আশেপাঁশে সবুজ ঘাস আর একটি গাছ\\n6021.jpg পাহাড় চুড়ায় জাতীয় পতাকা হাতে একটি তরুণী,দুরে দেখা যাচ্ছে আরো পাহাড়-পর্বত\\n6022.jpg পাহাড় এর মাঝে দিয়ে চলে উঠেছে সিঁড়ি বেঁয়ে রাস্তা\\n6023.jpg ঘন জঙ্গল আর পানির মধ্যে কিছু নৌকা\\n6024.jpg কাঁদা মাটির উপর কিছু গাছপালা,ঘরবাড়ী এবং রাখা আছে কিছু নৌকা\\n6025.jpg রাস্তার ধাঁরে রাখা দুটো রিকশা আর তার উপর বসে আছে দুটো লোক\\n6026.jpg খোলা মাঠে চলছে খেলার আয়োজন,আশেপাঁশে রয়েছে উৎসুক জনতার ভিড়\\n6027.jpg কাফের মধ্যে চলছে আড্ডা,চা পান,কাজ নিয়ে আলোচনা\\n6028.jpg ঘন গাছপালার মাঝে দিয়ে চলে গেছে একটি সেতু,সেতুর উপর রিকশা দাড়িয়ে ছবি তুলছে এক তরুণী\\n6029.jpg বালির উপর দুটো ডাবকে পড়িয়ে দেয়া হয়েছে সানগ্লাস\\n6030.jpg এপার থেকে ওপারে পানির উপর দিয়ে চলে গেছে বাঁশের গড়া সেতু\\n6031.jpg পানির তীরে রাখা একটি নৌকা,এবং পানির মধ্যে আনন্দ করছে দুটো মানুষ\\n6032.jpg রেলস্টেশন এ দুইপাশে ট্রেন এর মাঝে মাচার রাস্তা দিয়ে যাচ্ছে কিছু লোক\\n6033.jpg পাহাড়, ঝর্না এবং কিছু লোক\\n6034.jpg গাছের ডালে মৌমাছি\\n6035.jpg উড়জাহাজের পাঁশে দাড়িয়ে এক তরুণ\\n6036.jpg পানির তীরে ধাণক্ষেত,একটি চাষি আর একটি বাড়ি\\n6037.jpg পানির উপর দিয়ে চলে যাচ্ছে একটি প্রমোদ তরী\\n6038.jpg পানির উপর এক নৌকা থেকে আরেক নৌকায় পার হচ্ছে কিছু লোক\\n6039.jpg নৌকার উপর দুটো লোক এবং ঘিরে রয়েছে বেশ কিছু হাঁস\\n6040.jpg একটি গাছের পাঁশে ষাট গম্বুজ মসজিদ\\n6041.jpg সেতুর নিচ দিয়ে চলে যাওয়া রাস্তায় হাঁটছে তিনটি লোক\\n6042.jpg পানির তীরে বাঁধ ভাঙন,দাড়িয়ে দেখছে লোকজন\\n6043.jpg বন্যায় প্লাবিত রাস্তায় রিকশায় মালামাল নিয়ে যাচ্ছে এক রিকশাচালক\\n6044.jpg পানিতে এক পাল গরুর মাঝে ঝাঁপ দিচ্ছে এক তরুণ\\n6045.jpg রাস্তার দুইপারে চলছে অসংখ যানবাহন \\n6046.jpg জাতীয় সংসদ এর সামনে ঘাসের মাঝে একটি ফুল\\n6047.jpg পাহাড় কেটে বানানো একটি স্মৃতিস্তম্ভ এর সামনে পানি\\n6048.jpg রাস্তার উপর দিয়ে চলছে নানা রকম যানবাহন\\n6049.jpg ট্রেন এর উপর মানুষের ভিড় এবং ট্রেন এ উঠার আপ্রাণ চেষ্টা কিছু মানুষের\\n6050.jpg পানির উপর পাঁচটি নৌকা\\n6051.jpg জনবস্তির মাঝে দিয়ে চলে গেছে রেললাইন,বসে আছে কিছু মানুষজন\\n6052.jpg ট্রেন এর উপর মানুষের ভিড় এবং ট্রেন এ উঠার আপ্রাণ চেষ্টা কিছু মানুষের\\n6053.jpg বন্যায় প্লাবিত মানুষের ঘরবাড়ি,পানির মধ্যে দিয়ে হেঁটে যাচ্ছে কিছু মানুষ\\n6054.jpg বোতলে পানি জাতীয় দাব্র ভরতে ব্যস্ত দুই তরুণ\\n6055.jpg ধানক্ষেতের মাঝে দিয়ে হেঁটে যাচ্ছে দুটো লোক\\n6056.jpg ঘন কুয়াশ আর পাহাড় এর মাঝে একটি ঘর\\n6057.jpg রাস্তার এক পাশ দিয়ে চলে যাচ্ছে যানবাহন আর ধাঁরে বিক্রি হচ্ছে নানা রকম ফলমূল\\n6058.jpg পানির উপর নৌকায় বসে জাল টেনে মাছ তুলছে এক নারী\\n6059.jpg পানির উপর নৌকায় বসে আছে কিছু মানুষ\\n6060.jpg সারিবোধ্য ভাবে বেঁধে রাখা কয়েকটি গরু\\n6061.jpg পানির মাঝে মোটরসাইকেল নিয়ে দাড়িয়ে আছে এক লোক সাথে এক বালক\\n6062.jpg চাপকলের পানি ভরছে এক নারী,আরেক নারীর মাথায় পানি ভরা কলশী তুলে দিচ্ছে এক তরুণ\\n6063.jpg রাস্তা ভর্তি রিকসা আর যাত্রী\\n6064.jpg ভ্যান গাড়িতে ইট তুলছে দুইটি লোক\\n6065.jpg বাঁশের উপর দিয়ে পার হয়ে যাচ্ছে এক মুরব্বী\\n6066.jpg ময়লা আবর্জনার মাঝে ময়লা পানির মধ্যে দাড়িয়ে আছে এক মহিলা\\n6067.jpg শুকনো মরীচের চাষ করছে কিছু নারীর\\n6068.jpg নৌ ঘাঁটে নৌকার উপর চলছে কলা বিক্রি আর দাড়িয়ে আছে কিছু লোক\\n6069.jpg এক ত্রেতাকে চুড়ি দেখিয়ে দিচ্ছে এক বিত্রেতা\\n6070.jpg নৌকায় চলছে শাঁক-সব্জির বিক্রি\\n6071.jpg কমরে কলসি আর মাথায় থালা নিয়ে পথ দিয়ে হেঁটে যাচ্ছে এক নারী\\n6072.jpg রাস্তায় স্থির হয়ে দাড়িয়ে জানবাহন,উড়ছে পাখি,হচ্ছে বৃষ্টি\\n6073.jpg মাথায় খড় নিয়ে ধাণক্ষেতের মধ্যে দিয়ে হেঁটে যাচ্ছে এক চাষি\\n6074.jpg সূর্যদয় এর সময় পাতায় জমে আছে শিশির\\n6075.jpg দুই পারে নদীর কুল,মাঝে দিয়ে চলে গেছে রাস্তা,দাড়িয়ে আছে কিছু যানবাহন\\n6076.jpg দুইপাশের পাহাড় পর্বত এর মাঝে দিয়ে চলে গেছে পানি আর পাঁথর\\n6077.jpg পাহাড় দিয়ে পড়ছে ঝর্না\\n6078.jpg নদীর মাঝে দুটো নৌকা\\n6079.jpg দুটো গরু নিয়ে যাচ্ছে এক চাষি\\n6081.jpg পিচঢালা রাস্তায় একটি মোটরসাইকেল চলছে এবং ওটার সামনের দিক দেখা যাচ্ছে\\n6088.jpg দুপাশের সবুজ গাছপালার মাঝ দিয়ে দুটি মোটরসাইকেল চলছে\\n6096.jpg বাড়ির পাশের পিচঢালা রাস্তায় মোটরসাইকেল চলছে\\n6102.jpg রাস্তায় একটি হাতি একটি মোটরসাইকেলের গতিপথ আটকে দিয়েছে\\n6104.jpg রাস্তায় একটি হাতি একটি মোটরসাইকেলের গতিপথ আটকে দিয়েছে এবং রাস্তার পাশে মানুষ দাঁড়িয়ে তা দেখছে\\n6105.jpg রাস্তায় হাতির উপর একজন লোক বসে আছে সামনে একটি মোটরসাইকেলে দুজন হেলমেট পরা লোক বসে আছে\\n6108.jpg পিচঢালা রাস্তায় দাঁড়িয়ে একটি হাতি সুড় তুলে রেখেছে এবং সামনের মোটরসাইকেলে বসা লোকটা ছবি তুলছে\\n6120.jpg রাস্তায় দাঁড়ানো হাতিটি তার বিশাল বড় দাঁত দুটি দেখাচ্ছে\\n6123.jpg বড় বড় গাছের মাঝ দিয়ে পিচঢালা রাস্তায় মোটরসাইকেল চালাচ্ছে একজন\\n6135.jpg একজন লোক দুই হাতে জাল ধরে আছে এবং তার সামনে দুটি পিচ্চি ছেলে দাঁড়িয়ে আছে\\n6139.jpg একজন লোক নদীতে জাল ছুড়ে মারছে\\n6141.jpg নদীর পানির উপর মাছ ধরার জাল পরেছে\\n6144.jpg একজন লোক জালের রশি ধরে টানছে\\n6147.jpg পানির কাছে দুজন লোক ও পিচ্চি দাঁড়িয়ে আছে\\n6156.jpg একজন লোক পানির ভিতর থেকে জাল টেনে তুলছে\\n6159.jpg একজন মানুষ জাল থেকে কিছু বের করছে\\n6164.jpg একটি লোক বসে মাছ ধরার জাল ধরে আছে\\n6168.jpg প্যান্ট পরা একজন লোক তার খালি শরীর দেখাচ্ছে এবং চেয়ারে আরেকজন লোক বসে হাসছে\\n6175.jpg রাস্তায় একটি লোক হাঁটছে এবং পাশের নদীতে নৌকা রাখা\\n6183.jpg শুধু হাফপ্যান্ট পরা একটি লোক ব্যাগ কাঁধে নিয়ে রোদচশমা পরে পিচঢালা রাস্তায় হাঁটছে\\n6185.jpg টুপি পরে একজন লোক অন্য দিকে তাকিয়ে আছে এবং তার পিছনে আরেকজন দাঁড়িয়ে আছে\\n6188.jpg নদীর পাড়ে দুজন মানুষ দাঁড়িয়ে আছে\\n6191.jpg নদীর পাড়ে তিনজন মানুষ হাঁটছে\\n6195.jpg নদীর অল্প পানিতে একজন মানুষ দাঁড়িয়ে আছে এবং তার পিছনে আরেকজন মানুষ জাল নিয়ে দাঁড়িয়ে আছে\\n6197.jpg নীল আকাশের নিচে নদীর পাড়ে দুজন মানুষ দাঁড়িয়ে আছে\\n6198.jpg টুপি পরা লোকটি নদীর পাড়ে বসে আছে\\n6200.jpg নদীর পাড়ে একজন বসে আছে এবং অন্যরা দাঁড়িয়ে আছে\\n6201.jpg নদীর পাড়ে টুপি পরা লোকটি কিছু করছে এবং তার পাশে আরেকজন খালি গায়ে দাঁড়িয়ে আছে\\n6204.jpg নদীর উপর একটি ড্রোন উড়ছে\\n6209.jpg নদীর বাঁধের উপর কয়েকজন মানুষ একসাথে বসে আছে\\n6210.jpg কয়েকজন মানুষ একসাথে বসে আছে এবং ছোট ছেলেরা আশেপাশে দাঁড়িয়ে আছে\\n6216.jpg নদীর পাড়ে অনেক মানুষ বসে এবং দাঁড়িয়ে আছে\\n6221.jpg নদীর পাড় ঘেঁষে লম্বা রাস্তায় ছোট ছোট ঘর ও অনেক গাছপালা রয়েছে\\n6236.jpg নদীর পাড় ঘেঁষে লম্বা পিচঢালা রাস্তা \\n6237.jpg নদীর পাড়ে মানুষ বসে, দাঁড়িয়ে আছে এবং অনেকে গোসলও করছে\\n6240.jpg নদীতে কয়েকজন গোসল করছে এবং পাড়ে কিছু মানুষ ও কয়েকটি যানবাহন আছে\\n6248.jpg নীল আকাশের নিচে নদী, রাস্তা,গাছ,ঘরবাড়ি\\n6251.jpg মোটরসাইকেলের পাশে চারজন দাঁড়িয়ে আছে\\n6255.jpg টিনের ঘরের সামনে মোটরসাইকেলের পাশে চারজন দাঁড়িয়ে আছে\\n6257.jpg মোটরসাইকেলের পাশে চারজন দাঁড়িয়ে আছে এবং তাদের পিছনে একটি সিএনজি যাচ্ছে\\n6261.jpg পিচঢালা রাস্তার একপাশে টিনের ঘর,গাছ ও মানুষ\\n6266.jpg নীল আকাশের নিচে বিরাট বিল\\n6272.jpg নদীর পানিতে ছোট ছেলেরা গোসল করছে\\n6278.jpg অল্প পানিতে মানুষ দাঁড়িয়ে আছে\\n6280.jpg ছোট জাল নিয়ে দুজন মানুষ নদীর পাড়ে দাঁড়িয়ে আছে\\n6283.jpg নদীর পাড়ে বাঁধ দেয়া\\n6288.jpg নদীর পাড়ের বড় রাস্তায় ছেলেরা দৌড়াচ্ছে\\n6292.jpg রাস্তার পাশে একসারিতে অনেক গাছ\\n6296.jpg দুই পাশের পানির মধ্যে দিয়ে সরু লম্বা রাস্তা\\n6304.jpg প্রধান রাস্তার উভয় পাশ থেকে দুটি রাস্তা বের হয়ে গেছে\\n6322.jpg রাস্তার উপর কেউ দাঁড়িয়ে আছে,কেউবা বল দিয়ে খেলছে\\n6323.jpg একটি লোক দৌড় দিচ্ছে\\n6325.jpg লোকটা পানিতে ঝাঁপ দিচ্ছে\\n6326.jpg লোকটা পানিতে ঝাঁপিয়ে পড়েছে\\n6327.jpg একটি ছেলে পানির দিকে তাকিয়ে আছে\\n6328.jpg খালি গায়ের ছেলেটা হাসছে\\n6329.jpg ছেলে তিনটি দৌড়াচ্ছে\\n6330.jpg খালি গায়ের ছেলেটা সামনের দিকে তাকিয়ে আছে\\n6332.jpg ছেলেটা পানিতে লাফ দিচ্ছে\\n6333.jpg পানিতে লোকগুলো গোসল করছে\\n6334.jpg পানির উপরে ছেলেগুলোর মাথা দেখা যাচ্ছে শুধু\\n6338.jpg উলঙ্গ ছোট ছেলেটি পানিতে লাফিয়ে পরছে\\n6341.jpg বালতির মধ্যে কয়েকটি ছোট মাছ\\n6349.jpg একটা লোকের পায়ের কাছে জাল ফেলা এবং পাশের বালতিতে কয়েকটি ছোট মাছ\\n6351.jpg নদীর পাড়ে একটি ছেলে জালের রশি ধরে দাঁড়িয়ে আছে\\n6353.jpg নদীর পাড়ে দুজন মানুষ বসে আছে\\n6357.jpg নদীর পাড়ে তিনটি লোক সেলফি তুলছে\\n6367.jpg দুটি লোক বসে আছে এবং একটি লোক খালি গায়ে দাঁড়িয়ে আছে\\n6369.jpg নদীর পাড়ে তিনজন তিনদিকে তাকিয়ে আছে\\n6382.jpg দুটি লোক বসে আছে এবং তাদের পিছনে একটি লোক দাঁড়িয়ে আছে এবং পিছনে একটি অটোরিকশাও আছে\\n6383.jpg বুকপানিতে নেমে লোক দুটি চিপস হাতে নিয়ে দাঁড়িয়ে আছে \\n6384.jpg নদীতে পানির মধ্যে দাঁড়িয়ে লোক দুটি চিপস খাচ্ছে\\n6386.jpg একজন মানুষ চিপসের প্যাকেট হাতে ধরে হাত উঁচু করে রেখে পানিতে ডুব দিয়েছে\\n6391.jpg নদীর পাড়ে ইটের উপর কাপড় রাখা\\n6397.jpg নদীর পাড়ে একটি ছেলে কাজ করছে\\n6403.jpg নদীর পাড়ের রাস্তায় লোকটি মোটরসাইকেল চালাচ্ছে\\n6408.jpg নদীতে কিছু মানুষ গোসল করছে এবং কিছু মানুষ নৌকায় বসে আছে\\n6411.jpg নদীতে ডিঙি নৌকার উপর মানুষ বসে আছে\\n6416.jpg নদীতে দুটি নৌকা দুদিকে যাচ্ছে\\n6417.jpg পিচঢালা রাস্তায় একজন মানুষ মোটরসাইকেল চালাচ্ছে এবং দূরে দুটি টিনের ঘর দেখা যাচ্ছে\\n6418.jpg রাস্তার একপাশে নদীতে নৌকা চলছে\\n6419.jpg একজন লোক অটোরিকশা চালাচ্ছে\\n6420.jpg পিচঢালা রাস্তায় একটি মোটরসাইকেল চলছে এবং রাস্তার দুপাশে পানি\\n6448.jpg একজন মোটরসাইকেল চালাচ্ছে এবং তার পিছনে আরেকজন ব্যাগ নিয়ে বসে আছে\\n6449.jpg দোকানের পাশে মোটরসাইকেল নিয়ে লোক দুটি দাঁড়িয়ে আছে\\n6451.jpg রাস্তার পাশে ছোট ছোট ঘর\\n6458.jpg মোটরসাইকেলের সামনে একজন বয়স্ক মহিলা দাঁড়িয়ে আছে\\n\\n6461.jpg দুই হাতে মোটরসাইকেল ধরে আছে একজন মানুষ\\n6464.jpg ছনের ঘরের পাশ দিয়ে দুজন মোটরসাইকেল চালাচ্ছে\\n6465.jpg ছনের ঘরের পাশে একটি লোক ছাতা মাথায় দিয়ে দাঁড়িয়ে আছে\\n6466.jpg পাশাপাশি দুটি মোটরসাইকেল রাখা \\n6467.jpg একজন লোক নিজের মোটরসাইকেলের দিকে তাকিয়ে আছে\\n6470.jpg প্লেটে ভাত তরকারি রাখা\\n6473.jpg টেবিলের উপর খালি ভাতের গামলা এবং কয়েকটি তরকারির প্লেট রাখা\\n6474.jpg টেবিলের উপর খালি ভাতের গামলা,তরকারির পিরিচ ও লবন,মরিচের ডিব্বা রাখা\\n6480.jpg টেবিলের উপর ডালের বাটি,ভাতের প্লেট ও লবন দানী রাখা\\n6485.jpg একজন মানুষ প্লেটে ভাত মাখাচ্ছে\\n6488.jpg প্লেটের উপর সাদা ধবধবে ভাত\\n6489.jpg তিনজন মানুষের মাথা, হাত দেখা যাচ্ছে\\n6491.jpg দোকানের ভিতরে একটি লোক দাঁড়িয়ে আছে\\n6495.jpg পিচঢালা রাস্তায় একটি মোটরসাইকেল চলছে এবং রাস্তার একপাশে টিনের চালার ঘর এবং অন্য পাশে নদী\\n6500.jpg শাড়ি পরা দুজন মেয়ে মাইক হাতে নিয়ে দাঁড়িয়ে আছে\\n6501.jpg একজন মহিলা বেলুনের নিচে মাইক হাতে নিয়ে দাঁড়িয়ে আছে\\n6502.jpg ইটের দেয়ালের পাশে অনেকগুলো ছেলেমেয়ে বসে আছে\\n6503.jpg চেয়ারে বসে একটি ছেলে মাইক মুখের কাছে নিয়ে কথা বলছে এবং পাশেই একটি মেয়ে দাঁড়িয়ে আছে\\n6504.jpg একটি চেয়ারের দুপাশে দুটি ছেলেমেয়ে দাঁড়িয়ে আছে\\n6505.jpg বাসের সীটে দুটি ছেলে এক শালের নিচে ঘুমাচ্ছে\\n6506.jpg কাঠের দোতলা বাড়ির সামনে তিনটি ছেলে দাঁড়িয়ে আছে\\n6507.jpg অনেকগুলো ছেলে একসাথে একটি গাছের সামনে দাঁড়িয়ে আছে\\n6508.jpg মাটির উপর কয়েকজন মানুষের ছায়া পরেছে এবং দূরে পাহাড় ও মেঘ দেখা যাচ্ছে \\n6509.jpg একদল ছেলেমেয়ে একসাথে দাঁড়িয়ে ছবি তুলছে\\n6510.jpg দোতলা বিল্ডিংয়ের সামনে লম্বা একটি গাছের সামনে অনেক মানুষ জড়ো হয়েছে এবং তাদের সামনে একজন দাঁড়িয়ে তাদের ছবি তুলছে\\n6511.jpg কয়েকটি ছেলেমেয়ে সমুদ্রের তীরে পাথরের উপর বসে আছে\\n6515.jpg বালির উপর আগুন জ্বলছে এবং ওটার চারপাশে মানুষ গোল হয়ে বসে আছে\\n6516.jpg সমুদ্রের তীরে প্রবালের উপর চারজন মেয়ে দূরে দূরে দাঁড়িয়ে আছে\\n6517.jpg সেন্টমার্টিনের প্রবালের উপর দাঁড়িয়ে আছে চারটি যুবতী মেয়ে \\n6518.jpg নীল আকাশের নিচে সমুদ্রের তীরে প্রবালের উপর ছড়িয়ে ছিটিয়ে ছেলেমেয়ে গুলো দাঁড়িয়ে আছে\\n6519.jpg ফুলের পাপড়ির উপর পানির বিন্দু জমে আছে\\n6520.jpg পুকুরের ঘাটে একসাথে কয়েকটি নৌকা বাঁধা আছে\\n6521.jpg কয়েকটি ছেলেমেয়ে চেয়ারে বসে প্রোজেক্টরের মাধ্যমে সাদা বোর্ডে ছবি দেখছে\\n6523.jpg সবুজ ঘাসের উপর হলুদ,সাদা ছোট ফুল ফুটে আছে এবং একটি ছেঁড়া স্যান্ডেল পরে আছে\\n6524.jpg টেম্পুর সামনে সাইনবোর্ড রাখা\\n6525.jpg পিচঢালা রাস্তায় দুটি ছেলে হাঁটছে\\n6526.jpg মাথায় রঙ মাখা কুকুরটি রাস্তার জমে থাকা পানি খাচ্ছে\\n6527.jpg সবুজ গাছপালায় ঘেরা পিচঢালা রাস্তায় একটি রিকশা চলছে\\n6528.jpg একটি লোক ছাতার নিচে রাখা চেয়ারের সামনে দাঁড়িয়ে আছে\\n6529.jpg দেয়ালের উপর একটি বিড়াল বসে আছে\\n6530.jpg বালির উপর একটি শামুকের খোলস পরে আছে\\n6531.jpg আকাশে একটি বিমান উড়ছে\\n6532.jpg চায়ের কাপের ছবি আঁকা ট্রে এর উপরে প্লাস্টিকের গ্লাসে পাইপ সহ কফি রাখা আছে\\n6533.jpg নদীতে নৌকার উপর দাঁড়িয়ে আয়না দেখে একটি লোক চুল আঁচড়াচ্ছে\\n6534.jpg লিচু গাছের এক থোকায় অনেক গুলো লিচু ঝুলে আছে\\n6535.jpg ঘাট বাঁধানো পুকুরে একটি জলযান\\n6536.jpg দুজন কামার দোকানের ভিতরে লোহার কাজ করছে\\n6537.jpg নদীতে একজন মাঝি ডিঙি  নৌকা চালাচ্ছে\\n6538.jpg রেলস্টেশন ও রেলগাড়ীর পাশে কিছু মানুষ ঘোরাঘুরি করছে\\n6539.jpg গ্যালারীতে বসা দর্শক বাংলাদেশের জাতীয় পতাকা উড়াচ্ছে\\n6540.jpg গাছে ডালে ছোট বড় দুটি আম ঝুলছে\\n6541.jpg টেবিলের উপর একটি কাঁচের বোতল ও ফুলদানিতে ফুল রাখা\\n6542.jpg বধ্যভূমির সামনে দাঁড়িয়ে দুটি বাচ্চা আকাশে ফুলের পাপড়ি ছিটিয়ে দিয়ে খেলছে\\n6543.jpg ওভারব্রিজের উপর একজন মানুষ দাঁড়িয়ে আছে এবং নিচে যানবাহন চলছে\\n6544.jpg গোলাপ ফুল দিয়ে মাথার বন্ধনী বানানো হয়েছে\\n6545.jpg নদীতে ইঞ্জিনচালিত নৌকার সামনে একজন লোক দাঁড়িয়ে আছে\\n6546.jpg মেঘে ঢাকা আকাশের নিচে লোহার পাইপের উপরে বাংলাদেশের পতাকা লাগানো আছে\\n6547.jpg গাছের ডালে একটি পাখি বসে আছে\\n6548.jpg বিক্রির জন্য হরেক রকম জিনিস সাজানো আছে\\n6549.jpg বধ্যভূমির সামনে একটি খুলে রাখা গোলাপি ছাতার খানিকটা দূরে বাচ্চাটি দাঁড়িয়ে আছে\\n6550.jpg পুরাতন জমিদার বাড়ি\\n6551.jpg দোকানের ভিতরে টেবিলের উপর অনেক রকমের জিনিস রাখা এবং উপরের দিকে ব্যাগ ঝুলানো\\n6552.jpg সাদা দেয়ালে গোল সাদা ফ্রেমের উপর মানুষের মুখের ছবি আঁকা\\n6553.jpg একটি ছোট ছেলে ভ্যানের উপর বসে আছে এবং তার পিছনে একটি ছোট মেয়ে উল্টো ঘুরে দাঁড়িয়ে আছে ও সামনে একটি ছেলে কোদাল দিয়ে মাটি কোপাচ্ছে\\n6554.jpg গলায় ক্যামেরা,কাঁধে ব্যাগ নেয়া ছেলেটা একটা কুকুরের মাথায় হাত বুলিয়ে দিচ্ছে\\n6555.jpg দুটি চশমার সামনে একটি সাদা কাঠগোলাপ রাখা\\n6556.jpg সবুজ ডালের গাছ সবজি ঝুলাছে\\n6557.jpg একজন লোকের কাঁধের উপর একটি ছোট্ট বাচ্চা বসে আরেকজন মানুষের আঙুল ধরে আছে\\n6558.jpg পিচঢালা রাস্তার উপর একজন লোক লিখেছে\\n6559.jpg ঢাকা শহরের দালানকোঠার পাশে টিনের চালার ঘর \\n6560.jpg উঁচু বিল্ডিংয়ের উপর থেকে একটি মাটির ঘন্টা ঝুলছে\\n6561.jpg একটি ছেলে দুই হাতে একটি একশ টাকার নোট ধরে আছে\\n6562.jpg বটবৃক্ষের নিচে একজন মানুষ শুয়ে আছে এবং পাশেই আরেকজন লোক দাঁড়িয়ে আছে\\n6563.jpg ফুটপাতের পাশে রিকশার আসনে বসে হেলান দিয়ে মানুষটি ঘুমাচ্ছে \\n6564.jpg দুটি বাচ্চা ছেলে হাত ধরে হাঁটছে\\n6565.jpg দুজন মানুষ বসে তালের আহারী কাটছে\\n6566.jpg পুকুরের পাশে গাছের নিচে একটি কুমির মুখ হা করে রেখেছে\\n6567.jpg লোহার লাল সেতুর উপর রেললাইন \\n6568.jpg মেঘে ঢাকা আকাশের নিচে গাছপালা ও ঘরবাড়ি\\n6569.jpg একটা গরু ঘাস খাচ্ছে এবং ওটার উপর একটি পাখি বসে আছে\\n6570.jpg নদীর পাড়ে একটি ছেলে বসে আছে এবং তার কিছুটা দূরে একটি লোক বাঁশ হাতে নিয়ে হাঁটছে \\n6571.jpg সারি সারি চেয়ারের মধ্যে একটি চেয়ারে একটি ছেলে বসে আছে এবং তার সামনে আরেকটি ছেলে নাচছে\\n6572.jpg রাস্তার পাশে রাখা ময়লাী বালতিতে ময়লা রাখা\\n6573.jpg রাতের বেলা চেয়ারে একজন মানুষ বসে আছে এবং তার সামনে একটি লোক হাঁটছে\\n6574.jpg বাটির মধ্যে খোসা ছাড়ানো লিচু রাখা\\n6575.jpg খোলা মাঠে অনেকগুলো বাঁশের ঝুড়ি নিয়ে লোকগুলো বসে,দাঁড়িয়ে আছে\\n6576.jpg মঞ্চের উপর কয়েকজন ছেলে ও একটি মেয়ে দাঁড়িয়ে আছে\\n6577.jpg মঞ্চের উপর দুটি ছেলে ও দুটি মেয়ে দাঁড়িয়ে আছে\\n6578.jpg মঞ্চের উপর দুটি ছেলে একটি ক্রেস্ট হাতে নিয়ে হাসিমুখ করে দাঁড়িয়ে আছে\\n6579.jpg মঞ্চের উপর দাঁড়িয়ে একজন লোক একটি মহিলাকে ক্রেস্ট দিচ্ছে\\n6580.jpg নদীর উপর গাছের গুড়ির উপর বসে একটি ছেলে বড়শি দিয়ে মাছ ধরছে এবং তার পাশের ছেলেটা মাথার উপর কলাপাতা ধরে আছে \\n6581.jpg মাছের বাজারে দোকানদাররা মাছ সাজিয়ে বসে আছে এবং ক্রেতারা দেখছে\\n6582.jpg নদীর পাড়ে রাখা জাহাজ থেকে তীরে বালু ছোড়া হচ্ছে\\n6583.jpg লেকের পাড়ে গাছের নিচে ইটের উপর একটি লোক শুয়ে আছে\\n6584.jpg পানির উপর দিয়ে একটি গরু ও একটি ছেলে হাঁটছে\\n6585.jpg বন্যার পানির মধ্যে দিয়ে একজন বৃদ্ধ লোক এক হাতে গামলায় করে হাড়ি পাতিল এবং অন্য হাতে ড্রাম ও বস্তা নিয়ে যাচ্ছে\\n6586.jpg বন্যার পানিতে একজন লোক মাথায় ব্যাগ নিয়ে এবং অন্যরা বাঁশ ধরে হাঁটছে\\n6587.jpg পানির উপর ডিঙি নৌকার মধ্যে একটি ছেলে বাঁশ ধরে বসে আছে\\n6588.jpg পানির মধ্যে একটি নৌকার উপর লাল রংয়ের লেপ বিছিয়ে একটি মেয়ে সোজা হয়ে শুয়ে আছে\\n6589.jpg নদীর পাড়ে গাছ ও ঘরবাড়ি এবং ঘাটেই একটি ট্রলার বাঁধা আছে \\n6590.jpg জমে থাকা পানির উপর মেয়ে দুটি দাঁড়িয়ে আছে এবং দুরে পাহাড় দেখা যাচ্ছে\\n6591.jpg বিল্ডিংয়ের ভিতরে খোলা জায়গায় প্রদর্শনী চলছে\\n6592.jpg মাঠে কয়েকজন মহিলা বেলুন ফুটানো খেলা খেলছে\\n6593.jpg বিস্তৃত জায়গা জুড়ে ধানক্ষেত এবং দূরে পাহাড়\\n6594.jpg পাহাড়ের পাদদেশের নদীর কিনারায় দুটি ডিঙি নৌকা রাখা\\n6595.jpg লেকের পাশে পাথরের উপর কয়েকজন মানুষ দাঁড়িয়ে আছে\\n6596.jpg নদীর বুক সূর্যের আলো পড়েছে এবং পাড়ে দুটি ডিঙি নৌকা রাখা\\n6597.jpg মেঘের ভিতর থেকে সূর্যের আলো নদীতে পড়ছে\\n6598.jpg সমুদ্রের তীরে সাম্পান নৌকা রাখা\\n6599.jpg আলো দিয়ে গেট সাজানো হয়েছে\\n6600.jpg দুই পাহাড়ের মাঝে পানি জমে আছে\\n6601.jpg দুই পাশাপাশি পাহাড়ে পা রেখে মানুষ হেঁটে যাচ্ছে\\n6602.jpg পানিতে আটকা পড়া কুকুরটিকে লোকটি খাবার দিচ্ছে\\n6603.jpg পানিতে বয়স্ক লোকটি নৌকা চালাচ্ছে এবং তার আশেপাশে অনেক পাখি উড়ছে\\n6604.jpg গাছের কোটরে থাকা গুইসাপের লেজ কামড়ে ধরে আছে একটি টিয়াপাখি\\n6605.jpg পড়ন্ত বিকেলে এক জায়গা থেকে আরেক জায়গায় লাফ দিচ্ছে হরিণটি\\n6606.jpg দেয়ালের সামনে রশিতে একটি প্যান্ট ঝুলছে\\n6607.jpg মাটির উপর একজোড়া ইয়ারফোন রাখা\\n6608.jpg গাড়ির বাইরে একজন লোক দাঁড়িয়ে আছে\\n6609.jpg একজন মানুষ কাঁকড়া ধরে আছে\\n6610.jpg নীল আকাশের নিচে নীল সমুদ্র\\n6611.jpg দুটি বিল্ডিংয়ের মাঝে একটি পাতাবিহীন গাছ\\n6612.jpg পিচঢালা রাস্তায় বিভিন্ন যানবাহন চলছে এবং পাশে সারি সারি দালানকোঠা\\n6613.jpg টবের গাছে ফুল ফুটেছে\\n6614.jpg গাছে গোলাপি রংয়ের ফুল ফুটে আছে\\n6615.jpg কমলা রঙের ডালিয়া ফুল ফুটে আছে\\n6616.jpg একটি ছেলে হাত উঁচু করে কিছু দেখাচ্ছে এবং তার পিছনে অনেক ছেলে দাঁড়িয়ে আছে\\n6617.jpg শস্য ক্ষেতে দুটি বুনো মহিষ ও দুটি সিংহ পাশাপাশি হাঁটছে\\n6618.jpg সিড়ির বাইরে সবার স্যান্ডেল এবং একটও নকল পা রাখা\\n6619.jpg ফুলের বাগানের মাঝে একজন লোক দাঁড়িয়ে আছে\\n6620.jpg কয়েকজন মানুষ একসাথে দাঁড়িয়ে বাদ্যযন্ত্র বাজাচ্ছে\\n6621.jpg একজন লোক দেয়ালে লিখেছে\\n6622.jpg মাঠে ক্রিকেট খেলা চলছে\\n6623.jpg বরফের উপর দিয়ে এক লাইনে মহিলারা হেঁটে যাচ্ছে\\n6624.jpg একটি বস্তুকে আগুনে পোড়ানো হচ্ছে এবং পিছনে কিছু মানুষ দাঁড়িয়ে আছে\\n6625.jpg দুজন মানুষ মোটরসাইকেল নিয়ে আকাশে উঠে গেছে\\n6626.jpg বাচ্চারা মেঝেতে বসে ছবি আঁকছে\\n6627.jpg পিচঢালা রাস্তার পাশে বড় বড় গাছ\\n6628.jpg ঠেলাগাড়ি ভর্তি করে বড় ড্রাম নিয়ে যাচ্ছে একজন লোক\\n6629.jpg কারখানার ছোট ছেলেটি কাজ করছে\\n6630.jpg কালি মাখা মুখে,হাতে ছোট ছেলেটি কারখানায় কাজ করছে\\n6631.jpg ছোট ছেলেটি সেলাই মেশিনের সামনে বসে কাপড়ের সুতা খুলছে\\n6632.jpg কারখানার ভিতরে একটি ছোট ছেলে এবং দুটি বড় ছেলে কাজ করছে\\n6633.jpg সুতার কারখানায় সুতার কাজ করছে ছোট ছেলেটি\\n6634.jpg সোডিয়াম বাতির হলুদ আলোর নিচে টুপি পরা ছোট ছেলেটি কাজ করছে\\n6635.jpg সেলাই মেশিনে বসা ছোট ছেলেটিকে মোটা কাঠের টুকরো দিয়ে মারতে উদ্যত হয়েছে নিচে বসা লোকটি\\n6636.jpg বস্তা ভরা ভ্যানগাড়িটা ঠেলছে একটি ছোট ছেলে\\n6637.jpg রেললাইনের উপর মানুষ হাঁটছে এবং পাশেই বাজার এবং কুড়ে ঘরও আছে\\n6638.jpg রেললাইনের উপর দিয়ে রেলগাড়ী যাচ্ছে এবং তার পাশেই বসে একজন মহিলা চুলায় রান্না করছে\\n6639.jpg মাটির চুলায় একজন মহিলা রান্না করছে এবং একটি ছোট বাচ্চা তার কোলে\\n6640.jpg পানির পাইপ থেকে একটি মেয়ে পানি পান করছে\\n6641.jpg মাটির চুলায় পাতিল বসিয়ে একটি ছোট ছেলে রান্না করছে\\n6642.jpg গার্মেন্টসে মহিলা কর্মীরা কাপড় হাতে নিয়ে কাজ করছে\\n6643.jpg একটি ঘরের খাটের উপরে, নিচে,মেঝেতে মানুষ ঘুমাচ্ছে\\n6644.jpg মাটির উপর বসে একজন মহিলা আরেকজন মহিলার চুল টেনে দিচ্ছে\\n6645.jpg আগুনে পুড়ে যাওয়া ধবংসস্তুুপের সামনে কয়েকজন মানুষ দাঁড়িয়ে আছে\\n6646.jpg স্কুলের পোশাক পরা তিনটি ছেলে রাস্তা ঝাড়ু দিচ্ছে\\n6647.jpg রিকশাওয়ালাকে স্কুলের পোশাক পরা একটি মেয়ে খাবার দিচ্ছে\\n6648.jpg রিকশায় করে একজন মানুষকে নেয়া হচ্ছে এবং অন্যরা রিকশার পাশে পাশে হাঁটছে\\n6649.jpg গাড়ির উপর পতাকা হাতে ধরে দাঁড়িয়ে আছে স্কুলের ছেলেরা\\n6650.jpg পুলিস একটি মেয়েকে মারার জন্য লাঠি উপরে তুলে ধরেছে\\n6651.jpg একজন ছেলে ট্রলি ভর্তি করে ময়লা নিয়ে যাচ্ছে\\n6652.jpg ব্রিজে উপর রিকশায় বসে একজন লোক পিছনের সীটে বসা\\n6653.jpg পাশাপাশি দুই নৌকায় দুজন মাঝি পাটি বিছিয়ে শুয়ে আছে \\n6654.jpg পান্জাবী, টুপি পরে ব্যাগ কাঁধে নিয়ে ছেলেটি নৌকায় বসে বিল থেকে শাপলা ফুল তুলছে\\n6655.jpg বাঁশ থেকে রশি দিয়ে ঝুলানো টবে ফুল ফুটে আছে\\n6656.jpg পানিতে রঙিন মাছ সাঁতার কাটছে\\n6657.jpg বিশাল বড় মসজিদ তৈরি হচ্ছে\\n6658.jpg পুদিনাপাতা ও লেবু দেয়া এক কাপ রং চা\\n6659.jpg নদীর ঘাটে অনেকগুলো নৌকা বাঁধা\\n6660.jpg উঁচু নিচু সবুজ পাহাড়\\n6661.jpg দুটি হাস পানির কিনারায় দাঁড়িয়ে আছে\\n6662.jpg পাতার উপর প্রজাপতি বসে আছে\\n6663.jpg একটি লাল পিঁপড়া\\n6664.jpg মেঝের উপর একটি হাতঘড়ি রাখা\\n6665.jpg নদীর পাড়ে ছনের ঘর\\n6666.jpg গাছের পাশে বেতের ঢাকনা\\n6667.jpg শেওলা পরা ইটের উপর একটি প্লাস্টিকের চাকা\\n6668.jpg চিকন ডালে দুটি মাছি\\n6669.jpg চেয়ারে একজন মানুষ বসে আছে\\n6670.jpg একজন লোক কিছু জিনিস বিক্রির জন্য ওগুলে নিয়ে দাঁড়িয়ে আছে\\n6671.jpg একজন লোক সাবানের বুদবুদ তৈরি করছে\\n6672.jpg ঝুড়িতে বাদাম নিয়ে গলার সাথে ঝুলিয়ে দাঁড়িয়ে আছে ছেলেটি\\n6673.jpg পুরনো একটি পানির ফোয়ারা\\n6674.jpg গাছের পাশে শিকল দিয়ে একটি টায়ার ঝুলানো আছে\\n6675.jpg দুটি বাস গ্যারেজে রাখা\\n6676.jpg খাবার টেবিলে খাবার নিয়ে সবাই বসে আছে\\n6677.jpg নববধূর পাশে দুটি ছেলে\\n6678.jpg ছবি আঁকা দেয়ালের সামনে দুটি ছেলে মেয়ে দাঁড়িয়ে আছে\\n6679.jpg দেয়ালে টানানো আয়নায় দুজন মানুষকে দেখা যাচ্ছে\\n6680.jpg রাস্তার পাশে লাল টিনের চালার ঘর\\n6681.jpg বালির উপর স্যান্ডেল খুলে একজন মানুষ দাঁড়িয়ে আছে\\n6682.jpg অনেক গুলো বাচ্চা টাইলসের মেঝেতে বসে ছবি আঁকছে\\n6683.jpg অনেকগুলো মানুষ একসাথে দাঁড়িয়ে ত্রান দিচ্ছে\\n6684.jpg বাচ্চা ও বড় কিছু মানুষ ব্যানার নিয়ে দাঁড়িয়ে আছে\\n6685.jpg মাথায় হাত দিয়ে একটি ছেলে বসে আছে\\n6686.jpg সরিষা ক্ষেতের মাঝে একটি মেয়ে উল্টো ঘুরে দাঁড়িয়ে আছে \\n6687.jpg একজন বয়স্ক লোক একটা ঘোড়াকে নদীতে নিয়ে গোসল করাচ্ছে \\n6688.jpg একজন মহিলা বাচ্চা কোলে নিয়ে ব্যানার হাতে রাস্তার আইল্যান্ডের মাঝে দাঁড়িয়ে আছে\\n6689.jpg নীল আকাশে বিমান উড়ছে এবং একটি বহুতল বিল্ডিং দেখা যাচ্ছে\\n6690.jpg চারজন ছেলে বাসের সীটে বসে আছে\\n6691.jpg রাস্তার পাশে একটি লোককে শুইয়ে স্যালাইন দেয়া হয়েছে\\n6692.jpg রিকশায় তিনজন মানুষ একসাথে রোদচশমা পরে বসেছে\\n6693.jpg টেবিলের উপর একটি ল্যাপটপ ও নোটপ্যাড রাখা\\n6694.jpg আগুনের উপর লোহার শিকের উপর ভুট্টা রাখা হয়েছে\\n6695.jpg মাঠে পরে আছে একটা ভাঙা কলস\\n6696.jpg একজন লোক চোখে গামছা বেঁধে লাঠি হাতে কলস ভাঙতে যাচ্ছে\\n6697.jpg মাঠের মধ্যে চোখে গামছা বেঁধে ব্যাট নিয়ে একজন মহিলা এগিয়ে যাচ্ছে এবং তার সামনে একটি ছোট ছেলে দাঁড়িয়ে আছে\\n6698.jpg মাঠে কয়েকজন মানুষ খেলছে\\n6699.jpg নদীর পাড়ে কয়েকটি ডিঙি নৌকা রাখা\\n6700.jpg কয়েকজন মানুষ নদীর পাড়ে হেঁটে যাচ্ছে\\n6701.jpg টেবিলের উপর দুটি মিষ্টির প্যাকেট রাখা\\n6702.jpg পুরনো ছবির অ্যালবামের উপর একজন বৃদ্ধ মহিলা হাত দিয়ে রেখেছে\\n6703.jpg নৌকায় দাঁড়ানো জেলেরা মাছের জাল তুলছে\\n6704.jpg মরুভূমি আকাশে বিদ্যুৎ চমকাচ্ছে\\n6705.jpg অনেক মানুষ একত্রে রঙ মাখামাখি করছে\\n6706.jpg একটি নেকড়ে আরেকটা নেকড়েকে জড়িয়ে ধরে আছে\\n6707.jpg একটি বাঘ একটি পশুর গলায় কামড়ে ধরে মাটিতে ফেলে রেখেছে\\n6708.jpg দুটি পশু একটি অপরটির উপরে উঠে গেছে\\n6709.jpg বড় বড় পাথরের খন্ডের মাঝ দিয়ে সূর্যের আলো আসছে\\n6710.jpg চিকন ডালের উপর একটি ফড়িং বসে আছে\\n6711.jpg নদীর পাড়ে কয়েকটি গাছ\\n6712.jpg নৌকার ছইয়ের বাইরে কয়েকটি ছোট মেয়ে উঁকি দিচ্ছে\\n6713.jpg সূর্যোদয় হচ্ছে\\n6714.jpg সমুদ্রের পাড়ে লাল কাঁকড়া এবং দূরে পাহাড়\\n6715.jpg গাছের নিচে অনেকগুলো তাঁবু\\n6716.jpg রাতের বেলায় তাঁবুর ভিতর থেকে আলো জ্বলছে\\n6717.jpg মসলা মাখানো আস্ত মুরগীকে রশিতে বেঁধে আগুনে পোড়ানো হচ্ছে\\n6718.jpg দুই পাহাড়ের মাঝ দিয়ে বানানো কৃত্রিম সিড়ি দিয়ে মানুষ নামছে\\n6719.jpg একজন বৃদ্ধ লোক আরেকজনের হাতে কিছু দিচ্ছে\\n6720.jpg পলিথিনে মোড়া অনেকগুলো স্যান্ডেলের পাশে একটি বাচ্চা ছেলে ঘুমাচ্ছে\\n6721.jpg বড় ঝুড়ির উপর ছেলেটা ঘুমিয়ে গিয়েছে\\n6722.jpg বাঁশ বাগানে ছোট মেয়েটি বিড়াল কোলে নিয়ে দাঁড়িয়ে আছে\\n6723.jpg রেললাইনের উপর একটি ছোট ছেলে বসে আছে\\n6724.jpg একটি বাচ্চা আরেকটা বাচ্চাকে খাইয়ে দিচ্ছে এবং পিছনে একটি নবজাতক শুয়ে আছে\\n6725.jpg একটি ছেলে ময়লা পানিতে দাঁড়িয়ে রঙের বালতি দিয়ে পানি নিচ্ছে\\n6726.jpg গাছের ডালে একটি পাখি মুখে ফল নিয়ে বসে আছে\\n6727.jpg একজন লোক গাড়ির মধ্যে অনেকগুলো মাইক জড়ো করছে\\n6728.jpg দুটি ট্রাকের উপর থেকে মালামাল উঠানো নামানো হচ্ছে\\n6729.jpg মহিলারা আলুক্ষেতে বসে জমি থেকে ঝুড়িতে আলু তুলছে\\n6730.jpg বিশাল বড় বাজারে মানুষ ও বস্তাবন্দি জিনিস\\n6731.jpg খোলা মাঠে গরু ঘাস খাচ্ছে এবং মাঠের একপাশে একসারিতে অনেক গাছ\\n6732.jpg শ্রমিকরা গাড়ির উপর প্রস্তুতকৃত চামড়া জড়ো করছে\\n6733.jpg হাতবিহীন একটি ছেলে পা দিয়ে লিখেছে\\n6734.jpg নাগরদোলার উপর কয়েকটি বাচ্চা বসে এবং দাঁড়িয়ে আছে\\n6735.jpg গাছের ডালে হলুদ রঙের পাখিটি বসে আছে\\n6736.jpg কয়েকজন ছাত্র একসাথে একটি বই থেকে পড়ছে\\n6737.jpg কাঠের পাটাতনের ব্রিজের উপর দিয়ে মানুষ পারাপার হচ্ছে\\n6738.jpg একজন মানুষ দুই হাত ভর্তি সরিষা\\n6739.jpg দুজন মানুষের হাত শিকল দিয়ে বাঁধা এবং তাতে লিখা ওয়ালা একটি কাগজ ঝুলছে\\n6740.jpg লোকটা কাঁধের উপর অনেকগুলো ঝাড়ু নিয়ে যাচ্ছে\\n6741.jpg বৃদ্ধ উপজাতি মহিলাটি মাথার উপর গাছের খন্ড নিয়ে যাচ্ছে\\n6742.jpg একটি ছেলে রাস্তার নোংরা পানি থেকে স্কুলগামী ছোট বাচ্চাটিকে পার করে দিচ্ছে\\n6743.jpg বইয়ের দোকানে একজন লোক দাঁড়িয়ে আছে এবং বাইরে একটি ছেলে বই দেখছে\\n6744.jpg রাস্তায় দাঁড়ানো বাসে যাত্রীরা উঠার চেষ্টা করছে\\n6745.jpg কাঠের ট্রের মধ্যে একটি পিরিচে এক কাপ চা এবং পিরিচে তিনটি বিস্কুট\\n6746.jpg প্লাস্টিকের কাপে দুই কাপ চা\\n6747.jpg টেবিলের উপর এক মগ দুধ চায়ের পাশে একটি বই\\n6748.jpg অর্ধেক রঙ চায়ের একটি কাচের ছোট গ্লাস\\n6749.jpg দুধ চায়ের ছোট তিনটি গ্লাসের উপর তিনটি সিংগারা রাখা\\n6750.jpg রাস্তায় বড় একটি গাছের নিচে তিনটি ট্রাক রাখা\\n6751.jpg দোকানে মাটির জিনিস সাজানো\\n6752.jpg উঁচু পাহাড়ের মাঝে মেঘ আটকে আছে\\n6753.jpg চুড়ি পরা মেয়ের হাতে কেক ধরা\\n6754.jpg সমুদ্রের পাড়ে সূর্যাস্তের সময় দুটি লোক হাঁটছে\\n6755.jpg নদীতে মাঝি নৌকা চালাচ্ছে\\n6756.jpg রাস্তায় যাত্রীসহ একটি রিকশা চলছে এবং একটি খালি বাস দেখা যাচ্ছে\\n6757.jpg হিন্দুদের দেবীর সামনে একটি ছেলে দাঁড়িয়ে আছে\\n6758.jpg একটি হাত নোটপ্যাডে আঁকা একটি মানুষের ছবি ধরে আছে\\n6759.jpg ফুলের টবের পাশে একটি বিড়াল চোখ বন্ধ করে শুয়ে আছে\\n6760.jpg জঙ্গলের ভিতরে একটি ছোট ঘর\\n6761.jpg জানালার গ্রিল ধরে মেয়েটি দাঁড়িয়ে আছে\\n6762.jpg নদীর ঘাটে অনেক নৌকা জড়ো করে রাখা হয়েছে\\n6763.jpg নদীর অপর প্রান্তে ট্রলার,লঞ্চ,দালানকোঠা,টাওয়ার\\n6764.jpg রাস্তায় দাঁড়িয়ে স্কুলগামী মিছিল করছে এবং একটি গাড়ি আসার রাস্তা করে দিয়েছে\\n6765.jpg লিখাওয়ালা কাগজ হাতে নিয়ে কয়েকটি বাচ্চা ছেলে দাঁড়িয়ে আছে\\n6766.jpg ওভারব্রিজের নিচে মানুষ একসাথে বসে এবং দাঁড়িয়ে আন্দোলন করছে\\n6767.jpg যানবাহনবিহীন গাড়িতে মানুষ চলাচল করছে\\n6768.jpg একটি ছেলে বড় বোতল থেকে পানি ঢালছে এবং সামনে আরেকটি ছেলে দাঁড়িয়ে আছে\\n6769.jpg গাড়ির ভিতর থেকে শরীরের অর্ধেকটা বের করে আঙুল উঁচু করে ছেলেটা কিছু বলছে\\n6770.jpg  গাড়ির ভিতর থেকে শরীরের অর্ধেকটা বের করে সেখানে বাংলাদেশের পতাকা জড়িয়ে রেখেছে \\n6771.jpg অনেক মানুষ একসাথে চিৎকার করছে\\n6772.jpg সবুজ গাছপালার মাঝে একটি ছেলে দোলনায় বসে দোল খাচ্ছে\\n6773.jpg বাচ্চা ছেলেকে কাঁধের উপর নিয়ে মহিলাটি বন্যার পানিতে হাঁটছে\\n6774.jpg সবুজ গাছপালার মাঝে একটি ছেলে দোলনায় শুয়ে দোল খাচ্ছে\\n6775.jpg পিচঢালা রাস্তায় একটি বাছুর দাঁড়িয়ে আছে এবং পাশে ঘাসের উপর কয়েকটি হাঁস\\n6776.jpg উল্টো হয়ে দাঁড়িয়ে থাকা  একটি ছেলের রক্তমাখা ঘামেভেজা শার্ট\\n6777.jpg বৃষ্টির মধ্যে পতাকা হাতে নিয়ে রাস্তায় বসে আছে দুইটি ছেলে\\n6778.jpg রাস্তায় একটি মেয়ে দাঁড়িয়ে আছে এবং দুই পাশে যানবাহন চলছে\\n6779.jpg হেলমেট পরা মোটরসাইকেলের যাত্রীটি রাস্তায় দাঁড়ানো মেয়ে দুটিকে লাইসেন্স দেখাচ্ছে\\n6780.jpg নীল আকাশের নিচে পানির মধ্যে একটি মেয়ে ফুল নিয়ে কাত হয়ে পানির উপরে মাথা বের করে শরীর ডুবিয়ে রেখেছে\\n6781.jpg রাস্তা দিয়ে ঘোড়ার উপর মেয়েটি বসে আছে এবং একজন বয়স্ক লোক ঘোড়ার সামনের দিকে এবং একটা ছেলে পিছনের দিকে হাঁটছে\\n6782.jpg নদীর পাড়ে রাস্তায় চারটি ছোট বাচ্চা ছেলে সাইকেল চালাচ্ছে\\n6783.jpg পাখির বাসায় পাখির তিনটা ডিম\\n6784.jpg মেঝেতে বসে কলাপাতায়  খাবার নিয়ে সবাই খাবার খাচ্ছে\\n6785.jpg উদ্যানের মধ্যে একটি লোক বসে আছে এবং তার সামনে একটি ছোট ছেলে ফুল হাতে নিয়ে দাঁড়িয়ে আছে\\n6786.jpg উদ্যানের মধ্যে একটি ছেলে গাছের নিচে বসে আছে এবং তার সামনে অন্য দুজন মানুষ শুয়ে আছে\\n6787.jpg একটি ছেলে একটি কুকুরকে খাবার খাওয়াচ্ছে\\n6788.jpg রাস্তায় ভ্যানের মধ্যে একটি লোক কড়াইতে করে খাবার রান্না করছে এবং তার সামনে দাঁড়িয়ে দুজন লোক তা দেখছে \\n6789.jpg দেয়ালে হেলান দিয়ে একজন ছেলে দাঁড়িয়ে আছে এবং তার পাশে নাপিত চুল কাটছে\\n6790.jpg নদীর পাড়ে বড় জাহাজ থেমে আছে\\n6791.jpg রাস্তায় সবাই যে যার কাজে ব্যস্ত\\n6792.jpg ঘরের ভিতর জানালার পাশে একটি মেয়ে বসে আছে এবং বাইরে একটি ছেলে বসে বাঁশি বাজাচ্ছে\\n6793.jpg পুকুরের উপর হেলানো নারিকেল গাছের উপর শুয়ে একটি ছোট ছেলে বাঁশি বাজাচ্ছে\\n6794.jpg পুকুরের উপর হেলানো নারিকেল গাছের উপর তিনটি ছোট ছেলে বসে আছে\\n6795.jpg তিনটি বাচ্চা ছেলে পানির উপর দাঁড়িয়ে দুই হাত উপরে প্রসারিত করে রেখেছে\\n6796.jpg একটি ছেলে গাছের গুড়িতে বসে মুখের পানি হাতে ধরা মোরগের গায়ে ছিটিয়ে দিচ্ছে\\n6797.jpg গ্রামের তিনটি মেয়ে দড়িলাফ খেলছে\\n6798.jpg দুটি বাচ্চা মেয়ে হাড়ি পাতিল দিয়ে খেলছে এবং একটু দূরে আরেকটা মেয়ে ছাগলের বাচ্চা কোলে নিয়ে বসে আছে\\n6799.jpg একটি ছোট মেয়ে কুতকুত খেলছে এবং অন্য দুটি মেয়ে দেখছে\\n6800.jpg গাছ থেকে ঝোলানো দোলনায় ছোট মেয়েটি দোল খাচ্ছে\\n6801.jpg দুটি বাচ্চা মেয়ে একটি ছাগলের বাচ্চাকে আদর করছে\\n6802.jpg গাছের ডাল থেকে একটি দোলনা ঝুলছে\\n6803.jpg একটি সাপ তার জিহবা বের করে রেখেছে\\n6804.jpg মেঘে ঢাকা নীল আকাশের নিচে নদীর অল্প পানির মাঝে একটি ডিঙি নৌকা বাঁশের সাথে বাঁধা\\n6805.jpg সূর্যাস্তের সময় সূর্যের লাল আলো নদী আর নৌকার উপর পড়ছে\\n6806.jpg বৃষ্টির মধ্যে চিতাবাঘ দৌড়াচ্ছে\\n6807.jpg কুয়াশার মধ্যে দিয়ে কয়েকজন উপজাতি বাদ্যযন্ত্র বাজাচ্ছে \\n6808.jpg বিশাল বড় পাহাড়ের সামনে পিচঢালা রাস্তা\\n6809.jpg একজন বয়স্ক লোক গলায় মালা,হাতে চুড়ি পরে আগুনসহ পাইপ মুখে ধরে আছে\\n6810.jpg মসজিদের মিনারের পিছনে সূর্য দেখা যাচ্ছে\\n6811.jpg ট্রেনের ভিতর থেকে জানালা দিয়ে বয়স্ক মা তার ছেলেকে বিদায় দিচ্ছে যে ট্রেনের বাইরে আছে\\n6812.jpg উঁচু নিচু অনেক পাহাড়\\n6813.jpg পাহাড়ের মাঝ দিয়ে বয়ে গেছে নদী\\n6814.jpg একই রকম পোশাক পরা লোক লাইন ধরে দাঁড়িয়ে আছে\\n6815.jpg একটি মা ও বাচ্চা বানর পানি পান করছে\\n6816.jpg একটি মেয়ে শাড়ি পরে মেঝেতে বসে আছে এবং তার সামনে অনেক গুলো কবুতর\\n6817.jpg নীল সমুদ্রের সামনে বালির উপর দালানের ছায়াতে মানুষ শুয়ে বসে আছে\\n6818.jpg শীতের কুয়াশাঘেরা সকালে তিনজন মানুষ ব্যায়াম করছে\\n6819.jpg একটি হরিণকে বাঘ তাড়া করছে এবং হরিণটি তাই পানির উপর দিয়ে দৌড়াচ্ছে\\n6820.jpg জঙ্গলের ভিতর দিয়ে এঁকেবেঁকে রাস্তা চলে গিয়েছে\\n6821.jpg গাছের ডালের উপর বসে সরীসৃপটি ওর লম্বা জিহবা বের করে পোকাটিকে ধরছে\\n6822.jpg বাঘটি হরিণের গলা কামড়ে ধরে আছে\\n6823.jpg বয়স্ক দুজন মানুষ পুকুর ঘাটে গল্প করছে এবং দুটি বাচ্চা ছেলে পুকুরের পানি দিয়ে খেলছে\\n6824.jpg রাস্তা দিয়ে এক লাইনে উটের পিঠে মানুষ যাচ্ছে\\n6825.jpg সিংহ সিংহির মাথায় কামড় দিচ্ছে\\n6826.jpg চিতাবাঘ দাঁড়িয়ে আছে\\n6827.jpg নদীতে ডিঙি নৌকায় তিনজন মানুষ এবং নদীর কিনারায় কাশফুল উঠে আছে\\n6828.jpg জঙ্গলের মধ্যে একটি হাতি দাঁড়িয়ে আছে\\n6829.jpg মেয়েটির মুখের উপর গাছের ছায়া পরেছে\\n6830.jpg ছেলেগুলো পানিতে লাফ দিচ্ছে আর উঠছে\\n6831.jpg বাচ্চা মেয়েটি ক্যামেরা গলায় ঝুলিয়ে পাথরের উপর বসে আছে\\n6832.jpg গ্রিলের মধ্যে পাখি গুলো বসে আছে\\n6833.jpg সূর্যমূখী ফুলের কাছে একটি ভোমরা উড়ছে\\n6834.jpg একসাথে অনেকগুলো পাহাড়\\n6835.jpg সমুদ্রের নীল পানিতে লাল কাপড় পরা মেয়েটি ডুবে যাচ্ছে\\n6836.jpg পানির ধারে বাঘটি হরিণকে তাড়া করছে\\n6837.jpg দুটি হাতি একে অপরের সাথে সুড় মিলাচ্ছে\\n6838.jpg মাঠের মধ্যে দিয়ে একটি লোক অনেকগুলো ঘোড়া তাড়িয়ে নিচ্ছে\\n6839.jpg একটি মেয়ে অনেক বই খাতা পাশে রেখে লিখতে লিখতে ঘুমিয়ে গেছে\\n6840.jpg মরুভূমিতে একটি লোক উটের পিঠে করে যাচ্ছে এবং তার সামনে অনেকগুলো উট\\n6841.jpg পাহাড়ের সামনের নদীতে একটি মহিলা ভেলার উপর দাঁড়িয়ে পানিতে জাল ছুড়ে মারছে\\n6842.jpg মরুভূমিতে অনেকগুলো উট হাঁটছে\\n6843.jpg সিঁড়ির উপর অনেকগুলো মানুষ দাঁড়িয়ে আছে এবং কয়েকটি ছেলে তাদের সামনে সিঁড়িতেই বসে আছে \\n6844.jpg কয়েকজন বয়স্ক লোক কাঁচি দিয়ে ফিতা কাটছে\\n6850.jpg সূর্যাস্তরে সময় সূর্য কমলা রঙ ধারণ করে আছে এবং নদীতে দুজন মানুষ দাঁড়িয়ে একটি নৌকা চালাচ্ছে\\n6847.jpg নদীর উপর পাশাপাশি অনেক গুলো নৌকা রাখা এবং একটি নৌকার উপর ছেলেটা বসে নৌকার পানি সেচছে\\n6845.jpg সূর্য অস্ত যাওয়ার পর আকাশটা লাল,হলুদ,নীল রঙ ধারণ করেছে \\n6848.jpg বহুতল ভবনের নিচতলায় অনেক টেবিল পাতা এবং অনেক মানুষ দাঁড়িয়ে আছে \\n6846.jpg ফুটপাতের উপর মানুষটি এক হাত মাথা রেখে অন্য হাত পাশে ফেলে রেখে ঘুমাচ্ছে \\n6849.jpg দুই দেয়ালের মাঝের ফাঁকা জায়গায় একটি মেয়ে উল্টো হয়ে দাঁড়িয়ে আছে \\n6851.jpg খাবারের দোকানের সামনে  ছেলেটা দাঁড়িয়ে আছে \\n6860.jpg ঘাসের উপর একটি ছোট মেয়েকে প্রজাতির ডানার মত ডানা লাগিয়ে বসিয়ে রাখা হয়েছে \\n6855.jpg গাছের ডালে একটি পাখি বসে আছে \\n6859.jpg সমুদ্রের মাঝ দিয়ে দীর্ঘ একটি রাস্তা চলে গেছে \\n6852.jpg টিনের ঘরের জানালার পাশে একটি ছোট ছেলের মাথা দেখা যাচ্ছে \\n6854.jpg রেলগাড়ীর ছাদের উপর অনেক মানুষ বসে আছে \\n6853.jpg বয়স্ক লোকটি বাসের জানালার পাশের আসনে বসে রাস্তার গাড়িটি দেখছে\\n6856.jpg একজন মানুষের হাতে আঁকা ছবি\\n6858.jpg ধানক্ষেতের পাশ দিয়ে একটি রেলগাড়ী চলছে এবং গাছের পাতার ফাঁকে সূর্য দেখা যাচ্ছে \\n6857.jpg খালি গায়ে একটি ছেলে শুয়ে আছে এবং তার বুকের মুখের উপর ফুল পাতা রাখা \\n6861.jpg রাতের নীল আকাশের নিচে নদীর বাঁধের উপর আলো জ্বলছে \\n6862.jpg সমুদ্রের তীরে বালির উপর মানুষের ছায়া দেখা যাচ্ছে\\n6863.jpg সমুদ্রের তীরে বালির উপর ছয়জন মানুষের ছায়া দেখা যাচ্ছে\\n6864.jpg একটও ছেলে আগুনে ফুঁ দিচ্ছে\\n\\n \\n7001.jpg এই ভঙ্গুর রাস্তায় রিক্সা চলছে ও এক নারী হেটে চলছে।\\n7002.jpg রাতের ঢাকার আলোকসজ্জা।\\n7003.jpg জনতার কলরেট আন্দোলন।\\n7004.jpg শৈশবিক খেলাধুলা্র আনন্দ।\\n7005.jpg এক টুকরো রোদ মেঘের আড়ালে।\\n7006.jpg \\n7007.jpg ঘাসের উপর বাঁশের ডালে প্রজাপতি পাখা মেলে।\\n7008.jpg ঐ পথ চলে যায় সূদূর পথে।\\n7009.jpg \\n7010.jpg \\n7011.jpg\\n7012.jpg  গাড়ির ধাক্কায় রিক্সাটি উল্\\u200cটে যাচ্ছে।\\n7013.jpg \\n7014.jpg পাহাড়ের গায়ে বৃক্ষরাজি।\\n7015.jpg শামুক ঝিনিক বিক্রয় কেন্দ্র।\\n7016.jpg  আলোকসজ্জা।\\n7017.jpg  ঝিলের শুশুক ফুয়ারা\\n7018.jpg অজস্র স্রোত ঠেলে জেলে নৌকোর এগিয়ে চলা।\\n7019.jpg হাতি মূর্তি।\\n7020.jpg \\n7021.jpg শামুক ঝিনুক বিতান।\\n7022.jpg মছের মতো স্যান্ডেল।\\n7023.jpg বাঘ মামাকে দেখতে এসেছে।\\n7024.jpg বন্যায় প্রায় ডুবন্ত রিক্সা ও যাত্রী।\\n7025.jpg বাঙ্গালীর পান সুপারী।\\n7026.jpg  হাটু পানি ও বৃষ্টি উপেক্ষা করে পথচারীর পথ চলা।\\n7027.jpg \\n7028.jpg কর্মের তাগিদ যখন দূর্যোগকেও হার মানায়।\\n7029.jpg হেমন্তের সোনালী ধান আর কৃষকের হাসি।\\n7030.jpg সবুজের মাঝে পাহাড়ী ঝড়না।\\n7031.jpg ক্লান্তির অবসান।\\n7032.jpg ঘাস খাচ্ছে\\n7033.jpg ভাষা শহীদের স্মরণে পুষ্পার্পন।\\n7034.jpg বনের সাদা বাঘ।\\n7035.jpg হাতি ও তার মালিক\\n7036.jpg জলের সৌন্দর্য সাদা হাস।\\n7037.jpg সুন্দরবনের সোনালী হরিণ।\\n7038.jpg সাদা বাঘের বনভ্রমণ\\n7039.jpg মেঘের আড়ালে সূর্য রশ্মীর রঙ্গখেলা।\\n7040.jpg জেব্রার খাদ্য সন্ধান।\\n7041.jpg  ঘাসবনে ক্যাঙ্গারু মূর্তি।\\n7042.jpg বৃষ্টি মুখর দিনে।\\n7043.jpg ময়ুর ও ময়ুরী নাচিছে ।\\n7045.jpg ছোট্ট রাখালের গরুরপাল।\\n7046.jpg সূর্য যখন অস্তে পরে ঢুলি।\\n7047.jpg মেহেদী উৎসবের উপহারসামগ্রী।\\n7048.jpg পিঠা উৎসব।\\n7049.jpg নানান স্বাদের পিঠাপুলি।\\n7050.jpg বন্ধু আড্ডা গান যখন সাগর পাড়ে।\\n7051.jpg সাদা কালো ডোরা কাটা জেব্রাদলের বিশ্রামকাল। \\n7052.jpg পাঁচ বন্ধুত্বের ছায়া চিহ্ন।\\n7053.jpg দারুচিনিদ্বীপ দেশে চার বালিকার হাওয়াবদল।\\n7054.jpg গ্রামের আকা বাকা মেঠো প্থে সাইকেল চালিয়ে যাচ্ছে কতক ছেলে।\\n7055.jpg চট্টগ্রামের পথে বাস চলছে।\\n7056.jpg নীল আকাশে সাদা মেঘ আর দূর প্থ পাড়ী দেওয়ার স্বপ্ন।\\n7057.jpg রমজানের ইফতার মাহফিলের প্রস্তুতিপর্ব।\\n7058.jpg ইফতার মাহফিল উপলক্ষ্যে ছাত্ররা ব্যানার লাগাচ্ছে।\\n7059.jpg দুজন ছেলে খাবারের ব্যবস্থা করতে পাতিল নিয়ে যাচ্ছে।\\n7060.jpg সারাদিন রোজার পর আনন্দ করে সবাই ইফতার করছে \\n7061.jpg খাবার রান্নার জন্য পাতিল পরিষ্কার করছে একজন ছেলে বাকিরা দাঁড়িয়ে দেখছে।\\n7062.jpg ইফতারে বিরিয়ানী ও খেজুর রুহাফজা পেয়ে সবাই খুব খুশি।\\n7063.jpg নবীন বরণে নতুনদের উদ্দেশ্যে এক রমণীর বক্তব্য। \\n7064.jpg নবীনদের ফুলেল শুভেচ্ছায় বরণ করে নিচ্ছে একজন ছাত্রী।\\n7065.jpg সভাপতি পুরষ্কৃত করছেন একজন কৃতিকে।\\n7066.jpg পথের ধারে বাঁশঝাড় ও পুকুর।\\n7067.jpg কর্দমক্ত মাঠে পরে আছে কিছু নৌকা।\\n7068.jpg খর বোঝাই ট্রাক্টর চালিয়ে নিয়ে যাচ্ছে দুটি লোক।\\n7069.jpg রাতের আধারে কূপি জ্বালিয়ে পান বিক্রেতার বিক্রির অপেক্ষা। \\n7070.jpg রাতে গ্রামের এক বাজারের দৃশ্য। \\n7071.jpg রাতের সবজি বাজার।\\n7072.jpg রাতের অন্ধকারে কুপির আগুনের আলোতে মাছ বিক্রি করছেন মাছ বিক্রেতা।\\n7073.jpg ভোরের হাট বাজারে ক্রেতা বিক্রেতার ক্রয়-বিক্রয়।\\n7074.jpg এক রমণী বিরিয়ানী রাধছেন।\\n7075.jpg চড়ুইভাতির মাংস রান্না চলছে খড়ির চুলায়।\\n7076.jpg উনুনের আগুন।\\n7077.jpg একটি শিশু ভেড়াটির সাথে পা দিয়ে খেলছে। \\n7078.jpg একটি সবজি বাগান।\\n7079.jpg পুলি পিঠা।\\n7080.jpg একটি থালায় বিরিয়ানী, ডিম,মাংস ও সালাদ। \\n7081.jpg একটি বাচ্চা মেয়ে কুকুর ছানা নিয়ে খেলছে।\\n7082.jpg এক বৃদ্ধা শাক বেছে দিচ্ছে।\\n7083.jpg গৃহের গৃহিনীরা পিঠা পুলি তৈরী করছে।\\n7084.jpg এক পাতিলে রান্না মাংস।\\n7085.jpg পরিবারের সকলে একসাথে নৈশভোজ।\\n7086.jpg নানান রঙের পান মসলা।\\n7087.jpg মুরগীর গ্রীল তৈরী হচ্ছে।\\n7088.jpg মায়ের পাশে দাঁড়িয়ে ছেলের রান্না-বান্না।\\n7089.jpg সকলে মিলে খাওাদাওয়া ও এক নারীর খাবার বিতরণ।\\n7090.jpg \\n7091.jpg \\n7092.jpg পাহারী পথে এক বচ্চার সাইকেল চালানো।\\n7093.jpg চক্লেটের সাথে পাওয়া সংগ্রহীত খেলনা।\\n7094.jpg নীল আকাশে শরতের সাদা মেঘের ভেলা \\n7095.jpg ফাকা রাস্তায় রিক্সা চলছে।\\n7096.jpg রান্নার হাতা খুন্তির দোকান।\\n7097.jpg ফুটপাতের কোণায় দাঁড়িয়ে সকালের পত্রিকায় চোখ বুলাছেন কিছু লোক।\\n7098.jpg জানালার কাচে বৃষ্টির ঝিরি ঝিরি ফোটা।\\n7099.jpg সাগরপাড়ে শামুকের তৈরী চাবির রিং।\\n7100.jpg নীল আকাশ নীল জল নদীর বুকে ছোট্ট নৌকা।\\n7101.jpg সবুজ গাছে ঘেরা পাহাড় বক্ষে মেঠো পথ ও মন্দির।\\n7102.jpg পুকুর পাড়ে গাছের তলে বসার আসন।\\n7103.jpg সাগর তীরে সূর্যস্নানে একদল কিশোর কিশোরীর অনন্দ উল্লাস।\\n7104.jpg পাহাড়ি রাস্তায় চাঁদের গাড়িতে ভ্রমণ।\\n7105.jpg বাবা মেয়ের ভালোবাসা\\n7106.jpg নদীর বুকে জেলে নৌকার জেলেদের মাছ ধরা।\\n7107.jpg নদীতে প্রয়োজনের অতিরিক্ত যাত্রীসহ লঞ্চ চলছে।\\n7108.jpg \\n7109.jpg ছেলেটি অনেকটা আড়ালে তার আনন্দ প্রকাশ করছে।\\n7110.jpg কুকুরটি পথের মাঝে ঘুমাচ্ছে আর ছেলেটি নিরিবিলি পথে একা পথ চলছে।\\n7111.jpg মায়ের হাতে হাত রেখে সন্তানের বিদ্যালয়ে যাওয়া।\\n7112.jpg ম্যানগ্রোভ বনের নদীর ধারে বন।\\n7113.jpg পথের দু’ধারে ভুট্টার চাষ।\\n7114.jpg রোদে কাপড় শুকানো।\\n7115.jpg পানির ট্যাংকের আড়ালে বিড়ালের অপেক্ষা।\\n7116.jpg পাহাড়ী পথে দু’কন্যার চরণাবলী।\\n7117.jpg নদীর তীরে নৌকার সাড়ি সজ্জা। \\n7118.jpg সবুজে ঘেরা পাহাড়ি বন।\\n7119.jpg এক বাবার কোলে সন্তানের এবং এক বৃদ্ধর গুটি গুটি পায়ে পথ চলা।\\n7120.jpg তিন বালিকা এক গাড়ির ছাদে।\\n7121.jpg পাঁচ বান্ধুবীর বন্ধুত্বের গল্প।\\n7122.jpg সূর্যের আলোয় ঝলমলে জলে কাগজের নৌকা ভাসাই।\\n7123.jpg পড়ন্ত বিকেলের আকাশ জুড়ে ঘুড়ির রাজত্ব।\\n7124.jpg পাহাড়ী রাস্তায় এক গাড়ী চলছে।\\n7125.jpg তিন বাটি মাংসভুনা।\\n7126.jpg ছোট নদীর মাঝে পত্রবিহীন বৃক্ষ।\\n7127.jpg \\n7128.jpg সাঝের বেলায় এক বালকের ছিপ দিয়ে মাছ ধরা।\\n7129.jpg পাহাড়ী বাড়ীর কাঠের সিড়িতে দুই ভ্রমণকারী ছেলে মেয়ে।\\n7130.jpg গাড়ির ছাদে ধোয়া নিয়ে খেলছে এক ছেলে। \\n \\n7131.jpg পাহাড়ী মৃত ঝড়ণার চূড়ায় বসে দুটি ছেলে ও একটি মেয়ের আড্ডা।\\n7132.jpg কাঠের ঘরের কাঠের সিড়িতে এক বালিকা।\\n7133.jpg আগুন জ্বালানো।\\n7134.jpg পথেই পথ শিশুর গল্প আড্ডা।\\n7135.jpg একটি ছেলে ও মেয়ের জীবনের ছোট গল্প।\\n7136.jpg টবের গাছে গোলাপী পুষ্পরাজি।\\n7137.jpg নদীর ওপাড়ে ছোট্ট কুঠির।\\n7138.jpg জানালার ধারে এক শিশু দূর পানে চেয়ে থাকা।\\n7139.jpg উটপাখি\\n7140.jpg তাল গাছ দাঁড়িয়ে সব গাছ ছাড়িয়ে\\n7141.jpg বৃষ্টি ভেজা সন্ধ্যায় ছাতা নিয়ে কারো অপেক্ষায়।\\n7142.jpg বৃষ্টিস্নাত উঠান এবং দরজার বাহিরে রিক্সা।\\n7143.jpg ফসলের ক্ষেত এবং তার মাঝে তাল গাছ\\n7144.jpg নীল অপরাজিতায় জলের ফোটা।\\n7145.jpg বাজারের মাঝে রিকশাওয়ালা এবং তার রিকশা\\n7146.jpg স্টেশনের ঘুমন্ত কুকুর।\\n7147.jpg মাছে ভাতে বাঙ্গালীর কাসার থালা।\\n7148.jpg স্টেশনের ধারে গাছের নিচে বৃদ্ধার কিছুদূরে বসে থাকা লোকের কর্মবিরতি।\\n7149.jpg লিফটে নিজের প্রতিচ্ছবি মুঠোফোনে ধরে রাখার ক্ষুদ্র চেষ্টা।\\n7150.jpg রংবেরঙ্গের আলোকসজ্জায় সুসজ্জিত সাঁকো।\\n7151.jpg কাচের জানালায় হলুদ রাঙা প্রজাপতির প্রতিচ্ছবি।\\n7152.jpg একলা দাড়িয়ে এক ভবন প্রতিরক্ষাকর্মী। \\n7153.jpg টবে ফোটা লাল গোলাপ।\\n7154.jpg পড়ন্ত বিকেলে ঘুড়ির মেলা ছাদের কোনে।\\n7155.jpg জরো করা ছেঁড়া স্যান্ডেলের পাহাড়ে ঘুমন্ত ছোট্ট বালক। \\n7156.jpg ভিক্ষুক এক বাসের সামনে ভিক্ষা আশায় তাকিয়ে ।\\n7157.jpg নির্জন রাতে একলা এক কুকুর ছানা মাঝ রাস্তায় দাঁড়িয়ে।\\n7158.jpg নদীর ধারে খোলা আকাশের গা ঘেষে এক বৃক্ষের বেচে থাকা।\\n7159.jpg খাঁচা বন্দী টিয়া পাখি।\\n7160.jpg নারিকেল জিঞ্জিরার সাড়ি সাড়ি নারিকেল গাছ।\\n7161.jpg নদীর মাঝে ইঞ্জিন নৌকা।\\n \\n7162.jpg যানবাহনের শহর ঢাকা\\n7163.jpg রাতের নৌকা ঘাটে মাঝির প্রতিক্ষা\\n7164.jpg গাড়ি ও মানুষের ফেরিতে নদী পারাপার\\n7165.jpg গাছের ডালে এক ফড়িং বসে\\n7166.jpg বিশ্ববিদ্যালয়ের বড় ভায়ের সাথে এক নবীন ছাত্রের সালাম বিনিময়\\n7167.jpg দুটি ছেলের হাত মিলিয়ে সাক্ষাত\\n7168.jpg বসা ছেলেটির সামনে দাঁড়িয়ে থাকা ছেলেটির কান ধরে শাস্তিভোগ\\n7169.jpg বসা ছেলেটির সামনে দাঁড়িয়ে থাকা ছেলেটির নাচ\\n7170.jpg বসা ছেলেটির সামনে অন্য ছেলেটির হাটু গেড়ে বসে অনুরোধ\\n7171.jpg অবশেষে ছেলেটির টাকা অর্জন\\n7172.jpg নানান ফুলের মাঝে একটি হলুদ ফুল\\n7173.jpg বৌয়ের বিয়ের ফোটোগ্রাফি\\n7174.jpg ঘাটে বাধা রংবেরঙ্গের নৌকা\\n7175.jpg নৌকায় মাঝিদের বসবাস\\n7176.jpg কক্ষে বসে ছেলেমেয়েদের ভিডিও দেখা\\n7177.jpg কালো মেঘে আকাশ ছেঁয়েছে আর মাঝি নৌকায় বসে নৌকা টানছে\\n7178.jpg চা বিস্কুটের অল্প রোজগারেও প্রাণ খোলা সুখের হাসি\\n7179.jpg ছেড়া জুতো ঘাসের উপর\\n7180.jpg নিষিদ্ধ স্থানেই লেগুনা রেখেছে\\n7181.jpg কিছু ছেলে মেয়ের দল বেধে ছবি তোলা\\n7182.jpg নানান রঙের পুষ্পরাজি\\n7183.jpg দুই বন্ধুর পথ চলা কারো বা চেয়ে দেখা \\n8000.jpg একটি বসার ঘর\\n8001.jpg একটি সুসজ্জিত শৌচাগার\\n8002.jpg ঝর্ণার পানির কাছে হাতিটি দাঁড়িয়ে আছে\\n8003.jpg গাছের নিচে ব্যাগের উপর মানুষ বসে আছে\\n8004.jpg প্লেটের মধ্যে অনেকগুলো খাবার\\n8005.jpg পাহাড়ের উপর ঘোড়াটি ঘাস খাচ্ছে\\n8006.jpg লোকটি সমুদ্রের পানিতে সার্ফিং করছে\\n8007.jpg একটি শৌচালয়\\n8008.jpg টবের উপর অনেক রকমের ফুল গাছ\\n8009.jpg আয়নায় বরফের উপর মোটরসাইকেলে বসা লোকটিকে দেখা যাচ্ছে\\n8010.jpg বিড়ালটি আয়নায় নিজেকে দেখছে\\n8011.jpg একটি বসার ঘর\\n8012.jpg জিরাফ দুটি দাঁড়িয়ে আছে\\n8013.jpg বাচ্চা মেয়েটি মাথায় টুপি পরে দুই হাতে ডোনাট নিয়ে আছে\\n8014.jpg টুপি মাথায় দিয়ে মেয়ে দুটি দাঁড়িয়ে আছে\\n8015.jpg আকাশে বিমান উড়ছে\\n8016.jpg নদীতে জাহাজ চলছে\\n8017.jpg টেবিলের উপর দুটি কম্পিউটারসহ  অনেক কিছু রাখা\\n8018.jpg পানিতে হাঁস সাঁতার কাটছে\\n8019.jpg বৃষ্টির মধ্যে ছাতা মাথায় দিয়ে দুজন মানুষ রাস্তা পার হচ্ছে\\n8020.jpg হেলমেট পরে বাচ্চা ছেলেটি স্কেটিং করছে\\n8021.jpg রাস্তার পাশে সিগনালে লাল বাতি জ্বলছে\\n8022.jpg কুকুরের ঘরের ভিতরে জুতা,কাপড় রাখা\\n8023.jpg মানুষ গিলো বিমানের দিকে এগিয়ে যাচ্ছে\\n8024.jpg ছেলেটা মাঠে সসার খেলছে\\n8025.jpg বিমানবন্দর থেকে বিমানটি আকাশে উড়ছে\\n8026.jpg একটি অগোছালো বাসা\\n8027.jpg ছোট ছেলেটি চেয়ারে বসে আছে\\n8029.jpg ছেলেটা স্কেটিং করছে\\n8030.jpg গাড়িটি বাসের সাথে লেগে আছে\\n8031.jpg বরফের পাহাড়ের উপর লোকটি দাড়িয়ে আছে\\n8032.jpg পানির মধ্যে হাতির পিঠে বসে মেয়ে দুটি যাচ্ছে\\n8033.jpg দুটি জিরাফের মাথা দেখা যাচ্ছে\\n8034.jpg লোকটি তার হাতের খাবার কাঁধে বসা বিড়ালটির দিকে এগিয়ে দিয়েছে\\n8035.jpg কমোডের উপর একটি পুতুল বসানো\\n8036.jpg বাচ্চাটি একটি পুতুল নিয়ে বসে আছে\\n8037.jpg বালির উপর অনেক নারিকেল গাছ\\n8039.jpg কুকুরের পাশে একটি পুতুল রাখা\\n8040.jpg লোকটি ফোনে কথা বলছে\\n8041.jpg টেবিলের উপর কয়েকটি প্লেটে খাবার রাখা\\n8042.jpg গাছের পাশে একটি মোটরসাইকেল রাখা এবং দূরে দুজন মানুষ কথা বলছে\\n8043.jpg বাটিতে খাবার রাখা\\n8044.jpg বিছানার উপর পা মেলে মেয়েটি বসে আছে\\n8045.jpg ঘরের ভিতর একটি ভাঙা ফ্রিজ\\n8046.jpg বাটির মধ্যে কয়েকটি কমলা রাখা\\n8047.jpg প্লেটের উপর কয়েকটি সবজি রাখা\\n8048.jpg দুজন মানুষ মোটরসাইকেলের উপর এবং একজন সাইকেলের উপর বসে আছে\\n8049.jpg টেবিলের উপর একটি রাইস কুকার\\n8054.jpg লোকটি খাবার নিচ্ছে\\n8057.jpg লোকটি রাস্তায় সবার সামনে স্কেটিং করছে\\n8060.jgp একটি রান্নাঘর\\n8062.jpg রাস্তায় দোতলা বাসের পাশে একটি গাড়ি চলছে\\n8063.jpg ছেলেরা মাঠে সসার খেলছে\\n8077.jpg লোকটি মোটরসাইকেল চালাচ্ছে\\n 8028.jpg বরফের উপর লোকটা স্কি করছে\\n8050.jpg সুউচ্চ দালান আকাশ ছুঁয়েছে\\n 8051.jpg পিচঢালা রাস্তায় ছেলেটা হেলমেট পরে স্কেটিং করছে \\n8052.jpg রোগাক্রান্ত একটি হাতি \\n 8053.jpg কিছু ফল\\n 8055.jpg একজন মানুষের হাতে একটা খাবার ধরা এবং দূরে নদীর উপর ব্রিজ দেখা যাচ্ছে \\n8056.jpg দুজন মানুষ অদ্ভুত একটা যানবাহনে বসে আছে \\n8058.jpg কয়েকটি কমলা গোলাপ ফুল ফুটে আছে \\n 8059.jpg পিচঢালা রাস্তায় ঘোড়ার পিঠের উপর তিনজন মহিলা বসে আছে \\n 8060.jpg একটি অগোছালো রান্নাঘর \\n 8061.jpg মাঠে বেজবল খেলা চলছে এবং দূরে কয়েকজন খেলোয়াড় দাঁড়িয়ে আছে \\n8064.jpg ক্যামেরা দিয়ে একটি ছেলে ছবি তুলছে এবং তার পাশে আরেকটি ছেলে বসে কাজ করছে \\n8065.jpg টেবিলের উপর একটি টেলিভিশন, দুটি মুখোশ ও পাশে একটি জামা পরানো পুতুল \\n8066.jpg একটি লাল রঙের দোতলা বাস \\n 8067.jpg বরফের উপর ছেলেটা স্কেটিং করছে \\n 8068.jpg সিঁড়ি ও ফুটপাতের উপর কাপড় বিছিয়ে মানুষ জিনিসপত্র নিয়ে বসে আছে \\n8069.jpg পাহাড়ের উপর কয়েকটি ঘোড়া ঘুরছে\\n8070.jpg লোকটি ফোনে কথা বলছে\\n 8072.jpg একটি বসার ঘর\\n8073.jpg সমুদ্রে লোকটা সার্ফিং করছে\\n 8074.jpg টেবিলের উপর একটি মগ ও শোপিস রাখা \\n8075.jpg টেবিলের উপর প্লেটে খাবার রাখা \\n8076.jpg ফুলের টবে ফুল রাখা \\n 8078.jpg আকাশে একটা বিমান উড়ছে \\n  8079.jpg খাবার টেবিলে কয়েকজন মানুষ বসে খাবার খাচ্ছে \\n8080.jpg টেবিলের উপর অনেক কিছু\\n8081.jpg বিমানটি আকাশে উড়ছে\\n8082.jpg ফুলদানিতে ফুল রাখা \\n8083.jpg আকাশে দুটি বিমান দুদিকে চলছে \\n 8085.jpg ছেলেটা বেজবল খেলছে \\n 8086.jpg পিচঢালা রাস্তায় একটি বড় সাদা বাস রাখা \\n8087.jpg ছেলেটা স্কেটিং করছে \\n8088.jpg ছেলেটা মোটরসাইকেলের উপর বসে মুচকি হাসছে\\n  8089.jpg গাছের ডালে একটি আপেল ঝুলছে\\n8084.jpg বিড়ালটি কি-বোর্ডের উপর শুয়ে আছে\\n8090.jpg মাঠে অনেকগুলো কুকুর ও মানুষ\\n8091.jpg রাস্তা দিয়ে ছেলেমেয়ে গুলো হাঁটছে\\n8094.jpg বড় একটি ঘরের ভিতর অনেকগুলো বিছানা\\n8092.jpg মাঠে অনেক মানুষ মিলে আকাশে ঘুড়ি উড়াচ্ছে\\n 8093.jpg সবুজ মাঠে ছেলেটা সুতা হাতে দাঁড়িয়ে আছে \\n8095.jpg মাঠে বেজবল খেলা চলছে \\n8096.jpg বিড়ালটির মুখে লোকটা হাত দিয়েছে\\n8098.jpg দুজন বয়স্ক মহিলা পুরুষ টেবিলে বসে খাবার খাচ্ছে\\n8099.jpg রাস্তার পাশে ছাতার নিচে খাবারের টেবিল রাখা হয়েছে\\n8100.jpg সমুদ্রের তীরে অনেক মানুষ\\n8103.jpg ট্রলিতে অনেক গুলো ব্যাগ\\n8102.jpg বিমানটি আকাশে উড়ে যাচ্ছে \\n8104.jpg দুটি পুতুলের কোলে বিড়ালটি বসে আছে \\n 8105.jpg বাগানের পাশে বিড়ালটি বসে আছে\\n8108.jpg লোকটা মোটরসাইকেলের উপর বসে আছে \\n8107.jpg কাগজের উপর একটি কাঁচি ও চশমা রাখা\\n 8108.jpg লোকটা মোটরসাইকেলের উপর বসে আছে \\n8109.jpg খাবার টেবিলে খাবারের সামনে মহিলাটি বসে আছে \\n8110.jpg বাক্সের মধ্যে কয়েক রকমের খাবার \\n8111.jpg ফুটপাতে গোলাপি রংয়ের একটি বেঞ্চ\\n8112.jpg মিষ্টি লর দোকানে চারটি লোক\\n8114.jpg বরফের উপর দুজন মানুষ লাঠি হাতে দাঁড়িয়ে আছে \\n8116.jpg কুকুটি সোফার উপরে শুয়ে আছে\\n8117.jpg সবুজ ঘাসে ঢাকা পাহাড়ে গরুগুলো ঘাস খাচ্ছে \\n8118.jpg কাপড়ের উপর রাখা বাটি গুলোতে বিভিন্ন রকমের খাবার\\n8119.jpg সমুদ্রের তীরে ঘোড়ার পিঠে দুজন মানুষ বসে আছে এবং ঘোড়ার পাশে দুজন মানুষ আছে\\n8120.jpg লোকটা সমুদ্রে সার্ফিং করছে\\n8122.jpg লোকটা স্কেটিং করছে\\n8125.jpg কালো বিড়ালটি তাকিয়ে আছে\\n8126.jpg রাস্তায় অনেক বড় একটি বাস\\n8127.jpg একটি শোবার ঘর\\n8128.jpg একটি পিৎজা \\n8129.jpg পাথরের উপর একটি সাদা ভাল্লুক বসে আছে \\n8130.jpg ঘাসের উপর ছেলেটা শুয়ে আছে \\n 8131.jpg মিষ্টির দোকানে অনেক রকমের মিষ্টি সাজিয়ে রাখা হয়েছে\\n8133.jpg ঘরের ভিতর ছবি তোলার সরঞ্জাম \\n8135.jpg জঙ্গলের মাঝ দিয়ে রেলগাড়ী চলছে \\n 8136.jpg লোকগুলো মুখোশ পড়ে খাবার রান্না করছে \\n 8137.jpg মাঠে টেনিস খেলা চলছে \\n 8138.jpg ঘরের ভিতর বাচ্চা গুলো সসার খেলছে \\n8139.jpg লোকটি মুখের সামনে মোবাইল ধরে আছে \\n  8140.jpg রাতের অন্ধকারে জিরাফটি দাঁড়িয়ে আছে \\n8134.jpg ঘোড়ার পিঠে বাচ্চারা \\n8144.jpg ট্রলিতে ভর্তি ব্যাগ নিয়ে লোকটি রাস্তা দিয়ে হাটছে\\n8141.jpg গাড়ির পিছনে অনেক ব্যাগ রাখা \\n8142.jpg ছোট ছেলেটা বেজবল খেলছে \\n 8143.jpg জিরাফটি পাতা খাচ্ছে \\n  8145.jpg দুটি জিরাফ হাঁটছে\\n8146.jpg একটি সাইনবোর্ড \\n  8147.jpg ফুটপাত দিয়ে একটি মানুষ ছাতা মাথায় হাঁটছে\\n 8148.jpg বাচ্চাটি মেঝেতে শুয়ে কি বোর্ড ধরে আছে \\n 8149.jpg ব্যাগ কাঁধে নিয়ে মেয়েটি বরফের উপর বসে আছে \\n  8150.jpg কয়েকটি বাস রাখা \\n 8151.jpg ছেলেটা সমুদ্রে সার্ফিং করছে\\n8155.jpg ছোট মেয়েটি বাটি থেকে চামচ দিয়ে খাবার নিচ্ছে \\n8152.jpg প্লেটের উপর বার্গারটি কেটে দুখন্ড করে রাখা হয়েছে\\n8154.jpg রাস্তায় এক সারিতে অনেক গাড়ি দাঁড়িয়ে আছে\\nছোট মেয়েটি বাটি থেকে চামচ দিয়ে খাবার নিচ্ছে \\n8159.jpg কেকের উপর একটি ছুড়ি রাখা\\n8163.jpg একটি রান্নাঘর\\n8160.jpg পার্কে গাছের নিচে ঘাসের উপর মানুষ বসে আছে \\n8161.jpg সবুজ ঘাসের উপর পশুগুলো হাঁটছে\\n  8162.jpg টেবিলের উপর ফুলদানিতে ফুল রাখা হয়েছে বলে দেয়ালে কয়েকটি ঘড়ি লাগানো \\n 8164.jpg রাস্তার উপর পাখিটি বসে আছে \\n 8166.jpg টেবিলের উপর দুটি কম্পিউটার ও কি বোর্ড রাখা \\n8167.jpg কি বোর্ডের উপর কালো বিড়ালটি বসে আছে \\n8168.jpg লোকটি রান্নাঘরে রান্নার জন্য অনেক কিছু সামনে নিয়ে দাঁড়িয়ে আছে \\n  8169.jpg ঘরের ভিতর অনেক পুতুল \\n8170.jpg মেয়েটি একটি ঘড়ি নিয়ে দাঁড়িয়ে আছে \\n  8172.jpg মাটির উপর ঘোড়াটি লাফ দিয়েছে \\n 8174.jpg বাক্সের ভিতরে কয়েকটি সুতা ও কাঁচি রাখা\\n8165.jpg রাস্তায় একটি বাস দাঁড়িয়ে আছে\\n8171.jpg কড়াইয়ের উপর একটি অর্ধেক পিৎজা ও একটি চামচ\\n8173.jpg মাঠের মধ্যে তাঁবুর পাশে ছেলেমেয়ে দুটি ছাতা মাথায় দিয়ে বসে আছে\\n8182.jpg পাতা গুলোর মাঝে একটি খুঁটির মধ্যে যন্ত্র\\n8190.jpg মেয়েটি রুটি হাতে নিয়ে দাঁড়িয়ে আছে\\n8197.jpg রাস্তায় ট্রাকের উপর একটি লোক দাঁড়িয়ে আছে\\n8201.jpg একটি পাখি বসে আছে এবং পিছনে আরেকটি পাখির মূর্তি\\n8202.jpg পাখিটি মুখ উঁচু করে ঠোঁট ফাঁকা করে রেখেছে \\n8204.jpg মাঠে অনেক গুলো ছাগল8203.jpg ছেলে দুটোর হাতে তারওয়ালা রিমোট \\n 8206.jpg লেকটি হাতে গ্লাভস পরে দাঁড়িয়ে আছে \\n8207.jpg মেয়েটা সোফায় বসে আছে \\n 8208.jpg গরুগুলো ঘাস খাচ্ছে \\n 8210.jpg একটি রান্নাঘর\\n  8212.jpg কয়েকটি সাইনবোর্ড \\n  8213.jpg একটি ঘোড়া \\n  8215.jpg খড়ের গাদার কাছে ঘোড়া দুটি দাঁড়িয়ে আছে \\n8219.jpg মেয়েটা টেনিস খেলছে \\n 8221.jpg সমুদ্রের ঢেউয়ের মধ্যে মানুষগুলো সার্ফিং করছে\\n 8222.jpg চেয়ারের উপর বিড়ালটা বসে আছে \\n8223.jpg পাখি দুটি হাঁটছে\\n  8225.jpg বরফের উপর ছেলেটা স্কেটিং করছে \\n 8226.jpg সমুদ্রের পাড়ে পাথরের পাশে ছেলেটা সসার খেলছে \\n 8227.jpg ভাল্লুকটি দাঁত বের করে রেখেছে \\n 8228.jpg খেলোয়াড়েরা বেজবল খেলছে \\n  8229.jpg বাচ্চা ছেলেটা বেজবল খেলছে\\n  8230.jpg সবুজ ঘাসের উপর একটি পাইপ\\n 8231.jpg গাছের পাশে জিরাফটি দাঁড়িয়ে আছে \\n 8232.jpg বিড়ালটি ছাতাটি কামড়ে ধরে আছে \\n8233.jpg লোকটি টেনিস ব্যাট হাতে নিয়ে দাঁড়িয়ে আছে\\n8237.jpg বিমানবন্দরে কয়েকটি বিমান ও গাড়ি \\n8239.jpg টেলিভিশনের সামনে বাচ্চা ও একটি লোক দাঁড়িয়ে আছে  চষে বেড়াচ্ছে\\n\\n8209.jpg লোকটি বেইজবল খেলছে\\n8214.jpg ওভেনের ভিতরে বিড়ালটি বসে আছে\\n8216.jpg টুপি মাথায় একটি লোক দাঁড়িয়ে আছে\\n8217.jpg একটি সাইকেলের দোকান\\n8224.jpg টেবিলের উপর দুটি পিৎজা\\n8235.jpg পিৎজা হাতে নিয়ে মেয়েটি চোখ টিপ দিয়ে আছে\\n8236.jpg পুতুলটির মুখের কাছে একটি বোতল রাখা\\n8238.jpg রাস্তা দিয়ে অনেকগুলো লোক মোটরসাইকেল চালাচ্ছে\\n8246.jpg একজন মানুষ ফুল ফুলদানি হাতে ধরে রেখেছে এবং একটি মেয়ে তা আঙুল দিয়ে ছুয়ে রেখেছে\\n8240.jpg সমুদ্রের পানিতে ছেলেটা সার্ফিং করছে\\n  8241.jpg ঘাটে কয়েকটি জাহাজ \\n  8242.jpg দেয়ালের পাশে জিরাফটি দাঁড়িয়ে আছে \\n8243.jpg একটি টেবিলের দুপাশে দুজন মানুষ দাঁড়িয়ে আছে \\n  8244.jpg ভবনের সামনে একটি বাস দাঁড়িয়ে আছে \\n  8245.jpg ছেলেটা রাস্তায় পড়ে গেছে \\n  8247.jpg মেয়েটা ফুলদানিতে একটি আঙুল ছুয়ে আছে \\n8248.jpg পাথরের পাহাড়ের পাশে ঘাসের মধ্যে একটি ভেড়া দাঁড়িয়ে আছে \\n 8249.jpg একটি লোমশ কুকুর \\n  8250.jpg রেলস্টেশনে রেলগাড়ীর পাশে রেলমাস্টার দাঁড়িয়ে আছে\\n  8253.jpg আকাশে বেলুন উড়ছে\\n  8254.jpg গাছের ডালপালার মাঝে সাইকেলটি পরে আছে \\n8255.jpg বরফের উপর ছেলেগুলো স্কি করছে\\n  8256.jpg টুপি পরা বাচ্চাটি খাবার খাচ্ছে \\n  8257.jpg ট্রেতে খাবার রাখা \\n8252.jpg চপিং বোর্ডের উপর কিছু খাবার ও একটি ছুড়ি রাখা\\n8258.jpg গাছের পাশে জিরাফটি দাঁড়িয়ে আছে \\n8259.jpg রাস্তা দিয়ে বাস ও গাড়ি চলছে \\n8260.jpg বাচ্চাটি পুতুল নিয়ে ঘুমিয়ে আছে \\n8261.jpg রাস্তার পাশে ফুটপাতে মানুষগুলো দাঁড়িয়ে আছে\\n8262.jpg ফুটপাতে মানুষ দাঁড়িয়ে আছে\\n8263.jpg টেবিলের উপর অনেক কিছু রাখা\\n8264.jpg বাক্সের মধ্যে কয়েকটি ঘড়ি\\n8265.jpg গাছের ডালে দুটি কোয়ালা বসে আছে\\n8266.jpg লাইফ জ্যাকেট পরে বাচ্চারা সাঁতার কাটছে এবং একজন লোক নৌকা চালাচ্ছে \\n8267.jpg খেলোয়াড়টি বল ছুড়ে দিচ্ছে \\n8268.jpg বিছানার একপাশে কাপড় এবং অন্য পাশে কুকুর বসে আছে \\n8269.jpg ঝোপঝাড়ের সামনে ছেলেটা দাঁড়িয়ে আছে\\n8272.jpg খাবার টেবিলে অনেকগুলো মানুষ বসে আছে\\n 8275.jpg বাচ্চাটি মেঝেতে শুয়ে কি বোর্ডের উপর হাত রেখে কাঁদছে\\n8276.jpg খেলোয়াড়েরা মাঠে খেলছে এবং ধুলা উড়াচ্ছে\\n8279.jpg নদীর পাড়ে কয়েকটি হাঁস এবং ঘাসের উপর বেঞ্চে দুজন মানুষ বসে আছে \\n 8280.jpg ছেলেটা লাফ দিয়েছে\\n 8283.jpg স্যান্ডউইচ গুলোর উপর চামচ গেঁথে রাখা হয়েছে \\n  8284.jpg বাক্সের ভিতরে পুতুল\\n8285.jpg ছেলেটা গ্লাভস ও টুপি পরা \\n8282.jpg কুকুরটি একটি প্লেট কামড়ে ধরে আছে\\n8286.jpg সবুজ মাঠের মধ্যে মেয়েটি ঘোড়ার পিঠে বসে আছে\\n 8287.jpg ছোট মেয়েটি তাকিয়ে হাসছে\\n 8288.jpg বরফের উপর ছেলেটা স্কিইং করছে\\n 8289.jpg পানিতে জাহাজের উপর লোকটি দাঁড়িয়ে আছে \\n8290.jpg দেয়ালের সাথে একটি বিশাল ঘড়ি লাগানো \\n8291.jpg প্লেটের উপর খাবার রাখা \\n 8292.jpg সমুদ্রে ঢেউয়ের মধ্যে মানুষ গুলো সার্ফিং করছে\\n8293.jpg লোক দুটি খাবার খাচ্ছে\\n8294.jpg বালির উপর ছাতার নিচে দুজন মানুষ বসে আছে \\n8295.jpg টেবিলের উপর দুটি ল্যাপটপ রাখা এবং সামনে একটি কুকুরের মাথা দেখা যাচ্ছে \\n8296.jpg পাথরের উপর পুতুল রাখা \\n8297.jpg সবুজ রঙের ট্রাফিক বাতি জ্বলছে \\n8298.jpg মাঠে খেলোয়াড়েরা বেইজবল খেলছে\\n8299.jpg ফুলদানিতে ফুল রাখা \\n8300.jpg মেয়েটির কোলে একটি কুকুর বসে আছে \\n8301.jpg লোকটা উপরে তাকিয়ে হাঁটছে\\n 8302.jpg ঘরের ভিতর অনেকগুলো টেবিল ও চেয়ার রাখা \\n  8303.jpg একটি বিছানা\\n 8304.jpg রাস্তায় একটি বাস চলছে \\n  8306.jpg বেসিনের ভিতরে একটি পুতুল রাখা\\n8307.jpg পিচঢালা রাস্তায় লোকটি মোটরসাইকেল চালাচ্ছে \\n8309.jpg টেবিলের উপর একটা বই রাখা \\n8310.jpg একটি মহিলা ও পিচ্চি ছেলে রোদচশমা পরে তাকিয়ে আছে\\n8311.jpg রেলগাড়ী চলছে \\n 8312.jpg গাড়িটি নৌকাটাকে টেনে নিচ্ছে\\n 8313.jpg বাগানের সামনে বসার দুটি বেঞ্চ রাখা  \\n8314.jpg সিগনালের বাতি\\n8315.jpg বাচ্চাটি মুখের ভিতরে ব্রাশ ঢুকিয়ে রেখেছে\\n8316.jpg  বেঞ্চের উপর একটি পুতুল রাখা \\n8317.jpg পুতুলটির কোলে বাচ্চা মেয়েটি বসে আছে\\n8318.jpg একটি মহিলা ও ছেলে দাঁড়িয়ে আছে\\n8319.jpg রাতে ভবনের ভিতর থেকে আলো জ্বলছে\\n 8320.jpg আকাশে রঙিন ঘুড়ি উড়ছে \\n8321.jpg রাস্তায় একটি বাস থেমে আছে \\n 8322.jpg বস্তা মাথায় পেঁচিয়ে ফোনে কথা বলছে \\n8323.jpg বিছানার উপর কুকুর দুটি বসে আছে\\n8324.jpg একটি গরু দাঁড়িয়ে আছে \\n8325.jpg দুটি সাইনবোর্ড \\n8326.jpg ঝুড়ির মধ্যে পাকা কলা রাখা \\n8327.jpg বরফের রাস্তায় মানুষ হাঁটছে \\n8328.jpg একটি বসার ঘর\\n8329.jpg আকাশে একটি প্যারাসুট উড়ছে\\n 8330.jpg দেয়ালে একটি ঘড়ি লাগানো \\n 8331.jpg একটি সাইনবোর্ড \\n8332.jpg সাজানো একটি হাতির পিঠে লোকটি বসে আছে\\n 8333.jpg বিছানায় লোকটি ঘুমিয়ে আছে এবং তার কম্বলের উপর কুকুর দুটি বসে আছে \\n8334.jpg ছেলেটা স্কেটিং করছে \\n8335.jpg ভাল্লুকটা বসে আছে\\n8337.jpg আকাশে একটি প্যারাসুট উড়ছে এবং লোকটি তা দেখছে \\n8338.jpg একটি বেগুনি রঙের তিনতলা বাস\\n8339.jpg হাতিটি সূড়ের মধ্যে ঘাস নিয়ে আছে\\n8340.jpg জুতাজোড়ার পাশে বিড়ালটি ঘুমিয়ে আছে \\n8341.jpg বরফের পাহাড়ের উপর মানুষ গুলো দাড়িয়ে আছে\\n8342.jpg একটি বহুতল ভবন\\n8343.jpg মেয়েটি ঘোড়াটিকে গাজর খাওয়াচ্ছে \\n8344.jpg প্লেটেট খাবার থেকে ধোঁয়া ছড়াচ্ছে \\n8345.jpg মাদুরের উপর একটি মোটরসাইকেল রাখা\\n8346.jpg রাতের আলোকিত শহর\\n 8347.jpg লোকটি মোটরসাইকেল চালাচ্ছে \\n8348.jpg দুটি জেব্রা দাঁড়িয়ে আছে \\n8349.jpg প্লেটের উপর একটি পিৎজা রাখা \\n 8350.jpg সবুজ ঘাসে ঢাকা মাঠে ভেড়াগুলো ঘাস খাচ্ছে \\n8351.jpg একটি বিছানা\\n8352.jpg রেলিঙের উপর পাখিটি বসে আছে\\n 8353.jpg রাস্তার একপাশে অনেক গুলো গাড়ি এবং অন্য পাশে একটি লোক ঘোড়ার পিঠে বসে আছে \\n  8354.jpg আকাশে একটি বিমান উড়ছে \\n 8355.jpg টুপি পরা মেয়েটি হাসছে\\n8357.jpg বেঞ্চে লোকটি বসে আছে \\n 8358.jpg প্লেটের মধ্যে কলা পাতার উপর খাবার এবং চামচ কাটা চামচ রাখা \\n8359.jpg রাস্তায় একটি গাড়ি দাঁড়িয়ে আছে\\n8360.jpg গাড়ির জানালায় কুকুরের মাথা দেখা যাচ্ছে \\n8361.jpg টেবিলের উপর পাকা কলা ও খেজুর রাখা \\n 8362.jpg চশমা পরা মেয়ে দুটি খাচ্ছে এবং হাসছে\\n8363.jpg বিড়ালটি টবের দিকে উঁকি দিচ্ছে \\n8364.jpg একটি বিছানা\\n8365.jpg টেবিলের উপর পিৎজা বোতল গ্লাস ও কাটা চামচ রাখা এবং একজন মানুষের হাত দেখা যাচ্ছে \\n 8366.jpg বাচ্চাটি পিৎজা সামনে চোখে হাত দিয়ে বসে আছে \\n 8367.jpg লোকটি তাকের বোতলগুলোর দিকে তাকিয়ে আছে \\n 8368.jpg লোকটি রাস্তা দিয়ে হাঁটছে এবং কথা বলছে \\n  8369.jpg রাস্তা দিয়ে একটি বাস চলছে \\n8370.jpg জেব্রার মাথা\\n 8371.jpg পানির মধ্যে একটি কুকুর দাড়িয়ে আছে \\n8372.jpg গাড়ির উপর পাখিটি বসে আছে \\n8373.jpg অনেকগুলো চিনামাটির পাত্র \\n  8374.jpg রাস্তায় একটি গাড়ি চলছে এবং ফুটপাত দিয়ে মানুষ ও কুকুরটা হাঁটছে\\n8375.jpg একটি স্নানঘর\\n8376.jpg সমুদ্রের অল্প পানিতে মানুষটি হাঁটছে\\n8377.jpg গ্লাস হাতে মেয়েটি চেয়ারে বসে আছে \\n8378.jpg টেবিলের সামনে একটি চেয়ারে মেয়েটা বসে আছে \\n  8379.jpg ট্রাকটি ভাঙা গাড়িটিকে টেনে নিচ্ছে \\n8380.jpg ফুটপাত দিয়ে মেয়েটি হাঁটছে\\n 8381.jpg বালির উপর কয়েকটি সার্ফিং বোর্ড রাখা\\n8386.jpg কমোডের উপর বিড়ালটি ঝুলে আছে \\n 8389.jpg ভাল্লুকটি তার বাচ্চাকে জড়িয়ে ধরে আদর করছে\\n8391.jpg একটি অগোছালো স্নানঘর\\n8392.jpg বয়স্ক লোকটি মোটরসাইকেল চালাচ্ছে \\n8393.jpg খেলোয়াড় দুটি ফুটবল খেলছে \\n8394.jpg জেব্রাটি মাঠে ঘাস খাচ্ছে\\n8397.jpg ছেলেটা সার্ফিং বোর্ড নিয়ে হাঁটছে\\n8382.jpg প্লেটের উপর একটি পিৎজা\\n8383.jpg সমুদ্রের পানিতে এবং সমুদ্রের তীরে অনেক মানুষ\\n8385.jpg বাটিতে লাল,কালো চেরি রাখা\\n8387.jpg ঘরের ভিতর ছেলেমেয়ে গিলো গান পরিবেশনা করছে\\n8388.jpg ঘরের ভিতর দুটি খাট\\n8399.jpg ব্রকলি গাছ \\n8390.jpg একটি খেলাঘর\\n8395.jpg বিড়ালটি জুতর উপর দাঁড়িয়ে আছে\\n8398.jpg পানির মধ্যে লোকটি পরে গেছে\\n8401.jpg কুকুরটা জানালার কাছে দাঁড়িয়ে আছে\\n8402.jpg ছবিতে দুজন মানুষ দেখা যাচ্ছে \\n8403.jpg দুটি বাচ্চা টেনিস খেলছে \\n 8404.jpg একটি পিৎজা \\n 8405.jpg মাঠে একটি জিরাফ ও অনেক গুলো ছাগল\\n 8406.jpg নদীর পাড়ে একটি ঘোড়া দাঁড়িয়ে আছে \\n8408.jpg প্লেটের উপর একপিস কেক\\n 8409.jpg রাস্তার পাশে গাছ ও বৈদ্যুতিক খাম্বা \\n 8410.jpg মহিলাটি বাছুরগুলো মুখে হাত দিয়ে আছে \\n  8411.jpg প্লেটের উপর খাবার রাখা \\n 8412.jpg বিছানার উপর দুটি পুতুল\\n8413.jpg লোকটা লাফ দিয়েছে \\n8414.jpg মাঠে বেজবল খেলা চলছে \\n 8415.jpg নীল আকাশে সাদা মেঘ\\n8417.jpg জঙ্গলের মাঝে কালো ভাল্লুকটি দাঁড়িয়ে আছে \\n 8419.jpg মহিলাটি দোকানে টাকা হাতে দাঁড়িয়ে আছে \\n8420.jpg ছেলেটা মোটরসাইকেলের উপর বসে আছে \\n 8421.jpg একটি বিছানা\\n 8422.jpg দুটি মহিলা ও একটি ছেলে দাঁড়িয়ে খাচ্ছে \\n8423.jpg বিড়ালগুলো মেঝেতে ঘুমিয়ে আছে \\n8424.jpg মাঠের মধ্যে দুটি জিরাফ দাঁড়িয়ে আছে \\n8425.jpg বেসিনের পাশে অনেক কিছু রাখা \\n8407.jpg লোক দুটো বরফের উপর দাঁড়িয়ে আছে\\n8418.jpg বহুতল ভবনের পাশের রাস্তা দিয়ে গাড়ি চলছে\\n8426.jpg বাচ্চাটি পুতুল নিয়ে শুয়ে আছে\\n8428.jpg পাশাপাশি দুটি ট্রেন চলছে\\n8427.jpg কাঠের ব্রিজের দুপাশে দুটি নৌকা রাখা \\n8429.jpg রেলপথে মালগাড়ি চলছে\\n8430.jpg একটি মোটরসাইকেল \\n 8431.jpg ঘাসের উপর লোকটি দাঁড়িয়ে আছে \\n 8432.jpg রাস্তার উপর কিছু লিখা\\n8433.jpg মহিলাটি বল ধরার জন্য দাঁড়িয়ে আছে\\n8434.jpg প্লেটের উপর খাবার\\n8435.jpg বরফের পাহাড়ের উপর অনেক মানুষ ঘোরাঘুরি করছে \\n8436.jpg ছেলেটা স্কেটিং করছে \\n 8437.jpg কলা গাছে কলা ও কলার মোচা ঝুলছে \\n8438.jpg লোকটা হাত উঁচু করে দাঁড়িয়ে আছে \\n 8439.jpg সবুজ মাঠে গরুটি ঘাস খাচ্ছে \\n 8440.jpg ছেলেটা পাইপের উপর দিয়ে স্কেটিং করছে \\n  8441.jpg একটি পুরাতন চুলা ও হাড়ি পাতিল\\n8442.jpg মেঝের উপর কালো কুকুরটি বসে আছে \\n8443.jpg চপিং বোর্ডের উপর কয়েকটি সবজি রাখা \\n 8444.jpg ছাতা মাথায় মেয়েটি দাঁড়িয়ে আছে \\n 8446.jpg ছেলেটা উল্টো হয়ে আছে\\n 8447.jpg ঘরের জানালা অল্প করে খোলা\\n8448.jpg রাস্তায় বাস চলছে \\n8449.jpg বরফের উপর একজন স্কেটিং করছে \\n8450.jpg বাক্সের ভিতরে একটি পিৎজা\\n8445.jpg পানিতে ছোট ছোট পালতোলা নৌকায় বাচ্চারা বসে আছে\\n8451.jpg টুপি পরা ছেলেটি মোবাইলে কিছু দেখছে\\n8452.jpg টুপি পরা মেয়েটি দাঁড়িয়ে হাসছে\\n8453.jpg বিড়ালটি কমোডের উপর দাঁড়িয়ে আছে \\n 8454.jpg মার্কেটের ভিতরে মানুষ দাঁড়িয়ে আছে \\n8455.jpg জঙ্গলের মাঝে একটি জিরাফ দাঁড়িয়ে আছে \\n8456.jpg অনেকগুলো কমলা\\n8457.jpg প্লেটে খাবার রাখা \\n8458.jpg টেবিলে খাবার প্লেট ও মগ রাখা \\n8459.jpg কাক দুটি ঘাসের উপর দাঁড়িয়ে আছে এবং একটি কাক খাবার খাচ্ছে\\n8460.jpg রেলিঙের উপর ছেলেটা স্কেটিং করছে\\n8461.jpg লোকটির মাথার উপর একটি পাখি বসে আছে \\n8462.jpg মোটরসাইকেলে একটি লোক ও একটি পিচ্চি বসে আছে\\n8463.jpg প্লেটের উপর পিৎজা রাখা \\n8464.jpg বাচ্চা মেয়েটি বসে আছে \\n8465.jpg বাড়ির সামনে মাঠের মধ্যে ঘোড়া গুলো দাঁড়িয়ে আছে \\n8466.jpg সমুদ্রের তীরে সার্ফিং বোর্ড নিয়ে মেয়েটি দাঁড়িয়ে আছে\\n8467.jpg বাক্সের ভিতরে কয়েক রকমের খাবার\\n8468.jpg টেবিলে রাখা মনিটরের সামনে লোকটি গালে হাত দিয়ে বসে আছে\\n8469.jpg বাচ্চা গুলো সোফায় বসে আছে\\n8470.jpg ছেলেটা স্কেটিং করছে \\n 8471.jpg গাড়িটির নিচে একটি পুতুল বসে আছে \\n8472.jpg শৌচাগারে কমোডের পাশে মহিলাটি বসে আছে\\n8473.jpg নদীর পাড়ে নৌকা বেঁধে রাখা হয়েছে \\n 8474.jpg রেলগাড়ী চলছে \\n 8475.jpg পাত্রের মধ্যে একটি পুতুল রাখা \\n8476.jpg রাস্তায় গাড়ির পাশে লোকটি হাঁটছে\\n8477.jpg ছেলেটা স্কেটিং করছে\\n8478.jpg একটি ফুল ফুটে আছে\\n8479.jpg অনেক গুলো একসাথে দৌড়াদৌড়ি করছে\\n8480.jpg মেয়েটি ঘোড়ার পিঠে বসে আছে\\n8481.jpg ছোট ছেলেটা স্কেটিং করছে \\n 8482.jpg সংসদের অধিবেশন \\n 8483.jpg বিছানার পাশে আলো জ্বলছে \\n8484.jpg সমুদ্রের তীরে বালির উপর মানুষ বসে আছে এবং আকাশে বিমান উড়ছে \\n8485.jpg মহিলাটি ফোনে কথা বলছে \\n 8486.jpg সবুজ মাঠের পর দালানকোঠা \\n 8487.jpg একটি স্নানঘর\\n8488.jpg চেয়ারের উপর মাথায় হাত দিয়ে লোকটি বসে আছে\\n8489.jpg বিমানবন্দরে বিমান থেকে মানুষ নেমে বাসে উঠছে\\n8490.jpg রাস্তার পাশে মেলা বসেছে\\n8491.jpg কাঁচের পাত্রে ফুল রাখা \\n8492.jpg সুউচ্চ দালানগুলোর সামনের মাঠে ফুটবল খেলা চলছে \\n8493.jpg ছেলেটা মুখের সামনে পিৎজা ধরে রেখেছে \\n8494.jpg রেলগাড়ী চলছে\\n8495.jpg বরফের উপর কুকুরটা খেলছে \\n8496.jpg একটি শৌচালয়\\n 8497.jpg শৌচাগারের পাশে একটি সাইকেল রাখা \\n8498.jpg স্টেডিয়ামের দর্শকসারীতে বসে মেয়ে দুটি হাসছে \\n8499.jpg লোকটি সমুদ্রে সার্ফিং বোর্ডের উপর হাঁটু গেড়ে বসে আছে\\n8500.jpg কাগজে পেঁচানো একটি খাবার\\n8501.jpg ট্রের উপর একটি খাবার ও পানির বোতল\\n8502.jpg ভবনের দেয়ালের সাথে দুটি ঘড়ি লাগানো \\n8504.jpg মাঠের মধ্যে লোকগুলো বাজনা বাজাচ্ছে \\n8505.jpg একটা বড় ও ছোট কি বোর্ড\\n8503.jpg ঘাসের মাঝে একটি কুকুর ও দূরে কয়েকটি গরু দাঁড়িয়ে আছে\\n8506.jpg সমুদ্রের ঢেউয়ের মধ্যে লোকটা সার্ফিং করছে\\n8507.jpg একটি অগোছালো বসার ঘরের সোফার উপর বিড়াল বসে আছে\\n8508.jpg জঙ্গলের ভিতরে জিরাফগুলো হাঁটছে\\n8509.jpg লোকটি বরফের উপর দাঁড়িয়ে আছে\\n8510.jpg প্লেটের উপর খাবার,চামচ ও ছুড়ি রাখা\\n8512.jpg টেবিলের উপর অনেক খাবার বোতল প্লেট গ্লাস রয়েছে \\n  8513.jpg মেয়েটা ল্যাপটপে কাজ করছে \\n  8514.jpg ছেলেটা স্কেটিং করছে \\n8515.jpg বনের মধ্যে একটি ভাল্লুক হাঁটছে\\n8516.jpg বাথটাবের মধ্যে দুটি ছেলে দাঁড়িয়ে ও বসে আছে \\n  8518.jpg লোকগুলো টেবিলে বসে ল্যাপটপে কাজ করছে \\n  8519.jpg মাঠে দাঁড়িয়ে খেলোয়াড়টি বল ছুড়ে দিচ্ছে \\n  8520.jpg মেঝের উপর কয়েকটি ব্যাগ রাখা \\n  8521.jpg আপেলের দোকানের সামনে কয়েকজন মানুষ দাঁড়িয়ে আপেল দেখছে\\n 8522.jpg বালির উপর কয়েকটি আকৃতির নৌকা রাখা \\n 8523.jpg দোকানে ঝোলানো কলার কাঁদি ধরে আছে বৃদ্ধ লোকটি \\n8524.jpg অনেকগুলো গাজর ও ব্রকলি রাখা\\n 8525.jpg সমুদ্রে লোকগুলো সার্ফিং করছে\\n8526.jpg গাজরের পাশে একটি ছুড়ি রাখা\\n8527.jpg টেবিলের উপর অনেক কিছু রাখা \\n8528.jpg ছেলেটা সসার প্লেট ধরেনহাত উঁচু করে দাঁড়িয়ে আছে\\n8529.jpg ছেলেটা স্কেটিং বোর্ড নিয়ে বসে আছে\\n8530.jpg রাস্তায় দুটি লোকের পিছনে অনেকগুলো ছাগল হাঁটছে এবং পিছনে আরো অনেক মানুষ\\n8531.jpg মেয়েটি টেবিল থেকে খাবার নিচ্ছে \\n8532.jpg প্লেটের উপর খাবার রাখা \\n 8533.jpg একটি শৌচাগার \\n 8534.jpg বরফের উপর একটি ভাঙা দরজার শৌচাগার \\n8535.jpg টেবিলের ট্রের উপর খাবার ও পানীয় আছে \\n8536.jpg ফ্রিজের ভিতরে অনেক খাবার রাখা \\n8537.jpg একটি ফুলদানি\\n8538.jpg বরফের পাহাড়ের উপর মানুষ ও ঘরবাড়ি \\n8539.jpg মহিলাটি পুতুল হাতে নিয়ে হাসছে \\n8540.jpg ঘাসে ঢাকা মাঠে মেয়েটি স্কেটিং করছ\\n8541.jpg টেবিলের উপর অনেক কিছু \\n8542.jpg কাঠের টুকরো উপর পান্ডাটি বসে আছে \\n8543.jpg ল্যাপটপের নিচে বিড়ালটি বসে আছে \\n8544.jpg লোকটি ঘুড়ি উড়াচ্ছে\\n 8545.jpg একটি খাবার\\n8546.jpg মেয়েটি খাবারের প্লেট ও গ্লাস হাতে দাঁড়িয়ে আছে\\n8547.jpg বাচ্চাটি বসে আছে\\n8548.jpg টেবিলের উপর দুটি মোবাইল পাশাপাশি রাখা\\n8549.jpg জেব্রাটি মাটির উপর শুয়ে আছে\\n8550.jpg রাস্তা দিয়ে গাড়ি চলছে \\n 8551.jpg লোকটি ল্যাপটপে কাজ করছে \\n8552.jpg বাক্সের মধ্যে বিস্কুট রাখা \\n8553.jpg পাহাড়ের পাশের রাস্তা দিয়ে ট্রাক চলছে \\n8554.jpg টেবিলের উপর একটি টেলিভিশন \\n8555.jpg বিমানবন্দরে একটি বিমান ও মালামাল রাখা \\n8556.jpg মেয়েটি জিরাফটিকে ঘাস দিচ্ছে \\n8557.jpg সমুদ্রের ঢেউয়ের মধ্যে লোকটা সার্ফিং করছে\\n8558.jpg ছাতা হাতে নিয়ে মেয়েটি ছেলেটার সাথে লাফ দিয়েছে \\n8559.jpg বরফের পাহাড়ের উপর দুজন মানুষ \\n8560.jpg টেনিস ব্যাট হাতে লোকটি দাঁড়িয়ে আছে\\n8561.jpg ট্রেনের কামরায় লোকটি বসে আছে \\n 8562.jpg ঘরের ভিতর অনেক জিনিসপত্র \\n8563.jpg বিড়ালটি কমোডের ভেতর থেকে পানি পান করছে\\n8564.jpg রাস্তায় একটি বাস চলছে \\n8565.jpg টেবিলে খাবার রাখা \\n8566.jpg ফুটপাতের উপর দিয়ে একটি অন্য রকম যানবাহন ও মানুষ চলছে \\n8567.jpg দেয়ালের সাথে ঘড়ি লাগানো \\n8568.jpg হাতির পিঠে মানুষ বসে আছে \\n8569.jpg রেলস্টেশনে একটি রেলগাড়ী থেমে আছে\\n8570.jpg বিমানবন্দরে একটি বিমান এসে থেমেছে\\n8571.jpg ল্যাপটপের উপর বিড়ালটি বসে আছে \\n8572.jpg একটি শৌচাগার \\n8573.jpg ছেলেটা সমুদ্রে সার্ফিং করছে\\n 8574.jpg কয়েকটি কমলা রঙের ফুল \\n8575.jpg বাথটবের সাবানের ফেনার ভিতরে লোকটা শুয়ে আছে \\n8576.jpg ছেলেটা বেঞ্চে বসে আছে \\n8577.jpg ছেলেটা সমুদ্রের অল্প পানিতে দাঁড়িয়ে আছে\\n8578.jpg বিমানবন্দরে একটি বিমান \\n8579.jpg একজন মানুষ সুটকেসটি ধরে আছে \\n8580.jpg ছেলেটা স্কেটিং বোর্ড নিয়ে উল্টো হয়ে লাফ দিচ্ছে \\n8581.jpg পানির পাইপের পাশে একজন মানুষের পা \\n8582.jpg গাড়ির উপর দুটি কুকুর \\n88583.jpg টেবিলে অনেক মানুষ মুখোমুখি বসে খাচ্ছে\\n8584.jpg মেয়েটির হাতে একটি মোবাইল\\n8585.jpg প্লেটের উপর দুই পিস স্যান্ডউইচ ও পাশে একটি শরবতের গ্লাস রাখা\\n8586.jpg ছোট ছেলেটা পাউরুটি খাচ্ছে\\n8587.jpg একটি সুসজ্জিত বসার ঘর\\n8588.jpg স্নানঘরের দেয়ালে কয়েকটি ছবির ফ্রেম টানানো \\n8589.jpg একটি মাউস\\n8590.jpg ফুটপাতের গাড়ি রাখা\\n8591.jpg কয়েকজন মানুষ বসে আছে\\n8592.jpg লোক দুটি স্কেটিং বোর্ড নিয়ে দাঁড়িয়ে আছে \\n8593.jpg গাছের ডালে একটি হলুদ কালো রঙের পাখি বসে আছে\\n8594.jpg মাঠের মধ্যে মেয়েটি সসার প্লেটটা ছুড়ে দিয়েছে এবং কুকুরটা তা দেখছে \\n8595.jpg দুটি ভেড়া মাটিতে বসে আছে\\n8596.jpg রেলগাড়ীতে মানুষ উঠছে\\n8597.jpg গাড়ির জানালার বাইরে কুকুরটা মাথা বের করে রেখেছে \\n8598.jpg একটি রান্নাঘর\\n8599.jpg ঘোড়ার পিঠে বসে মেয়েটা হাসছে\\n8600.jpg ফ্রিজের দরজায় স্টিকার লাগানো \\n 8601.jpg সবুজ ঘাসের উপর ভেড়া দুটি দাঁড়িয়ে আছে \\n8602.jpg ফলের দোকানদার মহিলাটি টাকা নিচ্ছে আরেকজনের কাছ থেকে\\n8605.jpg ছেলেটা স্কেটিং করছে\\n8606.jpg বরফের পাহাড়ের উপর অনেক মানুষ স্কেটিং করছে\\n8607.jpg মেঝের উপর একটি কাঁচি ও ব্রাশ পরে আছে\\n8608.jpg লোকটি সমুদ্রের পানিতে সার্ফিং করছে\\n8609.jpg লোকটি আপেল গাছের নিচে দাঁড়িয়ে আছে\\n8611.jpg বাচ্চা মেয়েটি পুতুল হাতে নিয়ে দাঁড়িয়ে আছে\\n8612.jpg রাস্তায় বাস চলছে\\n8613.jpg অনেক গুলো নৌকা এক জায়গায় রাখা\\n8614.jpg বিড়ালটি তাকিয়ে আছে\\n8615.jpg গাছের পাশে ঘোড়াটি দাঁড়িয়ে আছে\\n8616.jpg মাঠে খেলা চলছে\\n8617.jpg রাস্তার পাশে একটি সাইনবোর্ড\\n8618.jpg রাস্তায় একটি গাড়ি চলছে\\n8619.jpg হাতির গায়ে হাত রেখে লোকটি দাঁড়িয়ে আছে\\n8620.jpg চেয়ারের উপর কয়েকটি পুতুল রাখা\\n8621.jpg একটি লোক ও ছোট্ট মেয়ে নিজেদের বুকে হাত দিয়ে রেখেছে\\n8622.jpg লোকটি একটি জগ ধরে আছে এবং মহিলাটি সাইকেল চালাচ্ছে\\n8623.jpg রাস্তায় দুটি দোতলা বাস চলছে\\n8624.jpg কয়েকটি বাচ্চা ভেড়া মাঠের মধ্যে শুয়ে বসে আছে\\n8625.jpg ছেলেটা টেনিস খেলছে\\n8626.jpg মেয়টা টেনিস ব্যাট হাতে নিয়ে দাঁড়িয়ে আছে\\n8627.jpg দালানের সামনে অনেকগুলো বাস রাখা\\n8628.jpg তিনটি বাচ্চা বসে খাচ্ছে\\n8629.jpg একটি হাতির মাথা দেখা যাচ্ছে\\n8630.jpg মেয়েটি চুল আঁচড়াচ্ছে\\n8631.jpg গাছের ডালে রঙিন ছাতা ঝুলছে\\n8632.jpg ছেলেটা টেনিস খেলছে\\n8633.jpg ভবনের দেয়ালের সাথে একটি ঘড়ি লাগানো\\n8634.jpg বেঞ্চের উপর একটি ব্যাগ রাখা\\n8636.jpg পাহাড়ের চূড়ায় একটি বেঞ্চ রাখা\\n8637.jpg মেয়েটি বিছানায় শুয়ে বই পড়ছে\\n8638.jpg লোকটি ঘোড়ার রশি ধরে দাঁড়িয়ে আছে\\n8639.jpg টেবিলের উপর একটি বিড়াল শুয়ে আছে এবং তার সামনে একটি পাখি বসে আছে\\n8640.jpg ছেলেটি বসার ঘরের চেয়ারে বসে আছে\\n8641.jpg বিমানবন্দরে একটি বিমান রাখা\\n8642.jpg বিছানার উপর অনেক জিনিসপত্র রাখা\\n8643.jpg বাচ্চা মেয়ে দুটি ফুটবল খেলছে\\n8644.jpg প্লেটের উপর তিনটি আপেল রাখা\\n8645.jpg বাচ্চা মেয়েটা পিৎজা খাচ্ছে\\n8646.jpg কয়েকটি হাতি পানিতে দাঁড়িয়ে আছে\\n8647.jpg মেয়েটি টেনিস ব্যাট হাতে দাঁড়িয়ে আছে\\n8648.jpg গাড়ির ভিতর থেকে হরিণটাকে গাজর খাওয়ানো হচ্ছে\\n8649.jpg দুজন লোক তাকিয়ে হাসছে\\n8650.jpg একটি খালি বেঞ্চ\\n8651.jpg বাচ্চা দুটি দাঁড়িয়ে আছে\\n8652.jpg একটি পিৎজা\\n8653.jpg কয়েকটি লোক একসঙ্গে দাঁড়িয়ে আছে\\n8654.jpg একটি মনোরম বসার ঘর\\n8655.jpg বহুতল একটি ভবনের উপরে পতাকা উড়ছে\\n8656.jpg রশি দিয়ে নৌকা বাঁধা\\n8657.jpg বেঞ্চে উপর বিড়াল বসে আছে\\n8658.jpg খামারের মধ্যে কয়েকটি গরু বেঁধে রাখা হয়েছে\\n8659.jpg দুটি হাতি\\n8660.jpg একটি দরজা\\n8661.jpg মেঝেতে বসে মানুষগুলো ঘুড়ি বানাচ্ছে\\n8662.jpg একটি শৌচালয়\\n8663.jpg ছেলেটা স্কেটিং বোর্ড নিয়ে উল্টো হয়ে আছে\\n8664.jpg তারের ওপারে একটি গরু দাঁড়িয়ে আছে\\n8665.jpg পানির উপর একটি লোক বড়শি নিয়ে দাঁড়িয়ে আছে\\n8667.jpg খাম্বার সাথে সাইনবোর্ড টানানো\\n8668.jpg একটা রান্নাঘর\\n8669.jpg প্লেটের উপর খাবার রাখা\\n8670.jpg প্লেটের উপর একটি পিৎজা রাখা\\n8671.jpg রেলস্টেশনে একটি রেলগাড়ী আসছে\\n8672.jpg খাওয়ার টেবিলে চায়ের কাপ রাখা\\n8674.jpg ঘাসের উপর কিছু সবজি রাখা\\n8675.jpg রেললাইনের উপর দিয়ে রেলগাড়ী চলছে\\n8676.jpg ছেলেটা স্কেটিং করছে\\n8677.jpg সবুজ ঘাসে ঢাকা মাঠে জিরাফ গুলো হাঁটছে\\n8679.jpg বনের মধ্যে জিরাফটি হাঁটছে\\n8680.jpg প্লেটের উপর পিৎজা রাখা\\n8681.jpg বাচ্চা মেয়েটি হাতের পানির বোতলটি দেখাচ্ছে\\n8682.jpg অনেক রকমের কাঁচি\\n8683.jpg ছেলেটা স্কেটিং করছে\\n8684.jpg মাঠের মধ্যে ছেলেটা ছাতা মাথায় দিয়ে দাঁড়িয়ে আছে\\n8685.jpg দোকানের সামনে মেয়ে দুটি দাঁড়িয়ে আছে\\n8686.jpg টেবিলের উপর পাশাপাশি দুটি মনিটর রাখা\\n8687.jpg ছেলেটা স্কেটিং করছে\\n8688.jpg তিনজন মিলে কেক কাটছে\\n8689.jpg কয়েক রকমের ডোনাট\\n8690.jpg দুজন মানুষ রাস্তা পার হচ্ছে\\n8691.jpg গাছের নিচে মেয়েটি বসে আছে\\n8692.jpg রাস্তা দিয়ে একটি গাড়ি চলছে\\n8693.jpg প্লেটের উপর পাখিটি বসে আছে\\n8694.jpg ঘরের ভিতর মানুষগুলো দাঁড়িয়ে আছে\\n8695.jpg টেবিলের উপর প্লেটে কেক নিয়ে মহিলাটি বসে আছে\\n8696.jpg একটি সুসজ্জিত বেসিন\\n8697.jpg প্লেটের উপর খাবার রাখা\\n8698.jpg নাপিতটি চুল কাটছে\\n8699.jpg বিমানটি আকাশে উড়বে\\n8701.jpg হাতির কানে ধরে পায়ে পারা দিয়ে মানুষটি হাতির উপরে উঠার চেষ্টা করছে\\n8702.jpg টেবিলের উপর কিছু জিনিস রাখা এবং দেয়ালের উপর থেকে একটি ব্যাগ ঝুলছে\\n8703.jpg কুকুরটি প্লাস্টিকের বোতলটা কামড়ে ধরে আছে\\n8705.jpg কয়েক রকমের ফল\\n8706 jpg রান্নাঘরের সরঞ্জাম\\n8707.jpg হাতি ও মানুষ পানিতে নেমেছে\\n8708.jpg বরফের উপর লোকটা স্কেটিং করছে\\n8709.jpg মানুষগুলো ব্লেন্ডারে জুস বানাচ্ছে\\n8710.jpg দুটি ভেড়া\\n8711.jpg ছেলেটি লাফ দিচ্ছে\\n8712.jpg ট্রের উপর কয়েকটি ডোনাট রাখা\\n8713.jpg বাসের ভিতরে দুজন মানুষ বসে আছে\\n8714.jpg ডোনাটের পাশে একটি কৌটা\\n8715.jpg টেবিলের উপর তিনটি কম্পিউটারসহ অনেক কিছু রাখা\\n8716.jpg পানির মধ্যে লোকটি সার্ফিং করছে\\n8717.jpg লোকটা খাবার তৈরি করছে\\n8718.jpg হাতিটি মেয়েটার মুখের সামনে একটি মালা ধরে আছে\\n8719.jpg দেয়ালের উপর থেকে একটি ঘড়ি ঝুলছে\\n8720.jpg জিরাফটি বসে আছে\\n8721.jpg স্টেশনের ভেতরে রেলগাড়ী\\n8722.jpg একটা সুসজ্জিত রান্নাঘর\\n8723.jpg একটা স্নানঘর\\n8724.jpg প্লেটে খাবার রাখা\\n8725.jpg মানুষসহ ঘোড়াটি পাইপের উপর দিয়ে লাফ দিচ্ছে\\n8726.jpg তিনটি বাছুর\\n8727.jpg রাস্তায় একটি বাস চলছে\\n8728.jpg পাতাবিহীন গাছ\\n8729.jpg মানুষটি কম্বলের ভিতর থেকে হাত পা বের করে রেখেছে\\n8730.jpg একটি চেয়ার\\n8731.jpg রাস্তায় ছেলেটা স্কেটিং করছে\\n8732.jpg একটি চুল শুকানোর মেশিন\\n8733.jpg ঘোড়ার পিঠে একজন লোক বসে আছে এবং মানুষটি ঘোড়াটিকে টেনে নিয়ে যাচ্ছে\\n8734.jpg ছোট ছেলেটা বেইজবল খেলছে\\n8735.jpg একটি মোটরসাইকেল\\n8736.jpg বাক্সের ভিতরে খাবার\\n8737.jpg টেবিলের উপর কিছু খাবার\\n8738.jpg সাদা জামা পরা মহিলাটি সুটকেস টানছে\\n8739.jpg অনেক গুলো মহিলা গোলাপি রংয়ের কাপড়ের ফুল গলায় পরে এবং গোলাপি ছাতা খুলে রাস্তায় হাঁটছে\\n8740.jpg একটা বাচ্চা জেব্রা\\n8741.jpg রাস্তা দিয়ে মানুষ হাঁটছে\\n8742.jpg লোকটা সার্ফিং করছে\\n8743.jpg রাস্তার পাশে একটি সাইকেল রাখা\\n8744.jpg একটি হাতি তরা সূড় অন্য হাতির পিঠের উপর রেখেছে \\n8745.jpg রেলস্টেশনে রেলগাড়ী এসে থেমেছে\\n8746.jpg গাছের সাথে একটি সাইকেল আটকে রাখা হয়েছে\\n8747.jpg ঘাসের উপর একটি পানির পাইপ\\n8748.jpg গির্জার ভিতর\\n8749.jpg টেবিলের উপর অনেক খাবার রাখা\\n8750.jpg বরফের উপর লোকগুলো দাঁড়িয়ে আছে\\n8751.jpg মহিলাটি বাক্স খুলে খাবার দেখাচ্ছে\\n8752.jpg সাদা ভাল্লুক\\n8753.jpg ফুটপাতে একটি সাইকেল রাখা\\n8754.jpg দুজন মানুষ সসার খেলছে\\n8755.jpg বরফের উপর ছেলেটা বসে পরেছে\\n8756.jpg লোকটা মোটরসাইকেলের উপর বসে আছে\\n8757.jpg জেব্রাটি গাছের সাথে মাথা ঘষছে\\n8758.jpg ছেলেটা ছুড়ি দিয়ে ক্যাপসিকাম কাটছে\\n8759.jpg মেয়েটি টেনিস খেলছে\\n8760.jpg ছেলেটা কানে মোবাইল নিয়ে কথা বলছে\\n8761.jpg ফুলদানিতে ফুল রাখা\\n8763.jpg সমুদ্রের তীরে সাইকেল রেখে বেঞ্চের উপর বৃদ্ধ লোকটি বসে আছে\\n8764.jpg একটি ছাতার নিচে দুজন মহিলা দাঁড়িয়ে আছে\\n8765.jpg জিরাফটি গলা উঁচু করে রেখেছে\\n8766.jpg বাক্স ভর্তি খাবার\\n8767.jpg ফুলের টবের পাশে কিছু গাছ\\n8768.jpg টেবিলের উপর অনেক কিছু রাখা\\n8769.jpg মাঠের মধ্যে বাছুরটি গরুর দুধ খাচ্ছে\\n8770.jpg দুটি জিরাফের মাথা\\n8771.jpg পুতুলের মাথার উপর দুটি ফুল\\n8772.jpg পুতুল গুলোর পাশে বিড়ালটি বসে আছে\\n8773.jpg একটি শোবার ঘর\\n8774.jpg বাচ্চাগুলো লাঠি থেকে সুতা দিয়ে ঝুলানো খাবার কামড়ে খাচ্ছে \\n8775.jpg খাম্বার সাথপ সাইনবোর্ড লাগানো\\n8776.jpg সবুজ মাঠে দুটি জেব্রা\\n8777.jpg বৈদ্যুতিক তারের নিচে একটি সাইনবোর্ড\\n8778.jpg বেসিনের পাশে একটি তোয়ালে রাখা\\n8779.jpg খাম্বার পাশে একটি সাইনবোর্ড লাগানো\\n8780.jpg পাশাপাশি অনেকগুলো বাস দাঁড় করানো\\n8781.jpg দুটি জিরাফের মাথা দেখা যাচ্ছে\\n8782.jpg ছেলেটা কলার ভিতরে তলোয়ার ঢুকিয়ে রেখেছে\\n8783.jpg রেললাইনের উপর দিয়ে রেলগাড়ী চলছে\\n8784.jpg পানির পাইপ থেকে রাস্তায় পানি পরছে\\n8785.jpg মাঠে বেজবল খেলা চলছে\\n8787.jpg মাঠে দাঁড়িয়ে লোকটি এক হাতে বাচ্চা ও আরেক হাতে ব্যাট হাতে নিয়ে দাঁড়িয়ে আছে\\n8788.jpg খালি পায়ে লোকটা মাঠের মধ্যে দাঁড়িয়ে আছে\\n8790.jpg কুকুটা গাড়ির জানালা দিয়ে বাইরের পরিবেশ দেখছে\\n8791.jpg প্লেটে খাবার রাখা\\n8792.jpg রাস্তায় রাতের বেলা গাড়ি গুলো আলো জ্বালিয়ে চলছে\\n8793.jpg রাস্তায় লোকটা দাঁড়িয়ে আছে\\n8794.jpg গাড়ির সামনে লোকটা হাত উঁচু করে দাঁড়িয়ে আছে\\n8795.jpg একটি সুসজ্জিত রান্নাঘর\\n8796.jpg ঘাসের উপর দুটি ভেড়া দাঁড়িয়ে আছে\\n8797.jpg জিরাফটি লোকটির মুখ ছুয়ে আছে\\n8798.jpg রাস্তায় দুটি মোটরসাইকেল রাখা\\n8799.jpg রাস্তার পাশে একটা মোটরসাইকেল রাখা\\n8800.jpg টেবিলের উপর কয়েকটি প্লেটে খাবার রাখা\\n8801.jpg টেবিলের উপর খাবারের প্লেট, চামচ,ছুড়ি,মধু ও একটি গ্লাসে চাটনি রাখা\\n8802.jpg গাছের ডালে একটি পাখি বসে আছে\\n8803.jpg রাস্তা দিয়ে একটি বাস চলছে\\n8804.jpg টেবিলের উপর একটি কেক রাখা\\n8805.jpg হেলমেট মাথায় পরে ছোট্ট ছেলেটা বেজবল খেলছে\\n8806.jpg আকাশে ঘুড়ি উড়ছে এবং ছেলেটা তা দেখছে\\n8807.jpg সমুদ্রের তীরে একটি উড়োজাহাজ রাখা\\n8808.jpg লোকটি প্যান্ট খুলে কমোডে বসে সামনের টেবিলে রাখা ল্যাপটপে কাজ করছে\\n8809.jpg রান্নাঘরে অনেক থালাবাটি, গ্লাস,বোতল,মগ রাখা\\n8810.jpg শেওলা পরা পুকুরের পাশে একটি বেঞ্চ\\n8811.jpg ঘরের ভিতর অনেক আসবাবপত্র\\n8812.jpg ঘাসের উপর কুকুরটি বসে আছে\\n8813.jpg সমুদ্রের তীরে বসার আসনগুলোর উপরে ছাতা দেয়া\\n8814.jpg ছোট ছেলেটা স্কেটিং করছে\\n8815.jpg বরফের উপর লোকগুলো দাঁড়িয়ে আছে\\n8816.jpg মেয়েটি রাস্তায় হাঁটছে আর কথা বলছে\\n8817.jpg দুজন মানুষ দাঁড়িয়ে মোবাইলে কথা বলছে\\n8818.jpg খাম্বার সাথে সাইকেলটা বাঁধা\\n8819.jpg মাঠে দাঁড়িয়ে লোকটা তার দুই হাত দিয়ে সসার প্লেটটাকে ধরে ফেলেছে\\n8820.jpg রাস্তায় গোলাপি রংয়ের একটি বাস চলছে\\n8821.jpg অনেকগুলো ভেড়া\\n8822.jpg একটা সুসজ্জিত শৌচাগার\\n8823.jpg কয়েকটি জেব্রা দাঁড়িয়ে আছে\\n8824.jpg লোকটি বেজবলের ব্যাট দিয়ে বল মারছে\\n8825.jpg রাস্তায় যানবাহনের সাথে মানুষও চলাচল করছে\\n8826.jpg ছেলেগুলো পানিতে সার্ফিং করছে\\n8827.jpg প্লেটের উপর কিছু খাবার\\n8828.jpg প্লেটের উপর কিছু খাবার ও সস রাখা\\n8829.jpg ট্রাক ভর্তি মালামাল\\n8830.jpg একটি মেয়ে ও ছেলে কাছাকাছি দাঁড়িয়ে আছে\\n8831.jpg প্লেটের উপর পিৎজা\\n8832.jpg রাস্তায় মোটরসাইকেলে করে একজন লোক যাচ্ছে\\n8833.jpg রাস্তার পাশে দুটি দোতলা বাস\\n8834.jpg প্লেটের উপর কিছু খাবার রাখা\\n8835.jpg কয়েকটি রিমোর্ট\\n8836.jpg বাসের পাশে দুটি গরু দাঁড়িয়ে আছে\\n8837.jpg ট্রের উপর প্লেট ও বাটিতে খাবার\\n8838.jpg মগের পাশে কেক রাখা\\n8839.jpg অনেকগুলো পুতুল\\n8840.jpg একটি রান্নাঘর\\n8841.jpg একটি জেব্রা মাথা ও আরেকটা জিহবার পেট দেখা যাচ্ছে\\n8842.jpg বেঞ্চের উপর বিড়াল বসে আছে\\n8843.jpg বাদুড় আকৃতির একটি ঘুড়ি\\n8844.jpg বরফের উপর দুজন মানুষ দাঁড়িয়ে আছে\\n8845.jpg বরফের উপর পরে থাকা ফলটিতে কামড় দিয়ে আছে কাকটি\\n8846.jpg বরফের উপর স্কেটিং করছে\\n8847.jpg আপেলের পাশে একটি দুধের গ্লাস\\n8848.jpg একটা রান্নাঘর\\n8849.jpg ছাতা মাথায় দিয়ে মেয়েটি দাঁড়িয়ে আছে\\n8850.jpg গাছের ছায়া দিয়ে মহিলাটি হাঁটছে\\n8851.jpg সবুজ ঘাসের উপর ভেড়াগুলো দাঁড়িয়ে আছে\\n8852.jpg লোক দুটি সসার খেলছে\\n8853.jpg দুটি বইয়ের সেলফের মাঝে একটি টেলিভিশন\\n8854.jpg একটি শৌচাগার\\n8855.jpg প্লেট থেকে বাচ্চাটি খাবার নিচ্ছে\\n8856.jpg বালির উপর বকটি দাঁড়িয়ে আছে\\n8857.jpg টাই পরা একটি ছেলে\\n8858.jpg দুজন ছেলের মাঝে একটি মেয়ে দাঁড়িয়ে আছে\\n8859.jpg একটি পানির পাম্প\\n8860.jpg সমুদ্রে মানুষ দাঁড়িয়ে আছে\\n8861.jpg বইগুলোর সামনে একটি ফুলদানি, ঘড়ি ও শোপিস\\n8862.jpg অনেকগুলো ভেড়ার মাঝে দুটি ভেড়া ঝগড়া করছে\\n8863.jpg একজন লোক বাচ্চার সাথে হাত মেলাচ্ছে\\n8864.jpg বনের মধ্যে জেব্রা ঘুরছে\\n8865.jpg বন্ধ করে দেয়া একটি রেলপথ\\n8866.jpg ছেলেটা দাঁত ব্রাশ করছে\\n8867.jpg একটি সুসজ্জিত বসার ঘর\\n8868.jpg লাঠি হাতে লোকটি দরজার বাইরে দাঁড়িয়ে আছে\\n8869.jpg ব্যাগের উপর বিড়ালটা বসে আছে\\n8870.jpg বরফের উপর ছেলেমেয়ে দুটি দাঁড়িয়ে আছে\\n8871.jpg একটি ফ্রিজ\\n8872.jpg বিমানবন্দরে একটি বিমান রাখা\\n8873.jpg সমুদ্রে সার্ফিং বোর্ডের উপর মেয়েটি শুয়ে আছে এবং কুকুরটি দাঁড়িয়ে আছে\\n8874.jpg দুটি বাচ্চা মেয়ে এক দিকে তাকিয়ে আছে\\n8875.jpg লোকটি পিয়ানো বাজাচ্ছে\\n8876.jpg ডালের উপর পাখিটি বসে আছে\\n8877.jpg দোকানে অনেক গুলো পুতুল রাখা হয়েছে\\n8878.jpg গরুগুলো রাস্তা পার হচ্ছে\\n8879.jpg লোকটি পিরিচ থেকে কেক নিয়ে খাচ্ছে\\n8880.jpg সমুদ্রে মেয়েটি সার্ফিং করছে\\n8881.jpg সবুজ ঘাসে ঢাকা মাঠে জেব্রাটি ঘাস খাচ্ছে\\n8882.jpg টেবিলের উপর চারটি পিৎজা ও চারটি গ্লাস\\n8883.jpg তিনটি কাঁচের ফুলদানি\\n8884.jpg জেব্রা দুটি দাঁড়িয়ে ঘাস খাচ্ছে\\n8885.jpg টেবিলের উপর তিনটি কম্পিউটার\\n8886.jpg কাঁচের দেয়ালের একটি স্নানঘর\\n8887.jpg রাস্তায় গাড়ি চলছে\\n8888.jpg বাচ্চা জিরাফটি মা জিরাফের কাছ থেকে দুধ খাচ্ছে\\n8889.jpg আকাশে চারটি জেটবিমান ধোঁয়া ছড়াচ্ছে\\n8890.jpg প্যারাসুট থেকে লোকটি সমুদ্রে নেমেছে\\n8891.jpg একটি পুতুল\\n8892.jpg সমুদ্রের তীরে পাথরের উপর একটি পুতুল রাখা\\n8893.jpg একটি ফাঁকা রাস্তা\\n8894.jpg বরফের উপর একটি পানির পাইপ\\n8895.jpg সমুদ্রের তীরে বালির উপর ছেলে দুটি সসার খেলছে\\n8896.jpg বিছানার উপর একটি সাদা কম্বল\\n8897.jpg সোফার উপর লোকটার পাশে কুকুরটা বসে আছে\\n8898.jpg একটি পুতুল\\n8899.jpg ঘরের ভিতরের একাংশ\\n8900.jpg টেবিলের উপর একটি টুপি রাখা\\n8901.jpg হাতে খাবার নিয়ে বাচ্চাটি কাঁদছে\\n8902.jpg একটি রান্নাঘর\\n8903.jpg একটি সাদা ভাল্লুক\\n8904.jpg রাস্তায় একটি বাস দাঁড়িয়ে আছে\\n8905.jpg গাছের নিচে ঘোড়াগুলো দাঁড়িয়ে আছে\\n8906.jpg ছেলেটা ব্রাশ করছে\\n8907.jpg ছেলেমেয়েগুলো স্কেটিং বোর্ড নিয়ে বরফের উপর দাঁড়িয়ে আছে\\n8908.jpg দুটি জিরাফ পাশাপাশি হাঁটছে\\n8909.jpg বালিশের উপর একটি কুকুর বসে আছে\\n8910.jpg মাঠের উপর অনেকগুলো ভেড়া\\n8911.jpg ফুলদানিতে একটা ফুল রাখা\\n8912.jpg বরফের উপর একটি বাড়ি\\n8913.jpg গাছ কেটে ট্রাক ভর্তি করে লোকটি নিয়ে যাচ্ছে\\n8914.jpg কয়েকটি শরবতের বোতল\\n8915.jpg জঙ্গলের মধ্যে মোটরসাইকেলের পাশে ছেলেটা দাঁড়িয়ে আছে\\n8916.jpg গাছের ডালের ভিতরে একটি ডোনাট\\n8917.jpg হাতির বাচ্চাগুলাকে কাপড় দিয়ে ঢেকে রাখা হয়েছে এবং পাশেই মা হাতি দাঁড়িয়ে আছে\\n8918.jpg একটি শৌচালয়\\n8919.jpg খেলোয়াড়টি বেজবল খেলছে\\n8921.jpg খেলোয়াড়টি বেজবল খেলছে এবং পিছনে দুজন আছে\\n8922.jpg প্লেটের উপর কলা,স্ট্রবেরি,ডোনাট কেটে রাখা হয়েছে\\n8923.jpg পার্কের বেঞ্চে বৃদ্ধ লোকটি বসে আছে\\n8924.jpg প্লেটে অনেকগুলো খাবার ও পাশে চামচ,কাটা চামচ,ছুড়ি এবং সামনে শরবত ও পানির গ্লাস\\n8925.jpg মহিলাটি টেনিস খেলছে\\n8926.jpg সবুজ ঘাসে ঢাকা মাঠে একটি লোক দাঁড়িয়ে আছে এবং আরেকটি লোক লাফ দিচ্ছে\\n8927.jpg বিড়ালটি মাথা নিচু করে রেখেছে\\n8928.jpg বনের মধ্যে অনেকগুলো জেব্রা দাঁড়িয়ে আছে\\n8929.jpg প্লেটের উপর দুটি কলা ও কয়েকটি আপেল রাখা\\n8930.jpg আকাশে উড়োজাহাজ উড়ছে\\n8931.jpg গাছের নিচে দুটি ঘোড়া দাঁড়িয়ে আছে\\n8932.jpg বাক্সের ভিতরে বার্গার ও ডোনাট\\n8933.jpg একটি বসার ঘর\\n8934.jpg রাতের শহর\\n8935.jpg দুটি সাইনবোর্ড\\n8936.jpg হেলমেট পরা কয়েকজন মানুষ\\n8938.jpg বড় দুটি কেক\\n8939.jpg বরফের উপর লোকটি স্কেটিং করছে\\n8940.jpg বসার ঘরে সোফার উপর একটি পুতুল রাখা\\n8942.jpg সমুদ্রের তীরে চেয়ারে একটি লোক শুয়ে আছে এবং আরেকজন বসে আছে\\n8943.jpg রাস্তায় ল্যাম্পপোস্ট থেকে আলো ছড়াচ্ছে\\n8944.jpg এক জায়গায় অনেক গুলো জেব্রা ও সামনে একটি জিরাফ দাঁড়িয়ে আছে\\n8945.jpg একটি কমোড\\n8946.jpg তিনটি রঙিন ফুলদানি\\n8947.jpg কালো ভাল্লুকটি গাছে বসে আছে\\n8948.jpg নদীর পাড়ে নৌকা বাধা\\n8949.jpg প্লেটের উপর খাবার রাখা\\n8950.jpg পাখিটি বসে আছে\\n8951.jpg খড়কুটোর উপর পাখিটি বসে আছে\\n8952.jpg বয়স্ক লোকটি মেঝের উপর অনেক জিনিসপত্র নিয়ে বসে আছে\\n8953.jpg মেয়েটি মোবাইলে কথা বলছে\\n8954.jpg বসার ঘর\\n8955.jpg মাটির উপর পাখিটি দাড়িয়ে আছে\\n8956.jpg ঝুড়ির কাগজের উপর স্যান্ডউইচ\\n8957.jpg কুকুরটা একটি প্লেট কামড়ে ধরে আছে\\n8958.jpg বনের মধ্যে কয়েকটি জেব্রা দাঁড়িয়ে আছে\\n8959.jpg কয়েকটি জিরাফ দাঁড়িয়ে আছে\\n8960.jpg অগোছালো বিছানার উপর তিনটি বিড়াল\\n8961.jpg সিগনালের খাম্বার নিচ দিয়ে একটি গাড়ি চলছে\\n8962.jpg খাঁচার ভিতরে দুটি জিরাফ আটকানো\\n8963.jpg মেয়েটি টেনিস খেলছে\\n8964.jpg রাতের অন্ধকারে মেয়েটি বসে আছে\\n8965.jpg লোকটা খাবার খাচ্ছে\\n8966.jpg ছেলেটা স্কেটিং করছে\\n8967.jpg পাথরের গর্তে বিড়ালটি বসে আছে\\n8968.jpg টেবিলের উপর দুটি মোবাইল\\n8969.jpg কুকুরটা শুয়ে আছে\\n8970.jpg মেঝেতে একটি ছাতা পরে আছে এবং দূরে একটি বিড়াল দাঁড়িয়ে আছে\\n8972.jpg মাদুরের উপর অনেকগুলো পুতুল গোল করে বসিয়ে রাখা হয়েছে\\n8973.jpg গাছের নিচে একটি বেঞ্চ\\n8974.jpg ফুটপাতের উপর একটি সাইকেল রাখা হয়েছে\\n8975.jpg গাড়ির দরজার কাছে লোকটি দাঁড়িয়ে আছে\\n8976.jpg লোকটা স্কেটিং করছে\\n8977.jpg ঘাসের মাঝে ভাল্লুকটি বসে আছে\\n8978.jpg সোফায় বসে ছেলেটা ল্যাপটপ চালাচ্ছে\\n8979.jpg মেয়ে দুটি হাসছে\\n8980.jpg মেয়েটি টেনিস খেলছে\\n8981.jpg লোকটা পিয়ানো বাজাচ্ছে\\n8982.jpg ল্যাপটপের উপর দুটি বিড়াল বসে আছে\\n8983.jpg রশি ধরে ছেলেটা সমুদ্রে সার্ফিং করছে\\n8984.jpg বেসিনের ভিতরে প্লেট, বাটি,চামচ ইত্যাদি জমা করে রাখা হয়েছে\\n8985.jpg রাস্তায় ভ্যানের উপর খাবার রান্না করে বিক্রি করা হচ্ছে\\n8986.jpg গাছের নিচে জেব্রা ও জেব্রার বাচ্চা দাঁড়িয়ে আছে\\n8987.jpg লোকটি রাস্তায় হাঁটছে ও ফোনে কথা বলছে\\n8988.jpg ছেলেটা স্কেটিং করছে\\n8990.jpg একটি টাই\\n8992.jpg সবুজ ঘাসের উপর ঘোড়া দুটি দাঁড়িয়ে আছে\\n8993.jpg বাচ্চাটি সোফায় বসে ব্রাশ কামড়াচ্ছে\\n8994.jpg টেবিলের উপর একটি ল্যাপটপ খুলে রাখা হয়েছে\\n8995.jpg মাঠে খেলা চলছে\\n8996.jpg ঘরের ভিতর দুটি খাট\\n8997.jpg দোকানের সামনে একটি বাস থেমে আছে\\n8998.jpg রাস্তায় ঘোড়ার গাড়ি চলছে\\n8999.jpg রাস্তায় ছাতা মাথায় দিয়ে মানুষ হাঁটছে\\n9000.jpg দেয়ালের সাথে একটি সাইনবোর্ড টানানো\\n\""
            ],
            "application/vnd.google.colaboratory.intrinsic+json": {
              "type": "string"
            }
          },
          "metadata": {},
          "execution_count": 18
        }
      ],
      "source": [
        "captions_doc"
      ]
    },
    {
      "cell_type": "code",
      "execution_count": null,
      "metadata": {
        "colab": {
          "base_uri": "https://localhost:8080/",
          "height": 49,
          "referenced_widgets": [
            "bc453661aff84ec49bb52e75268cca06",
            "b207700a46214b0a98036686a80b9631",
            "ac025d6d06db4f97b31f9648261b8154",
            "527a7c67ea364d8297e2210d8b6f3fe2",
            "da58e81c52104842a9b157657413d86f",
            "433948d25d93437680782cd76440d6cb",
            "53afb206c36e440296758bedfada419f",
            "730ba12f4e9c4335be8c4dd802a006d0",
            "15f6b9561a7c429a9761c95f90a51eaa",
            "090c9343f3a2438791aea4862450817f",
            "2647c9a6bb8c47e8bdf7239ac0d89a72"
          ]
        },
        "id": "pS7__utbH7Uh",
        "outputId": "c766973a-056a-4870-835c-f8f71675ea87"
      },
      "outputs": [
        {
          "output_type": "display_data",
          "data": {
            "text/plain": [
              "  0%|          | 0/117 [00:00<?, ?it/s]"
            ],
            "application/vnd.jupyter.widget-view+json": {
              "version_major": 2,
              "version_minor": 0,
              "model_id": "bc453661aff84ec49bb52e75268cca06"
            }
          },
          "metadata": {}
        }
      ],
      "source": [
        "mapping = {}\n",
        "# PROCESS LINE\n",
        "for line in tqdm(captions_doc.split('\\n')):\n",
        "  #SPLIT THE LINE BY COMMA\n",
        "  tokens = line.split(',')\n",
        "  if len(line) <2:\n",
        "    continue\n",
        "  image_id, caption = tokens[0], tokens[1:]\n",
        "  #REMOVE EXTENSION FROM IMAGE ID\n",
        "  image_id = image_id.split('.')[0]\n",
        "  #CONVERT CAPTION LIST TO STRING\n",
        "  caption = \" \".join(caption)\n",
        "  #CREATE LIST IF NEED\n",
        "  if image_id not in mapping:\n",
        "    mapping[image_id] = []\n",
        "  mapping[image_id].append(caption)"
      ]
    },
    {
      "cell_type": "code",
      "execution_count": null,
      "metadata": {
        "colab": {
          "base_uri": "https://localhost:8080/"
        },
        "id": "xG--W9EtY_rc",
        "outputId": "7d9fc2cc-b66a-4824-e846-5f10e1634c36"
      },
      "outputs": [
        {
          "output_type": "execute_result",
          "data": {
            "text/plain": [
              "39"
            ]
          },
          "metadata": {},
          "execution_count": 95
        }
      ],
      "source": [
        "#CHECK\n",
        "len(mapping)"
      ]
    },
    {
      "cell_type": "code",
      "execution_count": null,
      "metadata": {
        "id": "SLZHN2xUZHjB"
      },
      "outputs": [],
      "source": [
        "def clean(mapping):\n",
        "  for key, captions in mapping.items():\n",
        "    for i in range(len(captions)):\n",
        "      caption = captions[i] #TAKE ONE CAPTION AT A TIME\n",
        "      #PREPROCESSING STEPS\n",
        "      caption = caption.lower() #CONVERT TO LOWER CASE\n",
        "      caption = caption.replace('\\s+',' ') #DELETE ADDITIONAL SPACES\n",
        "      #ADD START AND TAGS TO THE CAPTIONS\n",
        "      #caption = '<start> ' + caption + ' <end>' #HELP'S TO START AND STOP PREDICITON, END TAG HELPS TO STOP\n",
        "      #caption = '<start> ' + \" \".join(word for word in caption.split() if len(word) > 1) + ' <end>' #remove small first word such as 'a'\n",
        "      captions[i] = caption"
      ]
    },
    {
      "cell_type": "code",
      "execution_count": null,
      "metadata": {
        "id": "fEZzlXCiZgMA"
      },
      "outputs": [],
      "source": [
        "clean(mapping)"
      ]
    },
    {
      "cell_type": "code",
      "execution_count": null,
      "metadata": {
        "colab": {
          "base_uri": "https://localhost:8080/"
        },
        "id": "EZ_iByuKZ8jG",
        "outputId": "6f2007e5-024d-4a26-dfc7-ae830f5afd38"
      },
      "outputs": [
        {
          "output_type": "stream",
          "name": "stdout",
          "text": [
            "6814\n",
            "39\n"
          ]
        },
        {
          "output_type": "execute_result",
          "data": {
            "text/plain": [
              "['', '', '', '', '', '', '', '', '', '']"
            ]
          },
          "metadata": {},
          "execution_count": 98
        }
      ],
      "source": [
        "all_captions = []\n",
        "for key in mapping:\n",
        "  for caption in mapping[key]:\n",
        "    all_captions.append(caption)\n",
        "\n",
        "#check\n",
        "print(len(features))\n",
        "print(len(all_captions))\n",
        "all_captions[:10]"
      ]
    },
    {
      "cell_type": "code",
      "source": [
        "all_img_name_vector = []\n",
        "\n",
        "for image_id in mapping:\n",
        "  for key in mapping[image_id]:\n",
        "    image = image_path + image_id + '.jpg'\n",
        "    all_img_name_vector.append(image)\n",
        "\n",
        "all_img_name_vector[:10]"
      ],
      "metadata": {
        "colab": {
          "base_uri": "https://localhost:8080/"
        },
        "id": "xttAmoXdNsv-",
        "outputId": "644963a4-3ef1-4d9e-fa7c-01472bd42d80"
      },
      "execution_count": null,
      "outputs": [
        {
          "output_type": "execute_result",
          "data": {
            "text/plain": [
              "['/content/drive/MyDrive/Bangla Image Caption.zip (Unzipped Files)/fm dataset/IMAGE/1510002  মধুর ক্যান্টিনের বারান্দায় কয়েকজন ছাত্র বসে গল্প করছে।.jpg',\n",
              " '/content/drive/MyDrive/Bangla Image Caption.zip (Unzipped Files)/fm dataset/IMAGE/1510003 মধুর ক্যান্টিনের সামনে ছাত্ররা জড়ো হয়েছে।.jpg',\n",
              " '/content/drive/MyDrive/Bangla Image Caption.zip (Unzipped Files)/fm dataset/IMAGE/1510004 অপরাজেয় বাংলার পাদদেশে অনেক মানুষ বসে আছে।.jpg',\n",
              " '/content/drive/MyDrive/Bangla Image Caption.zip (Unzipped Files)/fm dataset/IMAGE/1510005 ঢাকা বিশ্ববিদ্যালয় লাইব্রেরি থেকে একজন হুডি পড়া ছেলে বের হচ্ছে আর একজন নেভি ব্লু রঙের হুডি পড়া ছাত্র ভিতরে ঢুকছে।.jpg',\n",
              " '/content/drive/MyDrive/Bangla Image Caption.zip (Unzipped Files)/fm dataset/IMAGE/1520001 একটি মেয়ে হলুদ রঙের একটা মুখোশ নকশা করছে।.jpg',\n",
              " '/content/drive/MyDrive/Bangla Image Caption.zip (Unzipped Files)/fm dataset/IMAGE/1520002 দুইজন মেয়ে শাড়ি আর মাথায় ফুলের মুকুট পড়েছে।.jpg',\n",
              " '/content/drive/MyDrive/Bangla Image Caption.zip (Unzipped Files)/fm dataset/IMAGE/1520003  সবাই লাল সাদা জামা পড়ে হাতে ফেস্টুন নিয়ে সামনে যাচ্ছে।.jpg',\n",
              " '/content/drive/MyDrive/Bangla Image Caption.zip (Unzipped Files)/fm dataset/IMAGE/1520004  একটা মেয়ে লাল শাড়ি আর মাথায় ফুল পড়েছে এবং তার গালে শুভ নববর্ষ লেখা।.jpg',\n",
              " '/content/drive/MyDrive/Bangla Image Caption.zip (Unzipped Files)/fm dataset/IMAGE/1520005 কয়েকটা মেয়ে মাথায় ফুলের মুকুট আর লাল শাড়ি পড়ে হাটছে।.jpg',\n",
              " '/content/drive/MyDrive/Bangla Image Caption.zip (Unzipped Files)/fm dataset/IMAGE/1502006 দুইজন মহিলা হলুদ ফুলের তিতলি আর মালা পড়ে ছবি গাঁদা ফুল দেখছে।.jpg']"
            ]
          },
          "metadata": {},
          "execution_count": 99
        }
      ]
    },
    {
      "cell_type": "code",
      "source": [
        "print(f\"len(all_img_name_vector) : {len(all_img_name_vector)}\")\n",
        "print(f\"len(all_captions) : {len(all_captions)}\")"
      ],
      "metadata": {
        "colab": {
          "base_uri": "https://localhost:8080/"
        },
        "id": "G5ABNQqDN0C7",
        "outputId": "11865cf4-5133-479e-9dfd-e6a3e14f878d"
      },
      "execution_count": null,
      "outputs": [
        {
          "output_type": "stream",
          "name": "stdout",
          "text": [
            "len(all_img_name_vector) : 39\n",
            "len(all_captions) : 39\n"
          ]
        }
      ]
    },
    {
      "cell_type": "code",
      "source": [
        "# Shuffle captions and image_names together\n",
        "# Set a random state\n",
        "train_captions, img_name_vector = shuffle(all_captions,\n",
        "                                          all_img_name_vector,\n",
        "                                          random_state=1)\n",
        "\n",
        "# Select the first 16000 captions from the shuffled set\n",
        "num_examples = 18000\n",
        "train_captions = train_captions[:num_examples]\n",
        "img_name_vector = img_name_vector[:num_examples]"
      ],
      "metadata": {
        "id": "UuUcLdwzN6-m"
      },
      "execution_count": null,
      "outputs": []
    },
    {
      "cell_type": "code",
      "execution_count": null,
      "metadata": {
        "colab": {
          "base_uri": "https://localhost:8080/"
        },
        "id": "jy6IMT_jcI2Z",
        "outputId": "7d2bc12a-a58c-43b1-bb01-26b2af2c9a50"
      },
      "outputs": [
        {
          "output_type": "stream",
          "name": "stdout",
          "text": [
            "Looking in indexes: https://pypi.org/simple, https://us-python.pkg.dev/colab-wheels/public/simple/\n",
            "Requirement already satisfied: transformers in /usr/local/lib/python3.7/dist-packages (4.20.0)\n",
            "Requirement already satisfied: filelock in /usr/local/lib/python3.7/dist-packages (from transformers) (3.7.1)\n",
            "Requirement already satisfied: huggingface-hub<1.0,>=0.1.0 in /usr/local/lib/python3.7/dist-packages (from transformers) (0.7.0)\n",
            "Requirement already satisfied: importlib-metadata in /usr/local/lib/python3.7/dist-packages (from transformers) (4.11.4)\n",
            "Requirement already satisfied: pyyaml>=5.1 in /usr/local/lib/python3.7/dist-packages (from transformers) (6.0)\n",
            "Requirement already satisfied: packaging>=20.0 in /usr/local/lib/python3.7/dist-packages (from transformers) (21.3)\n",
            "Requirement already satisfied: numpy>=1.17 in /usr/local/lib/python3.7/dist-packages (from transformers) (1.21.6)\n",
            "Requirement already satisfied: regex!=2019.12.17 in /usr/local/lib/python3.7/dist-packages (from transformers) (2022.6.2)\n",
            "Requirement already satisfied: requests in /usr/local/lib/python3.7/dist-packages (from transformers) (2.23.0)\n",
            "Requirement already satisfied: tqdm>=4.27 in /usr/local/lib/python3.7/dist-packages (from transformers) (4.64.0)\n",
            "Requirement already satisfied: tokenizers!=0.11.3,<0.13,>=0.11.1 in /usr/local/lib/python3.7/dist-packages (from transformers) (0.12.1)\n",
            "Requirement already satisfied: typing-extensions>=3.7.4.3 in /usr/local/lib/python3.7/dist-packages (from huggingface-hub<1.0,>=0.1.0->transformers) (4.1.1)\n",
            "Requirement already satisfied: pyparsing!=3.0.5,>=2.0.2 in /usr/local/lib/python3.7/dist-packages (from packaging>=20.0->transformers) (3.0.9)\n",
            "Requirement already satisfied: zipp>=0.5 in /usr/local/lib/python3.7/dist-packages (from importlib-metadata->transformers) (3.8.0)\n",
            "Requirement already satisfied: certifi>=2017.4.17 in /usr/local/lib/python3.7/dist-packages (from requests->transformers) (2022.6.15)\n",
            "Requirement already satisfied: chardet<4,>=3.0.2 in /usr/local/lib/python3.7/dist-packages (from requests->transformers) (3.0.4)\n",
            "Requirement already satisfied: urllib3!=1.25.0,!=1.25.1,<1.26,>=1.21.1 in /usr/local/lib/python3.7/dist-packages (from requests->transformers) (1.24.3)\n",
            "Requirement already satisfied: idna<3,>=2.5 in /usr/local/lib/python3.7/dist-packages (from requests->transformers) (2.10)\n"
          ]
        }
      ],
      "source": [
        "!pip install transformers"
      ]
    },
    {
      "cell_type": "code",
      "execution_count": null,
      "metadata": {
        "colab": {
          "base_uri": "https://localhost:8080/"
        },
        "id": "ZeVY3WQTfYdt",
        "outputId": "35509ac0-f322-49ae-a8bb-3c534e47afa2"
      },
      "outputs": [
        {
          "output_type": "stream",
          "name": "stdout",
          "text": [
            "Total Tokens 681\n",
            "['[UNK]', 'মধ', '##র', 'ক', '##যান', '##টিনের', 'বারান', '##দা', '##য', 'ক', '##যে', '##ক', '##জন', 'ছাত', '##র', 'বসে', 'গল', '##প', 'করছে', '।', '[UNK]', 'মধ', '##র', 'ক', '##যান', '##টিনের', 'সামনে', 'ছাত', '##র', '##রা', 'জ', '##ডে', '##া', 'হযেছে', '।', '[UNK]', 'অপরা', '##জে', '##য', 'বাংলার', 'পাদদেশে', 'অনেক', 'মান', '##ষ', 'বসে', 'আছে', '।', '[UNK]', 'ঢাকা', 'বিশ', '##বব', '##িদ', '##যা', '##ল', '##য', 'লাইব', '##রে', '##রি', 'থেকে', 'একজন', 'হ', '##ডি', 'পড', '##া', 'ছেলে', 'বের', 'হ', '##চ', '##ছে', 'আর', 'একজন', 'নেভি', 'বল', 'রঙের', 'হ', '##ডি', 'পড', '##া', 'ছাত', '##র', 'ভিতরে', 'ঢক', '##ছে', '।', '[UNK]', 'একটি', 'মে', '##যে', 'হল', '##দ', 'রঙের', 'একটা', 'মখ', '##ে', '##াশ', 'নকশা', 'করছে', '।', '[UNK]', 'দই', '##জন', 'মে', '##যে', 'শা', '##ডি', 'আর', 'মাথা', '##য', 'ফলের', 'মক', '##ট', 'পড', '##েছে', '।', '[UNK]', 'সবাই', 'লাল', 'সাদা', 'জামা', 'পড', '##ে', 'হাতে', 'ফেস', '##টন', 'নি', '##যে', 'সামনে', 'যা', '##চ', '##ছে', '।', '[UNK]', 'একটা', 'মে', '##যে', 'লাল', 'শা', '##ডি', 'আর', 'মাথা', '##য', 'ফল', 'পড', '##েছে', 'এবং', 'তার', 'গালে', 'শ', '##ভ', 'নব', '##বর', '##ষ', 'লেখা', '।', '[UNK]', 'ক', '##যে', '##কট', '##া', 'মে', '##যে', 'মাথা', '##য', 'ফলের', 'মক', '##ট', 'আর', 'লাল', 'শা', '##ডি', 'পড', '##ে', 'হাট', '##ছে', '।', '[UNK]', 'দই', '##জন', 'মহিলা', 'হল', '##দ', 'ফলের', 'তিতলি', 'আর', 'মালা', 'পড', '##ে', 'ছবি', 'গাদা', 'ফল', 'দেখছে', '।', '[UNK]', 'মাথা', '##য', 'ফলের', 'মক', '##ট', 'পড', '##া', 'একজন', 'মে', '##যে', 'দই', '##টা', 'মে', '##যে', '##র', 'ছবি', 'তলে', 'দি', '##চ', '##ছে', '।', '[UNK]', 'তিনজন', 'মে', '##যে', 'শা', '##ডি', 'আর', 'ফলের', 'গ', '##যন', '##া', 'পড', '##ে', 'নত', '##য', 'পরিবেশনা', 'করছে', '।', '[UNK]', 'চারটা', 'বাচ', '##চা', 'গল', '##পের', 'বই', 'দেখছে', '।', '[UNK]', 'একটা', 'বই', 'এর', 'স', '##টলে', '##র', 'সামনে', 'অনেক', 'মান', '##ষ', 'বই', 'দেখছে', '।', '[UNK]', 'সাদা', 'জামা', 'পড', '##া', 'একটি', 'মে', '##যে', 'বই', 'এর', 'স', '##টলে', 'একটা', 'বই', 'দেখছে', '।', '[UNK]', 'মাথা', '##য', 'ফলের', 'মক', '##ট', 'পড', '##া', 'একটা', 'বাচ', '##চা', 'মে', '##যে', 'বই', 'এর', 'স', '##টলে', '##র', 'সামনে', 'একটা', 'গল', '##পের', 'বই', 'পড', '##ছে', '।', '[UNK]', 'বাংলা', 'একাডেমির', 'স', '##টলে', '##র', 'সামনে', 'একজন', 'লে', '##াক', 'দা', '##ডি', '##যে', 'আছে', 'সামনে', 'দি', '##যে', 'দই', '##জন', 'মহিলা', 'হেটে', 'যা', '##চ', '##ছেন', '।', '[UNK]', 'মের', '##ন', 'হ', '##ডি', 'পড', '##া', 'একটা', 'ছেলে', 'বই', 'এর', 'স', '##টল', 'থেকে', 'বই', 'দেখছে', '।', '[UNK]', 'অন', '##য', '##পর', '##কাশ', 'স', '##টলে', '##র', 'সামনে', 'অনেক', 'মান', '##ষ', 'বই', 'দেখছে', '।', '[UNK]', 'একজন', 'বই', 'এর', 'দে', '##াকা', '##নদার', 'বই', 'সে', '##াজ', '##া', 'করে', 'রাখছে', '।', '[UNK]', 'সকলের', 'বাচ', '##চারা', 'খাতা', '##য', 'লিখছে', 'দই', '##জন', 'শিক', '##ষি', '##কা', 'তাদের', 'পর', '##যব', '##েক', '##ষন', 'করছেন', '।', '[UNK]', 'পরা', '##থম', '##িক', 'সকলের', 'বাচ', '##চারা', 'বই', 'হাতে', 'নি', '##যে', 'দা', '##ডি', '##যে', 'আছে', '।', '[UNK]', 'মে', '##যে', '##রা', 'মাধ', '##যম', '##িক', 'পরি', '##কষ', '##া', 'দি', '##চ', '##ছে', '।', '[UNK]', 'বেন', '##ী', 'করা', 'তিনজন', 'সকলের', 'ছাত', '##রী', 'হাত', 'ধরে', 'দা', '##ডি', '##যে', 'আছে', '।', '[UNK]', 'শর', '##েন', '##ীক', '##কষ', '##ে', 'বাচ', '##চারা', 'হাত', 'তলে', 'বসে', 'আছে', '।', '[UNK]', 'কলা', '##সে', 'বাচ', '##চারা', 'দা', '##ডি', '##যে', 'হাসিম', '##খে', 'হাত', 'তালি', 'দি', '##চ', '##ছে', '।', '[UNK]', 'ছাত', '##র', '##রা', 'দা', '##ডি', '##যে', 'শিক', '##ষক', 'কে', 'সমমান', 'করছে', '।', '[UNK]', 'ছাত', '##র', '##রা', 'পরী', '##কষ', '##া', 'দি', '##চ', '##ছে', 'একজন', 'শিক', '##ষি', '##কা', 'তাদের', 'পা', '##হা', '##ডা', 'দি', '##চ', '##ছে', '।', '[UNK]', 'শহিদ', 'মিনারের', 'সামনে', 'একটি', 'পতাকা', 'রাখা', '।', '[UNK]', 'শহিদ', 'মিনারের', 'প', '##ষ', '##পার', '##ঘ', '##য', 'দেও', '##যা', 'হযেছে', '।', '[UNK]', 'একটা', 'মে', '##যে', 'ফলের', 'তে', '##াডা', 'দি', '##যে', 'শহিদ', 'মিনারের', 'সামনে', 'দা', '##ডি', '##যে', 'আছে', 'পিছনে', 'ক', '##যে', '##কট', '##া', 'ছেলে', 'শরদ', '##ধা', '##ঞ', '##জলি', 'দি', '##চ', '##ছে', '।', '[UNK]', 'সাদা', 'শা', '##ডি', 'পড', '##া', 'একটা', 'মে', '##যে', 'শহিদ', 'মিনারের', 'বেদি', 'গাদা', 'ফল', 'দি', '##যে', 'সাজা', '##চ', '##ছে', '।', '[UNK]', 'শহিদ', 'মিনারের', 'বেদীতে', 'গাদা', 'ফল', 'দি', '##যে', 'ঢাকা', 'বিশ', '##বব', '##িদ', '##যা', '##ল', '##য', 'লিখা', '।', '[UNK]', 'ক', '##যে', '##ক', 'জন', 'জাতী', '##য', '[UNK]', 'ঘরে', 'দেখছে', '।', '[UNK]', 'জাতী', '##য', '[UNK]', 'প', '##ষ', '##পার', '##ঘ', '##য', 'দেও', '##যা', 'হযেছে', '।', '[UNK]', 'জাতী', '##য', '[UNK]', 'সামনে', 'একটি', 'বিশাল', 'পতাকার', 'চারপাশে', 'সবাই', 'দা', '##ডি', '##যে', 'আছে', '।', '[UNK]', 'জাতী', '##য', '[UNK]', 'সামনে', 'মান', '##ষের', 'বিশাল', 'ঢল', ',', 'তার', 'মধ', '##যে', 'একজন', 'পতাকা', 'বিক', '##রে', '##তা', 'পতাকা', 'উড', '##াচ', '##ছেন', '।', '[UNK]', 'পাকি', '##স', '##তানি', 'বাহিনীর', 'পর', '##ধান', 'বাংলাদেশের', 'বিজ', '##য', 'সনদে', 'সাইন', 'করার', 'জন', '##য', 'দা', '##ডি', '##যে', 'আছে', '।', '[UNK]', 'পাকি', '##স', '##তানি', 'বাহিনী', 'বাংলাদেশের', 'কাছে', 'আত', '##মস', '##ম', '##র', '##পণ', 'করে', 'সাইন', 'করছে', '।']\n"
          ]
        }
      ],
      "source": [
        "from transformers import AutoTokenizer, AutoModel\n",
        "\n",
        "\n",
        "bnbert_tokenizer = AutoTokenizer.from_pretrained(\"sagorsarker/bangla-bert-base\")\n",
        "text =  'দুইটি কৃষ্ণচূড়া গাছের পিছনে ঢাকা বিশ্ববিদ্যালয়ের একটা বাস দেখা যাচ্ছে।\\n\\n1510002  মধুর ক্যান্টিনের বারান্দায় কয়েকজন ছাত্র বসে গল্প করছে।\\n\\n1510003 মধুর ক্যান্টিনের সামনে ছাত্ররা জড়ো হয়েছে।\\n\\n1510004 অপরাজেয় বাংলার পাদদেশে অনেক মানুষ বসে আছে।\\n\\n1510005 ঢাকা বিশ্ববিদ্যালয় লাইব্রেরি থেকে একজন হুডি পড়া ছেলে বের হচ্ছে আর একজন নেভি ব্লু রঙের হুডি পড়া ছাত্র ভিতরে ঢুকছে।\\n\\n1520001 একটি মেয়ে হলুদ রঙের একটা মুখোশ নকশা করছে।\\n\\n1520002 দুইজন মেয়ে শাড়ি আর মাথায় ফুলের মুকুট পড়েছে, পাশে কয়েকটা বাচ্চা ফেস্টুন নিয়ে দাঁড়িয়ে আছে।\\n\\n1520003  সবাই লাল সাদা জামা পড়ে হাতে ফেস্টুন নিয়ে সামনে যাচ্ছে।\\n\\n1520004  একটা মেয়ে লাল শাড়ি আর মাথায় ফুল পড়েছে এবং তার গালে শুভ নববর্ষ লেখা।\\n\\n1520005 কয়েকটা মেয়ে মাথায় ফুলের মুকুট আর লাল শাড়ি পড়ে হাটছে।\\n\\n1502006 দুইজন মহিলা হলুদ ফুলের তিতলি আর মালা পড়ে ছবি গাঁদা ফুল দেখছে।\\n\\n1502007 মাথায় ফুলের মুকুট পড়া একজন মেয়ে দুইটা মেয়ের ছবি তুলে দিচ্ছে।\\n\\n1520008 তিনজন মেয়ে শাড়ি আর ফুলের গয়না পড়ে নৃত্য পরিবেশনা করছে।\\n\\n15030001 চারটা বাচ্চা গল্পের বই দেখছে।\\n\\n'\n",
        "\n",
        "\n",
        "tokens = bnbert_tokenizer.tokenize(captions_doc)\n",
        "\n",
        "print(\"Total Tokens\", len(tokens))\n",
        "print(tokens)\n"
      ]
    },
    {
      "cell_type": "code",
      "execution_count": null,
      "metadata": {
        "colab": {
          "base_uri": "https://localhost:8080/"
        },
        "id": "qovR0gdEaP-2",
        "outputId": "b5ec20c7-59c9-49b5-b1fe-64555aa6ceab"
      },
      "outputs": [
        {
          "output_type": "execute_result",
          "data": {
            "text/plain": [
              "7"
            ]
          },
          "metadata": {},
          "execution_count": 104
        }
      ],
      "source": [
        "#TOKENIZE TEXT\n",
        "bnbert_tokenizer = Tokenizer()\n",
        "bnbert_tokenizer.fit_on_texts(all_captions)\n",
        "vocab_size = len(bnbert_tokenizer.word_index)+1\n",
        "\n",
        "vocab_size #CHECK"
      ]
    },
    {
      "cell_type": "code",
      "source": [
        "def create_vocabulary(data):\n",
        "  vocab = []\n",
        "  for captions in data.Captions.values:\n",
        "    vocab.extend(captions.split())\n",
        "  print(\"Vocabulary Size : {}\".format(len(set(vocab))))\n",
        "  return vocab"
      ],
      "metadata": {
        "id": "rpyGi_3G2ZfX"
      },
      "execution_count": null,
      "outputs": []
    },
    {
      "cell_type": "code",
      "execution_count": null,
      "metadata": {
        "colab": {
          "base_uri": "https://localhost:8080/"
        },
        "id": "yfJeiPyRhpso",
        "outputId": "2cbcb303-39d6-4197-dd5a-91b9ea09959a"
      },
      "outputs": [
        {
          "output_type": "execute_result",
          "data": {
            "text/plain": [
              "7"
            ]
          },
          "metadata": {},
          "execution_count": 106
        }
      ],
      "source": [
        "#GET MAXIMUM LENGTH OF THE CAPTION FOR PADDING THE SEQUENCE AND MODEL\n",
        "max_length = max(len(caption.split()) for caption in all_captions)\n",
        "\n",
        "max_length  #check"
      ]
    },
    {
      "cell_type": "code",
      "source": [
        "\n",
        "\n",
        "#GET MAXIMUM LENGTH OF THE CAPTION FOR PADDING THE SEQUENCE AND MODEL\n",
        "avg_length = sum(len(caption.split()) for caption in all_captions)/max_length\n",
        "\n",
        "avg_length #check"
      ],
      "metadata": {
        "colab": {
          "base_uri": "https://localhost:8080/"
        },
        "id": "yvlZdRIrjmot",
        "outputId": "6485fdea-efa7-44af-ec32-5750fbb05415"
      },
      "execution_count": null,
      "outputs": [
        {
          "output_type": "execute_result",
          "data": {
            "text/plain": [
              "1.0"
            ]
          },
          "metadata": {},
          "execution_count": 107
        }
      ]
    },
    {
      "cell_type": "code",
      "source": [
        "\n",
        "#GET MAXIMUM LENGTH OF THE CAPTION FOR PADDING THE SEQUENCE AND MODEL\n",
        "total_length =sum(len(caption.split()) for caption in all_captions)\n",
        "\n",
        "total_length#check"
      ],
      "metadata": {
        "colab": {
          "base_uri": "https://localhost:8080/"
        },
        "id": "I_vs8t3XlURY",
        "outputId": "e9ab01e7-97d7-40b0-e32c-7dd85c3774d2"
      },
      "execution_count": null,
      "outputs": [
        {
          "output_type": "execute_result",
          "data": {
            "text/plain": [
              "7"
            ]
          },
          "metadata": {},
          "execution_count": 108
        }
      ]
    },
    {
      "cell_type": "code",
      "source": [
        "len(train_captions), len(all_captions)"
      ],
      "metadata": {
        "colab": {
          "base_uri": "https://localhost:8080/"
        },
        "id": "8t1nMWhEOS5g",
        "outputId": "7445b938-fffc-4666-b410-9dc48de9d296"
      },
      "execution_count": null,
      "outputs": [
        {
          "output_type": "execute_result",
          "data": {
            "text/plain": [
              "(39, 39)"
            ]
          },
          "metadata": {},
          "execution_count": 109
        }
      ]
    },
    {
      "cell_type": "code",
      "source": [
        "# Get unique images\n",
        "encode_train = sorted(set(img_name_vector))\n",
        "\n",
        "# Feel free to change batch_size according to your system configuration\n",
        "image_dataset = tf.data.Dataset.from_tensor_slices(encode_train)\n",
        "image_dataset = image_dataset.map(load_image, num_parallel_calls=tf.data.experimental.AUTOTUNE).batch(16)"
      ],
      "metadata": {
        "id": "OEMDE858OgtX"
      },
      "execution_count": null,
      "outputs": []
    },
    {
      "cell_type": "code",
      "execution_count": null,
      "metadata": {
        "colab": {
          "base_uri": "https://localhost:8080/"
        },
        "id": "t_2InUolkeke",
        "outputId": "bad601ac-2174-4142-de14-5f570117c97f"
      },
      "outputs": [
        {
          "output_type": "stream",
          "name": "stdout",
          "text": [
            "35\n",
            "4\n"
          ]
        }
      ],
      "source": [
        "image_ids = list(mapping.keys())\n",
        "split = int(len(image_ids) * 0.90)\n",
        "train = image_ids[:split]\n",
        "test = image_ids[split:]\n",
        "\n",
        "#check\n",
        "print(len(train))\n",
        "print(len(test))"
      ]
    },
    {
      "cell_type": "code",
      "execution_count": null,
      "metadata": {
        "id": "QDb1DfxukoV4"
      },
      "outputs": [],
      "source": [
        "def data_generator(data_keys, mapping, features, bnbert_tokenizer, max_length, vocab_size, batch_size):\n",
        "  #loop over images\n",
        "  X1, X2, y = list(), list(), list()\n",
        "  n = 0\n",
        "  while 1:\n",
        "    for key in data_keys:\n",
        "      n+=1\n",
        "      caption = mapping[key]\n",
        "      #process each caption\n",
        "      for caption in caption:\n",
        "        #encode the sequence\n",
        "        seq = bnbert_tokenizer.texts_to_sequences([caption])[0]\n",
        "        #split the sequence into X,y pairs\n",
        "        for i in range(1, len(seq)):\n",
        "          #split into input and output pairs\n",
        "          in_seq, out_seq = seq[:i],seq[i]\n",
        "          #pad input sequence\n",
        "          in_seq = pad_sequences([in_seq], maxlen = max_length)[0]\n",
        "          #encode output sequence\n",
        "          out_seq = to_categorical([out_seq], num_classes=vocab_size)[0]\n",
        "\n",
        "          #store sequences\n",
        "          X1.append(features[key][0])\n",
        "          X2.append(in_seq)\n",
        "          y.append(out_seq)\n",
        "  if n == batch_size:\n",
        "    X1, X2, y = np.array(X1), np.array(X2), np.array(y)\n",
        "    yield [X1,X2], y\n",
        "    X1, X2, y = list(), list(), list()\n",
        "    n = 0"
      ]
    },
    {
      "cell_type": "code",
      "execution_count": null,
      "metadata": {
        "colab": {
          "base_uri": "https://localhost:8080/",
          "height": 754
        },
        "id": "Myla84dtkxpN",
        "outputId": "e136b821-d8da-4845-c537-1b86f630c354"
      },
      "outputs": [
        {
          "output_type": "execute_result",
          "data": {
            "text/plain": [
              "<IPython.core.display.Image object>"
            ],
            "image/png": "[encoded data removed]"
          },
          "metadata": {},
          "execution_count": 113
        }
      ],
      "source": [
        " # encoder model\n",
        "# image feature layers\n",
        "inputs1 = Input(shape=(4096,))\n",
        "fe1 = Dropout(0.4)(inputs1)\n",
        "fe2 = Dense(256, activation='relu')(fe1)\n",
        "# sequence feature layers\n",
        "inputs2 = Input(shape=(max_length,))\n",
        "se1 = Embedding(vocab_size, 256, mask_zero=True)(inputs2)\n",
        "se2 = Dropout(0.4)(se1)\n",
        "se3 = LSTM(256)(se2)\n",
        "\n",
        "# decoder model\n",
        "decoder1 = add([fe2, se3])\n",
        "decoder2 = Dense(256, activation='relu')(decoder1)\n",
        "outputs = Dense(vocab_size, activation='softmax')(decoder2)\n",
        "\n",
        "model = Model(inputs=[inputs1, inputs2], outputs=outputs)\n",
        "model.compile(loss='categorical_crossentropy', optimizer='Nadam')\n",
        "\n",
        "# plot the model\n",
        "plot_model(model, show_shapes=True)"
      ]
    },
    {
      "cell_type": "code",
      "execution_count": null,
      "metadata": {
        "colab": {
          "base_uri": "https://localhost:8080/"
        },
        "id": "8S2-RtnIa_-R",
        "outputId": "fe6dd95e-736a-4a23-deb9-98b8675cdeb7"
      },
      "outputs": [
        {
          "output_type": "stream",
          "name": "stdout",
          "text": [
            "Model: \"model_6\"\n",
            "__________________________________________________________________________________________________\n",
            " Layer (type)                   Output Shape         Param #     Connected to                     \n",
            "==================================================================================================\n",
            " input_11 (InputLayer)          [(None, 7)]          0           []                               \n",
            "                                                                                                  \n",
            " input_10 (InputLayer)          [(None, 4096)]       0           []                               \n",
            "                                                                                                  \n",
            " embedding_3 (Embedding)        (None, 7, 256)       1792        ['input_11[0][0]']               \n",
            "                                                                                                  \n",
            " dropout_6 (Dropout)            (None, 4096)         0           ['input_10[0][0]']               \n",
            "                                                                                                  \n",
            " dropout_7 (Dropout)            (None, 7, 256)       0           ['embedding_3[0][0]']            \n",
            "                                                                                                  \n",
            " dense_9 (Dense)                (None, 256)          1048832     ['dropout_6[0][0]']              \n",
            "                                                                                                  \n",
            " lstm_3 (LSTM)                  (None, 256)          525312      ['dropout_7[0][0]']              \n",
            "                                                                                                  \n",
            " add_3 (Add)                    (None, 256)          0           ['dense_9[0][0]',                \n",
            "                                                                  'lstm_3[0][0]']                 \n",
            "                                                                                                  \n",
            " dense_10 (Dense)               (None, 256)          65792       ['add_3[0][0]']                  \n",
            "                                                                                                  \n",
            " dense_11 (Dense)               (None, 7)            1799        ['dense_10[0][0]']               \n",
            "                                                                                                  \n",
            "==================================================================================================\n",
            "Total params: 1,643,527\n",
            "Trainable params: 1,643,527\n",
            "Non-trainable params: 0\n",
            "__________________________________________________________________________________________________\n"
          ]
        }
      ],
      "source": [
        "model.summary()"
      ]
    },
    {
      "cell_type": "code",
      "execution_count": null,
      "metadata": {
        "id": "-FUlYX_GuwLw"
      },
      "outputs": [],
      "source": [
        "# train the model\n",
        "epochs = 10\n",
        "batch_size = 16\n",
        "steps = len(train) // batch_size\n",
        "\n",
        "for i in range(epochs):\n",
        "    # create data generator\n",
        "    generator = data_generator(train, mapping, features, bnbert_tokenizer, max_length, vocab_size, batch_size)\n",
        "    # fit for one epoch\n",
        "    model.fit(generator, epochs=1, steps_per_epoch=steps, verbose=1)"
      ]
    },
    {
      "cell_type": "code",
      "execution_count": null,
      "metadata": {
        "id": "5_zUvEKJbKqa"
      },
      "outputs": [],
      "source": [
        "model.layers[2]\n",
        "model.layers[2].trainable = False"
      ]
    },
    {
      "cell_type": "code",
      "execution_count": null,
      "metadata": {
        "colab": {
          "base_uri": "https://localhost:8080/"
        },
        "id": "ihOth59DjKyX",
        "outputId": "bcbfb9b0-9a4e-4339-ed97-c2346932020e"
      },
      "outputs": [
        {
          "name": "stdout",
          "output_type": "stream",
          "text": [
            "Model: \"model_2\"\n",
            "__________________________________________________________________________________________________\n",
            " Layer (type)                   Output Shape         Param #     Connected to                     \n",
            "==================================================================================================\n",
            " input_4 (InputLayer)           [(None, 7)]          0           []                               \n",
            "                                                                                                  \n",
            " input_3 (InputLayer)           [(None, 4096)]       0           []                               \n",
            "                                                                                                  \n",
            " embedding (Embedding)          (None, 7, 256)       7424        ['input_4[0][0]']                \n",
            "                                                                                                  \n",
            " dropout (Dropout)              (None, 4096)         0           ['input_3[0][0]']                \n",
            "                                                                                                  \n",
            " dropout_1 (Dropout)            (None, 7, 256)       0           ['embedding[0][0]']              \n",
            "                                                                                                  \n",
            " dense (Dense)                  (None, 256)          1048832     ['dropout[0][0]']                \n",
            "                                                                                                  \n",
            " lstm (LSTM)                    (None, 256)          525312      ['dropout_1[0][0]']              \n",
            "                                                                                                  \n",
            " add (Add)                      (None, 256)          0           ['dense[0][0]',                  \n",
            "                                                                  'lstm[0][0]']                   \n",
            "                                                                                                  \n",
            " dense_1 (Dense)                (None, 256)          65792       ['add[0][0]']                    \n",
            "                                                                                                  \n",
            " dense_2 (Dense)                (None, 29)           7453        ['dense_1[0][0]']                \n",
            "                                                                                                  \n",
            "==================================================================================================\n",
            "Total params: 1,654,813\n",
            "Trainable params: 1,647,389\n",
            "Non-trainable params: 7,424\n",
            "__________________________________________________________________________________________________\n"
          ]
        }
      ],
      "source": [
        "model.summary()"
      ]
    },
    {
      "cell_type": "code",
      "execution_count": null,
      "metadata": {
        "id": "-YCUR-CQhHS6"
      },
      "outputs": [],
      "source": [
        "model.compile(loss='categorical_crossentropy',optimizer=\"adam\")"
      ]
    },
    {
      "cell_type": "code",
      "execution_count": null,
      "metadata": {
        "colab": {
          "base_uri": "https://localhost:8080/",
          "height": 200
        },
        "id": "nlqMMIrYhMF0",
        "outputId": "4e9874e1-f2a9-482c-96cc-4a2523cb038a"
      },
      "outputs": [
        {
          "ename": "NameError",
          "evalue": "ignored",
          "output_type": "error",
          "traceback": [
            "\u001b[0;31m---------------------------------------------------------------------------\u001b[0m",
            "\u001b[0;31mNameError\u001b[0m                                 Traceback (most recent call last)",
            "\u001b[0;32m<ipython-input-46-9766c535d45f>\u001b[0m in \u001b[0;36m<module>\u001b[0;34m()\u001b[0m\n\u001b[1;32m      1\u001b[0m \u001b[0mepochs\u001b[0m \u001b[0;34m=\u001b[0m \u001b[0;36m15\u001b[0m\u001b[0;34m\u001b[0m\u001b[0;34m\u001b[0m\u001b[0m\n\u001b[1;32m      2\u001b[0m \u001b[0mbatch_size\u001b[0m \u001b[0;34m=\u001b[0m \u001b[0;36m3\u001b[0m\u001b[0;34m\u001b[0m\u001b[0;34m\u001b[0m\u001b[0m\n\u001b[0;32m----> 3\u001b[0;31m \u001b[0msteps\u001b[0m \u001b[0;34m=\u001b[0m \u001b[0mlen\u001b[0m\u001b[0;34m(\u001b[0m\u001b[0mtrain_descriptions\u001b[0m\u001b[0;34m)\u001b[0m\u001b[0;34m//\u001b[0m\u001b[0mbatch_size\u001b[0m\u001b[0;34m\u001b[0m\u001b[0;34m\u001b[0m\u001b[0m\n\u001b[0m",
            "\u001b[0;31mNameError\u001b[0m: name 'train_descriptions' is not defined"
          ]
        }
      ],
      "source": [
        "epochs = 15\n",
        "batch_size = 3\n",
        "steps = len(train_descriptions)//batch_size"
      ]
    },
    {
      "cell_type": "code",
      "execution_count": null,
      "metadata": {
        "colab": {
          "base_uri": "https://localhost:8080/",
          "height": 311
        },
        "id": "XfgiFuxwPynX",
        "outputId": "5b5b7bf6-67a3-4301-dfae-d7ed5bc1562b"
      },
      "outputs": [
        {
          "ename": "ValueError",
          "evalue": "ignored",
          "output_type": "error",
          "traceback": [
            "\u001b[0;31m---------------------------------------------------------------------------\u001b[0m",
            "\u001b[0;31mValueError\u001b[0m                                Traceback (most recent call last)",
            "\u001b[0;32m<ipython-input-44-17f60df8e9a3>\u001b[0m in \u001b[0;36m<module>\u001b[0;34m()\u001b[0m\n\u001b[0;32m----> 1\u001b[0;31m \u001b[0mhistory\u001b[0m \u001b[0;34m=\u001b[0m \u001b[0mmodel\u001b[0m\u001b[0;34m.\u001b[0m\u001b[0mfit\u001b[0m\u001b[0;34m(\u001b[0m\u001b[0;34m)\u001b[0m\u001b[0;34m\u001b[0m\u001b[0;34m\u001b[0m\u001b[0m\n\u001b[0m",
            "\u001b[0;32m/usr/local/lib/python3.7/dist-packages/keras/utils/traceback_utils.py\u001b[0m in \u001b[0;36merror_handler\u001b[0;34m(*args, **kwargs)\u001b[0m\n\u001b[1;32m     65\u001b[0m     \u001b[0;32mexcept\u001b[0m \u001b[0mException\u001b[0m \u001b[0;32mas\u001b[0m \u001b[0me\u001b[0m\u001b[0;34m:\u001b[0m  \u001b[0;31m# pylint: disable=broad-except\u001b[0m\u001b[0;34m\u001b[0m\u001b[0;34m\u001b[0m\u001b[0m\n\u001b[1;32m     66\u001b[0m       \u001b[0mfiltered_tb\u001b[0m \u001b[0;34m=\u001b[0m \u001b[0m_process_traceback_frames\u001b[0m\u001b[0;34m(\u001b[0m\u001b[0me\u001b[0m\u001b[0;34m.\u001b[0m\u001b[0m__traceback__\u001b[0m\u001b[0;34m)\u001b[0m\u001b[0;34m\u001b[0m\u001b[0;34m\u001b[0m\u001b[0m\n\u001b[0;32m---> 67\u001b[0;31m       \u001b[0;32mraise\u001b[0m \u001b[0me\u001b[0m\u001b[0;34m.\u001b[0m\u001b[0mwith_traceback\u001b[0m\u001b[0;34m(\u001b[0m\u001b[0mfiltered_tb\u001b[0m\u001b[0;34m)\u001b[0m \u001b[0;32mfrom\u001b[0m \u001b[0;32mNone\u001b[0m\u001b[0;34m\u001b[0m\u001b[0;34m\u001b[0m\u001b[0m\n\u001b[0m\u001b[1;32m     68\u001b[0m     \u001b[0;32mfinally\u001b[0m\u001b[0;34m:\u001b[0m\u001b[0;34m\u001b[0m\u001b[0;34m\u001b[0m\u001b[0m\n\u001b[1;32m     69\u001b[0m       \u001b[0;32mdel\u001b[0m \u001b[0mfiltered_tb\u001b[0m\u001b[0;34m\u001b[0m\u001b[0;34m\u001b[0m\u001b[0m\n",
            "\u001b[0;32m/usr/local/lib/python3.7/dist-packages/keras/engine/data_adapter.py\u001b[0m in \u001b[0;36mselect_data_adapter\u001b[0;34m(x, y)\u001b[0m\n\u001b[1;32m    985\u001b[0m         \u001b[0;34m\"Failed to find data adapter that can handle \"\u001b[0m\u001b[0;34m\u001b[0m\u001b[0;34m\u001b[0m\u001b[0m\n\u001b[1;32m    986\u001b[0m         \"input: {}, {}\".format(\n\u001b[0;32m--> 987\u001b[0;31m             _type_name(x), _type_name(y)))\n\u001b[0m\u001b[1;32m    988\u001b[0m   \u001b[0;32melif\u001b[0m \u001b[0mlen\u001b[0m\u001b[0;34m(\u001b[0m\u001b[0madapter_cls\u001b[0m\u001b[0;34m)\u001b[0m \u001b[0;34m>\u001b[0m \u001b[0;36m1\u001b[0m\u001b[0;34m:\u001b[0m\u001b[0;34m\u001b[0m\u001b[0;34m\u001b[0m\u001b[0m\n\u001b[1;32m    989\u001b[0m     raise RuntimeError(\n",
            "\u001b[0;31mValueError\u001b[0m: Failed to find data adapter that can handle input: <class 'NoneType'>, <class 'NoneType'>"
          ]
        }
      ],
      "source": [
        "history = model.fit([X1,X2], y_out, batch_size=512, epochs=30)"
      ]
    },
    {
      "cell_type": "code",
      "execution_count": null,
      "metadata": {
        "id": "R05InT16fwLw"
      },
      "outputs": [],
      "source": [
        "from tensorflow.keras.utils import plot_model\n",
        "\n",
        "# define the captioning model\n",
        "def define_model(vocab_size, max_length):\n",
        "\n",
        "    # features from the CNN model squeezed from 2048 to 256 nodes\n",
        "    inputs1 = Input(shape=(2048,))\n",
        "    fe1 = Dropout(0.5)(inputs1)\n",
        "    fe2 = Dense(256, activation='relu')(fe1)\n",
        "\n",
        "    # LSTM sequence model\n",
        "    inputs2 = Input(shape=(max_length,))\n",
        "    se1 = Embedding(vocab_size, 256, mask_zero=True)(inputs2)\n",
        "    se2 = Dropout(0.5)(se1)\n",
        "    se3 = LSTM(256)(se2)\n",
        "\n",
        "    # Merging both models\n",
        "    decoder1 = add([fe2, se3])\n",
        "    decoder2 = Dense(256, activation='relu')(decoder1)\n",
        "    outputs = Dense(vocab_size, activation='softmax')(decoder2)\n",
        "\n",
        "    # tie it together [image, seq] [word]\n",
        "    model = Model(inputs=[inputs1, inputs2], outputs=outputs)\n",
        "    model.compile(loss='categorical_crossentropy', optimizer='adamw')\n",
        "\n",
        "    # summarize model\n",
        "    print(model.summary())\n",
        "    plot_model(model, to_file='/content/drive/MyDrive/ML/model.png', show_shapes=True)\n",
        "\n",
        "    return model\n",
        "# plot the model\n",
        "plot_model(model, show_shapes=True)"
      ]
    },
    {
      "cell_type": "code",
      "execution_count": null,
      "metadata": {
        "colab": {
          "base_uri": "https://localhost:8080/",
          "height": 165
        },
        "id": "SmfqWl-4m-o8",
        "outputId": "08cd7605-5cd5-40f2-c381-e9aa8777e15c"
      },
      "outputs": [
        {
          "ename": "NameError",
          "evalue": "ignored",
          "output_type": "error",
          "traceback": [
            "\u001b[0;31m---------------------------------------------------------------------------\u001b[0m",
            "\u001b[0;31mNameError\u001b[0m                                 Traceback (most recent call last)",
            "\u001b[0;32m<ipython-input-112-6e405dd24137>\u001b[0m in \u001b[0;36m<module>\u001b[0;34m()\u001b[0m\n\u001b[0;32m----> 1\u001b[0;31m \u001b[0mhistory\u001b[0m \u001b[0;34m=\u001b[0m \u001b[0mmodel\u001b[0m\u001b[0;34m.\u001b[0m\u001b[0mfit\u001b[0m\u001b[0;34m(\u001b[0m\u001b[0;34m[\u001b[0m\u001b[0mX1\u001b[0m\u001b[0;34m,\u001b[0m\u001b[0mX2\u001b[0m\u001b[0;34m]\u001b[0m\u001b[0;34m,\u001b[0m \u001b[0my_out\u001b[0m\u001b[0;34m,\u001b[0m \u001b[0mbatch_size\u001b[0m\u001b[0;34m=\u001b[0m\u001b[0;36m512\u001b[0m\u001b[0;34m,\u001b[0m \u001b[0mepochs\u001b[0m\u001b[0;34m=\u001b[0m\u001b[0;36m30\u001b[0m\u001b[0;34m)\u001b[0m\u001b[0;34m\u001b[0m\u001b[0;34m\u001b[0m\u001b[0m\n\u001b[0m",
            "\u001b[0;31mNameError\u001b[0m: name 'X1' is not defined"
          ]
        }
      ],
      "source": [
        "history = model.fit([X1,X2], y_out, batch_size=512, epochs=30)"
      ]
    },
    {
      "cell_type": "code",
      "execution_count": null,
      "metadata": {
        "id": "b_GG9E1opUmy"
      },
      "outputs": [],
      "source": [
        "epochs = 15\n",
        "batch_size = 32\n",
        "steps = len(train) // batch_size\n",
        "\n",
        "for i in range(epochs):\n",
        "    # create data generator\n",
        "    generator = data_generator(train, mapping, features, tokenizer, max_length, vocab_size, batch_size)\n",
        "    # fit for one epoch\n",
        "    model.fit(generator, epochs=10, steps_per_epoch=steps, verbose=1)"
      ]
    },
    {
      "cell_type": "code",
      "execution_count": null,
      "metadata": {
        "id": "XPmMVq4owCC8"
      },
      "outputs": [],
      "source": [
        "#train the model\n",
        "epochs = 10\n",
        "batch_size = 16\n",
        "steps = len(train) // batch_size\n",
        "\n",
        "for i in range(epochs):\n",
        "    # create data generator\n",
        "    generator = data_generator(train, mapping, features, bnbert_tokenizer, max_length, vocab_size, batch_size)\n",
        "    # fit for one epoch\n",
        "    model.fit()"
      ]
    },
    {
      "cell_type": "code",
      "execution_count": null,
      "metadata": {
        "id": "1hVxgBgvl_9Y"
      },
      "outputs": [],
      "source": [
        ""
      ]
    }
  ],
  "metadata": {
    "colab": {
      "collapsed_sections": [],
      "name": "Text preprocessing.ipynb",
      "provenance": []
    },
    "kernelspec": {
      "display_name": "Python 3",
      "name": "python3"
    },
    "language_info": {
      "name": "python"
    },
    "widgets": {
      "application/vnd.jupyter.widget-state+json": {
        "7113f86e05ee48f98e339d671bd6eb69": {
          "model_module": "@jupyter-widgets/controls",
          "model_name": "HBoxModel",
          "model_module_version": "1.5.0",
          "state": {
            "_dom_classes": [],
            "_model_module": "@jupyter-widgets/controls",
            "_model_module_version": "1.5.0",
            "_model_name": "HBoxModel",
            "_view_count": null,
            "_view_module": "@jupyter-widgets/controls",
            "_view_module_version": "1.5.0",
            "_view_name": "HBoxView",
            "box_style": "",
            "children": [
              "IPY_MODEL_3fcc3ccaa0834d788ba2ec963259a289",
              "IPY_MODEL_3f83cb4088d548b6b0429175c5cb60e6",
              "IPY_MODEL_86083269860e4954a68fe66376cbebec"
            ],
            "layout": "IPY_MODEL_1a6b928141bb401681f8ef326879b8a1"
          }
        },
        "3fcc3ccaa0834d788ba2ec963259a289": {
          "model_module": "@jupyter-widgets/controls",
          "model_name": "HTMLModel",
          "model_module_version": "1.5.0",
          "state": {
            "_dom_classes": [],
            "_model_module": "@jupyter-widgets/controls",
            "_model_module_version": "1.5.0",
            "_model_name": "HTMLModel",
            "_view_count": null,
            "_view_module": "@jupyter-widgets/controls",
            "_view_module_version": "1.5.0",
            "_view_name": "HTMLView",
            "description": "",
            "description_tooltip": null,
            "layout": "IPY_MODEL_bea3bcfe04b44d5292ebf375d7a623c4",
            "placeholder": "​",
            "style": "IPY_MODEL_5f4e7e8768624e1da51e41cd02f84d97",
            "value": "100%"
          }
        },
        "3f83cb4088d548b6b0429175c5cb60e6": {
          "model_module": "@jupyter-widgets/controls",
          "model_name": "FloatProgressModel",
          "model_module_version": "1.5.0",
          "state": {
            "_dom_classes": [],
            "_model_module": "@jupyter-widgets/controls",
            "_model_module_version": "1.5.0",
            "_model_name": "FloatProgressModel",
            "_view_count": null,
            "_view_module": "@jupyter-widgets/controls",
            "_view_module_version": "1.5.0",
            "_view_name": "ProgressView",
            "bar_style": "success",
            "description": "",
            "description_tooltip": null,
            "layout": "IPY_MODEL_1db605fbc303412c8f731ff358aeb247",
            "max": 6814,
            "min": 0,
            "orientation": "horizontal",
            "style": "IPY_MODEL_841ec6c54c5e40fc8e85e8f959e415f3",
            "value": 6814
          }
        },
        "86083269860e4954a68fe66376cbebec": {
          "model_module": "@jupyter-widgets/controls",
          "model_name": "HTMLModel",
          "model_module_version": "1.5.0",
          "state": {
            "_dom_classes": [],
            "_model_module": "@jupyter-widgets/controls",
            "_model_module_version": "1.5.0",
            "_model_name": "HTMLModel",
            "_view_count": null,
            "_view_module": "@jupyter-widgets/controls",
            "_view_module_version": "1.5.0",
            "_view_name": "HTMLView",
            "description": "",
            "description_tooltip": null,
            "layout": "IPY_MODEL_0cd7b29f32e54f23863d3ae579e4fbb8",
            "placeholder": "​",
            "style": "IPY_MODEL_78798982b6d94c55a02adf44ec11923f",
            "value": " 6814/6814 [33:51&lt;00:00,  3.82it/s]"
          }
        },
        "1a6b928141bb401681f8ef326879b8a1": {
          "model_module": "@jupyter-widgets/base",
          "model_name": "LayoutModel",
          "model_module_version": "1.2.0",
          "state": {
            "_model_module": "@jupyter-widgets/base",
            "_model_module_version": "1.2.0",
            "_model_name": "LayoutModel",
            "_view_count": null,
            "_view_module": "@jupyter-widgets/base",
            "_view_module_version": "1.2.0",
            "_view_name": "LayoutView",
            "align_content": null,
            "align_items": null,
            "align_self": null,
            "border": null,
            "bottom": null,
            "display": null,
            "flex": null,
            "flex_flow": null,
            "grid_area": null,
            "grid_auto_columns": null,
            "grid_auto_flow": null,
            "grid_auto_rows": null,
            "grid_column": null,
            "grid_gap": null,
            "grid_row": null,
            "grid_template_areas": null,
            "grid_template_columns": null,
            "grid_template_rows": null,
            "height": null,
            "justify_content": null,
            "justify_items": null,
            "left": null,
            "margin": null,
            "max_height": null,
            "max_width": null,
            "min_height": null,
            "min_width": null,
            "object_fit": null,
            "object_position": null,
            "order": null,
            "overflow": null,
            "overflow_x": null,
            "overflow_y": null,
            "padding": null,
            "right": null,
            "top": null,
            "visibility": null,
            "width": null
          }
        },
        "bea3bcfe04b44d5292ebf375d7a623c4": {
          "model_module": "@jupyter-widgets/base",
          "model_name": "LayoutModel",
          "model_module_version": "1.2.0",
          "state": {
            "_model_module": "@jupyter-widgets/base",
            "_model_module_version": "1.2.0",
            "_model_name": "LayoutModel",
            "_view_count": null,
            "_view_module": "@jupyter-widgets/base",
            "_view_module_version": "1.2.0",
            "_view_name": "LayoutView",
            "align_content": null,
            "align_items": null,
            "align_self": null,
            "border": null,
            "bottom": null,
            "display": null,
            "flex": null,
            "flex_flow": null,
            "grid_area": null,
            "grid_auto_columns": null,
            "grid_auto_flow": null,
            "grid_auto_rows": null,
            "grid_column": null,
            "grid_gap": null,
            "grid_row": null,
            "grid_template_areas": null,
            "grid_template_columns": null,
            "grid_template_rows": null,
            "height": null,
            "justify_content": null,
            "justify_items": null,
            "left": null,
            "margin": null,
            "max_height": null,
            "max_width": null,
            "min_height": null,
            "min_width": null,
            "object_fit": null,
            "object_position": null,
            "order": null,
            "overflow": null,
            "overflow_x": null,
            "overflow_y": null,
            "padding": null,
            "right": null,
            "top": null,
            "visibility": null,
            "width": null
          }
        },
        "5f4e7e8768624e1da51e41cd02f84d97": {
          "model_module": "@jupyter-widgets/controls",
          "model_name": "DescriptionStyleModel",
          "model_module_version": "1.5.0",
          "state": {
            "_model_module": "@jupyter-widgets/controls",
            "_model_module_version": "1.5.0",
            "_model_name": "DescriptionStyleModel",
            "_view_count": null,
            "_view_module": "@jupyter-widgets/base",
            "_view_module_version": "1.2.0",
            "_view_name": "StyleView",
            "description_width": ""
          }
        },
        "1db605fbc303412c8f731ff358aeb247": {
          "model_module": "@jupyter-widgets/base",
          "model_name": "LayoutModel",
          "model_module_version": "1.2.0",
          "state": {
            "_model_module": "@jupyter-widgets/base",
            "_model_module_version": "1.2.0",
            "_model_name": "LayoutModel",
            "_view_count": null,
            "_view_module": "@jupyter-widgets/base",
            "_view_module_version": "1.2.0",
            "_view_name": "LayoutView",
            "align_content": null,
            "align_items": null,
            "align_self": null,
            "border": null,
            "bottom": null,
            "display": null,
            "flex": null,
            "flex_flow": null,
            "grid_area": null,
            "grid_auto_columns": null,
            "grid_auto_flow": null,
            "grid_auto_rows": null,
            "grid_column": null,
            "grid_gap": null,
            "grid_row": null,
            "grid_template_areas": null,
            "grid_template_columns": null,
            "grid_template_rows": null,
            "height": null,
            "justify_content": null,
            "justify_items": null,
            "left": null,
            "margin": null,
            "max_height": null,
            "max_width": null,
            "min_height": null,
            "min_width": null,
            "object_fit": null,
            "object_position": null,
            "order": null,
            "overflow": null,
            "overflow_x": null,
            "overflow_y": null,
            "padding": null,
            "right": null,
            "top": null,
            "visibility": null,
            "width": null
          }
        },
        "841ec6c54c5e40fc8e85e8f959e415f3": {
          "model_module": "@jupyter-widgets/controls",
          "model_name": "ProgressStyleModel",
          "model_module_version": "1.5.0",
          "state": {
            "_model_module": "@jupyter-widgets/controls",
            "_model_module_version": "1.5.0",
            "_model_name": "ProgressStyleModel",
            "_view_count": null,
            "_view_module": "@jupyter-widgets/base",
            "_view_module_version": "1.2.0",
            "_view_name": "StyleView",
            "bar_color": null,
            "description_width": ""
          }
        },
        "0cd7b29f32e54f23863d3ae579e4fbb8": {
          "model_module": "@jupyter-widgets/base",
          "model_name": "LayoutModel",
          "model_module_version": "1.2.0",
          "state": {
            "_model_module": "@jupyter-widgets/base",
            "_model_module_version": "1.2.0",
            "_model_name": "LayoutModel",
            "_view_count": null,
            "_view_module": "@jupyter-widgets/base",
            "_view_module_version": "1.2.0",
            "_view_name": "LayoutView",
            "align_content": null,
            "align_items": null,
            "align_self": null,
            "border": null,
            "bottom": null,
            "display": null,
            "flex": null,
            "flex_flow": null,
            "grid_area": null,
            "grid_auto_columns": null,
            "grid_auto_flow": null,
            "grid_auto_rows": null,
            "grid_column": null,
            "grid_gap": null,
            "grid_row": null,
            "grid_template_areas": null,
            "grid_template_columns": null,
            "grid_template_rows": null,
            "height": null,
            "justify_content": null,
            "justify_items": null,
            "left": null,
            "margin": null,
            "max_height": null,
            "max_width": null,
            "min_height": null,
            "min_width": null,
            "object_fit": null,
            "object_position": null,
            "order": null,
            "overflow": null,
            "overflow_x": null,
            "overflow_y": null,
            "padding": null,
            "right": null,
            "top": null,
            "visibility": null,
            "width": null
          }
        },
        "78798982b6d94c55a02adf44ec11923f": {
          "model_module": "@jupyter-widgets/controls",
          "model_name": "DescriptionStyleModel",
          "model_module_version": "1.5.0",
          "state": {
            "_model_module": "@jupyter-widgets/controls",
            "_model_module_version": "1.5.0",
            "_model_name": "DescriptionStyleModel",
            "_view_count": null,
            "_view_module": "@jupyter-widgets/base",
            "_view_module_version": "1.2.0",
            "_view_name": "StyleView",
            "description_width": ""
          }
        },
        "bc453661aff84ec49bb52e75268cca06": {
          "model_module": "@jupyter-widgets/controls",
          "model_name": "HBoxModel",
          "model_module_version": "1.5.0",
          "state": {
            "_dom_classes": [],
            "_model_module": "@jupyter-widgets/controls",
            "_model_module_version": "1.5.0",
            "_model_name": "HBoxModel",
            "_view_count": null,
            "_view_module": "@jupyter-widgets/controls",
            "_view_module_version": "1.5.0",
            "_view_name": "HBoxView",
            "box_style": "",
            "children": [
              "IPY_MODEL_b207700a46214b0a98036686a80b9631",
              "IPY_MODEL_ac025d6d06db4f97b31f9648261b8154",
              "IPY_MODEL_527a7c67ea364d8297e2210d8b6f3fe2"
            ],
            "layout": "IPY_MODEL_da58e81c52104842a9b157657413d86f"
          }
        },
        "b207700a46214b0a98036686a80b9631": {
          "model_module": "@jupyter-widgets/controls",
          "model_name": "HTMLModel",
          "model_module_version": "1.5.0",
          "state": {
            "_dom_classes": [],
            "_model_module": "@jupyter-widgets/controls",
            "_model_module_version": "1.5.0",
            "_model_name": "HTMLModel",
            "_view_count": null,
            "_view_module": "@jupyter-widgets/controls",
            "_view_module_version": "1.5.0",
            "_view_name": "HTMLView",
            "description": "",
            "description_tooltip": null,
            "layout": "IPY_MODEL_433948d25d93437680782cd76440d6cb",
            "placeholder": "​",
            "style": "IPY_MODEL_53afb206c36e440296758bedfada419f",
            "value": "100%"
          }
        },
        "ac025d6d06db4f97b31f9648261b8154": {
          "model_module": "@jupyter-widgets/controls",
          "model_name": "FloatProgressModel",
          "model_module_version": "1.5.0",
          "state": {
            "_dom_classes": [],
            "_model_module": "@jupyter-widgets/controls",
            "_model_module_version": "1.5.0",
            "_model_name": "FloatProgressModel",
            "_view_count": null,
            "_view_module": "@jupyter-widgets/controls",
            "_view_module_version": "1.5.0",
            "_view_name": "ProgressView",
            "bar_style": "success",
            "description": "",
            "description_tooltip": null,
            "layout": "IPY_MODEL_730ba12f4e9c4335be8c4dd802a006d0",
            "max": 117,
            "min": 0,
            "orientation": "horizontal",
            "style": "IPY_MODEL_15f6b9561a7c429a9761c95f90a51eaa",
            "value": 117
          }
        },
        "527a7c67ea364d8297e2210d8b6f3fe2": {
          "model_module": "@jupyter-widgets/controls",
          "model_name": "HTMLModel",
          "model_module_version": "1.5.0",
          "state": {
            "_dom_classes": [],
            "_model_module": "@jupyter-widgets/controls",
            "_model_module_version": "1.5.0",
            "_model_name": "HTMLModel",
            "_view_count": null,
            "_view_module": "@jupyter-widgets/controls",
            "_view_module_version": "1.5.0",
            "_view_name": "HTMLView",
            "description": "",
            "description_tooltip": null,
            "layout": "IPY_MODEL_090c9343f3a2438791aea4862450817f",
            "placeholder": "​",
            "style": "IPY_MODEL_2647c9a6bb8c47e8bdf7239ac0d89a72",
            "value": " 117/117 [00:00&lt;00:00, 2161.81it/s]"
          }
        },
        "da58e81c52104842a9b157657413d86f": {
          "model_module": "@jupyter-widgets/base",
          "model_name": "LayoutModel",
          "model_module_version": "1.2.0",
          "state": {
            "_model_module": "@jupyter-widgets/base",
            "_model_module_version": "1.2.0",
            "_model_name": "LayoutModel",
            "_view_count": null,
            "_view_module": "@jupyter-widgets/base",
            "_view_module_version": "1.2.0",
            "_view_name": "LayoutView",
            "align_content": null,
            "align_items": null,
            "align_self": null,
            "border": null,
            "bottom": null,
            "display": null,
            "flex": null,
            "flex_flow": null,
            "grid_area": null,
            "grid_auto_columns": null,
            "grid_auto_flow": null,
            "grid_auto_rows": null,
            "grid_column": null,
            "grid_gap": null,
            "grid_row": null,
            "grid_template_areas": null,
            "grid_template_columns": null,
            "grid_template_rows": null,
            "height": null,
            "justify_content": null,
            "justify_items": null,
            "left": null,
            "margin": null,
            "max_height": null,
            "max_width": null,
            "min_height": null,
            "min_width": null,
            "object_fit": null,
            "object_position": null,
            "order": null,
            "overflow": null,
            "overflow_x": null,
            "overflow_y": null,
            "padding": null,
            "right": null,
            "top": null,
            "visibility": null,
            "width": null
          }
        },
        "433948d25d93437680782cd76440d6cb": {
          "model_module": "@jupyter-widgets/base",
          "model_name": "LayoutModel",
          "model_module_version": "1.2.0",
          "state": {
            "_model_module": "@jupyter-widgets/base",
            "_model_module_version": "1.2.0",
            "_model_name": "LayoutModel",
            "_view_count": null,
            "_view_module": "@jupyter-widgets/base",
            "_view_module_version": "1.2.0",
            "_view_name": "LayoutView",
            "align_content": null,
            "align_items": null,
            "align_self": null,
            "border": null,
            "bottom": null,
            "display": null,
            "flex": null,
            "flex_flow": null,
            "grid_area": null,
            "grid_auto_columns": null,
            "grid_auto_flow": null,
            "grid_auto_rows": null,
            "grid_column": null,
            "grid_gap": null,
            "grid_row": null,
            "grid_template_areas": null,
            "grid_template_columns": null,
            "grid_template_rows": null,
            "height": null,
            "justify_content": null,
            "justify_items": null,
            "left": null,
            "margin": null,
            "max_height": null,
            "max_width": null,
            "min_height": null,
            "min_width": null,
            "object_fit": null,
            "object_position": null,
            "order": null,
            "overflow": null,
            "overflow_x": null,
            "overflow_y": null,
            "padding": null,
            "right": null,
            "top": null,
            "visibility": null,
            "width": null
          }
        },
        "53afb206c36e440296758bedfada419f": {
          "model_module": "@jupyter-widgets/controls",
          "model_name": "DescriptionStyleModel",
          "model_module_version": "1.5.0",
          "state": {
            "_model_module": "@jupyter-widgets/controls",
            "_model_module_version": "1.5.0",
            "_model_name": "DescriptionStyleModel",
            "_view_count": null,
            "_view_module": "@jupyter-widgets/base",
            "_view_module_version": "1.2.0",
            "_view_name": "StyleView",
            "description_width": ""
          }
        },
        "730ba12f4e9c4335be8c4dd802a006d0": {
          "model_module": "@jupyter-widgets/base",
          "model_name": "LayoutModel",
          "model_module_version": "1.2.0",
          "state": {
            "_model_module": "@jupyter-widgets/base",
            "_model_module_version": "1.2.0",
            "_model_name": "LayoutModel",
            "_view_count": null,
            "_view_module": "@jupyter-widgets/base",
            "_view_module_version": "1.2.0",
            "_view_name": "LayoutView",
            "align_content": null,
            "align_items": null,
            "align_self": null,
            "border": null,
            "bottom": null,
            "display": null,
            "flex": null,
            "flex_flow": null,
            "grid_area": null,
            "grid_auto_columns": null,
            "grid_auto_flow": null,
            "grid_auto_rows": null,
            "grid_column": null,
            "grid_gap": null,
            "grid_row": null,
            "grid_template_areas": null,
            "grid_template_columns": null,
            "grid_template_rows": null,
            "height": null,
            "justify_content": null,
            "justify_items": null,
            "left": null,
            "margin": null,
            "max_height": null,
            "max_width": null,
            "min_height": null,
            "min_width": null,
            "object_fit": null,
            "object_position": null,
            "order": null,
            "overflow": null,
            "overflow_x": null,
            "overflow_y": null,
            "padding": null,
            "right": null,
            "top": null,
            "visibility": null,
            "width": null
          }
        },
        "15f6b9561a7c429a9761c95f90a51eaa": {
          "model_module": "@jupyter-widgets/controls",
          "model_name": "ProgressStyleModel",
          "model_module_version": "1.5.0",
          "state": {
            "_model_module": "@jupyter-widgets/controls",
            "_model_module_version": "1.5.0",
            "_model_name": "ProgressStyleModel",
            "_view_count": null,
            "_view_module": "@jupyter-widgets/base",
            "_view_module_version": "1.2.0",
            "_view_name": "StyleView",
            "bar_color": null,
            "description_width": ""
          }
        },
        "090c9343f3a2438791aea4862450817f": {
          "model_module": "@jupyter-widgets/base",
          "model_name": "LayoutModel",
          "model_module_version": "1.2.0",
          "state": {
            "_model_module": "@jupyter-widgets/base",
            "_model_module_version": "1.2.0",
            "_model_name": "LayoutModel",
            "_view_count": null,
            "_view_module": "@jupyter-widgets/base",
            "_view_module_version": "1.2.0",
            "_view_name": "LayoutView",
            "align_content": null,
            "align_items": null,
            "align_self": null,
            "border": null,
            "bottom": null,
            "display": null,
            "flex": null,
            "flex_flow": null,
            "grid_area": null,
            "grid_auto_columns": null,
            "grid_auto_flow": null,
            "grid_auto_rows": null,
            "grid_column": null,
            "grid_gap": null,
            "grid_row": null,
            "grid_template_areas": null,
            "grid_template_columns": null,
            "grid_template_rows": null,
            "height": null,
            "justify_content": null,
            "justify_items": null,
            "left": null,
            "margin": null,
            "max_height": null,
            "max_width": null,
            "min_height": null,
            "min_width": null,
            "object_fit": null,
            "object_position": null,
            "order": null,
            "overflow": null,
            "overflow_x": null,
            "overflow_y": null,
            "padding": null,
            "right": null,
            "top": null,
            "visibility": null,
            "width": null
          }
        },
        "2647c9a6bb8c47e8bdf7239ac0d89a72": {
          "model_module": "@jupyter-widgets/controls",
          "model_name": "DescriptionStyleModel",
          "model_module_version": "1.5.0",
          "state": {
            "_model_module": "@jupyter-widgets/controls",
            "_model_module_version": "1.5.0",
            "_model_name": "DescriptionStyleModel",
            "_view_count": null,
            "_view_module": "@jupyter-widgets/base",
            "_view_module_version": "1.2.0",
            "_view_name": "StyleView",
            "description_width": ""
          }
        }
      }
    },
    "gpuClass": "standard"
  },
  "nbformat": 4,
  "nbformat_minor": 0
}